{
 "cells": [
  {
   "cell_type": "markdown",
   "metadata": {},
   "source": [
    "## Import Libraries"
   ]
  },
  {
   "cell_type": "code",
   "execution_count": 1,
   "metadata": {},
   "outputs": [
    {
     "name": "stderr",
     "output_type": "stream",
     "text": [
      "Using TensorFlow backend.\n"
     ]
    }
   ],
   "source": [
    "import pandas as pd\n",
    "import numpy as np\n",
    "\n",
    "from keras.preprocessing import text, sequence"
   ]
  },
  {
   "cell_type": "markdown",
   "metadata": {},
   "source": [
    "## Reading Trace Matrix - EasyClinic Project"
   ]
  },
  {
   "cell_type": "code",
   "execution_count": 2,
   "metadata": {},
   "outputs": [
    {
     "data": {
      "text/html": [
       "<div>\n",
       "<style scoped>\n",
       "    .dataframe tbody tr th:only-of-type {\n",
       "        vertical-align: middle;\n",
       "    }\n",
       "\n",
       "    .dataframe tbody tr th {\n",
       "        vertical-align: top;\n",
       "    }\n",
       "\n",
       "    .dataframe thead th {\n",
       "        text-align: right;\n",
       "    }\n",
       "</style>\n",
       "<table border=\"1\" class=\"dataframe\">\n",
       "  <thead>\n",
       "    <tr style=\"text-align: right;\">\n",
       "      <th></th>\n",
       "      <th>artf_1</th>\n",
       "      <th>artf_2</th>\n",
       "      <th>link</th>\n",
       "    </tr>\n",
       "  </thead>\n",
       "  <tbody>\n",
       "    <tr>\n",
       "      <th>0</th>\n",
       "      <td>CC_114_SRC</td>\n",
       "      <td>CC_123_TRG</td>\n",
       "      <td>0</td>\n",
       "    </tr>\n",
       "    <tr>\n",
       "      <th>1</th>\n",
       "      <td>CC_114_SRC</td>\n",
       "      <td>CC_124_TRG</td>\n",
       "      <td>0</td>\n",
       "    </tr>\n",
       "    <tr>\n",
       "      <th>2</th>\n",
       "      <td>CC_114_SRC</td>\n",
       "      <td>CC_122_TRG</td>\n",
       "      <td>0</td>\n",
       "    </tr>\n",
       "    <tr>\n",
       "      <th>3</th>\n",
       "      <td>CC_114_SRC</td>\n",
       "      <td>CC_126_TRG</td>\n",
       "      <td>0</td>\n",
       "    </tr>\n",
       "    <tr>\n",
       "      <th>4</th>\n",
       "      <td>CC_114_SRC</td>\n",
       "      <td>CC_127_TRG</td>\n",
       "      <td>0</td>\n",
       "    </tr>\n",
       "  </tbody>\n",
       "</table>\n",
       "</div>"
      ],
      "text/plain": [
       "       artf_1      artf_2  link\n",
       "0  CC_114_SRC  CC_123_TRG     0\n",
       "1  CC_114_SRC  CC_124_TRG     0\n",
       "2  CC_114_SRC  CC_122_TRG     0\n",
       "3  CC_114_SRC  CC_126_TRG     0\n",
       "4  CC_114_SRC  CC_127_TRG     0"
      ]
     },
     "execution_count": 2,
     "metadata": {},
     "output_type": "execute_result"
    }
   ],
   "source": [
    "trace_df = pd.read_csv('../data/EasyClinic/EasyClinicDataset/oracle/output/trace_matrix.csv')\n",
    "\n",
    "trace_df.head()"
   ]
  },
  {
   "cell_type": "code",
   "execution_count": 3,
   "metadata": {},
   "outputs": [
    {
     "name": "stdout",
     "output_type": "stream",
     "text": [
      "No Links Amount: 23528\n",
      "Links Amount: 952\n",
      "----\n",
      "Total Combinations: 24480\n",
      "----\n",
      "No Link Prop: 96.1%\n",
      "Link Prop: 3.89%\n"
     ]
    }
   ],
   "source": [
    "counts = trace_df.link.value_counts()\n",
    "no_link_count = counts[0]\n",
    "link_count = counts[1]\n",
    "total = no_link_count + link_count\n",
    "\n",
    "no_link_prop = no_link_count / total * 100\n",
    "link_prop = link_count / total * 100\n",
    "\n",
    "print('No Links Amount: {}'.format(no_link_count))\n",
    "print('Links Amount: {}'.format(link_count))\n",
    "print('----')\n",
    "print('Total Combinations: {}'.format(total))\n",
    "print('----')\n",
    "print('No Link Prop: {:2.3}%'.format(no_link_prop))\n",
    "print('Link Prop: {:2.3}%'.format(link_prop))"
   ]
  },
  {
   "cell_type": "markdown",
   "metadata": {},
   "source": [
    "## Reading Artifacts Description Dataframe"
   ]
  },
  {
   "cell_type": "code",
   "execution_count": 4,
   "metadata": {},
   "outputs": [
    {
     "name": "stdout",
     "output_type": "stream",
     "text": [
      "Artifacts Dataframe Shape: (313, 2)\n"
     ]
    },
    {
     "data": {
      "text/html": [
       "<div>\n",
       "<style scoped>\n",
       "    .dataframe tbody tr th:only-of-type {\n",
       "        vertical-align: middle;\n",
       "    }\n",
       "\n",
       "    .dataframe tbody tr th {\n",
       "        vertical-align: top;\n",
       "    }\n",
       "\n",
       "    .dataframe thead th {\n",
       "        text-align: right;\n",
       "    }\n",
       "</style>\n",
       "<table border=\"1\" class=\"dataframe\">\n",
       "  <thead>\n",
       "    <tr style=\"text-align: right;\">\n",
       "      <th></th>\n",
       "      <th>artf_name</th>\n",
       "      <th>artf_description</th>\n",
       "    </tr>\n",
       "  </thead>\n",
       "  <tbody>\n",
       "    <tr>\n",
       "      <th>0</th>\n",
       "      <td>CC_114_SRC</td>\n",
       "      <td>Class GUILogin Date: 18/09/2003 \\r\\n          ...</td>\n",
       "    </tr>\n",
       "    <tr>\n",
       "      <th>1</th>\n",
       "      <td>CC_115_SRC</td>\n",
       "      <td>Class GUIPrincipale Date: 18/09/2003 \\r\\n     ...</td>\n",
       "    </tr>\n",
       "    <tr>\n",
       "      <th>2</th>\n",
       "      <td>CC_116_SRC</td>\n",
       "      <td>Class GUIAnagrafica Date: 18/09/2003 \\r\\n     ...</td>\n",
       "    </tr>\n",
       "    <tr>\n",
       "      <th>3</th>\n",
       "      <td>CC_117_SRC</td>\n",
       "      <td>Class GUIPrenotazioni Date: 18/09/2003 \\r\\n   ...</td>\n",
       "    </tr>\n",
       "    <tr>\n",
       "      <th>4</th>\n",
       "      <td>CC_118_SRC</td>\n",
       "      <td>Class GUICartellaClinica Date: 18/09/2003 \\n  ...</td>\n",
       "    </tr>\n",
       "  </tbody>\n",
       "</table>\n",
       "</div>"
      ],
      "text/plain": [
       "    artf_name                                   artf_description\n",
       "0  CC_114_SRC  Class GUILogin Date: 18/09/2003 \\r\\n          ...\n",
       "1  CC_115_SRC  Class GUIPrincipale Date: 18/09/2003 \\r\\n     ...\n",
       "2  CC_116_SRC  Class GUIAnagrafica Date: 18/09/2003 \\r\\n     ...\n",
       "3  CC_117_SRC  Class GUIPrenotazioni Date: 18/09/2003 \\r\\n   ...\n",
       "4  CC_118_SRC  Class GUICartellaClinica Date: 18/09/2003 \\n  ..."
      ]
     },
     "execution_count": 4,
     "metadata": {},
     "output_type": "execute_result"
    }
   ],
   "source": [
    "artifacts_df = pd.read_csv('../data/EasyClinic/EasyClinicDataset/oracle/output/artifacts_descriptions.csv')\n",
    "\n",
    "print(\"Artifacts Dataframe Shape: \" + str(artifacts_df.shape))\n",
    "\n",
    "artifacts_df.head()"
   ]
  },
  {
   "cell_type": "markdown",
   "metadata": {},
   "source": [
    "## Preprocess Text to Create Word Embedding"
   ]
  },
  {
   "cell_type": "code",
   "execution_count": 6,
   "metadata": {},
   "outputs": [
    {
     "data": {
      "text/plain": [
       "(313,)"
      ]
     },
     "execution_count": 6,
     "metadata": {},
     "output_type": "execute_result"
    }
   ],
   "source": [
    "list_sentences_train = artifacts_df[\"artf_description\"].fillna(\"Invalid\").values\n",
    "list_sentences_train.shape"
   ]
  },
  {
   "cell_type": "code",
   "execution_count": 15,
   "metadata": {},
   "outputs": [],
   "source": [
    "MAX_FEATURES = 20000\n",
    "MAX_LEN = max([len(s.split()) for s in list(list_sentences_train)])"
   ]
  },
  {
   "cell_type": "code",
   "execution_count": 16,
   "metadata": {},
   "outputs": [
    {
     "name": "stdout",
     "output_type": "stream",
     "text": [
      "Found 1326 unique tokens.\n"
     ]
    },
    {
     "data": {
      "text/plain": [
       "(313, 698)"
      ]
     },
     "execution_count": 16,
     "metadata": {},
     "output_type": "execute_result"
    }
   ],
   "source": [
    "tokenizer = text.Tokenizer(num_words=MAX_FEATURES)\n",
    "tokenizer.fit_on_texts(list(list_sentences_train))\n",
    "\n",
    "word_index = tokenizer.word_index \n",
    "print('Found %s unique tokens.' % len(word_index))\n",
    "\n",
    "# train data\n",
    "list_tokenized_train = tokenizer.texts_to_sequences(list_sentences_train)\n",
    "X_t = sequence.pad_sequences(list_tokenized_train, maxlen=MAX_LEN)\n",
    "X_t.shape"
   ]
  },
  {
   "cell_type": "code",
   "execution_count": null,
   "metadata": {},
   "outputs": [],
   "source": []
  },
  {
   "cell_type": "code",
   "execution_count": null,
   "metadata": {},
   "outputs": [],
   "source": []
  },
  {
   "cell_type": "markdown",
   "metadata": {},
   "source": [
    "## Model"
   ]
  },
  {
   "cell_type": "code",
   "execution_count": null,
   "metadata": {},
   "outputs": [],
   "source": [
    "# define model\n",
    "model = Sequential()\n",
    "model.add(Embedding(vocab_size, 400, input_length=max_length))\n",
    "model.add(Conv1D(filters=32, kernel_size=8, activation='relu'))\n",
    "model.add(MaxPooling1D(pool_size=2))\n",
    "model.add(Flatten())\n",
    "model.add(Dense(10, activation='relu'))\n",
    "model.add(Dense(1, activation='sigmoid'))\n",
    "print(model.summary())"
   ]
  }
 ],
 "metadata": {
  "kernelspec": {
   "display_name": "Python 3",
   "language": "python",
   "name": "python3"
  },
  "language_info": {
   "codemirror_mode": {
    "name": "ipython",
    "version": 3
   },
   "file_extension": ".py",
   "mimetype": "text/x-python",
   "name": "python",
   "nbconvert_exporter": "python",
   "pygments_lexer": "ipython3",
   "version": "3.6.6"
  }
 },
 "nbformat": 4,
 "nbformat_minor": 2
}

{
 "cells": [
  {
   "cell_type": "markdown",
   "metadata": {},
   "source": [
    "# Introduction\n",
    "\n",
    "In this notebook we demonstrate the use of an **Ensemble Model**, based on **Logistic Regression** model, in the Information Retrieval context to make trace link recovery between Use Cases and Bug Reports.\n",
    "\n",
    "We model our study as follows:\n",
    "\n",
    "* Each bug report title, summary and description compose a single query.\n",
    "* We use each use case content as an entire document that must be returned to the query made"
   ]
  },
  {
   "cell_type": "markdown",
   "metadata": {},
   "source": [
    "## Import Libraries"
   ]
  },
  {
   "cell_type": "code",
   "execution_count": 53,
   "metadata": {},
   "outputs": [],
   "source": [
    "import pandas as pd\n",
    "import numpy as np\n",
    "import seaborn as sns\n",
    "\n",
    "from sklearn.model_selection import train_test_split\n",
    "from sklearn.metrics import recall_score, precision_score, f1_score\n",
    "from sklearn.linear_model import LogisticRegressionCV\n",
    "\n",
    "#from utils import plots\n",
    "from utils import oracle_loader as ol\n",
    "from utils import jedit_dataset as jd"
   ]
  },
  {
   "cell_type": "markdown",
   "metadata": {},
   "source": [
    "## Load Dataset and Preprocessing"
   ]
  },
  {
   "cell_type": "code",
   "execution_count": 54,
   "metadata": {},
   "outputs": [],
   "source": [
    "trace_df = jd.read_trace_df()\n",
    "artfs_desc_df = jd.read_artfs_desc_df()\n",
    "\n",
    "use_cases_df = artfs_desc_df[artfs_desc_df.artf_description.str.contains('Use Case ID')]\n",
    "bug_reports_df = artfs_desc_df[artfs_desc_df.artf_description.str.contains('Bug Number')]\n",
    "\n",
    "corpus = use_cases_df.artf_description\n",
    "query = bug_reports_df.artf_description\n",
    "\n",
    "use_cases_names = use_cases_df.artf_name\n",
    "bug_reports_names = bug_reports_df.artf_name\n",
    "\n",
    "orc = ol.OracleLoader(use_cases_names, bug_reports_names)\n",
    "orc.load(trace_df)"
   ]
  },
  {
   "cell_type": "markdown",
   "metadata": {},
   "source": [
    "## Load Models Results"
   ]
  },
  {
   "cell_type": "code",
   "execution_count": 55,
   "metadata": {},
   "outputs": [],
   "source": [
    "lsi_results_df = pd.read_csv('best_models_sim_matrix/lsi.csv')\n",
    "lda_results_df = pd.read_csv('best_models_sim_matrix/lda.csv')\n",
    "bm25_results_df = pd.read_csv('best_models_sim_matrix/bm25.csv')\n",
    "wv_results_df = pd.read_csv('best_models_sim_matrix/wordvector.csv')\n",
    "\n",
    "lsi_results_df.set_index('artf_name', inplace=True)\n",
    "lda_results_df.set_index('artf_name', inplace=True)\n",
    "bm25_results_df.set_index('artf_name', inplace=True)\n",
    "wv_results_df.set_index('artf_name', inplace=True)"
   ]
  },
  {
   "cell_type": "markdown",
   "metadata": {},
   "source": [
    "### Tranform Results Matrices to Vectors"
   ]
  },
  {
   "cell_type": "code",
   "execution_count": 56,
   "metadata": {},
   "outputs": [],
   "source": [
    "def transform_sim_matrix_to_sim_vec(sim_matrix_df, model_name):\n",
    "    sim_vec_df = pd.DataFrame(columns=[model_name])\n",
    "    for col in sim_matrix_df.columns:\n",
    "        for idx, row in sim_matrix_df.iterrows():\n",
    "            artfs_names = '{}_{}'.format(idx, col)\n",
    "            sim_vec_df.at[artfs_names, model_name] = row[col]\n",
    "    return sim_vec_df\n",
    "\n",
    "sim_vec_lsi = transform_sim_matrix_to_sim_vec(lsi_results_df, 'lsi')\n",
    "sim_vec_lda = transform_sim_matrix_to_sim_vec(lda_results_df, 'lda')\n",
    "sim_vec_bm25 = transform_sim_matrix_to_sim_vec(bm25_results_df, 'bm25')\n",
    "sim_vec_wv = transform_sim_matrix_to_sim_vec(wv_results_df, 'wv')"
   ]
  },
  {
   "cell_type": "markdown",
   "metadata": {},
   "source": [
    "### Transform Vectors to DataFrame"
   ]
  },
  {
   "cell_type": "code",
   "execution_count": 57,
   "metadata": {},
   "outputs": [
    {
     "data": {
      "text/html": [
       "<div>\n",
       "<style scoped>\n",
       "    .dataframe tbody tr th:only-of-type {\n",
       "        vertical-align: middle;\n",
       "    }\n",
       "\n",
       "    .dataframe tbody tr th {\n",
       "        vertical-align: top;\n",
       "    }\n",
       "\n",
       "    .dataframe thead th {\n",
       "        text-align: right;\n",
       "    }\n",
       "</style>\n",
       "<table border=\"1\" class=\"dataframe\">\n",
       "  <thead>\n",
       "    <tr style=\"text-align: right;\">\n",
       "      <th></th>\n",
       "      <th>lsi</th>\n",
       "      <th>lda</th>\n",
       "      <th>bm25</th>\n",
       "      <th>wv</th>\n",
       "      <th>ens_pred</th>\n",
       "    </tr>\n",
       "  </thead>\n",
       "  <tbody>\n",
       "    <tr>\n",
       "      <th>UC_003_TRG_BR_4020_SRC</th>\n",
       "      <td>0.361541</td>\n",
       "      <td>0.988073</td>\n",
       "      <td>7.08953</td>\n",
       "      <td>0.922483</td>\n",
       "      <td>NaN</td>\n",
       "    </tr>\n",
       "    <tr>\n",
       "      <th>UC_007_TRG_BR_4020_SRC</th>\n",
       "      <td>0.46841</td>\n",
       "      <td>0.9881</td>\n",
       "      <td>9.83479</td>\n",
       "      <td>0.878566</td>\n",
       "      <td>NaN</td>\n",
       "    </tr>\n",
       "    <tr>\n",
       "      <th>UC_010_TRG_BR_4020_SRC</th>\n",
       "      <td>0.690679</td>\n",
       "      <td>0.154894</td>\n",
       "      <td>16.8103</td>\n",
       "      <td>0.906589</td>\n",
       "      <td>NaN</td>\n",
       "    </tr>\n",
       "    <tr>\n",
       "      <th>UC_002_TRG_BR_4020_SRC</th>\n",
       "      <td>0.897997</td>\n",
       "      <td>0.988134</td>\n",
       "      <td>5.33088</td>\n",
       "      <td>0.923327</td>\n",
       "      <td>NaN</td>\n",
       "    </tr>\n",
       "    <tr>\n",
       "      <th>UC_006_TRG_BR_4020_SRC</th>\n",
       "      <td>0.911746</td>\n",
       "      <td>0.988105</td>\n",
       "      <td>5.08051</td>\n",
       "      <td>0.924785</td>\n",
       "      <td>NaN</td>\n",
       "    </tr>\n",
       "  </tbody>\n",
       "</table>\n",
       "</div>"
      ],
      "text/plain": [
       "                             lsi       lda     bm25        wv ens_pred\n",
       "UC_003_TRG_BR_4020_SRC  0.361541  0.988073  7.08953  0.922483      NaN\n",
       "UC_007_TRG_BR_4020_SRC   0.46841    0.9881  9.83479  0.878566      NaN\n",
       "UC_010_TRG_BR_4020_SRC  0.690679  0.154894  16.8103  0.906589      NaN\n",
       "UC_002_TRG_BR_4020_SRC  0.897997  0.988134  5.33088  0.923327      NaN\n",
       "UC_006_TRG_BR_4020_SRC  0.911746  0.988105  5.08051  0.924785      NaN"
      ]
     },
     "execution_count": 57,
     "metadata": {},
     "output_type": "execute_result"
    }
   ],
   "source": [
    "ensemble_input_df = pd.DataFrame(columns=['ens_pred'], index=sim_vec_lsi.index)\n",
    "\n",
    "out_df = pd.merge(ensemble_input_df, sim_vec_lsi, left_index=True, right_index=True)\n",
    "out_df = pd.merge(out_df, sim_vec_lda, left_index=True, right_index=True)\n",
    "out_df = pd.merge(out_df, sim_vec_bm25, left_index=True, right_index=True)\n",
    "out_df = pd.merge(out_df, sim_vec_wv, left_index=True, right_index=True)\n",
    "\n",
    "new_order = [1,2,3,4,0]\n",
    "out_df = out_df[out_df.columns[new_order]]\n",
    "\n",
    "ensemble_input_df = out_df.copy()\n",
    "ensemble_input_df.head()"
   ]
  },
  {
   "cell_type": "markdown",
   "metadata": {},
   "source": [
    "### Insert Oracle Data"
   ]
  },
  {
   "cell_type": "code",
   "execution_count": 58,
   "metadata": {},
   "outputs": [
    {
     "data": {
      "text/html": [
       "<div>\n",
       "<style scoped>\n",
       "    .dataframe tbody tr th:only-of-type {\n",
       "        vertical-align: middle;\n",
       "    }\n",
       "\n",
       "    .dataframe tbody tr th {\n",
       "        vertical-align: top;\n",
       "    }\n",
       "\n",
       "    .dataframe thead th {\n",
       "        text-align: right;\n",
       "    }\n",
       "</style>\n",
       "<table border=\"1\" class=\"dataframe\">\n",
       "  <thead>\n",
       "    <tr style=\"text-align: right;\">\n",
       "      <th></th>\n",
       "      <th>lsi</th>\n",
       "      <th>lda</th>\n",
       "      <th>bm25</th>\n",
       "      <th>wv</th>\n",
       "      <th>oracle</th>\n",
       "      <th>ens_pred</th>\n",
       "    </tr>\n",
       "  </thead>\n",
       "  <tbody>\n",
       "    <tr>\n",
       "      <th>UC_003_TRG_BR_4020_SRC</th>\n",
       "      <td>0.361541</td>\n",
       "      <td>0.988073</td>\n",
       "      <td>7.08953</td>\n",
       "      <td>0.922483</td>\n",
       "      <td>0.0</td>\n",
       "      <td>NaN</td>\n",
       "    </tr>\n",
       "    <tr>\n",
       "      <th>UC_007_TRG_BR_4020_SRC</th>\n",
       "      <td>0.46841</td>\n",
       "      <td>0.9881</td>\n",
       "      <td>9.83479</td>\n",
       "      <td>0.878566</td>\n",
       "      <td>0.0</td>\n",
       "      <td>NaN</td>\n",
       "    </tr>\n",
       "    <tr>\n",
       "      <th>UC_010_TRG_BR_4020_SRC</th>\n",
       "      <td>0.690679</td>\n",
       "      <td>0.154894</td>\n",
       "      <td>16.8103</td>\n",
       "      <td>0.906589</td>\n",
       "      <td>0.0</td>\n",
       "      <td>NaN</td>\n",
       "    </tr>\n",
       "    <tr>\n",
       "      <th>UC_002_TRG_BR_4020_SRC</th>\n",
       "      <td>0.897997</td>\n",
       "      <td>0.988134</td>\n",
       "      <td>5.33088</td>\n",
       "      <td>0.923327</td>\n",
       "      <td>0.0</td>\n",
       "      <td>NaN</td>\n",
       "    </tr>\n",
       "    <tr>\n",
       "      <th>UC_006_TRG_BR_4020_SRC</th>\n",
       "      <td>0.911746</td>\n",
       "      <td>0.988105</td>\n",
       "      <td>5.08051</td>\n",
       "      <td>0.924785</td>\n",
       "      <td>1.0</td>\n",
       "      <td>NaN</td>\n",
       "    </tr>\n",
       "  </tbody>\n",
       "</table>\n",
       "</div>"
      ],
      "text/plain": [
       "                             lsi       lda     bm25        wv  oracle ens_pred\n",
       "UC_003_TRG_BR_4020_SRC  0.361541  0.988073  7.08953  0.922483     0.0      NaN\n",
       "UC_007_TRG_BR_4020_SRC   0.46841    0.9881  9.83479  0.878566     0.0      NaN\n",
       "UC_010_TRG_BR_4020_SRC  0.690679  0.154894  16.8103  0.906589     0.0      NaN\n",
       "UC_002_TRG_BR_4020_SRC  0.897997  0.988134  5.33088  0.923327     0.0      NaN\n",
       "UC_006_TRG_BR_4020_SRC  0.911746  0.988105  5.08051  0.924785     1.0      NaN"
      ]
     },
     "execution_count": 58,
     "metadata": {},
     "output_type": "execute_result"
    }
   ],
   "source": [
    "orc_vec_df = transform_sim_matrix_to_sim_vec(orc.oracle, 'oracle')\n",
    "\n",
    "ensemble_input_df = pd.merge(ensemble_input_df, orc_vec_df, left_index=True, right_index=True)\n",
    "\n",
    "new_order = [0,1,2,3,5,4]\n",
    "ensemble_input_df = ensemble_input_df[ensemble_input_df.columns[new_order]]\n",
    "\n",
    "ensemble_input_df.head()"
   ]
  },
  {
   "cell_type": "markdown",
   "metadata": {},
   "source": [
    "### Split Data on Train and Test"
   ]
  },
  {
   "cell_type": "code",
   "execution_count": 59,
   "metadata": {},
   "outputs": [],
   "source": [
    "X = ensemble_input_df[['lsi','lda','bm25','wv']]\n",
    "y = ensemble_input_df['oracle']\n",
    "\n",
    "X_train, X_test, y_train, y_test = train_test_split(X, y, test_size=0.4, random_state=42)"
   ]
  },
  {
   "cell_type": "markdown",
   "metadata": {},
   "source": [
    "### Calculate Scores Function"
   ]
  },
  {
   "cell_type": "code",
   "execution_count": 60,
   "metadata": {},
   "outputs": [],
   "source": [
    "def calculate_scores(model):\n",
    "    model = model.fit(X_train, y_train)\n",
    "    dd = pd.DataFrame(index=X_test.index, columns=['orc', 'pred'])\n",
    "    dd['orc'] = np.array(y_test)\n",
    "    dd['pred'] = model.predict(X_test)\n",
    "    \n",
    "    precision = precision_score(y_true=dd['orc'], y_pred=dd['pred'])\n",
    "    recall = recall_score(y_true=dd['orc'], y_pred=dd['pred'])\n",
    "    fscore = f1_score(y_true=dd['orc'], y_pred=dd['pred'])\n",
    "    \n",
    "    return [precision, recall, fscore]"
   ]
  },
  {
   "cell_type": "markdown",
   "metadata": {},
   "source": [
    "### Logistic Regressor"
   ]
  },
  {
   "cell_type": "code",
   "execution_count": 61,
   "metadata": {},
   "outputs": [
    {
     "name": "stdout",
     "output_type": "stream",
     "text": [
      "Recall: 0.444\n",
      "Precision: 0.8\n",
      "F-Score 0.571\n"
     ]
    }
   ],
   "source": [
    "model = LogisticRegressionCV(cv=3, scoring='recall')\n",
    "p,r,f = calculate_scores(model)\n",
    "\n",
    "print('Recall: {:2.3}'.format(r))\n",
    "print('Precision: {:2.3}'.format(p))\n",
    "print('F-Score {:2.3}'.format(f))"
   ]
  },
  {
   "cell_type": "code",
   "execution_count": 62,
   "metadata": {},
   "outputs": [
    {
     "data": {
      "text/plain": [
       "array([[10.4452324 , 21.1194777 ,  0.08605471, -4.63107383]])"
      ]
     },
     "execution_count": 62,
     "metadata": {},
     "output_type": "execute_result"
    }
   ],
   "source": [
    "model.coef_"
   ]
  },
  {
   "cell_type": "markdown",
   "metadata": {},
   "source": [
    "### KNN"
   ]
  },
  {
   "cell_type": "raw",
   "metadata": {},
   "source": [
    "X_train.shape, y_train.shape"
   ]
  },
  {
   "cell_type": "raw",
   "metadata": {},
   "source": [
    "X_test.shape, y_test.shape"
   ]
  },
  {
   "cell_type": "raw",
   "metadata": {},
   "source": [
    "from sklearn.neighbors import KNeighborsClassifier\n",
    "import mglearn\n",
    "\n",
    "fig, axes = plt.subplots(1, 3, figsize=(10, 3))\n",
    "for n_neighbors, ax in zip([1, 3, 9], axes):\n",
    "    clf = KNeighborsClassifier(n_neighbors=n_neighbors).fit(X_test, y_test)\n",
    "    #X = X_test.as_matrix()\n",
    "    #print(X.shape)\n",
    "    mglearn.plots.plot_2d_separator(clf, X_test.as_matrix()[[1,2]], fill=True, eps=0.5, ax=ax, alpha=.4)\n",
    "    mglearn.discrete_scatter(X_test.iloc[:, 0], X_test.iloc[:, 1], y_test.reshape(1,-1), ax=ax)\n",
    "    ax.set_title(\"{} neighbor(s)\".format(n_neighbors))\n",
    "    ax.set_xlabel(\"feature 0\")\n",
    "    ax.set_ylabel(\"feature 1\")\n",
    "axes[0].legend(loc=3)"
   ]
  },
  {
   "cell_type": "raw",
   "metadata": {},
   "source": [
    "from sklearn.datasets import make_blobs\n",
    "from sklearn.linear_model import LogisticRegression\n",
    "from mglearn.plot_2d_separator import *\n",
    "\n",
    "X, y = make_blobs(centers=2)\n",
    "\n",
    "print(type(X), type(y))\n",
    "\n",
    "clf = LogisticRegression().fit(X, y)\n",
    "plot_2d_separator(clf, X, fill=True)\n",
    "discrete_scatter(X[:, 0], X[:, 1], y)\n",
    "plt.show()"
   ]
  }
 ],
 "metadata": {
  "kernelspec": {
   "display_name": "Python 3",
   "language": "python",
   "name": "python3"
  },
  "language_info": {
   "codemirror_mode": {
    "name": "ipython",
    "version": 3
   },
   "file_extension": ".py",
   "mimetype": "text/x-python",
   "name": "python",
   "nbconvert_exporter": "python",
   "pygments_lexer": "ipython3",
   "version": "3.6.6"
  }
 },
 "nbformat": 4,
 "nbformat_minor": 2
}

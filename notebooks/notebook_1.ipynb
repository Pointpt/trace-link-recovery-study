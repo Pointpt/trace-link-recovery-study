{
 "cells": [
  {
   "cell_type": "markdown",
   "metadata": {},
   "source": [
    "## Import Libraries"
   ]
  },
  {
   "cell_type": "code",
   "execution_count": 1,
   "metadata": {},
   "outputs": [],
   "source": [
    "import pandas as pd"
   ]
  },
  {
   "cell_type": "markdown",
   "metadata": {},
   "source": [
    "## Reading Trace Matrix - EasyClinic Project"
   ]
  },
  {
   "cell_type": "code",
   "execution_count": 2,
   "metadata": {},
   "outputs": [
    {
     "data": {
      "text/html": [
       "<div>\n",
       "<style scoped>\n",
       "    .dataframe tbody tr th:only-of-type {\n",
       "        vertical-align: middle;\n",
       "    }\n",
       "\n",
       "    .dataframe tbody tr th {\n",
       "        vertical-align: top;\n",
       "    }\n",
       "\n",
       "    .dataframe thead th {\n",
       "        text-align: right;\n",
       "    }\n",
       "</style>\n",
       "<table border=\"1\" class=\"dataframe\">\n",
       "  <thead>\n",
       "    <tr style=\"text-align: right;\">\n",
       "      <th></th>\n",
       "      <th>artf_1</th>\n",
       "      <th>artf_2</th>\n",
       "      <th>link</th>\n",
       "    </tr>\n",
       "  </thead>\n",
       "  <tbody>\n",
       "    <tr>\n",
       "      <th>0</th>\n",
       "      <td>CC_114_SRC</td>\n",
       "      <td>CC_123_TRG</td>\n",
       "      <td>0</td>\n",
       "    </tr>\n",
       "    <tr>\n",
       "      <th>1</th>\n",
       "      <td>CC_114_SRC</td>\n",
       "      <td>CC_124_TRG</td>\n",
       "      <td>0</td>\n",
       "    </tr>\n",
       "    <tr>\n",
       "      <th>2</th>\n",
       "      <td>CC_114_SRC</td>\n",
       "      <td>CC_122_TRG</td>\n",
       "      <td>0</td>\n",
       "    </tr>\n",
       "    <tr>\n",
       "      <th>3</th>\n",
       "      <td>CC_114_SRC</td>\n",
       "      <td>CC_126_TRG</td>\n",
       "      <td>0</td>\n",
       "    </tr>\n",
       "    <tr>\n",
       "      <th>4</th>\n",
       "      <td>CC_114_SRC</td>\n",
       "      <td>CC_127_TRG</td>\n",
       "      <td>0</td>\n",
       "    </tr>\n",
       "  </tbody>\n",
       "</table>\n",
       "</div>"
      ],
      "text/plain": [
       "       artf_1      artf_2  link\n",
       "0  CC_114_SRC  CC_123_TRG     0\n",
       "1  CC_114_SRC  CC_124_TRG     0\n",
       "2  CC_114_SRC  CC_122_TRG     0\n",
       "3  CC_114_SRC  CC_126_TRG     0\n",
       "4  CC_114_SRC  CC_127_TRG     0"
      ]
     },
     "execution_count": 2,
     "metadata": {},
     "output_type": "execute_result"
    }
   ],
   "source": [
    "trace_df = pd.read_csv('../data/EasyClinic/EasyClinicDataset/oracle/output/trace_matrix.csv')\n",
    "\n",
    "trace_df.head()"
   ]
  },
  {
   "cell_type": "code",
   "execution_count": 3,
   "metadata": {},
   "outputs": [
    {
     "name": "stdout",
     "output_type": "stream",
     "text": [
      "No Links Amount: 23848\n",
      "Links Amount: 952\n",
      "----\n",
      "Total Combinations: 24800\n",
      "----\n",
      "No Link Prop: 96.2%\n",
      "Link Prop: 3.84%\n"
     ]
    }
   ],
   "source": [
    "counts = trace_df.link.value_counts()\n",
    "no_link_count = counts[0]\n",
    "link_count = counts[1]\n",
    "total = no_link_count + link_count\n",
    "\n",
    "no_link_prop = no_link_count / total * 100\n",
    "link_prop = link_count / total * 100\n",
    "\n",
    "print('No Links Amount: {}'.format(no_link_count))\n",
    "print('Links Amount: {}'.format(link_count))\n",
    "print('----')\n",
    "print('Total Combinations: {}'.format(total))\n",
    "print('----')\n",
    "print('No Link Prop: {:2.3}%'.format(no_link_prop))\n",
    "print('Link Prop: {:2.3}%'.format(link_prop))"
   ]
  },
  {
   "cell_type": "markdown",
   "metadata": {},
   "source": [
    "## Reading Artifacts Description Dataframe"
   ]
  },
  {
   "cell_type": "code",
   "execution_count": 10,
   "metadata": {},
   "outputs": [
    {
     "name": "stdout",
     "output_type": "stream",
     "text": [
      "Artifacts Dataframe Shape: (313, 2)\n"
     ]
    },
    {
     "data": {
      "text/html": [
       "<div>\n",
       "<style scoped>\n",
       "    .dataframe tbody tr th:only-of-type {\n",
       "        vertical-align: middle;\n",
       "    }\n",
       "\n",
       "    .dataframe tbody tr th {\n",
       "        vertical-align: top;\n",
       "    }\n",
       "\n",
       "    .dataframe thead th {\n",
       "        text-align: right;\n",
       "    }\n",
       "</style>\n",
       "<table border=\"1\" class=\"dataframe\">\n",
       "  <thead>\n",
       "    <tr style=\"text-align: right;\">\n",
       "      <th></th>\n",
       "      <th>artf_name</th>\n",
       "      <th>artf_description</th>\n",
       "    </tr>\n",
       "  </thead>\n",
       "  <tbody>\n",
       "    <tr>\n",
       "      <th>0</th>\n",
       "      <td>CC_114_SRC</td>\n",
       "      <td>Class GUILogin Date: 18/09/2003 \\r\\n          ...</td>\n",
       "    </tr>\n",
       "    <tr>\n",
       "      <th>1</th>\n",
       "      <td>CC_115_SRC</td>\n",
       "      <td>Class GUIPrincipale Date: 18/09/2003 \\r\\n     ...</td>\n",
       "    </tr>\n",
       "    <tr>\n",
       "      <th>2</th>\n",
       "      <td>CC_116_SRC</td>\n",
       "      <td>Class GUIAnagrafica Date: 18/09/2003 \\r\\n     ...</td>\n",
       "    </tr>\n",
       "    <tr>\n",
       "      <th>3</th>\n",
       "      <td>CC_117_SRC</td>\n",
       "      <td>Class GUIPrenotazioni Date: 18/09/2003 \\r\\n   ...</td>\n",
       "    </tr>\n",
       "    <tr>\n",
       "      <th>4</th>\n",
       "      <td>CC_118_SRC</td>\n",
       "      <td>Class GUICartellaClinica Date: 18/09/2003 \\n  ...</td>\n",
       "    </tr>\n",
       "  </tbody>\n",
       "</table>\n",
       "</div>"
      ],
      "text/plain": [
       "    artf_name                                   artf_description\n",
       "0  CC_114_SRC  Class GUILogin Date: 18/09/2003 \\r\\n          ...\n",
       "1  CC_115_SRC  Class GUIPrincipale Date: 18/09/2003 \\r\\n     ...\n",
       "2  CC_116_SRC  Class GUIAnagrafica Date: 18/09/2003 \\r\\n     ...\n",
       "3  CC_117_SRC  Class GUIPrenotazioni Date: 18/09/2003 \\r\\n   ...\n",
       "4  CC_118_SRC  Class GUICartellaClinica Date: 18/09/2003 \\n  ..."
      ]
     },
     "execution_count": 10,
     "metadata": {},
     "output_type": "execute_result"
    }
   ],
   "source": [
    "artifacts_df = pd.read_csv('../data/EasyClinic/EasyClinicDataset/oracle/output/artifacts_descriptions.csv')\n",
    "\n",
    "print(\"Artifacts Dataframe Shape: \" + str(artifacts_df.shape))\n",
    "\n",
    "artifacts_df.head()"
   ]
  },
  {
   "cell_type": "markdown",
   "metadata": {},
   "source": [
    "## Preprocess Text to Create Word Embedding"
   ]
  },
  {
   "cell_type": "code",
   "execution_count": null,
   "metadata": {},
   "outputs": [],
   "source": []
  }
 ],
 "metadata": {
  "kernelspec": {
   "display_name": "Python 3",
   "language": "python",
   "name": "python3"
  },
  "language_info": {
   "codemirror_mode": {
    "name": "ipython",
    "version": 3
   },
   "file_extension": ".py",
   "mimetype": "text/x-python",
   "name": "python",
   "nbconvert_exporter": "python",
   "pygments_lexer": "ipython3",
   "version": "3.6.6"
  }
 },
 "nbformat": 4,
 "nbformat_minor": 2
}

{
 "cells": [
  {
   "cell_type": "markdown",
   "metadata": {},
   "source": [
    "# Introduction\n",
    "\n",
    "In this notebook we demonstrate the use of LSI (Latent Semantic Indexing) Information Retrieval technique to make trace link recovery between Use Cases and Bug Reports.\n",
    "\n",
    "We model our study as follows:\n",
    "\n",
    "* Each bug report title, summary and description compose a single query.\n",
    "* We use each use case content as an entire document that must be returned to the query made"
   ]
  },
  {
   "cell_type": "markdown",
   "metadata": {},
   "source": [
    "## Import Libraries"
   ]
  },
  {
   "cell_type": "code",
   "execution_count": 1,
   "metadata": {},
   "outputs": [],
   "source": [
    "import pandas as pd\n",
    "import numpy as np\n",
    "\n",
    "import pprint\n",
    "\n",
    "import matplotlib.pyplot as plt"
   ]
  },
  {
   "cell_type": "markdown",
   "metadata": {},
   "source": [
    "## Load Dataset and Preprocessing"
   ]
  },
  {
   "cell_type": "code",
   "execution_count": 2,
   "metadata": {},
   "outputs": [],
   "source": [
    "trace_df = pd.read_csv('../data/jEdit/jEditDataset/oracle/output/trace_matrix.csv')\n",
    "artfs_desc_df = pd.read_csv('../data/jEdit/jEditDataset/oracle/output/artifacts_descriptions.csv', sep=\"|\")\n",
    "\n",
    "use_cases_df = artfs_desc_df[artfs_desc_df.artf_description.str.contains('Use Case ID')]\n",
    "bug_reports_df = artfs_desc_df[artfs_desc_df.artf_description.str.contains('Bug Number')]\n",
    "\n",
    "corpus = use_cases_df.artf_description\n",
    "query = bug_reports_df.artf_description\n",
    "\n",
    "use_cases_names = use_cases_df.artf_name\n",
    "bug_reports_names = bug_reports_df.artf_name\n"
   ]
  },
  {
   "cell_type": "markdown",
   "metadata": {},
   "source": [
    "# LSI Model"
   ]
  },
  {
   "cell_type": "code",
   "execution_count": 3,
   "metadata": {},
   "outputs": [],
   "source": [
    "from sklearn.pipeline import Pipeline\n",
    "from sklearn.metrics import precision_recall_fscore_support, pairwise_distances, pairwise\n",
    "from sklearn.externals import joblib\n",
    "from sklearn.decomposition import TruncatedSVD\n",
    "from sklearn.feature_extraction.text import TfidfVectorizer, CountVectorizer\n",
    "from scipy.sparse import csr_matrix\n",
    "import datetime\n",
    "\n",
    "import warnings; warnings.simplefilter('ignore')\n",
    "\n",
    "class LSI:\n",
    "    def __init__(self):\n",
    "        self.name = \"LSI\"\n",
    "        self.min_cosine_similarity_threshold = .80\n",
    "        self._svd_matrix = None\n",
    "        self._query_vector = None\n",
    "        self.trace_links_df = None\n",
    "        \n",
    "        self.vectorizer = TfidfVectorizer(stop_words='english',\n",
    "                                             use_idf=True, \n",
    "                                             smooth_idf=True)\n",
    "        \n",
    "        self.svd_model = TruncatedSVD(n_components = 100, \n",
    "                                         algorithm = 'randomized',\n",
    "                                         n_iter = 10, \n",
    "                                         random_state = 42)\n",
    "                  \n",
    "    \n",
    "    def recover_links(self, corpus, query, use_cases_names, bug_reports_names):\n",
    "        svd_transformer = Pipeline([('tfidf', self.vectorizer), \n",
    "                            ('svd', self.svd_model)])\n",
    "\n",
    "        self._svd_matrix = svd_transformer.fit_transform(corpus)\n",
    "        self._query_vector = svd_transformer.transform(query)\n",
    "        \n",
    "        # D 14 x 10\n",
    "        self._cosine_sim_matrix = pairwise.cosine_similarity(self._svd_matrix,\n",
    "                                                            self._query_vector)\n",
    "        \n",
    "        self.trace_links_df = pd.DataFrame(index = use_cases_names, \n",
    "                                           columns = bug_reports_names,\n",
    "                                           data = self._cosine_sim_matrix)\n",
    "\n",
    "        for col in self.trace_links_df.columns:\n",
    "            self.trace_links_df[col] = [1 if x >= self.min_cosine_similarity_threshold else 0 for x in self.trace_links_df[col]]\n",
    "\n",
    "    def model_setup(self):\n",
    "        return {\"Setup\" : \n",
    "                  [\n",
    "                      {\"LSI Minimum Cosine Similarity Threshold\" : self.min_cosine_similarity_threshold},\n",
    "                      {\"SVD Model\" : self.svd_model.get_params()},\n",
    "                      {\"Vectorizer\" : self.vectorizer.get_params()},\n",
    "                      {\"Vectorizer Type\" : type(self.vectorizer)}\n",
    "                  ]\n",
    "               }\n",
    "    \n",
    "    def get_cosine_sim_matrix(self):\n",
    "        return self._cosine_sim_matrix\n",
    "    \n",
    "    def get_query_vector(self):\n",
    "        return self._query_vector\n",
    "    \n",
    "    def get_svd_matrix(self):\n",
    "        return self._svd_matrix\n",
    "\n",
    "class OracleLoader:\n",
    "    def __init__(self, rows_names, columns_names):\n",
    "        self.oracle = None\n",
    "        self._columns_names = columns_names\n",
    "        self._rows_names = rows_names\n",
    "    \n",
    "    def load(self):\n",
    "        self.oracle = pd.DataFrame(columns=list(self._columns_names))\n",
    "        self.oracle.insert(0, 'artf_name', list(self._rows_names))\n",
    "        \n",
    "        for index, row in trace_df.iterrows():\n",
    "            idx = self.oracle[self.oracle.artf_name == row['trg_artf']].index\n",
    "            self.oracle.at[idx, row['src_artf']] = row['link']\n",
    "\n",
    "        self.oracle.set_index('artf_name', inplace=True)\n",
    "\n",
    "        \n",
    "class ModelEvaluator:\n",
    "    def __init__(self, oracle, model):\n",
    "        self.model = model\n",
    "        self.oracle = oracle\n",
    "        self.recovered_links = model.trace_links_df\n",
    "        \n",
    "        self.eval_df = pd.DataFrame(columns=['precision','recall','fscore','support'])\n",
    "        self.mean_precision = -1\n",
    "        self.mean_recall = -1\n",
    "        self.mean_fscore = -1\n",
    "    \n",
    "    def evaluate_model(self, verbose=False, file=None):\n",
    "        y_true = csr_matrix(self.oracle.values, dtype=int)\n",
    "        y_pred = csr_matrix(self.recovered_links.values, dtype=int)\n",
    "        \n",
    "        p, r, f, sp = precision_recall_fscore_support(y_true, y_pred)\n",
    "\n",
    "        i = 0\n",
    "        for idx, row in self.oracle.iteritems():\n",
    "            self.eval_df.at[idx, 'precision'] = p[i]\n",
    "            self.eval_df.at[idx, 'recall'] = r[i]\n",
    "            self.eval_df.at[idx, 'fscore'] = f[i]\n",
    "            self.eval_df.at[idx, 'support'] = sp[i]\n",
    "            i += 1\n",
    "        \n",
    "        self.mean_precision = self.eval_df.precision.mean()\n",
    "        self.mean_recall = self.eval_df.recall.mean()\n",
    "        self.mean_fscore = self.eval_df.fscore.mean()\n",
    "        \n",
    "        if verbose:\n",
    "            self.print_report(file)\n",
    "    \n",
    "    def print_report(self, file=None):\n",
    "        dic = self.model.model_setup()\n",
    "        dic['Measures'] = {}\n",
    "        dic['Measures']['Mean Precision of {}'.format(self.model.name)] = self.mean_precision\n",
    "        dic['Measures']['Mean Recall of {}'.format(self.model.name)] = self.mean_recall\n",
    "        dic['Measures']['Mean FScore of {}'.format(self.model.name)] = self.mean_fscore\n",
    "        \n",
    "        if file is None:    \n",
    "            pprint.pprint(dic)\n",
    "        else:\n",
    "            file.write(pprint.pformat(dic))\n",
    "        \n",
    "    def plot_precision_vs_recall(self):\n",
    "        plt.figure(figsize=(6,6))\n",
    "        plt.plot(self.eval_df.recall, self.eval_df.precision, 'ro', label='Precision vs Recall')\n",
    "\n",
    "        plt.ylabel('Precision')\n",
    "        plt.xlabel('Recall')\n",
    "\n",
    "        plt.axis([0, 1.1, 0, 1.1])\n",
    "        plt.show()\n",
    "    \n",
    "    def save_log(self):\n",
    "        with open('logs/' + str(datetime.datetime.now()) + '.txt', 'a') as f:\n",
    "            evaluator.evaluate_model(verbose=True, file=f)"
   ]
  },
  {
   "cell_type": "markdown",
   "metadata": {},
   "source": [
    "## Evaluate Recovering Efficiency\n",
    "\n",
    "In order to evaluate the efficiency of the algorithm tested (LSI), we use common metrics applied in the field of IR:\n",
    "\n",
    "    * Precision\n",
    "    * Recall\n",
    "    * F1-score"
   ]
  },
  {
   "cell_type": "code",
   "execution_count": 4,
   "metadata": {},
   "outputs": [],
   "source": [
    "orc = OracleLoader(use_cases_names, bug_reports_names)\n",
    "orc.load()"
   ]
  },
  {
   "cell_type": "code",
   "execution_count": null,
   "metadata": {},
   "outputs": [],
   "source": [
    "params_dict = {\n",
    "    'lsi__min_cosine_similarity_threshold' : .9,\n",
    "    'lsi__name' : 'LSI',\n",
    "    'lsi__vectorizer' : Vectorizer(),\n",
    "    'lsi__vectorizer__stop_words' : 'english',\n",
    "    'lsi__vectorizer__use_idf' : True,     # optional if type(Vectorizer) == TfidfVectorizer\n",
    "    'lsi__vectorizer__smooth_idf' : True,  # optional if type(Vectorizer) == TfidfVectorizer\n",
    "    'lsi__vectorizer__ngram_range' : (1,2),\n",
    "    'lsi__svd_model' : SVD(),\n",
    "    'lsi__svd_model__n_components' : 5\n",
    "}"
   ]
  },
  {
   "cell_type": "code",
   "execution_count": 8,
   "metadata": {},
   "outputs": [
    {
     "ename": "SyntaxError",
     "evalue": "invalid syntax (<ipython-input-8-f8592c76c854>, line 2)",
     "output_type": "error",
     "traceback": [
      "\u001b[0;36m  File \u001b[0;32m\"<ipython-input-8-f8592c76c854>\"\u001b[0;36m, line \u001b[0;32m2\u001b[0m\n\u001b[0;31m    for key, value in **kwargs:\u001b[0m\n\u001b[0m                       ^\u001b[0m\n\u001b[0;31mSyntaxError\u001b[0m\u001b[0;31m:\u001b[0m invalid syntax\n"
     ]
    }
   ],
   "source": [
    "def generate_params_combinations(**kwargs):\n",
    "    for key, value in **kwargs:\n",
    "        "
   ]
  },
  {
   "cell_type": "code",
   "execution_count": 5,
   "metadata": {},
   "outputs": [
    {
     "name": "stdout",
     "output_type": "stream",
     "text": [
      "Performing model optimizations...\n",
      "------------------------ Best Model Found ------------------------------\n",
      "{'Measures': {'Mean FScore of lsi_000': 0.49478458049886626,\n",
      "              'Mean Precision of lsi_000': 0.3946428571428572,\n",
      "              'Mean Recall of lsi_000': 0.7857142857142857},\n",
      " 'Setup': [{'LSI Minimum Cosine Similarity Threshold': 0.6},\n",
      "           {'SVD Model': {'algorithm': 'randomized',\n",
      "                          'n_components': 5,\n",
      "                          'n_iter': 10,\n",
      "                          'random_state': 42,\n",
      "                          'tol': 0.0}},\n",
      "           {'Vectorizer': {'analyzer': 'word',\n",
      "                           'binary': False,\n",
      "                           'decode_error': 'strict',\n",
      "                           'dtype': <class 'numpy.int64'>,\n",
      "                           'encoding': 'utf-8',\n",
      "                           'input': 'content',\n",
      "                           'lowercase': True,\n",
      "                           'max_df': 1.0,\n",
      "                           'max_features': None,\n",
      "                           'min_df': 1,\n",
      "                           'ngram_range': (1, 2),\n",
      "                           'norm': 'l2',\n",
      "                           'preprocessor': None,\n",
      "                           'smooth_idf': True,\n",
      "                           'stop_words': 'english',\n",
      "                           'strip_accents': None,\n",
      "                           'sublinear_tf': False,\n",
      "                           'token_pattern': '(?u)\\\\b\\\\w\\\\w+\\\\b',\n",
      "                           'tokenizer': None,\n",
      "                           'use_idf': True,\n",
      "                           'vocabulary': None}},\n",
      "           {'Vectorizer Type': <class 'sklearn.feature_extraction.text.TfidfVectorizer'>}]}\n"
     ]
    },
    {
     "data": {
      "image/png": "[encoded data removed]",
      "text/plain": [
       "<Figure size 432x432 with 1 Axes>"
      ]
     },
     "metadata": {
      "needs_background": "light"
     },
     "output_type": "display_data"
    }
   ],
   "source": [
    "all_hyperparams = {\n",
    "    'lsi__min_cosine_similarity_threshold' : [i/10 for i in range(6,10)],\n",
    "    'lsi__svd_model__n_components':[5,10,20,50,100],\n",
    "    'lsi__vectorizer__ngram_range': [(1,1), (1,2)],\n",
    "    'lsi__vectorizer' : [TfidfVectorizer(stop_words='english', use_idf=True, smooth_idf=True), \n",
    "                         CountVectorizer(stop_words='english')]\n",
    "}\n",
    "\n",
    "hyperparams = generate_params_comb_list(all_hyperparams)\n",
    "\n",
    "print('Performing model optimizations...')\n",
    "best_recall = 0.0\n",
    "best_model = None\n",
    "\n",
    "for i in range(0, len(thresholds)):\n",
    "    for j in range(0, len(svd_model_params['n_components'])):\n",
    "        for k in range(0, len(vec_params['ngram_range'])):\n",
    "            for ii in range(0, len(vecs)):\n",
    "                current_model = LSI()\n",
    "                current_model.name = 'lsi_{}{}{}'.format(i,j,k)\n",
    "                current_model.svd_model.set_params(n_components = svd_model_params['n_components'][j])\n",
    "                current_model.vectorizer = vecs[ii]\n",
    "                current_model.vectorizer.set_params(ngram_range = vec_params['ngram_range'][k])\n",
    "                current_model.min_cosine_similarity_threshold = thresholds[i]\n",
    "                current_model.recover_links(corpus, query, use_cases_names, bug_reports_names)\n",
    "\n",
    "                evaluator = ModelEvaluator(orc.oracle, current_model)\n",
    "                evaluator.evaluate_model()\n",
    "\n",
    "                if best_recall < evaluator.mean_recall:\n",
    "                    best_recall = evaluator.mean_recall\n",
    "                    best_model = current_model\n",
    "\n",
    "                    \n",
    "                    \n",
    "print(\"------------------------ Best Model Found ------------------------------\")            \n",
    "evaluator = ModelEvaluator(orc.oracle, best_model)\n",
    "evaluator.evaluate_model(verbose=True)\n",
    "evaluator.plot_precision_vs_recall()\n",
    "\n",
    "#evaluator.save_log()"
   ]
  },
  {
   "cell_type": "code",
   "execution_count": 6,
   "metadata": {},
   "outputs": [
    {
     "name": "stdout",
     "output_type": "stream",
     "text": [
      "{'Measures': {'Mean FScore of LSI': 0.5714285714285714,\n",
      "              'Mean Precision of LSI': 0.6428571428571429,\n",
      "              'Mean Recall of LSI': 0.5357142857142857},\n",
      " 'Setup': [{'LSI Minimum Cosine Similarity Threshold': 0.8},\n",
      "           {'SVD Model': {'algorithm': 'randomized',\n",
      "                          'n_components': 100,\n",
      "                          'n_iter': 10,\n",
      "                          'random_state': 42,\n",
      "                          'tol': 0.0}},\n",
      "           {'Vectorizer': {'analyzer': 'word',\n",
      "                           'binary': False,\n",
      "                           'decode_error': 'strict',\n",
      "                           'dtype': <class 'numpy.int64'>,\n",
      "                           'encoding': 'utf-8',\n",
      "                           'input': 'content',\n",
      "                           'lowercase': True,\n",
      "                           'max_df': 1.0,\n",
      "                           'max_features': None,\n",
      "                           'min_df': 1,\n",
      "                           'ngram_range': (1, 1),\n",
      "                           'norm': 'l2',\n",
      "                           'preprocessor': None,\n",
      "                           'smooth_idf': True,\n",
      "                           'stop_words': 'english',\n",
      "                           'strip_accents': None,\n",
      "                           'sublinear_tf': False,\n",
      "                           'token_pattern': '(?u)\\\\b\\\\w\\\\w+\\\\b',\n",
      "                           'tokenizer': None,\n",
      "                           'use_idf': True,\n",
      "                           'vocabulary': None}},\n",
      "           {'Vectorizer Type': <class 'sklearn.feature_extraction.text.TfidfVectorizer'>}]}\n"
     ]
    },
    {
     "data": {
      "image/png": "[encoded data removed]",
      "text/plain": [
       "<Figure size 432x432 with 1 Axes>"
      ]
     },
     "metadata": {
      "needs_background": "light"
     },
     "output_type": "display_data"
    }
   ],
   "source": [
    "best_model = LSI()\n",
    "best_model.recover_links(corpus, query, use_cases_names, bug_reports_names)\n",
    "evaluator = ModelEvaluator(orc.oracle, best_model)\n",
    "evaluator.evaluate_model(verbose=True)\n",
    "evaluator.plot_precision_vs_recall()"
   ]
  },
  {
   "cell_type": "code",
   "execution_count": 7,
   "metadata": {},
   "outputs": [
    {
     "data": {
      "text/plain": [
       "True"
      ]
     },
     "execution_count": 7,
     "metadata": {},
     "output_type": "execute_result"
    }
   ],
   "source": [
    "sims_1 = pd.DataFrame(np.matrix(best_model.trace_links_df))\n",
    "sims_2 = pd.DataFrame(np.matrix(pairwise.cosine_similarity(best_model.get_svd_matrix(), best_model.get_query_vector()) ))\n",
    "\n",
    "for col in sims_2.columns:\n",
    "    sims_2[col] = [1 if x >= best_model.min_cosine_similarity_threshold else 0 for x in sims_2[col]]\n",
    "\n",
    "sims_1.equals(sims_2)"
   ]
  }
 ],
 "metadata": {
  "kernelspec": {
   "display_name": "Python 3",
   "language": "python",
   "name": "python3"
  },
  "language_info": {
   "codemirror_mode": {
    "name": "ipython",
    "version": 3
   },
   "file_extension": ".py",
   "mimetype": "text/x-python",
   "name": "python",
   "nbconvert_exporter": "python",
   "pygments_lexer": "ipython3",
   "version": "3.6.6"
  }
 },
 "nbformat": 4,
 "nbformat_minor": 2
}

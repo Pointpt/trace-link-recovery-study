{
 "cells": [
  {
   "cell_type": "markdown",
   "metadata": {},
   "source": [
    "# Introduction\n",
    "\n",
    "In this notebook we demonstrate the use of LSI (Latent Semantic Indexing) Information Retrieval technique to make trace link recovery between Use Cases and Bug Reports.\n",
    "\n",
    "We model our study as follows:\n",
    "\n",
    "* Each bug report title, summary and description compose a single query.\n",
    "* We use each use case content as an entire document that must be returned to the query made"
   ]
  },
  {
   "cell_type": "markdown",
   "metadata": {},
   "source": [
    "## Import Libraries"
   ]
  },
  {
   "cell_type": "code",
   "execution_count": 1,
   "metadata": {},
   "outputs": [],
   "source": [
    "import pandas as pd\n",
    "import numpy as np\n",
    "\n",
    "import matplotlib.pyplot as plt"
   ]
  },
  {
   "cell_type": "markdown",
   "metadata": {},
   "source": [
    "## Load Dataset and Preprocessing"
   ]
  },
  {
   "cell_type": "code",
   "execution_count": 2,
   "metadata": {},
   "outputs": [],
   "source": [
    "trace_df = pd.read_csv('../data/jEdit/jEditDataset/oracle/output/trace_matrix.csv')\n",
    "artfs_desc_df = pd.read_csv('../data/jEdit/jEditDataset/oracle/output/artifacts_descriptions.csv', sep=\"|\")\n",
    "\n",
    "use_cases_df = artfs_desc_df[artfs_desc_df.artf_description.str.contains('Use Case ID')]\n",
    "bug_reports_df = artfs_desc_df[artfs_desc_df.artf_description.str.contains('Bug Number')]"
   ]
  },
  {
   "cell_type": "markdown",
   "metadata": {},
   "source": [
    "# LSI Model"
   ]
  },
  {
   "cell_type": "code",
   "execution_count": 3,
   "metadata": {},
   "outputs": [],
   "source": [
    "from sklearn.pipeline import Pipeline\n",
    "from sklearn.metrics import precision_recall_fscore_support, pairwise_distances\n",
    "from sklearn.externals import joblib\n",
    "from sklearn.decomposition import TruncatedSVD\n",
    "from sklearn.feature_extraction.text import TfidfVectorizer\n",
    "from scipy.sparse import csr_matrix\n",
    "\n",
    "class LSI:\n",
    "    def __init__(self):\n",
    "        self.name = \"LSI\"\n",
    "        \n",
    "        self.vectorizer = TfidfVectorizer(stop_words='english',\n",
    "                                             use_idf=True, \n",
    "                                             smooth_idf=True)\n",
    "        \n",
    "        self.svd_model = TruncatedSVD(n_components = 100, \n",
    "                                         algorithm = 'randomized',\n",
    "                                         n_iter = 10, \n",
    "                                         random_state = 42)\n",
    "        self.trace_links_df = None          \n",
    "    \n",
    "    def recover_links(self, corpus, query, use_cases_names, bug_reports_names):\n",
    "        svd_transformer = Pipeline([('tfidf', self.vectorizer), \n",
    "                            ('svd', self.svd_model)])\n",
    "\n",
    "        svd_matrix = svd_transformer.fit_transform(corpus)\n",
    "        query_vector = svd_transformer.transform(query)\n",
    "        \n",
    "        distance_matrix = pairwise_distances(query_vector, \n",
    "                                     svd_matrix, \n",
    "                                     metric='cosine', \n",
    "                                     n_jobs=-1)\n",
    "        \n",
    "        trace_results_df = pd.DataFrame(use_cases_names)\n",
    "        bug_reports_list = bug_reports_names\n",
    "\n",
    "        for i in range(0, len(list(distance_matrix))):\n",
    "            trace_results_df[bug_reports_list[i]] = distance_matrix[i]\n",
    "        \n",
    "        self.trace_links_df = trace_results_df.copy()\n",
    "        self.trace_links_df.set_index('artf_name', inplace=True)\n",
    "\n",
    "        amount_target_docs = use_cases_df.shape[0]\n",
    "        cols = trace_results_df.columns.delete(0)  # delete artf_name\n",
    "        \n",
    "        threshold = 3\n",
    "        for col in cols:\n",
    "            \"\"\" return top threshold documents\"\"\"\n",
    "            nlargest_df = trace_results_df.nlargest(n = threshold, columns=col, keep='first')    \n",
    "            self.trace_links_df[col] = [1 if x in nlargest_df[col].tolist() else 0 for x in self.trace_links_df[col]]\n",
    "\n",
    "\n",
    "class OracleLoader:\n",
    "    def __init__(self, rows_names, columns_names):\n",
    "        self.oracle = None\n",
    "        self._columns_names = columns_names\n",
    "        self._rows_names = rows_names\n",
    "    \n",
    "    def load(self):\n",
    "        self.oracle = pd.DataFrame(columns=list(self._columns_names))\n",
    "        self.oracle.insert(0, 'artf_name', list(self._rows_names))\n",
    "        \n",
    "        for index, row in trace_df.iterrows():\n",
    "            idx = self.oracle[self.oracle.artf_name == row['trg_artf']].index\n",
    "            self.oracle.at[idx, row['src_artf']] = row['link']\n",
    "\n",
    "        self.oracle.set_index('artf_name', inplace=True)\n",
    "\n",
    "        \n",
    "class ModelEvaluator:\n",
    "    def __init__(self, scores, oracle, model):\n",
    "        self.model_name = model.name\n",
    "        self.oracle = oracle\n",
    "        self.recovered_links = model.trace_links_df\n",
    "        \n",
    "        self.eval_df = pd.DataFrame(columns=['precision','recall','fscore','support'])\n",
    "    \n",
    "    def evaluate_model(self):\n",
    "        y_true = csr_matrix(self.oracle.values, dtype=int)\n",
    "        y_pred = csr_matrix(self.recovered_links.values, dtype=int)\n",
    "        \n",
    "        p, r, f, sp = precision_recall_fscore_support(y_true, y_pred)\n",
    "\n",
    "        i = 0\n",
    "        for idx, row in self.oracle.iteritems():\n",
    "            self.eval_df.at[idx, 'precision'] = p[i]\n",
    "            self.eval_df.at[idx, 'recall'] = r[i]\n",
    "            self.eval_df.at[idx, 'fscore'] = f[i]\n",
    "            self.eval_df.at[idx, 'support'] = sp[i]\n",
    "            i += 1\n",
    "\n",
    "    def print_report(self):\n",
    "        mean_precision = self.eval_df.precision.mean()\n",
    "        mean_recall = self.eval_df.recall.mean()\n",
    "        mean_fscore = self.eval_df.fscore.mean()\n",
    "        \n",
    "        print(\"Mean Precision of {}: {:2.3}\".format(self.model_name, mean_precision))\n",
    "        print(\"Mean Recall of {}: {:2.3}\".format(self.model_name, mean_recall))\n",
    "        print(\"Mean F-Score of {}: {:2.3}\".format(self.model_name, mean_fscore))\n",
    "        \n",
    "    def plot_precision_vs_recall(self):\n",
    "        plt.figure(figsize=(10,10))\n",
    "        plt.plot(self.eval_df.precision, self.eval_df.recall, 'ro', label='Precision vs Recall')\n",
    "\n",
    "        plt.ylabel('Precision')\n",
    "        plt.xlabel('Recall')\n",
    "\n",
    "        plt.axis([0, 1.1, 0, 1.1])\n",
    "        plt.legend()\n",
    "        plt.show()"
   ]
  },
  {
   "cell_type": "markdown",
   "metadata": {},
   "source": [
    "## Evaluate Recovering Efficiency\n",
    "\n",
    "In order to evaluate the efficiency of the algorithm tested (LSI), we use common metrics applied in the field of IR:\n",
    "\n",
    "    * Precision\n",
    "    * Recall\n",
    "    * F1-score"
   ]
  },
  {
   "cell_type": "code",
   "execution_count": 4,
   "metadata": {},
   "outputs": [
    {
     "name": "stdout",
     "output_type": "stream",
     "text": [
      "Mean Precision of LSI: 0.0214\n",
      "Mean Recall of LSI: 0.143\n",
      "Mean F-Score of LSI: 0.0368\n"
     ]
    },
    {
     "data": {
      "image/png": "[encoded data removed]",
      "text/plain": [
       "<Figure size 720x720 with 1 Axes>"
      ]
     },
     "metadata": {
      "needs_background": "light"
     },
     "output_type": "display_data"
    }
   ],
   "source": [
    "corpus = use_cases_df.artf_description\n",
    "query = bug_reports_df.artf_description\n",
    "\n",
    "use_cases_names = use_cases_df.artf_name\n",
    "bug_reports_names = bug_reports_df.artf_name\n",
    "\n",
    "lsi_model = LSI()\n",
    "lsi_model.recover_links(corpus, query, use_cases_names, bug_reports_names)\n",
    "\n",
    "orc = OracleLoader(use_cases_names, bug_reports_names)\n",
    "orc.load()\n",
    "\n",
    "evaluator = ModelEvaluator([], orc.oracle, lsi_model)\n",
    "evaluator.evaluate_model()\n",
    "evaluator.print_report()\n",
    "evaluator.plot_precision_vs_recall()"
   ]
  }
 ],
 "metadata": {
  "kernelspec": {
   "display_name": "Python 3",
   "language": "python",
   "name": "python3"
  },
  "language_info": {
   "codemirror_mode": {
    "name": "ipython",
    "version": 3
   },
   "file_extension": ".py",
   "mimetype": "text/x-python",
   "name": "python",
   "nbconvert_exporter": "python",
   "pygments_lexer": "ipython3",
   "version": "3.6.6"
  }
 },
 "nbformat": 4,
 "nbformat_minor": 2
}

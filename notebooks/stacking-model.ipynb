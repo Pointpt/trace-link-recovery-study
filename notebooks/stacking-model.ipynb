{
 "cells": [
  {
   "cell_type": "markdown",
   "metadata": {},
   "source": [
    "# Introduction\n",
    "\n",
    "In this notebook we demonstrate the use of an **Stacking Model**, based on **Logistic Regression** model, in the Information Retrieval context to make trace link recovery between Use Cases and Bug Reports.\n",
    "\n",
    "We model our study as follows:\n",
    "\n",
    "* Each bug report title, summary and description compose a single query.\n",
    "* We use each use case content as an entire document that must be returned to the query made"
   ]
  },
  {
   "cell_type": "markdown",
   "metadata": {},
   "source": [
    "### Import Libraries"
   ]
  },
  {
   "cell_type": "code",
   "execution_count": 13,
   "metadata": {},
   "outputs": [],
   "source": [
    "import pandas as pd\n",
    "import numpy as np\n",
    "import seaborn as sns\n",
    "\n",
    "from sklearn.model_selection import train_test_split\n",
    "from sklearn.metrics import recall_score, precision_score, f1_score\n",
    "from sklearn.linear_model import LogisticRegressionCV\n",
    "\n",
    "from enum import Enum\n",
    "\n",
    "#from utils import plots\n",
    "from utils import oracle_loader as ol\n",
    "from utils import jedit_dataset as jd\n",
    "from utils import model_evaluator as m_eval\n",
    "from utils import generic_model as g_model"
   ]
  },
  {
   "cell_type": "markdown",
   "metadata": {},
   "source": [
    "### Load Dataset and Preprocessing"
   ]
  },
  {
   "cell_type": "code",
   "execution_count": 2,
   "metadata": {},
   "outputs": [],
   "source": [
    "trace_df = jd.read_trace_df()\n",
    "artfs_desc_df = jd.read_artfs_desc_df()\n",
    "\n",
    "use_cases_df = artfs_desc_df[artfs_desc_df.artf_description.str.contains('Use Case ID')]\n",
    "bug_reports_df = artfs_desc_df[artfs_desc_df.artf_description.str.contains('Bug Number')]\n",
    "\n",
    "corpus = use_cases_df.artf_description\n",
    "query = bug_reports_df.artf_description\n",
    "\n",
    "use_cases_names = use_cases_df.artf_name\n",
    "bug_reports_names = bug_reports_df.artf_name\n",
    "\n",
    "orc = ol.OracleLoader(use_cases_names, bug_reports_names)\n",
    "orc.load(trace_df)"
   ]
  },
  {
   "cell_type": "markdown",
   "metadata": {},
   "source": [
    "### Load Models Results"
   ]
  },
  {
   "cell_type": "code",
   "execution_count": 3,
   "metadata": {},
   "outputs": [],
   "source": [
    "lsi_results_df = pd.read_csv('best_models_sim_matrix/lsi.csv')\n",
    "lda_results_df = pd.read_csv('best_models_sim_matrix/lda.csv')\n",
    "bm25_results_df = pd.read_csv('best_models_sim_matrix/bm25.csv')\n",
    "wv_results_df = pd.read_csv('best_models_sim_matrix/wordvector.csv')\n",
    "\n",
    "lsi_results_df.set_index('artf_name', inplace=True)\n",
    "lda_results_df.set_index('artf_name', inplace=True)\n",
    "bm25_results_df.set_index('artf_name', inplace=True)\n",
    "wv_results_df.set_index('artf_name', inplace=True)"
   ]
  },
  {
   "cell_type": "markdown",
   "metadata": {},
   "source": [
    "### Tranform Results Matrices to Vectors"
   ]
  },
  {
   "cell_type": "code",
   "execution_count": 4,
   "metadata": {},
   "outputs": [],
   "source": [
    "def transform_sim_matrix_to_sim_vec(sim_matrix_df, model_name):\n",
    "    sim_vec_df = pd.DataFrame(columns=[model_name])\n",
    "    for col in sim_matrix_df.columns:\n",
    "        for idx, row in sim_matrix_df.iterrows():\n",
    "            artfs_names = '{}_{}'.format(idx, col)\n",
    "            sim_vec_df.at[artfs_names, model_name] = row[col]\n",
    "    return sim_vec_df\n",
    "\n",
    "sim_vec_lsi = transform_sim_matrix_to_sim_vec(lsi_results_df, 'lsi')\n",
    "sim_vec_lda = transform_sim_matrix_to_sim_vec(lda_results_df, 'lda')\n",
    "sim_vec_bm25 = transform_sim_matrix_to_sim_vec(bm25_results_df, 'bm25')\n",
    "sim_vec_wv = transform_sim_matrix_to_sim_vec(wv_results_df, 'wv')"
   ]
  },
  {
   "cell_type": "markdown",
   "metadata": {},
   "source": [
    "### Transform Vectors to DataFrame"
   ]
  },
  {
   "cell_type": "code",
   "execution_count": 5,
   "metadata": {},
   "outputs": [
    {
     "data": {
      "text/html": [
       "<div>\n",
       "<style scoped>\n",
       "    .dataframe tbody tr th:only-of-type {\n",
       "        vertical-align: middle;\n",
       "    }\n",
       "\n",
       "    .dataframe tbody tr th {\n",
       "        vertical-align: top;\n",
       "    }\n",
       "\n",
       "    .dataframe thead th {\n",
       "        text-align: right;\n",
       "    }\n",
       "</style>\n",
       "<table border=\"1\" class=\"dataframe\">\n",
       "  <thead>\n",
       "    <tr style=\"text-align: right;\">\n",
       "      <th></th>\n",
       "      <th>lsi</th>\n",
       "      <th>lda</th>\n",
       "      <th>bm25</th>\n",
       "      <th>wv</th>\n",
       "      <th>ens_pred</th>\n",
       "    </tr>\n",
       "  </thead>\n",
       "  <tbody>\n",
       "    <tr>\n",
       "      <th>UC_003_TRG_BR_4020_SRC</th>\n",
       "      <td>0.361541</td>\n",
       "      <td>0.988073</td>\n",
       "      <td>7.08953</td>\n",
       "      <td>0.922483</td>\n",
       "      <td>NaN</td>\n",
       "    </tr>\n",
       "    <tr>\n",
       "      <th>UC_007_TRG_BR_4020_SRC</th>\n",
       "      <td>0.46841</td>\n",
       "      <td>0.9881</td>\n",
       "      <td>9.83479</td>\n",
       "      <td>0.878566</td>\n",
       "      <td>NaN</td>\n",
       "    </tr>\n",
       "    <tr>\n",
       "      <th>UC_010_TRG_BR_4020_SRC</th>\n",
       "      <td>0.690679</td>\n",
       "      <td>0.154894</td>\n",
       "      <td>16.8103</td>\n",
       "      <td>0.906589</td>\n",
       "      <td>NaN</td>\n",
       "    </tr>\n",
       "    <tr>\n",
       "      <th>UC_002_TRG_BR_4020_SRC</th>\n",
       "      <td>0.897997</td>\n",
       "      <td>0.988134</td>\n",
       "      <td>5.33088</td>\n",
       "      <td>0.923327</td>\n",
       "      <td>NaN</td>\n",
       "    </tr>\n",
       "    <tr>\n",
       "      <th>UC_006_TRG_BR_4020_SRC</th>\n",
       "      <td>0.911746</td>\n",
       "      <td>0.988105</td>\n",
       "      <td>5.08051</td>\n",
       "      <td>0.924785</td>\n",
       "      <td>NaN</td>\n",
       "    </tr>\n",
       "  </tbody>\n",
       "</table>\n",
       "</div>"
      ],
      "text/plain": [
       "                             lsi       lda     bm25        wv ens_pred\n",
       "UC_003_TRG_BR_4020_SRC  0.361541  0.988073  7.08953  0.922483      NaN\n",
       "UC_007_TRG_BR_4020_SRC   0.46841    0.9881  9.83479  0.878566      NaN\n",
       "UC_010_TRG_BR_4020_SRC  0.690679  0.154894  16.8103  0.906589      NaN\n",
       "UC_002_TRG_BR_4020_SRC  0.897997  0.988134  5.33088  0.923327      NaN\n",
       "UC_006_TRG_BR_4020_SRC  0.911746  0.988105  5.08051  0.924785      NaN"
      ]
     },
     "execution_count": 5,
     "metadata": {},
     "output_type": "execute_result"
    }
   ],
   "source": [
    "ensemble_input_df = pd.DataFrame(columns=['ens_pred'], index=sim_vec_lsi.index)\n",
    "\n",
    "out_df = pd.merge(ensemble_input_df, sim_vec_lsi, left_index=True, right_index=True)\n",
    "out_df = pd.merge(out_df, sim_vec_lda, left_index=True, right_index=True)\n",
    "out_df = pd.merge(out_df, sim_vec_bm25, left_index=True, right_index=True)\n",
    "out_df = pd.merge(out_df, sim_vec_wv, left_index=True, right_index=True)\n",
    "\n",
    "new_order = [1,2,3,4,0]\n",
    "out_df = out_df[out_df.columns[new_order]]\n",
    "\n",
    "ensemble_input_df = out_df.copy()\n",
    "ensemble_input_df.head()"
   ]
  },
  {
   "cell_type": "markdown",
   "metadata": {},
   "source": [
    "### Insert Oracle Data"
   ]
  },
  {
   "cell_type": "code",
   "execution_count": 6,
   "metadata": {},
   "outputs": [
    {
     "data": {
      "text/html": [
       "<div>\n",
       "<style scoped>\n",
       "    .dataframe tbody tr th:only-of-type {\n",
       "        vertical-align: middle;\n",
       "    }\n",
       "\n",
       "    .dataframe tbody tr th {\n",
       "        vertical-align: top;\n",
       "    }\n",
       "\n",
       "    .dataframe thead th {\n",
       "        text-align: right;\n",
       "    }\n",
       "</style>\n",
       "<table border=\"1\" class=\"dataframe\">\n",
       "  <thead>\n",
       "    <tr style=\"text-align: right;\">\n",
       "      <th></th>\n",
       "      <th>lsi</th>\n",
       "      <th>lda</th>\n",
       "      <th>bm25</th>\n",
       "      <th>wv</th>\n",
       "      <th>oracle</th>\n",
       "      <th>ens_pred</th>\n",
       "    </tr>\n",
       "  </thead>\n",
       "  <tbody>\n",
       "    <tr>\n",
       "      <th>UC_003_TRG_BR_4020_SRC</th>\n",
       "      <td>0.361541</td>\n",
       "      <td>0.988073</td>\n",
       "      <td>7.08953</td>\n",
       "      <td>0.922483</td>\n",
       "      <td>0.0</td>\n",
       "      <td>NaN</td>\n",
       "    </tr>\n",
       "    <tr>\n",
       "      <th>UC_007_TRG_BR_4020_SRC</th>\n",
       "      <td>0.46841</td>\n",
       "      <td>0.9881</td>\n",
       "      <td>9.83479</td>\n",
       "      <td>0.878566</td>\n",
       "      <td>0.0</td>\n",
       "      <td>NaN</td>\n",
       "    </tr>\n",
       "    <tr>\n",
       "      <th>UC_010_TRG_BR_4020_SRC</th>\n",
       "      <td>0.690679</td>\n",
       "      <td>0.154894</td>\n",
       "      <td>16.8103</td>\n",
       "      <td>0.906589</td>\n",
       "      <td>0.0</td>\n",
       "      <td>NaN</td>\n",
       "    </tr>\n",
       "    <tr>\n",
       "      <th>UC_002_TRG_BR_4020_SRC</th>\n",
       "      <td>0.897997</td>\n",
       "      <td>0.988134</td>\n",
       "      <td>5.33088</td>\n",
       "      <td>0.923327</td>\n",
       "      <td>0.0</td>\n",
       "      <td>NaN</td>\n",
       "    </tr>\n",
       "    <tr>\n",
       "      <th>UC_006_TRG_BR_4020_SRC</th>\n",
       "      <td>0.911746</td>\n",
       "      <td>0.988105</td>\n",
       "      <td>5.08051</td>\n",
       "      <td>0.924785</td>\n",
       "      <td>1.0</td>\n",
       "      <td>NaN</td>\n",
       "    </tr>\n",
       "  </tbody>\n",
       "</table>\n",
       "</div>"
      ],
      "text/plain": [
       "                             lsi       lda     bm25        wv  oracle ens_pred\n",
       "UC_003_TRG_BR_4020_SRC  0.361541  0.988073  7.08953  0.922483     0.0      NaN\n",
       "UC_007_TRG_BR_4020_SRC   0.46841    0.9881  9.83479  0.878566     0.0      NaN\n",
       "UC_010_TRG_BR_4020_SRC  0.690679  0.154894  16.8103  0.906589     0.0      NaN\n",
       "UC_002_TRG_BR_4020_SRC  0.897997  0.988134  5.33088  0.923327     0.0      NaN\n",
       "UC_006_TRG_BR_4020_SRC  0.911746  0.988105  5.08051  0.924785     1.0      NaN"
      ]
     },
     "execution_count": 6,
     "metadata": {},
     "output_type": "execute_result"
    }
   ],
   "source": [
    "orc_vec_df = transform_sim_matrix_to_sim_vec(orc.oracle, 'oracle')\n",
    "\n",
    "ensemble_input_df = pd.merge(ensemble_input_df, orc_vec_df, left_index=True, right_index=True)\n",
    "\n",
    "new_order = [0,1,2,3,5,4]\n",
    "ensemble_input_df = ensemble_input_df[ensemble_input_df.columns[new_order]]\n",
    "\n",
    "ensemble_input_df.head()"
   ]
  },
  {
   "cell_type": "markdown",
   "metadata": {},
   "source": [
    "### Define Stacked Model"
   ]
  },
  {
   "cell_type": "code",
   "execution_count": 7,
   "metadata": {},
   "outputs": [],
   "source": [
    "class STACK_MODEL_Hyperp(Enum):\n",
    "    NAME = 'stacked_model__name'\n",
    "    TOP = 'stacked_model__top'\n",
    "    THRESHOLD = 'stacked_model__threshold'\n",
    "\n",
    "class StackedModel(g_model.GenericModel):\n",
    "    def __init__(self):\n",
    "        self.model = None\n",
    "        self.threshold = None\n",
    "    \n",
    "    def set_basic_params(self, **kwargs):\n",
    "        self.set_name('Stacked Model' if STACK_MODEL_Hyperp.NAME.value not in kwargs.keys() else kwargs[STACK_MODEL_Hyperp.NAME.value])\n",
    "        self.set_top(3 if STACK_MODEL_Hyperp.TOP.value not in kwargs.keys() else kwargs[STACK_MODEL_Hyperp.TOP.value])\n",
    "        self.set_threshold(0.75 if STACK_MODEL_Hyperp.THRESHOLD.value not in kwargs.keys() else kwargs[STACK_MODEL_Hyperp.THRESHOLD.value])\n",
    "        self.set_model_gen_name('stacked_model')\n",
    "        self.set_model(LogisticRegression())\n",
    "    \n",
    "    def set_name(self, name):\n",
    "        super().set_name(name)\n",
    "        \n",
    "    def set_model_gen_name(self, gen_name):\n",
    "        super().set_model_gen_name(gen_name)\n",
    "    \n",
    "    def set_top(self, top):\n",
    "        super().set_top(top)\n",
    "    \n",
    "    def set_threshold(self, threshold):\n",
    "        self.threshold = threshold\n",
    "    \n",
    "    def set_model(self, model):\n",
    "        self.model = model\n",
    "    \n",
    "    def recover_links(self, X, y):\n",
    "        #elf._svd_matrix = svd_transformer.fit_transform(corpus)\n",
    "        #elf._query_vector = svd_transformer.transform(query)\n",
    "        #elf._sim_matrix = pairwise.cosine_similarity(X=self._svd_matrix, Y=self._query_vector)\n",
    "        #elf._sim_matrix = pd.DataFrame(data=self._sim_matrix, index=use_cases_names, columns=bug_reports_names)\n",
    "        #uper()._fillUp_traceLinksDf(use_cases_names, bug_reports_names, self._sim_matrix) \n",
    "        pass\n",
    "    \n",
    "    def model_setup(self):\n",
    "        return {\"Setup\" : \n",
    "                  [\n",
    "                      {\"Name\" : self.get_name()},\n",
    "                      {\"Threshold\" : self.get_threshold()},\n",
    "                      {\"Top Value\" : self.get_top_value()},\n",
    "                      {\"Model\" : self.model.get_params()}\n",
    "                  ]\n",
    "               }\n",
    "\n",
    "    def get_name(self):\n",
    "        return super().get_name()\n",
    "    \n",
    "    def get_model_gen_name(self):\n",
    "        return super().get_model_gen_name()\n",
    "    \n",
    "    def get_top_value(self):\n",
    "        return super().get_top_value()\n",
    "    \n",
    "    def get_threshold(self):\n",
    "        return self.threshold\n",
    "    \n",
    "    def get_model(self):\n",
    "        return self.model"
   ]
  },
  {
   "cell_type": "markdown",
   "metadata": {},
   "source": [
    "### Split Data on Train and Test"
   ]
  },
  {
   "cell_type": "code",
   "execution_count": 8,
   "metadata": {},
   "outputs": [
    {
     "data": {
      "text/plain": [
       "((112, 4), (112,), (28, 4), (28,))"
      ]
     },
     "execution_count": 8,
     "metadata": {},
     "output_type": "execute_result"
    }
   ],
   "source": [
    "X = ensemble_input_df[['lsi','lda','bm25','wv']]\n",
    "y = ensemble_input_df['oracle']\n",
    "\n",
    "X_train, X_test, y_train, y_test = train_test_split(X, y, test_size=0.20, random_state=42, shuffle=True)\n",
    "X_train.shape, y_train.shape, X_test.shape, y_test.shape"
   ]
  },
  {
   "cell_type": "markdown",
   "metadata": {},
   "source": [
    "### Logistic Regressor"
   ]
  },
  {
   "cell_type": "code",
   "execution_count": 45,
   "metadata": {},
   "outputs": [
    {
     "name": "stdout",
     "output_type": "stream",
     "text": [
      "Recall: 0.333\n",
      "Precision: 1.0\n",
      "F-Score 0.5\n",
      "[[ 1.07826905e+01 -4.73084591e-03  5.06331915e-02 -7.55623531e+00]]\n"
     ]
    }
   ],
   "source": [
    "def discretizer(x):\n",
    "    if x < 0.5:\n",
    "        return 0\n",
    "    else:\n",
    "        return 1\n",
    "\n",
    "stack_model = LogisticRegressionCV(cv=3, scoring='recall').fit(X_train, y_train)\n",
    "\n",
    "preds = stack_model.predict_proba(X_test)[:,1]\n",
    "preds = list(map(discretizer, preds))\n",
    "    \n",
    "precision = precision_score(y_true=y_test, y_pred=preds)\n",
    "recall = recall_score(y_true=y_test, y_pred=preds)\n",
    "fscore = f1_score(y_true=y_test, y_pred=preds)\n",
    "\n",
    "print('Recall - Test Data: {:2.3}'.format(recall))\n",
    "print('Precision - Test Data: {:2.3}'.format(precision))\n",
    "print('F-Score  - Test Data: {:2.3}'.format(fscore))\n",
    "\n",
    "print(stack_model.coef_)"
   ]
  },
  {
   "cell_type": "markdown",
   "metadata": {},
   "source": [
    "#### Predict Probabilities over Entire Dataset"
   ]
  },
  {
   "cell_type": "code",
   "execution_count": 48,
   "metadata": {},
   "outputs": [
    {
     "name": "stdout",
     "output_type": "stream",
     "text": [
      "Recall: 0.368\n",
      "Precision: 0.7\n",
      "F-Score 0.483\n",
      "[[ 1.07826905e+01 -4.73084591e-03  5.06331915e-02 -7.55623531e+00]]\n"
     ]
    }
   ],
   "source": [
    "preds = stack_model.predict_proba(X)[:,1]\n",
    "preds = list(map(discretizer, preds))\n",
    "    \n",
    "precision = precision_score(y_true=y, y_pred=preds)\n",
    "recall = recall_score(y_true=y, y_pred=preds)\n",
    "fscore = f1_score(y_true=y, y_pred=preds)\n",
    "\n",
    "print('Recall - All Data: {:2.3}'.format(recall))\n",
    "print('Precision - All Data: {:2.3}'.format(precision))\n",
    "print('F-Score - All Data: {:2.3}'.format(fscore))\n",
    "\n",
    "print(stack_model.coef_)"
   ]
  },
  {
   "cell_type": "markdown",
   "metadata": {},
   "source": [
    "### Test with Other Model Types"
   ]
  },
  {
   "cell_type": "markdown",
   "metadata": {},
   "source": [
    "#### XGBoost"
   ]
  },
  {
   "cell_type": "code",
   "execution_count": 43,
   "metadata": {},
   "outputs": [
    {
     "name": "stdout",
     "output_type": "stream",
     "text": [
      "Recall: 0.333\n",
      "Precision: 1.0\n",
      "F-Score 0.5\n",
      "[0.47671232 0.12602739 0.16164383 0.23561645]\n"
     ]
    }
   ],
   "source": [
    "from xgboost import XGBClassifier\n",
    "\n",
    "X_train = X_train.infer_objects()\n",
    "y_train = y_train.infer_objects()\n",
    "X_test = X_test.infer_objects()\n",
    "y_test = y_test.infer_objects()\n",
    "\n",
    "xgb = XGBClassifier(seed=42).fit(X_train, y_train)\n",
    "\n",
    "preds = xgb.predict_proba(X_test)[:,1]\n",
    "preds = list(map(discretizer, preds))\n",
    "\n",
    "precision = precision_score(y_true=y_test, y_pred=preds)\n",
    "recall = recall_score(y_true=y_test, y_pred=preds)\n",
    "fscore = f1_score(y_true=y_test, y_pred=preds)\n",
    "\n",
    "print('Recall - Test Data: {:2.3}'.format(recall))\n",
    "print('Precision - Test Data: {:2.3}'.format(precision))\n",
    "print('F-Score - Test Data: {:2.3}'.format(fscore))\n",
    "\n",
    "print(xgb.feature_importances_)"
   ]
  },
  {
   "cell_type": "code",
   "execution_count": 49,
   "metadata": {},
   "outputs": [
    {
     "name": "stdout",
     "output_type": "stream",
     "text": [
      "Recall - Test Data: 0.895\n",
      "Precision - Test Data: 1.0\n",
      "F-Score - Test Data: 0.944\n",
      "[0.47671232 0.12602739 0.16164383 0.23561645]\n"
     ]
    }
   ],
   "source": [
    "X = X.infer_objects()\n",
    "y = y.infer_objects()\n",
    "\n",
    "preds = xgb.predict_proba(X)[:,1]\n",
    "preds = list(map(discretizer, preds))\n",
    "\n",
    "precision = precision_score(y_true=y, y_pred=preds)\n",
    "recall = recall_score(y_true=y, y_pred=preds)\n",
    "fscore = f1_score(y_true=y, y_pred=preds)\n",
    "\n",
    "print('Recall - Test Data: {:2.3}'.format(recall))\n",
    "print('Precision - Test Data: {:2.3}'.format(precision))\n",
    "print('F-Score - Test Data: {:2.3}'.format(fscore))\n",
    "\n",
    "print(xgb.feature_importances_)"
   ]
  },
  {
   "cell_type": "markdown",
   "metadata": {},
   "source": [
    "#### Extra Trees Classifier"
   ]
  },
  {
   "cell_type": "code",
   "execution_count": 50,
   "metadata": {},
   "outputs": [
    {
     "name": "stdout",
     "output_type": "stream",
     "text": [
      "Recall: 0.333\n",
      "Precision: 0.5\n",
      "F-Score 0.4\n",
      "[0.43848474 0.13354034 0.21145338 0.21652154]\n"
     ]
    }
   ],
   "source": [
    "from sklearn.ensemble import ExtraTreesClassifier\n",
    "\n",
    "X_train = X_train.infer_objects()\n",
    "y_train = y_train.infer_objects()\n",
    "X_test = X_test.infer_objects()\n",
    "y_test = y_test.infer_objects()\n",
    "\n",
    "et = ExtraTreesClassifier(random_state=42).fit(X_train, y_train)\n",
    "\n",
    "preds = et.predict_proba(X_test)[:,1]\n",
    "preds = list(map(discretizer, preds))\n",
    "\n",
    "precision = precision_score(y_true=y_test, y_pred=preds)\n",
    "recall = recall_score(y_true=y_test, y_pred=preds)\n",
    "fscore = f1_score(y_true=y_test, y_pred=preds)\n",
    "\n",
    "print('Recall - Test Data {:2.3}'.format(recall))\n",
    "print('Precision - Test Data: {:2.3}'.format(precision))\n",
    "print('F-Score - Test Data: {:2.3}'.format(fscore))\n",
    "\n",
    "print(et.feature_importances_)"
   ]
  },
  {
   "cell_type": "code",
   "execution_count": 52,
   "metadata": {},
   "outputs": [
    {
     "name": "stdout",
     "output_type": "stream",
     "text": [
      "Recall - All Data: 0.895\n",
      "Precision - All Data: 0.944\n",
      "F-Score - All Data: 0.919\n",
      "[0.43848474 0.13354034 0.21145338 0.21652154]\n"
     ]
    }
   ],
   "source": [
    "X = X.infer_objects()\n",
    "y = y.infer_objects()\n",
    "\n",
    "preds = et.predict_proba(X)[:,1]\n",
    "preds = list(map(discretizer, preds))\n",
    "\n",
    "precision = precision_score(y_true=y, y_pred=preds)\n",
    "recall = recall_score(y_true=y, y_pred=preds)\n",
    "fscore = f1_score(y_true=y, y_pred=preds)\n",
    "\n",
    "print('Recall - All Data: {:2.3}'.format(recall))\n",
    "print('Precision - All Data: {:2.3}'.format(precision))\n",
    "print('F-Score - All Data: {:2.3}'.format(fscore))\n",
    "\n",
    "print(et.feature_importances_)"
   ]
  }
 ],
 "metadata": {
  "kernelspec": {
   "display_name": "Python 3",
   "language": "python",
   "name": "python3"
  },
  "language_info": {
   "codemirror_mode": {
    "name": "ipython",
    "version": 3
   },
   "file_extension": ".py",
   "mimetype": "text/x-python",
   "name": "python",
   "nbconvert_exporter": "python",
   "pygments_lexer": "ipython3",
   "version": "3.6.6"
  }
 },
 "nbformat": 4,
 "nbformat_minor": 2
}

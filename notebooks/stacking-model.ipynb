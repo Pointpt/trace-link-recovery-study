{
 "cells": [
  {
   "cell_type": "markdown",
   "metadata": {},
   "source": [
    "# Introduction\n",
    "\n",
    "In this notebook we demonstrate the use of an **Stacking Model**, based on **Logistic Regression** model, in the Information Retrieval context to make trace link recovery between Use Cases and Bug Reports.\n",
    "\n",
    "We model our study as follows:\n",
    "\n",
    "* Each bug report title, summary and description compose a single query.\n",
    "* We use each use case content as an entire document that must be returned to the query made"
   ]
  },
  {
   "cell_type": "markdown",
   "metadata": {},
   "source": [
    "### Import Libraries"
   ]
  },
  {
   "cell_type": "code",
   "execution_count": 1,
   "metadata": {},
   "outputs": [],
   "source": [
    "import pandas as pd\n",
    "import numpy as np\n",
    "import seaborn as sns\n",
    "\n",
    "from sklearn.model_selection import train_test_split\n",
    "from sklearn.metrics import recall_score, precision_score, f1_score\n",
    "from sklearn.linear_model import LogisticRegressionCV\n",
    "\n",
    "from imblearn.over_sampling import SMOTE, ADASYN\n",
    "\n",
    "from enum import Enum\n",
    "from collections import Counter\n",
    "\n",
    "#from utils import plots\n",
    "from utils import oracle_loader as ol\n",
    "from utils import jedit_dataset as jd\n",
    "from utils import model_evaluator as m_eval\n",
    "from utils import generic_model as g_model"
   ]
  },
  {
   "cell_type": "markdown",
   "metadata": {},
   "source": [
    "### Load Dataset and Preprocessing"
   ]
  },
  {
   "cell_type": "code",
   "execution_count": 2,
   "metadata": {},
   "outputs": [],
   "source": [
    "trace_df = jd.read_trace_df()\n",
    "artfs_desc_df = jd.read_artfs_desc_df()\n",
    "\n",
    "use_cases_df = artfs_desc_df[artfs_desc_df.artf_description.str.contains('Use Case ID')]\n",
    "bug_reports_df = artfs_desc_df[artfs_desc_df.artf_description.str.contains('Bug Number')]\n",
    "\n",
    "corpus = use_cases_df.artf_description\n",
    "query = bug_reports_df.artf_description\n",
    "\n",
    "use_cases_names = use_cases_df.artf_name\n",
    "bug_reports_names = bug_reports_df.artf_name\n",
    "\n",
    "orc = ol.OracleLoader(use_cases_names, bug_reports_names)\n",
    "orc.load(trace_df)"
   ]
  },
  {
   "cell_type": "markdown",
   "metadata": {},
   "source": [
    "### Load Models Results"
   ]
  },
  {
   "cell_type": "code",
   "execution_count": 3,
   "metadata": {},
   "outputs": [],
   "source": [
    "lsi_results_df = pd.read_csv('best_models_sim_matrix/lsi.csv')\n",
    "lda_results_df = pd.read_csv('best_models_sim_matrix/lda.csv')\n",
    "bm25_results_df = pd.read_csv('best_models_sim_matrix/bm25.csv')\n",
    "wv_results_df = pd.read_csv('best_models_sim_matrix/wordvector.csv')\n",
    "\n",
    "lsi_results_df.set_index('artf_name', inplace=True)\n",
    "lda_results_df.set_index('artf_name', inplace=True)\n",
    "bm25_results_df.set_index('artf_name', inplace=True)\n",
    "wv_results_df.set_index('artf_name', inplace=True)"
   ]
  },
  {
   "cell_type": "markdown",
   "metadata": {},
   "source": [
    "### Tranform Results Matrices to Vectors"
   ]
  },
  {
   "cell_type": "code",
   "execution_count": 4,
   "metadata": {},
   "outputs": [],
   "source": [
    "def transform_sim_matrix_to_sim_vec(sim_matrix_df, model_name):\n",
    "    sim_vec_df = pd.DataFrame(columns=[model_name])\n",
    "    for col in sim_matrix_df.columns:\n",
    "        for idx, row in sim_matrix_df.iterrows():\n",
    "            artfs_names = '{}_{}'.format(idx, col)\n",
    "            sim_vec_df.at[artfs_names, model_name] = row[col]\n",
    "    return sim_vec_df\n",
    "\n",
    "sim_vec_lsi = transform_sim_matrix_to_sim_vec(lsi_results_df, 'lsi')\n",
    "sim_vec_lda = transform_sim_matrix_to_sim_vec(lda_results_df, 'lda')\n",
    "sim_vec_bm25 = transform_sim_matrix_to_sim_vec(bm25_results_df, 'bm25')\n",
    "sim_vec_wv = transform_sim_matrix_to_sim_vec(wv_results_df, 'wv')"
   ]
  },
  {
   "cell_type": "markdown",
   "metadata": {},
   "source": [
    "### Transform Vectors to DataFrame"
   ]
  },
  {
   "cell_type": "code",
   "execution_count": 5,
   "metadata": {},
   "outputs": [
    {
     "data": {
      "text/html": [
       "<div>\n",
       "<style scoped>\n",
       "    .dataframe tbody tr th:only-of-type {\n",
       "        vertical-align: middle;\n",
       "    }\n",
       "\n",
       "    .dataframe tbody tr th {\n",
       "        vertical-align: top;\n",
       "    }\n",
       "\n",
       "    .dataframe thead th {\n",
       "        text-align: right;\n",
       "    }\n",
       "</style>\n",
       "<table border=\"1\" class=\"dataframe\">\n",
       "  <thead>\n",
       "    <tr style=\"text-align: right;\">\n",
       "      <th></th>\n",
       "      <th>lsi</th>\n",
       "      <th>lda</th>\n",
       "      <th>bm25</th>\n",
       "      <th>wv</th>\n",
       "      <th>ens_pred</th>\n",
       "    </tr>\n",
       "  </thead>\n",
       "  <tbody>\n",
       "    <tr>\n",
       "      <th>UC_003_TRG_BR_4020_SRC</th>\n",
       "      <td>0.361541</td>\n",
       "      <td>0.988073</td>\n",
       "      <td>7.08953</td>\n",
       "      <td>0.922483</td>\n",
       "      <td>NaN</td>\n",
       "    </tr>\n",
       "    <tr>\n",
       "      <th>UC_007_TRG_BR_4020_SRC</th>\n",
       "      <td>0.46841</td>\n",
       "      <td>0.9881</td>\n",
       "      <td>9.83479</td>\n",
       "      <td>0.878566</td>\n",
       "      <td>NaN</td>\n",
       "    </tr>\n",
       "    <tr>\n",
       "      <th>UC_010_TRG_BR_4020_SRC</th>\n",
       "      <td>0.690679</td>\n",
       "      <td>0.154894</td>\n",
       "      <td>16.8103</td>\n",
       "      <td>0.906589</td>\n",
       "      <td>NaN</td>\n",
       "    </tr>\n",
       "    <tr>\n",
       "      <th>UC_002_TRG_BR_4020_SRC</th>\n",
       "      <td>0.897997</td>\n",
       "      <td>0.988134</td>\n",
       "      <td>5.33088</td>\n",
       "      <td>0.923327</td>\n",
       "      <td>NaN</td>\n",
       "    </tr>\n",
       "    <tr>\n",
       "      <th>UC_006_TRG_BR_4020_SRC</th>\n",
       "      <td>0.911746</td>\n",
       "      <td>0.988105</td>\n",
       "      <td>5.08051</td>\n",
       "      <td>0.924785</td>\n",
       "      <td>NaN</td>\n",
       "    </tr>\n",
       "  </tbody>\n",
       "</table>\n",
       "</div>"
      ],
      "text/plain": [
       "                             lsi       lda     bm25        wv ens_pred\n",
       "UC_003_TRG_BR_4020_SRC  0.361541  0.988073  7.08953  0.922483      NaN\n",
       "UC_007_TRG_BR_4020_SRC   0.46841    0.9881  9.83479  0.878566      NaN\n",
       "UC_010_TRG_BR_4020_SRC  0.690679  0.154894  16.8103  0.906589      NaN\n",
       "UC_002_TRG_BR_4020_SRC  0.897997  0.988134  5.33088  0.923327      NaN\n",
       "UC_006_TRG_BR_4020_SRC  0.911746  0.988105  5.08051  0.924785      NaN"
      ]
     },
     "execution_count": 5,
     "metadata": {},
     "output_type": "execute_result"
    }
   ],
   "source": [
    "ensemble_input_df = pd.DataFrame(columns=['ens_pred'], index=sim_vec_lsi.index)\n",
    "\n",
    "out_df = pd.merge(ensemble_input_df, sim_vec_lsi, left_index=True, right_index=True)\n",
    "out_df = pd.merge(out_df, sim_vec_lda, left_index=True, right_index=True)\n",
    "out_df = pd.merge(out_df, sim_vec_bm25, left_index=True, right_index=True)\n",
    "out_df = pd.merge(out_df, sim_vec_wv, left_index=True, right_index=True)\n",
    "\n",
    "new_order = [1,2,3,4,0]\n",
    "out_df = out_df[out_df.columns[new_order]]\n",
    "\n",
    "ensemble_input_df = out_df.copy()\n",
    "ensemble_input_df.head()"
   ]
  },
  {
   "cell_type": "markdown",
   "metadata": {},
   "source": [
    "### Insert Oracle Data"
   ]
  },
  {
   "cell_type": "code",
   "execution_count": 8,
   "metadata": {},
   "outputs": [
    {
     "data": {
      "text/html": [
       "<div>\n",
       "<style scoped>\n",
       "    .dataframe tbody tr th:only-of-type {\n",
       "        vertical-align: middle;\n",
       "    }\n",
       "\n",
       "    .dataframe tbody tr th {\n",
       "        vertical-align: top;\n",
       "    }\n",
       "\n",
       "    .dataframe thead th {\n",
       "        text-align: right;\n",
       "    }\n",
       "</style>\n",
       "<table border=\"1\" class=\"dataframe\">\n",
       "  <thead>\n",
       "    <tr style=\"text-align: right;\">\n",
       "      <th></th>\n",
       "      <th>lsi</th>\n",
       "      <th>lda</th>\n",
       "      <th>bm25</th>\n",
       "      <th>wv</th>\n",
       "      <th>oracle_x</th>\n",
       "      <th>ens_pred</th>\n",
       "    </tr>\n",
       "  </thead>\n",
       "  <tbody>\n",
       "    <tr>\n",
       "      <th>UC_003_TRG_BR_4020_SRC</th>\n",
       "      <td>0.361541</td>\n",
       "      <td>0.988073</td>\n",
       "      <td>7.08953</td>\n",
       "      <td>0.922483</td>\n",
       "      <td>0.0</td>\n",
       "      <td>NaN</td>\n",
       "    </tr>\n",
       "    <tr>\n",
       "      <th>UC_007_TRG_BR_4020_SRC</th>\n",
       "      <td>0.46841</td>\n",
       "      <td>0.9881</td>\n",
       "      <td>9.83479</td>\n",
       "      <td>0.878566</td>\n",
       "      <td>0.0</td>\n",
       "      <td>NaN</td>\n",
       "    </tr>\n",
       "    <tr>\n",
       "      <th>UC_010_TRG_BR_4020_SRC</th>\n",
       "      <td>0.690679</td>\n",
       "      <td>0.154894</td>\n",
       "      <td>16.8103</td>\n",
       "      <td>0.906589</td>\n",
       "      <td>0.0</td>\n",
       "      <td>NaN</td>\n",
       "    </tr>\n",
       "    <tr>\n",
       "      <th>UC_002_TRG_BR_4020_SRC</th>\n",
       "      <td>0.897997</td>\n",
       "      <td>0.988134</td>\n",
       "      <td>5.33088</td>\n",
       "      <td>0.923327</td>\n",
       "      <td>0.0</td>\n",
       "      <td>NaN</td>\n",
       "    </tr>\n",
       "    <tr>\n",
       "      <th>UC_006_TRG_BR_4020_SRC</th>\n",
       "      <td>0.911746</td>\n",
       "      <td>0.988105</td>\n",
       "      <td>5.08051</td>\n",
       "      <td>0.924785</td>\n",
       "      <td>1.0</td>\n",
       "      <td>NaN</td>\n",
       "    </tr>\n",
       "    <tr>\n",
       "      <th>UC_004_TRG_BR_4020_SRC</th>\n",
       "      <td>0.814917</td>\n",
       "      <td>0.988081</td>\n",
       "      <td>3.90633</td>\n",
       "      <td>0.915229</td>\n",
       "      <td>0.0</td>\n",
       "      <td>NaN</td>\n",
       "    </tr>\n",
       "    <tr>\n",
       "      <th>UC_005_TRG_BR_4020_SRC</th>\n",
       "      <td>0.921105</td>\n",
       "      <td>0.988126</td>\n",
       "      <td>5.31983</td>\n",
       "      <td>0.917549</td>\n",
       "      <td>1.0</td>\n",
       "      <td>NaN</td>\n",
       "    </tr>\n",
       "    <tr>\n",
       "      <th>UC_008_TRG_BR_4020_SRC</th>\n",
       "      <td>0.567673</td>\n",
       "      <td>0.988148</td>\n",
       "      <td>13.3005</td>\n",
       "      <td>0.900552</td>\n",
       "      <td>0.0</td>\n",
       "      <td>NaN</td>\n",
       "    </tr>\n",
       "    <tr>\n",
       "      <th>UC_001_TRG_BR_4020_SRC</th>\n",
       "      <td>0.347406</td>\n",
       "      <td>0.988092</td>\n",
       "      <td>2.34608</td>\n",
       "      <td>0.91602</td>\n",
       "      <td>0.0</td>\n",
       "      <td>NaN</td>\n",
       "    </tr>\n",
       "    <tr>\n",
       "      <th>UC_009_TRG_BR_4020_SRC</th>\n",
       "      <td>0.565652</td>\n",
       "      <td>0.154902</td>\n",
       "      <td>5.41828</td>\n",
       "      <td>0.899775</td>\n",
       "      <td>0.0</td>\n",
       "      <td>NaN</td>\n",
       "    </tr>\n",
       "    <tr>\n",
       "      <th>UC_003_TRG_BR_3890_SRC</th>\n",
       "      <td>0.456064</td>\n",
       "      <td>0.989082</td>\n",
       "      <td>0</td>\n",
       "      <td>0.726245</td>\n",
       "      <td>0.0</td>\n",
       "      <td>NaN</td>\n",
       "    </tr>\n",
       "    <tr>\n",
       "      <th>UC_007_TRG_BR_3890_SRC</th>\n",
       "      <td>0.588963</td>\n",
       "      <td>0.989119</td>\n",
       "      <td>1.79749</td>\n",
       "      <td>0.693408</td>\n",
       "      <td>0.0</td>\n",
       "      <td>NaN</td>\n",
       "    </tr>\n",
       "    <tr>\n",
       "      <th>UC_010_TRG_BR_3890_SRC</th>\n",
       "      <td>0.727966</td>\n",
       "      <td>0.145717</td>\n",
       "      <td>0</td>\n",
       "      <td>0.751727</td>\n",
       "      <td>0.0</td>\n",
       "      <td>NaN</td>\n",
       "    </tr>\n",
       "    <tr>\n",
       "      <th>UC_002_TRG_BR_3890_SRC</th>\n",
       "      <td>0.91068</td>\n",
       "      <td>0.989166</td>\n",
       "      <td>0</td>\n",
       "      <td>0.746636</td>\n",
       "      <td>0.0</td>\n",
       "      <td>NaN</td>\n",
       "    </tr>\n",
       "    <tr>\n",
       "      <th>UC_006_TRG_BR_3890_SRC</th>\n",
       "      <td>0.879397</td>\n",
       "      <td>0.989126</td>\n",
       "      <td>0</td>\n",
       "      <td>0.76295</td>\n",
       "      <td>1.0</td>\n",
       "      <td>NaN</td>\n",
       "    </tr>\n",
       "  </tbody>\n",
       "</table>\n",
       "</div>"
      ],
      "text/plain": [
       "                             lsi       lda     bm25        wv  oracle_x  \\\n",
       "UC_003_TRG_BR_4020_SRC  0.361541  0.988073  7.08953  0.922483       0.0   \n",
       "UC_007_TRG_BR_4020_SRC   0.46841    0.9881  9.83479  0.878566       0.0   \n",
       "UC_010_TRG_BR_4020_SRC  0.690679  0.154894  16.8103  0.906589       0.0   \n",
       "UC_002_TRG_BR_4020_SRC  0.897997  0.988134  5.33088  0.923327       0.0   \n",
       "UC_006_TRG_BR_4020_SRC  0.911746  0.988105  5.08051  0.924785       1.0   \n",
       "UC_004_TRG_BR_4020_SRC  0.814917  0.988081  3.90633  0.915229       0.0   \n",
       "UC_005_TRG_BR_4020_SRC  0.921105  0.988126  5.31983  0.917549       1.0   \n",
       "UC_008_TRG_BR_4020_SRC  0.567673  0.988148  13.3005  0.900552       0.0   \n",
       "UC_001_TRG_BR_4020_SRC  0.347406  0.988092  2.34608   0.91602       0.0   \n",
       "UC_009_TRG_BR_4020_SRC  0.565652  0.154902  5.41828  0.899775       0.0   \n",
       "UC_003_TRG_BR_3890_SRC  0.456064  0.989082        0  0.726245       0.0   \n",
       "UC_007_TRG_BR_3890_SRC  0.588963  0.989119  1.79749  0.693408       0.0   \n",
       "UC_010_TRG_BR_3890_SRC  0.727966  0.145717        0  0.751727       0.0   \n",
       "UC_002_TRG_BR_3890_SRC   0.91068  0.989166        0  0.746636       0.0   \n",
       "UC_006_TRG_BR_3890_SRC  0.879397  0.989126        0   0.76295       1.0   \n",
       "\n",
       "                       ens_pred  \n",
       "UC_003_TRG_BR_4020_SRC      NaN  \n",
       "UC_007_TRG_BR_4020_SRC      NaN  \n",
       "UC_010_TRG_BR_4020_SRC      NaN  \n",
       "UC_002_TRG_BR_4020_SRC      NaN  \n",
       "UC_006_TRG_BR_4020_SRC      NaN  \n",
       "UC_004_TRG_BR_4020_SRC      NaN  \n",
       "UC_005_TRG_BR_4020_SRC      NaN  \n",
       "UC_008_TRG_BR_4020_SRC      NaN  \n",
       "UC_001_TRG_BR_4020_SRC      NaN  \n",
       "UC_009_TRG_BR_4020_SRC      NaN  \n",
       "UC_003_TRG_BR_3890_SRC      NaN  \n",
       "UC_007_TRG_BR_3890_SRC      NaN  \n",
       "UC_010_TRG_BR_3890_SRC      NaN  \n",
       "UC_002_TRG_BR_3890_SRC      NaN  \n",
       "UC_006_TRG_BR_3890_SRC      NaN  "
      ]
     },
     "execution_count": 8,
     "metadata": {},
     "output_type": "execute_result"
    }
   ],
   "source": [
    "orc_vec_df = transform_sim_matrix_to_sim_vec(orc.oracle, 'oracle')\n",
    "\n",
    "ensemble_input_df = pd.merge(ensemble_input_df, orc_vec_df, left_index=True, right_index=True)\n",
    "\n",
    "new_order = [0,1,2,3,5,4]\n",
    "ensemble_input_df = ensemble_input_df[ensemble_input_df.columns[new_order]]\n",
    "\n",
    "ensemble_input_df.head(15)"
   ]
  },
  {
   "cell_type": "markdown",
   "metadata": {},
   "source": [
    "### Balancing Dataset and Split Data on Train and Test"
   ]
  },
  {
   "cell_type": "code",
   "execution_count": 48,
   "metadata": {},
   "outputs": [
    {
     "name": "stdout",
     "output_type": "stream",
     "text": [
      "(112, 4) (112,) (28, 4) (28,)\n",
      "Train SMOTE: [(0.0, 96), (1.0, 96)]\n"
     ]
    }
   ],
   "source": [
    "ensemble_input_df = ensemble_input_df.infer_objects()\n",
    "\n",
    "X = ensemble_input_df[['lsi','lda','bm25','wv']]\n",
    "y = ensemble_input_df['oracle']\n",
    "\n",
    "X_train, X_test, y_train, y_test = train_test_split(X, y, test_size=0.20, random_state=42, shuffle=True)\n",
    "print(X_train.shape, y_train.shape, X_test.shape, y_test.shape)\n",
    "\n",
    "X_train, y_train = SMOTE().fit_resample(X_train, y_train)\n",
    "print(\"Train SMOTE: {}\".format(sorted(Counter(y_train).items())))\n",
    "\n",
    "X_train = pd.DataFrame(X_train, columns=['lsi','lda','bm25','wv'])\n",
    "y_train = pd.DataFrame(y_train)"
   ]
  },
  {
   "cell_type": "markdown",
   "metadata": {},
   "source": [
    "### Discretizer Function"
   ]
  },
  {
   "cell_type": "code",
   "execution_count": 49,
   "metadata": {},
   "outputs": [],
   "source": [
    "def discretizer(x):\n",
    "    return 0 if x < 0.5 else 1"
   ]
  },
  {
   "cell_type": "markdown",
   "metadata": {},
   "source": [
    "### Logistic Regressor"
   ]
  },
  {
   "cell_type": "code",
   "execution_count": 50,
   "metadata": {},
   "outputs": [
    {
     "name": "stdout",
     "output_type": "stream",
     "text": [
      "Recall - Test Data: 1.0\n",
      "Precision - Test Data: 0.5\n",
      "F-Score  - Test Data: 0.667\n",
      "[[ 8.96483893  1.26924417  0.03050525 -6.34493974]]\n"
     ]
    },
    {
     "name": "stderr",
     "output_type": "stream",
     "text": [
      "/home/guilherme/anaconda3/envs/trace-link-recovery-study/lib/python3.6/site-packages/sklearn/utils/validation.py:761: DataConversionWarning: A column-vector y was passed when a 1d array was expected. Please change the shape of y to (n_samples, ), for example using ravel().\n",
      "  y = column_or_1d(y, warn=True)\n"
     ]
    }
   ],
   "source": [
    "stack_model = LogisticRegressionCV(cv=3, scoring='recall').fit(X_train, y_train)\n",
    "\n",
    "preds = stack_model.predict_proba(X_test)[:,1]\n",
    "preds = list(map(discretizer, preds))\n",
    "    \n",
    "precision = precision_score(y_true=y_test, y_pred=preds)\n",
    "recall = recall_score(y_true=y_test, y_pred=preds)\n",
    "fscore = f1_score(y_true=y_test, y_pred=preds)\n",
    "\n",
    "print('Recall - Test Data: {:2.3}'.format(recall))\n",
    "print('Precision - Test Data: {:2.3}'.format(precision))\n",
    "print('F-Score  - Test Data: {:2.3}'.format(fscore))\n",
    "\n",
    "print(stack_model.coef_)"
   ]
  },
  {
   "cell_type": "markdown",
   "metadata": {},
   "source": [
    "#### Predict Probabilities over Entire Dataset"
   ]
  },
  {
   "cell_type": "code",
   "execution_count": 51,
   "metadata": {},
   "outputs": [
    {
     "name": "stdout",
     "output_type": "stream",
     "text": [
      "Recall - All Data: 0.947\n",
      "Precision - All Data: 0.409\n",
      "F-Score - All Data: 0.571\n",
      "[[ 8.96483893  1.26924417  0.03050525 -6.34493974]]\n"
     ]
    }
   ],
   "source": [
    "preds = stack_model.predict_proba(X)[:,1]\n",
    "preds = list(map(discretizer, preds))\n",
    "    \n",
    "precision = precision_score(y_true=y, y_pred=preds)\n",
    "recall = recall_score(y_true=y, y_pred=preds)\n",
    "fscore = f1_score(y_true=y, y_pred=preds)\n",
    "\n",
    "print('Recall - All Data: {:2.3}'.format(recall))\n",
    "print('Precision - All Data: {:2.3}'.format(precision))\n",
    "print('F-Score - All Data: {:2.3}'.format(fscore))\n",
    "\n",
    "print(stack_model.coef_)"
   ]
  },
  {
   "cell_type": "markdown",
   "metadata": {},
   "source": [
    "### Test with Other Model Types"
   ]
  },
  {
   "cell_type": "markdown",
   "metadata": {},
   "source": [
    "#### XGBoost"
   ]
  },
  {
   "cell_type": "code",
   "execution_count": 52,
   "metadata": {},
   "outputs": [
    {
     "name": "stdout",
     "output_type": "stream",
     "text": [
      "Recall - Test Data: 0.333\n",
      "Precision - Test Data: 0.25\n",
      "F-Score - Test Data: 0.286\n",
      "[0.32142857 0.11428571 0.25       0.31428573]\n"
     ]
    },
    {
     "name": "stderr",
     "output_type": "stream",
     "text": [
      "/home/guilherme/anaconda3/envs/trace-link-recovery-study/lib/python3.6/site-packages/sklearn/preprocessing/label.py:219: DataConversionWarning: A column-vector y was passed when a 1d array was expected. Please change the shape of y to (n_samples, ), for example using ravel().\n",
      "  y = column_or_1d(y, warn=True)\n",
      "/home/guilherme/anaconda3/envs/trace-link-recovery-study/lib/python3.6/site-packages/sklearn/preprocessing/label.py:252: DataConversionWarning: A column-vector y was passed when a 1d array was expected. Please change the shape of y to (n_samples, ), for example using ravel().\n",
      "  y = column_or_1d(y, warn=True)\n"
     ]
    }
   ],
   "source": [
    "from xgboost import XGBClassifier\n",
    "\n",
    "xgb = XGBClassifier(seed=42).fit(X_train, y_train)\n",
    "\n",
    "preds = xgb.predict_proba(X_test)[:,1]\n",
    "preds = list(map(discretizer, preds))\n",
    "\n",
    "precision = precision_score(y_true=y_test, y_pred=preds)\n",
    "recall = recall_score(y_true=y_test, y_pred=preds)\n",
    "fscore = f1_score(y_true=y_test, y_pred=preds)\n",
    "\n",
    "print('Recall - Test Data: {:2.3}'.format(recall))\n",
    "print('Precision - Test Data: {:2.3}'.format(precision))\n",
    "print('F-Score - Test Data: {:2.3}'.format(fscore))\n",
    "\n",
    "print(xgb.feature_importances_)"
   ]
  },
  {
   "cell_type": "markdown",
   "metadata": {},
   "source": [
    "#### Predict Probabilities over Entire Dataset"
   ]
  },
  {
   "cell_type": "code",
   "execution_count": 53,
   "metadata": {},
   "outputs": [
    {
     "name": "stdout",
     "output_type": "stream",
     "text": [
      "Recall - Test Data: 0.842\n",
      "Precision - Test Data: 0.8\n",
      "F-Score - Test Data: 0.821\n",
      "[0.32142857 0.11428571 0.25       0.31428573]\n"
     ]
    }
   ],
   "source": [
    "preds = xgb.predict_proba(X)[:,1]\n",
    "preds = list(map(discretizer, preds))\n",
    "\n",
    "precision = precision_score(y_true=y, y_pred=preds)\n",
    "recall = recall_score(y_true=y, y_pred=preds)\n",
    "fscore = f1_score(y_true=y, y_pred=preds)\n",
    "\n",
    "print('Recall - Test Data: {:2.3}'.format(recall))\n",
    "print('Precision - Test Data: {:2.3}'.format(precision))\n",
    "print('F-Score - Test Data: {:2.3}'.format(fscore))\n",
    "\n",
    "print(xgb.feature_importances_)"
   ]
  },
  {
   "cell_type": "markdown",
   "metadata": {},
   "source": [
    "#### Extra Trees Classifier"
   ]
  },
  {
   "cell_type": "code",
   "execution_count": 54,
   "metadata": {},
   "outputs": [
    {
     "name": "stdout",
     "output_type": "stream",
     "text": [
      "Recall - Test Data 0.667\n",
      "Precision - Test Data: 0.4\n",
      "F-Score - Test Data: 0.5\n",
      "[0.50901156 0.14735919 0.12649077 0.21713847]\n"
     ]
    },
    {
     "name": "stderr",
     "output_type": "stream",
     "text": [
      "/home/guilherme/anaconda3/envs/trace-link-recovery-study/lib/python3.6/site-packages/sklearn/ensemble/forest.py:246: FutureWarning: The default value of n_estimators will change from 10 in version 0.20 to 100 in 0.22.\n",
      "  \"10 in version 0.20 to 100 in 0.22.\", FutureWarning)\n",
      "/home/guilherme/anaconda3/envs/trace-link-recovery-study/lib/python3.6/site-packages/ipykernel_launcher.py:8: DataConversionWarning: A column-vector y was passed when a 1d array was expected. Please change the shape of y to (n_samples,), for example using ravel().\n",
      "  \n"
     ]
    }
   ],
   "source": [
    "from sklearn.ensemble import ExtraTreesClassifier\n",
    "\n",
    "et = ExtraTreesClassifier(random_state=42).fit(X_train, y_train)\n",
    "\n",
    "preds = et.predict_proba(X_test)[:,1]\n",
    "preds = list(map(discretizer, preds))\n",
    "\n",
    "precision = precision_score(y_true=y_test, y_pred=preds)\n",
    "recall = recall_score(y_true=y_test, y_pred=preds)\n",
    "fscore = f1_score(y_true=y_test, y_pred=preds)\n",
    "\n",
    "print('Recall - Test Data {:2.3}'.format(recall))\n",
    "print('Precision - Test Data: {:2.3}'.format(precision))\n",
    "print('F-Score - Test Data: {:2.3}'.format(fscore))\n",
    "\n",
    "print(et.feature_importances_)"
   ]
  },
  {
   "cell_type": "markdown",
   "metadata": {},
   "source": [
    "#### Predict Probabilities over Entire Dataset"
   ]
  },
  {
   "cell_type": "code",
   "execution_count": 55,
   "metadata": {},
   "outputs": [
    {
     "name": "stdout",
     "output_type": "stream",
     "text": [
      "Recall - All Data: 0.947\n",
      "Precision - All Data: 0.857\n",
      "F-Score - All Data: 0.9\n",
      "[0.50901156 0.14735919 0.12649077 0.21713847]\n"
     ]
    }
   ],
   "source": [
    "preds = et.predict_proba(X)[:,1]\n",
    "preds = list(map(discretizer, preds))\n",
    "\n",
    "precision = precision_score(y_true=y, y_pred=preds)\n",
    "recall = recall_score(y_true=y, y_pred=preds)\n",
    "fscore = f1_score(y_true=y, y_pred=preds)\n",
    "\n",
    "print('Recall - All Data: {:2.3}'.format(recall))\n",
    "print('Precision - All Data: {:2.3}'.format(precision))\n",
    "print('F-Score - All Data: {:2.3}'.format(fscore))\n",
    "\n",
    "print(et.feature_importances_)"
   ]
  }
 ],
 "metadata": {
  "kernelspec": {
   "display_name": "Python 3",
   "language": "python",
   "name": "python3"
  },
  "language_info": {
   "codemirror_mode": {
    "name": "ipython",
    "version": 3
   },
   "file_extension": ".py",
   "mimetype": "text/x-python",
   "name": "python",
   "nbconvert_exporter": "python",
   "pygments_lexer": "ipython3",
   "version": "3.6.6"
  }
 },
 "nbformat": 4,
 "nbformat_minor": 2
}

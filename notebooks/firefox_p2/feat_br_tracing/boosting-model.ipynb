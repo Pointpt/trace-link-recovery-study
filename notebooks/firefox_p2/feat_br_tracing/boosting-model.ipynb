{
 "cells": [
  {
   "cell_type": "markdown",
   "metadata": {},
   "source": [
    "# Introduction\n",
    "\n",
    "Notebook to test a **boosting** model in the context of traceability between features and bug reports."
   ]
  },
  {
   "cell_type": "markdown",
   "metadata": {},
   "source": [
    "# Load Libraries and Datasets"
   ]
  },
  {
   "cell_type": "code",
   "execution_count": 1,
   "metadata": {},
   "outputs": [],
   "source": [
    "from mod_finder_util import mod_finder_util\n",
    "mod_finder_util.add_modules_origin_search_path()\n",
    "\n",
    "import pandas as pd\n",
    "import numpy as np\n",
    "\n",
    "from modules.models_runner.feat_br_models_runner import Feat_BR_Models_Runner\n",
    "from modules.utils import firefox_dataset_p2 as fd\n",
    "from modules.utils import aux_functions\n",
    "from modules.utils import model_evaluator as m_eval\n",
    "from modules.utils import similarity_measures as sm\n",
    "\n",
    "from sklearn.model_selection import train_test_split\n",
    "from sklearn.metrics import recall_score, precision_score, f1_score\n",
    "from sklearn.linear_model import LogisticRegressionCV\n",
    "\n",
    "from imblearn.over_sampling import SMOTE, ADASYN\n",
    "\n",
    "from enum import Enum\n",
    "from collections import Counter\n",
    "\n",
    "import warnings; warnings.simplefilter('ignore')"
   ]
  },
  {
   "cell_type": "markdown",
   "metadata": {},
   "source": [
    "# Run All Models"
   ]
  },
  {
   "cell_type": "markdown",
   "metadata": {},
   "source": [
    "## Volunteers Only Strategy"
   ]
  },
  {
   "cell_type": "code",
   "execution_count": 2,
   "metadata": {},
   "outputs": [
    {
     "name": "stdout",
     "output_type": "stream",
     "text": [
      "Features.shape: (19, 8)\n",
      "SelectedBugReports.shape: (91, 18)\n",
      "Running LSI model -----\n",
      "Running LDA model -----\n",
      "Running BM25 model -----\n",
      "Running W2V model -----\n"
     ]
    }
   ],
   "source": [
    "models_runner_4 = Feat_BR_Models_Runner()\n",
    "lsi_model_4 = models_runner_4.run_lsi_model()\n",
    "lda_model_4 = models_runner_4.run_lda_model()\n",
    "bm25_model_4 = models_runner_4.run_bm25_model()\n",
    "w2v_model_4 = models_runner_4.run_word2vec_model()"
   ]
  },
  {
   "cell_type": "markdown",
   "metadata": {},
   "source": [
    "# Ensemble Model"
   ]
  },
  {
   "cell_type": "markdown",
   "metadata": {},
   "source": [
    "## Tranform Results Matrices to Vectors"
   ]
  },
  {
   "cell_type": "code",
   "execution_count": 3,
   "metadata": {},
   "outputs": [],
   "source": [
    "def transform_sim_matrix_to_sim_vec(sim_matrix_df, model_name):\n",
    "    sim_vec_df = pd.DataFrame(columns=[model_name])\n",
    "    for col in sim_matrix_df.columns:\n",
    "        for idx, row in sim_matrix_df.iterrows():\n",
    "            artfs_names = '{}_{}'.format(idx, col)\n",
    "            sim_vec_df.at[artfs_names, model_name] = row[col]\n",
    "    return sim_vec_df\n",
    "\n",
    "sim_vec_lsi = transform_sim_matrix_to_sim_vec(lsi_model_4.get_sim_matrix(), 'lsi')\n",
    "sim_vec_lda = transform_sim_matrix_to_sim_vec(lda_model_4.get_sim_matrix(), 'lda')\n",
    "sim_vec_bm25 = transform_sim_matrix_to_sim_vec(bm25_model_4.get_sim_matrix(), 'bm25')\n",
    "sim_vec_wv = transform_sim_matrix_to_sim_vec(w2v_model_4.get_sim_matrix(), 'wv')"
   ]
  },
  {
   "cell_type": "markdown",
   "metadata": {},
   "source": [
    "## Transform Vectors to DataFrame"
   ]
  },
  {
   "cell_type": "code",
   "execution_count": 4,
   "metadata": {},
   "outputs": [
    {
     "data": {
      "text/html": [
       "<div>\n",
       "<style scoped>\n",
       "    .dataframe tbody tr th:only-of-type {\n",
       "        vertical-align: middle;\n",
       "    }\n",
       "\n",
       "    .dataframe tbody tr th {\n",
       "        vertical-align: top;\n",
       "    }\n",
       "\n",
       "    .dataframe thead th {\n",
       "        text-align: right;\n",
       "    }\n",
       "</style>\n",
       "<table border=\"1\" class=\"dataframe\">\n",
       "  <thead>\n",
       "    <tr style=\"text-align: right;\">\n",
       "      <th></th>\n",
       "      <th>lsi</th>\n",
       "      <th>lda</th>\n",
       "      <th>bm25</th>\n",
       "      <th>wv</th>\n",
       "      <th>pred</th>\n",
       "    </tr>\n",
       "  </thead>\n",
       "  <tbody>\n",
       "    <tr>\n",
       "      <th>new_awesome_bar_1248267</th>\n",
       "      <td>0.31417</td>\n",
       "      <td>0.869301</td>\n",
       "      <td>46.17</td>\n",
       "      <td>0.934949</td>\n",
       "      <td>NaN</td>\n",
       "    </tr>\n",
       "    <tr>\n",
       "      <th>windows_child_mode_1248267</th>\n",
       "      <td>0.0572629</td>\n",
       "      <td>0.374227</td>\n",
       "      <td>23.155</td>\n",
       "      <td>0.843091</td>\n",
       "      <td>NaN</td>\n",
       "    </tr>\n",
       "    <tr>\n",
       "      <th>apz_async_scrolling_1248267</th>\n",
       "      <td>0.00130207</td>\n",
       "      <td>0.605183</td>\n",
       "      <td>12.7326</td>\n",
       "      <td>0.822531</td>\n",
       "      <td>NaN</td>\n",
       "    </tr>\n",
       "    <tr>\n",
       "      <th>browser_customization_1248267</th>\n",
       "      <td>0.0285014</td>\n",
       "      <td>0.871522</td>\n",
       "      <td>10.4111</td>\n",
       "      <td>0.835262</td>\n",
       "      <td>NaN</td>\n",
       "    </tr>\n",
       "    <tr>\n",
       "      <th>pdf_viewer_1248267</th>\n",
       "      <td>0.00596331</td>\n",
       "      <td>0.304652</td>\n",
       "      <td>15.5965</td>\n",
       "      <td>0.778693</td>\n",
       "      <td>NaN</td>\n",
       "    </tr>\n",
       "  </tbody>\n",
       "</table>\n",
       "</div>"
      ],
      "text/plain": [
       "                                      lsi       lda     bm25        wv pred\n",
       "new_awesome_bar_1248267           0.31417  0.869301    46.17  0.934949  NaN\n",
       "windows_child_mode_1248267      0.0572629  0.374227   23.155  0.843091  NaN\n",
       "apz_async_scrolling_1248267    0.00130207  0.605183  12.7326  0.822531  NaN\n",
       "browser_customization_1248267   0.0285014  0.871522  10.4111  0.835262  NaN\n",
       "pdf_viewer_1248267             0.00596331  0.304652  15.5965  0.778693  NaN"
      ]
     },
     "execution_count": 4,
     "metadata": {},
     "output_type": "execute_result"
    }
   ],
   "source": [
    "ensemble_input_df = pd.DataFrame(columns=['pred'], index=sim_vec_lsi.index)\n",
    "\n",
    "out_df = pd.merge(ensemble_input_df, sim_vec_lsi, left_index=True, right_index=True)\n",
    "out_df = pd.merge(out_df, sim_vec_lda, left_index=True, right_index=True)\n",
    "out_df = pd.merge(out_df, sim_vec_bm25, left_index=True, right_index=True)\n",
    "out_df = pd.merge(out_df, sim_vec_wv, left_index=True, right_index=True)\n",
    "\n",
    "new_order = [1,2,3,4,0]\n",
    "out_df = out_df[out_df.columns[new_order]]\n",
    "\n",
    "ensemble_input_df = out_df.copy()\n",
    "ensemble_input_df.head()"
   ]
  },
  {
   "cell_type": "markdown",
   "metadata": {},
   "source": [
    "## Insert Oracle Data"
   ]
  },
  {
   "cell_type": "code",
   "execution_count": 5,
   "metadata": {},
   "outputs": [
    {
     "name": "stdout",
     "output_type": "stream",
     "text": [
      "Feat_BR Volunteers Matrix shape: (91, 19)\n"
     ]
    },
    {
     "data": {
      "text/html": [
       "<div>\n",
       "<style scoped>\n",
       "    .dataframe tbody tr th:only-of-type {\n",
       "        vertical-align: middle;\n",
       "    }\n",
       "\n",
       "    .dataframe tbody tr th {\n",
       "        vertical-align: top;\n",
       "    }\n",
       "\n",
       "    .dataframe thead th {\n",
       "        text-align: right;\n",
       "    }\n",
       "</style>\n",
       "<table border=\"1\" class=\"dataframe\">\n",
       "  <thead>\n",
       "    <tr style=\"text-align: right;\">\n",
       "      <th></th>\n",
       "      <th>lsi</th>\n",
       "      <th>lda</th>\n",
       "      <th>bm25</th>\n",
       "      <th>wv</th>\n",
       "      <th>oracle</th>\n",
       "      <th>pred</th>\n",
       "    </tr>\n",
       "  </thead>\n",
       "  <tbody>\n",
       "    <tr>\n",
       "      <th>new_awesome_bar_1248267</th>\n",
       "      <td>0.31417</td>\n",
       "      <td>0.869301</td>\n",
       "      <td>46.17</td>\n",
       "      <td>0.934949</td>\n",
       "      <td>0.0</td>\n",
       "      <td>NaN</td>\n",
       "    </tr>\n",
       "    <tr>\n",
       "      <th>windows_child_mode_1248267</th>\n",
       "      <td>0.0572629</td>\n",
       "      <td>0.374227</td>\n",
       "      <td>23.155</td>\n",
       "      <td>0.843091</td>\n",
       "      <td>0.0</td>\n",
       "      <td>NaN</td>\n",
       "    </tr>\n",
       "    <tr>\n",
       "      <th>apz_async_scrolling_1248267</th>\n",
       "      <td>0.00130207</td>\n",
       "      <td>0.605183</td>\n",
       "      <td>12.7326</td>\n",
       "      <td>0.822531</td>\n",
       "      <td>0.0</td>\n",
       "      <td>NaN</td>\n",
       "    </tr>\n",
       "    <tr>\n",
       "      <th>browser_customization_1248267</th>\n",
       "      <td>0.0285014</td>\n",
       "      <td>0.871522</td>\n",
       "      <td>10.4111</td>\n",
       "      <td>0.835262</td>\n",
       "      <td>0.0</td>\n",
       "      <td>NaN</td>\n",
       "    </tr>\n",
       "    <tr>\n",
       "      <th>pdf_viewer_1248267</th>\n",
       "      <td>0.00596331</td>\n",
       "      <td>0.304652</td>\n",
       "      <td>15.5965</td>\n",
       "      <td>0.778693</td>\n",
       "      <td>0.0</td>\n",
       "      <td>NaN</td>\n",
       "    </tr>\n",
       "    <tr>\n",
       "      <th>context_menu_1248267</th>\n",
       "      <td>0.975032</td>\n",
       "      <td>0.788344</td>\n",
       "      <td>86.6177</td>\n",
       "      <td>0.920058</td>\n",
       "      <td>1.0</td>\n",
       "      <td>NaN</td>\n",
       "    </tr>\n",
       "    <tr>\n",
       "      <th>w10_comp_1248267</th>\n",
       "      <td>0.191083</td>\n",
       "      <td>0.869828</td>\n",
       "      <td>24.3176</td>\n",
       "      <td>0.880215</td>\n",
       "      <td>0.0</td>\n",
       "      <td>NaN</td>\n",
       "    </tr>\n",
       "    <tr>\n",
       "      <th>tts_in_desktop_1248267</th>\n",
       "      <td>0.0197739</td>\n",
       "      <td>0.248741</td>\n",
       "      <td>8.4998</td>\n",
       "      <td>0.831585</td>\n",
       "      <td>0.0</td>\n",
       "      <td>NaN</td>\n",
       "    </tr>\n",
       "    <tr>\n",
       "      <th>tts_in_rm_1248267</th>\n",
       "      <td>0.0262221</td>\n",
       "      <td>0.240972</td>\n",
       "      <td>8.52168</td>\n",
       "      <td>0.84053</td>\n",
       "      <td>0.0</td>\n",
       "      <td>NaN</td>\n",
       "    </tr>\n",
       "    <tr>\n",
       "      <th>webgl_comp_1248267</th>\n",
       "      <td>0.0180356</td>\n",
       "      <td>0.870782</td>\n",
       "      <td>8.3707</td>\n",
       "      <td>0.610047</td>\n",
       "      <td>0.0</td>\n",
       "      <td>NaN</td>\n",
       "    </tr>\n",
       "    <tr>\n",
       "      <th>video_and_canvas_render_1248267</th>\n",
       "      <td>0.0176025</td>\n",
       "      <td>0.43862</td>\n",
       "      <td>8.56585</td>\n",
       "      <td>0.763584</td>\n",
       "      <td>0.0</td>\n",
       "      <td>NaN</td>\n",
       "    </tr>\n",
       "    <tr>\n",
       "      <th>pointer_lock_api_1248267</th>\n",
       "      <td>0.0207505</td>\n",
       "      <td>0.869032</td>\n",
       "      <td>15.1881</td>\n",
       "      <td>0.832721</td>\n",
       "      <td>0.0</td>\n",
       "      <td>NaN</td>\n",
       "    </tr>\n",
       "    <tr>\n",
       "      <th>webm_eme_1248267</th>\n",
       "      <td>0.0136804</td>\n",
       "      <td>0.30161</td>\n",
       "      <td>10.5591</td>\n",
       "      <td>0.796298</td>\n",
       "      <td>0.0</td>\n",
       "      <td>NaN</td>\n",
       "    </tr>\n",
       "    <tr>\n",
       "      <th>zoom_indicator_1248267</th>\n",
       "      <td>0.00399803</td>\n",
       "      <td>0.335298</td>\n",
       "      <td>11.3435</td>\n",
       "      <td>0.827339</td>\n",
       "      <td>0.0</td>\n",
       "      <td>NaN</td>\n",
       "    </tr>\n",
       "    <tr>\n",
       "      <th>downloads_dropmaker_1248267</th>\n",
       "      <td>0.00351897</td>\n",
       "      <td>0.289593</td>\n",
       "      <td>7.53363</td>\n",
       "      <td>0.805222</td>\n",
       "      <td>0.0</td>\n",
       "      <td>NaN</td>\n",
       "    </tr>\n",
       "  </tbody>\n",
       "</table>\n",
       "</div>"
      ],
      "text/plain": [
       "                                        lsi       lda     bm25        wv  \\\n",
       "new_awesome_bar_1248267             0.31417  0.869301    46.17  0.934949   \n",
       "windows_child_mode_1248267        0.0572629  0.374227   23.155  0.843091   \n",
       "apz_async_scrolling_1248267      0.00130207  0.605183  12.7326  0.822531   \n",
       "browser_customization_1248267     0.0285014  0.871522  10.4111  0.835262   \n",
       "pdf_viewer_1248267               0.00596331  0.304652  15.5965  0.778693   \n",
       "context_menu_1248267               0.975032  0.788344  86.6177  0.920058   \n",
       "w10_comp_1248267                   0.191083  0.869828  24.3176  0.880215   \n",
       "tts_in_desktop_1248267            0.0197739  0.248741   8.4998  0.831585   \n",
       "tts_in_rm_1248267                 0.0262221  0.240972  8.52168   0.84053   \n",
       "webgl_comp_1248267                0.0180356  0.870782   8.3707  0.610047   \n",
       "video_and_canvas_render_1248267   0.0176025   0.43862  8.56585  0.763584   \n",
       "pointer_lock_api_1248267          0.0207505  0.869032  15.1881  0.832721   \n",
       "webm_eme_1248267                  0.0136804   0.30161  10.5591  0.796298   \n",
       "zoom_indicator_1248267           0.00399803  0.335298  11.3435  0.827339   \n",
       "downloads_dropmaker_1248267      0.00351897  0.289593  7.53363  0.805222   \n",
       "\n",
       "                                 oracle pred  \n",
       "new_awesome_bar_1248267             0.0  NaN  \n",
       "windows_child_mode_1248267          0.0  NaN  \n",
       "apz_async_scrolling_1248267         0.0  NaN  \n",
       "browser_customization_1248267       0.0  NaN  \n",
       "pdf_viewer_1248267                  0.0  NaN  \n",
       "context_menu_1248267                1.0  NaN  \n",
       "w10_comp_1248267                    0.0  NaN  \n",
       "tts_in_desktop_1248267              0.0  NaN  \n",
       "tts_in_rm_1248267                   0.0  NaN  \n",
       "webgl_comp_1248267                  0.0  NaN  \n",
       "video_and_canvas_render_1248267     0.0  NaN  \n",
       "pointer_lock_api_1248267            0.0  NaN  \n",
       "webm_eme_1248267                    0.0  NaN  \n",
       "zoom_indicator_1248267              0.0  NaN  \n",
       "downloads_dropmaker_1248267         0.0  NaN  "
      ]
     },
     "execution_count": 5,
     "metadata": {},
     "output_type": "execute_result"
    }
   ],
   "source": [
    "orc_vec_df = transform_sim_matrix_to_sim_vec(fd.Feat_BR_Oracles.read_feat_br_volunteers_df().T, 'oracle')\n",
    "\n",
    "ensemble_input_df = pd.merge(ensemble_input_df, orc_vec_df, left_index=True, right_index=True)\n",
    "\n",
    "new_order = [0,1,2,3,5,4]\n",
    "ensemble_input_df = ensemble_input_df[ensemble_input_df.columns[new_order]]\n",
    "\n",
    "ensemble_input_df.head(15)"
   ]
  },
  {
   "cell_type": "markdown",
   "metadata": {},
   "source": [
    "## Balancing Dataset and Split Data on Train and Test"
   ]
  },
  {
   "cell_type": "code",
   "execution_count": 6,
   "metadata": {},
   "outputs": [
    {
     "name": "stdout",
     "output_type": "stream",
     "text": [
      "(1383, 4) (1383,) (346, 4) (346,)\n",
      "Train SMOTE: [(0.0, 1310), (1.0, 1310)]\n"
     ]
    }
   ],
   "source": [
    "ensemble_input_df = ensemble_input_df.infer_objects()\n",
    "\n",
    "X = ensemble_input_df[['lsi','lda','bm25','wv']]\n",
    "y = ensemble_input_df['oracle']\n",
    "\n",
    "X_train, X_test, y_train, y_test = train_test_split(X, y, test_size=0.20, random_state=42, shuffle=True)\n",
    "print(X_train.shape, y_train.shape, X_test.shape, y_test.shape)\n",
    "\n",
    "X_train, y_train = SMOTE().fit_resample(X_train, y_train)\n",
    "print(\"Train SMOTE: {}\".format(sorted(Counter(y_train).items())))\n",
    "\n",
    "X_train = pd.DataFrame(X_train, columns=['lsi','lda','bm25','wv'])\n",
    "y_train = pd.DataFrame(y_train)"
   ]
  },
  {
   "cell_type": "markdown",
   "metadata": {},
   "source": [
    "## Discretizer Function"
   ]
  },
  {
   "cell_type": "code",
   "execution_count": 7,
   "metadata": {},
   "outputs": [],
   "source": [
    "def discretizer(x):\n",
    "    return 0 if x < 0.5 else 1"
   ]
  },
  {
   "cell_type": "markdown",
   "metadata": {},
   "source": [
    "## Logistic Regressor"
   ]
  },
  {
   "cell_type": "code",
   "execution_count": 8,
   "metadata": {},
   "outputs": [
    {
     "name": "stdout",
     "output_type": "stream",
     "text": [
      "Recall - Test Data: 60.000%\n",
      "Precision - Test Data: 12.766%\n",
      "F-Score  - Test Data: 21.053%\n",
      "[[ 3.02221666  2.44564657  0.00500791 -0.18914145]]\n"
     ]
    }
   ],
   "source": [
    "ensemb_model = LogisticRegressionCV(cv=3, scoring='recall').fit(X_train, y_train)\n",
    "\n",
    "preds = ensemb_model.predict_proba(X_test)[:,1]\n",
    "preds = list(map(discretizer, preds))\n",
    "    \n",
    "precision = precision_score(y_true=y_test, y_pred=preds)\n",
    "recall = recall_score(y_true=y_test, y_pred=preds)\n",
    "fscore = f1_score(y_true=y_test, y_pred=preds)\n",
    "\n",
    "print('Recall - Test Data: {:2.3%}'.format(recall))\n",
    "print('Precision - Test Data: {:2.3%}'.format(precision))\n",
    "print('F-Score  - Test Data: {:2.3%}'.format(fscore))\n",
    "\n",
    "print(ensemb_model.coef_)"
   ]
  },
  {
   "cell_type": "markdown",
   "metadata": {},
   "source": [
    "# Test with Other Model Types"
   ]
  },
  {
   "cell_type": "markdown",
   "metadata": {},
   "source": [
    "## XGBoost"
   ]
  },
  {
   "cell_type": "code",
   "execution_count": 14,
   "metadata": {},
   "outputs": [
    {
     "name": "stdout",
     "output_type": "stream",
     "text": [
      "Recall - Test Data: 55.000%\n",
      "Precision - Test Data: 14.286%\n",
      "F-Score - Test Data: 22.680%\n",
      "[0.17235188 0.22800718 0.3913824  0.20825852]\n"
     ]
    }
   ],
   "source": [
    "from xgboost import XGBClassifier\n",
    "\n",
    "xgb = XGBClassifier(seed=42).fit(X_train, y_train)\n",
    "\n",
    "preds = xgb.predict_proba(X_test)[:,1]\n",
    "preds = list(map(discretizer, preds))\n",
    "\n",
    "precision = precision_score(y_true=y_test, y_pred=preds)\n",
    "recall = recall_score(y_true=y_test, y_pred=preds)\n",
    "fscore = f1_score(y_true=y_test, y_pred=preds)\n",
    "\n",
    "print('Recall - Test Data: {:2.3%}'.format(recall))\n",
    "print('Precision - Test Data: {:2.3%}'.format(precision))\n",
    "print('F-Score - Test Data: {:2.3%}'.format(fscore))\n",
    "\n",
    "print(xgb.feature_importances_)"
   ]
  },
  {
   "cell_type": "markdown",
   "metadata": {},
   "source": [
    "## Extra Trees Classifier"
   ]
  },
  {
   "cell_type": "code",
   "execution_count": 16,
   "metadata": {},
   "outputs": [
    {
     "name": "stdout",
     "output_type": "stream",
     "text": [
      "Recall - Test Data 40.000%\n",
      "Precision - Test Data: 11.940%\n",
      "F-Score - Test Data: 18.391%\n",
      "[0.27934896 0.27734954 0.2602341  0.1830674 ]\n"
     ]
    }
   ],
   "source": [
    "from sklearn.ensemble import ExtraTreesClassifier\n",
    "\n",
    "et = ExtraTreesClassifier(random_state=42).fit(X_train, y_train)\n",
    "\n",
    "preds = et.predict_proba(X_test)[:,1]\n",
    "preds = list(map(discretizer, preds))\n",
    "\n",
    "precision = precision_score(y_true=y_test, y_pred=preds)\n",
    "recall = recall_score(y_true=y_test, y_pred=preds)\n",
    "fscore = f1_score(y_true=y_test, y_pred=preds)\n",
    "\n",
    "print('Recall - Test Data {:2.3%}'.format(recall))\n",
    "print('Precision - Test Data: {:2.3%}'.format(precision))\n",
    "print('F-Score - Test Data: {:2.3%}'.format(fscore))\n",
    "\n",
    "print(et.feature_importances_)"
   ]
  }
 ],
 "metadata": {
  "kernelspec": {
   "display_name": "Python 3",
   "language": "python",
   "name": "python3"
  },
  "language_info": {
   "codemirror_mode": {
    "name": "ipython",
    "version": 3
   },
   "file_extension": ".py",
   "mimetype": "text/x-python",
   "name": "python",
   "nbconvert_exporter": "python",
   "pygments_lexer": "ipython3",
   "version": "3.6.6"
  }
 },
 "nbformat": 4,
 "nbformat_minor": 2
}

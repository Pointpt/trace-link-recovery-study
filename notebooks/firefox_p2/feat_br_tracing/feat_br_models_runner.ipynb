{
 "cells": [
  {
   "cell_type": "markdown",
   "metadata": {},
   "source": [
    "# Introduction\n",
    "\n",
    "Notebook to aggregate the running of models in the context of traceability between features and bug reports."
   ]
  },
  {
   "cell_type": "markdown",
   "metadata": {},
   "source": [
    "# Load Libraries and Datasets"
   ]
  },
  {
   "cell_type": "code",
   "execution_count": 1,
   "metadata": {},
   "outputs": [],
   "source": [
    "from mod_finder_util import mod_finder_util\n",
    "mod_finder_util.add_modules_origin_search_path()\n",
    "\n",
    "import pandas as pd\n",
    "import numpy as np\n",
    "\n",
    "from modules.models_runner.feat_br_runner import Feat_BR_Runner\n",
    "from modules.utils import firefox_dataset_p2 as fd\n",
    "from modules.utils import aux_functions\n",
    "\n",
    "import warnings; warnings.simplefilter('ignore')"
   ]
  },
  {
   "cell_type": "markdown",
   "metadata": {},
   "source": [
    "# Run All Models"
   ]
  },
  {
   "cell_type": "markdown",
   "metadata": {},
   "source": [
    "## Union Strategy"
   ]
  },
  {
   "cell_type": "code",
   "execution_count": 2,
   "metadata": {},
   "outputs": [
    {
     "name": "stdout",
     "output_type": "stream",
     "text": [
      "Expert and Volunteers Matrix UNION.shape: (93, 21)\n",
      "Features.shape: (21, 8)\n",
      "SelectedBugReports.shape: (93, 18)\n",
      "\n",
      "Model Evaluation -------------------------------------------\n",
      "\n",
      "Model Evaluation -------------------------------------------\n",
      "\n",
      "Model Evaluation -------------------------------------------\n",
      "\n",
      "Model Evaluation -------------------------------------------\n"
     ]
    }
   ],
   "source": [
    "runner_1 = Feat_BR_Runner(oracle=fd.Feat_BR_Oracles.read_feat_br_expert_volunteers_union_df().T)\n",
    "\n",
    "lsi_model_1, lsi_eval_1 = runner_1.run_lsi_model()\n",
    "lda_model_1, lda_eval_1 = runner_1.run_lda_model()\n",
    "bm25_model_1, bm25_eval_1 = runner_1.run_bm25_model()\n",
    "w2v_model_1, w2v_eval_1 = runner_1.run_word2vec_model()"
   ]
  },
  {
   "cell_type": "markdown",
   "metadata": {},
   "source": [
    "### Results"
   ]
  },
  {
   "cell_type": "code",
   "execution_count": 3,
   "metadata": {},
   "outputs": [
    {
     "data": {
      "text/html": [
       "<div>\n",
       "<style scoped>\n",
       "    .dataframe tbody tr th:only-of-type {\n",
       "        vertical-align: middle;\n",
       "    }\n",
       "\n",
       "    .dataframe tbody tr th {\n",
       "        vertical-align: top;\n",
       "    }\n",
       "\n",
       "    .dataframe thead th {\n",
       "        text-align: right;\n",
       "    }\n",
       "</style>\n",
       "<table border=\"1\" class=\"dataframe\">\n",
       "  <thead>\n",
       "    <tr style=\"text-align: right;\">\n",
       "      <th></th>\n",
       "      <th>model</th>\n",
       "      <th>precision</th>\n",
       "      <th>recall</th>\n",
       "      <th>fscore</th>\n",
       "      <th>precision_perc</th>\n",
       "      <th>recall_perc</th>\n",
       "      <th>fscore_perc</th>\n",
       "    </tr>\n",
       "  </thead>\n",
       "  <tbody>\n",
       "    <tr>\n",
       "      <th>0</th>\n",
       "      <td>LSI_Model_Feat_BR</td>\n",
       "      <td>0.354839</td>\n",
       "      <td>0.261201</td>\n",
       "      <td>0.286824</td>\n",
       "      <td>35.483871</td>\n",
       "      <td>26.120072</td>\n",
       "      <td>28.682369</td>\n",
       "    </tr>\n",
       "    <tr>\n",
       "      <th>1</th>\n",
       "      <td>LDA_Model_Feat_BR</td>\n",
       "      <td>0.131144</td>\n",
       "      <td>0.536470</td>\n",
       "      <td>0.199324</td>\n",
       "      <td>13.114439</td>\n",
       "      <td>53.646953</td>\n",
       "      <td>19.932368</td>\n",
       "    </tr>\n",
       "    <tr>\n",
       "      <th>2</th>\n",
       "      <td>BM25_Model_Feat_BR</td>\n",
       "      <td>0.069124</td>\n",
       "      <td>0.838710</td>\n",
       "      <td>0.123756</td>\n",
       "      <td>6.912442</td>\n",
       "      <td>83.870968</td>\n",
       "      <td>12.375605</td>\n",
       "    </tr>\n",
       "    <tr>\n",
       "      <th>3</th>\n",
       "      <td>WordVec_Model_Feat_BR</td>\n",
       "      <td>0.083747</td>\n",
       "      <td>0.720699</td>\n",
       "      <td>0.143309</td>\n",
       "      <td>8.374651</td>\n",
       "      <td>72.069892</td>\n",
       "      <td>14.330924</td>\n",
       "    </tr>\n",
       "  </tbody>\n",
       "</table>\n",
       "</div>"
      ],
      "text/plain": [
       "                   model  precision    recall    fscore  precision_perc  \\\n",
       "0      LSI_Model_Feat_BR   0.354839  0.261201  0.286824       35.483871   \n",
       "1      LDA_Model_Feat_BR   0.131144  0.536470  0.199324       13.114439   \n",
       "2     BM25_Model_Feat_BR   0.069124  0.838710  0.123756        6.912442   \n",
       "3  WordVec_Model_Feat_BR   0.083747  0.720699  0.143309        8.374651   \n",
       "\n",
       "   recall_perc  fscore_perc  \n",
       "0    26.120072    28.682369  \n",
       "1    53.646953    19.932368  \n",
       "2    83.870968    12.375605  \n",
       "3    72.069892    14.330924  "
      ]
     },
     "execution_count": 3,
     "metadata": {},
     "output_type": "execute_result"
    }
   ],
   "source": [
    "results_1 = aux_functions.compile_results({'lsi_model':lsi_model_1,'lda_model':lda_model_1,'bm25_model':bm25_model_1,'w2v_model':w2v_model_1,\n",
    "                                         'lsi_eval':lsi_eval_1, 'lda_eval':lda_eval_1, 'bm25_eval':bm25_eval_1, 'w2v_eval':w2v_eval_1})\n",
    "results_1.head()"
   ]
  },
  {
   "cell_type": "markdown",
   "metadata": {},
   "source": [
    "### Plots"
   ]
  },
  {
   "cell_type": "code",
   "execution_count": 4,
   "metadata": {},
   "outputs": [
    {
     "data": {
      "image/png": "[encoded data removed]",
      "text/plain": [
       "<Figure size 1440x360 with 3 Axes>"
      ]
     },
     "metadata": {
      "needs_background": "light"
     },
     "output_type": "display_data"
    }
   ],
   "source": [
    "aux_functions.plot_results(results_1, title='Exp-Vol Union Strategy')"
   ]
  },
  {
   "cell_type": "markdown",
   "metadata": {},
   "source": [
    "### Delete Variables"
   ]
  },
  {
   "cell_type": "code",
   "execution_count": 17,
   "metadata": {},
   "outputs": [],
   "source": [
    "del lsi_model_1, lda_model_1, bm25_model_1, w2v_model_1\n",
    "del lsi_eval_1, lda_eval_1, bm25_eval_1, w2v_eval_1\n",
    "del runner_1"
   ]
  },
  {
   "cell_type": "markdown",
   "metadata": {},
   "source": [
    "## Intersec Strategy"
   ]
  },
  {
   "cell_type": "code",
   "execution_count": 5,
   "metadata": {},
   "outputs": [
    {
     "name": "stdout",
     "output_type": "stream",
     "text": [
      "Expert and Volunteers Matrix INTERSEC.shape: (93, 21)\n",
      "Features.shape: (21, 8)\n",
      "SelectedBugReports.shape: (93, 18)\n",
      "\n",
      "Model Evaluation -------------------------------------------\n",
      "\n",
      "Model Evaluation -------------------------------------------\n",
      "\n",
      "Model Evaluation -------------------------------------------\n",
      "\n",
      "Model Evaluation -------------------------------------------\n"
     ]
    }
   ],
   "source": [
    "runner_2 = Feat_BR_Runner(oracle=fd.Feat_BR_Oracles.read_feat_br_expert_volunteers_intersec_df().T)\n",
    "\n",
    "lsi_model_2, lsi_eval_2 = runner_2.run_lsi_model()\n",
    "lda_model_2, lda_eval_2 = runner_2.run_lda_model()\n",
    "bm25_model_2, bm25_eval_2 = runner_2.run_bm25_model()\n",
    "w2v_model_2, w2v_eval_2 = runner_2.run_word2vec_model()"
   ]
  },
  {
   "cell_type": "markdown",
   "metadata": {},
   "source": [
    "### Results"
   ]
  },
  {
   "cell_type": "code",
   "execution_count": 6,
   "metadata": {},
   "outputs": [
    {
     "data": {
      "text/html": [
       "<div>\n",
       "<style scoped>\n",
       "    .dataframe tbody tr th:only-of-type {\n",
       "        vertical-align: middle;\n",
       "    }\n",
       "\n",
       "    .dataframe tbody tr th {\n",
       "        vertical-align: top;\n",
       "    }\n",
       "\n",
       "    .dataframe thead th {\n",
       "        text-align: right;\n",
       "    }\n",
       "</style>\n",
       "<table border=\"1\" class=\"dataframe\">\n",
       "  <thead>\n",
       "    <tr style=\"text-align: right;\">\n",
       "      <th></th>\n",
       "      <th>model</th>\n",
       "      <th>precision</th>\n",
       "      <th>recall</th>\n",
       "      <th>fscore</th>\n",
       "      <th>precision_perc</th>\n",
       "      <th>recall_perc</th>\n",
       "      <th>fscore_perc</th>\n",
       "    </tr>\n",
       "  </thead>\n",
       "  <tbody>\n",
       "    <tr>\n",
       "      <th>0</th>\n",
       "      <td>LSI_Model_Feat_BR</td>\n",
       "      <td>0.247312</td>\n",
       "      <td>0.241935</td>\n",
       "      <td>0.243728</td>\n",
       "      <td>24.731183</td>\n",
       "      <td>24.193548</td>\n",
       "      <td>24.372760</td>\n",
       "    </tr>\n",
       "    <tr>\n",
       "      <th>1</th>\n",
       "      <td>LDA_Model_Feat_BR</td>\n",
       "      <td>0.044739</td>\n",
       "      <td>0.301075</td>\n",
       "      <td>0.077479</td>\n",
       "      <td>4.473886</td>\n",
       "      <td>30.107527</td>\n",
       "      <td>7.747909</td>\n",
       "    </tr>\n",
       "    <tr>\n",
       "      <th>2</th>\n",
       "      <td>BM25_Model_Feat_BR</td>\n",
       "      <td>0.019457</td>\n",
       "      <td>0.397849</td>\n",
       "      <td>0.037061</td>\n",
       "      <td>1.945725</td>\n",
       "      <td>39.784946</td>\n",
       "      <td>3.706065</td>\n",
       "    </tr>\n",
       "    <tr>\n",
       "      <th>3</th>\n",
       "      <td>WordVec_Model_Feat_BR</td>\n",
       "      <td>0.025113</td>\n",
       "      <td>0.354839</td>\n",
       "      <td>0.046523</td>\n",
       "      <td>2.511316</td>\n",
       "      <td>35.483871</td>\n",
       "      <td>4.652325</td>\n",
       "    </tr>\n",
       "  </tbody>\n",
       "</table>\n",
       "</div>"
      ],
      "text/plain": [
       "                   model  precision    recall    fscore  precision_perc  \\\n",
       "0      LSI_Model_Feat_BR   0.247312  0.241935  0.243728       24.731183   \n",
       "1      LDA_Model_Feat_BR   0.044739  0.301075  0.077479        4.473886   \n",
       "2     BM25_Model_Feat_BR   0.019457  0.397849  0.037061        1.945725   \n",
       "3  WordVec_Model_Feat_BR   0.025113  0.354839  0.046523        2.511316   \n",
       "\n",
       "   recall_perc  fscore_perc  \n",
       "0    24.193548    24.372760  \n",
       "1    30.107527     7.747909  \n",
       "2    39.784946     3.706065  \n",
       "3    35.483871     4.652325  "
      ]
     },
     "execution_count": 6,
     "metadata": {},
     "output_type": "execute_result"
    }
   ],
   "source": [
    "results_2 = aux_functions.compile_results({'lsi_model':lsi_model_2,'lda_model':lda_model_2,'bm25_model':bm25_model_2,'w2v_model':w2v_model_2,\n",
    "                                         'lsi_eval':lsi_eval_2, 'lda_eval':lda_eval_2, 'bm25_eval':bm25_eval_2, 'w2v_eval':w2v_eval_2})\n",
    "results_2.head()"
   ]
  },
  {
   "cell_type": "markdown",
   "metadata": {},
   "source": [
    "### Plots"
   ]
  },
  {
   "cell_type": "code",
   "execution_count": 7,
   "metadata": {},
   "outputs": [
    {
     "data": {
      "image/png": "[encoded data removed]",
      "text/plain": [
       "<Figure size 1440x360 with 3 Axes>"
      ]
     },
     "metadata": {
      "needs_background": "light"
     },
     "output_type": "display_data"
    }
   ],
   "source": [
    "aux_functions.plot_results(results_2, title='Exp-Vol Intersec Strategy')"
   ]
  },
  {
   "cell_type": "markdown",
   "metadata": {},
   "source": [
    "### Delete Variables"
   ]
  },
  {
   "cell_type": "code",
   "execution_count": 16,
   "metadata": {},
   "outputs": [],
   "source": [
    "del lsi_model_2, lda_model_2, bm25_model_2, w2v_model_2\n",
    "del lsi_eval_2, lda_eval_2, bm25_eval_2, w2v_eval_2\n",
    "del runner_2"
   ]
  },
  {
   "cell_type": "markdown",
   "metadata": {},
   "source": [
    "## Expert Only Strategy"
   ]
  },
  {
   "cell_type": "code",
   "execution_count": 8,
   "metadata": {},
   "outputs": [
    {
     "name": "stdout",
     "output_type": "stream",
     "text": [
      "Feat_BR Expert Matrix shape: (93, 21)\n",
      "Features.shape: (21, 8)\n",
      "SelectedBugReports.shape: (93, 18)\n",
      "\n",
      "Model Evaluation -------------------------------------------\n",
      "\n",
      "Model Evaluation -------------------------------------------\n",
      "\n",
      "Model Evaluation -------------------------------------------\n",
      "\n",
      "Model Evaluation -------------------------------------------\n"
     ]
    }
   ],
   "source": [
    "runner_3 = Feat_BR_Runner(oracle=fd.Feat_BR_Oracles.read_feat_br_expert_df().T)\n",
    "\n",
    "lsi_model_3, lsi_eval_3 = runner_3.run_lsi_model()\n",
    "lda_model_3, lda_eval_3 = runner_3.run_lda_model()\n",
    "bm25_model_3, bm25_eval_3 = runner_3.run_bm25_model()\n",
    "w2v_model_3, w2v_eval_3 = runner_3.run_word2vec_model()"
   ]
  },
  {
   "cell_type": "markdown",
   "metadata": {},
   "source": [
    "### Results"
   ]
  },
  {
   "cell_type": "code",
   "execution_count": 9,
   "metadata": {},
   "outputs": [
    {
     "data": {
      "text/html": [
       "<div>\n",
       "<style scoped>\n",
       "    .dataframe tbody tr th:only-of-type {\n",
       "        vertical-align: middle;\n",
       "    }\n",
       "\n",
       "    .dataframe tbody tr th {\n",
       "        vertical-align: top;\n",
       "    }\n",
       "\n",
       "    .dataframe thead th {\n",
       "        text-align: right;\n",
       "    }\n",
       "</style>\n",
       "<table border=\"1\" class=\"dataframe\">\n",
       "  <thead>\n",
       "    <tr style=\"text-align: right;\">\n",
       "      <th></th>\n",
       "      <th>model</th>\n",
       "      <th>precision</th>\n",
       "      <th>recall</th>\n",
       "      <th>fscore</th>\n",
       "      <th>precision_perc</th>\n",
       "      <th>recall_perc</th>\n",
       "      <th>fscore_perc</th>\n",
       "    </tr>\n",
       "  </thead>\n",
       "  <tbody>\n",
       "    <tr>\n",
       "      <th>0</th>\n",
       "      <td>LSI_Model_Feat_BR</td>\n",
       "      <td>0.354839</td>\n",
       "      <td>0.331541</td>\n",
       "      <td>0.338710</td>\n",
       "      <td>35.483871</td>\n",
       "      <td>33.154122</td>\n",
       "      <td>33.870968</td>\n",
       "    </tr>\n",
       "    <tr>\n",
       "      <th>1</th>\n",
       "      <td>LDA_Model_Feat_BR</td>\n",
       "      <td>0.074117</td>\n",
       "      <td>0.433692</td>\n",
       "      <td>0.123118</td>\n",
       "      <td>7.411674</td>\n",
       "      <td>43.369176</td>\n",
       "      <td>12.311828</td>\n",
       "    </tr>\n",
       "    <tr>\n",
       "      <th>2</th>\n",
       "      <td>BM25_Model_Feat_BR</td>\n",
       "      <td>0.032258</td>\n",
       "      <td>0.591398</td>\n",
       "      <td>0.060829</td>\n",
       "      <td>3.225806</td>\n",
       "      <td>59.139785</td>\n",
       "      <td>6.082919</td>\n",
       "    </tr>\n",
       "    <tr>\n",
       "      <th>3</th>\n",
       "      <td>WordVec_Model_Feat_BR</td>\n",
       "      <td>0.042764</td>\n",
       "      <td>0.537634</td>\n",
       "      <td>0.078297</td>\n",
       "      <td>4.276418</td>\n",
       "      <td>53.763441</td>\n",
       "      <td>7.829740</td>\n",
       "    </tr>\n",
       "  </tbody>\n",
       "</table>\n",
       "</div>"
      ],
      "text/plain": [
       "                   model  precision    recall    fscore  precision_perc  \\\n",
       "0      LSI_Model_Feat_BR   0.354839  0.331541  0.338710       35.483871   \n",
       "1      LDA_Model_Feat_BR   0.074117  0.433692  0.123118        7.411674   \n",
       "2     BM25_Model_Feat_BR   0.032258  0.591398  0.060829        3.225806   \n",
       "3  WordVec_Model_Feat_BR   0.042764  0.537634  0.078297        4.276418   \n",
       "\n",
       "   recall_perc  fscore_perc  \n",
       "0    33.154122    33.870968  \n",
       "1    43.369176    12.311828  \n",
       "2    59.139785     6.082919  \n",
       "3    53.763441     7.829740  "
      ]
     },
     "execution_count": 9,
     "metadata": {},
     "output_type": "execute_result"
    }
   ],
   "source": [
    "results_3 = aux_functions.compile_results({'lsi_model':lsi_model_3,'lda_model':lda_model_3,'bm25_model':bm25_model_3,'w2v_model':w2v_model_3,\n",
    "                                         'lsi_eval':lsi_eval_3, 'lda_eval':lda_eval_3, 'bm25_eval':bm25_eval_3, 'w2v_eval':w2v_eval_3})\n",
    "results_3.head()"
   ]
  },
  {
   "cell_type": "markdown",
   "metadata": {},
   "source": [
    "### Plots"
   ]
  },
  {
   "cell_type": "code",
   "execution_count": 10,
   "metadata": {},
   "outputs": [
    {
     "data": {
      "image/png": "[encoded data removed]",
      "text/plain": [
       "<Figure size 1440x360 with 3 Axes>"
      ]
     },
     "metadata": {
      "needs_background": "light"
     },
     "output_type": "display_data"
    }
   ],
   "source": [
    "aux_functions.plot_results(results_3, title='Expert Only Strategy')"
   ]
  },
  {
   "cell_type": "markdown",
   "metadata": {},
   "source": [
    "### Delete Variables"
   ]
  },
  {
   "cell_type": "code",
   "execution_count": 15,
   "metadata": {},
   "outputs": [],
   "source": [
    "del lsi_model_3, lda_model_3, bm25_model_3, w2v_model_3\n",
    "del lsi_eval_3, lda_eval_3, bm25_eval_3, w2v_eval_3\n",
    "del runner_3"
   ]
  },
  {
   "cell_type": "markdown",
   "metadata": {},
   "source": [
    "## Volunteers Only Strategy"
   ]
  },
  {
   "cell_type": "code",
   "execution_count": 11,
   "metadata": {},
   "outputs": [
    {
     "name": "stdout",
     "output_type": "stream",
     "text": [
      "Feat_BR Volunteers Matrix shape: (93, 21)\n",
      "Features.shape: (21, 8)\n",
      "SelectedBugReports.shape: (93, 18)\n",
      "\n",
      "Model Evaluation -------------------------------------------\n",
      "\n",
      "Model Evaluation -------------------------------------------\n",
      "\n",
      "Model Evaluation -------------------------------------------\n",
      "\n",
      "Model Evaluation -------------------------------------------\n"
     ]
    }
   ],
   "source": [
    "runner_4 = Feat_BR_Runner(oracle=fd.Feat_BR_Oracles.read_feat_br_volunteers_df().T)\n",
    "\n",
    "lsi_model_4, lsi_eval_4 = runner_4.run_lsi_model()\n",
    "lda_model_4, lda_eval_4 = runner_4.run_lda_model()\n",
    "bm25_model_4, bm25_eval_4 = runner_4.run_bm25_model()\n",
    "w2v_model_4, w2v_eval_4 = runner_4.run_word2vec_model()"
   ]
  },
  {
   "cell_type": "markdown",
   "metadata": {},
   "source": [
    "### Results"
   ]
  },
  {
   "cell_type": "code",
   "execution_count": 12,
   "metadata": {},
   "outputs": [
    {
     "data": {
      "text/html": [
       "<div>\n",
       "<style scoped>\n",
       "    .dataframe tbody tr th:only-of-type {\n",
       "        vertical-align: middle;\n",
       "    }\n",
       "\n",
       "    .dataframe tbody tr th {\n",
       "        vertical-align: top;\n",
       "    }\n",
       "\n",
       "    .dataframe thead th {\n",
       "        text-align: right;\n",
       "    }\n",
       "</style>\n",
       "<table border=\"1\" class=\"dataframe\">\n",
       "  <thead>\n",
       "    <tr style=\"text-align: right;\">\n",
       "      <th></th>\n",
       "      <th>model</th>\n",
       "      <th>precision</th>\n",
       "      <th>recall</th>\n",
       "      <th>fscore</th>\n",
       "      <th>precision_perc</th>\n",
       "      <th>recall_perc</th>\n",
       "      <th>fscore_perc</th>\n",
       "    </tr>\n",
       "  </thead>\n",
       "  <tbody>\n",
       "    <tr>\n",
       "      <th>0</th>\n",
       "      <td>LSI_Model_Feat_BR</td>\n",
       "      <td>0.247312</td>\n",
       "      <td>0.205645</td>\n",
       "      <td>0.215139</td>\n",
       "      <td>24.731183</td>\n",
       "      <td>20.564516</td>\n",
       "      <td>21.513910</td>\n",
       "    </tr>\n",
       "    <tr>\n",
       "      <th>1</th>\n",
       "      <td>LDA_Model_Feat_BR</td>\n",
       "      <td>0.101767</td>\n",
       "      <td>0.512276</td>\n",
       "      <td>0.160571</td>\n",
       "      <td>10.176651</td>\n",
       "      <td>51.227599</td>\n",
       "      <td>16.057055</td>\n",
       "    </tr>\n",
       "    <tr>\n",
       "      <th>2</th>\n",
       "      <td>BM25_Model_Feat_BR</td>\n",
       "      <td>0.056324</td>\n",
       "      <td>0.784946</td>\n",
       "      <td>0.101381</td>\n",
       "      <td>5.632360</td>\n",
       "      <td>78.494624</td>\n",
       "      <td>10.138111</td>\n",
       "    </tr>\n",
       "    <tr>\n",
       "      <th>3</th>\n",
       "      <td>WordVec_Model_Feat_BR</td>\n",
       "      <td>0.066095</td>\n",
       "      <td>0.666935</td>\n",
       "      <td>0.114416</td>\n",
       "      <td>6.609549</td>\n",
       "      <td>66.693548</td>\n",
       "      <td>11.441595</td>\n",
       "    </tr>\n",
       "  </tbody>\n",
       "</table>\n",
       "</div>"
      ],
      "text/plain": [
       "                   model  precision    recall    fscore  precision_perc  \\\n",
       "0      LSI_Model_Feat_BR   0.247312  0.205645  0.215139       24.731183   \n",
       "1      LDA_Model_Feat_BR   0.101767  0.512276  0.160571       10.176651   \n",
       "2     BM25_Model_Feat_BR   0.056324  0.784946  0.101381        5.632360   \n",
       "3  WordVec_Model_Feat_BR   0.066095  0.666935  0.114416        6.609549   \n",
       "\n",
       "   recall_perc  fscore_perc  \n",
       "0    20.564516    21.513910  \n",
       "1    51.227599    16.057055  \n",
       "2    78.494624    10.138111  \n",
       "3    66.693548    11.441595  "
      ]
     },
     "execution_count": 12,
     "metadata": {},
     "output_type": "execute_result"
    }
   ],
   "source": [
    "results_4 = aux_functions.compile_results({'lsi_model':lsi_model_4,'lda_model':lda_model_4,'bm25_model':bm25_model_4,'w2v_model':w2v_model_4,\n",
    "                                         'lsi_eval':lsi_eval_4, 'lda_eval':lda_eval_4, 'bm25_eval':bm25_eval_4, 'w2v_eval':w2v_eval_4})\n",
    "results_4.head()"
   ]
  },
  {
   "cell_type": "markdown",
   "metadata": {},
   "source": [
    "### Plots"
   ]
  },
  {
   "cell_type": "code",
   "execution_count": 13,
   "metadata": {},
   "outputs": [
    {
     "data": {
      "image/png": "[encoded data removed]",
      "text/plain": [
       "<Figure size 1440x360 with 3 Axes>"
      ]
     },
     "metadata": {
      "needs_background": "light"
     },
     "output_type": "display_data"
    }
   ],
   "source": [
    "aux_functions.plot_results(results_4, title='Volunteers Only Strategy')"
   ]
  },
  {
   "cell_type": "markdown",
   "metadata": {},
   "source": [
    "### Delete Variables"
   ]
  },
  {
   "cell_type": "code",
   "execution_count": 14,
   "metadata": {},
   "outputs": [],
   "source": [
    "del lsi_model_4, lda_model_4, bm25_model_4, w2v_model_4\n",
    "del lsi_eval_4, lda_eval_4, bm25_eval_4, w2v_eval_4\n",
    "del runner_4"
   ]
  }
 ],
 "metadata": {
  "kernelspec": {
   "display_name": "Python 3",
   "language": "python",
   "name": "python3"
  },
  "language_info": {
   "codemirror_mode": {
    "name": "ipython",
    "version": 3
   },
   "file_extension": ".py",
   "mimetype": "text/x-python",
   "name": "python",
   "nbconvert_exporter": "python",
   "pygments_lexer": "ipython3",
   "version": "3.6.6"
  }
 },
 "nbformat": 4,
 "nbformat_minor": 2
}

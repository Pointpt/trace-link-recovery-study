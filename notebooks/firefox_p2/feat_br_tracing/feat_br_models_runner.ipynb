{
 "cells": [
  {
   "cell_type": "markdown",
   "metadata": {},
   "source": [
    "# Introduction\n",
    "\n",
    "Notebook to aggregate the running of models in the context of traceability between features and bug reports."
   ]
  },
  {
   "cell_type": "markdown",
   "metadata": {},
   "source": [
    "# Load Libraries and Datasets"
   ]
  },
  {
   "cell_type": "code",
   "execution_count": 1,
   "metadata": {},
   "outputs": [],
   "source": [
    "from mod_finder_util import mod_finder_util\n",
    "mod_finder_util.add_modules_origin_search_path()\n",
    "\n",
    "import pandas as pd\n",
    "import seaborn as sns\n",
    "from matplotlib import pyplot as plt\n",
    "\n",
    "from modules.models_runner.tc_br_runner import TC_BR_Runner\n",
    "\n",
    "import warnings; warnings.simplefilter('ignore')"
   ]
  },
  {
   "cell_type": "markdown",
   "metadata": {},
   "source": [
    "# Run All Models"
   ]
  },
  {
   "cell_type": "code",
   "execution_count": 2,
   "metadata": {},
   "outputs": [
    {
     "name": "stdout",
     "output_type": "stream",
     "text": [
      "TestCases.shape: (207, 12)\n",
      "SelectedBugReports2.shape: (93, 22)\n",
      "OracleExpertVolunteers.shape: (207, 93)\n",
      "\n",
      "Model Evaluation -------------------------------------------\n",
      "{'Measures': {'Mean FScore of LSI_Model_TC_BR': 0.0030721966205837174,\n",
      "              'Mean Precision of LSI_Model_TC_BR': 0.010752688172043012,\n",
      "              'Mean Recall of LSI_Model_TC_BR': 0.0017921146953405018},\n",
      " 'Setup': [{'Name': 'LSI_Model_TC_BR'},\n",
      "           {'Similarity Measure and Minimum Threshold': ('cosine', 0.8)},\n",
      "           {'Top Value': 100},\n",
      "           {'SVD Model': {'algorithm': 'randomized',\n",
      "                          'n_components': 100,\n",
      "                          'n_iter': 10,\n",
      "                          'random_state': 42,\n",
      "                          'tol': 0.0}},\n",
      "           {'Vectorizer': {'analyzer': 'word',\n",
      "                           'binary': False,\n",
      "                           'decode_error': 'strict',\n",
      "                           'dtype': <class 'numpy.float64'>,\n",
      "                           'encoding': 'utf-8',\n",
      "                           'input': 'content',\n",
      "                           'lowercase': True,\n",
      "                           'max_df': 1.0,\n",
      "                           'max_features': None,\n",
      "                           'min_df': 1,\n",
      "                           'ngram_range': (1, 1),\n",
      "                           'norm': 'l2',\n",
      "                           'preprocessor': None,\n",
      "                           'smooth_idf': True,\n",
      "                           'stop_words': 'english',\n",
      "                           'strip_accents': None,\n",
      "                           'sublinear_tf': False,\n",
      "                           'token_pattern': '(?u)\\\\b\\\\w\\\\w+\\\\b',\n",
      "                           'tokenizer': <modules.utils.tokenizers.WordNetBased_LemmaTokenizer object at 0x7fecdfca3b70>,\n",
      "                           'use_idf': True,\n",
      "                           'vocabulary': None}},\n",
      "           {'Vectorizer Type': <class 'sklearn.feature_extraction.text.TfidfVectorizer'>}]}\n",
      "\n",
      "Model Evaluation -------------------------------------------\n",
      "{'Measures': {'Mean FScore of LDA_Model_TC_BR': 0.06711139480658689,\n",
      "              'Mean Precision of LDA_Model_TC_BR': 0.03744195825280486,\n",
      "              'Mean Recall of LDA_Model_TC_BR': 0.3706807505324675},\n",
      " 'Setup': [{'Name': 'LDA_Model_TC_BR'},\n",
      "           {'Similarity Measure and Minimum Threshold': ('cosine', 0.75)},\n",
      "           {'Top Value': 100},\n",
      "           {'LDA Model': {'batch_size': 128,\n",
      "                          'doc_topic_prior': None,\n",
      "                          'evaluate_every': -1,\n",
      "                          'learning_decay': 0.7,\n",
      "                          'learning_method': 'batch',\n",
      "                          'learning_offset': 10.0,\n",
      "                          'max_doc_update_iter': 100,\n",
      "                          'max_iter': 10,\n",
      "                          'mean_change_tol': 0.001,\n",
      "                          'n_components': 20,\n",
      "                          'n_jobs': -1,\n",
      "                          'n_topics': None,\n",
      "                          'perp_tol': 0.1,\n",
      "                          'random_state': 2,\n",
      "                          'topic_word_prior': None,\n",
      "                          'total_samples': 1000000.0,\n",
      "                          'verbose': 0}},\n",
      "           {'Vectorizer': {'analyzer': 'word',\n",
      "                           'binary': False,\n",
      "                           'decode_error': 'strict',\n",
      "                           'dtype': <class 'numpy.float64'>,\n",
      "                           'encoding': 'utf-8',\n",
      "                           'input': 'content',\n",
      "                           'lowercase': True,\n",
      "                           'max_df': 1.0,\n",
      "                           'max_features': None,\n",
      "                           'min_df': 1,\n",
      "                           'ngram_range': (1, 1),\n",
      "                           'norm': 'l2',\n",
      "                           'preprocessor': None,\n",
      "                           'smooth_idf': True,\n",
      "                           'stop_words': 'english',\n",
      "                           'strip_accents': None,\n",
      "                           'sublinear_tf': False,\n",
      "                           'token_pattern': '(?u)\\\\b\\\\w\\\\w+\\\\b',\n",
      "                           'tokenizer': <modules.utils.tokenizers.PorterStemmerBased_Tokenizer object at 0x7fecdc081f60>,\n",
      "                           'use_idf': True,\n",
      "                           'vocabulary': None}},\n",
      "           {'Vectorizer Type': <class 'sklearn.feature_extraction.text.TfidfVectorizer'>}]}\n",
      "\n",
      "Model Evaluation -------------------------------------------\n",
      "{'Measures': {'Mean FScore of BM25_Model_TC_BR': 0.056812530852873196,\n",
      "              'Mean Precision of BM25_Model_TC_BR': 0.03080359461846136,\n",
      "              'Mean Recall of BM25_Model_TC_BR': 0.41935483870967744},\n",
      " 'Setup': [{'Name': 'BM25_Model_TC_BR'},\n",
      "           {'Top Value': 100},\n",
      "           {'Sim Measure Min Threshold': ('-', 0.0)},\n",
      "           {'K': 1.2},\n",
      "           {'B': 0.75},\n",
      "           {'Epsilon': 0.25},\n",
      "           {'Tokenizer Type': <class 'modules.utils.tokenizers.PorterStemmerBased_Tokenizer'>}]}\n",
      "\n",
      "Model Evaluation -------------------------------------------\n",
      "{'Measures': {'Mean FScore of WordVec_Model_AllData': 0.050744144840991975,\n",
      "              'Mean Precision of WordVec_Model_AllData': 0.027823262355700838,\n",
      "              'Mean Recall of WordVec_Model_AllData': 0.3450403389919519},\n",
      " 'Setup': [{'Name': 'WordVec_Model_AllData'},\n",
      "           {'Similarity Measure and Minimum Threshold': ('cosine', 0.8)},\n",
      "           {'Top Value': 100},\n",
      "           {'Tokenizer': <modules.utils.tokenizers.PorterStemmerBased_Tokenizer object at 0x7fecda215550>}]}\n"
     ]
    }
   ],
   "source": [
    "runner = TC_BR_Runner()\n",
    "\n",
    "lsi_model, lsi_eval = runner.run_lsi_model()\n",
    "lda_model, lda_eval = runner.run_lda_model()\n",
    "bm25_model, bm25_eval = runner.run_bm25_model()\n",
    "w2v_model, w2v_eval = runner.run_word2vec_model()"
   ]
  },
  {
   "cell_type": "markdown",
   "metadata": {},
   "source": [
    "# Results"
   ]
  },
  {
   "cell_type": "code",
   "execution_count": 3,
   "metadata": {},
   "outputs": [
    {
     "data": {
      "text/html": [
       "<div>\n",
       "<style scoped>\n",
       "    .dataframe tbody tr th:only-of-type {\n",
       "        vertical-align: middle;\n",
       "    }\n",
       "\n",
       "    .dataframe tbody tr th {\n",
       "        vertical-align: top;\n",
       "    }\n",
       "\n",
       "    .dataframe thead th {\n",
       "        text-align: right;\n",
       "    }\n",
       "</style>\n",
       "<table border=\"1\" class=\"dataframe\">\n",
       "  <thead>\n",
       "    <tr style=\"text-align: right;\">\n",
       "      <th></th>\n",
       "      <th>model</th>\n",
       "      <th>precision</th>\n",
       "      <th>recall</th>\n",
       "      <th>fscore</th>\n",
       "      <th>precision_perc</th>\n",
       "      <th>recall_perc</th>\n",
       "      <th>fscore_perc</th>\n",
       "    </tr>\n",
       "  </thead>\n",
       "  <tbody>\n",
       "    <tr>\n",
       "      <th>0</th>\n",
       "      <td>LSI_Model_TC_BR</td>\n",
       "      <td>0.010753</td>\n",
       "      <td>0.001792</td>\n",
       "      <td>0.003072</td>\n",
       "      <td>1.075269</td>\n",
       "      <td>0.179211</td>\n",
       "      <td>0.307220</td>\n",
       "    </tr>\n",
       "    <tr>\n",
       "      <th>1</th>\n",
       "      <td>LDA_Model_TC_BR</td>\n",
       "      <td>0.037442</td>\n",
       "      <td>0.370681</td>\n",
       "      <td>0.067111</td>\n",
       "      <td>3.744196</td>\n",
       "      <td>37.068075</td>\n",
       "      <td>6.711139</td>\n",
       "    </tr>\n",
       "    <tr>\n",
       "      <th>2</th>\n",
       "      <td>BM25_Model_TC_BR</td>\n",
       "      <td>0.030804</td>\n",
       "      <td>0.419355</td>\n",
       "      <td>0.056813</td>\n",
       "      <td>3.080359</td>\n",
       "      <td>41.935484</td>\n",
       "      <td>5.681253</td>\n",
       "    </tr>\n",
       "    <tr>\n",
       "      <th>3</th>\n",
       "      <td>WordVec_Model_AllData</td>\n",
       "      <td>0.027823</td>\n",
       "      <td>0.345040</td>\n",
       "      <td>0.050744</td>\n",
       "      <td>2.782326</td>\n",
       "      <td>34.504034</td>\n",
       "      <td>5.074414</td>\n",
       "    </tr>\n",
       "  </tbody>\n",
       "</table>\n",
       "</div>"
      ],
      "text/plain": [
       "                   model  precision    recall    fscore  precision_perc  \\\n",
       "0        LSI_Model_TC_BR   0.010753  0.001792  0.003072        1.075269   \n",
       "1        LDA_Model_TC_BR   0.037442  0.370681  0.067111        3.744196   \n",
       "2       BM25_Model_TC_BR   0.030804  0.419355  0.056813        3.080359   \n",
       "3  WordVec_Model_AllData   0.027823  0.345040  0.050744        2.782326   \n",
       "\n",
       "   recall_perc  fscore_perc  \n",
       "0     0.179211     0.307220  \n",
       "1    37.068075     6.711139  \n",
       "2    41.935484     5.681253  \n",
       "3    34.504034     5.074414  "
      ]
     },
     "execution_count": 3,
     "metadata": {},
     "output_type": "execute_result"
    }
   ],
   "source": [
    "results = pd.DataFrame(columns=['model','precision','recall','fscore'])\n",
    "\n",
    "results['model'] = [lsi_model.get_name(), \n",
    "                    lda_model.get_name(), \n",
    "                    bm25_model.get_name(), \n",
    "                    w2v_model.get_name()]\n",
    "\n",
    "results['precision'] = [lsi_eval.get_mean_precision(), \n",
    "                        lda_eval.get_mean_precision(), \n",
    "                        bm25_eval.get_mean_precision(), \n",
    "                        w2v_eval.get_mean_precision()]\n",
    "\n",
    "results['recall'] = [lsi_eval.get_mean_recall(),\n",
    "                     lda_eval.get_mean_recall(),\n",
    "                     bm25_eval.get_mean_recall(),\n",
    "                     w2v_eval.get_mean_recall()]\n",
    "\n",
    "results['fscore'] = [lsi_eval.get_mean_fscore(),\n",
    "                     lda_eval.get_mean_fscore(),\n",
    "                     bm25_eval.get_mean_fscore(),\n",
    "                     w2v_eval.get_mean_fscore()]\n",
    "\n",
    "results['precision_perc'] = results.precision.apply(lambda x : 100 * x)\n",
    "results['recall_perc'] = results.recall.apply(lambda x : 100 * x)\n",
    "results['fscore_perc'] = results.fscore.apply(lambda x : 100 * x)\n",
    "\n",
    "results.head()"
   ]
  },
  {
   "cell_type": "markdown",
   "metadata": {},
   "source": [
    "# Plots"
   ]
  },
  {
   "cell_type": "markdown",
   "metadata": {},
   "source": [
    "## Precision"
   ]
  },
  {
   "cell_type": "code",
   "execution_count": 4,
   "metadata": {},
   "outputs": [
    {
     "data": {
      "text/plain": [
       "<matplotlib.axes._subplots.AxesSubplot at 0x7feca80e8898>"
      ]
     },
     "execution_count": 4,
     "metadata": {},
     "output_type": "execute_result"
    },
    {
     "data": {
      "image/png": "[encoded data removed]",
      "text/plain": [
       "<Figure size 842.4x595.44 with 1 Axes>"
      ]
     },
     "metadata": {
      "needs_background": "light"
     },
     "output_type": "display_data"
    }
   ],
   "source": [
    "dims = (11.7, 8.27)\n",
    "fig, ax = plt.subplots(figsize=dims)\n",
    "sns.barplot(ax=ax, x='model', y='precision_perc', data=results)"
   ]
  },
  {
   "cell_type": "markdown",
   "metadata": {},
   "source": [
    "## Recall"
   ]
  },
  {
   "cell_type": "code",
   "execution_count": 5,
   "metadata": {},
   "outputs": [
    {
     "data": {
      "text/plain": [
       "<matplotlib.axes._subplots.AxesSubplot at 0x7feca84795f8>"
      ]
     },
     "execution_count": 5,
     "metadata": {},
     "output_type": "execute_result"
    },
    {
     "data": {
      "image/png": "[encoded data removed]",
      "text/plain": [
       "<Figure size 842.4x595.44 with 1 Axes>"
      ]
     },
     "metadata": {
      "needs_background": "light"
     },
     "output_type": "display_data"
    }
   ],
   "source": [
    "dims = (11.7, 8.27)\n",
    "fig, ax = plt.subplots(figsize=dims)\n",
    "sns.barplot(ax=ax, x='model', y='recall_perc', data=results)"
   ]
  },
  {
   "cell_type": "markdown",
   "metadata": {},
   "source": [
    "## F-Score"
   ]
  },
  {
   "cell_type": "code",
   "execution_count": 6,
   "metadata": {},
   "outputs": [
    {
     "data": {
      "text/plain": [
       "<matplotlib.axes._subplots.AxesSubplot at 0x7feca821ce48>"
      ]
     },
     "execution_count": 6,
     "metadata": {},
     "output_type": "execute_result"
    },
    {
     "data": {
      "image/png": "[encoded data removed]",
      "text/plain": [
       "<Figure size 842.4x595.44 with 1 Axes>"
      ]
     },
     "metadata": {
      "needs_background": "light"
     },
     "output_type": "display_data"
    }
   ],
   "source": [
    "dims = (11.7, 8.27)\n",
    "fig, ax = plt.subplots(figsize=dims)\n",
    "sns.barplot(ax=ax, x='model', y='fscore_perc', data=results)"
   ]
  }
 ],
 "metadata": {
  "kernelspec": {
   "display_name": "Python 3",
   "language": "python",
   "name": "python3"
  },
  "language_info": {
   "codemirror_mode": {
    "name": "ipython",
    "version": 3
   },
   "file_extension": ".py",
   "mimetype": "text/x-python",
   "name": "python",
   "nbconvert_exporter": "python",
   "pygments_lexer": "ipython3",
   "version": "3.6.6"
  }
 },
 "nbformat": 4,
 "nbformat_minor": 2
}

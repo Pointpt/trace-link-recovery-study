{
 "cells": [
  {
   "cell_type": "markdown",
   "metadata": {},
   "source": [
    "# Introduction\n",
    "\n",
    "Notebook to aggregate the running of models in the context of traceability between features and bug reports."
   ]
  },
  {
   "cell_type": "markdown",
   "metadata": {},
   "source": [
    "# Load Libraries and Datasets"
   ]
  },
  {
   "cell_type": "code",
   "execution_count": 5,
   "metadata": {},
   "outputs": [],
   "source": [
    "from mod_finder_util import mod_finder_util\n",
    "mod_finder_util.add_modules_origin_search_path()\n",
    "\n",
    "import pandas as pd\n",
    "import seaborn as sns\n",
    "from matplotlib import pyplot as plt\n",
    "\n",
    "from modules.models_runner.tc_br_runner import TC_BR_Runner\n",
    "\n",
    "import warnings; warnings.simplefilter('ignore')"
   ]
  },
  {
   "cell_type": "markdown",
   "metadata": {},
   "source": [
    "# Run All Models"
   ]
  },
  {
   "cell_type": "code",
   "execution_count": 2,
   "metadata": {},
   "outputs": [
    {
     "name": "stdout",
     "output_type": "stream",
     "text": [
      "TestCases.shape: (207, 12)\n",
      "SelectedBugReports2.shape: (93, 22)\n",
      "OracleExpertVolunteers.shape: (207, 93)\n",
      "\n",
      "Model Evaluation -------------------------------------------\n",
      "{'Measures': {'Mean FScore of LSI_Model_TC_BR': 0.0030721966205837174,\n",
      "              'Mean Precision of LSI_Model_TC_BR': 0.010752688172043012,\n",
      "              'Mean Recall of LSI_Model_TC_BR': 0.0017921146953405018},\n",
      " 'Setup': [{'Name': 'LSI_Model_TC_BR'},\n",
      "           {'Similarity Measure and Minimum Threshold': ('cosine', 0.8)},\n",
      "           {'Top Value': 100},\n",
      "           {'SVD Model': {'algorithm': 'randomized',\n",
      "                          'n_components': 100,\n",
      "                          'n_iter': 10,\n",
      "                          'random_state': 42,\n",
      "                          'tol': 0.0}},\n",
      "           {'Vectorizer': {'analyzer': 'word',\n",
      "                           'binary': False,\n",
      "                           'decode_error': 'strict',\n",
      "                           'dtype': <class 'numpy.float64'>,\n",
      "                           'encoding': 'utf-8',\n",
      "                           'input': 'content',\n",
      "                           'lowercase': True,\n",
      "                           'max_df': 1.0,\n",
      "                           'max_features': None,\n",
      "                           'min_df': 1,\n",
      "                           'ngram_range': (1, 1),\n",
      "                           'norm': 'l2',\n",
      "                           'preprocessor': None,\n",
      "                           'smooth_idf': True,\n",
      "                           'stop_words': 'english',\n",
      "                           'strip_accents': None,\n",
      "                           'sublinear_tf': False,\n",
      "                           'token_pattern': '(?u)\\\\b\\\\w\\\\w+\\\\b',\n",
      "                           'tokenizer': <modules.utils.tokenizers.WordNetBased_LemmaTokenizer object at 0x7feedacd2860>,\n",
      "                           'use_idf': True,\n",
      "                           'vocabulary': None}},\n",
      "           {'Vectorizer Type': <class 'sklearn.feature_extraction.text.TfidfVectorizer'>}]}\n",
      "\n",
      "Model Evaluation -------------------------------------------\n",
      "{'Measures': {'Mean FScore of LDA_Model_TC_BR': 0.0573118195103464,\n",
      "              'Mean Precision of LDA_Model_TC_BR': 0.032119649506966316,\n",
      "              'Mean Recall of LDA_Model_TC_BR': 0.30864601107837325},\n",
      " 'Setup': [{'Name': 'LDA_Model_TC_BR'},\n",
      "           {'Similarity Measure and Minimum Threshold': ('cosine', 0.75)},\n",
      "           {'Top Value': 100},\n",
      "           {'LDA Model': {'batch_size': 128,\n",
      "                          'doc_topic_prior': None,\n",
      "                          'evaluate_every': -1,\n",
      "                          'learning_decay': 0.7,\n",
      "                          'learning_method': 'batch',\n",
      "                          'learning_offset': 10.0,\n",
      "                          'max_doc_update_iter': 100,\n",
      "                          'max_iter': 10,\n",
      "                          'mean_change_tol': 0.001,\n",
      "                          'n_components': 20,\n",
      "                          'n_jobs': -1,\n",
      "                          'n_topics': None,\n",
      "                          'perp_tol': 0.1,\n",
      "                          'random_state': 2,\n",
      "                          'topic_word_prior': None,\n",
      "                          'total_samples': 1000000.0,\n",
      "                          'verbose': 0}},\n",
      "           {'Vectorizer': {'analyzer': 'word',\n",
      "                           'binary': False,\n",
      "                           'decode_error': 'strict',\n",
      "                           'dtype': <class 'numpy.float64'>,\n",
      "                           'encoding': 'utf-8',\n",
      "                           'input': 'content',\n",
      "                           'lowercase': True,\n",
      "                           'max_df': 1.0,\n",
      "                           'max_features': None,\n",
      "                           'min_df': 1,\n",
      "                           'ngram_range': (1, 1),\n",
      "                           'norm': 'l2',\n",
      "                           'preprocessor': None,\n",
      "                           'smooth_idf': True,\n",
      "                           'stop_words': 'english',\n",
      "                           'strip_accents': None,\n",
      "                           'sublinear_tf': False,\n",
      "                           'token_pattern': '(?u)\\\\b\\\\w\\\\w+\\\\b',\n",
      "                           'tokenizer': <modules.utils.tokenizers.PorterStemmerBased_Tokenizer object at 0x7feed70b8c88>,\n",
      "                           'use_idf': True,\n",
      "                           'vocabulary': None}},\n",
      "           {'Vectorizer Type': <class 'sklearn.feature_extraction.text.TfidfVectorizer'>}]}\n",
      "\n",
      "Model Evaluation -------------------------------------------\n",
      "{'Measures': {'Mean FScore of BM25_Model_TC_BR': 0.048915683016780453,\n",
      "              'Mean Precision of BM25_Model_TC_BR': 0.0265960209859228,\n",
      "              'Mean Recall of BM25_Model_TC_BR': 0.3548387096774194},\n",
      " 'Setup': [{'Name': 'BM25_Model_TC_BR'},\n",
      "           {'Top Value': 100},\n",
      "           {'Sim Measure Min Threshold': ('-', 0.0)},\n",
      "           {'K': 1.2},\n",
      "           {'B': 0.75},\n",
      "           {'Epsilon': 0.25},\n",
      "           {'Tokenizer Type': <class 'modules.utils.tokenizers.PorterStemmerBased_Tokenizer'>}]}\n",
      "\n",
      "Model Evaluation -------------------------------------------\n",
      "{'Measures': {'Mean FScore of WordVec_Model_AllData': 0.043545231119257954,\n",
      "              'Mean Precision of WordVec_Model_AllData': 0.02396821536905679,\n",
      "              'Mean Recall of WordVec_Model_AllData': 0.2904497682723489},\n",
      " 'Setup': [{'Name': 'WordVec_Model_AllData'},\n",
      "           {'Similarity Measure and Minimum Threshold': ('cosine', 0.8)},\n",
      "           {'Top Value': 100},\n",
      "           {'Tokenizer': <modules.utils.tokenizers.PorterStemmerBased_Tokenizer object at 0x7feed52bf860>}]}\n"
     ]
    }
   ],
   "source": [
    "runner = TC_BR_Runner()\n",
    "\n",
    "lsi_model, lsi_eval = runner.run_lsi_model()\n",
    "lda_model, lda_eval = runner.run_lda_model()\n",
    "bm25_model, bm25_eval = runner.run_bm25_model()\n",
    "w2v_model, w2v_eval = runner.run_word2vec_model()"
   ]
  },
  {
   "cell_type": "markdown",
   "metadata": {},
   "source": [
    "# Results"
   ]
  },
  {
   "cell_type": "code",
   "execution_count": 3,
   "metadata": {},
   "outputs": [
    {
     "data": {
      "text/html": [
       "<div>\n",
       "<style scoped>\n",
       "    .dataframe tbody tr th:only-of-type {\n",
       "        vertical-align: middle;\n",
       "    }\n",
       "\n",
       "    .dataframe tbody tr th {\n",
       "        vertical-align: top;\n",
       "    }\n",
       "\n",
       "    .dataframe thead th {\n",
       "        text-align: right;\n",
       "    }\n",
       "</style>\n",
       "<table border=\"1\" class=\"dataframe\">\n",
       "  <thead>\n",
       "    <tr style=\"text-align: right;\">\n",
       "      <th></th>\n",
       "      <th>model</th>\n",
       "      <th>precision</th>\n",
       "      <th>recall</th>\n",
       "      <th>fscore</th>\n",
       "      <th>precision_perc</th>\n",
       "      <th>recall_perc</th>\n",
       "      <th>fscore_perc</th>\n",
       "    </tr>\n",
       "  </thead>\n",
       "  <tbody>\n",
       "    <tr>\n",
       "      <th>0</th>\n",
       "      <td>LSI_Model_TC_BR</td>\n",
       "      <td>0.010753</td>\n",
       "      <td>0.001792</td>\n",
       "      <td>0.003072</td>\n",
       "      <td>1.075269</td>\n",
       "      <td>0.179211</td>\n",
       "      <td>0.307220</td>\n",
       "    </tr>\n",
       "    <tr>\n",
       "      <th>1</th>\n",
       "      <td>LDA_Model_TC_BR</td>\n",
       "      <td>0.032120</td>\n",
       "      <td>0.308646</td>\n",
       "      <td>0.057312</td>\n",
       "      <td>3.211965</td>\n",
       "      <td>30.864601</td>\n",
       "      <td>5.731182</td>\n",
       "    </tr>\n",
       "    <tr>\n",
       "      <th>2</th>\n",
       "      <td>BM25_Model_TC_BR</td>\n",
       "      <td>0.026596</td>\n",
       "      <td>0.354839</td>\n",
       "      <td>0.048916</td>\n",
       "      <td>2.659602</td>\n",
       "      <td>35.483871</td>\n",
       "      <td>4.891568</td>\n",
       "    </tr>\n",
       "    <tr>\n",
       "      <th>3</th>\n",
       "      <td>WordVec_Model_AllData</td>\n",
       "      <td>0.023968</td>\n",
       "      <td>0.290450</td>\n",
       "      <td>0.043545</td>\n",
       "      <td>2.396822</td>\n",
       "      <td>29.044977</td>\n",
       "      <td>4.354523</td>\n",
       "    </tr>\n",
       "  </tbody>\n",
       "</table>\n",
       "</div>"
      ],
      "text/plain": [
       "                   model  precision    recall    fscore  precision_perc  \\\n",
       "0        LSI_Model_TC_BR   0.010753  0.001792  0.003072        1.075269   \n",
       "1        LDA_Model_TC_BR   0.032120  0.308646  0.057312        3.211965   \n",
       "2       BM25_Model_TC_BR   0.026596  0.354839  0.048916        2.659602   \n",
       "3  WordVec_Model_AllData   0.023968  0.290450  0.043545        2.396822   \n",
       "\n",
       "   recall_perc  fscore_perc  \n",
       "0     0.179211     0.307220  \n",
       "1    30.864601     5.731182  \n",
       "2    35.483871     4.891568  \n",
       "3    29.044977     4.354523  "
      ]
     },
     "execution_count": 3,
     "metadata": {},
     "output_type": "execute_result"
    }
   ],
   "source": [
    "results = pd.DataFrame(columns=['model','precision','recall','fscore'])\n",
    "\n",
    "results['model'] = [lsi_model.get_name(), \n",
    "                    lda_model.get_name(), \n",
    "                    bm25_model.get_name(), \n",
    "                    w2v_model.get_name()]\n",
    "\n",
    "results['precision'] = [lsi_eval.get_mean_precision(), \n",
    "                        lda_eval.get_mean_precision(), \n",
    "                        bm25_eval.get_mean_precision(), \n",
    "                        w2v_eval.get_mean_precision()]\n",
    "\n",
    "results['recall'] = [lsi_eval.get_mean_recall(),\n",
    "                     lda_eval.get_mean_recall(),\n",
    "                     bm25_eval.get_mean_recall(),\n",
    "                     w2v_eval.get_mean_recall()]\n",
    "\n",
    "results['fscore'] = [lsi_eval.get_mean_fscore(),\n",
    "                     lda_eval.get_mean_fscore(),\n",
    "                     bm25_eval.get_mean_fscore(),\n",
    "                     w2v_eval.get_mean_fscore()]\n",
    "\n",
    "results['precision_perc'] = results.precision.apply(lambda x : 100 * x)\n",
    "results['recall_perc'] = results.recall.apply(lambda x : 100 * x)\n",
    "results['fscore_perc'] = results.fscore.apply(lambda x : 100 * x)\n",
    "\n",
    "results.head()"
   ]
  },
  {
   "cell_type": "markdown",
   "metadata": {},
   "source": [
    "# Plots"
   ]
  },
  {
   "cell_type": "markdown",
   "metadata": {},
   "source": [
    "## Precision"
   ]
  },
  {
   "cell_type": "code",
   "execution_count": 6,
   "metadata": {},
   "outputs": [
    {
     "data": {
      "text/plain": [
       "<matplotlib.axes._subplots.AxesSubplot at 0x7feea33a6160>"
      ]
     },
     "execution_count": 6,
     "metadata": {},
     "output_type": "execute_result"
    },
    {
     "data": {
      "image/png": "[encoded data removed]",
      "text/plain": [
       "<Figure size 842.4x595.44 with 1 Axes>"
      ]
     },
     "metadata": {
      "needs_background": "light"
     },
     "output_type": "display_data"
    }
   ],
   "source": [
    "dims = (11.7, 8.27)\n",
    "fig, ax = plt.subplots(figsize=dims)\n",
    "sns.barplot(ax=ax, x='model', y='precision_perc', data=results)"
   ]
  },
  {
   "cell_type": "markdown",
   "metadata": {},
   "source": [
    "## Recall"
   ]
  },
  {
   "cell_type": "code",
   "execution_count": 7,
   "metadata": {},
   "outputs": [
    {
     "data": {
      "text/plain": [
       "<matplotlib.axes._subplots.AxesSubplot at 0x7feea3381cf8>"
      ]
     },
     "execution_count": 7,
     "metadata": {},
     "output_type": "execute_result"
    },
    {
     "data": {
      "image/png": "[encoded data removed]",
      "text/plain": [
       "<Figure size 842.4x595.44 with 1 Axes>"
      ]
     },
     "metadata": {
      "needs_background": "light"
     },
     "output_type": "display_data"
    }
   ],
   "source": [
    "dims = (11.7, 8.27)\n",
    "fig, ax = plt.subplots(figsize=dims)\n",
    "sns.barplot(ax=ax, x='model', y='recall_perc', data=results)"
   ]
  },
  {
   "cell_type": "markdown",
   "metadata": {},
   "source": [
    "## F-Score"
   ]
  },
  {
   "cell_type": "code",
   "execution_count": 8,
   "metadata": {},
   "outputs": [
    {
     "data": {
      "text/plain": [
       "<matplotlib.axes._subplots.AxesSubplot at 0x7feea3170048>"
      ]
     },
     "execution_count": 8,
     "metadata": {},
     "output_type": "execute_result"
    },
    {
     "data": {
      "image/png": "[encoded data removed]",
      "text/plain": [
       "<Figure size 842.4x595.44 with 1 Axes>"
      ]
     },
     "metadata": {
      "needs_background": "light"
     },
     "output_type": "display_data"
    }
   ],
   "source": [
    "dims = (11.7, 8.27)\n",
    "fig, ax = plt.subplots(figsize=dims)\n",
    "sns.barplot(ax=ax, x='model', y='fscore_perc', data=results)"
   ]
  }
 ],
 "metadata": {
  "kernelspec": {
   "display_name": "Python 3",
   "language": "python",
   "name": "python3"
  },
  "language_info": {
   "codemirror_mode": {
    "name": "ipython",
    "version": 3
   },
   "file_extension": ".py",
   "mimetype": "text/x-python",
   "name": "python",
   "nbconvert_exporter": "python",
   "pygments_lexer": "ipython3",
   "version": "3.6.6"
  }
 },
 "nbformat": 4,
 "nbformat_minor": 2
}

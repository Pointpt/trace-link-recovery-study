{
 "cells": [
  {
   "cell_type": "markdown",
   "metadata": {},
   "source": [
    "# Introduction\n",
    "\n",
    "Notebook to aggregate the running of models in the context of traceability between **features** and **bug reports**."
   ]
  },
  {
   "cell_type": "markdown",
   "metadata": {
    "toc-hr-collapsed": false
   },
   "source": [
    "# Load Libraries and Datasets"
   ]
  },
  {
   "cell_type": "code",
   "execution_count": 1,
   "metadata": {},
   "outputs": [
    {
     "name": "stdout",
     "output_type": "stream",
     "text": [
      "Features.shape: (19, 8)\n",
      "SelectedBugReports.shape: (91, 18)\n"
     ]
    }
   ],
   "source": [
    "from mod_finder_util import mod_finder_util\n",
    "mod_finder_util.add_modules_origin_search_path()\n",
    "\n",
    "from modules.models_runner import feat_br_strat_runner\n",
    "from modules.utils import aux_functions\n",
    "from modules.utils import firefox_dataset_p2 as fd\n",
    "\n",
    "import warnings; warnings.simplefilter('ignore')\n",
    "\n",
    "features = fd.Datasets.read_features_df()\n",
    "bugreports = fd.Datasets.read_selected_bugreports_df()\n"
   ]
  },
  {
   "cell_type": "markdown",
   "metadata": {},
   "source": [
    "# Run All Models"
   ]
  },
  {
   "cell_type": "markdown",
   "metadata": {
    "toc-hr-collapsed": false
   },
   "source": [
    "## Intersec Strategy"
   ]
  },
  {
   "cell_type": "code",
   "execution_count": 2,
   "metadata": {
    "collapsed": true,
    "jupyter": {
     "outputs_hidden": true,
     "source_hidden": true
    }
   },
   "outputs": [
    {
     "name": "stdout",
     "output_type": "stream",
     "text": [
      "Expert and Volunteers Matrix INTERSEC.shape: (91, 19)\n",
      "Features.shape: (19, 8)\n",
      "SelectedBugReports.shape: (91, 18)\n",
      "Running LSI model -----\n",
      "Running LDA model -----\n",
      "Running BM25 model -----\n",
      "Running W2V model -----\n",
      "Running ZeroR model -----\n",
      "Expert and Volunteers Matrix INTERSEC.shape: (91, 19)\n",
      "major_target_artifact: ['new_awesome_bar']\n",
      "Evaluating LSI Model ----- \n",
      "Evaluating LDA Model ----- \n",
      "Evaluating BM25 Model ----- \n",
      "Evaluating WORDVECTOR Model ----- \n",
      "Evaluating ZERO_R Model ----- \n"
     ]
    }
   ],
   "source": [
    "exp_vol_intersec_strat_runner = feat_br_strat_runner.Feat_BR_Exp_Vol_Intersec_Strat_Runner()\n",
    "exp_vol_intersec_strat_runner.execute()\n",
    "\n",
    "evaluator_2 = exp_vol_intersec_strat_runner.get_evaluator() \n",
    "evals_df_2 = exp_vol_intersec_strat_runner.get_evals_df()"
   ]
  },
  {
   "cell_type": "markdown",
   "metadata": {},
   "source": [
    "### Results"
   ]
  },
  {
   "cell_type": "code",
   "execution_count": 3,
   "metadata": {},
   "outputs": [
    {
     "data": {
      "text/html": [
       "<div>\n",
       "<style scoped>\n",
       "    .dataframe tbody tr th:only-of-type {\n",
       "        vertical-align: middle;\n",
       "    }\n",
       "\n",
       "    .dataframe tbody tr th {\n",
       "        vertical-align: top;\n",
       "    }\n",
       "\n",
       "    .dataframe thead th {\n",
       "        text-align: right;\n",
       "    }\n",
       "</style>\n",
       "<table border=\"1\" class=\"dataframe\">\n",
       "  <thead>\n",
       "    <tr style=\"text-align: right;\">\n",
       "      <th></th>\n",
       "      <th>model</th>\n",
       "      <th>ref_name</th>\n",
       "      <th>perc_precision</th>\n",
       "      <th>perc_recall</th>\n",
       "      <th>perc_fscore</th>\n",
       "      <th>sim_threshold</th>\n",
       "      <th>top</th>\n",
       "      <th>trace_links_df</th>\n",
       "    </tr>\n",
       "  </thead>\n",
       "  <tbody>\n",
       "    <tr>\n",
       "      <th>0</th>\n",
       "      <td>lsi</td>\n",
       "      <td>top_1_cosine_0.0</td>\n",
       "      <td>26.37</td>\n",
       "      <td>70.59</td>\n",
       "      <td>38.4</td>\n",
       "      <td>0.0</td>\n",
       "      <td>1.0</td>\n",
       "      <td>Bug_Number               1248267  1248268  125...</td>\n",
       "    </tr>\n",
       "    <tr>\n",
       "      <th>1</th>\n",
       "      <td>lsi</td>\n",
       "      <td>top_1_cosine_0.1</td>\n",
       "      <td>26.37</td>\n",
       "      <td>70.59</td>\n",
       "      <td>38.4</td>\n",
       "      <td>0.1</td>\n",
       "      <td>1.0</td>\n",
       "      <td>Bug_Number               1248267  1248268  125...</td>\n",
       "    </tr>\n",
       "    <tr>\n",
       "      <th>2</th>\n",
       "      <td>lsi</td>\n",
       "      <td>top_1_cosine_0.2</td>\n",
       "      <td>26.37</td>\n",
       "      <td>70.59</td>\n",
       "      <td>38.4</td>\n",
       "      <td>0.2</td>\n",
       "      <td>1.0</td>\n",
       "      <td>Bug_Number               1248267  1248268  125...</td>\n",
       "    </tr>\n",
       "    <tr>\n",
       "      <th>3</th>\n",
       "      <td>lsi</td>\n",
       "      <td>top_1_cosine_0.3</td>\n",
       "      <td>26.37</td>\n",
       "      <td>70.59</td>\n",
       "      <td>38.4</td>\n",
       "      <td>0.3</td>\n",
       "      <td>1.0</td>\n",
       "      <td>Bug_Number               1248267  1248268  125...</td>\n",
       "    </tr>\n",
       "    <tr>\n",
       "      <th>4</th>\n",
       "      <td>lsi</td>\n",
       "      <td>top_1_cosine_0.4</td>\n",
       "      <td>26.37</td>\n",
       "      <td>70.59</td>\n",
       "      <td>38.4</td>\n",
       "      <td>0.4</td>\n",
       "      <td>1.0</td>\n",
       "      <td>Bug_Number               1248267  1248268  125...</td>\n",
       "    </tr>\n",
       "  </tbody>\n",
       "</table>\n",
       "</div>"
      ],
      "text/plain": [
       "  model          ref_name  perc_precision  perc_recall  perc_fscore  \\\n",
       "0   lsi  top_1_cosine_0.0           26.37        70.59         38.4   \n",
       "1   lsi  top_1_cosine_0.1           26.37        70.59         38.4   \n",
       "2   lsi  top_1_cosine_0.2           26.37        70.59         38.4   \n",
       "3   lsi  top_1_cosine_0.3           26.37        70.59         38.4   \n",
       "4   lsi  top_1_cosine_0.4           26.37        70.59         38.4   \n",
       "\n",
       "   sim_threshold  top                                     trace_links_df  \n",
       "0            0.0  1.0  Bug_Number               1248267  1248268  125...  \n",
       "1            0.1  1.0  Bug_Number               1248267  1248268  125...  \n",
       "2            0.2  1.0  Bug_Number               1248267  1248268  125...  \n",
       "3            0.3  1.0  Bug_Number               1248267  1248268  125...  \n",
       "4            0.4  1.0  Bug_Number               1248267  1248268  125...  "
      ]
     },
     "execution_count": 3,
     "metadata": {},
     "output_type": "execute_result"
    }
   ],
   "source": [
    "evals_df_2.head()"
   ]
  },
  {
   "cell_type": "code",
   "execution_count": 4,
   "metadata": {},
   "outputs": [
    {
     "data": {
      "text/html": [
       "<style  type=\"text/css\" >\n",
       "    #T_16d6d75c_8708_11e9_a8ba_254565c49487row0_col0 {\n",
       "            background-color:  #319b31;\n",
       "            color:  #000000;\n",
       "        }    #T_16d6d75c_8708_11e9_a8ba_254565c49487row0_col1 {\n",
       "            background-color:  #2e992e;\n",
       "            color:  #000000;\n",
       "        }    #T_16d6d75c_8708_11e9_a8ba_254565c49487row0_col2 {\n",
       "            background-color:  #168c16;\n",
       "            color:  #000000;\n",
       "        }    #T_16d6d75c_8708_11e9_a8ba_254565c49487row1_col0 {\n",
       "            background-color:  #83c983;\n",
       "            color:  #000000;\n",
       "        }    #T_16d6d75c_8708_11e9_a8ba_254565c49487row1_col1 {\n",
       "            background-color:  #0a850a;\n",
       "            color:  #f1f1f1;\n",
       "        }    #T_16d6d75c_8708_11e9_a8ba_254565c49487row1_col2 {\n",
       "            background-color:  #63b763;\n",
       "            color:  #000000;\n",
       "        }    #T_16d6d75c_8708_11e9_a8ba_254565c49487row2_col0 {\n",
       "            background-color:  #94d294;\n",
       "            color:  #000000;\n",
       "        }    #T_16d6d75c_8708_11e9_a8ba_254565c49487row2_col1 {\n",
       "            background-color:  #008000;\n",
       "            color:  #f1f1f1;\n",
       "        }    #T_16d6d75c_8708_11e9_a8ba_254565c49487row2_col2 {\n",
       "            background-color:  #76c176;\n",
       "            color:  #000000;\n",
       "        }    #T_16d6d75c_8708_11e9_a8ba_254565c49487row3_col0 {\n",
       "            background-color:  #e5ffe5;\n",
       "            color:  #000000;\n",
       "        }    #T_16d6d75c_8708_11e9_a8ba_254565c49487row3_col1 {\n",
       "            background-color:  #e5ffe5;\n",
       "            color:  #000000;\n",
       "        }    #T_16d6d75c_8708_11e9_a8ba_254565c49487row3_col2 {\n",
       "            background-color:  #e5ffe5;\n",
       "            color:  #000000;\n",
       "        }    #T_16d6d75c_8708_11e9_a8ba_254565c49487row4_col0 {\n",
       "            background-color:  #b0e1b0;\n",
       "            color:  #000000;\n",
       "        }    #T_16d6d75c_8708_11e9_a8ba_254565c49487row4_col1 {\n",
       "            background-color:  #5cb35c;\n",
       "            color:  #000000;\n",
       "        }    #T_16d6d75c_8708_11e9_a8ba_254565c49487row4_col2 {\n",
       "            background-color:  #9cd69c;\n",
       "            color:  #000000;\n",
       "        }    #T_16d6d75c_8708_11e9_a8ba_254565c49487row5_col0 {\n",
       "            background-color:  #b4e4b4;\n",
       "            color:  #000000;\n",
       "        }    #T_16d6d75c_8708_11e9_a8ba_254565c49487row5_col1 {\n",
       "            background-color:  #389f38;\n",
       "            color:  #000000;\n",
       "        }    #T_16d6d75c_8708_11e9_a8ba_254565c49487row5_col2 {\n",
       "            background-color:  #a1d9a1;\n",
       "            color:  #000000;\n",
       "        }    #T_16d6d75c_8708_11e9_a8ba_254565c49487row6_col0 {\n",
       "            background-color:  #008000;\n",
       "            color:  #f1f1f1;\n",
       "        }    #T_16d6d75c_8708_11e9_a8ba_254565c49487row6_col1 {\n",
       "            background-color:  #399f39;\n",
       "            color:  #000000;\n",
       "        }    #T_16d6d75c_8708_11e9_a8ba_254565c49487row6_col2 {\n",
       "            background-color:  #008000;\n",
       "            color:  #f1f1f1;\n",
       "        }    #T_16d6d75c_8708_11e9_a8ba_254565c49487row7_col0 {\n",
       "            background-color:  #2f9a2f;\n",
       "            color:  #000000;\n",
       "        }    #T_16d6d75c_8708_11e9_a8ba_254565c49487row7_col1 {\n",
       "            background-color:  #128a12;\n",
       "            color:  #f1f1f1;\n",
       "        }    #T_16d6d75c_8708_11e9_a8ba_254565c49487row7_col2 {\n",
       "            background-color:  #289628;\n",
       "            color:  #000000;\n",
       "        }    #T_16d6d75c_8708_11e9_a8ba_254565c49487row8_col0 {\n",
       "            background-color:  #3ba13b;\n",
       "            color:  #000000;\n",
       "        }    #T_16d6d75c_8708_11e9_a8ba_254565c49487row8_col1 {\n",
       "            background-color:  #128a12;\n",
       "            color:  #f1f1f1;\n",
       "        }    #T_16d6d75c_8708_11e9_a8ba_254565c49487row8_col2 {\n",
       "            background-color:  #399f39;\n",
       "            color:  #000000;\n",
       "        }    #T_16d6d75c_8708_11e9_a8ba_254565c49487row9_col0 {\n",
       "            background-color:  #84c984;\n",
       "            color:  #000000;\n",
       "        }    #T_16d6d75c_8708_11e9_a8ba_254565c49487row9_col1 {\n",
       "            background-color:  #85ca85;\n",
       "            color:  #000000;\n",
       "        }    #T_16d6d75c_8708_11e9_a8ba_254565c49487row9_col2 {\n",
       "            background-color:  #77c277;\n",
       "            color:  #000000;\n",
       "        }    #T_16d6d75c_8708_11e9_a8ba_254565c49487row10_col0 {\n",
       "            background-color:  #ade0ad;\n",
       "            color:  #000000;\n",
       "        }    #T_16d6d75c_8708_11e9_a8ba_254565c49487row10_col1 {\n",
       "            background-color:  #3ba13b;\n",
       "            color:  #000000;\n",
       "        }    #T_16d6d75c_8708_11e9_a8ba_254565c49487row10_col2 {\n",
       "            background-color:  #95d395;\n",
       "            color:  #000000;\n",
       "        }    #T_16d6d75c_8708_11e9_a8ba_254565c49487row11_col0 {\n",
       "            background-color:  #c2ebc2;\n",
       "            color:  #000000;\n",
       "        }    #T_16d6d75c_8708_11e9_a8ba_254565c49487row11_col1 {\n",
       "            background-color:  #349d34;\n",
       "            color:  #000000;\n",
       "        }    #T_16d6d75c_8708_11e9_a8ba_254565c49487row11_col2 {\n",
       "            background-color:  #b0e2b0;\n",
       "            color:  #000000;\n",
       "        }    #T_16d6d75c_8708_11e9_a8ba_254565c49487row12_col0 {\n",
       "            background-color:  #4eab4e;\n",
       "            color:  #000000;\n",
       "        }    #T_16d6d75c_8708_11e9_a8ba_254565c49487row12_col1 {\n",
       "            background-color:  #4daa4d;\n",
       "            color:  #000000;\n",
       "        }    #T_16d6d75c_8708_11e9_a8ba_254565c49487row12_col2 {\n",
       "            background-color:  #399f39;\n",
       "            color:  #000000;\n",
       "        }    #T_16d6d75c_8708_11e9_a8ba_254565c49487row13_col0 {\n",
       "            background-color:  #4eab4e;\n",
       "            color:  #000000;\n",
       "        }    #T_16d6d75c_8708_11e9_a8ba_254565c49487row13_col1 {\n",
       "            background-color:  #4daa4d;\n",
       "            color:  #000000;\n",
       "        }    #T_16d6d75c_8708_11e9_a8ba_254565c49487row13_col2 {\n",
       "            background-color:  #399f39;\n",
       "            color:  #000000;\n",
       "        }    #T_16d6d75c_8708_11e9_a8ba_254565c49487row14_col0 {\n",
       "            background-color:  #4eab4e;\n",
       "            color:  #000000;\n",
       "        }    #T_16d6d75c_8708_11e9_a8ba_254565c49487row14_col1 {\n",
       "            background-color:  #4daa4d;\n",
       "            color:  #000000;\n",
       "        }    #T_16d6d75c_8708_11e9_a8ba_254565c49487row14_col2 {\n",
       "            background-color:  #399f39;\n",
       "            color:  #000000;\n",
       "        }</style><table id=\"T_16d6d75c_8708_11e9_a8ba_254565c49487\" ><thead>    <tr>        <th class=\"blank\" ></th>        <th class=\"blank level0\" ></th>        <th class=\"col_heading level0 col0\" >perc_precision</th>        <th class=\"col_heading level0 col1\" >perc_recall</th>        <th class=\"col_heading level0 col2\" >perc_fscore</th>    </tr>    <tr>        <th class=\"index_name level0\" >model</th>        <th class=\"index_name level1\" >top</th>        <th class=\"blank\" ></th>        <th class=\"blank\" ></th>        <th class=\"blank\" ></th>    </tr></thead><tbody>\n",
       "                <tr>\n",
       "                        <th id=\"T_16d6d75c_8708_11e9_a8ba_254565c49487level0_row0\" class=\"row_heading level0 row0\" rowspan=3>bm25</th>\n",
       "                        <th id=\"T_16d6d75c_8708_11e9_a8ba_254565c49487level1_row0\" class=\"row_heading level1 row0\" >1.0</th>\n",
       "                        <td id=\"T_16d6d75c_8708_11e9_a8ba_254565c49487row0_col0\" class=\"data row0 col0\" >26.37</td>\n",
       "                        <td id=\"T_16d6d75c_8708_11e9_a8ba_254565c49487row0_col1\" class=\"data row0 col1\" >70.59</td>\n",
       "                        <td id=\"T_16d6d75c_8708_11e9_a8ba_254565c49487row0_col2\" class=\"data row0 col2\" >38.4</td>\n",
       "            </tr>\n",
       "            <tr>\n",
       "                                <th id=\"T_16d6d75c_8708_11e9_a8ba_254565c49487level1_row1\" class=\"row_heading level1 row1\" >3.0</th>\n",
       "                        <td id=\"T_16d6d75c_8708_11e9_a8ba_254565c49487row1_col0\" class=\"data row1 col0\" >14.27</td>\n",
       "                        <td id=\"T_16d6d75c_8708_11e9_a8ba_254565c49487row1_col1\" class=\"data row1 col1\" >84.412</td>\n",
       "                        <td id=\"T_16d6d75c_8708_11e9_a8ba_254565c49487row1_col2\" class=\"data row1 col2\" >24.119</td>\n",
       "            </tr>\n",
       "            <tr>\n",
       "                                <th id=\"T_16d6d75c_8708_11e9_a8ba_254565c49487level1_row2\" class=\"row_heading level1 row2\" >5.0</th>\n",
       "                        <td id=\"T_16d6d75c_8708_11e9_a8ba_254565c49487row2_col0\" class=\"data row2 col0\" >12.007</td>\n",
       "                        <td id=\"T_16d6d75c_8708_11e9_a8ba_254565c49487row2_col1\" class=\"data row2 col1\" >88.237</td>\n",
       "                        <td id=\"T_16d6d75c_8708_11e9_a8ba_254565c49487row2_col2\" class=\"data row2 col2\" >20.605</td>\n",
       "            </tr>\n",
       "            <tr>\n",
       "                        <th id=\"T_16d6d75c_8708_11e9_a8ba_254565c49487level0_row3\" class=\"row_heading level0 row3\" rowspan=3>lda</th>\n",
       "                        <th id=\"T_16d6d75c_8708_11e9_a8ba_254565c49487level1_row3\" class=\"row_heading level1 row3\" >1.0</th>\n",
       "                        <td id=\"T_16d6d75c_8708_11e9_a8ba_254565c49487row3_col0\" class=\"data row3 col0\" >0</td>\n",
       "                        <td id=\"T_16d6d75c_8708_11e9_a8ba_254565c49487row3_col1\" class=\"data row3 col1\" >0</td>\n",
       "                        <td id=\"T_16d6d75c_8708_11e9_a8ba_254565c49487row3_col2\" class=\"data row3 col2\" >0</td>\n",
       "            </tr>\n",
       "            <tr>\n",
       "                                <th id=\"T_16d6d75c_8708_11e9_a8ba_254565c49487level1_row4\" class=\"row_heading level1 row4\" >3.0</th>\n",
       "                        <td id=\"T_16d6d75c_8708_11e9_a8ba_254565c49487row4_col0\" class=\"data row4 col0\" >7.978</td>\n",
       "                        <td id=\"T_16d6d75c_8708_11e9_a8ba_254565c49487row4_col1\" class=\"data row4 col1\" >52.939</td>\n",
       "                        <td id=\"T_16d6d75c_8708_11e9_a8ba_254565c49487row4_col2\" class=\"data row4 col2\" >13.634</td>\n",
       "            </tr>\n",
       "            <tr>\n",
       "                                <th id=\"T_16d6d75c_8708_11e9_a8ba_254565c49487level1_row5\" class=\"row_heading level1 row5\" >5.0</th>\n",
       "                        <td id=\"T_16d6d75c_8708_11e9_a8ba_254565c49487row5_col0\" class=\"data row5 col0\" >7.275</td>\n",
       "                        <td id=\"T_16d6d75c_8708_11e9_a8ba_254565c49487row5_col1\" class=\"data row5 col1\" >66.765</td>\n",
       "                        <td id=\"T_16d6d75c_8708_11e9_a8ba_254565c49487row5_col2\" class=\"data row5 col2\" >12.723</td>\n",
       "            </tr>\n",
       "            <tr>\n",
       "                        <th id=\"T_16d6d75c_8708_11e9_a8ba_254565c49487level0_row6\" class=\"row_heading level0 row6\" rowspan=3>lsi</th>\n",
       "                        <th id=\"T_16d6d75c_8708_11e9_a8ba_254565c49487level1_row6\" class=\"row_heading level1 row6\" >1.0</th>\n",
       "                        <td id=\"T_16d6d75c_8708_11e9_a8ba_254565c49487row6_col0\" class=\"data row6 col0\" >33.489</td>\n",
       "                        <td id=\"T_16d6d75c_8708_11e9_a8ba_254565c49487row6_col1\" class=\"data row6 col1\" >66.472</td>\n",
       "                        <td id=\"T_16d6d75c_8708_11e9_a8ba_254565c49487row6_col2\" class=\"data row6 col2\" >42.516</td>\n",
       "            </tr>\n",
       "            <tr>\n",
       "                                <th id=\"T_16d6d75c_8708_11e9_a8ba_254565c49487level1_row7\" class=\"row_heading level1 row7\" >3.0</th>\n",
       "                        <td id=\"T_16d6d75c_8708_11e9_a8ba_254565c49487row7_col0\" class=\"data row7 col0\" >26.653</td>\n",
       "                        <td id=\"T_16d6d75c_8708_11e9_a8ba_254565c49487row7_col1\" class=\"data row7 col1\" >81.177</td>\n",
       "                        <td id=\"T_16d6d75c_8708_11e9_a8ba_254565c49487row7_col2\" class=\"data row7 col2\" >34.974</td>\n",
       "            </tr>\n",
       "            <tr>\n",
       "                                <th id=\"T_16d6d75c_8708_11e9_a8ba_254565c49487level1_row8\" class=\"row_heading level1 row8\" >5.0</th>\n",
       "                        <td id=\"T_16d6d75c_8708_11e9_a8ba_254565c49487row8_col0\" class=\"data row8 col0\" >24.821</td>\n",
       "                        <td id=\"T_16d6d75c_8708_11e9_a8ba_254565c49487row8_col1\" class=\"data row8 col1\" >81.177</td>\n",
       "                        <td id=\"T_16d6d75c_8708_11e9_a8ba_254565c49487row8_col2\" class=\"data row8 col2\" >32.026</td>\n",
       "            </tr>\n",
       "            <tr>\n",
       "                        <th id=\"T_16d6d75c_8708_11e9_a8ba_254565c49487level0_row9\" class=\"row_heading level0 row9\" rowspan=3>wordvector</th>\n",
       "                        <th id=\"T_16d6d75c_8708_11e9_a8ba_254565c49487level1_row9\" class=\"row_heading level1 row9\" >1.0</th>\n",
       "                        <td id=\"T_16d6d75c_8708_11e9_a8ba_254565c49487row9_col0\" class=\"data row9 col0\" >14.169</td>\n",
       "                        <td id=\"T_16d6d75c_8708_11e9_a8ba_254565c49487row9_col1\" class=\"data row9 col1\" >37.062</td>\n",
       "                        <td id=\"T_16d6d75c_8708_11e9_a8ba_254565c49487row9_col2\" class=\"data row9 col2\" >20.478</td>\n",
       "            </tr>\n",
       "            <tr>\n",
       "                                <th id=\"T_16d6d75c_8708_11e9_a8ba_254565c49487level1_row10\" class=\"row_heading level1 row10\" >3.0</th>\n",
       "                        <td id=\"T_16d6d75c_8708_11e9_a8ba_254565c49487row10_col0\" class=\"data row10 col0\" >8.346</td>\n",
       "                        <td id=\"T_16d6d75c_8708_11e9_a8ba_254565c49487row10_col1\" class=\"data row10 col1\" >65.297</td>\n",
       "                        <td id=\"T_16d6d75c_8708_11e9_a8ba_254565c49487row10_col2\" class=\"data row10 col2\" >14.795</td>\n",
       "            </tr>\n",
       "            <tr>\n",
       "                                <th id=\"T_16d6d75c_8708_11e9_a8ba_254565c49487level1_row11\" class=\"row_heading level1 row11\" >5.0</th>\n",
       "                        <td id=\"T_16d6d75c_8708_11e9_a8ba_254565c49487row11_col0\" class=\"data row11 col0\" >5.28</td>\n",
       "                        <td id=\"T_16d6d75c_8708_11e9_a8ba_254565c49487row11_col1\" class=\"data row11 col1\" >68.237</td>\n",
       "                        <td id=\"T_16d6d75c_8708_11e9_a8ba_254565c49487row11_col2\" class=\"data row11 col2\" >9.803</td>\n",
       "            </tr>\n",
       "            <tr>\n",
       "                        <th id=\"T_16d6d75c_8708_11e9_a8ba_254565c49487level0_row12\" class=\"row_heading level0 row12\" rowspan=3>zero_r</th>\n",
       "                        <th id=\"T_16d6d75c_8708_11e9_a8ba_254565c49487level1_row12\" class=\"row_heading level1 row12\" >1.0</th>\n",
       "                        <td id=\"T_16d6d75c_8708_11e9_a8ba_254565c49487row12_col0\" class=\"data row12 col0\" >21.98</td>\n",
       "                        <td id=\"T_16d6d75c_8708_11e9_a8ba_254565c49487row12_col1\" class=\"data row12 col1\" >58.82</td>\n",
       "                        <td id=\"T_16d6d75c_8708_11e9_a8ba_254565c49487row12_col2\" class=\"data row12 col2\" >32</td>\n",
       "            </tr>\n",
       "            <tr>\n",
       "                                <th id=\"T_16d6d75c_8708_11e9_a8ba_254565c49487level1_row13\" class=\"row_heading level1 row13\" >3.0</th>\n",
       "                        <td id=\"T_16d6d75c_8708_11e9_a8ba_254565c49487row13_col0\" class=\"data row13 col0\" >21.98</td>\n",
       "                        <td id=\"T_16d6d75c_8708_11e9_a8ba_254565c49487row13_col1\" class=\"data row13 col1\" >58.82</td>\n",
       "                        <td id=\"T_16d6d75c_8708_11e9_a8ba_254565c49487row13_col2\" class=\"data row13 col2\" >32</td>\n",
       "            </tr>\n",
       "            <tr>\n",
       "                                <th id=\"T_16d6d75c_8708_11e9_a8ba_254565c49487level1_row14\" class=\"row_heading level1 row14\" >5.0</th>\n",
       "                        <td id=\"T_16d6d75c_8708_11e9_a8ba_254565c49487row14_col0\" class=\"data row14 col0\" >21.98</td>\n",
       "                        <td id=\"T_16d6d75c_8708_11e9_a8ba_254565c49487row14_col1\" class=\"data row14 col1\" >58.82</td>\n",
       "                        <td id=\"T_16d6d75c_8708_11e9_a8ba_254565c49487row14_col2\" class=\"data row14 col2\" >32</td>\n",
       "            </tr>\n",
       "    </tbody></table>"
      ],
      "text/plain": [
       "<pandas.io.formats.style.Styler at 0x7f05dfafa320>"
      ]
     },
     "execution_count": 4,
     "metadata": {},
     "output_type": "execute_result"
    }
   ],
   "source": [
    "evals_df_2_1 = evals_df_2[evals_df_2.top != 19.0]\n",
    "aux_functions.highlight_df( evals_df_2_1[['model','perc_precision','perc_recall','perc_fscore','top']].groupby(['model','top']).mean())"
   ]
  },
  {
   "cell_type": "markdown",
   "metadata": {},
   "source": [
    "### Plots"
   ]
  },
  {
   "cell_type": "raw",
   "metadata": {},
   "source": [
    "evaluator_2.plot_evaluations_1(evals_df=evals_df_2, title='Exp-Vol Intersec Strategy')"
   ]
  },
  {
   "cell_type": "code",
   "execution_count": 5,
   "metadata": {},
   "outputs": [
    {
     "data": {
      "image/png": "[encoded data removed]",
      "text/plain": [
       "<Figure size 720x360 with 1 Axes>"
      ]
     },
     "metadata": {
      "needs_background": "light"
     },
     "output_type": "display_data"
    }
   ],
   "source": [
    "evaluator_2.plot_evaluations_3(evals_df_2_1, title='BR-Feat Traceability Recovery - Exp-Vol Intersec Strategy')"
   ]
  },
  {
   "cell_type": "code",
   "execution_count": null,
   "metadata": {},
   "outputs": [],
   "source": [
    "evaluator_2.plot_evaluations_4(evals_df_2_1)"
   ]
  },
  {
   "cell_type": "code",
   "execution_count": null,
   "metadata": {},
   "outputs": [],
   "source": [
    "evaluator_2.plot_evaluations_5(evals_df_2_1)"
   ]
  },
  {
   "cell_type": "markdown",
   "metadata": {},
   "source": [
    "### Approach Example"
   ]
  },
  {
   "cell_type": "code",
   "execution_count": null,
   "metadata": {},
   "outputs": [],
   "source": [
    "aux_functions.highlight_df(exp_vol_intersec_strat_runner.get_lsi_model().get_sim_matrix().iloc[:,0:3])"
   ]
  },
  {
   "cell_type": "code",
   "execution_count": null,
   "metadata": {},
   "outputs": [],
   "source": [
    "aux_functions.highlight_df(evals_df_2_1[(evals_df_2_1.model == 'lsi') & (evals_df_2_1.ref_name == 'top_3_cosine_0.0')].trace_links_df.values[0].iloc[:,0:3])"
   ]
  },
  {
   "cell_type": "markdown",
   "metadata": {},
   "source": [
    "### Oracle True Traces"
   ]
  },
  {
   "cell_type": "code",
   "execution_count": null,
   "metadata": {
    "jupyter": {
     "source_hidden": true
    }
   },
   "outputs": [],
   "source": [
    "oracle_true_traces_inter = aux_functions.get_oracle_true_positives(exp_vol_intersec_strat_runner)\n",
    "print('len(oracle_true_traces_inter): {}'.format(len(oracle_true_traces_inter)))"
   ]
  },
  {
   "cell_type": "markdown",
   "metadata": {},
   "source": [
    "#### Oracle"
   ]
  },
  {
   "cell_type": "code",
   "execution_count": null,
   "metadata": {},
   "outputs": [],
   "source": [
    "aux_functions.highlight_df(exp_vol_intersec_strat_runner.get_evaluator().get_oracle_df().head())"
   ]
  },
  {
   "cell_type": "markdown",
   "metadata": {},
   "source": [
    "#### Amount of BRs for Feature"
   ]
  },
  {
   "cell_type": "code",
   "execution_count": null,
   "metadata": {},
   "outputs": [],
   "source": [
    "import numpy as np\n",
    "import pandas as pd\n",
    "\n",
    "df = pd.DataFrame(columns=['feature','br_amount'])\n",
    "output = exp_vol_intersec_strat_runner.get_evaluator().get_oracle_df().apply(lambda row : np.sum(row), axis=1)\n",
    "df.feature = output.index\n",
    "df.br_amount = output.values\n",
    "df = df[df.br_amount != 0]\n",
    "df"
   ]
  },
  {
   "cell_type": "markdown",
   "metadata": {
    "toc-hr-collapsed": false
   },
   "source": [
    "### Retrieved Traces - Similarity Threshold 0.0"
   ]
  },
  {
   "cell_type": "code",
   "execution_count": null,
   "metadata": {},
   "outputs": [],
   "source": [
    "retrieved_traces_df = aux_functions.get_retrieved_traces_df(oracle=exp_vol_intersec_strat_runner.get_oracle(), evals_df=evals_df_2, top_values=[1,3,5], sim_threshs=[0.0])\n",
    "retrieved_traces_df[['top','sim_thresh','model','TP_amount','FP_amount','FN_amount','precision','recall','fscore']].head(50)"
   ]
  },
  {
   "cell_type": "markdown",
   "metadata": {},
   "source": [
    "#### Traces Not Captured by Any Technique"
   ]
  },
  {
   "cell_type": "code",
   "execution_count": null,
   "metadata": {
    "jupyter": {
     "source_hidden": true
    }
   },
   "outputs": [],
   "source": [
    "import pprint\n",
    "\n",
    "print('TOP 1 --------------------------')\n",
    "all_captured_traces_t1_inter = aux_functions.get_captured_traces_union(top_value=1, retrieved_traces_df=retrieved_traces_df)\n",
    "not_captured_traces_t1_inter = oracle_true_traces_inter - all_captured_traces_t1_inter\n",
    "print('len(not_captured_traces): {}'.format(len(not_captured_traces_t1_inter)))\n",
    "print('percent not_captured_traces: {}/{} * 100 : {:2.4}%'.format(len(not_captured_traces_t1_inter), len(oracle_true_traces_inter), len(not_captured_traces_t1_inter)/len(oracle_true_traces_inter)*100))\n",
    "pprint.pprint(not_captured_traces_t1_inter)\n",
    "\n",
    "print('\\n\\nTOP 3 --------------------------')\n",
    "all_captured_traces_t3_inter = aux_functions.get_captured_traces_union(top_value=3, retrieved_traces_df=retrieved_traces_df)\n",
    "not_captured_traces_t3_inter = oracle_true_traces_inter - all_captured_traces_t3_inter\n",
    "print('len(not_captured_traces): {}'.format(len(not_captured_traces_t3_inter)))\n",
    "print('percent not_captured_traces: {}/{} * 100 : {:2.4}%'.format(len(not_captured_traces_t3_inter), len(oracle_true_traces_inter), len(not_captured_traces_t3_inter)/len(oracle_true_traces_inter)*100))\n",
    "\n",
    "print('\\n\\nTOP 5 --------------------------')\n",
    "all_captured_traces_t5_inter = aux_functions.get_captured_traces_union(top_value=5, retrieved_traces_df=retrieved_traces_df)\n",
    "not_captured_traces_t5_inter = oracle_true_traces_inter - all_captured_traces_t5_inter\n",
    "print('len(not_captured_traces): {}'.format(len(not_captured_traces_t5_inter)))\n",
    "print('percent not_captured_traces: {}/{} * 100 : {:2.4}%'.format(len(not_captured_traces_t5_inter), len(oracle_true_traces_inter), len(not_captured_traces_t5_inter)/len(oracle_true_traces_inter)*100))"
   ]
  },
  {
   "cell_type": "markdown",
   "metadata": {},
   "source": [
    "#### Traces Captured by Every Technique"
   ]
  },
  {
   "cell_type": "code",
   "execution_count": null,
   "metadata": {
    "jupyter": {
     "source_hidden": true
    }
   },
   "outputs": [],
   "source": [
    "print('TOP 1 -----------------------')\n",
    "traces_captured_by_all_t1_inter = aux_functions.get_captured_traces_intersec(1, retrieved_traces_df)\n",
    "print('len(traces_captured_by_all): {}'.format(len(traces_captured_by_all_t1_inter)))\n",
    "print('percent traces_captured_by_all: {}/{} * 100 : {:2.4}%'.format(len(traces_captured_by_all_t1_inter), len(oracle_true_traces_inter), len(traces_captured_by_all_t1_inter)/len(oracle_true_traces_inter) *100))\n",
    "\n",
    "print('\\n\\nTOP 3 -----------------------')\n",
    "traces_captured_by_all_t3_inter = aux_functions.get_captured_traces_intersec(3, retrieved_traces_df)\n",
    "print('len(traces_captured_by_all): {}'.format(len(traces_captured_by_all_t3_inter)))\n",
    "print('percent traces_captured_by_all: {}/{} * 100 : {:2.4}%'.format(len(traces_captured_by_all_t3_inter), len(oracle_true_traces_inter), len(traces_captured_by_all_t3_inter)/len(oracle_true_traces_inter) *100))\n",
    "\n",
    "print('\\n\\nTOP 5 -----------------------')\n",
    "traces_captured_by_all_t5_inter = aux_functions.get_captured_traces_intersec(5, retrieved_traces_df)\n",
    "print('len(traces_captured_by_all): {}'.format(len(traces_captured_by_all_t5_inter)))\n",
    "print('percent traces_captured_by_all: {}/{} * 100 : {:2.4}%'.format(len(traces_captured_by_all_t5_inter), len(oracle_true_traces_inter), len(traces_captured_by_all_t5_inter)/len(oracle_true_traces_inter) *100))"
   ]
  },
  {
   "cell_type": "markdown",
   "metadata": {
    "toc-hr-collapsed": true
   },
   "source": [
    "#### Similarity Matrices Analysis"
   ]
  },
  {
   "cell_type": "markdown",
   "metadata": {},
   "source": [
    "##### **LDA**"
   ]
  },
  {
   "cell_type": "code",
   "execution_count": null,
   "metadata": {},
   "outputs": [],
   "source": [
    "aux_functions.highlight_df(exp_vol_intersec_strat_runner.get_lda_model().get_sim_matrix())"
   ]
  },
  {
   "cell_type": "markdown",
   "metadata": {},
   "source": [
    "##### **LSI**"
   ]
  },
  {
   "cell_type": "code",
   "execution_count": null,
   "metadata": {},
   "outputs": [],
   "source": [
    "aux_functions.highlight_df(exp_vol_intersec_strat_runner.get_lsi_model().get_sim_matrix())"
   ]
  },
  {
   "cell_type": "markdown",
   "metadata": {},
   "source": [
    "##### **BM25**"
   ]
  },
  {
   "cell_type": "code",
   "execution_count": null,
   "metadata": {},
   "outputs": [],
   "source": [
    "aux_functions.highlight_df(exp_vol_intersec_strat_runner.get_bm25_model().get_sim_matrix())"
   ]
  },
  {
   "cell_type": "markdown",
   "metadata": {},
   "source": [
    "##### **Word Vector**"
   ]
  },
  {
   "cell_type": "code",
   "execution_count": null,
   "metadata": {},
   "outputs": [],
   "source": [
    "import numpy as np\n",
    "\n",
    "wv_sim_matrix = exp_vol_intersec_strat_runner.get_word2vec_model().get_sim_matrix()\n",
    "\n",
    "wv_sim_values = []\n",
    "for idx,row in wv_sim_matrix.iterrows():\n",
    "    for col in wv_sim_matrix.columns:\n",
    "        wv_sim_values.append(wv_sim_matrix.at[idx,col])\n",
    "\n",
    "print(\"Mean Similarity Value: {}\".format(np.mean(wv_sim_values)))\n",
    "print(\"Std Similarity Value: {}\".format(np.std(wv_sim_values)))\n",
    "\n",
    "aux_functions.highlight_df(wv_sim_matrix)"
   ]
  },
  {
   "cell_type": "markdown",
   "metadata": {},
   "source": [
    "#### LDA Topics"
   ]
  },
  {
   "cell_type": "code",
   "execution_count": null,
   "metadata": {},
   "outputs": [],
   "source": [
    "exp_vol_intersec_strat_runner.get_lda_model().print_topics()"
   ]
  },
  {
   "cell_type": "markdown",
   "metadata": {
    "toc-hr-collapsed": true
   },
   "source": [
    "#### True Positives Analysis"
   ]
  },
  {
   "cell_type": "code",
   "execution_count": null,
   "metadata": {},
   "outputs": [],
   "source": [
    "bm25_tp_set_t1, lsi_tp_set_t1, lda_tp_set_t1, wv_tp_set_t1 = aux_functions.get_traces_set(retrieved_traces_df, 1, 'TP')\n",
    "bm25_tp_set_t3, lsi_tp_set_t3, lda_tp_set_t3, wv_tp_set_t3 = aux_functions.get_traces_set(retrieved_traces_df, 3, 'TP')\n",
    "bm25_tp_set_t5, lsi_tp_set_t5, lda_tp_set_t5, wv_tp_set_t5 = aux_functions.get_traces_set(retrieved_traces_df, 5, 'TP')\n",
    "#aux_functions.plot_venn_diagrams(TOP, bm25_tp_set_t5, lsi_tp_set_t5, lda_tp_set_t5, wv_tp_set_t5, 'True Positives')"
   ]
  },
  {
   "cell_type": "markdown",
   "metadata": {},
   "source": [
    "##### Exclusive Traces"
   ]
  },
  {
   "cell_type": "code",
   "execution_count": null,
   "metadata": {},
   "outputs": [],
   "source": [
    "import pandas as pd\n",
    "\n",
    "print(\"TOP 1 ------------------------------\")\n",
    "bm25_tp_exc_set_t1, lsi_tp_exc_set_t1, lda_tp_exc_set_t1, wv_tp_exc_set_t1 =  aux_functions.get_exclusive_traces(bm25_tp_set_t1, lsi_tp_set_t1, lda_tp_set_t1, wv_tp_set_t1, traces_type='TP', verbose=True)\n",
    "\n",
    "print(\"\\n\\nTOP 3 ------------------------------\")\n",
    "bm25_tp_exc_set_t3, lsi_tp_exc_set_t3, lda_tp_exc_set_t3, wv_tp_exc_set_t3 =  aux_functions.get_exclusive_traces(bm25_tp_set_t3, lsi_tp_set_t3, lda_tp_set_t3, wv_tp_set_t3, traces_type='TP', verbose=True)\n",
    "\n",
    "print(\"\\n\\nTOP 5 -------------------------------\")\n",
    "bm25_tp_exc_set_t5, lsi_tp_exc_set_t5, lda_tp_exc_set_t5, wv_tp_exc_set_t5 =  aux_functions.get_exclusive_traces(bm25_tp_set_t5, lsi_tp_set_t5, lda_tp_set_t5, wv_tp_set_t5, traces_type='TP', verbose=True)\n",
    "\n",
    "df = pd.DataFrame(index=['TOP 1', 'TOP 3', 'TOP 5'], columns=['BM25','LSI','LDA','WordVector'])\n",
    "\n",
    "df.at['TOP 1','BM25'] = len(bm25_tp_exc_set_t1)\n",
    "df.at['TOP 3','BM25'] = len(bm25_tp_exc_set_t3)\n",
    "df.at['TOP 5','BM25'] = len(bm25_tp_exc_set_t5)\n",
    "\n",
    "df.at['TOP 1','LSI'] = len(lsi_tp_exc_set_t1)\n",
    "df.at['TOP 3','LSI'] = len(lsi_tp_exc_set_t3)\n",
    "df.at['TOP 5','LSI'] = len(lsi_tp_exc_set_t5)\n",
    "\n",
    "df.at['TOP 1','LDA'] = len(lda_tp_exc_set_t1)\n",
    "df.at['TOP 3','LDA'] = len(lda_tp_exc_set_t3)\n",
    "df.at['TOP 5','LDA'] = len(lda_tp_exc_set_t5)\n",
    "\n",
    "df.at['TOP 1','WordVector'] = len(wv_tp_exc_set_t1)\n",
    "df.at['TOP 3','WordVector'] = len(wv_tp_exc_set_t3)\n",
    "df.at['TOP 5','WordVector'] = len(wv_tp_exc_set_t5)\n",
    "\n",
    "print()\n",
    "\n",
    "df"
   ]
  },
  {
   "cell_type": "markdown",
   "metadata": {
    "toc-hr-collapsed": true
   },
   "source": [
    "#### False Positives Analysis"
   ]
  },
  {
   "cell_type": "code",
   "execution_count": null,
   "metadata": {},
   "outputs": [],
   "source": [
    "bm25_fp_set_t1, lsi_fp_set_t1, lda_fp_set_t1, wv_fp_set_t1 = aux_functions.get_traces_set(retrieved_traces_df, 1, 'FP')\n",
    "bm25_fp_set_t5, lsi_fp_set_t5, lda_fp_set_t5, wv_fp_set_t5 = aux_functions.get_traces_set(retrieved_traces_df, 5, 'FP')\n",
    "\n",
    "aux_functions.plot_venn_diagrams(1, bm25_fp_set_t1, lsi_fp_set_t1, lda_fp_set_t1, wv_fp_set_t1, 'FP')\n",
    "print('====================')\n",
    "aux_functions.plot_venn_diagrams(5, bm25_fp_set_t5, lsi_fp_set_t5, lda_fp_set_t5, wv_fp_set_t5, 'FP')"
   ]
  },
  {
   "cell_type": "markdown",
   "metadata": {},
   "source": [
    "##### Exclusive Traces"
   ]
  },
  {
   "cell_type": "code",
   "execution_count": null,
   "metadata": {},
   "outputs": [],
   "source": [
    "print(\"TOP 1 ------------------------------\")\n",
    "bm25_fp_exc_set_t1, lsi_fp_exc_set_t1, lda_fp_exc_set_t1, wv_fp_exc_set_t1 =  aux_functions.get_exclusive_traces(bm25_fp_set_t1, lsi_fp_set_t1, lda_fp_set_t1, wv_fp_set_t1, traces_type='FP')\n",
    "\n",
    "print(\"\\n\\nTOP 5 -------------------------------\")\n",
    "bm25_fp_exc_set_t5, lsi_fp_exc_set_t5, lda_fp_exc_set_t5, wv_fp_exc_set_t5 =  aux_functions.get_exclusive_traces(bm25_fp_set_t5, lsi_fp_set_t5, lda_fp_set_t5, wv_fp_set_t5, traces_type='FP')"
   ]
  },
  {
   "cell_type": "markdown",
   "metadata": {
    "toc-hr-collapsed": true
   },
   "source": [
    "#### False Negatives Analysis"
   ]
  },
  {
   "cell_type": "code",
   "execution_count": null,
   "metadata": {},
   "outputs": [],
   "source": [
    "bm25_fn_set_t1, lsi_fn_set_t1, lda_fn_set_t1, wv_fn_set_t1 = aux_functions.get_traces_set(retrieved_traces_df, 1, 'FN')\n",
    "bm25_fn_set_t5, lsi_fn_set_t5, lda_fn_set_t5, wv_fn_set_t5 = aux_functions.get_traces_set(retrieved_traces_df, 5, 'FN')\n",
    "\n",
    "aux_functions.plot_venn_diagrams(5, bm25_fn_set_t5, lsi_fn_set_t5, lda_fn_set_t5, wv_fn_set_t5, 'False Negatives')"
   ]
  },
  {
   "cell_type": "markdown",
   "metadata": {},
   "source": [
    "##### Exclusive Traces"
   ]
  },
  {
   "cell_type": "code",
   "execution_count": null,
   "metadata": {},
   "outputs": [],
   "source": [
    "print(\"TOP 1 ------------------------------\")\n",
    "bm25_fn_exc_set_t1, lsi_fn_exc_set_t1, lda_fn_exc_set_t1, wv_fn_exc_set_t1 =  aux_functions.get_exclusive_traces(bm25_fn_set_t1, lsi_fn_set_t1, lda_fn_set_t1, wv_fn_set_t1, traces_type='FN')\n",
    "\n",
    "print(\"\\n\\nTOP 5 -------------------------------\")\n",
    "bm25_fn_exc_set_t5, lsi_fn_exc_set_t5, lda_fn_exc_set_t5, wv_fn_exc_set_t5 =  aux_functions.get_exclusive_traces(bm25_fn_set_t5, lsi_fn_set_t5, lda_fn_set_t5, wv_fn_set_t5, traces_type='FN')"
   ]
  },
  {
   "cell_type": "markdown",
   "metadata": {},
   "source": [
    "##### **LDA**"
   ]
  },
  {
   "cell_type": "code",
   "execution_count": null,
   "metadata": {},
   "outputs": [],
   "source": [
    "aux_functions.detail_features_br(lda_fn_exc_set_t1, features, bugreports)[['feat','br','br_summary']]"
   ]
  },
  {
   "cell_type": "code",
   "execution_count": null,
   "metadata": {},
   "outputs": [],
   "source": [
    "aux_functions.highlight_df(exp_vol_intersec_strat_runner.get_lda_model().get_sim_matrix().loc[:,[b for f,b in lda_fn_exc_set_t1]])"
   ]
  },
  {
   "cell_type": "code",
   "execution_count": null,
   "metadata": {},
   "outputs": [],
   "source": [
    "aux_functions.highlight_df(exp_vol_intersec_strat_runner.get_lda_model().get_sim_matrix().loc[:,[b for f,b in lda_fn_exc_set_t1 - set([1270983,1248267,1299458])]])"
   ]
  },
  {
   "cell_type": "markdown",
   "metadata": {},
   "source": [
    "##### **LSI**"
   ]
  },
  {
   "cell_type": "markdown",
   "metadata": {},
   "source": [
    "No exclusive False Negative traces for Top 1 and Top 5"
   ]
  },
  {
   "cell_type": "markdown",
   "metadata": {},
   "source": [
    "##### **BM25**"
   ]
  },
  {
   "cell_type": "markdown",
   "metadata": {},
   "source": [
    "No exclusive False Negative traces for Top 1 and Top 5"
   ]
  },
  {
   "cell_type": "markdown",
   "metadata": {},
   "source": [
    "##### **Word Vector**"
   ]
  },
  {
   "cell_type": "code",
   "execution_count": null,
   "metadata": {},
   "outputs": [],
   "source": [
    "aux_functions.detail_features_br(wv_fn_exc_set_t5, features, bugreports)[['feat','br','br_summary']]"
   ]
  },
  {
   "cell_type": "code",
   "execution_count": null,
   "metadata": {},
   "outputs": [],
   "source": [
    "aux_functions.highlight_df(exp_vol_intersec_strat_runner.get_word2vec_model().get_sim_matrix().loc[:,[b for f,b in wv_fn_exc_set_t5]])"
   ]
  },
  {
   "cell_type": "markdown",
   "metadata": {
    "toc-hr-collapsed": false
   },
   "source": [
    "### Retrieved Traces - Similarity Threshold 0.9"
   ]
  },
  {
   "cell_type": "code",
   "execution_count": null,
   "metadata": {},
   "outputs": [],
   "source": [
    "retrieved_traces_df = aux_functions.get_retrieved_traces_df(oracle=exp_vol_intersec_strat_runner.get_oracle(), evals_df=evals_df_2, top_values=[1,3,5], sim_threshs=[0.9])\n",
    "retrieved_traces_df[['top','sim_thresh','model','TP_amount','FP_amount','FN_amount','precision','recall','fscore']].head(50)"
   ]
  },
  {
   "cell_type": "markdown",
   "metadata": {},
   "source": [
    "#### Traces Not Captured by Any Technique"
   ]
  },
  {
   "cell_type": "code",
   "execution_count": null,
   "metadata": {
    "jupyter": {
     "source_hidden": true
    }
   },
   "outputs": [],
   "source": [
    "import pprint\n",
    "\n",
    "print('TOP 1 --------------------------')\n",
    "all_captured_traces_t1_inter = aux_functions.get_captured_traces_union(top_value=1, retrieved_traces_df=retrieved_traces_df)\n",
    "not_captured_traces_t1_inter = oracle_true_traces_inter - all_captured_traces_t1_inter\n",
    "print('len(not_captured_traces): {}'.format(len(not_captured_traces_t1_inter)))\n",
    "print('percent not_captured_traces: {}/{} * 100 : {:2.4}%'.format(len(not_captured_traces_t1_inter), len(oracle_true_traces_inter), len(not_captured_traces_t1_inter)/len(oracle_true_traces_inter)*100))\n",
    "pprint.pprint(not_captured_traces_t1_inter)\n",
    "\n",
    "print('\\n\\nTOP 3 --------------------------')\n",
    "all_captured_traces_t3_inter = aux_functions.get_captured_traces_union(top_value=3, retrieved_traces_df=retrieved_traces_df)\n",
    "not_captured_traces_t3_inter = oracle_true_traces_inter - all_captured_traces_t3_inter\n",
    "print('len(not_captured_traces): {}'.format(len(not_captured_traces_t3_inter)))\n",
    "print('percent not_captured_traces: {}/{} * 100 : {:2.4}%'.format(len(not_captured_traces_t3_inter), len(oracle_true_traces_inter), len(not_captured_traces_t3_inter)/len(oracle_true_traces_inter)*100))\n",
    "pprint.pprint(not_captured_traces_t3_inter)\n",
    "\n",
    "print('\\n\\nTOP 5 --------------------------')\n",
    "all_captured_traces_t5_inter = aux_functions.get_captured_traces_union(top_value=5, retrieved_traces_df=retrieved_traces_df)\n",
    "not_captured_traces_t5_inter = oracle_true_traces_inter - all_captured_traces_t5_inter\n",
    "print('len(not_captured_traces): {}'.format(len(not_captured_traces_t5_inter)))\n",
    "print('percent not_captured_traces: {}/{} * 100 : {:2.4}%'.format(len(not_captured_traces_t5_inter), len(oracle_true_traces_inter), len(not_captured_traces_t5_inter)/len(oracle_true_traces_inter)*100))\n",
    "pprint.pprint(not_captured_traces_t5_inter)"
   ]
  },
  {
   "cell_type": "markdown",
   "metadata": {},
   "source": [
    "#### Traces Captured by Every Technique"
   ]
  },
  {
   "cell_type": "code",
   "execution_count": null,
   "metadata": {
    "jupyter": {
     "source_hidden": true
    }
   },
   "outputs": [],
   "source": [
    "import pprint\n",
    "\n",
    "print('TOP 1 -----------------------')\n",
    "traces_captured_by_all_t1_inter = aux_functions.get_captured_traces_intersec(1, retrieved_traces_df)\n",
    "print('len(traces_captured_by_all): {}'.format(len(traces_captured_by_all_t1_inter)))\n",
    "print('percent traces_captured_by_all: {}/{} * 100 : {:2.4}%'.format(len(traces_captured_by_all_t1_inter), len(oracle_true_traces_inter), len(traces_captured_by_all_t1_inter)/len(oracle_true_traces_inter) *100))\n",
    "pprint.pprint(traces_captured_by_all_t1_inter)\n",
    "\n",
    "print('\\n\\nTOP 3 -----------------------')\n",
    "traces_captured_by_all_t3_inter = aux_functions.get_captured_traces_intersec(3, retrieved_traces_df)\n",
    "print('len(traces_captured_by_all): {}'.format(len(traces_captured_by_all_t3_inter)))\n",
    "print('percent traces_captured_by_all: {}/{} * 100 : {:2.4}%'.format(len(traces_captured_by_all_t3_inter), len(oracle_true_traces_inter), len(traces_captured_by_all_t3_inter)/len(oracle_true_traces_inter) *100))\n",
    "pprint.pprint(traces_captured_by_all_t3_inter)\n",
    "\n",
    "print('\\n\\nTOP 5 -----------------------')\n",
    "traces_captured_by_all_t5_inter = aux_functions.get_captured_traces_intersec(5, retrieved_traces_df)\n",
    "print('len(traces_captured_by_all): {}'.format(len(traces_captured_by_all_t5_inter)))\n",
    "print('percent traces_captured_by_all: {}/{} * 100 : {:2.4}%'.format(len(traces_captured_by_all_t5_inter), len(oracle_true_traces_inter), len(traces_captured_by_all_t5_inter)/len(oracle_true_traces_inter) *100))\n",
    "pprint.pprint(traces_captured_by_all_t5_inter)"
   ]
  },
  {
   "cell_type": "markdown",
   "metadata": {
    "toc-hr-collapsed": true
   },
   "source": [
    "#### True Positives Analysis"
   ]
  },
  {
   "cell_type": "code",
   "execution_count": null,
   "metadata": {},
   "outputs": [],
   "source": [
    "bm25_tp_set_t1, lsi_tp_set_t1, lda_tp_set_t1, wv_tp_set_t1 = aux_functions.get_traces_set(retrieved_traces_df, 1, 'TP')\n",
    "bm25_tp_set_t3, lsi_tp_set_t3, lda_tp_set_t3, wv_tp_set_t3 = aux_functions.get_traces_set(retrieved_traces_df, 3, 'TP')\n",
    "bm25_tp_set_t5, lsi_tp_set_t5, lda_tp_set_t5, wv_tp_set_t5 = aux_functions.get_traces_set(retrieved_traces_df, 5, 'TP')\n",
    "#aux_functions.plot_venn_diagrams(TOP, bm25_tp_set_t5, lsi_tp_set_t5, lda_tp_set_t5, wv_tp_set_t5, 'True Positives')"
   ]
  },
  {
   "cell_type": "markdown",
   "metadata": {},
   "source": [
    "##### Exclusive Traces"
   ]
  },
  {
   "cell_type": "code",
   "execution_count": null,
   "metadata": {},
   "outputs": [],
   "source": [
    "import pandas as pd\n",
    "\n",
    "print(\"TOP 1 ------------------------------\")\n",
    "bm25_tp_exc_set_t1, lsi_tp_exc_set_t1, lda_tp_exc_set_t1, wv_tp_exc_set_t1 =  aux_functions.get_exclusive_traces(bm25_tp_set_t1, lsi_tp_set_t1, lda_tp_set_t1, wv_tp_set_t1, traces_type='TP', verbose=True)\n",
    "\n",
    "print(\"\\n\\nTOP 3 ------------------------------\")\n",
    "bm25_tp_exc_set_t3, lsi_tp_exc_set_t3, lda_tp_exc_set_t3, wv_tp_exc_set_t3 =  aux_functions.get_exclusive_traces(bm25_tp_set_t3, lsi_tp_set_t3, lda_tp_set_t3, wv_tp_set_t3, traces_type='TP', verbose=True)\n",
    "\n",
    "print(\"\\n\\nTOP 5 -------------------------------\")\n",
    "bm25_tp_exc_set_t5, lsi_tp_exc_set_t5, lda_tp_exc_set_t5, wv_tp_exc_set_t5 =  aux_functions.get_exclusive_traces(bm25_tp_set_t5, lsi_tp_set_t5, lda_tp_set_t5, wv_tp_set_t5, traces_type='TP', verbose=True)\n",
    "\n",
    "df = pd.DataFrame(index=['TOP 1', 'TOP 3', 'TOP 5'], columns=['BM25','LSI','LDA','WordVector'])\n",
    "\n",
    "df.at['TOP 1','BM25'] = len(bm25_tp_exc_set_t1)\n",
    "df.at['TOP 3','BM25'] = len(bm25_tp_exc_set_t3)\n",
    "df.at['TOP 5','BM25'] = len(bm25_tp_exc_set_t5)\n",
    "\n",
    "df.at['TOP 1','LSI'] = len(lsi_tp_exc_set_t1)\n",
    "df.at['TOP 3','LSI'] = len(lsi_tp_exc_set_t3)\n",
    "df.at['TOP 5','LSI'] = len(lsi_tp_exc_set_t5)\n",
    "\n",
    "df.at['TOP 1','LDA'] = len(lda_tp_exc_set_t1)\n",
    "df.at['TOP 3','LDA'] = len(lda_tp_exc_set_t3)\n",
    "df.at['TOP 5','LDA'] = len(lda_tp_exc_set_t5)\n",
    "\n",
    "df.at['TOP 1','WordVector'] = len(wv_tp_exc_set_t1)\n",
    "df.at['TOP 3','WordVector'] = len(wv_tp_exc_set_t3)\n",
    "df.at['TOP 5','WordVector'] = len(wv_tp_exc_set_t5)\n",
    "\n",
    "print()\n",
    "\n",
    "df"
   ]
  },
  {
   "cell_type": "markdown",
   "metadata": {},
   "source": [
    "##### Details of Exclusive Traces"
   ]
  },
  {
   "cell_type": "code",
   "execution_count": null,
   "metadata": {},
   "outputs": [],
   "source": [
    "display(aux_functions.detail_features_br(bm25_tp_exc_set_t1, features, bugreports)[['feat','br','br_summary']])\n",
    "display(aux_functions.detail_features_br(bm25_tp_exc_set_t3, features, bugreports)[['feat','br','br_summary']])\n",
    "display(aux_functions.detail_features_br(wv_tp_exc_set_t3, features, bugreports)[['feat','br','br_summary']])\n",
    "display(aux_functions.detail_features_br(wv_tp_exc_set_t5, features, bugreports)[['feat','br','br_summary']])"
   ]
  },
  {
   "cell_type": "markdown",
   "metadata": {},
   "source": [
    "**LSI vs BM25 Similarity Matrices Comparison - TOP 1**"
   ]
  },
  {
   "cell_type": "code",
   "execution_count": null,
   "metadata": {},
   "outputs": [],
   "source": [
    "display(aux_functions.highlight_df(exp_vol_intersec_strat_runner.get_lsi_model().get_sim_matrix().loc[:,[b for f,b in bm25_tp_exc_set_t1]]))\n",
    "display(aux_functions.highlight_df(exp_vol_intersec_strat_runner.get_bm25_model().get_sim_matrix().loc[:,[b for f,b in bm25_tp_exc_set_t1]]))"
   ]
  },
  {
   "cell_type": "markdown",
   "metadata": {},
   "source": [
    "**LSI vs BM25 Similarity Matrices Comparison - TOP 3 and 5**"
   ]
  },
  {
   "cell_type": "code",
   "execution_count": null,
   "metadata": {},
   "outputs": [],
   "source": [
    "display(aux_functions.highlight_df(exp_vol_intersec_strat_runner.get_lsi_model().get_sim_matrix().loc[:,[b for f,b in bm25_tp_exc_set_t3]]))\n",
    "display(aux_functions.highlight_df(exp_vol_intersec_strat_runner.get_bm25_model().get_sim_matrix().loc[:,[b for f,b in bm25_tp_exc_set_t3]]))"
   ]
  },
  {
   "cell_type": "markdown",
   "metadata": {},
   "source": [
    "**BM25 vs WV Similarity Matrices Comparison - TOP 3**"
   ]
  },
  {
   "cell_type": "code",
   "execution_count": null,
   "metadata": {},
   "outputs": [],
   "source": [
    "display(aux_functions.highlight_df(exp_vol_intersec_strat_runner.get_bm25_model().get_sim_matrix().loc[:,[b for f,b in wv_tp_exc_set_t5]]))\n",
    "display(aux_functions.highlight_df(exp_vol_intersec_strat_runner.get_word2vec_model().get_sim_matrix().loc[:,[b for f,b in wv_tp_exc_set_t5]]))"
   ]
  },
  {
   "cell_type": "markdown",
   "metadata": {
    "toc-hr-collapsed": true
   },
   "source": [
    "#### False Positives Analysis"
   ]
  },
  {
   "cell_type": "code",
   "execution_count": null,
   "metadata": {},
   "outputs": [],
   "source": [
    "bm25_fp_set_t1, lsi_fp_set_t1, lda_fp_set_t1, wv_fp_set_t1 = aux_functions.get_traces_set(retrieved_traces_df, 1, 'FP')\n",
    "bm25_fp_set_t3, lsi_fp_set_t3, lda_fp_set_t3, wv_fp_set_t3 = aux_functions.get_traces_set(retrieved_traces_df, 3, 'FP')\n",
    "bm25_fp_set_t5, lsi_fp_set_t5, lda_fp_set_t5, wv_fp_set_t5 = aux_functions.get_traces_set(retrieved_traces_df, 5, 'FP')\n",
    "\n",
    "aux_functions.plot_venn_diagrams(1, bm25_fp_set_t1, lsi_fp_set_t1, lda_fp_set_t1, wv_fp_set_t1, 'FP')\n",
    "print('====================')\n",
    "aux_functions.plot_venn_diagrams(3, bm25_fp_set_t3, lsi_fp_set_t3, lda_fp_set_t3, wv_fp_set_t3, 'FP')\n",
    "print('====================')\n",
    "aux_functions.plot_venn_diagrams(5, bm25_fp_set_t5, lsi_fp_set_t5, lda_fp_set_t5, wv_fp_set_t5, 'FP')"
   ]
  },
  {
   "cell_type": "markdown",
   "metadata": {},
   "source": [
    "##### Exclusive Traces"
   ]
  },
  {
   "cell_type": "code",
   "execution_count": null,
   "metadata": {},
   "outputs": [],
   "source": [
    "print(\"TOP 1 ------------------------------\")\n",
    "bm25_fp_exc_set_t1, lsi_fp_exc_set_t1, lda_fp_exc_set_t1, wv_fp_exc_set_t1 =  aux_functions.get_exclusive_traces(bm25_fp_set_t1, lsi_fp_set_t1, lda_fp_set_t1, wv_fp_set_t1, traces_type='FP')\n",
    "\n",
    "print(\"\\n\\nTOP 3 ------------------------------\")\n",
    "bm25_fp_exc_set_t3, lsi_fp_exc_set_t3, lda_fp_exc_set_t3, wv_fp_exc_set_t3 =  aux_functions.get_exclusive_traces(bm25_fp_set_t3, lsi_fp_set_t3, lda_fp_set_t3, wv_fp_set_t3, traces_type='FP')\n",
    "\n",
    "print(\"\\n\\nTOP 5 -------------------------------\")\n",
    "bm25_fp_exc_set_t5, lsi_fp_exc_set_t5, lda_fp_exc_set_t5, wv_fp_exc_set_t5 =  aux_functions.get_exclusive_traces(bm25_fp_set_t5, lsi_fp_set_t5, lda_fp_set_t5, wv_fp_set_t5, traces_type='FP')"
   ]
  },
  {
   "cell_type": "markdown",
   "metadata": {
    "toc-hr-collapsed": true
   },
   "source": [
    "#### False Negatives Analysis"
   ]
  },
  {
   "cell_type": "code",
   "execution_count": null,
   "metadata": {},
   "outputs": [],
   "source": [
    "bm25_fn_set_t1, lsi_fn_set_t1, lda_fn_set_t1, wv_fn_set_t1 = aux_functions.get_traces_set(retrieved_traces_df, 1, 'FN')\n",
    "bm25_fn_set_t3, lsi_fn_set_t3, lda_fn_set_t3, wv_fn_set_t3 = aux_functions.get_traces_set(retrieved_traces_df, 3, 'FN')\n",
    "bm25_fn_set_t5, lsi_fn_set_t5, lda_fn_set_t5, wv_fn_set_t5 = aux_functions.get_traces_set(retrieved_traces_df, 5, 'FN')\n",
    "\n",
    "print(\"TOP 1 -----------------------------------\")\n",
    "aux_functions.plot_venn_diagrams(1, bm25_fn_set_t1, lsi_fn_set_t1, lda_fn_set_t1, wv_fn_set_t1, 'FN')\n",
    "\n",
    "print(\"\\n\\nTOP 5 -----------------------------------\")\n",
    "aux_functions.plot_venn_diagrams(5, bm25_fn_set_t5, lsi_fn_set_t5, lda_fn_set_t5, wv_fn_set_t5, 'FN')"
   ]
  },
  {
   "cell_type": "markdown",
   "metadata": {},
   "source": [
    "##### Exclusive Traces"
   ]
  },
  {
   "cell_type": "code",
   "execution_count": null,
   "metadata": {},
   "outputs": [],
   "source": [
    "print(\"TOP 1 ------------------------------\")\n",
    "bm25_fn_exc_set_t1, lsi_fn_exc_set_t1, lda_fn_exc_set_t1, wv_fn_exc_set_t1 =  aux_functions.get_exclusive_traces(bm25_fn_set_t1, lsi_fn_set_t1, lda_fn_set_t1, wv_fn_set_t1, traces_type='FN', verbose=True)\n",
    "\n",
    "print(\"\\n\\nTOP 3 -------------------------------\")\n",
    "bm25_fn_exc_set_t3, lsi_fn_exc_set_t3, lda_fn_exc_set_t3, wv_fn_exc_set_t3 =  aux_functions.get_exclusive_traces(bm25_fn_set_t3, lsi_fn_set_t3, lda_fn_set_t3, wv_fn_set_t3, traces_type='FN', verbose=True)\n",
    "\n",
    "print(\"\\n\\nTOP 5 -------------------------------\")\n",
    "bm25_fn_exc_set_t5, lsi_fn_exc_set_t5, lda_fn_exc_set_t5, wv_fn_exc_set_t5 =  aux_functions.get_exclusive_traces(bm25_fn_set_t5, lsi_fn_set_t5, lda_fn_set_t5, wv_fn_set_t5, traces_type='FN', verbose=True)"
   ]
  },
  {
   "cell_type": "markdown",
   "metadata": {},
   "source": [
    "##### Detail False Negatives"
   ]
  },
  {
   "cell_type": "code",
   "execution_count": null,
   "metadata": {},
   "outputs": [],
   "source": [
    "display(aux_functions.detail_features_br(lda_fn_exc_set_t1, features, bugreports)[['feat','br','br_summary']])\n",
    "display(aux_functions.detail_features_br(lda_fn_exc_set_t5, features, bugreports)[['feat','br','br_summary']])"
   ]
  },
  {
   "cell_type": "code",
   "execution_count": null,
   "metadata": {},
   "outputs": [],
   "source": [
    "display(aux_functions.highlight_df(exp_vol_intersec_strat_runner.get_lda_model().get_sim_matrix().loc[:,[b for f,b in lda_fn_exc_set_t1]]))\n",
    "display(aux_functions.highlight_df(exp_vol_intersec_strat_runner.get_lda_model().get_sim_matrix().loc[:,[b for f,b in lda_fn_exc_set_t5]]))"
   ]
  },
  {
   "cell_type": "markdown",
   "metadata": {},
   "source": [
    "##### Word Vector FN Details"
   ]
  },
  {
   "cell_type": "code",
   "execution_count": null,
   "metadata": {},
   "outputs": [],
   "source": [
    "display(aux_functions.detail_features_br(wv_fn_exc_set_t3, features, bugreports)[['feat','br','br_summary']])\n",
    "display(aux_functions.detail_features_br(wv_fn_exc_set_t5, features, bugreports)[['feat','br','br_summary']])"
   ]
  },
  {
   "cell_type": "code",
   "execution_count": null,
   "metadata": {},
   "outputs": [],
   "source": [
    "display(aux_functions.highlight_df(exp_vol_intersec_strat_runner.get_word2vec_model().get_sim_matrix().loc[:,[b for f,b in wv_fn_exc_set_t3]]))\n",
    "display(aux_functions.highlight_df(exp_vol_intersec_strat_runner.get_word2vec_model().get_sim_matrix().loc[:,[b for f,b in wv_fn_exc_set_t5]]))"
   ]
  },
  {
   "cell_type": "markdown",
   "metadata": {},
   "source": [
    "##### LSI FN Details"
   ]
  },
  {
   "cell_type": "code",
   "execution_count": null,
   "metadata": {},
   "outputs": [],
   "source": [
    "display(aux_functions.detail_features_br(lsi_fn_exc_set_t3, features, bugreports)[['feat','br','br_summary']])\n",
    "display(aux_functions.detail_features_br(lsi_fn_exc_set_t5, features, bugreports)[['feat','br','br_summary']])"
   ]
  },
  {
   "cell_type": "code",
   "execution_count": null,
   "metadata": {},
   "outputs": [],
   "source": [
    "display(aux_functions.highlight_df(exp_vol_intersec_strat_runner.get_lsi_model().get_sim_matrix().loc[:,[b for f,b in lsi_fn_exc_set_t3]]))"
   ]
  },
  {
   "cell_type": "markdown",
   "metadata": {},
   "source": [
    "### Recovery Effort Index (REI)"
   ]
  },
  {
   "cell_type": "code",
   "execution_count": null,
   "metadata": {},
   "outputs": [],
   "source": [
    "orc_vol_only_precision = 36.56\n",
    "def calculate_rei(row):\n",
    "    if row['precision'] > 0:\n",
    "        return orc_vol_only_precision/row['precision']\n",
    "    return 0"
   ]
  },
  {
   "cell_type": "code",
   "execution_count": null,
   "metadata": {},
   "outputs": [],
   "source": [
    "retrieved_traces_df['rei'] = retrieved_traces_df.apply(lambda row : calculate_rei(row), axis=1)\n",
    "retrieved_traces_df[['top','model','precision','recall','rei']].groupby('model').rei.mean()"
   ]
  },
  {
   "cell_type": "markdown",
   "metadata": {},
   "source": [
    "### Goodness Scale"
   ]
  },
  {
   "cell_type": "code",
   "execution_count": null,
   "metadata": {},
   "outputs": [],
   "source": [
    "aux_functions.calculate_goodness(evals_df_2_1)"
   ]
  },
  {
   "cell_type": "markdown",
   "metadata": {},
   "source": [
    "### Delete Variables"
   ]
  },
  {
   "cell_type": "raw",
   "metadata": {},
   "source": [
    "del lsi_model_2, lda_model_2, bm25_model_2, w2v_model_2\n",
    "del evals_df_2\n",
    "del models_runner_2, evaluator_2"
   ]
  },
  {
   "cell_type": "markdown",
   "metadata": {
    "toc-hr-collapsed": true
   },
   "source": [
    "## Volunteers Only Strategy"
   ]
  },
  {
   "cell_type": "code",
   "execution_count": null,
   "metadata": {},
   "outputs": [],
   "source": [
    "vol_strat_runner = feat_br_strat_runner.Feat_BR_Vol_Strat_Runner()\n",
    "vol_strat_runner.execute()\n",
    "\n",
    "evaluator_4 = vol_strat_runner.get_evaluator() \n",
    "evals_df_4 = vol_strat_runner.get_evals_df()"
   ]
  },
  {
   "cell_type": "markdown",
   "metadata": {},
   "source": [
    "### Results"
   ]
  },
  {
   "cell_type": "code",
   "execution_count": null,
   "metadata": {},
   "outputs": [],
   "source": [
    "evals_df_4.head()"
   ]
  },
  {
   "cell_type": "code",
   "execution_count": null,
   "metadata": {},
   "outputs": [],
   "source": [
    "evals_df_4_1 = evals_df_4[evals_df_4.top != 19.0]\n",
    "aux_functions.highlight_df( evals_df_4_1[['model','perc_precision','perc_recall','perc_fscore','top']].groupby(['model','top']).mean())"
   ]
  },
  {
   "cell_type": "markdown",
   "metadata": {},
   "source": [
    "### Plots"
   ]
  },
  {
   "cell_type": "raw",
   "metadata": {},
   "source": [
    "evaluator_4.plot_evaluations_1(evals_df=evals_df_4_1, title='Volunteers Only Strategy')"
   ]
  },
  {
   "cell_type": "code",
   "execution_count": null,
   "metadata": {},
   "outputs": [],
   "source": [
    "evaluator_4.plot_evaluations_3(evals_df_4_1, title='BR-Feat Traceability Recovery - Volunteers-Only Strategy')"
   ]
  },
  {
   "cell_type": "code",
   "execution_count": null,
   "metadata": {},
   "outputs": [],
   "source": [
    "evaluator_4.plot_evaluations_4(evals_df_4_1)"
   ]
  },
  {
   "cell_type": "code",
   "execution_count": null,
   "metadata": {},
   "outputs": [],
   "source": [
    "evaluator_4.plot_evaluations_5(evals_df_4_1)"
   ]
  },
  {
   "cell_type": "markdown",
   "metadata": {},
   "source": [
    "### Retrieved Traces - Similarity Threshold 0.0"
   ]
  },
  {
   "cell_type": "code",
   "execution_count": null,
   "metadata": {
    "jupyter": {
     "source_hidden": true
    }
   },
   "outputs": [],
   "source": [
    "retrieved_traces_df = aux_functions.get_retrieved_traces_df(oracle=vol_strat_runner.get_oracle(), evals_df = evals_df_4)\n",
    "retrieved_traces_df.head(50)"
   ]
  },
  {
   "cell_type": "markdown",
   "metadata": {},
   "source": [
    "### Oracle True Traces"
   ]
  },
  {
   "cell_type": "code",
   "execution_count": null,
   "metadata": {
    "jupyter": {
     "source_hidden": true
    }
   },
   "outputs": [],
   "source": [
    "oracle_true_traces_vol = aux_functions.get_oracle_true_positives(vol_strat_runner)\n",
    "print('len(oracle_true_traces): {}'.format(len(oracle_true_traces_vol)))"
   ]
  },
  {
   "cell_type": "markdown",
   "metadata": {},
   "source": [
    "### Traces Not Captured by Any Technique"
   ]
  },
  {
   "cell_type": "code",
   "execution_count": null,
   "metadata": {
    "jupyter": {
     "source_hidden": true
    }
   },
   "outputs": [],
   "source": [
    "print('TOP 1 --------------------------')\n",
    "all_captured_traces_t1_vol = aux_functions.get_captured_traces_union(top_value=1, retrieved_traces_df=retrieved_traces_df)\n",
    "not_captured_traces_t1_vol = oracle_true_traces_vol - all_captured_traces_t1_vol\n",
    "print('len(not_captured_traces): {}'.format(len(not_captured_traces_t1_vol)))\n",
    "print('percent not_captured_traces: {}/{} * 100 : {:2.4}%'.format(len(not_captured_traces_t1_vol), len(oracle_true_traces_vol), len(not_captured_traces_t1_vol)/len(oracle_true_traces_vol)*100))\n",
    "\n",
    "print('\\n\\nTOP 3 --------------------------')\n",
    "all_captured_traces_t3_vol = aux_functions.get_captured_traces_union(top_value=3, retrieved_traces_df=retrieved_traces_df)\n",
    "not_captured_traces_t3_vol = oracle_true_traces_vol - all_captured_traces_t3_vol\n",
    "print('len(not_captured_traces): {}'.format(len(not_captured_traces_t3_vol)))\n",
    "print('percent not_captured_traces: {}/{} * 100 : {:2.4}%'.format(len(not_captured_traces_t3_vol), len(oracle_true_traces_vol), len(not_captured_traces_t3_vol)/len(oracle_true_traces_vol)*100))\n",
    "\n",
    "print('\\n\\nTOP 5 --------------------------')\n",
    "all_captured_traces_t5_vol = aux_functions.get_captured_traces_union(top_value=5, retrieved_traces_df=retrieved_traces_df)\n",
    "not_captured_traces_t5_vol = oracle_true_traces_vol - all_captured_traces_t5_vol\n",
    "print('len(not_captured_traces): {}'.format(len(not_captured_traces_t5_vol)))\n",
    "print('percent not_captured_traces: {}/{} * 100 : {:2.4}%'.format(len(not_captured_traces_t5_vol), len(oracle_true_traces_vol), len(not_captured_traces_t5_vol)/len(oracle_true_traces_vol)*100))"
   ]
  },
  {
   "cell_type": "markdown",
   "metadata": {},
   "source": [
    "#### Details of not captured traces"
   ]
  },
  {
   "cell_type": "code",
   "execution_count": null,
   "metadata": {},
   "outputs": [],
   "source": [
    "aux_functions.detail_features_br(not_captured_traces, features=features, bugreports=bugreports)"
   ]
  },
  {
   "cell_type": "markdown",
   "metadata": {},
   "source": [
    "### Traces Captured by Every Technique"
   ]
  },
  {
   "cell_type": "code",
   "execution_count": null,
   "metadata": {
    "jupyter": {
     "source_hidden": true
    }
   },
   "outputs": [],
   "source": [
    "print('TOP 1 -----------------------')\n",
    "traces_captured_by_all_t1_vol = aux_functions.get_captured_traces_intersec(1, retrieved_traces_df=retrieved_traces_df)\n",
    "print('len(traces_captured_by_all): {}'.format(len(traces_captured_by_all_t1_vol)))\n",
    "print('percent traces_captured_by_all: {}/{} * 100 : {:2.4}%'.format(len(traces_captured_by_all_t1_vol), len(oracle_true_traces_vol), len(traces_captured_by_all_t1_vol)/len(oracle_true_traces_vol) *100))\n",
    "\n",
    "print('\\n\\nTOP 3 -----------------------')\n",
    "traces_captured_by_all_t3_vol = aux_functions.get_captured_traces_intersec(3, retrieved_traces_df=retrieved_traces_df)\n",
    "print('len(traces_captured_by_all): {}'.format(len(traces_captured_by_all_t3_vol)))\n",
    "print('percent traces_captured_by_all: {}/{} * 100 : {:2.4}%'.format(len(traces_captured_by_all_t3_vol), len(oracle_true_traces_vol), len(traces_captured_by_all_t3_vol)/len(oracle_true_traces_vol) *100))\n",
    "\n",
    "print('\\n\\nTOP 5 -----------------------')\n",
    "traces_captured_by_all_t5_vol = aux_functions.get_captured_traces_intersec(5, retrieved_traces_df=retrieved_traces_df)\n",
    "print('len(traces_captured_by_all): {}'.format(len(traces_captured_by_all_t5_vol)))\n",
    "print('percent traces_captured_by_all: {}/{} * 100 : {:2.4}%'.format(len(traces_captured_by_all_t5_vol), len(oracle_true_traces_vol), len(traces_captured_by_all_t5_vol)/len(oracle_true_traces_vol) *100))"
   ]
  },
  {
   "cell_type": "markdown",
   "metadata": {},
   "source": [
    "### REI Calculation"
   ]
  },
  {
   "cell_type": "code",
   "execution_count": null,
   "metadata": {},
   "outputs": [],
   "source": [
    "evals_df_4_2 = evals_df_4[(evals_df_4.top == 19.0) & (evals_df_4.sim_threshold == 0.0)]\n",
    "evals_df_4_2.head()"
   ]
  },
  {
   "cell_type": "code",
   "execution_count": null,
   "metadata": {},
   "outputs": [],
   "source": [
    "volunteers_perc_precision = 36.56\n",
    "lsi_rei = volunteers_perc_precision / evals_df_4_2[evals_df_4_2.model == 'lsi'].iloc[0,:].perc_precision\n",
    "lda_rei = volunteers_perc_precision / evals_df_4_2[evals_df_4_2.model == 'lda'].iloc[0,:].perc_precision \n",
    "bm25_rei= volunteers_perc_precision / evals_df_4_2[evals_df_4_2.model == 'bm25'].iloc[0,:].perc_precision \n",
    "wv_rei =  volunteers_perc_precision / evals_df_4_2[evals_df_4_2.model == 'wordvector'].iloc[0,:].perc_precision\n",
    "\n",
    "print('LSI REI: {:2.4}%'.format(lsi_rei))\n",
    "print('LDA REI: {:2.4}%'.format(lda_rei))\n",
    "print('BM25 REI: {:2.4}%'.format(bm25_rei))\n",
    "print('WV REI: {:2.4}%'.format(wv_rei))"
   ]
  },
  {
   "cell_type": "markdown",
   "metadata": {
    "jupyter": {
     "source_hidden": true
    }
   },
   "source": [
    "### Delete Variables"
   ]
  },
  {
   "cell_type": "raw",
   "metadata": {
    "jupyter": {
     "source_hidden": true
    }
   },
   "source": [
    "del lsi_model_4, lda_model_4, bm25_model_4, w2v_model_4\n",
    "del evals_df_4\n",
    "del models_runner_4, evaluator_4"
   ]
  },
  {
   "cell_type": "markdown",
   "metadata": {
    "toc-hr-collapsed": true
   },
   "source": [
    "## Union Strategy"
   ]
  },
  {
   "cell_type": "code",
   "execution_count": null,
   "metadata": {
    "jupyter": {
     "source_hidden": true
    }
   },
   "outputs": [],
   "source": [
    "exp_vol_union_strat_runner = feat_br_strat_runner.Feat_BR_Exp_Vol_Union_Strat_Runner()\n",
    "exp_vol_union_strat_runner.execute()\n",
    "\n",
    "evaluator_1 = exp_vol_union_strat_runner.get_evaluator() \n",
    "evals_df_1 = exp_vol_union_strat_runner.get_evals_df()"
   ]
  },
  {
   "cell_type": "markdown",
   "metadata": {
    "jupyter": {
     "source_hidden": true
    }
   },
   "source": [
    "### Results"
   ]
  },
  {
   "cell_type": "code",
   "execution_count": null,
   "metadata": {
    "jupyter": {
     "source_hidden": true
    }
   },
   "outputs": [],
   "source": [
    "evals_df_1.head()"
   ]
  },
  {
   "cell_type": "markdown",
   "metadata": {
    "jupyter": {
     "source_hidden": true
    }
   },
   "source": [
    "### Plots"
   ]
  },
  {
   "cell_type": "raw",
   "metadata": {
    "jupyter": {
     "source_hidden": true
    }
   },
   "source": [
    "evaluator_1.plot_evaluations_1(evals_df=evals_df_1, title='Exp-Vol Union Strategy')"
   ]
  },
  {
   "cell_type": "code",
   "execution_count": null,
   "metadata": {
    "jupyter": {
     "source_hidden": true
    }
   },
   "outputs": [],
   "source": [
    "evaluator_1.plot_evaluations_3(evals_df_1, title='BR-Feat Traceability Recovery - Exp-Vol Union Strategy')"
   ]
  },
  {
   "cell_type": "code",
   "execution_count": null,
   "metadata": {
    "jupyter": {
     "source_hidden": true
    }
   },
   "outputs": [],
   "source": [
    "evaluator_1.plot_evaluations_4(evals_df_1)"
   ]
  },
  {
   "cell_type": "code",
   "execution_count": null,
   "metadata": {
    "jupyter": {
     "source_hidden": true
    }
   },
   "outputs": [],
   "source": [
    "evaluator_1.plot_evaluations_5(evals_df_1)"
   ]
  },
  {
   "cell_type": "markdown",
   "metadata": {
    "jupyter": {
     "source_hidden": true
    }
   },
   "source": [
    "### Delete Variables"
   ]
  },
  {
   "cell_type": "raw",
   "metadata": {
    "jupyter": {
     "source_hidden": true
    }
   },
   "source": [
    "del lsi_model_1, lda_model_1, bm25_model_1, w2v_model_1\n",
    "del evals_df_1\n",
    "del models_runner_1, evaluator_1"
   ]
  },
  {
   "cell_type": "markdown",
   "metadata": {
    "toc-hr-collapsed": true
   },
   "source": [
    "## Expert Only Strategy"
   ]
  },
  {
   "cell_type": "code",
   "execution_count": null,
   "metadata": {},
   "outputs": [],
   "source": [
    "exp_strat_runner = feat_br_strat_runner.Feat_BR_Exp_Strat_Runner()\n",
    "exp_strat_runner.execute()\n",
    "\n",
    "evaluator_3 = exp_strat_runner.get_evaluator() \n",
    "evals_df_3 = exp_strat_runner.get_evals_df()"
   ]
  },
  {
   "cell_type": "markdown",
   "metadata": {},
   "source": [
    "### Results"
   ]
  },
  {
   "cell_type": "code",
   "execution_count": null,
   "metadata": {},
   "outputs": [],
   "source": [
    "evals_df_3.head()"
   ]
  },
  {
   "cell_type": "code",
   "execution_count": null,
   "metadata": {},
   "outputs": [],
   "source": [
    "evals_df_3_1 = evals_df_3[evals_df_3.top != 19.0]\n",
    "aux_functions.highlight_df( evals_df_3_1[['model','perc_precision','perc_recall','perc_fscore','top']].groupby(['model','top']).mean())"
   ]
  },
  {
   "cell_type": "markdown",
   "metadata": {},
   "source": [
    "### Plots"
   ]
  },
  {
   "cell_type": "raw",
   "metadata": {},
   "source": [
    "evaluator_3.plot_evaluations_1(evals_df=evals_df_3_1, title='Expert Only Strategy')"
   ]
  },
  {
   "cell_type": "code",
   "execution_count": null,
   "metadata": {},
   "outputs": [],
   "source": [
    "evaluator_3.plot_evaluations_3(evals_df_3_1, title='BR-Feat Traceability Recovery - Expert-Only Strategy')"
   ]
  },
  {
   "cell_type": "code",
   "execution_count": null,
   "metadata": {},
   "outputs": [],
   "source": [
    "evaluator_3.plot_evaluations_4(evals_df_3_1)"
   ]
  },
  {
   "cell_type": "code",
   "execution_count": null,
   "metadata": {},
   "outputs": [],
   "source": [
    "evaluator_3.plot_evaluations_5(evals_df_3_1)"
   ]
  },
  {
   "cell_type": "markdown",
   "metadata": {},
   "source": [
    "### Retrieved Traces - Similarity Threshold 0.0"
   ]
  },
  {
   "cell_type": "code",
   "execution_count": null,
   "metadata": {
    "jupyter": {
     "source_hidden": true
    }
   },
   "outputs": [],
   "source": [
    "retrieved_traces_df = aux_functions.get_retrieved_traces_df(oracle=exp_strat_runner.get_oracle(), evals_df = evals_df_3)\n",
    "retrieved_traces_df.head(50)"
   ]
  },
  {
   "cell_type": "markdown",
   "metadata": {},
   "source": [
    "### Oracle True Traces"
   ]
  },
  {
   "cell_type": "code",
   "execution_count": null,
   "metadata": {
    "jupyter": {
     "source_hidden": true
    }
   },
   "outputs": [],
   "source": [
    "oracle_true_traces = aux_functions.get_oracle_true_positives(exp_strat_runner)\n",
    "print('len(oracle_true_traces): {}'.format(len(oracle_true_traces)))"
   ]
  },
  {
   "cell_type": "markdown",
   "metadata": {},
   "source": [
    "### Traces Not Captured by Any Technique"
   ]
  },
  {
   "cell_type": "code",
   "execution_count": null,
   "metadata": {
    "jupyter": {
     "source_hidden": true
    }
   },
   "outputs": [],
   "source": [
    "print('TOP 1 --------------------------')\n",
    "all_captured_traces = aux_functions.get_captured_traces_union(top_value=1, retrieved_traces_df=retrieved_traces_df)\n",
    "not_captured_traces = oracle_true_traces - all_captured_traces\n",
    "print('len(not_captured_traces): {}'.format(len(not_captured_traces)))\n",
    "print('percent not_captured_traces: {}/{} * 100 : {:2.4}%'.format(len(not_captured_traces), len(oracle_true_traces), len(not_captured_traces)/len(oracle_true_traces)*100))\n",
    "\n",
    "print('\\n\\nTOP 3 --------------------------')\n",
    "all_captured_traces = aux_functions.get_captured_traces_union(top_value=3, retrieved_traces_df=retrieved_traces_df)\n",
    "not_captured_traces = oracle_true_traces - all_captured_traces\n",
    "print('len(not_captured_traces): {}'.format(len(not_captured_traces)))\n",
    "print('percent not_captured_traces: {}/{} * 100 : {:2.4}%'.format(len(not_captured_traces), len(oracle_true_traces), len(not_captured_traces)/len(oracle_true_traces)*100))\n",
    "\n",
    "print('\\n\\nTOP 5 --------------------------')\n",
    "#from modules.utils import firefox_dataset_p2 as fd\n",
    "all_captured_traces = aux_functions.get_captured_traces_union(top_value=5, retrieved_traces_df=retrieved_traces_df)\n",
    "not_captured_traces = oracle_true_traces - all_captured_traces\n",
    "#aux_functions.detail_features_br(not_captured_traces, features=fd.Datasets.read_features_df(), bugreports=fd.Datasets.read_selected_bugreports_df())\n",
    "print('len(not_captured_traces): {}'.format(len(not_captured_traces)))\n",
    "print('percent not_captured_traces: {}/{} * 100 : {:2.4}%'.format(len(not_captured_traces), len(oracle_true_traces), len(not_captured_traces)/len(oracle_true_traces)*100))"
   ]
  },
  {
   "cell_type": "markdown",
   "metadata": {},
   "source": [
    "### Traces Captured by Every Technique"
   ]
  },
  {
   "cell_type": "code",
   "execution_count": null,
   "metadata": {
    "jupyter": {
     "source_hidden": true
    }
   },
   "outputs": [],
   "source": [
    "print('TOP 1 -----------------------')\n",
    "traces_captured_by_all = aux_functions.get_captured_traces_intersec(1, retrieved_traces_df=retrieved_traces_df)\n",
    "print('len(traces_captured_by_all): {}'.format(len(traces_captured_by_all)))\n",
    "print('percent traces_captured_by_all: {}/{} * 100 : {:2.4}%'.format(len(traces_captured_by_all), len(oracle_true_traces), len(traces_captured_by_all)/len(oracle_true_traces) *100))\n",
    "\n",
    "print('\\n\\nTOP 3 -----------------------')\n",
    "traces_captured_by_all = aux_functions.get_captured_traces_intersec(3, retrieved_traces_df=retrieved_traces_df)\n",
    "print('len(traces_captured_by_all): {}'.format(len(traces_captured_by_all)))\n",
    "print('percent traces_captured_by_all: {}/{} * 100 : {:2.4}%'.format(len(traces_captured_by_all), len(oracle_true_traces), len(traces_captured_by_all)/len(oracle_true_traces) *100))\n",
    "\n",
    "print('\\n\\nTOP 5 -----------------------')\n",
    "traces_captured_by_all = aux_functions.get_captured_traces_intersec(5, retrieved_traces_df=retrieved_traces_df)\n",
    "print('len(traces_captured_by_all): {}'.format(len(traces_captured_by_all)))\n",
    "print('percent traces_captured_by_all: {}/{} * 100 : {:2.4}%'.format(len(traces_captured_by_all), len(oracle_true_traces), len(traces_captured_by_all)/len(oracle_true_traces) *100))"
   ]
  },
  {
   "cell_type": "markdown",
   "metadata": {},
   "source": [
    "### Delete Variables"
   ]
  },
  {
   "cell_type": "raw",
   "metadata": {},
   "source": [
    "del lsi_model_3, lda_model_3, bm25_model_3, w2v_model_3\n",
    "del evals_df_3\n",
    "del models_runner_3, evaluator_3"
   ]
  }
 ],
 "metadata": {
  "kernelspec": {
   "display_name": "Python 3",
   "language": "python",
   "name": "python3"
  },
  "language_info": {
   "codemirror_mode": {
    "name": "ipython",
    "version": 3
   },
   "file_extension": ".py",
   "mimetype": "text/x-python",
   "name": "python",
   "nbconvert_exporter": "python",
   "pygments_lexer": "ipython3",
   "version": "3.7.3"
  },
  "toc-autonumbering": true,
  "toc-showcode": false,
  "toc-showmarkdowntxt": false,
  "toc-showtags": false
 },
 "nbformat": 4,
 "nbformat_minor": 2
}

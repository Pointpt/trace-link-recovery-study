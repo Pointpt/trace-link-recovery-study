{
 "cells": [
  {
   "cell_type": "markdown",
   "metadata": {},
   "source": [
    "# Introduction\n",
    "\n",
    "Notebook to aggregate the running of models in the context of traceability between **features** and **bug reports**."
   ]
  },
  {
   "cell_type": "markdown",
   "metadata": {
    "toc-hr-collapsed": false
   },
   "source": [
    "# Load Libraries and Datasets"
   ]
  },
  {
   "cell_type": "code",
   "execution_count": 1,
   "metadata": {},
   "outputs": [],
   "source": [
    "from mod_finder_util import mod_finder_util\n",
    "mod_finder_util.add_modules_origin_search_path()\n",
    "\n",
    "from modules.models_runner import feat_br_strat_runner\n",
    "\n",
    "import warnings; warnings.simplefilter('ignore')"
   ]
  },
  {
   "cell_type": "markdown",
   "metadata": {},
   "source": [
    "# Run All Models"
   ]
  },
  {
   "cell_type": "markdown",
   "metadata": {
    "toc-hr-collapsed": true
   },
   "source": [
    "## Volunteers Only Strategy"
   ]
  },
  {
   "cell_type": "code",
   "execution_count": 2,
   "metadata": {},
   "outputs": [
    {
     "name": "stdout",
     "output_type": "stream",
     "text": [
      "Feat_BR Volunteers Matrix shape: (91, 19)\n",
      "Features.shape: (19, 8)\n",
      "SelectedBugReports.shape: (91, 18)\n",
      "Running LSI model -----\n",
      "Running LDA model -----\n",
      "Running BM25 model -----\n",
      "Running W2V model -----\n",
      "Evaluating LSI Model ----- \n",
      "Evaluating LDA Model ----- \n",
      "Evaluating BM25 Model ----- \n",
      "Evaluating WORDVECTOR Model ----- \n"
     ]
    }
   ],
   "source": [
    "vol_strat_runner = feat_br_strat_runner.Feat_BR_Vol_Strat_Runner()\n",
    "vol_strat_runner.execute()\n",
    "\n",
    "evaluator_4 = vol_strat_runner.get_evaluator() \n",
    "evals_df_4 = vol_strat_runner.get_evals_df()"
   ]
  },
  {
   "cell_type": "markdown",
   "metadata": {},
   "source": [
    "### Results"
   ]
  },
  {
   "cell_type": "code",
   "execution_count": 3,
   "metadata": {},
   "outputs": [
    {
     "data": {
      "text/html": [
       "<div>\n",
       "<style scoped>\n",
       "    .dataframe tbody tr th:only-of-type {\n",
       "        vertical-align: middle;\n",
       "    }\n",
       "\n",
       "    .dataframe tbody tr th {\n",
       "        vertical-align: top;\n",
       "    }\n",
       "\n",
       "    .dataframe thead th {\n",
       "        text-align: right;\n",
       "    }\n",
       "</style>\n",
       "<table border=\"1\" class=\"dataframe\">\n",
       "  <thead>\n",
       "    <tr style=\"text-align: right;\">\n",
       "      <th></th>\n",
       "      <th>model</th>\n",
       "      <th>ref_name</th>\n",
       "      <th>perc_precision</th>\n",
       "      <th>perc_recall</th>\n",
       "      <th>perc_fscore</th>\n",
       "      <th>eval_df</th>\n",
       "      <th>sim_threshold</th>\n",
       "      <th>top</th>\n",
       "      <th>trace_links_df</th>\n",
       "    </tr>\n",
       "  </thead>\n",
       "  <tbody>\n",
       "    <tr>\n",
       "      <th>0</th>\n",
       "      <td>lsi</td>\n",
       "      <td>top_1_cosine_0.0</td>\n",
       "      <td>28.57</td>\n",
       "      <td>26.18</td>\n",
       "      <td>26.62</td>\n",
       "      <td>precision  recall    fscore\n",
       "Bug_Nu...</td>\n",
       "      <td>0.0</td>\n",
       "      <td>1.0</td>\n",
       "      <td>Bug_Number               1248267  1248268  125...</td>\n",
       "    </tr>\n",
       "    <tr>\n",
       "      <th>1</th>\n",
       "      <td>lsi</td>\n",
       "      <td>top_3_cosine_0.0</td>\n",
       "      <td>18.32</td>\n",
       "      <td>47.31</td>\n",
       "      <td>25.23</td>\n",
       "      <td>precision  recall    fscore\n",
       "Bug_Nu...</td>\n",
       "      <td>0.0</td>\n",
       "      <td>3.0</td>\n",
       "      <td>Bug_Number               1248267  1248268  125...</td>\n",
       "    </tr>\n",
       "    <tr>\n",
       "      <th>2</th>\n",
       "      <td>lsi</td>\n",
       "      <td>top_5_cosine_0.0</td>\n",
       "      <td>12.53</td>\n",
       "      <td>52.06</td>\n",
       "      <td>19.24</td>\n",
       "      <td>precision  recall    fscore\n",
       "Bug_Nu...</td>\n",
       "      <td>0.0</td>\n",
       "      <td>5.0</td>\n",
       "      <td>Bug_Number               1248267  1248268  125...</td>\n",
       "    </tr>\n",
       "    <tr>\n",
       "      <th>3</th>\n",
       "      <td>lsi</td>\n",
       "      <td>top_10_cosine_0.0</td>\n",
       "      <td>7.91</td>\n",
       "      <td>60.94</td>\n",
       "      <td>13.32</td>\n",
       "      <td>precision    recall    fscore\n",
       "Bug_...</td>\n",
       "      <td>0.0</td>\n",
       "      <td>10.0</td>\n",
       "      <td>Bug_Number               1248267  1248268  125...</td>\n",
       "    </tr>\n",
       "    <tr>\n",
       "      <th>4</th>\n",
       "      <td>lsi</td>\n",
       "      <td>top_12_cosine_0.0</td>\n",
       "      <td>7.05</td>\n",
       "      <td>64.28</td>\n",
       "      <td>12.14</td>\n",
       "      <td>precision    recall    fscore\n",
       "Bug_...</td>\n",
       "      <td>0.0</td>\n",
       "      <td>12.0</td>\n",
       "      <td>Bug_Number               1248267  1248268  125...</td>\n",
       "    </tr>\n",
       "  </tbody>\n",
       "</table>\n",
       "</div>"
      ],
      "text/plain": [
       "  model           ref_name  perc_precision  perc_recall  perc_fscore  \\\n",
       "0   lsi   top_1_cosine_0.0           28.57        26.18        26.62   \n",
       "1   lsi   top_3_cosine_0.0           18.32        47.31        25.23   \n",
       "2   lsi   top_5_cosine_0.0           12.53        52.06        19.24   \n",
       "3   lsi  top_10_cosine_0.0            7.91        60.94        13.32   \n",
       "4   lsi  top_12_cosine_0.0            7.05        64.28        12.14   \n",
       "\n",
       "                                             eval_df  sim_threshold   top  \\\n",
       "0              precision  recall    fscore\n",
       "Bug_Nu...            0.0   1.0   \n",
       "1              precision  recall    fscore\n",
       "Bug_Nu...            0.0   3.0   \n",
       "2              precision  recall    fscore\n",
       "Bug_Nu...            0.0   5.0   \n",
       "3              precision    recall    fscore\n",
       "Bug_...            0.0  10.0   \n",
       "4              precision    recall    fscore\n",
       "Bug_...            0.0  12.0   \n",
       "\n",
       "                                      trace_links_df  \n",
       "0  Bug_Number               1248267  1248268  125...  \n",
       "1  Bug_Number               1248267  1248268  125...  \n",
       "2  Bug_Number               1248267  1248268  125...  \n",
       "3  Bug_Number               1248267  1248268  125...  \n",
       "4  Bug_Number               1248267  1248268  125...  "
      ]
     },
     "execution_count": 3,
     "metadata": {},
     "output_type": "execute_result"
    }
   ],
   "source": [
    "evals_df_4.head()"
   ]
  },
  {
   "cell_type": "code",
   "execution_count": 4,
   "metadata": {},
   "outputs": [
    {
     "data": {
      "text/html": [
       "<style  type=\"text/css\" >\n",
       "    #T_9c2082da_6d47_11e9_9e5b_1b335b71c32crow0_col0 {\n",
       "            background-color:  #008000;\n",
       "            color:  #f1f1f1;\n",
       "        }    #T_9c2082da_6d47_11e9_9e5b_1b335b71c32crow0_col1 {\n",
       "            background-color:  #88cb88;\n",
       "            color:  #000000;\n",
       "        }    #T_9c2082da_6d47_11e9_9e5b_1b335b71c32crow0_col2 {\n",
       "            background-color:  #008000;\n",
       "            color:  #f1f1f1;\n",
       "        }    #T_9c2082da_6d47_11e9_9e5b_1b335b71c32crow1_col0 {\n",
       "            background-color:  #6dbc6d;\n",
       "            color:  #000000;\n",
       "        }    #T_9c2082da_6d47_11e9_9e5b_1b335b71c32crow1_col1 {\n",
       "            background-color:  #4dab4d;\n",
       "            color:  #000000;\n",
       "        }    #T_9c2082da_6d47_11e9_9e5b_1b335b71c32crow1_col2 {\n",
       "            background-color:  #289628;\n",
       "            color:  #000000;\n",
       "        }    #T_9c2082da_6d47_11e9_9e5b_1b335b71c32crow2_col0 {\n",
       "            background-color:  #98d498;\n",
       "            color:  #000000;\n",
       "        }    #T_9c2082da_6d47_11e9_9e5b_1b335b71c32crow2_col1 {\n",
       "            background-color:  #3fa33f;\n",
       "            color:  #000000;\n",
       "        }    #T_9c2082da_6d47_11e9_9e5b_1b335b71c32crow2_col2 {\n",
       "            background-color:  #57b057;\n",
       "            color:  #000000;\n",
       "        }    #T_9c2082da_6d47_11e9_9e5b_1b335b71c32crow3_col0 {\n",
       "            background-color:  #bce8bc;\n",
       "            color:  #000000;\n",
       "        }    #T_9c2082da_6d47_11e9_9e5b_1b335b71c32crow3_col1 {\n",
       "            background-color:  #249424;\n",
       "            color:  #000000;\n",
       "        }    #T_9c2082da_6d47_11e9_9e5b_1b335b71c32crow3_col2 {\n",
       "            background-color:  #89cc89;\n",
       "            color:  #000000;\n",
       "        }    #T_9c2082da_6d47_11e9_9e5b_1b335b71c32crow4_col0 {\n",
       "            background-color:  #c2ecc2;\n",
       "            color:  #000000;\n",
       "        }    #T_9c2082da_6d47_11e9_9e5b_1b335b71c32crow4_col1 {\n",
       "            background-color:  #158b15;\n",
       "            color:  #000000;\n",
       "        }    #T_9c2082da_6d47_11e9_9e5b_1b335b71c32crow4_col2 {\n",
       "            background-color:  #91d091;\n",
       "            color:  #000000;\n",
       "        }    #T_9c2082da_6d47_11e9_9e5b_1b335b71c32crow5_col0 {\n",
       "            background-color:  #c6eec6;\n",
       "            color:  #000000;\n",
       "        }    #T_9c2082da_6d47_11e9_9e5b_1b335b71c32crow5_col1 {\n",
       "            background-color:  #008000;\n",
       "            color:  #f1f1f1;\n",
       "        }    #T_9c2082da_6d47_11e9_9e5b_1b335b71c32crow5_col2 {\n",
       "            background-color:  #96d396;\n",
       "            color:  #000000;\n",
       "        }    #T_9c2082da_6d47_11e9_9e5b_1b335b71c32crow6_col0 {\n",
       "            background-color:  #e5ffe5;\n",
       "            color:  #000000;\n",
       "        }    #T_9c2082da_6d47_11e9_9e5b_1b335b71c32crow6_col1 {\n",
       "            background-color:  #e5ffe5;\n",
       "            color:  #000000;\n",
       "        }    #T_9c2082da_6d47_11e9_9e5b_1b335b71c32crow6_col2 {\n",
       "            background-color:  #e5ffe5;\n",
       "            color:  #000000;\n",
       "        }    #T_9c2082da_6d47_11e9_9e5b_1b335b71c32crow7_col0 {\n",
       "            background-color:  #96d396;\n",
       "            color:  #000000;\n",
       "        }    #T_9c2082da_6d47_11e9_9e5b_1b335b71c32crow7_col1 {\n",
       "            background-color:  #7fc67f;\n",
       "            color:  #000000;\n",
       "        }    #T_9c2082da_6d47_11e9_9e5b_1b335b71c32crow7_col2 {\n",
       "            background-color:  #67b967;\n",
       "            color:  #000000;\n",
       "        }    #T_9c2082da_6d47_11e9_9e5b_1b335b71c32crow8_col0 {\n",
       "            background-color:  #a8dda8;\n",
       "            color:  #000000;\n",
       "        }    #T_9c2082da_6d47_11e9_9e5b_1b335b71c32crow8_col1 {\n",
       "            background-color:  #57b057;\n",
       "            color:  #000000;\n",
       "        }    #T_9c2082da_6d47_11e9_9e5b_1b335b71c32crow8_col2 {\n",
       "            background-color:  #70be70;\n",
       "            color:  #000000;\n",
       "        }    #T_9c2082da_6d47_11e9_9e5b_1b335b71c32crow9_col0 {\n",
       "            background-color:  #bfeabf;\n",
       "            color:  #000000;\n",
       "        }    #T_9c2082da_6d47_11e9_9e5b_1b335b71c32crow9_col1 {\n",
       "            background-color:  #2f9a2f;\n",
       "            color:  #000000;\n",
       "        }    #T_9c2082da_6d47_11e9_9e5b_1b335b71c32crow9_col2 {\n",
       "            background-color:  #8ecf8e;\n",
       "            color:  #000000;\n",
       "        }    #T_9c2082da_6d47_11e9_9e5b_1b335b71c32crow10_col0 {\n",
       "            background-color:  #c5edc5;\n",
       "            color:  #000000;\n",
       "        }    #T_9c2082da_6d47_11e9_9e5b_1b335b71c32crow10_col1 {\n",
       "            background-color:  #279527;\n",
       "            color:  #000000;\n",
       "        }    #T_9c2082da_6d47_11e9_9e5b_1b335b71c32crow10_col2 {\n",
       "            background-color:  #97d497;\n",
       "            color:  #000000;\n",
       "        }    #T_9c2082da_6d47_11e9_9e5b_1b335b71c32crow11_col0 {\n",
       "            background-color:  #c9efc9;\n",
       "            color:  #000000;\n",
       "        }    #T_9c2082da_6d47_11e9_9e5b_1b335b71c32crow11_col1 {\n",
       "            background-color:  #058205;\n",
       "            color:  #f1f1f1;\n",
       "        }    #T_9c2082da_6d47_11e9_9e5b_1b335b71c32crow11_col2 {\n",
       "            background-color:  #9bd69b;\n",
       "            color:  #000000;\n",
       "        }    #T_9c2082da_6d47_11e9_9e5b_1b335b71c32crow12_col0 {\n",
       "            background-color:  #118911;\n",
       "            color:  #f1f1f1;\n",
       "        }    #T_9c2082da_6d47_11e9_9e5b_1b335b71c32crow12_col1 {\n",
       "            background-color:  #8fcf8f;\n",
       "            color:  #000000;\n",
       "        }    #T_9c2082da_6d47_11e9_9e5b_1b335b71c32crow12_col2 {\n",
       "            background-color:  #128a12;\n",
       "            color:  #f1f1f1;\n",
       "        }    #T_9c2082da_6d47_11e9_9e5b_1b335b71c32crow13_col0 {\n",
       "            background-color:  #64b764;\n",
       "            color:  #000000;\n",
       "        }    #T_9c2082da_6d47_11e9_9e5b_1b335b71c32crow13_col1 {\n",
       "            background-color:  #46a746;\n",
       "            color:  #000000;\n",
       "        }    #T_9c2082da_6d47_11e9_9e5b_1b335b71c32crow13_col2 {\n",
       "            background-color:  #1e901e;\n",
       "            color:  #000000;\n",
       "        }    #T_9c2082da_6d47_11e9_9e5b_1b335b71c32crow14_col0 {\n",
       "            background-color:  #93d193;\n",
       "            color:  #000000;\n",
       "        }    #T_9c2082da_6d47_11e9_9e5b_1b335b71c32crow14_col1 {\n",
       "            background-color:  #369e36;\n",
       "            color:  #000000;\n",
       "        }    #T_9c2082da_6d47_11e9_9e5b_1b335b71c32crow14_col2 {\n",
       "            background-color:  #50ac50;\n",
       "            color:  #000000;\n",
       "        }    #T_9c2082da_6d47_11e9_9e5b_1b335b71c32crow15_col0 {\n",
       "            background-color:  #b8e6b8;\n",
       "            color:  #000000;\n",
       "        }    #T_9c2082da_6d47_11e9_9e5b_1b335b71c32crow15_col1 {\n",
       "            background-color:  #178c17;\n",
       "            color:  #000000;\n",
       "        }    #T_9c2082da_6d47_11e9_9e5b_1b335b71c32crow15_col2 {\n",
       "            background-color:  #82c882;\n",
       "            color:  #000000;\n",
       "        }    #T_9c2082da_6d47_11e9_9e5b_1b335b71c32crow16_col0 {\n",
       "            background-color:  #bfeabf;\n",
       "            color:  #000000;\n",
       "        }    #T_9c2082da_6d47_11e9_9e5b_1b335b71c32crow16_col1 {\n",
       "            background-color:  #0c860c;\n",
       "            color:  #f1f1f1;\n",
       "        }    #T_9c2082da_6d47_11e9_9e5b_1b335b71c32crow16_col2 {\n",
       "            background-color:  #8bcd8b;\n",
       "            color:  #000000;\n",
       "        }    #T_9c2082da_6d47_11e9_9e5b_1b335b71c32crow17_col0 {\n",
       "            background-color:  #c8efc8;\n",
       "            color:  #000000;\n",
       "        }    #T_9c2082da_6d47_11e9_9e5b_1b335b71c32crow17_col1 {\n",
       "            background-color:  #058205;\n",
       "            color:  #f1f1f1;\n",
       "        }    #T_9c2082da_6d47_11e9_9e5b_1b335b71c32crow17_col2 {\n",
       "            background-color:  #9ad59a;\n",
       "            color:  #000000;\n",
       "        }    #T_9c2082da_6d47_11e9_9e5b_1b335b71c32crow18_col0 {\n",
       "            background-color:  #6abb6a;\n",
       "            color:  #000000;\n",
       "        }    #T_9c2082da_6d47_11e9_9e5b_1b335b71c32crow18_col1 {\n",
       "            background-color:  #b2e3b2;\n",
       "            color:  #000000;\n",
       "        }    #T_9c2082da_6d47_11e9_9e5b_1b335b71c32crow18_col2 {\n",
       "            background-color:  #68ba68;\n",
       "            color:  #000000;\n",
       "        }    #T_9c2082da_6d47_11e9_9e5b_1b335b71c32crow19_col0 {\n",
       "            background-color:  #8dce8d;\n",
       "            color:  #000000;\n",
       "        }    #T_9c2082da_6d47_11e9_9e5b_1b335b71c32crow19_col1 {\n",
       "            background-color:  #73c073;\n",
       "            color:  #000000;\n",
       "        }    #T_9c2082da_6d47_11e9_9e5b_1b335b71c32crow19_col2 {\n",
       "            background-color:  #58b158;\n",
       "            color:  #000000;\n",
       "        }    #T_9c2082da_6d47_11e9_9e5b_1b335b71c32crow20_col0 {\n",
       "            background-color:  #a6dca6;\n",
       "            color:  #000000;\n",
       "        }    #T_9c2082da_6d47_11e9_9e5b_1b335b71c32crow20_col1 {\n",
       "            background-color:  #59b159;\n",
       "            color:  #000000;\n",
       "        }    #T_9c2082da_6d47_11e9_9e5b_1b335b71c32crow20_col2 {\n",
       "            background-color:  #6fbd6f;\n",
       "            color:  #000000;\n",
       "        }    #T_9c2082da_6d47_11e9_9e5b_1b335b71c32crow21_col0 {\n",
       "            background-color:  #c5edc5;\n",
       "            color:  #000000;\n",
       "        }    #T_9c2082da_6d47_11e9_9e5b_1b335b71c32crow21_col1 {\n",
       "            background-color:  #48a848;\n",
       "            color:  #000000;\n",
       "        }    #T_9c2082da_6d47_11e9_9e5b_1b335b71c32crow21_col2 {\n",
       "            background-color:  #99d599;\n",
       "            color:  #000000;\n",
       "        }    #T_9c2082da_6d47_11e9_9e5b_1b335b71c32crow22_col0 {\n",
       "            background-color:  #cdf2cd;\n",
       "            color:  #000000;\n",
       "        }    #T_9c2082da_6d47_11e9_9e5b_1b335b71c32crow22_col1 {\n",
       "            background-color:  #47a747;\n",
       "            color:  #000000;\n",
       "        }    #T_9c2082da_6d47_11e9_9e5b_1b335b71c32crow22_col2 {\n",
       "            background-color:  #a5dba5;\n",
       "            color:  #000000;\n",
       "        }    #T_9c2082da_6d47_11e9_9e5b_1b335b71c32crow23_col0 {\n",
       "            background-color:  #cbf1cb;\n",
       "            color:  #000000;\n",
       "        }    #T_9c2082da_6d47_11e9_9e5b_1b335b71c32crow23_col1 {\n",
       "            background-color:  #1a8e1a;\n",
       "            color:  #000000;\n",
       "        }    #T_9c2082da_6d47_11e9_9e5b_1b335b71c32crow23_col2 {\n",
       "            background-color:  #a0d9a0;\n",
       "            color:  #000000;\n",
       "        }</style><table id=\"T_9c2082da_6d47_11e9_9e5b_1b335b71c32c\" ><thead>    <tr>        <th class=\"blank\" ></th>        <th class=\"blank level0\" ></th>        <th class=\"col_heading level0 col0\" >perc_precision</th>        <th class=\"col_heading level0 col1\" >perc_recall</th>        <th class=\"col_heading level0 col2\" >perc_fscore</th>    </tr>    <tr>        <th class=\"index_name level0\" >model</th>        <th class=\"index_name level1\" >top</th>        <th class=\"blank\" ></th>        <th class=\"blank\" ></th>        <th class=\"blank\" ></th>    </tr></thead><tbody>\n",
       "                <tr>\n",
       "                        <th id=\"T_9c2082da_6d47_11e9_9e5b_1b335b71c32clevel0_row0\" class=\"row_heading level0 row0\" rowspan=6>bm25</th>\n",
       "                        <th id=\"T_9c2082da_6d47_11e9_9e5b_1b335b71c32clevel1_row0\" class=\"row_heading level1 row0\" >1.0</th>\n",
       "                        <td id=\"T_9c2082da_6d47_11e9_9e5b_1b335b71c32crow0_col0\" class=\"data row0 col0\" >30.77</td>\n",
       "                        <td id=\"T_9c2082da_6d47_11e9_9e5b_1b335b71c32crow0_col1\" class=\"data row0 col1\" >28.38</td>\n",
       "                        <td id=\"T_9c2082da_6d47_11e9_9e5b_1b335b71c32crow0_col2\" class=\"data row0 col2\" >28.82</td>\n",
       "            </tr>\n",
       "            <tr>\n",
       "                                <th id=\"T_9c2082da_6d47_11e9_9e5b_1b335b71c32clevel1_row1\" class=\"row_heading level1 row1\" >3.0</th>\n",
       "                        <td id=\"T_9c2082da_6d47_11e9_9e5b_1b335b71c32crow1_col0\" class=\"data row1 col0\" >17.22</td>\n",
       "                        <td id=\"T_9c2082da_6d47_11e9_9e5b_1b335b71c32crow1_col1\" class=\"data row1 col1\" >45.22</td>\n",
       "                        <td id=\"T_9c2082da_6d47_11e9_9e5b_1b335b71c32crow1_col2\" class=\"data row1 col2\" >24.03</td>\n",
       "            </tr>\n",
       "            <tr>\n",
       "                                <th id=\"T_9c2082da_6d47_11e9_9e5b_1b335b71c32clevel1_row2\" class=\"row_heading level1 row2\" >5.0</th>\n",
       "                        <td id=\"T_9c2082da_6d47_11e9_9e5b_1b335b71c32crow2_col0\" class=\"data row2 col0\" >11.87</td>\n",
       "                        <td id=\"T_9c2082da_6d47_11e9_9e5b_1b335b71c32crow2_col1\" class=\"data row2 col1\" >49.32</td>\n",
       "                        <td id=\"T_9c2082da_6d47_11e9_9e5b_1b335b71c32crow2_col2\" class=\"data row2 col2\" >18.34</td>\n",
       "            </tr>\n",
       "            <tr>\n",
       "                                <th id=\"T_9c2082da_6d47_11e9_9e5b_1b335b71c32clevel1_row3\" class=\"row_heading level1 row3\" >10.0</th>\n",
       "                        <td id=\"T_9c2082da_6d47_11e9_9e5b_1b335b71c32crow3_col0\" class=\"data row3 col0\" >7.36</td>\n",
       "                        <td id=\"T_9c2082da_6d47_11e9_9e5b_1b335b71c32crow3_col1\" class=\"data row3 col1\" >57.15</td>\n",
       "                        <td id=\"T_9c2082da_6d47_11e9_9e5b_1b335b71c32crow3_col2\" class=\"data row3 col2\" >12.49</td>\n",
       "            </tr>\n",
       "            <tr>\n",
       "                                <th id=\"T_9c2082da_6d47_11e9_9e5b_1b335b71c32clevel1_row4\" class=\"row_heading level1 row4\" >12.0</th>\n",
       "                        <td id=\"T_9c2082da_6d47_11e9_9e5b_1b335b71c32crow4_col0\" class=\"data row4 col0\" >6.59</td>\n",
       "                        <td id=\"T_9c2082da_6d47_11e9_9e5b_1b335b71c32crow4_col1\" class=\"data row4 col1\" >61.68</td>\n",
       "                        <td id=\"T_9c2082da_6d47_11e9_9e5b_1b335b71c32crow4_col2\" class=\"data row4 col2\" >11.45</td>\n",
       "            </tr>\n",
       "            <tr>\n",
       "                                <th id=\"T_9c2082da_6d47_11e9_9e5b_1b335b71c32clevel1_row5\" class=\"row_heading level1 row5\" >15.0</th>\n",
       "                        <td id=\"T_9c2082da_6d47_11e9_9e5b_1b335b71c32crow5_col0\" class=\"data row5 col0\" >6.15</td>\n",
       "                        <td id=\"T_9c2082da_6d47_11e9_9e5b_1b335b71c32crow5_col1\" class=\"data row5 col1\" >67.68</td>\n",
       "                        <td id=\"T_9c2082da_6d47_11e9_9e5b_1b335b71c32crow5_col2\" class=\"data row5 col2\" >10.83</td>\n",
       "            </tr>\n",
       "            <tr>\n",
       "                        <th id=\"T_9c2082da_6d47_11e9_9e5b_1b335b71c32clevel0_row6\" class=\"row_heading level0 row6\" rowspan=6>lda</th>\n",
       "                        <th id=\"T_9c2082da_6d47_11e9_9e5b_1b335b71c32clevel1_row6\" class=\"row_heading level1 row6\" >1.0</th>\n",
       "                        <td id=\"T_9c2082da_6d47_11e9_9e5b_1b335b71c32crow6_col0\" class=\"data row6 col0\" >2.2</td>\n",
       "                        <td id=\"T_9c2082da_6d47_11e9_9e5b_1b335b71c32crow6_col1\" class=\"data row6 col1\" >1.24</td>\n",
       "                        <td id=\"T_9c2082da_6d47_11e9_9e5b_1b335b71c32crow6_col2\" class=\"data row6 col2\" >1.34</td>\n",
       "            </tr>\n",
       "            <tr>\n",
       "                                <th id=\"T_9c2082da_6d47_11e9_9e5b_1b335b71c32clevel1_row7\" class=\"row_heading level1 row7\" >3.0</th>\n",
       "                        <td id=\"T_9c2082da_6d47_11e9_9e5b_1b335b71c32crow7_col0\" class=\"data row7 col0\" >12.09</td>\n",
       "                        <td id=\"T_9c2082da_6d47_11e9_9e5b_1b335b71c32crow7_col1\" class=\"data row7 col1\" >30.93</td>\n",
       "                        <td id=\"T_9c2082da_6d47_11e9_9e5b_1b335b71c32crow7_col2\" class=\"data row7 col2\" >16.55</td>\n",
       "            </tr>\n",
       "            <tr>\n",
       "                                <th id=\"T_9c2082da_6d47_11e9_9e5b_1b335b71c32clevel1_row8\" class=\"row_heading level1 row8\" >5.0</th>\n",
       "                        <td id=\"T_9c2082da_6d47_11e9_9e5b_1b335b71c32crow8_col0\" class=\"data row8 col0\" >9.89</td>\n",
       "                        <td id=\"T_9c2082da_6d47_11e9_9e5b_1b335b71c32crow8_col1\" class=\"data row8 col1\" >42.28</td>\n",
       "                        <td id=\"T_9c2082da_6d47_11e9_9e5b_1b335b71c32crow8_col2\" class=\"data row8 col2\" >15.3</td>\n",
       "            </tr>\n",
       "            <tr>\n",
       "                                <th id=\"T_9c2082da_6d47_11e9_9e5b_1b335b71c32clevel1_row9\" class=\"row_heading level1 row9\" >10.0</th>\n",
       "                        <td id=\"T_9c2082da_6d47_11e9_9e5b_1b335b71c32crow9_col0\" class=\"data row9 col0\" >7.03</td>\n",
       "                        <td id=\"T_9c2082da_6d47_11e9_9e5b_1b335b71c32crow9_col1\" class=\"data row9 col1\" >54.09</td>\n",
       "                        <td id=\"T_9c2082da_6d47_11e9_9e5b_1b335b71c32crow9_col2\" class=\"data row9 col2\" >11.84</td>\n",
       "            </tr>\n",
       "            <tr>\n",
       "                                <th id=\"T_9c2082da_6d47_11e9_9e5b_1b335b71c32clevel1_row10\" class=\"row_heading level1 row10\" >12.0</th>\n",
       "                        <td id=\"T_9c2082da_6d47_11e9_9e5b_1b335b71c32crow10_col0\" class=\"data row10 col0\" >6.23</td>\n",
       "                        <td id=\"T_9c2082da_6d47_11e9_9e5b_1b335b71c32crow10_col1\" class=\"data row10 col1\" >56.51</td>\n",
       "                        <td id=\"T_9c2082da_6d47_11e9_9e5b_1b335b71c32crow10_col2\" class=\"data row10 col2\" >10.72</td>\n",
       "            </tr>\n",
       "            <tr>\n",
       "                                <th id=\"T_9c2082da_6d47_11e9_9e5b_1b335b71c32clevel1_row11\" class=\"row_heading level1 row11\" >15.0</th>\n",
       "                        <td id=\"T_9c2082da_6d47_11e9_9e5b_1b335b71c32crow11_col0\" class=\"data row11 col0\" >5.86</td>\n",
       "                        <td id=\"T_9c2082da_6d47_11e9_9e5b_1b335b71c32crow11_col1\" class=\"data row11 col1\" >66.25</td>\n",
       "                        <td id=\"T_9c2082da_6d47_11e9_9e5b_1b335b71c32crow11_col2\" class=\"data row11 col2\" >10.34</td>\n",
       "            </tr>\n",
       "            <tr>\n",
       "                        <th id=\"T_9c2082da_6d47_11e9_9e5b_1b335b71c32clevel0_row12\" class=\"row_heading level0 row12\" rowspan=6>lsi</th>\n",
       "                        <th id=\"T_9c2082da_6d47_11e9_9e5b_1b335b71c32clevel1_row12\" class=\"row_heading level1 row12\" >1.0</th>\n",
       "                        <td id=\"T_9c2082da_6d47_11e9_9e5b_1b335b71c32crow12_col0\" class=\"data row12 col0\" >28.57</td>\n",
       "                        <td id=\"T_9c2082da_6d47_11e9_9e5b_1b335b71c32crow12_col1\" class=\"data row12 col1\" >26.18</td>\n",
       "                        <td id=\"T_9c2082da_6d47_11e9_9e5b_1b335b71c32crow12_col2\" class=\"data row12 col2\" >26.62</td>\n",
       "            </tr>\n",
       "            <tr>\n",
       "                                <th id=\"T_9c2082da_6d47_11e9_9e5b_1b335b71c32clevel1_row13\" class=\"row_heading level1 row13\" >3.0</th>\n",
       "                        <td id=\"T_9c2082da_6d47_11e9_9e5b_1b335b71c32crow13_col0\" class=\"data row13 col0\" >18.32</td>\n",
       "                        <td id=\"T_9c2082da_6d47_11e9_9e5b_1b335b71c32crow13_col1\" class=\"data row13 col1\" >47.31</td>\n",
       "                        <td id=\"T_9c2082da_6d47_11e9_9e5b_1b335b71c32crow13_col2\" class=\"data row13 col2\" >25.23</td>\n",
       "            </tr>\n",
       "            <tr>\n",
       "                                <th id=\"T_9c2082da_6d47_11e9_9e5b_1b335b71c32clevel1_row14\" class=\"row_heading level1 row14\" >5.0</th>\n",
       "                        <td id=\"T_9c2082da_6d47_11e9_9e5b_1b335b71c32crow14_col0\" class=\"data row14 col0\" >12.53</td>\n",
       "                        <td id=\"T_9c2082da_6d47_11e9_9e5b_1b335b71c32crow14_col1\" class=\"data row14 col1\" >52.06</td>\n",
       "                        <td id=\"T_9c2082da_6d47_11e9_9e5b_1b335b71c32crow14_col2\" class=\"data row14 col2\" >19.24</td>\n",
       "            </tr>\n",
       "            <tr>\n",
       "                                <th id=\"T_9c2082da_6d47_11e9_9e5b_1b335b71c32clevel1_row15\" class=\"row_heading level1 row15\" >10.0</th>\n",
       "                        <td id=\"T_9c2082da_6d47_11e9_9e5b_1b335b71c32crow15_col0\" class=\"data row15 col0\" >7.91</td>\n",
       "                        <td id=\"T_9c2082da_6d47_11e9_9e5b_1b335b71c32crow15_col1\" class=\"data row15 col1\" >60.94</td>\n",
       "                        <td id=\"T_9c2082da_6d47_11e9_9e5b_1b335b71c32crow15_col2\" class=\"data row15 col2\" >13.32</td>\n",
       "            </tr>\n",
       "            <tr>\n",
       "                                <th id=\"T_9c2082da_6d47_11e9_9e5b_1b335b71c32clevel1_row16\" class=\"row_heading level1 row16\" >12.0</th>\n",
       "                        <td id=\"T_9c2082da_6d47_11e9_9e5b_1b335b71c32crow16_col0\" class=\"data row16 col0\" >7.05</td>\n",
       "                        <td id=\"T_9c2082da_6d47_11e9_9e5b_1b335b71c32crow16_col1\" class=\"data row16 col1\" >64.28</td>\n",
       "                        <td id=\"T_9c2082da_6d47_11e9_9e5b_1b335b71c32crow16_col2\" class=\"data row16 col2\" >12.14</td>\n",
       "            </tr>\n",
       "            <tr>\n",
       "                                <th id=\"T_9c2082da_6d47_11e9_9e5b_1b335b71c32clevel1_row17\" class=\"row_heading level1 row17\" >15.0</th>\n",
       "                        <td id=\"T_9c2082da_6d47_11e9_9e5b_1b335b71c32crow17_col0\" class=\"data row17 col0\" >5.93</td>\n",
       "                        <td id=\"T_9c2082da_6d47_11e9_9e5b_1b335b71c32crow17_col1\" class=\"data row17 col1\" >66.2</td>\n",
       "                        <td id=\"T_9c2082da_6d47_11e9_9e5b_1b335b71c32crow17_col2\" class=\"data row17 col2\" >10.43</td>\n",
       "            </tr>\n",
       "            <tr>\n",
       "                        <th id=\"T_9c2082da_6d47_11e9_9e5b_1b335b71c32clevel0_row18\" class=\"row_heading level0 row18\" rowspan=6>wordvector</th>\n",
       "                        <th id=\"T_9c2082da_6d47_11e9_9e5b_1b335b71c32clevel1_row18\" class=\"row_heading level1 row18\" >1.0</th>\n",
       "                        <td id=\"T_9c2082da_6d47_11e9_9e5b_1b335b71c32crow18_col0\" class=\"data row18 col0\" >17.58</td>\n",
       "                        <td id=\"T_9c2082da_6d47_11e9_9e5b_1b335b71c32crow18_col1\" class=\"data row18 col1\" >16.07</td>\n",
       "                        <td id=\"T_9c2082da_6d47_11e9_9e5b_1b335b71c32crow18_col2\" class=\"data row18 col2\" >16.36</td>\n",
       "            </tr>\n",
       "            <tr>\n",
       "                                <th id=\"T_9c2082da_6d47_11e9_9e5b_1b335b71c32clevel1_row19\" class=\"row_heading level1 row19\" >3.0</th>\n",
       "                        <td id=\"T_9c2082da_6d47_11e9_9e5b_1b335b71c32crow19_col0\" class=\"data row19 col0\" >13.19</td>\n",
       "                        <td id=\"T_9c2082da_6d47_11e9_9e5b_1b335b71c32crow19_col1\" class=\"data row19 col1\" >34.23</td>\n",
       "                        <td id=\"T_9c2082da_6d47_11e9_9e5b_1b335b71c32crow19_col2\" class=\"data row19 col2\" >18.2</td>\n",
       "            </tr>\n",
       "            <tr>\n",
       "                                <th id=\"T_9c2082da_6d47_11e9_9e5b_1b335b71c32clevel1_row20\" class=\"row_heading level1 row20\" >5.0</th>\n",
       "                        <td id=\"T_9c2082da_6d47_11e9_9e5b_1b335b71c32crow20_col0\" class=\"data row20 col0\" >10.11</td>\n",
       "                        <td id=\"T_9c2082da_6d47_11e9_9e5b_1b335b71c32crow20_col1\" class=\"data row20 col1\" >41.81</td>\n",
       "                        <td id=\"T_9c2082da_6d47_11e9_9e5b_1b335b71c32crow20_col2\" class=\"data row20 col2\" >15.56</td>\n",
       "            </tr>\n",
       "            <tr>\n",
       "                                <th id=\"T_9c2082da_6d47_11e9_9e5b_1b335b71c32clevel1_row21\" class=\"row_heading level1 row21\" >10.0</th>\n",
       "                        <td id=\"T_9c2082da_6d47_11e9_9e5b_1b335b71c32crow21_col0\" class=\"data row21 col0\" >6.26</td>\n",
       "                        <td id=\"T_9c2082da_6d47_11e9_9e5b_1b335b71c32crow21_col1\" class=\"data row21 col1\" >46.78</td>\n",
       "                        <td id=\"T_9c2082da_6d47_11e9_9e5b_1b335b71c32crow21_col2\" class=\"data row21 col2\" >10.51</td>\n",
       "            </tr>\n",
       "            <tr>\n",
       "                                <th id=\"T_9c2082da_6d47_11e9_9e5b_1b335b71c32clevel1_row22\" class=\"row_heading level1 row22\" >12.0</th>\n",
       "                        <td id=\"T_9c2082da_6d47_11e9_9e5b_1b335b71c32crow22_col0\" class=\"data row22 col0\" >5.31</td>\n",
       "                        <td id=\"T_9c2082da_6d47_11e9_9e5b_1b335b71c32crow22_col1\" class=\"data row22 col1\" >47</td>\n",
       "                        <td id=\"T_9c2082da_6d47_11e9_9e5b_1b335b71c32crow22_col2\" class=\"data row22 col2\" >9.11</td>\n",
       "            </tr>\n",
       "            <tr>\n",
       "                                <th id=\"T_9c2082da_6d47_11e9_9e5b_1b335b71c32clevel1_row23\" class=\"row_heading level1 row23\" >15.0</th>\n",
       "                        <td id=\"T_9c2082da_6d47_11e9_9e5b_1b335b71c32crow23_col0\" class=\"data row23 col0\" >5.49</td>\n",
       "                        <td id=\"T_9c2082da_6d47_11e9_9e5b_1b335b71c32crow23_col1\" class=\"data row23 col1\" >59.92</td>\n",
       "                        <td id=\"T_9c2082da_6d47_11e9_9e5b_1b335b71c32crow23_col2\" class=\"data row23 col2\" >9.64</td>\n",
       "            </tr>\n",
       "    </tbody></table>"
      ],
      "text/plain": [
       "<pandas.io.formats.style.Styler at 0x7fb21abb0400>"
      ]
     },
     "execution_count": 4,
     "metadata": {},
     "output_type": "execute_result"
    }
   ],
   "source": [
    "from modules.utils import aux_functions\n",
    "\n",
    "aux_functions.highlight_df( evals_df_4[['model','perc_precision','perc_recall','perc_fscore','top']].groupby(['model','top']).mean())"
   ]
  },
  {
   "cell_type": "markdown",
   "metadata": {},
   "source": [
    "### Plots"
   ]
  },
  {
   "cell_type": "raw",
   "metadata": {},
   "source": [
    "evaluator_4.plot_evaluations_1(evals_df=evals_df_4, title='Volunteers Only Strategy')"
   ]
  },
  {
   "cell_type": "code",
   "execution_count": 5,
   "metadata": {},
   "outputs": [
    {
     "data": {
      "image/png": "[encoded data removed]",
      "text/plain": [
       "<Figure size 720x360 with 1 Axes>"
      ]
     },
     "metadata": {
      "needs_background": "light"
     },
     "output_type": "display_data"
    }
   ],
   "source": [
    "evaluator_4.plot_evaluations_3(evals_df_4, title='BR-Feat Traceability Recovery - Volunteers-Only Strategy')"
   ]
  },
  {
   "cell_type": "code",
   "execution_count": 6,
   "metadata": {},
   "outputs": [
    {
     "data": {
      "image/png": "[encoded data removed]",
      "text/plain": [
       "<Figure size 1440x360 with 4 Axes>"
      ]
     },
     "metadata": {
      "needs_background": "light"
     },
     "output_type": "display_data"
    }
   ],
   "source": [
    "evaluator_4.plot_evaluations_4(evals_df_4)"
   ]
  },
  {
   "cell_type": "code",
   "execution_count": 7,
   "metadata": {},
   "outputs": [
    {
     "data": {
      "image/png": "[encoded data removed]",
      "text/plain": [
       "<Figure size 720x360 with 1 Axes>"
      ]
     },
     "metadata": {
      "needs_background": "light"
     },
     "output_type": "display_data"
    }
   ],
   "source": [
    "evaluator_4.plot_evaluations_5(evals_df_4)"
   ]
  },
  {
   "cell_type": "code",
   "execution_count": 8,
   "metadata": {},
   "outputs": [
    {
     "data": {
      "text/html": [
       "<div>\n",
       "<style scoped>\n",
       "    .dataframe tbody tr th:only-of-type {\n",
       "        vertical-align: middle;\n",
       "    }\n",
       "\n",
       "    .dataframe tbody tr th {\n",
       "        vertical-align: top;\n",
       "    }\n",
       "\n",
       "    .dataframe thead th {\n",
       "        text-align: right;\n",
       "    }\n",
       "</style>\n",
       "<table border=\"1\" class=\"dataframe\">\n",
       "  <thead>\n",
       "    <tr style=\"text-align: right;\">\n",
       "      <th></th>\n",
       "      <th>model</th>\n",
       "      <th>ref_name</th>\n",
       "      <th>perc_precision</th>\n",
       "      <th>perc_recall</th>\n",
       "      <th>perc_fscore</th>\n",
       "      <th>eval_df</th>\n",
       "      <th>sim_threshold</th>\n",
       "      <th>top</th>\n",
       "      <th>trace_links_df</th>\n",
       "    </tr>\n",
       "  </thead>\n",
       "  <tbody>\n",
       "    <tr>\n",
       "      <th>0</th>\n",
       "      <td>lsi</td>\n",
       "      <td>top_1_cosine_0.0</td>\n",
       "      <td>28.57</td>\n",
       "      <td>26.18</td>\n",
       "      <td>26.62</td>\n",
       "      <td>precision  recall    fscore\n",
       "Bug_Nu...</td>\n",
       "      <td>0.0</td>\n",
       "      <td>1.0</td>\n",
       "      <td>Bug_Number               1248267  1248268  125...</td>\n",
       "    </tr>\n",
       "  </tbody>\n",
       "</table>\n",
       "</div>"
      ],
      "text/plain": [
       "  model          ref_name  perc_precision  perc_recall  perc_fscore  \\\n",
       "0   lsi  top_1_cosine_0.0           28.57        26.18        26.62   \n",
       "\n",
       "                                             eval_df  sim_threshold  top  \\\n",
       "0              precision  recall    fscore\n",
       "Bug_Nu...            0.0  1.0   \n",
       "\n",
       "                                      trace_links_df  \n",
       "0  Bug_Number               1248267  1248268  125...  "
      ]
     },
     "execution_count": 8,
     "metadata": {},
     "output_type": "execute_result"
    }
   ],
   "source": [
    "evals_df_4[(evals_df_4.ref_name == 'top_{}_cosine_{}'.format(1,0.0)) & (evals_df_4.model == 'lsi')]"
   ]
  },
  {
   "cell_type": "markdown",
   "metadata": {},
   "source": [
    "### Retrieved Traces"
   ]
  },
  {
   "cell_type": "code",
   "execution_count": 10,
   "metadata": {},
   "outputs": [
    {
     "name": "stdout",
     "output_type": "stream",
     "text": [
      "retrieved:   91 - relevant:   26 - (m=         lsi, t= 1, c=0.0) - prec: 28.57 - recall : 26.18\n",
      "retrieved:  273 - relevant:   50 - (m=         lsi, t= 3, c=0.0) - prec: 18.32 - recall : 47.31\n",
      "retrieved:  455 - relevant:   57 - (m=         lsi, t= 5, c=0.0) - prec: 12.53 - recall : 52.06\n",
      "retrieved:  910 - relevant:   72 - (m=         lsi, t=10, c=0.0) - prec:  7.91 - recall : 60.94\n",
      "retrieved: 1092 - relevant:   77 - (m=         lsi, t=12, c=0.0) - prec:  7.05 - recall : 64.28\n",
      "retrieved: 1365 - relevant:   81 - (m=         lsi, t=15, c=0.0) - prec:  5.93 - recall :  66.2\n",
      "retrieved:   91 - relevant:    2 - (m=         lda, t= 1, c=0.0) - prec:   2.2 - recall :  1.24\n",
      "retrieved:  273 - relevant:   33 - (m=         lda, t= 3, c=0.0) - prec: 12.09 - recall : 30.93\n",
      "retrieved:  455 - relevant:   45 - (m=         lda, t= 5, c=0.0) - prec:  9.89 - recall : 42.28\n",
      "retrieved:  910 - relevant:   64 - (m=         lda, t=10, c=0.0) - prec:  7.03 - recall : 54.09\n",
      "retrieved: 1092 - relevant:   68 - (m=         lda, t=12, c=0.0) - prec:  6.23 - recall : 56.51\n",
      "retrieved: 1365 - relevant:   80 - (m=         lda, t=15, c=0.0) - prec:  5.86 - recall : 66.25\n",
      "retrieved:   91 - relevant:   28 - (m=        bm25, t= 1, c=0.0) - prec: 30.77 - recall : 28.38\n",
      "retrieved:  273 - relevant:   47 - (m=        bm25, t= 3, c=0.0) - prec: 17.22 - recall : 45.22\n",
      "retrieved:  455 - relevant:   54 - (m=        bm25, t= 5, c=0.0) - prec: 11.87 - recall : 49.32\n",
      "retrieved:  910 - relevant:   67 - (m=        bm25, t=10, c=0.0) - prec:  7.36 - recall : 57.15\n",
      "retrieved: 1092 - relevant:   72 - (m=        bm25, t=12, c=0.0) - prec:  6.59 - recall : 61.68\n",
      "retrieved: 1365 - relevant:   84 - (m=        bm25, t=15, c=0.0) - prec:  6.15 - recall : 67.68\n",
      "retrieved:   91 - relevant:   16 - (m=  wordvector, t= 1, c=0.0) - prec: 17.58 - recall : 16.07\n",
      "retrieved:  273 - relevant:   36 - (m=  wordvector, t= 3, c=0.0) - prec: 13.19 - recall : 34.23\n",
      "retrieved:  455 - relevant:   46 - (m=  wordvector, t= 5, c=0.0) - prec: 10.11 - recall : 41.81\n",
      "retrieved:  910 - relevant:   57 - (m=  wordvector, t=10, c=0.0) - prec:  6.26 - recall : 46.78\n",
      "retrieved: 1092 - relevant:   58 - (m=  wordvector, t=12, c=0.0) - prec:  5.31 - recall :  47.0\n",
      "retrieved: 1365 - relevant:   75 - (m=  wordvector, t=15, c=0.0) - prec:  5.49 - recall : 59.92\n"
     ]
    }
   ],
   "source": [
    "models = ['lsi','lda','bm25','wordvector']\n",
    "tops = [1,3,5,10,12,15]\n",
    "#cosines = [0.0, 0.9]\n",
    "cosines = [0.0]\n",
    "\n",
    "for m in models:\n",
    "    for top in tops:\n",
    "        for cos in cosines:\n",
    "            df = evals_df_4[(evals_df_4.ref_name == 'top_{}_cosine_{}'.format(top,cos)) & (evals_df_4.model == m)].iloc[0,:]\n",
    "            trace_links = df.trace_links_df\n",
    "            p = df.perc_precision\n",
    "            r = df.perc_recall\n",
    "            relevant = len(aux_functions.get_true_positives(oracle_df=vol_strat_runner.get_oracle(), output_df = trace_links))\n",
    "            retrieved = sum([trace_links[col].sum() for col in trace_links.columns])\n",
    "            print('retrieved: {:>4} - relevant: {:>4} - (m={:>12}, t={:>2}, c={:>2.2}) - prec: {:>5.4} - recall : {:>5.4}'.format(retrieved,relevant,m,top,cos,p,r))"
   ]
  },
  {
   "cell_type": "markdown",
   "metadata": {},
   "source": [
    "### Delete Variables"
   ]
  },
  {
   "cell_type": "raw",
   "metadata": {},
   "source": [
    "del lsi_model_4, lda_model_4, bm25_model_4, w2v_model_4\n",
    "del evals_df_4\n",
    "del models_runner_4, evaluator_4"
   ]
  },
  {
   "cell_type": "markdown",
   "metadata": {
    "toc-hr-collapsed": true
   },
   "source": [
    "## Union Strategy"
   ]
  },
  {
   "cell_type": "code",
   "execution_count": null,
   "metadata": {},
   "outputs": [],
   "source": [
    "exp_vol_union_strat_runner = feat_br_strat_runner.Feat_BR_Exp_Vol_Union_Strat_Runner()\n",
    "exp_vol_union_strat_runner.execute()\n",
    "\n",
    "evaluator_1 = exp_vol_union_strat_runner.get_evaluator() \n",
    "evals_df_1 = exp_vol_union_strat_runner.get_evals_df()"
   ]
  },
  {
   "cell_type": "markdown",
   "metadata": {},
   "source": [
    "### Results"
   ]
  },
  {
   "cell_type": "code",
   "execution_count": null,
   "metadata": {},
   "outputs": [],
   "source": [
    "evals_df_1.head()"
   ]
  },
  {
   "cell_type": "code",
   "execution_count": null,
   "metadata": {},
   "outputs": [],
   "source": [
    "evaluator_1.plot_evaluations_4(evals_df_1)"
   ]
  },
  {
   "cell_type": "code",
   "execution_count": null,
   "metadata": {},
   "outputs": [],
   "source": [
    "evaluator_1.plot_evaluations_5(evals_df_1)"
   ]
  },
  {
   "cell_type": "markdown",
   "metadata": {},
   "source": [
    "### Plots"
   ]
  },
  {
   "cell_type": "raw",
   "metadata": {},
   "source": [
    "evaluator_1.plot_evaluations_1(evals_df=evals_df_1, title='Exp-Vol Union Strategy')"
   ]
  },
  {
   "cell_type": "code",
   "execution_count": null,
   "metadata": {},
   "outputs": [],
   "source": [
    "evaluator_1.plot_evaluations_3(evals_df_1, title='BR-Feat Traceability Recovery - Exp-Vol Union Strategy')"
   ]
  },
  {
   "cell_type": "markdown",
   "metadata": {},
   "source": [
    "### Delete Variables"
   ]
  },
  {
   "cell_type": "raw",
   "metadata": {},
   "source": [
    "del lsi_model_1, lda_model_1, bm25_model_1, w2v_model_1\n",
    "del evals_df_1\n",
    "del models_runner_1, evaluator_1"
   ]
  },
  {
   "cell_type": "markdown",
   "metadata": {
    "toc-hr-collapsed": true
   },
   "source": [
    "## Intersec Strategy"
   ]
  },
  {
   "cell_type": "code",
   "execution_count": null,
   "metadata": {},
   "outputs": [],
   "source": [
    "exp_vol_intersec_strat_runner = feat_br_strat_runner.Feat_BR_Exp_Vol_Intersec_Strat_Runner()\n",
    "exp_vol_intersec_strat_runner.execute()\n",
    "\n",
    "evaluator_2 = exp_vol_intersec_strat_runner.get_evaluator() \n",
    "evals_df_2 = exp_vol_intersec_strat_runner.get_evals_df()"
   ]
  },
  {
   "cell_type": "markdown",
   "metadata": {},
   "source": [
    "### Results"
   ]
  },
  {
   "cell_type": "code",
   "execution_count": null,
   "metadata": {},
   "outputs": [],
   "source": [
    "evals_df_2.head()"
   ]
  },
  {
   "cell_type": "markdown",
   "metadata": {},
   "source": [
    "### Plots"
   ]
  },
  {
   "cell_type": "raw",
   "metadata": {},
   "source": [
    "evaluator_2.plot_evaluations_1(evals_df=evals_df_2, title='Exp-Vol Intersec Strategy')"
   ]
  },
  {
   "cell_type": "code",
   "execution_count": null,
   "metadata": {},
   "outputs": [],
   "source": [
    "evaluator_2.plot_evaluations_3(evals_df_2, title='BR-Feat Traceability Recovery - Exp-Vol Intersec Strategy')"
   ]
  },
  {
   "cell_type": "code",
   "execution_count": null,
   "metadata": {},
   "outputs": [],
   "source": [
    "evaluator_2.plot_evaluations_4(evals_df_2)"
   ]
  },
  {
   "cell_type": "code",
   "execution_count": null,
   "metadata": {},
   "outputs": [],
   "source": [
    "evaluator_2.plot_evaluations_5(evals_df_2)"
   ]
  },
  {
   "cell_type": "markdown",
   "metadata": {},
   "source": [
    "### Delete Variables"
   ]
  },
  {
   "cell_type": "raw",
   "metadata": {},
   "source": [
    "del lsi_model_2, lda_model_2, bm25_model_2, w2v_model_2\n",
    "del evals_df_2\n",
    "del models_runner_2, evaluator_2"
   ]
  },
  {
   "cell_type": "markdown",
   "metadata": {
    "toc-hr-collapsed": true
   },
   "source": [
    "## Expert Only Strategy"
   ]
  },
  {
   "cell_type": "code",
   "execution_count": null,
   "metadata": {},
   "outputs": [],
   "source": [
    "exp_strat_runner = feat_br_strat_runner.Feat_BR_Exp_Strat_Runner()\n",
    "exp_strat_runner.execute()\n",
    "\n",
    "evaluator_3 = exp_strat_runner.get_evaluator() \n",
    "evals_df_3 = exp_strat_runner.get_evals_df()"
   ]
  },
  {
   "cell_type": "markdown",
   "metadata": {},
   "source": [
    "### Results"
   ]
  },
  {
   "cell_type": "code",
   "execution_count": null,
   "metadata": {},
   "outputs": [],
   "source": [
    "evals_df_3.head()"
   ]
  },
  {
   "cell_type": "markdown",
   "metadata": {},
   "source": [
    "### Plots"
   ]
  },
  {
   "cell_type": "raw",
   "metadata": {},
   "source": [
    "evaluator_3.plot_evaluations_1(evals_df=evals_df_3, title='Expert Only Strategy')"
   ]
  },
  {
   "cell_type": "code",
   "execution_count": null,
   "metadata": {},
   "outputs": [],
   "source": [
    "evaluator_3.plot_evaluations_3(evals_df_3, title='BR-Feat Traceability Recovery - Expert-Only Strategy')"
   ]
  },
  {
   "cell_type": "code",
   "execution_count": null,
   "metadata": {},
   "outputs": [],
   "source": [
    "evaluator_3.plot_evaluations_4(evals_df_3)"
   ]
  },
  {
   "cell_type": "code",
   "execution_count": null,
   "metadata": {},
   "outputs": [],
   "source": [
    "evaluator_3.plot_evaluations_5(evals_df_3)"
   ]
  },
  {
   "cell_type": "markdown",
   "metadata": {},
   "source": [
    "### Delete Variables"
   ]
  },
  {
   "cell_type": "raw",
   "metadata": {},
   "source": [
    "del lsi_model_3, lda_model_3, bm25_model_3, w2v_model_3\n",
    "del evals_df_3\n",
    "del models_runner_3, evaluator_3"
   ]
  }
 ],
 "metadata": {
  "kernelspec": {
   "display_name": "Python 3",
   "language": "python",
   "name": "python3"
  },
  "language_info": {
   "codemirror_mode": {
    "name": "ipython",
    "version": 3
   },
   "file_extension": ".py",
   "mimetype": "text/x-python",
   "name": "python",
   "nbconvert_exporter": "python",
   "pygments_lexer": "ipython3",
   "version": "3.7.3"
  },
  "toc-autonumbering": true,
  "toc-showcode": false,
  "toc-showmarkdowntxt": true,
  "toc-showtags": false
 },
 "nbformat": 4,
 "nbformat_minor": 2
}

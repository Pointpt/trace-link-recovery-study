{
 "cells": [
  {
   "cell_type": "markdown",
   "metadata": {},
   "source": [
    "# Introduction\n",
    "\n",
    "Notebook to aggregate the running of models in the context of traceability between **features** and **bug reports**."
   ]
  },
  {
   "cell_type": "markdown",
   "metadata": {
    "toc-hr-collapsed": false
   },
   "source": [
    "# Load Libraries and Datasets"
   ]
  },
  {
   "cell_type": "code",
   "execution_count": 1,
   "metadata": {},
   "outputs": [],
   "source": [
    "from mod_finder_util import mod_finder_util\n",
    "mod_finder_util.add_modules_origin_search_path()\n",
    "\n",
    "from modules.models_runner import feat_br_strat_runner\n",
    "\n",
    "import warnings; warnings.simplefilter('ignore')"
   ]
  },
  {
   "cell_type": "markdown",
   "metadata": {},
   "source": [
    "# Run All Models"
   ]
  },
  {
   "cell_type": "markdown",
   "metadata": {
    "toc-hr-collapsed": false
   },
   "source": [
    "## Volunteers Only Strategy"
   ]
  },
  {
   "cell_type": "code",
   "execution_count": 2,
   "metadata": {},
   "outputs": [
    {
     "name": "stdout",
     "output_type": "stream",
     "text": [
      "Feat_BR Volunteers Matrix shape: (91, 19)\n",
      "Features.shape: (19, 8)\n",
      "SelectedBugReports.shape: (91, 18)\n",
      "Running LSI model -----\n",
      "Running LDA model -----\n",
      "Running BM25 model -----\n",
      "Running W2V model -----\n",
      "Evaluating LSI Model ----- \n",
      "Evaluating LDA Model ----- \n",
      "Evaluating BM25 Model ----- \n",
      "Evaluating WORDVECTOR Model ----- \n"
     ]
    }
   ],
   "source": [
    "vol_strat_runner = feat_br_strat_runner.Feat_BR_Vol_Strat_Runner()\n",
    "vol_strat_runner.execute()\n",
    "\n",
    "evaluator_4 = vol_strat_runner.get_evaluator() \n",
    "evals_df_4 = vol_strat_runner.get_evals_df()"
   ]
  },
  {
   "cell_type": "markdown",
   "metadata": {},
   "source": [
    "### Results"
   ]
  },
  {
   "cell_type": "code",
   "execution_count": 3,
   "metadata": {},
   "outputs": [
    {
     "data": {
      "text/html": [
       "<div>\n",
       "<style scoped>\n",
       "    .dataframe tbody tr th:only-of-type {\n",
       "        vertical-align: middle;\n",
       "    }\n",
       "\n",
       "    .dataframe tbody tr th {\n",
       "        vertical-align: top;\n",
       "    }\n",
       "\n",
       "    .dataframe thead th {\n",
       "        text-align: right;\n",
       "    }\n",
       "</style>\n",
       "<table border=\"1\" class=\"dataframe\">\n",
       "  <thead>\n",
       "    <tr style=\"text-align: right;\">\n",
       "      <th></th>\n",
       "      <th>model</th>\n",
       "      <th>ref_name</th>\n",
       "      <th>perc_precision</th>\n",
       "      <th>perc_recall</th>\n",
       "      <th>perc_fscore</th>\n",
       "      <th>eval_df</th>\n",
       "      <th>sim_threshold</th>\n",
       "      <th>top</th>\n",
       "      <th>trace_links_df</th>\n",
       "    </tr>\n",
       "  </thead>\n",
       "  <tbody>\n",
       "    <tr>\n",
       "      <th>0</th>\n",
       "      <td>lsi</td>\n",
       "      <td>top_1_cosine_0.0</td>\n",
       "      <td>28.57</td>\n",
       "      <td>26.18</td>\n",
       "      <td>26.62</td>\n",
       "      <td>precision  recall    fscore\n",
       "Bug_Nu...</td>\n",
       "      <td>0.0</td>\n",
       "      <td>1.0</td>\n",
       "      <td>Bug_Number               1248267  1248268  125...</td>\n",
       "    </tr>\n",
       "    <tr>\n",
       "      <th>1</th>\n",
       "      <td>lsi</td>\n",
       "      <td>top_1_cosine_0.1</td>\n",
       "      <td>28.57</td>\n",
       "      <td>26.18</td>\n",
       "      <td>26.62</td>\n",
       "      <td>precision  recall    fscore\n",
       "Bug_Nu...</td>\n",
       "      <td>0.1</td>\n",
       "      <td>1.0</td>\n",
       "      <td>Bug_Number               1248267  1248268  125...</td>\n",
       "    </tr>\n",
       "    <tr>\n",
       "      <th>2</th>\n",
       "      <td>lsi</td>\n",
       "      <td>top_1_cosine_0.2</td>\n",
       "      <td>28.57</td>\n",
       "      <td>26.18</td>\n",
       "      <td>26.62</td>\n",
       "      <td>precision  recall    fscore\n",
       "Bug_Nu...</td>\n",
       "      <td>0.2</td>\n",
       "      <td>1.0</td>\n",
       "      <td>Bug_Number               1248267  1248268  125...</td>\n",
       "    </tr>\n",
       "    <tr>\n",
       "      <th>3</th>\n",
       "      <td>lsi</td>\n",
       "      <td>top_1_cosine_0.3</td>\n",
       "      <td>28.57</td>\n",
       "      <td>26.18</td>\n",
       "      <td>26.62</td>\n",
       "      <td>precision  recall    fscore\n",
       "Bug_Nu...</td>\n",
       "      <td>0.3</td>\n",
       "      <td>1.0</td>\n",
       "      <td>Bug_Number               1248267  1248268  125...</td>\n",
       "    </tr>\n",
       "    <tr>\n",
       "      <th>4</th>\n",
       "      <td>lsi</td>\n",
       "      <td>top_1_cosine_0.4</td>\n",
       "      <td>28.57</td>\n",
       "      <td>26.18</td>\n",
       "      <td>26.62</td>\n",
       "      <td>precision  recall    fscore\n",
       "Bug_Nu...</td>\n",
       "      <td>0.4</td>\n",
       "      <td>1.0</td>\n",
       "      <td>Bug_Number               1248267  1248268  125...</td>\n",
       "    </tr>\n",
       "  </tbody>\n",
       "</table>\n",
       "</div>"
      ],
      "text/plain": [
       "  model          ref_name  perc_precision  perc_recall  perc_fscore  \\\n",
       "0   lsi  top_1_cosine_0.0           28.57        26.18        26.62   \n",
       "1   lsi  top_1_cosine_0.1           28.57        26.18        26.62   \n",
       "2   lsi  top_1_cosine_0.2           28.57        26.18        26.62   \n",
       "3   lsi  top_1_cosine_0.3           28.57        26.18        26.62   \n",
       "4   lsi  top_1_cosine_0.4           28.57        26.18        26.62   \n",
       "\n",
       "                                             eval_df  sim_threshold  top  \\\n",
       "0              precision  recall    fscore\n",
       "Bug_Nu...            0.0  1.0   \n",
       "1              precision  recall    fscore\n",
       "Bug_Nu...            0.1  1.0   \n",
       "2              precision  recall    fscore\n",
       "Bug_Nu...            0.2  1.0   \n",
       "3              precision  recall    fscore\n",
       "Bug_Nu...            0.3  1.0   \n",
       "4              precision  recall    fscore\n",
       "Bug_Nu...            0.4  1.0   \n",
       "\n",
       "                                      trace_links_df  \n",
       "0  Bug_Number               1248267  1248268  125...  \n",
       "1  Bug_Number               1248267  1248268  125...  \n",
       "2  Bug_Number               1248267  1248268  125...  \n",
       "3  Bug_Number               1248267  1248268  125...  \n",
       "4  Bug_Number               1248267  1248268  125...  "
      ]
     },
     "execution_count": 3,
     "metadata": {},
     "output_type": "execute_result"
    }
   ],
   "source": [
    "evals_df_4.head()"
   ]
  },
  {
   "cell_type": "code",
   "execution_count": 4,
   "metadata": {},
   "outputs": [
    {
     "data": {
      "text/html": [
       "<style  type=\"text/css\" >\n",
       "    #T_f07c488a_6da3_11e9_9e8a_d9bdc894a198row0_col0 {\n",
       "            background-color:  #008000;\n",
       "            color:  #f1f1f1;\n",
       "        }    #T_f07c488a_6da3_11e9_9e8a_d9bdc894a198row0_col1 {\n",
       "            background-color:  #50ac50;\n",
       "            color:  #000000;\n",
       "        }    #T_f07c488a_6da3_11e9_9e8a_d9bdc894a198row0_col2 {\n",
       "            background-color:  #008000;\n",
       "            color:  #f1f1f1;\n",
       "        }    #T_f07c488a_6da3_11e9_9e8a_d9bdc894a198row1_col0 {\n",
       "            background-color:  #3fa33f;\n",
       "            color:  #000000;\n",
       "        }    #T_f07c488a_6da3_11e9_9e8a_d9bdc894a198row1_col1 {\n",
       "            background-color:  #0c860c;\n",
       "            color:  #f1f1f1;\n",
       "        }    #T_f07c488a_6da3_11e9_9e8a_d9bdc894a198row1_col2 {\n",
       "            background-color:  #108910;\n",
       "            color:  #f1f1f1;\n",
       "        }    #T_f07c488a_6da3_11e9_9e8a_d9bdc894a198row2_col0 {\n",
       "            background-color:  #4eab4e;\n",
       "            color:  #000000;\n",
       "        }    #T_f07c488a_6da3_11e9_9e8a_d9bdc894a198row2_col1 {\n",
       "            background-color:  #008000;\n",
       "            color:  #f1f1f1;\n",
       "        }    #T_f07c488a_6da3_11e9_9e8a_d9bdc894a198row2_col2 {\n",
       "            background-color:  #219221;\n",
       "            color:  #000000;\n",
       "        }    #T_f07c488a_6da3_11e9_9e8a_d9bdc894a198row3_col0 {\n",
       "            background-color:  #e5ffe5;\n",
       "            color:  #000000;\n",
       "        }    #T_f07c488a_6da3_11e9_9e8a_d9bdc894a198row3_col1 {\n",
       "            background-color:  #e5ffe5;\n",
       "            color:  #000000;\n",
       "        }    #T_f07c488a_6da3_11e9_9e8a_d9bdc894a198row3_col2 {\n",
       "            background-color:  #e5ffe5;\n",
       "            color:  #000000;\n",
       "        }    #T_f07c488a_6da3_11e9_9e8a_d9bdc894a198row4_col0 {\n",
       "            background-color:  #9cd69c;\n",
       "            color:  #000000;\n",
       "        }    #T_f07c488a_6da3_11e9_9e8a_d9bdc894a198row4_col1 {\n",
       "            background-color:  #4caa4c;\n",
       "            color:  #000000;\n",
       "        }    #T_f07c488a_6da3_11e9_9e8a_d9bdc894a198row4_col2 {\n",
       "            background-color:  #6fbd6f;\n",
       "            color:  #000000;\n",
       "        }    #T_f07c488a_6da3_11e9_9e8a_d9bdc894a198row5_col0 {\n",
       "            background-color:  #a3daa3;\n",
       "            color:  #000000;\n",
       "        }    #T_f07c488a_6da3_11e9_9e8a_d9bdc894a198row5_col1 {\n",
       "            background-color:  #209220;\n",
       "            color:  #000000;\n",
       "        }    #T_f07c488a_6da3_11e9_9e8a_d9bdc894a198row5_col2 {\n",
       "            background-color:  #70be70;\n",
       "            color:  #000000;\n",
       "        }    #T_f07c488a_6da3_11e9_9e8a_d9bdc894a198row6_col0 {\n",
       "            background-color:  #209220;\n",
       "            color:  #000000;\n",
       "        }    #T_f07c488a_6da3_11e9_9e8a_d9bdc894a198row6_col1 {\n",
       "            background-color:  #65b865;\n",
       "            color:  #000000;\n",
       "        }    #T_f07c488a_6da3_11e9_9e8a_d9bdc894a198row6_col2 {\n",
       "            background-color:  #209220;\n",
       "            color:  #000000;\n",
       "        }    #T_f07c488a_6da3_11e9_9e8a_d9bdc894a198row7_col0 {\n",
       "            background-color:  #369e36;\n",
       "            color:  #000000;\n",
       "        }    #T_f07c488a_6da3_11e9_9e8a_d9bdc894a198row7_col1 {\n",
       "            background-color:  #289628;\n",
       "            color:  #000000;\n",
       "        }    #T_f07c488a_6da3_11e9_9e8a_d9bdc894a198row7_col2 {\n",
       "            background-color:  #168c16;\n",
       "            color:  #000000;\n",
       "        }    #T_f07c488a_6da3_11e9_9e8a_d9bdc894a198row8_col0 {\n",
       "            background-color:  #43a543;\n",
       "            color:  #000000;\n",
       "        }    #T_f07c488a_6da3_11e9_9e8a_d9bdc894a198row8_col1 {\n",
       "            background-color:  #1f911f;\n",
       "            color:  #000000;\n",
       "        }    #T_f07c488a_6da3_11e9_9e8a_d9bdc894a198row8_col2 {\n",
       "            background-color:  #229322;\n",
       "            color:  #000000;\n",
       "        }    #T_f07c488a_6da3_11e9_9e8a_d9bdc894a198row9_col0 {\n",
       "            background-color:  #6dbc6d;\n",
       "            color:  #000000;\n",
       "        }    #T_f07c488a_6da3_11e9_9e8a_d9bdc894a198row9_col1 {\n",
       "            background-color:  #96d396;\n",
       "            color:  #000000;\n",
       "        }    #T_f07c488a_6da3_11e9_9e8a_d9bdc894a198row9_col2 {\n",
       "            background-color:  #6cbc6c;\n",
       "            color:  #000000;\n",
       "        }    #T_f07c488a_6da3_11e9_9e8a_d9bdc894a198row10_col0 {\n",
       "            background-color:  #8fcf8f;\n",
       "            color:  #000000;\n",
       "        }    #T_f07c488a_6da3_11e9_9e8a_d9bdc894a198row10_col1 {\n",
       "            background-color:  #349d34;\n",
       "            color:  #000000;\n",
       "        }    #T_f07c488a_6da3_11e9_9e8a_d9bdc894a198row10_col2 {\n",
       "            background-color:  #5db35d;\n",
       "            color:  #000000;\n",
       "        }    #T_f07c488a_6da3_11e9_9e8a_d9bdc894a198row11_col0 {\n",
       "            background-color:  #a8dda8;\n",
       "            color:  #000000;\n",
       "        }    #T_f07c488a_6da3_11e9_9e8a_d9bdc894a198row11_col1 {\n",
       "            background-color:  #0e880e;\n",
       "            color:  #f1f1f1;\n",
       "        }    #T_f07c488a_6da3_11e9_9e8a_d9bdc894a198row11_col2 {\n",
       "            background-color:  #72bf72;\n",
       "            color:  #000000;\n",
       "        }</style><table id=\"T_f07c488a_6da3_11e9_9e8a_d9bdc894a198\" ><thead>    <tr>        <th class=\"blank\" ></th>        <th class=\"blank level0\" ></th>        <th class=\"col_heading level0 col0\" >perc_precision</th>        <th class=\"col_heading level0 col1\" >perc_recall</th>        <th class=\"col_heading level0 col2\" >perc_fscore</th>    </tr>    <tr>        <th class=\"index_name level0\" >model</th>        <th class=\"index_name level1\" >top</th>        <th class=\"blank\" ></th>        <th class=\"blank\" ></th>        <th class=\"blank\" ></th>    </tr></thead><tbody>\n",
       "                <tr>\n",
       "                        <th id=\"T_f07c488a_6da3_11e9_9e8a_d9bdc894a198level0_row0\" class=\"row_heading level0 row0\" rowspan=3>bm25</th>\n",
       "                        <th id=\"T_f07c488a_6da3_11e9_9e8a_d9bdc894a198level1_row0\" class=\"row_heading level1 row0\" >1.0</th>\n",
       "                        <td id=\"T_f07c488a_6da3_11e9_9e8a_d9bdc894a198row0_col0\" class=\"data row0 col0\" >30.77</td>\n",
       "                        <td id=\"T_f07c488a_6da3_11e9_9e8a_d9bdc894a198row0_col1\" class=\"data row0 col1\" >28.38</td>\n",
       "                        <td id=\"T_f07c488a_6da3_11e9_9e8a_d9bdc894a198row0_col2\" class=\"data row0 col2\" >28.82</td>\n",
       "            </tr>\n",
       "            <tr>\n",
       "                                <th id=\"T_f07c488a_6da3_11e9_9e8a_d9bdc894a198level1_row1\" class=\"row_heading level1 row1\" >3.0</th>\n",
       "                        <td id=\"T_f07c488a_6da3_11e9_9e8a_d9bdc894a198row1_col0\" class=\"data row1 col0\" >22.896</td>\n",
       "                        <td id=\"T_f07c488a_6da3_11e9_9e8a_d9bdc894a198row1_col1\" class=\"data row1 col1\" >40.625</td>\n",
       "                        <td id=\"T_f07c488a_6da3_11e9_9e8a_d9bdc894a198row1_col2\" class=\"data row1 col2\" >26.79</td>\n",
       "            </tr>\n",
       "            <tr>\n",
       "                                <th id=\"T_f07c488a_6da3_11e9_9e8a_d9bdc894a198level1_row2\" class=\"row_heading level1 row2\" >5.0</th>\n",
       "                        <td id=\"T_f07c488a_6da3_11e9_9e8a_d9bdc894a198row2_col0\" class=\"data row2 col0\" >20.99</td>\n",
       "                        <td id=\"T_f07c488a_6da3_11e9_9e8a_d9bdc894a198row2_col1\" class=\"data row2 col1\" >42.888</td>\n",
       "                        <td id=\"T_f07c488a_6da3_11e9_9e8a_d9bdc894a198row2_col2\" class=\"data row2 col2\" >24.822</td>\n",
       "            </tr>\n",
       "            <tr>\n",
       "                        <th id=\"T_f07c488a_6da3_11e9_9e8a_d9bdc894a198level0_row3\" class=\"row_heading level0 row3\" rowspan=3>lda</th>\n",
       "                        <th id=\"T_f07c488a_6da3_11e9_9e8a_d9bdc894a198level1_row3\" class=\"row_heading level1 row3\" >1.0</th>\n",
       "                        <td id=\"T_f07c488a_6da3_11e9_9e8a_d9bdc894a198row3_col0\" class=\"data row3 col0\" >2.09</td>\n",
       "                        <td id=\"T_f07c488a_6da3_11e9_9e8a_d9bdc894a198row3_col1\" class=\"data row3 col1\" >1.226</td>\n",
       "                        <td id=\"T_f07c488a_6da3_11e9_9e8a_d9bdc894a198row3_col2\" class=\"data row3 col2\" >1.316</td>\n",
       "            </tr>\n",
       "            <tr>\n",
       "                                <th id=\"T_f07c488a_6da3_11e9_9e8a_d9bdc894a198level1_row4\" class=\"row_heading level1 row4\" >3.0</th>\n",
       "                        <td id=\"T_f07c488a_6da3_11e9_9e8a_d9bdc894a198row4_col0\" class=\"data row4 col0\" >11.319</td>\n",
       "                        <td id=\"T_f07c488a_6da3_11e9_9e8a_d9bdc894a198row4_col1\" class=\"data row4 col1\" >29.102</td>\n",
       "                        <td id=\"T_f07c488a_6da3_11e9_9e8a_d9bdc894a198row4_col2\" class=\"data row4 col2\" >15.549</td>\n",
       "            </tr>\n",
       "            <tr>\n",
       "                                <th id=\"T_f07c488a_6da3_11e9_9e8a_d9bdc894a198level1_row5\" class=\"row_heading level1 row5\" >5.0</th>\n",
       "                        <td id=\"T_f07c488a_6da3_11e9_9e8a_d9bdc894a198row5_col0\" class=\"data row5 col0\" >10.454</td>\n",
       "                        <td id=\"T_f07c488a_6da3_11e9_9e8a_d9bdc894a198row5_col1\" class=\"data row5 col1\" >36.875</td>\n",
       "                        <td id=\"T_f07c488a_6da3_11e9_9e8a_d9bdc894a198row5_col2\" class=\"data row5 col2\" >15.476</td>\n",
       "            </tr>\n",
       "            <tr>\n",
       "                        <th id=\"T_f07c488a_6da3_11e9_9e8a_d9bdc894a198level0_row6\" class=\"row_heading level0 row6\" rowspan=3>lsi</th>\n",
       "                        <th id=\"T_f07c488a_6da3_11e9_9e8a_d9bdc894a198level1_row6\" class=\"row_heading level1 row6\" >1.0</th>\n",
       "                        <td id=\"T_f07c488a_6da3_11e9_9e8a_d9bdc894a198row6_col0\" class=\"data row6 col0\" >26.703</td>\n",
       "                        <td id=\"T_f07c488a_6da3_11e9_9e8a_d9bdc894a198row6_col1\" class=\"data row6 col1\" >24.51</td>\n",
       "                        <td id=\"T_f07c488a_6da3_11e9_9e8a_d9bdc894a198row6_col2\" class=\"data row6 col2\" >24.898</td>\n",
       "            </tr>\n",
       "            <tr>\n",
       "                                <th id=\"T_f07c488a_6da3_11e9_9e8a_d9bdc894a198level1_row7\" class=\"row_heading level1 row7\" >3.0</th>\n",
       "                        <td id=\"T_f07c488a_6da3_11e9_9e8a_d9bdc894a198row7_col0\" class=\"data row7 col0\" >24.013</td>\n",
       "                        <td id=\"T_f07c488a_6da3_11e9_9e8a_d9bdc894a198row7_col1\" class=\"data row7 col1\" >35.465</td>\n",
       "                        <td id=\"T_f07c488a_6da3_11e9_9e8a_d9bdc894a198row7_col2\" class=\"data row7 col2\" >26.174</td>\n",
       "            </tr>\n",
       "            <tr>\n",
       "                                <th id=\"T_f07c488a_6da3_11e9_9e8a_d9bdc894a198level1_row8\" class=\"row_heading level1 row8\" >5.0</th>\n",
       "                        <td id=\"T_f07c488a_6da3_11e9_9e8a_d9bdc894a198row8_col0\" class=\"data row8 col0\" >22.449</td>\n",
       "                        <td id=\"T_f07c488a_6da3_11e9_9e8a_d9bdc894a198row8_col1\" class=\"data row8 col1\" >37.041</td>\n",
       "                        <td id=\"T_f07c488a_6da3_11e9_9e8a_d9bdc894a198row8_col2\" class=\"data row8 col2\" >24.634</td>\n",
       "            </tr>\n",
       "            <tr>\n",
       "                        <th id=\"T_f07c488a_6da3_11e9_9e8a_d9bdc894a198level0_row9\" class=\"row_heading level0 row9\" rowspan=3>wordvector</th>\n",
       "                        <th id=\"T_f07c488a_6da3_11e9_9e8a_d9bdc894a198level1_row9\" class=\"row_heading level1 row9\" >1.0</th>\n",
       "                        <td id=\"T_f07c488a_6da3_11e9_9e8a_d9bdc894a198row9_col0\" class=\"data row9 col0\" >17.141</td>\n",
       "                        <td id=\"T_f07c488a_6da3_11e9_9e8a_d9bdc894a198row9_col1\" class=\"data row9 col1\" >15.63</td>\n",
       "                        <td id=\"T_f07c488a_6da3_11e9_9e8a_d9bdc894a198row9_col2\" class=\"data row9 col2\" >15.92</td>\n",
       "            </tr>\n",
       "            <tr>\n",
       "                                <th id=\"T_f07c488a_6da3_11e9_9e8a_d9bdc894a198level1_row10\" class=\"row_heading level1 row10\" >3.0</th>\n",
       "                        <td id=\"T_f07c488a_6da3_11e9_9e8a_d9bdc894a198row10_col0\" class=\"data row10 col0\" >12.86</td>\n",
       "                        <td id=\"T_f07c488a_6da3_11e9_9e8a_d9bdc894a198row10_col1\" class=\"data row10 col1\" >33.307</td>\n",
       "                        <td id=\"T_f07c488a_6da3_11e9_9e8a_d9bdc894a198row10_col2\" class=\"data row10 col2\" >17.735</td>\n",
       "            </tr>\n",
       "            <tr>\n",
       "                                <th id=\"T_f07c488a_6da3_11e9_9e8a_d9bdc894a198level1_row11\" class=\"row_heading level1 row11\" >5.0</th>\n",
       "                        <td id=\"T_f07c488a_6da3_11e9_9e8a_d9bdc894a198row11_col0\" class=\"data row11 col0\" >9.819</td>\n",
       "                        <td id=\"T_f07c488a_6da3_11e9_9e8a_d9bdc894a198row11_col1\" class=\"data row11 col1\" >40.24</td>\n",
       "                        <td id=\"T_f07c488a_6da3_11e9_9e8a_d9bdc894a198row11_col2\" class=\"data row11 col2\" >15.074</td>\n",
       "            </tr>\n",
       "    </tbody></table>"
      ],
      "text/plain": [
       "<pandas.io.formats.style.Styler at 0x7fe5d1a2df60>"
      ]
     },
     "execution_count": 4,
     "metadata": {},
     "output_type": "execute_result"
    }
   ],
   "source": [
    "from modules.utils import aux_functions\n",
    "\n",
    "aux_functions.highlight_df( evals_df_4[['model','perc_precision','perc_recall','perc_fscore','top']].groupby(['model','top']).mean())"
   ]
  },
  {
   "cell_type": "markdown",
   "metadata": {},
   "source": [
    "### Plots"
   ]
  },
  {
   "cell_type": "raw",
   "metadata": {},
   "source": [
    "evaluator_4.plot_evaluations_1(evals_df=evals_df_4, title='Volunteers Only Strategy')"
   ]
  },
  {
   "cell_type": "code",
   "execution_count": 6,
   "metadata": {},
   "outputs": [
    {
     "data": {
      "image/png": "[encoded data removed]",
      "text/plain": [
       "<Figure size 720x360 with 1 Axes>"
      ]
     },
     "metadata": {
      "needs_background": "light"
     },
     "output_type": "display_data"
    }
   ],
   "source": [
    "evaluator_4.plot_evaluations_3(evals_df_4, title='BR-Feat Traceability Recovery - Volunteers-Only Strategy')"
   ]
  },
  {
   "cell_type": "code",
   "execution_count": 7,
   "metadata": {},
   "outputs": [
    {
     "data": {
      "image/png": "[encoded data removed]",
      "text/plain": [
       "<Figure size 1440x360 with 4 Axes>"
      ]
     },
     "metadata": {
      "needs_background": "light"
     },
     "output_type": "display_data"
    }
   ],
   "source": [
    "evaluator_4.plot_evaluations_4(evals_df_4)"
   ]
  },
  {
   "cell_type": "code",
   "execution_count": 8,
   "metadata": {},
   "outputs": [
    {
     "data": {
      "image/png": "[encoded data removed]",
      "text/plain": [
       "<Figure size 720x360 with 1 Axes>"
      ]
     },
     "metadata": {
      "needs_background": "light"
     },
     "output_type": "display_data"
    }
   ],
   "source": [
    "evaluator_4.plot_evaluations_5(evals_df_4)"
   ]
  },
  {
   "cell_type": "markdown",
   "metadata": {},
   "source": [
    "### Retrieved Traces - Similarity Threshold 0.0"
   ]
  },
  {
   "cell_type": "code",
   "execution_count": 23,
   "metadata": {},
   "outputs": [
    {
     "data": {
      "text/html": [
       "<div>\n",
       "<style scoped>\n",
       "    .dataframe tbody tr th:only-of-type {\n",
       "        vertical-align: middle;\n",
       "    }\n",
       "\n",
       "    .dataframe tbody tr th {\n",
       "        vertical-align: top;\n",
       "    }\n",
       "\n",
       "    .dataframe thead th {\n",
       "        text-align: right;\n",
       "    }\n",
       "</style>\n",
       "<table border=\"1\" class=\"dataframe\">\n",
       "  <thead>\n",
       "    <tr style=\"text-align: right;\">\n",
       "      <th></th>\n",
       "      <th>top</th>\n",
       "      <th>sim_thresh</th>\n",
       "      <th>model</th>\n",
       "      <th>retrieved</th>\n",
       "      <th>TP_amount</th>\n",
       "      <th>FP_amount</th>\n",
       "      <th>FN_amount</th>\n",
       "      <th>TP</th>\n",
       "      <th>FP</th>\n",
       "      <th>FN</th>\n",
       "      <th>precision</th>\n",
       "      <th>recall</th>\n",
       "    </tr>\n",
       "  </thead>\n",
       "  <tbody>\n",
       "    <tr>\n",
       "      <th>0</th>\n",
       "      <td>1</td>\n",
       "      <td>0.0</td>\n",
       "      <td>lsi</td>\n",
       "      <td>91</td>\n",
       "      <td>26</td>\n",
       "      <td>65</td>\n",
       "      <td>67</td>\n",
       "      <td>{(new_awesome_bar, 1339497), (new_awesome_bar,...</td>\n",
       "      <td>{(indicator_device_perm, 1319433), (webm_eme, ...</td>\n",
       "      <td>{(new_awesome_bar, 1408361), (browser_customiz...</td>\n",
       "      <td>28.57</td>\n",
       "      <td>26.18</td>\n",
       "    </tr>\n",
       "    <tr>\n",
       "      <th>3</th>\n",
       "      <td>1</td>\n",
       "      <td>0.0</td>\n",
       "      <td>lda</td>\n",
       "      <td>91</td>\n",
       "      <td>2</td>\n",
       "      <td>89</td>\n",
       "      <td>91</td>\n",
       "      <td>{(webgl_comp, 1312018), (context_menu, 1365887)}</td>\n",
       "      <td>{(pdf_viewer, 1302468), (webgl_comp, 1289240),...</td>\n",
       "      <td>{(new_awesome_bar, 1339497), (context_menu, 12...</td>\n",
       "      <td>2.20</td>\n",
       "      <td>1.24</td>\n",
       "    </tr>\n",
       "    <tr>\n",
       "      <th>6</th>\n",
       "      <td>1</td>\n",
       "      <td>0.0</td>\n",
       "      <td>bm25</td>\n",
       "      <td>91</td>\n",
       "      <td>28</td>\n",
       "      <td>63</td>\n",
       "      <td>65</td>\n",
       "      <td>{(new_awesome_bar, 1339497), (new_awesome_bar,...</td>\n",
       "      <td>{(indicator_device_perm, 1319433), (webm_eme, ...</td>\n",
       "      <td>{(browser_customization, 1279140), (new_awesom...</td>\n",
       "      <td>30.77</td>\n",
       "      <td>28.38</td>\n",
       "    </tr>\n",
       "    <tr>\n",
       "      <th>9</th>\n",
       "      <td>1</td>\n",
       "      <td>0.0</td>\n",
       "      <td>wordvector</td>\n",
       "      <td>91</td>\n",
       "      <td>16</td>\n",
       "      <td>75</td>\n",
       "      <td>77</td>\n",
       "      <td>{(new_awesome_bar, 1408361), (context_menu, 12...</td>\n",
       "      <td>{(windows_child_mode, 1313290), (context_menu,...</td>\n",
       "      <td>{(new_awesome_bar, 1339497), (pdf_viewer, 1365...</td>\n",
       "      <td>17.58</td>\n",
       "      <td>16.07</td>\n",
       "    </tr>\n",
       "    <tr>\n",
       "      <th>1</th>\n",
       "      <td>3</td>\n",
       "      <td>0.0</td>\n",
       "      <td>lsi</td>\n",
       "      <td>273</td>\n",
       "      <td>50</td>\n",
       "      <td>223</td>\n",
       "      <td>43</td>\n",
       "      <td>{(new_awesome_bar, 1339497), (new_awesome_bar,...</td>\n",
       "      <td>{(tts_in_desktop, 1294733), (w10_comp, 1277937...</td>\n",
       "      <td>{(browser_customization, 1279140), (pointer_lo...</td>\n",
       "      <td>18.32</td>\n",
       "      <td>47.31</td>\n",
       "    </tr>\n",
       "    <tr>\n",
       "      <th>4</th>\n",
       "      <td>3</td>\n",
       "      <td>0.0</td>\n",
       "      <td>lda</td>\n",
       "      <td>273</td>\n",
       "      <td>33</td>\n",
       "      <td>240</td>\n",
       "      <td>60</td>\n",
       "      <td>{(new_awesome_bar, 1339497), (new_awesome_bar,...</td>\n",
       "      <td>{(w10_comp, 1285328), (w10_comp, 1353831), (vi...</td>\n",
       "      <td>{(browser_customization, 1279140), (pointer_lo...</td>\n",
       "      <td>12.09</td>\n",
       "      <td>30.93</td>\n",
       "    </tr>\n",
       "    <tr>\n",
       "      <th>7</th>\n",
       "      <td>3</td>\n",
       "      <td>0.0</td>\n",
       "      <td>bm25</td>\n",
       "      <td>273</td>\n",
       "      <td>47</td>\n",
       "      <td>226</td>\n",
       "      <td>46</td>\n",
       "      <td>{(new_awesome_bar, 1339497), (new_awesome_bar,...</td>\n",
       "      <td>{(context_menu, 1311998), (flash_support, 1365...</td>\n",
       "      <td>{(browser_customization, 1279140), (pointer_lo...</td>\n",
       "      <td>17.22</td>\n",
       "      <td>45.22</td>\n",
       "    </tr>\n",
       "    <tr>\n",
       "      <th>10</th>\n",
       "      <td>3</td>\n",
       "      <td>0.0</td>\n",
       "      <td>wordvector</td>\n",
       "      <td>273</td>\n",
       "      <td>36</td>\n",
       "      <td>237</td>\n",
       "      <td>57</td>\n",
       "      <td>{(new_awesome_bar, 1339497), (new_awesome_bar,...</td>\n",
       "      <td>{(context_menu, 1311998), (windows_child_mode,...</td>\n",
       "      <td>{(browser_customization, 1279140), (pointer_lo...</td>\n",
       "      <td>13.19</td>\n",
       "      <td>34.23</td>\n",
       "    </tr>\n",
       "    <tr>\n",
       "      <th>2</th>\n",
       "      <td>5</td>\n",
       "      <td>0.0</td>\n",
       "      <td>lsi</td>\n",
       "      <td>455</td>\n",
       "      <td>57</td>\n",
       "      <td>398</td>\n",
       "      <td>36</td>\n",
       "      <td>{(new_awesome_bar, 1339497), (new_awesome_bar,...</td>\n",
       "      <td>{(context_menu, 1311998), (indicator_device_pe...</td>\n",
       "      <td>{(browser_customization, 1279140), (pointer_lo...</td>\n",
       "      <td>12.53</td>\n",
       "      <td>52.06</td>\n",
       "    </tr>\n",
       "    <tr>\n",
       "      <th>5</th>\n",
       "      <td>5</td>\n",
       "      <td>0.0</td>\n",
       "      <td>lda</td>\n",
       "      <td>455</td>\n",
       "      <td>45</td>\n",
       "      <td>410</td>\n",
       "      <td>48</td>\n",
       "      <td>{(new_awesome_bar, 1339497), (new_awesome_bar,...</td>\n",
       "      <td>{(context_menu, 1311998), (w10_comp, 1296322),...</td>\n",
       "      <td>{(browser_customization, 1279140), (pointer_lo...</td>\n",
       "      <td>9.89</td>\n",
       "      <td>42.28</td>\n",
       "    </tr>\n",
       "    <tr>\n",
       "      <th>8</th>\n",
       "      <td>5</td>\n",
       "      <td>0.0</td>\n",
       "      <td>bm25</td>\n",
       "      <td>455</td>\n",
       "      <td>54</td>\n",
       "      <td>401</td>\n",
       "      <td>39</td>\n",
       "      <td>{(new_awesome_bar, 1339497), (new_awesome_bar,...</td>\n",
       "      <td>{(context_menu, 1311998), (indicator_device_pe...</td>\n",
       "      <td>{(browser_customization, 1279140), (pdf_viewer...</td>\n",
       "      <td>11.87</td>\n",
       "      <td>49.32</td>\n",
       "    </tr>\n",
       "    <tr>\n",
       "      <th>11</th>\n",
       "      <td>5</td>\n",
       "      <td>0.0</td>\n",
       "      <td>wordvector</td>\n",
       "      <td>455</td>\n",
       "      <td>46</td>\n",
       "      <td>409</td>\n",
       "      <td>47</td>\n",
       "      <td>{(new_awesome_bar, 1339497), (new_awesome_bar,...</td>\n",
       "      <td>{(context_menu, 1311998), (w10_comp, 1296322),...</td>\n",
       "      <td>{(browser_customization, 1279140), (pointer_lo...</td>\n",
       "      <td>10.11</td>\n",
       "      <td>41.81</td>\n",
       "    </tr>\n",
       "  </tbody>\n",
       "</table>\n",
       "</div>"
      ],
      "text/plain": [
       "   top  sim_thresh       model retrieved TP_amount FP_amount FN_amount  \\\n",
       "0    1         0.0         lsi        91        26        65        67   \n",
       "3    1         0.0         lda        91         2        89        91   \n",
       "6    1         0.0        bm25        91        28        63        65   \n",
       "9    1         0.0  wordvector        91        16        75        77   \n",
       "1    3         0.0         lsi       273        50       223        43   \n",
       "4    3         0.0         lda       273        33       240        60   \n",
       "7    3         0.0        bm25       273        47       226        46   \n",
       "10   3         0.0  wordvector       273        36       237        57   \n",
       "2    5         0.0         lsi       455        57       398        36   \n",
       "5    5         0.0         lda       455        45       410        48   \n",
       "8    5         0.0        bm25       455        54       401        39   \n",
       "11   5         0.0  wordvector       455        46       409        47   \n",
       "\n",
       "                                                   TP  \\\n",
       "0   {(new_awesome_bar, 1339497), (new_awesome_bar,...   \n",
       "3    {(webgl_comp, 1312018), (context_menu, 1365887)}   \n",
       "6   {(new_awesome_bar, 1339497), (new_awesome_bar,...   \n",
       "9   {(new_awesome_bar, 1408361), (context_menu, 12...   \n",
       "1   {(new_awesome_bar, 1339497), (new_awesome_bar,...   \n",
       "4   {(new_awesome_bar, 1339497), (new_awesome_bar,...   \n",
       "7   {(new_awesome_bar, 1339497), (new_awesome_bar,...   \n",
       "10  {(new_awesome_bar, 1339497), (new_awesome_bar,...   \n",
       "2   {(new_awesome_bar, 1339497), (new_awesome_bar,...   \n",
       "5   {(new_awesome_bar, 1339497), (new_awesome_bar,...   \n",
       "8   {(new_awesome_bar, 1339497), (new_awesome_bar,...   \n",
       "11  {(new_awesome_bar, 1339497), (new_awesome_bar,...   \n",
       "\n",
       "                                                   FP  \\\n",
       "0   {(indicator_device_perm, 1319433), (webm_eme, ...   \n",
       "3   {(pdf_viewer, 1302468), (webgl_comp, 1289240),...   \n",
       "6   {(indicator_device_perm, 1319433), (webm_eme, ...   \n",
       "9   {(windows_child_mode, 1313290), (context_menu,...   \n",
       "1   {(tts_in_desktop, 1294733), (w10_comp, 1277937...   \n",
       "4   {(w10_comp, 1285328), (w10_comp, 1353831), (vi...   \n",
       "7   {(context_menu, 1311998), (flash_support, 1365...   \n",
       "10  {(context_menu, 1311998), (windows_child_mode,...   \n",
       "2   {(context_menu, 1311998), (indicator_device_pe...   \n",
       "5   {(context_menu, 1311998), (w10_comp, 1296322),...   \n",
       "8   {(context_menu, 1311998), (indicator_device_pe...   \n",
       "11  {(context_menu, 1311998), (w10_comp, 1296322),...   \n",
       "\n",
       "                                                   FN  precision  recall  \n",
       "0   {(new_awesome_bar, 1408361), (browser_customiz...      28.57   26.18  \n",
       "3   {(new_awesome_bar, 1339497), (context_menu, 12...       2.20    1.24  \n",
       "6   {(browser_customization, 1279140), (new_awesom...      30.77   28.38  \n",
       "9   {(new_awesome_bar, 1339497), (pdf_viewer, 1365...      17.58   16.07  \n",
       "1   {(browser_customization, 1279140), (pointer_lo...      18.32   47.31  \n",
       "4   {(browser_customization, 1279140), (pointer_lo...      12.09   30.93  \n",
       "7   {(browser_customization, 1279140), (pointer_lo...      17.22   45.22  \n",
       "10  {(browser_customization, 1279140), (pointer_lo...      13.19   34.23  \n",
       "2   {(browser_customization, 1279140), (pointer_lo...      12.53   52.06  \n",
       "5   {(browser_customization, 1279140), (pointer_lo...       9.89   42.28  \n",
       "8   {(browser_customization, 1279140), (pdf_viewer...      11.87   49.32  \n",
       "11  {(browser_customization, 1279140), (pointer_lo...      10.11   41.81  "
      ]
     },
     "execution_count": 23,
     "metadata": {},
     "output_type": "execute_result"
    }
   ],
   "source": [
    "import pandas as pd\n",
    "\n",
    "models = ['lsi','lda','bm25','wordvector']\n",
    "tops = [1,3,5]\n",
    "cosines = [0.0]\n",
    "\n",
    "oracle = vol_strat_runner.get_oracle()\n",
    "\n",
    "final_df = pd.DataFrame(columns=['top','sim_thresh','model','retrieved','TP_amount','FP_amount','FN_amount','TP','FP','FN','precision','recall'])\n",
    "\n",
    "for m in models:\n",
    "    for top in tops:\n",
    "        for cos in cosines:\n",
    "            df = evals_df_4[(evals_df_4.ref_name == 'top_{}_cosine_{}'.format(top,cos)) & (evals_df_4.model == m)].iloc[0,:]\n",
    "            trace_links = df.trace_links_df\n",
    "            \n",
    "            tp = aux_functions.get_true_positives(oracle_df=oracle, output_df=trace_links)\n",
    "            fp = aux_functions.get_false_positives(oracle_df=oracle, output_df=trace_links)\n",
    "            fn = aux_functions.get_false_negatives(oracle_df=oracle, output_df=trace_links)\n",
    "            \n",
    "            ans = {'top':top, \n",
    "                   'sim_thresh':cos, \n",
    "                   'model':m,\n",
    "                   'retrieved': sum([trace_links[col].sum() for col in trace_links.columns]),\n",
    "                   'precision': df.perc_precision,\n",
    "                   'recall': df.perc_recall,\n",
    "                   'TP':tp,\n",
    "                   'TP_amount':len(tp),\n",
    "                   'FP':fp,\n",
    "                   'FP_amount':len(fp),\n",
    "                   'FN':fn,\n",
    "                   'FN_amount':len(fn)} \n",
    "                        \n",
    "            final_df = final_df.append(ans, ignore_index=True)\n",
    "\n",
    "final_df.sort_values(by='retrieved', inplace=True)\n",
    "final_df.head(50)"
   ]
  },
  {
   "cell_type": "markdown",
   "metadata": {},
   "source": [
    "### True Traces"
   ]
  },
  {
   "cell_type": "code",
   "execution_count": 31,
   "metadata": {},
   "outputs": [
    {
     "name": "stdout",
     "output_type": "stream",
     "text": [
      "len(oracle_true_traces): 93\n"
     ]
    }
   ],
   "source": [
    "oracle_true_traces = set()\n",
    "\n",
    "for idx,row in oracle.iterrows():\n",
    "    for col in oracle.columns:\n",
    "        if oracle.at[idx, col] == 1:\n",
    "            oracle_true_traces.add((idx,col))\n",
    "\n",
    "print('len(oracle_true_traces): {}'.format(len(oracle_true_traces)))"
   ]
  },
  {
   "cell_type": "markdown",
   "metadata": {},
   "source": [
    "### Traces Not Captured by Any Technique"
   ]
  },
  {
   "cell_type": "code",
   "execution_count": 46,
   "metadata": {},
   "outputs": [],
   "source": [
    "def get_captured_traces_union(top_value):\n",
    "    bm25_true_traces = final_df[(final_df.model == 'bm25') & (final_df.top == top_value)].iloc[0,:].TP\n",
    "    lsi_true_traces = final_df[(final_df.model == 'lsi') & (final_df.top == top_value)].iloc[0,:].TP\n",
    "    lda_true_traces = final_df[(final_df.model == 'lda') & (final_df.top == top_value)].iloc[0,:].TP\n",
    "    wordvector_true_traces = final_df[(final_df.model == 'wordvector') & (final_df.top == top_value)].iloc[0,:].TP\n",
    "    \n",
    "    return(bm25_true_traces | lsi_true_traces | lda_true_traces | wordvector_true_traces)"
   ]
  },
  {
   "cell_type": "markdown",
   "metadata": {},
   "source": [
    "#### TOP 1"
   ]
  },
  {
   "cell_type": "code",
   "execution_count": 47,
   "metadata": {},
   "outputs": [
    {
     "name": "stdout",
     "output_type": "stream",
     "text": [
      "len(not_captured_traces): 59\n",
      "percent not_captured_traces: 59/93 * 100 : 63.44%\n"
     ]
    }
   ],
   "source": [
    "all_captured_traces = get_captured_traces_union(top_value=1)\n",
    "not_captured_traces = oracle_true_traces - all_captured_traces\n",
    "\n",
    "print('len(not_captured_traces): {}'.format(len(not_captured_traces)))\n",
    "print('percent not_captured_traces: {}/{} * 100 : {:2.4}%'.format(len(not_captured_traces), len(oracle_true_traces), len(not_captured_traces)/len(oracle_true_traces)*100))"
   ]
  },
  {
   "cell_type": "markdown",
   "metadata": {},
   "source": [
    "#### TOP 3"
   ]
  },
  {
   "cell_type": "code",
   "execution_count": 48,
   "metadata": {},
   "outputs": [
    {
     "name": "stdout",
     "output_type": "stream",
     "text": [
      "len(not_captured_traces): 32\n",
      "percent not_captured_traces: 32/93 * 100 : 34.41%\n"
     ]
    }
   ],
   "source": [
    "all_captured_traces = get_captured_traces_union(top_value=3)\n",
    "not_captured_traces = oracle_true_traces - all_captured_traces\n",
    "\n",
    "print('len(not_captured_traces): {}'.format(len(not_captured_traces)))\n",
    "print('percent not_captured_traces: {}/{} * 100 : {:2.4}%'.format(len(not_captured_traces), len(oracle_true_traces), len(not_captured_traces)/len(oracle_true_traces)*100))"
   ]
  },
  {
   "cell_type": "markdown",
   "metadata": {},
   "source": [
    "#### TOP 5"
   ]
  },
  {
   "cell_type": "code",
   "execution_count": 49,
   "metadata": {},
   "outputs": [
    {
     "name": "stdout",
     "output_type": "stream",
     "text": [
      "len(not_captured_traces): 23\n",
      "percent not_captured_traces: 23/93 * 100 : 24.73%\n"
     ]
    }
   ],
   "source": [
    "all_captured_traces = get_captured_traces_union(top_value=5)\n",
    "not_captured_traces = oracle_true_traces - all_captured_traces\n",
    "\n",
    "print('len(not_captured_traces): {}'.format(len(not_captured_traces)))\n",
    "print('percent not_captured_traces: {}/{} * 100 : {:2.4}%'.format(len(not_captured_traces), len(oracle_true_traces), len(not_captured_traces)/len(oracle_true_traces)*100))"
   ]
  },
  {
   "cell_type": "markdown",
   "metadata": {},
   "source": [
    "### Traces Captured by Every Technique"
   ]
  },
  {
   "cell_type": "code",
   "execution_count": 51,
   "metadata": {},
   "outputs": [],
   "source": [
    "def get_captured_traces_intersec(top_value):\n",
    "    bm25_true_traces = final_df[(final_df.model == 'bm25') & (final_df.top == top_value)].iloc[0,:].TP\n",
    "    lsi_true_traces = final_df[(final_df.model == 'lsi') & (final_df.top == top_value)].iloc[0,:].TP\n",
    "    lda_true_traces = final_df[(final_df.model == 'lda') & (final_df.top == top_value)].iloc[0,:].TP\n",
    "    wordvector_true_traces = final_df[(final_df.model == 'wordvector') & (final_df.top == top_value)].iloc[0,:].TP\n",
    "    \n",
    "    return(bm25_true_traces & lsi_true_traces & lda_true_traces & wordvector_true_traces)"
   ]
  },
  {
   "cell_type": "markdown",
   "metadata": {},
   "source": [
    "#### TOP 1"
   ]
  },
  {
   "cell_type": "code",
   "execution_count": 52,
   "metadata": {},
   "outputs": [
    {
     "name": "stdout",
     "output_type": "stream",
     "text": [
      "len(traces_captured_by_all): 0\n",
      "percent traces_captured_by_all: 0/93 * 100 : 0.0%\n"
     ]
    }
   ],
   "source": [
    "traces_captured_by_all = get_captured_traces_intersec(1)\n",
    "\n",
    "print('len(traces_captured_by_all): {}'.format(len(traces_captured_by_all)))\n",
    "print('percent traces_captured_by_all: {}/{} * 100 : {:2.4}%'.format(len(traces_captured_by_all), len(oracle_true_traces), len(traces_captured_by_all)/len(oracle_true_traces) *100))"
   ]
  },
  {
   "cell_type": "markdown",
   "metadata": {},
   "source": [
    "#### TOP 3"
   ]
  },
  {
   "cell_type": "code",
   "execution_count": 53,
   "metadata": {},
   "outputs": [
    {
     "name": "stdout",
     "output_type": "stream",
     "text": [
      "len(traces_captured_by_all): 24\n",
      "percent traces_captured_by_all: 24/93 * 100 : 25.81%\n"
     ]
    }
   ],
   "source": [
    "traces_captured_by_all = get_captured_traces_intersec(3)\n",
    "\n",
    "print('len(traces_captured_by_all): {}'.format(len(traces_captured_by_all)))\n",
    "print('percent traces_captured_by_all: {}/{} * 100 : {:2.4}%'.format(len(traces_captured_by_all), len(oracle_true_traces), len(traces_captured_by_all)/len(oracle_true_traces) *100))"
   ]
  },
  {
   "cell_type": "markdown",
   "metadata": {},
   "source": [
    "#### TOP 5"
   ]
  },
  {
   "cell_type": "code",
   "execution_count": 54,
   "metadata": {},
   "outputs": [
    {
     "name": "stdout",
     "output_type": "stream",
     "text": [
      "len(traces_captured_by_all): 34\n",
      "percent traces_captured_by_all: 34/93 * 100 : 36.56%\n"
     ]
    }
   ],
   "source": [
    "traces_captured_by_all = get_captured_traces_intersec(5)\n",
    "\n",
    "print('len(traces_captured_by_all): {}'.format(len(traces_captured_by_all)))\n",
    "print('percent traces_captured_by_all: {}/{} * 100 : {:2.4}%'.format(len(traces_captured_by_all), len(oracle_true_traces), len(traces_captured_by_all)/len(oracle_true_traces) *100))"
   ]
  },
  {
   "cell_type": "markdown",
   "metadata": {},
   "source": [
    "### Delete Variables"
   ]
  },
  {
   "cell_type": "raw",
   "metadata": {},
   "source": [
    "del lsi_model_4, lda_model_4, bm25_model_4, w2v_model_4\n",
    "del evals_df_4\n",
    "del models_runner_4, evaluator_4"
   ]
  },
  {
   "cell_type": "markdown",
   "metadata": {
    "toc-hr-collapsed": true
   },
   "source": [
    "## Union Strategy"
   ]
  },
  {
   "cell_type": "code",
   "execution_count": null,
   "metadata": {},
   "outputs": [],
   "source": [
    "exp_vol_union_strat_runner = feat_br_strat_runner.Feat_BR_Exp_Vol_Union_Strat_Runner()\n",
    "exp_vol_union_strat_runner.execute()\n",
    "\n",
    "evaluator_1 = exp_vol_union_strat_runner.get_evaluator() \n",
    "evals_df_1 = exp_vol_union_strat_runner.get_evals_df()"
   ]
  },
  {
   "cell_type": "markdown",
   "metadata": {},
   "source": [
    "### Results"
   ]
  },
  {
   "cell_type": "code",
   "execution_count": null,
   "metadata": {},
   "outputs": [],
   "source": [
    "evals_df_1.head()"
   ]
  },
  {
   "cell_type": "code",
   "execution_count": null,
   "metadata": {},
   "outputs": [],
   "source": [
    "evaluator_1.plot_evaluations_4(evals_df_1)"
   ]
  },
  {
   "cell_type": "code",
   "execution_count": null,
   "metadata": {},
   "outputs": [],
   "source": [
    "evaluator_1.plot_evaluations_5(evals_df_1)"
   ]
  },
  {
   "cell_type": "markdown",
   "metadata": {},
   "source": [
    "### Plots"
   ]
  },
  {
   "cell_type": "raw",
   "metadata": {},
   "source": [
    "evaluator_1.plot_evaluations_1(evals_df=evals_df_1, title='Exp-Vol Union Strategy')"
   ]
  },
  {
   "cell_type": "code",
   "execution_count": null,
   "metadata": {},
   "outputs": [],
   "source": [
    "evaluator_1.plot_evaluations_3(evals_df_1, title='BR-Feat Traceability Recovery - Exp-Vol Union Strategy')"
   ]
  },
  {
   "cell_type": "markdown",
   "metadata": {},
   "source": [
    "### Delete Variables"
   ]
  },
  {
   "cell_type": "raw",
   "metadata": {},
   "source": [
    "del lsi_model_1, lda_model_1, bm25_model_1, w2v_model_1\n",
    "del evals_df_1\n",
    "del models_runner_1, evaluator_1"
   ]
  },
  {
   "cell_type": "markdown",
   "metadata": {
    "toc-hr-collapsed": true
   },
   "source": [
    "## Intersec Strategy"
   ]
  },
  {
   "cell_type": "code",
   "execution_count": null,
   "metadata": {},
   "outputs": [],
   "source": [
    "exp_vol_intersec_strat_runner = feat_br_strat_runner.Feat_BR_Exp_Vol_Intersec_Strat_Runner()\n",
    "exp_vol_intersec_strat_runner.execute()\n",
    "\n",
    "evaluator_2 = exp_vol_intersec_strat_runner.get_evaluator() \n",
    "evals_df_2 = exp_vol_intersec_strat_runner.get_evals_df()"
   ]
  },
  {
   "cell_type": "markdown",
   "metadata": {},
   "source": [
    "### Results"
   ]
  },
  {
   "cell_type": "code",
   "execution_count": null,
   "metadata": {},
   "outputs": [],
   "source": [
    "evals_df_2.head()"
   ]
  },
  {
   "cell_type": "markdown",
   "metadata": {},
   "source": [
    "### Plots"
   ]
  },
  {
   "cell_type": "raw",
   "metadata": {},
   "source": [
    "evaluator_2.plot_evaluations_1(evals_df=evals_df_2, title='Exp-Vol Intersec Strategy')"
   ]
  },
  {
   "cell_type": "code",
   "execution_count": null,
   "metadata": {},
   "outputs": [],
   "source": [
    "evaluator_2.plot_evaluations_3(evals_df_2, title='BR-Feat Traceability Recovery - Exp-Vol Intersec Strategy')"
   ]
  },
  {
   "cell_type": "code",
   "execution_count": null,
   "metadata": {},
   "outputs": [],
   "source": [
    "evaluator_2.plot_evaluations_4(evals_df_2)"
   ]
  },
  {
   "cell_type": "code",
   "execution_count": null,
   "metadata": {},
   "outputs": [],
   "source": [
    "evaluator_2.plot_evaluations_5(evals_df_2)"
   ]
  },
  {
   "cell_type": "markdown",
   "metadata": {},
   "source": [
    "### Delete Variables"
   ]
  },
  {
   "cell_type": "raw",
   "metadata": {},
   "source": [
    "del lsi_model_2, lda_model_2, bm25_model_2, w2v_model_2\n",
    "del evals_df_2\n",
    "del models_runner_2, evaluator_2"
   ]
  },
  {
   "cell_type": "markdown",
   "metadata": {
    "toc-hr-collapsed": true
   },
   "source": [
    "## Expert Only Strategy"
   ]
  },
  {
   "cell_type": "code",
   "execution_count": null,
   "metadata": {},
   "outputs": [],
   "source": [
    "exp_strat_runner = feat_br_strat_runner.Feat_BR_Exp_Strat_Runner()\n",
    "exp_strat_runner.execute()\n",
    "\n",
    "evaluator_3 = exp_strat_runner.get_evaluator() \n",
    "evals_df_3 = exp_strat_runner.get_evals_df()"
   ]
  },
  {
   "cell_type": "markdown",
   "metadata": {},
   "source": [
    "### Results"
   ]
  },
  {
   "cell_type": "code",
   "execution_count": null,
   "metadata": {},
   "outputs": [],
   "source": [
    "evals_df_3.head()"
   ]
  },
  {
   "cell_type": "markdown",
   "metadata": {},
   "source": [
    "### Plots"
   ]
  },
  {
   "cell_type": "raw",
   "metadata": {},
   "source": [
    "evaluator_3.plot_evaluations_1(evals_df=evals_df_3, title='Expert Only Strategy')"
   ]
  },
  {
   "cell_type": "code",
   "execution_count": null,
   "metadata": {},
   "outputs": [],
   "source": [
    "evaluator_3.plot_evaluations_3(evals_df_3, title='BR-Feat Traceability Recovery - Expert-Only Strategy')"
   ]
  },
  {
   "cell_type": "code",
   "execution_count": null,
   "metadata": {},
   "outputs": [],
   "source": [
    "evaluator_3.plot_evaluations_4(evals_df_3)"
   ]
  },
  {
   "cell_type": "code",
   "execution_count": null,
   "metadata": {},
   "outputs": [],
   "source": [
    "evaluator_3.plot_evaluations_5(evals_df_3)"
   ]
  },
  {
   "cell_type": "markdown",
   "metadata": {},
   "source": [
    "### Delete Variables"
   ]
  },
  {
   "cell_type": "raw",
   "metadata": {},
   "source": [
    "del lsi_model_3, lda_model_3, bm25_model_3, w2v_model_3\n",
    "del evals_df_3\n",
    "del models_runner_3, evaluator_3"
   ]
  }
 ],
 "metadata": {
  "kernelspec": {
   "display_name": "Python 3",
   "language": "python",
   "name": "python3"
  },
  "language_info": {
   "codemirror_mode": {
    "name": "ipython",
    "version": 3
   },
   "file_extension": ".py",
   "mimetype": "text/x-python",
   "name": "python",
   "nbconvert_exporter": "python",
   "pygments_lexer": "ipython3",
   "version": "3.7.3"
  },
  "toc-autonumbering": true,
  "toc-showcode": false,
  "toc-showmarkdowntxt": true,
  "toc-showtags": false
 },
 "nbformat": 4,
 "nbformat_minor": 2
}

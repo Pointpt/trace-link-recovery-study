{
 "cells": [
  {
   "cell_type": "markdown",
   "metadata": {},
   "source": [
    "# Introduction\n",
    "\n",
    "Notebook to aggregate the running of models in the context of traceability between features and bug reports."
   ]
  },
  {
   "cell_type": "markdown",
   "metadata": {
    "toc-hr-collapsed": false
   },
   "source": [
    "# Load Libraries and Datasets"
   ]
  },
  {
   "cell_type": "code",
   "execution_count": 1,
   "metadata": {},
   "outputs": [],
   "source": [
    "from mod_finder_util import mod_finder_util\n",
    "mod_finder_util.add_modules_origin_search_path()\n",
    "\n",
    "import pandas as pd\n",
    "import numpy as np\n",
    "import matplotlib.pyplot as plt\n",
    "from matplotlib_venn import venn3\n",
    "\n",
    "from modules.models_runner.feat_br_models_runner import Feat_BR_Models_Runner\n",
    "from modules.utils import firefox_dataset_p2 as fd\n",
    "from modules.utils import aux_functions\n",
    "from modules.utils import model_evaluator as m_eval\n",
    "from modules.utils import similarity_measures as sm\n",
    "\n",
    "import warnings; warnings.simplefilter('ignore')"
   ]
  },
  {
   "cell_type": "markdown",
   "metadata": {},
   "source": [
    "# Run All Models"
   ]
  },
  {
   "cell_type": "markdown",
   "metadata": {},
   "source": [
    "## Volunteers Only Strategy"
   ]
  },
  {
   "cell_type": "code",
   "execution_count": 2,
   "metadata": {},
   "outputs": [
    {
     "name": "stdout",
     "output_type": "stream",
     "text": [
      "Features.shape: (19, 8)\n",
      "SelectedBugReports.shape: (91, 18)\n",
      "Running LSI model -----\n",
      "Running LDA model -----\n",
      "Running BM25 model -----\n",
      "Running W2V model -----\n",
      "Feat_BR Volunteers Matrix shape: (91, 19)\n",
      "Evaluating LSI Model ----- \n",
      "Evaluating LDA Model ----- \n",
      "Evaluating BM25 Model ----- \n",
      "Evaluating WORDVECTOR Model ----- \n"
     ]
    }
   ],
   "source": [
    "models_runner_4 = Feat_BR_Models_Runner()\n",
    "lsi_model_4 = models_runner_4.run_lsi_model()\n",
    "lda_model_4 = models_runner_4.run_lda_model()\n",
    "bm25_model_4 = models_runner_4.run_bm25_model()\n",
    "w2v_model_4 = models_runner_4.run_word2vec_model()\n",
    "\n",
    "oracle = fd.Feat_BR_Oracles.read_feat_br_volunteers_df().T\n",
    "\n",
    "evaluator_4 = m_eval.ModelEvaluator(oracle)\n",
    "evals_df_4 = evaluator_4.run_evaluator(models=[lsi_model_4,lda_model_4,bm25_model_4,w2v_model_4],\n",
    "                                       top_values=[1,3,5], \n",
    "                                       sim_thresholds=[(sm.SimilarityMeasure.COSINE, x/10) for x in range(0,10)])"
   ]
  },
  {
   "cell_type": "markdown",
   "metadata": {},
   "source": [
    "### Load Datasets"
   ]
  },
  {
   "cell_type": "code",
   "execution_count": 3,
   "metadata": {},
   "outputs": [
    {
     "name": "stdout",
     "output_type": "stream",
     "text": [
      "SelectedBugReports.shape: (91, 18)\n",
      "Features.shape: (19, 8)\n"
     ]
    }
   ],
   "source": [
    "bugreports = fd.Datasets.read_selected_bugreports_df()\n",
    "features = fd.Datasets.read_features_df()"
   ]
  },
  {
   "cell_type": "markdown",
   "metadata": {},
   "source": [
    "### Results"
   ]
  },
  {
   "cell_type": "code",
   "execution_count": 4,
   "metadata": {},
   "outputs": [
    {
     "data": {
      "text/html": [
       "<div>\n",
       "<style scoped>\n",
       "    .dataframe tbody tr th:only-of-type {\n",
       "        vertical-align: middle;\n",
       "    }\n",
       "\n",
       "    .dataframe tbody tr th {\n",
       "        vertical-align: top;\n",
       "    }\n",
       "\n",
       "    .dataframe thead th {\n",
       "        text-align: right;\n",
       "    }\n",
       "</style>\n",
       "<table border=\"1\" class=\"dataframe\">\n",
       "  <thead>\n",
       "    <tr style=\"text-align: right;\">\n",
       "      <th></th>\n",
       "      <th>model</th>\n",
       "      <th>ref_name</th>\n",
       "      <th>perc_precision</th>\n",
       "      <th>perc_recall</th>\n",
       "      <th>perc_fscore</th>\n",
       "      <th>eval_df</th>\n",
       "      <th>sim_threshold</th>\n",
       "      <th>top</th>\n",
       "      <th>trace_links_df</th>\n",
       "    </tr>\n",
       "  </thead>\n",
       "  <tbody>\n",
       "    <tr>\n",
       "      <th>0</th>\n",
       "      <td>lsi</td>\n",
       "      <td>top_1_cosine_0.0</td>\n",
       "      <td>28.57</td>\n",
       "      <td>26.18</td>\n",
       "      <td>26.62</td>\n",
       "      <td>precision  recall    fscore\n",
       "Bug_Nu...</td>\n",
       "      <td>0.0</td>\n",
       "      <td>1.0</td>\n",
       "      <td>Bug_Number               1248267  1248268  125...</td>\n",
       "    </tr>\n",
       "    <tr>\n",
       "      <th>1</th>\n",
       "      <td>lsi</td>\n",
       "      <td>top_1_cosine_0.1</td>\n",
       "      <td>28.57</td>\n",
       "      <td>26.18</td>\n",
       "      <td>26.62</td>\n",
       "      <td>precision  recall    fscore\n",
       "Bug_Nu...</td>\n",
       "      <td>0.1</td>\n",
       "      <td>1.0</td>\n",
       "      <td>Bug_Number               1248267  1248268  125...</td>\n",
       "    </tr>\n",
       "    <tr>\n",
       "      <th>2</th>\n",
       "      <td>lsi</td>\n",
       "      <td>top_1_cosine_0.2</td>\n",
       "      <td>28.57</td>\n",
       "      <td>26.18</td>\n",
       "      <td>26.62</td>\n",
       "      <td>precision  recall    fscore\n",
       "Bug_Nu...</td>\n",
       "      <td>0.2</td>\n",
       "      <td>1.0</td>\n",
       "      <td>Bug_Number               1248267  1248268  125...</td>\n",
       "    </tr>\n",
       "    <tr>\n",
       "      <th>3</th>\n",
       "      <td>lsi</td>\n",
       "      <td>top_1_cosine_0.3</td>\n",
       "      <td>28.57</td>\n",
       "      <td>26.18</td>\n",
       "      <td>26.62</td>\n",
       "      <td>precision  recall    fscore\n",
       "Bug_Nu...</td>\n",
       "      <td>0.3</td>\n",
       "      <td>1.0</td>\n",
       "      <td>Bug_Number               1248267  1248268  125...</td>\n",
       "    </tr>\n",
       "    <tr>\n",
       "      <th>4</th>\n",
       "      <td>lsi</td>\n",
       "      <td>top_1_cosine_0.4</td>\n",
       "      <td>28.57</td>\n",
       "      <td>26.18</td>\n",
       "      <td>26.62</td>\n",
       "      <td>precision  recall    fscore\n",
       "Bug_Nu...</td>\n",
       "      <td>0.4</td>\n",
       "      <td>1.0</td>\n",
       "      <td>Bug_Number               1248267  1248268  125...</td>\n",
       "    </tr>\n",
       "  </tbody>\n",
       "</table>\n",
       "</div>"
      ],
      "text/plain": [
       "  model          ref_name  perc_precision  perc_recall  perc_fscore  \\\n",
       "0   lsi  top_1_cosine_0.0           28.57        26.18        26.62   \n",
       "1   lsi  top_1_cosine_0.1           28.57        26.18        26.62   \n",
       "2   lsi  top_1_cosine_0.2           28.57        26.18        26.62   \n",
       "3   lsi  top_1_cosine_0.3           28.57        26.18        26.62   \n",
       "4   lsi  top_1_cosine_0.4           28.57        26.18        26.62   \n",
       "\n",
       "                                             eval_df  sim_threshold  top  \\\n",
       "0              precision  recall    fscore\n",
       "Bug_Nu...            0.0  1.0   \n",
       "1              precision  recall    fscore\n",
       "Bug_Nu...            0.1  1.0   \n",
       "2              precision  recall    fscore\n",
       "Bug_Nu...            0.2  1.0   \n",
       "3              precision  recall    fscore\n",
       "Bug_Nu...            0.3  1.0   \n",
       "4              precision  recall    fscore\n",
       "Bug_Nu...            0.4  1.0   \n",
       "\n",
       "                                      trace_links_df  \n",
       "0  Bug_Number               1248267  1248268  125...  \n",
       "1  Bug_Number               1248267  1248268  125...  \n",
       "2  Bug_Number               1248267  1248268  125...  \n",
       "3  Bug_Number               1248267  1248268  125...  \n",
       "4  Bug_Number               1248267  1248268  125...  "
      ]
     },
     "execution_count": 4,
     "metadata": {},
     "output_type": "execute_result"
    }
   ],
   "source": [
    "evals_df_4.head()"
   ]
  },
  {
   "cell_type": "markdown",
   "metadata": {},
   "source": [
    "### Grouping Results by Model"
   ]
  },
  {
   "cell_type": "markdown",
   "metadata": {},
   "source": [
    "#### Function to Return Trace_Links_DF"
   ]
  },
  {
   "cell_type": "code",
   "execution_count": 5,
   "metadata": {},
   "outputs": [],
   "source": [
    "def get_trace_links_df(model, perc_precision=\"\", perc_recall=\"\"):\n",
    "    if perc_precision != \"\":\n",
    "        df = evals_df_4[(evals_df_4.model == model) & (evals_df_4.perc_precision == perc_precision)]\n",
    "        return df.iloc[-1,:].trace_links_df\n",
    "    elif perc_recall != \"\":\n",
    "        df = evals_df_4[(evals_df_4.model == model) & (evals_df_4.perc_recall == perc_recall)]\n",
    "        return df.iloc[-1,:].trace_links_df"
   ]
  },
  {
   "cell_type": "markdown",
   "metadata": {},
   "source": [
    "#### Min Precision"
   ]
  },
  {
   "cell_type": "code",
   "execution_count": 6,
   "metadata": {},
   "outputs": [
    {
     "name": "stdout",
     "output_type": "stream",
     "text": [
      "model\n",
      "bm25          11.65\n",
      "lda            3.66\n",
      "lsi           12.53\n",
      "wordvector     9.67\n",
      "Name: perc_precision, dtype: float64\n"
     ]
    }
   ],
   "source": [
    "group = evals_df_4.groupby('model').perc_precision.min()\n",
    "print(group)\n",
    "\n",
    "bm25_min_prec = group[group.index == 'bm25'].values[0]\n",
    "lsi_min_prec = group[group.index == 'lsi'].values[0]\n",
    "lda_min_prec = group[group.index == 'lda'].values[0]\n",
    "wv_min_prec = group[group.index == 'wordvector'].values[0]"
   ]
  },
  {
   "cell_type": "markdown",
   "metadata": {},
   "source": [
    "#### Lists of Results"
   ]
  },
  {
   "cell_type": "code",
   "execution_count": 7,
   "metadata": {},
   "outputs": [],
   "source": [
    "bm25_tp_set = aux_functions.get_true_positives( oracle, get_trace_links_df(model='bm25', perc_precision=bm25_min_prec))\n",
    "bm25_fp_set = aux_functions.get_false_positives(oracle, get_trace_links_df(model='bm25', perc_precision=bm25_min_prec))\n",
    "bm25_fn_set = aux_functions.get_false_negatives(oracle, get_trace_links_df(model='bm25', perc_precision=bm25_min_prec))\n",
    "\n",
    "lsi_tp_set = aux_functions.get_true_positives( oracle, get_trace_links_df(model='lsi', perc_precision=lsi_min_prec))\n",
    "lsi_fp_set = aux_functions.get_false_positives(oracle, get_trace_links_df(model='lsi', perc_precision=lsi_min_prec))\n",
    "lsi_fn_set = aux_functions.get_false_negatives(oracle, get_trace_links_df(model='lsi', perc_precision=lsi_min_prec))\n",
    "\n",
    "lda_tp_set = aux_functions.get_true_positives( oracle, get_trace_links_df(model='lda', perc_precision=lda_min_prec))\n",
    "lda_fp_set = aux_functions.get_false_positives(oracle, get_trace_links_df(model='lda', perc_precision=lda_min_prec))\n",
    "lda_fn_set = aux_functions.get_false_negatives(oracle, get_trace_links_df(model='lda', perc_precision=lda_min_prec))\n",
    "\n",
    "wv_tp_set = aux_functions.get_true_positives( oracle, get_trace_links_df(model='wordvector', perc_precision=wv_min_prec))\n",
    "wv_fp_set = aux_functions.get_false_positives(oracle, get_trace_links_df(model='wordvector', perc_precision=wv_min_prec))\n",
    "wv_fn_set = aux_functions.get_false_negatives(oracle, get_trace_links_df(model='wordvector', perc_precision=wv_min_prec))"
   ]
  },
  {
   "cell_type": "markdown",
   "metadata": {},
   "source": [
    "##### BM25 vs LSI vs LDA"
   ]
  },
  {
   "cell_type": "code",
   "execution_count": 12,
   "metadata": {},
   "outputs": [
    {
     "data": {
      "image/png": "[encoded data removed]",
      "text/plain": [
       "<Figure size 432x288 with 1 Axes>"
      ]
     },
     "metadata": {},
     "output_type": "display_data"
    }
   ],
   "source": [
    "venn3([bm25_tp_set, lsi_tp_set, lda_tp_set], ['BM25','LSI','LDA'])\n",
    "plt.title('Comparison True Positives by Model')\n",
    "plt.show()"
   ]
  },
  {
   "cell_type": "markdown",
   "metadata": {},
   "source": [
    "##### BM25 vs WV vs LDA"
   ]
  },
  {
   "cell_type": "code",
   "execution_count": 9,
   "metadata": {},
   "outputs": [
    {
     "data": {
      "image/png": "[encoded data removed]",
      "text/plain": [
       "<Figure size 432x288 with 1 Axes>"
      ]
     },
     "metadata": {},
     "output_type": "display_data"
    }
   ],
   "source": [
    "venn3([bm25_tp_set, wv_tp_set, lda_tp_set], ['BM25','WV','LDA'])\n",
    "plt.title('Comparison True Positives by Model')\n",
    "plt.show()"
   ]
  },
  {
   "cell_type": "markdown",
   "metadata": {},
   "source": [
    "##### LSI vs WV vs LDA"
   ]
  },
  {
   "cell_type": "code",
   "execution_count": 14,
   "metadata": {},
   "outputs": [
    {
     "data": {
      "image/png": "[encoded data removed]",
      "text/plain": [
       "<Figure size 432x288 with 1 Axes>"
      ]
     },
     "metadata": {},
     "output_type": "display_data"
    }
   ],
   "source": [
    "venn3([lsi_tp_set, wv_tp_set, lda_tp_set], ['LSI','WV','LDA'])\n",
    "plt.title('Comparison True Positives by Model')\n",
    "plt.show()"
   ]
  },
  {
   "cell_type": "code",
   "execution_count": 15,
   "metadata": {},
   "outputs": [
    {
     "data": {
      "text/plain": [
       "{('apz_async_scrolling', 1287687),\n",
       " ('apz_async_scrolling', 1295502),\n",
       " ('downloads_dropmaker', 1432915),\n",
       " ('flac_support', 1335538),\n",
       " ('new_awesome_bar', 1451475),\n",
       " ('pointer_lock_api', 1314643)}"
      ]
     },
     "execution_count": 15,
     "metadata": {},
     "output_type": "execute_result"
    }
   ],
   "source": [
    "bm25_tp_set - lsi_tp_set"
   ]
  },
  {
   "cell_type": "code",
   "execution_count": 16,
   "metadata": {},
   "outputs": [
    {
     "data": {
      "text/plain": [
       "{('browser_customization', 1449700)}"
      ]
     },
     "execution_count": 16,
     "metadata": {},
     "output_type": "execute_result"
    }
   ],
   "source": [
    "lda_tp_set - lsi_tp_set - bm25_tp_set - wv_tp_set"
   ]
  },
  {
   "cell_type": "code",
   "execution_count": 17,
   "metadata": {},
   "outputs": [
    {
     "data": {
      "text/plain": [
       "{('browser_customization', 1279140),\n",
       " ('indicator_device_perm', 1357458),\n",
       " ('indicator_device_perm', 1430603)}"
      ]
     },
     "execution_count": 17,
     "metadata": {},
     "output_type": "execute_result"
    }
   ],
   "source": [
    "wv_tp_set - lda_tp_set - lsi_tp_set - bm25_tp_set"
   ]
  },
  {
   "cell_type": "code",
   "execution_count": null,
   "metadata": {},
   "outputs": [],
   "source": [
    "for idx,col in fp_list:\n",
    "    print('Feature: {:<24} <=> BR: {:>8} : {:>50}'.format(idx, col, str(bugreports[bugreports.Bug_Number == col].Summary.values[0])))"
   ]
  },
  {
   "cell_type": "markdown",
   "metadata": {},
   "source": [
    "#### Min Recall"
   ]
  },
  {
   "cell_type": "code",
   "execution_count": 19,
   "metadata": {},
   "outputs": [
    {
     "name": "stdout",
     "output_type": "stream",
     "text": [
      "model\n",
      "bm25          23.43\n",
      "lda            5.49\n",
      "lsi           13.32\n",
      "wordvector    10.44\n",
      "Name: perc_recall, dtype: float64\n"
     ]
    }
   ],
   "source": [
    "group = evals_df_4.groupby('model').perc_recall.min()\n",
    "print(group)\n",
    "\n",
    "bm25_min_recall = group[group.index == 'bm25'].values[0]\n",
    "lsi_min_recall = group[group.index == 'lsi'].values[0]\n",
    "lda_min_recall = group[group.index == 'lda'].values[0]\n",
    "wv_min_recall = group[group.index == 'wordvector'].values[0]"
   ]
  },
  {
   "cell_type": "markdown",
   "metadata": {},
   "source": [
    "#### Lists of Results"
   ]
  },
  {
   "cell_type": "code",
   "execution_count": 32,
   "metadata": {},
   "outputs": [],
   "source": [
    "bm25_tp_set = aux_functions.get_true_positives( oracle, get_trace_links_df(model='bm25', perc_recall=bm25_min_recall))\n",
    "bm25_fp_set = aux_functions.get_false_positives(oracle, get_trace_links_df(model='bm25', perc_recall=bm25_min_recall))\n",
    "bm25_fn_set = aux_functions.get_false_negatives(oracle, get_trace_links_df(model='bm25', perc_recall=bm25_min_recall))\n",
    "\n",
    "lsi_tp_set = aux_functions.get_true_positives( oracle, get_trace_links_df(model='lsi', perc_recall=lsi_min_recall))\n",
    "lsi_fp_set = aux_functions.get_false_positives(oracle, get_trace_links_df(model='lsi', perc_recall=lsi_min_recall))\n",
    "lsi_fn_set = aux_functions.get_false_negatives(oracle, get_trace_links_df(model='lsi', perc_recall=lsi_min_recall))\n",
    "\n",
    "lda_tp_set = aux_functions.get_true_positives( oracle, get_trace_links_df(model='lda', perc_recall=lda_min_recall))\n",
    "lda_fp_set = aux_functions.get_false_positives(oracle, get_trace_links_df(model='lda', perc_recall=lda_min_recall))\n",
    "lda_fn_set = aux_functions.get_false_negatives(oracle, get_trace_links_df(model='lda', perc_recall=lda_min_recall))\n",
    "\n",
    "wv_tp_set = aux_functions.get_true_positives( oracle, get_trace_links_df(model='wordvector', perc_recall=wv_min_recall))\n",
    "wv_fp_set = aux_functions.get_false_positives(oracle, get_trace_links_df(model='wordvector', perc_recall=wv_min_recall))\n",
    "wv_fn_set = aux_functions.get_false_negatives(oracle, get_trace_links_df(model='wordvector', perc_recall=wv_min_recall))"
   ]
  },
  {
   "cell_type": "markdown",
   "metadata": {},
   "source": [
    "##### BM25 vs LSI vs LDA"
   ]
  },
  {
   "cell_type": "code",
   "execution_count": 33,
   "metadata": {},
   "outputs": [
    {
     "data": {
      "image/png": "[encoded data removed]",
      "text/plain": [
       "<Figure size 432x288 with 1 Axes>"
      ]
     },
     "metadata": {},
     "output_type": "display_data"
    }
   ],
   "source": [
    "venn3([bm25_tp_set, lsi_tp_set, lda_tp_set], ['BM25','LSI','LDA'])\n",
    "plt.title('Comparison True Positives by Model - Min Recall')\n",
    "plt.show()"
   ]
  },
  {
   "cell_type": "markdown",
   "metadata": {},
   "source": [
    "##### BM25 vs WV vs LDA"
   ]
  },
  {
   "cell_type": "code",
   "execution_count": 34,
   "metadata": {},
   "outputs": [
    {
     "data": {
      "image/png": "[encoded data removed]",
      "text/plain": [
       "<Figure size 432x288 with 1 Axes>"
      ]
     },
     "metadata": {},
     "output_type": "display_data"
    }
   ],
   "source": [
    "venn3([bm25_tp_set, wv_tp_set, lda_tp_set], ['BM25','WV','LDA'])\n",
    "plt.title('Comparison True Positives by Model - Min Recall')\n",
    "plt.show()"
   ]
  },
  {
   "cell_type": "markdown",
   "metadata": {},
   "source": [
    "##### LSI vs WV vs LDA"
   ]
  },
  {
   "cell_type": "code",
   "execution_count": 35,
   "metadata": {},
   "outputs": [
    {
     "data": {
      "image/png": "[encoded data removed]",
      "text/plain": [
       "<Figure size 432x288 with 1 Axes>"
      ]
     },
     "metadata": {},
     "output_type": "display_data"
    }
   ],
   "source": [
    "venn3([lsi_tp_set, wv_tp_set, lda_tp_set], ['LSI','WV','LDA'])\n",
    "plt.title('Comparison True Positives by Model - Min Recall')\n",
    "plt.show()"
   ]
  },
  {
   "cell_type": "code",
   "execution_count": 36,
   "metadata": {},
   "outputs": [
    {
     "data": {
      "text/plain": [
       "set()"
      ]
     },
     "execution_count": 36,
     "metadata": {},
     "output_type": "execute_result"
    }
   ],
   "source": [
    "lsi_tp_set - bm25_tp_set - lda_tp_set - wv_tp_set"
   ]
  },
  {
   "cell_type": "code",
   "execution_count": 37,
   "metadata": {},
   "outputs": [
    {
     "data": {
      "text/plain": [
       "{('context_menu', 1270983),\n",
       " ('context_menu', 1313969),\n",
       " ('indicator_device_perm', 1296861),\n",
       " ('new_awesome_bar', 1276120),\n",
       " ('new_awesome_bar', 1291770),\n",
       " ('new_awesome_bar', 1297976),\n",
       " ('new_awesome_bar', 1309856),\n",
       " ('new_awesome_bar', 1311998),\n",
       " ('new_awesome_bar', 1339497),\n",
       " ('new_awesome_bar', 1357458)}"
      ]
     },
     "execution_count": 37,
     "metadata": {},
     "output_type": "execute_result"
    }
   ],
   "source": [
    "bm25_tp_set - lsi_tp_set - lda_tp_set - wv_tp_set"
   ]
  },
  {
   "cell_type": "code",
   "execution_count": 38,
   "metadata": {},
   "outputs": [
    {
     "data": {
      "text/plain": [
       "{('browser_customization', 1301784),\n",
       " ('browser_customization', 1344446),\n",
       " ('browser_customization', 1353831),\n",
       " ('browser_customization', 1449700),\n",
       " ('browser_customization', 1451475)}"
      ]
     },
     "execution_count": 38,
     "metadata": {},
     "output_type": "execute_result"
    }
   ],
   "source": [
    "lda_tp_set - lsi_tp_set - bm25_tp_set - wv_tp_set"
   ]
  },
  {
   "cell_type": "code",
   "execution_count": 39,
   "metadata": {},
   "outputs": [
    {
     "data": {
      "text/plain": [
       "{('new_awesome_bar', 1296366),\n",
       " ('new_awesome_bar', 1352539),\n",
       " ('new_awesome_bar', 1353831)}"
      ]
     },
     "execution_count": 39,
     "metadata": {},
     "output_type": "execute_result"
    }
   ],
   "source": [
    "wv_tp_set - lda_tp_set - lsi_tp_set - bm25_tp_set"
   ]
  },
  {
   "cell_type": "markdown",
   "metadata": {},
   "source": [
    "#### Max Precision"
   ]
  },
  {
   "cell_type": "code",
   "execution_count": 41,
   "metadata": {},
   "outputs": [
    {
     "name": "stdout",
     "output_type": "stream",
     "text": [
      "model\n",
      "bm25          25.27\n",
      "lda           14.29\n",
      "lsi           31.32\n",
      "wordvector    28.57\n",
      "Name: perc_precision, dtype: float64\n"
     ]
    }
   ],
   "source": [
    "group = evals_df_4.groupby('model').perc_precision.max()\n",
    "print(group)\n",
    "\n",
    "bm25_max_prec = group[group.index == 'bm25'].values[0]\n",
    "lsi_max_prec = group[group.index == 'lsi'].values[0]\n",
    "lda_max_prec = group[group.index == 'lda'].values[0]\n",
    "wv_max_prec = group[group.index == 'wordvector'].values[0]"
   ]
  },
  {
   "cell_type": "markdown",
   "metadata": {},
   "source": [
    "#### Lists of Results"
   ]
  },
  {
   "cell_type": "code",
   "execution_count": 50,
   "metadata": {},
   "outputs": [],
   "source": [
    "bm25_tp_set = aux_functions.get_true_positives( oracle, get_trace_links_df(model='bm25', perc_precision=bm25_max_prec))\n",
    "bm25_fp_set = aux_functions.get_false_positives(oracle, get_trace_links_df(model='bm25', perc_precision=bm25_max_prec))\n",
    "bm25_fn_set = aux_functions.get_false_negatives(oracle, get_trace_links_df(model='bm25', perc_precision=bm25_max_prec))\n",
    "\n",
    "lsi_tp_set = aux_functions.get_true_positives( oracle, get_trace_links_df(model='lsi', perc_precision=lsi_max_prec))\n",
    "lsi_fp_set = aux_functions.get_false_positives(oracle, get_trace_links_df(model='lsi', perc_precision=lsi_max_prec))\n",
    "lsi_fn_set = aux_functions.get_false_negatives(oracle, get_trace_links_df(model='lsi', perc_precision=lsi_max_prec))\n",
    "\n",
    "lda_tp_set = aux_functions.get_true_positives( oracle, get_trace_links_df(model='lda', perc_precision=lda_max_prec))\n",
    "lda_fp_set = aux_functions.get_false_positives(oracle, get_trace_links_df(model='lda', perc_precision=lda_max_prec))\n",
    "lda_fn_set = aux_functions.get_false_negatives(oracle, get_trace_links_df(model='lda', perc_precision=lda_max_prec))\n",
    "\n",
    "wv_tp_set = aux_functions.get_true_positives( oracle, get_trace_links_df(model='wordvector', perc_precision=wv_max_prec))\n",
    "wv_fp_set = aux_functions.get_false_positives(oracle, get_trace_links_df(model='wordvector', perc_precision=wv_max_prec))\n",
    "wv_fn_set = aux_functions.get_false_negatives(oracle, get_trace_links_df(model='wordvector', perc_precision=wv_max_prec))"
   ]
  },
  {
   "cell_type": "markdown",
   "metadata": {},
   "source": [
    "##### BM25 vs LSI vs LDA"
   ]
  },
  {
   "cell_type": "code",
   "execution_count": 51,
   "metadata": {},
   "outputs": [
    {
     "data": {
      "image/png": "[encoded data removed]",
      "text/plain": [
       "<Figure size 432x288 with 1 Axes>"
      ]
     },
     "metadata": {},
     "output_type": "display_data"
    }
   ],
   "source": [
    "venn3([bm25_tp_set, lsi_tp_set, lda_tp_set], ['BM25','LSI','LDA'])\n",
    "plt.title('Comparison True Positives by Model - Max Precision')\n",
    "plt.show()"
   ]
  },
  {
   "cell_type": "markdown",
   "metadata": {},
   "source": [
    "##### BM25 vs WV vs LDA"
   ]
  },
  {
   "cell_type": "code",
   "execution_count": 52,
   "metadata": {},
   "outputs": [
    {
     "data": {
      "image/png": "[encoded data removed]",
      "text/plain": [
       "<Figure size 432x288 with 1 Axes>"
      ]
     },
     "metadata": {},
     "output_type": "display_data"
    }
   ],
   "source": [
    "venn3([bm25_tp_set, wv_tp_set, lda_tp_set], ['BM25','WV','LDA'])\n",
    "plt.title('Comparison True Positives by Model - Max Precision')\n",
    "plt.show()"
   ]
  },
  {
   "cell_type": "markdown",
   "metadata": {},
   "source": [
    "##### LSI vs WV vs LDA"
   ]
  },
  {
   "cell_type": "code",
   "execution_count": 53,
   "metadata": {},
   "outputs": [
    {
     "data": {
      "image/png": "[encoded data removed]",
      "text/plain": [
       "<Figure size 432x288 with 1 Axes>"
      ]
     },
     "metadata": {},
     "output_type": "display_data"
    }
   ],
   "source": [
    "venn3([lsi_tp_set, wv_tp_set, lda_tp_set], ['LSI','WV','LDA'])\n",
    "plt.title('Comparison True Positives by Model - Max Precision')\n",
    "plt.show()"
   ]
  },
  {
   "cell_type": "code",
   "execution_count": 54,
   "metadata": {},
   "outputs": [
    {
     "data": {
      "text/plain": [
       "{('downloads_dropmaker', 1292573),\n",
       " ('indicator_device_perm', 1345687),\n",
       " ('new_awesome_bar', 1408361),\n",
       " ('pdf_viewer', 1301056),\n",
       " ('zoom_indicator', 1305195)}"
      ]
     },
     "execution_count": 54,
     "metadata": {},
     "output_type": "execute_result"
    }
   ],
   "source": [
    "lsi_tp_set - bm25_tp_set - lda_tp_set - wv_tp_set"
   ]
  },
  {
   "cell_type": "code",
   "execution_count": 55,
   "metadata": {},
   "outputs": [
    {
     "data": {
      "text/plain": [
       "set()"
      ]
     },
     "execution_count": 55,
     "metadata": {},
     "output_type": "execute_result"
    }
   ],
   "source": [
    "bm25_tp_set - lsi_tp_set - lda_tp_set - wv_tp_set"
   ]
  },
  {
   "cell_type": "code",
   "execution_count": 56,
   "metadata": {},
   "outputs": [
    {
     "data": {
      "text/plain": [
       "{('browser_customization', 1248268),\n",
       " ('browser_customization', 1279140),\n",
       " ('browser_customization', 1301784),\n",
       " ('browser_customization', 1313290),\n",
       " ('browser_customization', 1318903),\n",
       " ('browser_customization', 1336227),\n",
       " ('browser_customization', 1344446),\n",
       " ('browser_customization', 1357458),\n",
       " ('browser_customization', 1449700)}"
      ]
     },
     "execution_count": 56,
     "metadata": {},
     "output_type": "execute_result"
    }
   ],
   "source": [
    "lda_tp_set - lsi_tp_set - bm25_tp_set - wv_tp_set"
   ]
  },
  {
   "cell_type": "code",
   "execution_count": 57,
   "metadata": {},
   "outputs": [
    {
     "data": {
      "text/plain": [
       "{('new_awesome_bar', 1352539), ('new_awesome_bar', 1451475)}"
      ]
     },
     "execution_count": 57,
     "metadata": {},
     "output_type": "execute_result"
    }
   ],
   "source": [
    "wv_tp_set - lda_tp_set - lsi_tp_set - bm25_tp_set"
   ]
  },
  {
   "cell_type": "markdown",
   "metadata": {},
   "source": [
    "#### Max Recall"
   ]
  },
  {
   "cell_type": "code",
   "execution_count": 58,
   "metadata": {},
   "outputs": [
    {
     "name": "stdout",
     "output_type": "stream",
     "text": [
      "model\n",
      "bm25          48.22\n",
      "lda           48.41\n",
      "lsi           52.06\n",
      "wordvector    41.13\n",
      "Name: perc_recall, dtype: float64\n"
     ]
    }
   ],
   "source": [
    "group = evals_df_4.groupby('model').perc_recall.max()\n",
    "print(group)\n",
    "\n",
    "bm25_max_recall = group[group.index == 'bm25'].values[0]\n",
    "lsi_max_recall = group[group.index == 'lsi'].values[0]\n",
    "lda_max_recall = group[group.index == 'lda'].values[0]\n",
    "wv_max_recall = group[group.index == 'wordvector'].values[0]"
   ]
  },
  {
   "cell_type": "markdown",
   "metadata": {},
   "source": [
    "#### Lists of Results"
   ]
  },
  {
   "cell_type": "code",
   "execution_count": 59,
   "metadata": {},
   "outputs": [],
   "source": [
    "bm25_tp_set = aux_functions.get_true_positives( oracle, get_trace_links_df(model='bm25', perc_recall=bm25_max_recall))\n",
    "bm25_fp_set = aux_functions.get_false_positives(oracle, get_trace_links_df(model='bm25', perc_recall=bm25_max_recall))\n",
    "bm25_fn_set = aux_functions.get_false_negatives(oracle, get_trace_links_df(model='bm25', perc_recall=bm25_max_recall))\n",
    "\n",
    "lsi_tp_set = aux_functions.get_true_positives( oracle, get_trace_links_df(model='lsi', perc_recall=lsi_max_recall))\n",
    "lsi_fp_set = aux_functions.get_false_positives(oracle, get_trace_links_df(model='lsi', perc_recall=lsi_max_recall))\n",
    "lsi_fn_set = aux_functions.get_false_negatives(oracle, get_trace_links_df(model='lsi', perc_recall=lsi_max_recall))\n",
    "\n",
    "lda_tp_set = aux_functions.get_true_positives( oracle, get_trace_links_df(model='lda', perc_recall=lda_max_recall))\n",
    "lda_fp_set = aux_functions.get_false_positives(oracle, get_trace_links_df(model='lda', perc_recall=lda_max_recall))\n",
    "lda_fn_set = aux_functions.get_false_negatives(oracle, get_trace_links_df(model='lda', perc_recall=lda_max_recall))\n",
    "\n",
    "wv_tp_set = aux_functions.get_true_positives( oracle, get_trace_links_df(model='wordvector', perc_recall=wv_max_recall))\n",
    "wv_fp_set = aux_functions.get_false_positives(oracle, get_trace_links_df(model='wordvector', perc_recall=wv_max_recall))\n",
    "wv_fn_set = aux_functions.get_false_negatives(oracle, get_trace_links_df(model='wordvector', perc_recall=wv_max_recall))"
   ]
  },
  {
   "cell_type": "markdown",
   "metadata": {},
   "source": [
    "##### BM25 vs LSI vs LDA"
   ]
  },
  {
   "cell_type": "code",
   "execution_count": 60,
   "metadata": {},
   "outputs": [
    {
     "data": {
      "image/png": "[encoded data removed]",
      "text/plain": [
       "<Figure size 432x288 with 1 Axes>"
      ]
     },
     "metadata": {},
     "output_type": "display_data"
    }
   ],
   "source": [
    "venn3([bm25_tp_set, lsi_tp_set, lda_tp_set], ['BM25','LSI','LDA'])\n",
    "plt.title('Comparison True Positives by Model - Max Recall')\n",
    "plt.show()"
   ]
  },
  {
   "cell_type": "markdown",
   "metadata": {},
   "source": [
    "##### BM25 vs WV vs LDA"
   ]
  },
  {
   "cell_type": "code",
   "execution_count": 61,
   "metadata": {},
   "outputs": [
    {
     "data": {
      "image/png": "[encoded data removed]",
      "text/plain": [
       "<Figure size 432x288 with 1 Axes>"
      ]
     },
     "metadata": {},
     "output_type": "display_data"
    }
   ],
   "source": [
    "venn3([bm25_tp_set, wv_tp_set, lda_tp_set], ['BM25','WV','LDA'])\n",
    "plt.title('Comparison True Positives by Model - Max Recall')\n",
    "plt.show()"
   ]
  },
  {
   "cell_type": "markdown",
   "metadata": {},
   "source": [
    "##### LSI vs WV vs LDA"
   ]
  },
  {
   "cell_type": "code",
   "execution_count": 62,
   "metadata": {},
   "outputs": [
    {
     "data": {
      "image/png": "[encoded data removed]",
      "text/plain": [
       "<Figure size 432x288 with 1 Axes>"
      ]
     },
     "metadata": {},
     "output_type": "display_data"
    }
   ],
   "source": [
    "venn3([lsi_tp_set, wv_tp_set, lda_tp_set], ['LSI','WV','LDA'])\n",
    "plt.title('Comparison True Positives by Model - Max Recall')\n",
    "plt.show()"
   ]
  },
  {
   "cell_type": "code",
   "execution_count": 63,
   "metadata": {},
   "outputs": [
    {
     "data": {
      "text/plain": [
       "{('pdf_viewer', 1301056), ('pdf_viewer', 1365887), ('tts_in_rm', 1335538)}"
      ]
     },
     "execution_count": 63,
     "metadata": {},
     "output_type": "execute_result"
    }
   ],
   "source": [
    "lsi_tp_set - bm25_tp_set - lda_tp_set - wv_tp_set"
   ]
  },
  {
   "cell_type": "code",
   "execution_count": 64,
   "metadata": {},
   "outputs": [
    {
     "data": {
      "text/plain": [
       "{('apz_async_scrolling', 1295502),\n",
       " ('flac_support', 1335538),\n",
       " ('pointer_lock_api', 1314643)}"
      ]
     },
     "execution_count": 64,
     "metadata": {},
     "output_type": "execute_result"
    }
   ],
   "source": [
    "bm25_tp_set - lsi_tp_set - lda_tp_set - wv_tp_set"
   ]
  },
  {
   "cell_type": "code",
   "execution_count": 65,
   "metadata": {},
   "outputs": [
    {
     "data": {
      "text/plain": [
       "{('browser_customization', 1248268),\n",
       " ('browser_customization', 1313290),\n",
       " ('browser_customization', 1336227),\n",
       " ('browser_customization', 1449700),\n",
       " ('indicator_device_perm', 1290424),\n",
       " ('new_awesome_bar', 1278388),\n",
       " ('new_awesome_bar', 1313778),\n",
       " ('webgl_comp', 1312018),\n",
       " ('webgl_comp', 1365887)}"
      ]
     },
     "execution_count": 65,
     "metadata": {},
     "output_type": "execute_result"
    }
   ],
   "source": [
    "lda_tp_set - lsi_tp_set - bm25_tp_set - wv_tp_set"
   ]
  },
  {
   "cell_type": "code",
   "execution_count": 66,
   "metadata": {},
   "outputs": [
    {
     "data": {
      "text/plain": [
       "{('indicator_device_perm', 1430603)}"
      ]
     },
     "execution_count": 66,
     "metadata": {},
     "output_type": "execute_result"
    }
   ],
   "source": [
    "wv_tp_set - lda_tp_set - lsi_tp_set - bm25_tp_set"
   ]
  },
  {
   "cell_type": "markdown",
   "metadata": {},
   "source": [
    "### Plots"
   ]
  },
  {
   "cell_type": "raw",
   "metadata": {},
   "source": [
    "evaluator_4.plot_evaluations_1(evals_df=evals_df_4, title='Volunteers Only Strategy')"
   ]
  },
  {
   "cell_type": "code",
   "execution_count": 11,
   "metadata": {},
   "outputs": [
    {
     "data": {
      "image/png": "[encoded data removed]",
      "text/plain": [
       "<Figure size 720x360 with 1 Axes>"
      ]
     },
     "metadata": {
      "needs_background": "light"
     },
     "output_type": "display_data"
    }
   ],
   "source": [
    "evaluator_4.plot_evaluations_3(evals_df_4, title='BR-Feat Traceability Recovery - Volunteers-Only Strategy')"
   ]
  },
  {
   "cell_type": "code",
   "execution_count": 12,
   "metadata": {},
   "outputs": [
    {
     "data": {
      "image/png": "[encoded data removed]",
      "text/plain": [
       "<Figure size 1440x360 with 4 Axes>"
      ]
     },
     "metadata": {
      "needs_background": "light"
     },
     "output_type": "display_data"
    }
   ],
   "source": [
    "evaluator_4.plot_evaluations_4(evals_df_4)"
   ]
  },
  {
   "cell_type": "code",
   "execution_count": 13,
   "metadata": {},
   "outputs": [
    {
     "data": {
      "image/png": "[encoded data removed]",
      "text/plain": [
       "<Figure size 720x360 with 1 Axes>"
      ]
     },
     "metadata": {
      "needs_background": "light"
     },
     "output_type": "display_data"
    }
   ],
   "source": [
    "evaluator_4.plot_evaluations_5(evals_df_4)"
   ]
  },
  {
   "cell_type": "markdown",
   "metadata": {},
   "source": [
    "### Delete Variables"
   ]
  },
  {
   "cell_type": "raw",
   "metadata": {},
   "source": [
    "del lsi_model_4, lda_model_4, bm25_model_4, w2v_model_4\n",
    "del evals_df_4\n",
    "del models_runner_4, evaluator_4"
   ]
  },
  {
   "cell_type": "markdown",
   "metadata": {
    "toc-hr-collapsed": true
   },
   "source": [
    "## Union Strategy"
   ]
  },
  {
   "cell_type": "code",
   "execution_count": null,
   "metadata": {},
   "outputs": [],
   "source": [
    "models_runner_1 = Feat_BR_Models_Runner()\n",
    "lsi_model_1 = models_runner_1.run_lsi_model()\n",
    "lda_model_1 = models_runner_1.run_lda_model()\n",
    "bm25_model_1 = models_runner_1.run_bm25_model()\n",
    "w2v_model_1 = models_runner_1.run_word2vec_model()\n",
    "\n",
    "evaluator_1 = m_eval.ModelEvaluator(oracle=fd.Feat_BR_Oracles.read_feat_br_expert_volunteers_union_df().T)\n",
    "evals_df_1 = evaluator_1.run_evaluator(models=[lsi_model_1,lda_model_1,bm25_model_1,w2v_model_1], \n",
    "                                       top_values=[1,3,5,10], \n",
    "                                       sim_thresholds=[(sm.SimilarityMeasure.COSINE, x/10) for x in range(0,10)])"
   ]
  },
  {
   "cell_type": "markdown",
   "metadata": {},
   "source": [
    "### Results"
   ]
  },
  {
   "cell_type": "code",
   "execution_count": null,
   "metadata": {},
   "outputs": [],
   "source": [
    "evals_df_1.head()"
   ]
  },
  {
   "cell_type": "code",
   "execution_count": null,
   "metadata": {},
   "outputs": [],
   "source": [
    "evaluator_1.plot_evaluations_4(evals_df_1)"
   ]
  },
  {
   "cell_type": "code",
   "execution_count": null,
   "metadata": {},
   "outputs": [],
   "source": [
    "evaluator_1.plot_evaluations_5(evals_df_1)"
   ]
  },
  {
   "cell_type": "markdown",
   "metadata": {},
   "source": [
    "### Plots"
   ]
  },
  {
   "cell_type": "raw",
   "metadata": {},
   "source": [
    "evaluator_1.plot_evaluations_1(evals_df=evals_df_1, title='Exp-Vol Union Strategy')"
   ]
  },
  {
   "cell_type": "code",
   "execution_count": null,
   "metadata": {},
   "outputs": [],
   "source": [
    "evaluator_1.plot_evaluations_3(evals_df_1, title='BR-Feat Traceability Recovery - Exp-Vol Union Strategy')"
   ]
  },
  {
   "cell_type": "markdown",
   "metadata": {},
   "source": [
    "### Delete Variables"
   ]
  },
  {
   "cell_type": "raw",
   "metadata": {},
   "source": [
    "del lsi_model_1, lda_model_1, bm25_model_1, w2v_model_1\n",
    "del evals_df_1\n",
    "del models_runner_1, evaluator_1"
   ]
  },
  {
   "cell_type": "markdown",
   "metadata": {
    "toc-hr-collapsed": true
   },
   "source": [
    "## Intersec Strategy"
   ]
  },
  {
   "cell_type": "code",
   "execution_count": null,
   "metadata": {},
   "outputs": [],
   "source": [
    "models_runner_2 = Feat_BR_Models_Runner()\n",
    "lsi_model_2 = models_runner_2.run_lsi_model()\n",
    "lda_model_2 = models_runner_2.run_lda_model()\n",
    "bm25_model_2 = models_runner_2.run_bm25_model()\n",
    "w2v_model_2 = models_runner_2.run_word2vec_model()\n",
    "\n",
    "evaluator_2 = m_eval.ModelEvaluator(oracle=fd.Feat_BR_Oracles.read_feat_br_expert_volunteers_intersec_df().T)\n",
    "evals_df_2 = evaluator_2.run_evaluator(models=[lsi_model_2,lda_model_2, bm25_model_2, w2v_model_2],\n",
    "                                      top_values=[1,3,5,10], \n",
    "                                      sim_thresholds=[(sm.SimilarityMeasure.COSINE, x/10) for x in range(0,10)])"
   ]
  },
  {
   "cell_type": "markdown",
   "metadata": {},
   "source": [
    "### Results"
   ]
  },
  {
   "cell_type": "code",
   "execution_count": null,
   "metadata": {},
   "outputs": [],
   "source": [
    "evals_df_2.head()"
   ]
  },
  {
   "cell_type": "markdown",
   "metadata": {},
   "source": [
    "### Plots"
   ]
  },
  {
   "cell_type": "raw",
   "metadata": {},
   "source": [
    "evaluator_2.plot_evaluations_1(evals_df=evals_df_2, title='Exp-Vol Intersec Strategy')"
   ]
  },
  {
   "cell_type": "code",
   "execution_count": null,
   "metadata": {},
   "outputs": [],
   "source": [
    "evaluator_2.plot_evaluations_3(evals_df_2, title='BR-Feat Traceability Recovery - Exp-Vol Intersec Strategy')"
   ]
  },
  {
   "cell_type": "code",
   "execution_count": null,
   "metadata": {},
   "outputs": [],
   "source": [
    "evaluator_2.plot_evaluations_4(evals_df_2)"
   ]
  },
  {
   "cell_type": "code",
   "execution_count": null,
   "metadata": {},
   "outputs": [],
   "source": [
    "evaluator_2.plot_evaluations_5(evals_df_2)"
   ]
  },
  {
   "cell_type": "markdown",
   "metadata": {},
   "source": [
    "### Delete Variables"
   ]
  },
  {
   "cell_type": "raw",
   "metadata": {},
   "source": [
    "del lsi_model_2, lda_model_2, bm25_model_2, w2v_model_2\n",
    "del evals_df_2\n",
    "del models_runner_2, evaluator_2"
   ]
  },
  {
   "cell_type": "markdown",
   "metadata": {
    "toc-hr-collapsed": true
   },
   "source": [
    "## Expert Only Strategy"
   ]
  },
  {
   "cell_type": "code",
   "execution_count": null,
   "metadata": {},
   "outputs": [],
   "source": [
    "models_runner_3 = Feat_BR_Models_Runner()\n",
    "lsi_model_3 = models_runner_3.run_lsi_model()\n",
    "lda_model_3 = models_runner_3.run_lda_model()\n",
    "bm25_model_3 = models_runner_3.run_bm25_model()\n",
    "w2v_model_3 = models_runner_3.run_word2vec_model()\n",
    "\n",
    "evaluator_3 = m_eval.ModelEvaluator(oracle=fd.Feat_BR_Oracles.read_feat_br_expert_df().T)\n",
    "evals_df_3 = evaluator_3.run_evaluator(models=[lsi_model_3, lda_model_3, bm25_model_3, w2v_model_3],\n",
    "                                       top_values=[1,3,5,10], \n",
    "                                       sim_thresholds=[(sm.SimilarityMeasure.COSINE, x/10) for x in range(0,10)])"
   ]
  },
  {
   "cell_type": "markdown",
   "metadata": {},
   "source": [
    "### Results"
   ]
  },
  {
   "cell_type": "code",
   "execution_count": null,
   "metadata": {},
   "outputs": [],
   "source": [
    "evals_df_3.head()"
   ]
  },
  {
   "cell_type": "markdown",
   "metadata": {},
   "source": [
    "### Plots"
   ]
  },
  {
   "cell_type": "raw",
   "metadata": {},
   "source": [
    "evaluator_3.plot_evaluations_1(evals_df=evals_df_3, title='Expert Only Strategy')"
   ]
  },
  {
   "cell_type": "code",
   "execution_count": null,
   "metadata": {},
   "outputs": [],
   "source": [
    "evaluator_3.plot_evaluations_3(evals_df_3, title='BR-Feat Traceability Recovery - Expert-Only Strategy')"
   ]
  },
  {
   "cell_type": "code",
   "execution_count": null,
   "metadata": {},
   "outputs": [],
   "source": [
    "evaluator_3.plot_evaluations_4(evals_df_3)"
   ]
  },
  {
   "cell_type": "code",
   "execution_count": null,
   "metadata": {},
   "outputs": [],
   "source": [
    "evaluator_3.plot_evaluations_5(evals_df_3)"
   ]
  },
  {
   "cell_type": "markdown",
   "metadata": {},
   "source": [
    "### Delete Variables"
   ]
  },
  {
   "cell_type": "markdown",
   "metadata": {},
   "source": [
    "del lsi_model_3, lda_model_3, bm25_model_3, w2v_model_3\n",
    "del evals_df_3\n",
    "del models_runner_3, evaluator_3"
   ]
  }
 ],
 "metadata": {
  "kernelspec": {
   "display_name": "Python 3",
   "language": "python",
   "name": "python3"
  },
  "language_info": {
   "codemirror_mode": {
    "name": "ipython",
    "version": 3
   },
   "file_extension": ".py",
   "mimetype": "text/x-python",
   "name": "python",
   "nbconvert_exporter": "python",
   "pygments_lexer": "ipython3",
   "version": "3.7.3"
  },
  "toc-autonumbering": true,
  "toc-showcode": false,
  "toc-showmarkdowntxt": true,
  "toc-showtags": false
 },
 "nbformat": 4,
 "nbformat_minor": 2
}

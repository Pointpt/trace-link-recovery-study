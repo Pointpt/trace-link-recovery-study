{
 "cells": [
  {
   "cell_type": "markdown",
   "metadata": {},
   "source": [
    "# Introduction\n",
    "\n",
    "Notebook to aggregate the running of models in the context of traceability between **features** and **bug reports**."
   ]
  },
  {
   "cell_type": "markdown",
   "metadata": {
    "toc-hr-collapsed": false
   },
   "source": [
    "# Load Libraries and Datasets"
   ]
  },
  {
   "cell_type": "code",
   "execution_count": 1,
   "metadata": {},
   "outputs": [],
   "source": [
    "from mod_finder_util import mod_finder_util\n",
    "mod_finder_util.add_modules_origin_search_path()\n",
    "\n",
    "from modules.models_runner import feat_br_strat_runner\n",
    "\n",
    "import warnings; warnings.simplefilter('ignore')"
   ]
  },
  {
   "cell_type": "markdown",
   "metadata": {},
   "source": [
    "# Run All Models"
   ]
  },
  {
   "cell_type": "markdown",
   "metadata": {
    "toc-hr-collapsed": true
   },
   "source": [
    "## Volunteers Only Strategy"
   ]
  },
  {
   "cell_type": "code",
   "execution_count": 2,
   "metadata": {},
   "outputs": [
    {
     "name": "stdout",
     "output_type": "stream",
     "text": [
      "Feat_BR Volunteers Matrix shape: (91, 19)\n",
      "Features.shape: (19, 8)\n",
      "SelectedBugReports.shape: (91, 18)\n",
      "Running LSI model -----\n",
      "Running LDA model -----\n",
      "Running BM25 model -----\n",
      "Running W2V model -----\n",
      "Evaluating LSI Model ----- \n",
      "Evaluating LDA Model ----- \n",
      "Evaluating BM25 Model ----- \n",
      "Evaluating WORDVECTOR Model ----- \n"
     ]
    }
   ],
   "source": [
    "vol_strat_runner = feat_br_strat_runner.Feat_BR_Vol_Strat_Runner()\n",
    "vol_strat_runner.execute()\n",
    "\n",
    "evaluator_4 = vol_strat_runner.get_evaluator() \n",
    "evals_df_4 = vol_strat_runner.get_evals_df()"
   ]
  },
  {
   "cell_type": "markdown",
   "metadata": {},
   "source": [
    "### Results"
   ]
  },
  {
   "cell_type": "code",
   "execution_count": 3,
   "metadata": {},
   "outputs": [
    {
     "data": {
      "text/html": [
       "<div>\n",
       "<style scoped>\n",
       "    .dataframe tbody tr th:only-of-type {\n",
       "        vertical-align: middle;\n",
       "    }\n",
       "\n",
       "    .dataframe tbody tr th {\n",
       "        vertical-align: top;\n",
       "    }\n",
       "\n",
       "    .dataframe thead th {\n",
       "        text-align: right;\n",
       "    }\n",
       "</style>\n",
       "<table border=\"1\" class=\"dataframe\">\n",
       "  <thead>\n",
       "    <tr style=\"text-align: right;\">\n",
       "      <th></th>\n",
       "      <th>model</th>\n",
       "      <th>ref_name</th>\n",
       "      <th>perc_precision</th>\n",
       "      <th>perc_recall</th>\n",
       "      <th>perc_fscore</th>\n",
       "      <th>eval_df</th>\n",
       "      <th>sim_threshold</th>\n",
       "      <th>top</th>\n",
       "      <th>trace_links_df</th>\n",
       "    </tr>\n",
       "  </thead>\n",
       "  <tbody>\n",
       "    <tr>\n",
       "      <th>0</th>\n",
       "      <td>lsi</td>\n",
       "      <td>top_1_cosine_0.0</td>\n",
       "      <td>28.57</td>\n",
       "      <td>26.18</td>\n",
       "      <td>26.62</td>\n",
       "      <td>precision  recall    fscore\n",
       "Bug_Nu...</td>\n",
       "      <td>0.0</td>\n",
       "      <td>1.0</td>\n",
       "      <td>Bug_Number               1248267  1248268  125...</td>\n",
       "    </tr>\n",
       "    <tr>\n",
       "      <th>1</th>\n",
       "      <td>lsi</td>\n",
       "      <td>top_1_cosine_0.1</td>\n",
       "      <td>28.57</td>\n",
       "      <td>26.18</td>\n",
       "      <td>26.62</td>\n",
       "      <td>precision  recall    fscore\n",
       "Bug_Nu...</td>\n",
       "      <td>0.1</td>\n",
       "      <td>1.0</td>\n",
       "      <td>Bug_Number               1248267  1248268  125...</td>\n",
       "    </tr>\n",
       "    <tr>\n",
       "      <th>2</th>\n",
       "      <td>lsi</td>\n",
       "      <td>top_1_cosine_0.2</td>\n",
       "      <td>28.57</td>\n",
       "      <td>26.18</td>\n",
       "      <td>26.62</td>\n",
       "      <td>precision  recall    fscore\n",
       "Bug_Nu...</td>\n",
       "      <td>0.2</td>\n",
       "      <td>1.0</td>\n",
       "      <td>Bug_Number               1248267  1248268  125...</td>\n",
       "    </tr>\n",
       "    <tr>\n",
       "      <th>3</th>\n",
       "      <td>lsi</td>\n",
       "      <td>top_1_cosine_0.3</td>\n",
       "      <td>28.57</td>\n",
       "      <td>26.18</td>\n",
       "      <td>26.62</td>\n",
       "      <td>precision  recall    fscore\n",
       "Bug_Nu...</td>\n",
       "      <td>0.3</td>\n",
       "      <td>1.0</td>\n",
       "      <td>Bug_Number               1248267  1248268  125...</td>\n",
       "    </tr>\n",
       "    <tr>\n",
       "      <th>4</th>\n",
       "      <td>lsi</td>\n",
       "      <td>top_1_cosine_0.4</td>\n",
       "      <td>28.57</td>\n",
       "      <td>26.18</td>\n",
       "      <td>26.62</td>\n",
       "      <td>precision  recall    fscore\n",
       "Bug_Nu...</td>\n",
       "      <td>0.4</td>\n",
       "      <td>1.0</td>\n",
       "      <td>Bug_Number               1248267  1248268  125...</td>\n",
       "    </tr>\n",
       "  </tbody>\n",
       "</table>\n",
       "</div>"
      ],
      "text/plain": [
       "  model          ref_name  perc_precision  perc_recall  perc_fscore  \\\n",
       "0   lsi  top_1_cosine_0.0           28.57        26.18        26.62   \n",
       "1   lsi  top_1_cosine_0.1           28.57        26.18        26.62   \n",
       "2   lsi  top_1_cosine_0.2           28.57        26.18        26.62   \n",
       "3   lsi  top_1_cosine_0.3           28.57        26.18        26.62   \n",
       "4   lsi  top_1_cosine_0.4           28.57        26.18        26.62   \n",
       "\n",
       "                                             eval_df  sim_threshold  top  \\\n",
       "0              precision  recall    fscore\n",
       "Bug_Nu...            0.0  1.0   \n",
       "1              precision  recall    fscore\n",
       "Bug_Nu...            0.1  1.0   \n",
       "2              precision  recall    fscore\n",
       "Bug_Nu...            0.2  1.0   \n",
       "3              precision  recall    fscore\n",
       "Bug_Nu...            0.3  1.0   \n",
       "4              precision  recall    fscore\n",
       "Bug_Nu...            0.4  1.0   \n",
       "\n",
       "                                      trace_links_df  \n",
       "0  Bug_Number               1248267  1248268  125...  \n",
       "1  Bug_Number               1248267  1248268  125...  \n",
       "2  Bug_Number               1248267  1248268  125...  \n",
       "3  Bug_Number               1248267  1248268  125...  \n",
       "4  Bug_Number               1248267  1248268  125...  "
      ]
     },
     "execution_count": 3,
     "metadata": {},
     "output_type": "execute_result"
    }
   ],
   "source": [
    "evals_df_4.head()"
   ]
  },
  {
   "cell_type": "markdown",
   "metadata": {},
   "source": [
    "### Plots"
   ]
  },
  {
   "cell_type": "raw",
   "metadata": {},
   "source": [
    "evaluator_4.plot_evaluations_1(evals_df=evals_df_4, title='Volunteers Only Strategy')"
   ]
  },
  {
   "cell_type": "code",
   "execution_count": 4,
   "metadata": {},
   "outputs": [
    {
     "data": {
      "image/png": "[encoded data removed]",
      "text/plain": [
       "<Figure size 720x360 with 1 Axes>"
      ]
     },
     "metadata": {
      "needs_background": "light"
     },
     "output_type": "display_data"
    }
   ],
   "source": [
    "evaluator_4.plot_evaluations_3(evals_df_4, title='BR-Feat Traceability Recovery - Volunteers-Only Strategy')"
   ]
  },
  {
   "cell_type": "code",
   "execution_count": 5,
   "metadata": {},
   "outputs": [
    {
     "data": {
      "image/png": "[encoded data removed]",
      "text/plain": [
       "<Figure size 1440x360 with 4 Axes>"
      ]
     },
     "metadata": {
      "needs_background": "light"
     },
     "output_type": "display_data"
    }
   ],
   "source": [
    "evaluator_4.plot_evaluations_4(evals_df_4)"
   ]
  },
  {
   "cell_type": "code",
   "execution_count": 6,
   "metadata": {},
   "outputs": [
    {
     "data": {
      "image/png": "[encoded data removed]",
      "text/plain": [
       "<Figure size 720x360 with 1 Axes>"
      ]
     },
     "metadata": {
      "needs_background": "light"
     },
     "output_type": "display_data"
    }
   ],
   "source": [
    "evaluator_4.plot_evaluations_5(evals_df_4)"
   ]
  },
  {
   "cell_type": "markdown",
   "metadata": {},
   "source": [
    "### Delete Variables"
   ]
  },
  {
   "cell_type": "raw",
   "metadata": {},
   "source": [
    "del lsi_model_4, lda_model_4, bm25_model_4, w2v_model_4\n",
    "del evals_df_4\n",
    "del models_runner_4, evaluator_4"
   ]
  },
  {
   "cell_type": "markdown",
   "metadata": {
    "toc-hr-collapsed": true
   },
   "source": [
    "## Union Strategy"
   ]
  },
  {
   "cell_type": "code",
   "execution_count": null,
   "metadata": {},
   "outputs": [],
   "source": [
    "exp_vol_union_strat_runner = feat_br_strat_runner.Feat_BR_Exp_Vol_Union_Strat_Runner()\n",
    "exp_vol_union_strat_runner.execute()\n",
    "\n",
    "evaluator_1 = exp_vol_union_strat_runner.get_evaluator() \n",
    "evals_df_1 = exp_vol_union_strat_runner.get_evals_df()"
   ]
  },
  {
   "cell_type": "markdown",
   "metadata": {},
   "source": [
    "### Results"
   ]
  },
  {
   "cell_type": "code",
   "execution_count": null,
   "metadata": {},
   "outputs": [],
   "source": [
    "evals_df_1.head()"
   ]
  },
  {
   "cell_type": "code",
   "execution_count": null,
   "metadata": {},
   "outputs": [],
   "source": [
    "evaluator_1.plot_evaluations_4(evals_df_1)"
   ]
  },
  {
   "cell_type": "code",
   "execution_count": null,
   "metadata": {},
   "outputs": [],
   "source": [
    "evaluator_1.plot_evaluations_5(evals_df_1)"
   ]
  },
  {
   "cell_type": "markdown",
   "metadata": {},
   "source": [
    "### Plots"
   ]
  },
  {
   "cell_type": "raw",
   "metadata": {},
   "source": [
    "evaluator_1.plot_evaluations_1(evals_df=evals_df_1, title='Exp-Vol Union Strategy')"
   ]
  },
  {
   "cell_type": "code",
   "execution_count": null,
   "metadata": {},
   "outputs": [],
   "source": [
    "evaluator_1.plot_evaluations_3(evals_df_1, title='BR-Feat Traceability Recovery - Exp-Vol Union Strategy')"
   ]
  },
  {
   "cell_type": "markdown",
   "metadata": {},
   "source": [
    "### Delete Variables"
   ]
  },
  {
   "cell_type": "raw",
   "metadata": {},
   "source": [
    "del lsi_model_1, lda_model_1, bm25_model_1, w2v_model_1\n",
    "del evals_df_1\n",
    "del models_runner_1, evaluator_1"
   ]
  },
  {
   "cell_type": "markdown",
   "metadata": {
    "toc-hr-collapsed": true
   },
   "source": [
    "## Intersec Strategy"
   ]
  },
  {
   "cell_type": "code",
   "execution_count": null,
   "metadata": {},
   "outputs": [],
   "source": [
    "exp_vol_intersec_strat_runner = feat_br_strat_runner.Feat_BR_Exp_Vol_Intersec_Strat_Runner()\n",
    "exp_vol_intersec_strat_runner.execute()\n",
    "\n",
    "evaluator_2 = exp_vol_intersec_strat_runner.get_evaluator() \n",
    "evals_df_2 = exp_vol_intersec_strat_runner.get_evals_df()"
   ]
  },
  {
   "cell_type": "markdown",
   "metadata": {},
   "source": [
    "### Results"
   ]
  },
  {
   "cell_type": "code",
   "execution_count": null,
   "metadata": {},
   "outputs": [],
   "source": [
    "evals_df_2.head()"
   ]
  },
  {
   "cell_type": "markdown",
   "metadata": {},
   "source": [
    "### Plots"
   ]
  },
  {
   "cell_type": "raw",
   "metadata": {},
   "source": [
    "evaluator_2.plot_evaluations_1(evals_df=evals_df_2, title='Exp-Vol Intersec Strategy')"
   ]
  },
  {
   "cell_type": "code",
   "execution_count": null,
   "metadata": {},
   "outputs": [],
   "source": [
    "evaluator_2.plot_evaluations_3(evals_df_2, title='BR-Feat Traceability Recovery - Exp-Vol Intersec Strategy')"
   ]
  },
  {
   "cell_type": "code",
   "execution_count": null,
   "metadata": {},
   "outputs": [],
   "source": [
    "evaluator_2.plot_evaluations_4(evals_df_2)"
   ]
  },
  {
   "cell_type": "code",
   "execution_count": null,
   "metadata": {},
   "outputs": [],
   "source": [
    "evaluator_2.plot_evaluations_5(evals_df_2)"
   ]
  },
  {
   "cell_type": "markdown",
   "metadata": {},
   "source": [
    "### Delete Variables"
   ]
  },
  {
   "cell_type": "raw",
   "metadata": {},
   "source": [
    "del lsi_model_2, lda_model_2, bm25_model_2, w2v_model_2\n",
    "del evals_df_2\n",
    "del models_runner_2, evaluator_2"
   ]
  },
  {
   "cell_type": "markdown",
   "metadata": {
    "toc-hr-collapsed": true
   },
   "source": [
    "## Expert Only Strategy"
   ]
  },
  {
   "cell_type": "code",
   "execution_count": null,
   "metadata": {},
   "outputs": [],
   "source": [
    "exp_strat_runner = feat_br_strat_runner.Feat_BR_Exp_Strat_Runner()\n",
    "exp_strat_runner.execute()\n",
    "\n",
    "evaluator_3 = exp_strat_runner.get_evaluator() \n",
    "evals_df_3 = exp_strat_runner.get_evals_df()"
   ]
  },
  {
   "cell_type": "markdown",
   "metadata": {},
   "source": [
    "### Results"
   ]
  },
  {
   "cell_type": "code",
   "execution_count": null,
   "metadata": {},
   "outputs": [],
   "source": [
    "evals_df_3.head()"
   ]
  },
  {
   "cell_type": "markdown",
   "metadata": {},
   "source": [
    "### Plots"
   ]
  },
  {
   "cell_type": "raw",
   "metadata": {},
   "source": [
    "evaluator_3.plot_evaluations_1(evals_df=evals_df_3, title='Expert Only Strategy')"
   ]
  },
  {
   "cell_type": "code",
   "execution_count": null,
   "metadata": {},
   "outputs": [],
   "source": [
    "evaluator_3.plot_evaluations_3(evals_df_3, title='BR-Feat Traceability Recovery - Expert-Only Strategy')"
   ]
  },
  {
   "cell_type": "code",
   "execution_count": null,
   "metadata": {},
   "outputs": [],
   "source": [
    "evaluator_3.plot_evaluations_4(evals_df_3)"
   ]
  },
  {
   "cell_type": "code",
   "execution_count": null,
   "metadata": {},
   "outputs": [],
   "source": [
    "evaluator_3.plot_evaluations_5(evals_df_3)"
   ]
  },
  {
   "cell_type": "markdown",
   "metadata": {},
   "source": [
    "### Delete Variables"
   ]
  },
  {
   "cell_type": "raw",
   "metadata": {},
   "source": [
    "del lsi_model_3, lda_model_3, bm25_model_3, w2v_model_3\n",
    "del evals_df_3\n",
    "del models_runner_3, evaluator_3"
   ]
  }
 ],
 "metadata": {
  "kernelspec": {
   "display_name": "Python 3",
   "language": "python",
   "name": "python3"
  },
  "language_info": {
   "codemirror_mode": {
    "name": "ipython",
    "version": 3
   },
   "file_extension": ".py",
   "mimetype": "text/x-python",
   "name": "python",
   "nbconvert_exporter": "python",
   "pygments_lexer": "ipython3",
   "version": "3.7.3"
  },
  "toc-autonumbering": true,
  "toc-showcode": false,
  "toc-showmarkdowntxt": true,
  "toc-showtags": false
 },
 "nbformat": 4,
 "nbformat_minor": 2
}

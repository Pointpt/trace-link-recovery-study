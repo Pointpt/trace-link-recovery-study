{
 "cells": [
  {
   "cell_type": "markdown",
   "metadata": {},
   "source": [
    "# Introduction\n",
    "\n",
    "Notebook to aggregate the running of models in the context of traceability between features and bug reports."
   ]
  },
  {
   "cell_type": "markdown",
   "metadata": {},
   "source": [
    "# Load Libraries and Datasets"
   ]
  },
  {
   "cell_type": "code",
   "execution_count": 1,
   "metadata": {},
   "outputs": [],
   "source": [
    "from mod_finder_util import mod_finder_util\n",
    "mod_finder_util.add_modules_origin_search_path()\n",
    "\n",
    "import pandas as pd\n",
    "import numpy as np\n",
    "\n",
    "from modules.models_runner.feat_br_models_runner import Feat_BR_Models_Runner\n",
    "from modules.utils import firefox_dataset_p2 as fd\n",
    "from modules.utils import aux_functions\n",
    "from modules.utils import model_evaluator as m_eval\n",
    "\n",
    "import warnings; warnings.simplefilter('ignore')"
   ]
  },
  {
   "cell_type": "markdown",
   "metadata": {},
   "source": [
    "# Run All Models"
   ]
  },
  {
   "cell_type": "markdown",
   "metadata": {},
   "source": [
    "## Union Strategy"
   ]
  },
  {
   "cell_type": "code",
   "execution_count": 2,
   "metadata": {},
   "outputs": [
    {
     "name": "stdout",
     "output_type": "stream",
     "text": [
      "Features.shape: (21, 8)\n",
      "SelectedBugReports.shape: (93, 18)\n",
      "Running LSI model -----\n",
      "Running LDA model -----\n",
      "Running BM25 model -----\n",
      "Running W2V model -----\n",
      "Expert and Volunteers Matrix UNION.shape: (93, 21)\n"
     ]
    }
   ],
   "source": [
    "models_runner_1 = Feat_BR_Models_Runner()\n",
    "\n",
    "lsi_model_1 = models_runner_1.run_lsi_model()\n",
    "lda_model_1 = models_runner_1.run_lda_model()\n",
    "bm25_model_1 = models_runner_1.run_bm25_model()\n",
    "w2v_model_1 = models_runner_1.run_word2vec_model()\n",
    "\n",
    "evaluator_1 = m_eval.ModelEvaluator(oracle=fd.Feat_BR_Oracles.read_feat_br_expert_volunteers_union_df().T)"
   ]
  },
  {
   "cell_type": "code",
   "execution_count": 3,
   "metadata": {},
   "outputs": [],
   "source": [
    "lsi_eval_1 = evaluator_1.run_evaluator(model=lsi_model_1)\n",
    "lda_eval_1 = evaluator_1.run_evaluator(model=lda_model_1)\n",
    "bm25_eval_1 = evaluator_1.run_evaluator(model=bm25_model_1)\n",
    "w2v_eval_1 = evaluator_1.run_evaluator(model=w2v_model_1)"
   ]
  },
  {
   "cell_type": "markdown",
   "metadata": {},
   "source": [
    "### Results"
   ]
  },
  {
   "cell_type": "code",
   "execution_count": 4,
   "metadata": {},
   "outputs": [
    {
     "data": {
      "text/html": [
       "<div>\n",
       "<style scoped>\n",
       "    .dataframe tbody tr th:only-of-type {\n",
       "        vertical-align: middle;\n",
       "    }\n",
       "\n",
       "    .dataframe tbody tr th {\n",
       "        vertical-align: top;\n",
       "    }\n",
       "\n",
       "    .dataframe thead th {\n",
       "        text-align: right;\n",
       "    }\n",
       "</style>\n",
       "<table border=\"1\" class=\"dataframe\">\n",
       "  <thead>\n",
       "    <tr style=\"text-align: right;\">\n",
       "      <th></th>\n",
       "      <th>model</th>\n",
       "      <th>ref_name</th>\n",
       "      <th>perc_precision</th>\n",
       "      <th>perc_recall</th>\n",
       "      <th>perc_fscore</th>\n",
       "    </tr>\n",
       "  </thead>\n",
       "  <tbody>\n",
       "    <tr>\n",
       "      <th>0</th>\n",
       "      <td>lsi</td>\n",
       "      <td>top_1_cosine_0.0</td>\n",
       "      <td>43.01</td>\n",
       "      <td>31.23</td>\n",
       "      <td>34.49</td>\n",
       "    </tr>\n",
       "    <tr>\n",
       "      <th>1</th>\n",
       "      <td>lsi</td>\n",
       "      <td>top_3_cosine_0.0</td>\n",
       "      <td>26.52</td>\n",
       "      <td>52.76</td>\n",
       "      <td>33.36</td>\n",
       "    </tr>\n",
       "    <tr>\n",
       "      <th>2</th>\n",
       "      <td>lsi</td>\n",
       "      <td>top_5_cosine_0.0</td>\n",
       "      <td>18.28</td>\n",
       "      <td>58.63</td>\n",
       "      <td>26.44</td>\n",
       "    </tr>\n",
       "    <tr>\n",
       "      <th>3</th>\n",
       "      <td>lsi</td>\n",
       "      <td>top_10_cosine_0.0</td>\n",
       "      <td>11.40</td>\n",
       "      <td>71.04</td>\n",
       "      <td>18.78</td>\n",
       "    </tr>\n",
       "    <tr>\n",
       "      <th>4</th>\n",
       "      <td>lda</td>\n",
       "      <td>top_1_cosine_0.0</td>\n",
       "      <td>41.94</td>\n",
       "      <td>29.44</td>\n",
       "      <td>32.88</td>\n",
       "    </tr>\n",
       "    <tr>\n",
       "      <th>5</th>\n",
       "      <td>lda</td>\n",
       "      <td>top_3_cosine_0.0</td>\n",
       "      <td>20.43</td>\n",
       "      <td>41.08</td>\n",
       "      <td>25.60</td>\n",
       "    </tr>\n",
       "    <tr>\n",
       "      <th>6</th>\n",
       "      <td>lda</td>\n",
       "      <td>top_5_cosine_0.0</td>\n",
       "      <td>15.70</td>\n",
       "      <td>50.39</td>\n",
       "      <td>22.57</td>\n",
       "    </tr>\n",
       "    <tr>\n",
       "      <th>7</th>\n",
       "      <td>lda</td>\n",
       "      <td>top_10_cosine_0.0</td>\n",
       "      <td>11.40</td>\n",
       "      <td>69.54</td>\n",
       "      <td>18.73</td>\n",
       "    </tr>\n",
       "    <tr>\n",
       "      <th>8</th>\n",
       "      <td>bm25</td>\n",
       "      <td>top_1_cosine_0.0</td>\n",
       "      <td>36.56</td>\n",
       "      <td>25.80</td>\n",
       "      <td>28.68</td>\n",
       "    </tr>\n",
       "    <tr>\n",
       "      <th>9</th>\n",
       "      <td>bm25</td>\n",
       "      <td>top_3_cosine_0.0</td>\n",
       "      <td>24.01</td>\n",
       "      <td>48.42</td>\n",
       "      <td>30.42</td>\n",
       "    </tr>\n",
       "    <tr>\n",
       "      <th>10</th>\n",
       "      <td>bm25</td>\n",
       "      <td>top_5_cosine_0.0</td>\n",
       "      <td>16.99</td>\n",
       "      <td>56.13</td>\n",
       "      <td>24.84</td>\n",
       "    </tr>\n",
       "    <tr>\n",
       "      <th>11</th>\n",
       "      <td>bm25</td>\n",
       "      <td>top_10_cosine_0.0</td>\n",
       "      <td>11.40</td>\n",
       "      <td>70.39</td>\n",
       "      <td>18.80</td>\n",
       "    </tr>\n",
       "    <tr>\n",
       "      <th>12</th>\n",
       "      <td>wordvector</td>\n",
       "      <td>top_1_cosine_0.0</td>\n",
       "      <td>40.86</td>\n",
       "      <td>29.08</td>\n",
       "      <td>32.34</td>\n",
       "    </tr>\n",
       "    <tr>\n",
       "      <th>13</th>\n",
       "      <td>wordvector</td>\n",
       "      <td>top_3_cosine_0.0</td>\n",
       "      <td>19.71</td>\n",
       "      <td>42.70</td>\n",
       "      <td>25.60</td>\n",
       "    </tr>\n",
       "    <tr>\n",
       "      <th>14</th>\n",
       "      <td>wordvector</td>\n",
       "      <td>top_5_cosine_0.0</td>\n",
       "      <td>14.41</td>\n",
       "      <td>48.43</td>\n",
       "      <td>21.12</td>\n",
       "    </tr>\n",
       "    <tr>\n",
       "      <th>15</th>\n",
       "      <td>wordvector</td>\n",
       "      <td>top_10_cosine_0.0</td>\n",
       "      <td>10.54</td>\n",
       "      <td>65.35</td>\n",
       "      <td>17.43</td>\n",
       "    </tr>\n",
       "  </tbody>\n",
       "</table>\n",
       "</div>"
      ],
      "text/plain": [
       "         model           ref_name  perc_precision  perc_recall  perc_fscore\n",
       "0          lsi   top_1_cosine_0.0           43.01        31.23        34.49\n",
       "1          lsi   top_3_cosine_0.0           26.52        52.76        33.36\n",
       "2          lsi   top_5_cosine_0.0           18.28        58.63        26.44\n",
       "3          lsi  top_10_cosine_0.0           11.40        71.04        18.78\n",
       "4          lda   top_1_cosine_0.0           41.94        29.44        32.88\n",
       "5          lda   top_3_cosine_0.0           20.43        41.08        25.60\n",
       "6          lda   top_5_cosine_0.0           15.70        50.39        22.57\n",
       "7          lda  top_10_cosine_0.0           11.40        69.54        18.73\n",
       "8         bm25   top_1_cosine_0.0           36.56        25.80        28.68\n",
       "9         bm25   top_3_cosine_0.0           24.01        48.42        30.42\n",
       "10        bm25   top_5_cosine_0.0           16.99        56.13        24.84\n",
       "11        bm25  top_10_cosine_0.0           11.40        70.39        18.80\n",
       "12  wordvector   top_1_cosine_0.0           40.86        29.08        32.34\n",
       "13  wordvector   top_3_cosine_0.0           19.71        42.70        25.60\n",
       "14  wordvector   top_5_cosine_0.0           14.41        48.43        21.12\n",
       "15  wordvector  top_10_cosine_0.0           10.54        65.35        17.43"
      ]
     },
     "execution_count": 4,
     "metadata": {},
     "output_type": "execute_result"
    }
   ],
   "source": [
    "evaluator_1.get_evaluations_df()"
   ]
  },
  {
   "cell_type": "code",
   "execution_count": 50,
   "metadata": {},
   "outputs": [
    {
     "data": {
      "image/png": "[encoded data removed]",
      "text/plain": [
       "<Figure size 1440x1080 with 3 Axes>"
      ]
     },
     "metadata": {
      "needs_background": "light"
     },
     "output_type": "display_data"
    }
   ],
   "source": [
    "from matplotlib import pyplot as plt\n",
    "import math\n",
    "title = ''\n",
    "results = evaluator_1.get_evaluations_df()\n",
    "\n",
    "start_pos = 0.25\n",
    "pos_1 = list([start_pos,         start_pos+2,         start_pos+4,         start_pos+6]) \n",
    "pos_2 = list([start_pos+width,   start_pos+2+width,   start_pos+4+width,   start_pos+6+width]) \n",
    "pos_3 = list([start_pos+2*width, start_pos+2+2*width, start_pos+4+2*width, start_pos+6+2*width]) \n",
    "pos_4 = list([start_pos+3*width, start_pos+2+3*width, start_pos+4+3*width, start_pos+6+3*width]) \n",
    "width = 0.25 \n",
    "\n",
    "min_pos = math.floor(min(pos_1))\n",
    "max_pos = math.ceil(max(pos_4))                \n",
    "\n",
    "f, (ax1,ax2,ax3) = plt.subplots(3,1, figsize=(20,15))\n",
    "f.suptitle(title)\n",
    "\n",
    "model_names = [m.upper() for m in results.model.unique()]\n",
    "\n",
    "ax1.set_title('Percentual Precision')\n",
    "ax1.bar(pos_1, width=width, height=results[results.model == 'lsi'].perc_precision.values, color='blue')\n",
    "ax1.bar(pos_2, width=width, height=results[results.model == 'lda'].perc_precision.values, color='red')\n",
    "ax1.bar(pos_3, width=width, height=results[results.model == 'bm25'].perc_precision.values, color='green')\n",
    "ax1.bar(pos_4, width=width, height=results[results.model == 'wordvector'].perc_precision.values, color='orange')\n",
    "ax1.set(xlabel='model', ylabel='precision')\n",
    "\n",
    "ax1.set_xlim(math.floor(min_pos-width), math.ceil(max_pos+width*4))\n",
    "ax1.set_ylim(ymin=0, ymax=100)\n",
    "\n",
    "ax1.set_xticks([p + 3 * width for p in range(min_pos, max_pos)])\n",
    "ax1.set_xticklabels(model_names)\n",
    "\n",
    "ax1.legend(['TOP 1 - COS 0.0', 'TOP 3 - COS 0.0', 'TOP 5 - COS 0.0', 'TOP 10 - COS 0.0'], loc='upper right')\n",
    "\n",
    "\"\"\"\n",
    "ax2.set_title('Percentual Recall')\n",
    "ax2.bar(model_names, results[results.model == 'lsi'].perc_recall, color='red')\n",
    "ax2.bar(model_names, results[results.model == 'lda'].perc_recall, color='red')\n",
    "ax2.bar(model_names, results[results.model == 'bm25'].perc_recall, color='red')\n",
    "ax2.bar(model_names, results[results.model == 'w2v'].perc_recall, color='red')\n",
    "ax2.set(xlabel='model', ylabel='recall')\n",
    "ax2.set_ylim(ymin=0, ymax=100)\n",
    "\n",
    "ax3.set_title('Percentual FScore')\n",
    "ax3.bar(model_names, results[results.model == 'lsi'].perc_fscore, color='green')\n",
    "ax3.bar(model_names, results[results.model == 'lda'].perc_fscore, color='green')\n",
    "ax3.bar(model_names, results[results.model == 'bm25'].perc_fscore, color='green')\n",
    "ax3.bar(model_names, results[results.model == 'w2v'].perc_fscore, color='green')\n",
    "ax3.set(xlabel='model', ylabel='fscore')\n",
    "ax3.set_ylim(ymin=0, ymax=100)\n",
    "\"\"\"\n",
    "\n",
    "plt.grid()\n",
    "plt.show()"
   ]
  },
  {
   "cell_type": "markdown",
   "metadata": {},
   "source": [
    "### Plots"
   ]
  },
  {
   "cell_type": "code",
   "execution_count": null,
   "metadata": {},
   "outputs": [],
   "source": [
    "evaluator_1.plot_evaluations(title='Exp-Vol Union Strategy')"
   ]
  },
  {
   "cell_type": "markdown",
   "metadata": {},
   "source": [
    "### Delete Variables"
   ]
  },
  {
   "cell_type": "code",
   "execution_count": null,
   "metadata": {},
   "outputs": [],
   "source": [
    "del lsi_model_1, lda_model_1, bm25_model_1, w2v_model_1\n",
    "del lsi_eval_1, lda_eval_1, bm25_eval_1, w2v_eval_1\n",
    "del models_runner_1, evalutor_1"
   ]
  },
  {
   "cell_type": "markdown",
   "metadata": {},
   "source": [
    "## Intersec Strategy"
   ]
  },
  {
   "cell_type": "code",
   "execution_count": null,
   "metadata": {},
   "outputs": [],
   "source": [
    "runner_2 = Feat_BR_Models_Runner(oracle=fd.Feat_BR_Oracles.read_feat_br_expert_volunteers_intersec_df().T)\n",
    "\n",
    "lsi_model_2, lsi_eval_2 = runner_2.run_lsi_model()\n",
    "lda_model_2, lda_eval_2 = runner_2.run_lda_model()\n",
    "bm25_model_2, bm25_eval_2 = runner_2.run_bm25_model()\n",
    "w2v_model_2, w2v_eval_2 = runner_2.run_word2vec_model()"
   ]
  },
  {
   "cell_type": "markdown",
   "metadata": {},
   "source": [
    "### Results"
   ]
  },
  {
   "cell_type": "code",
   "execution_count": null,
   "metadata": {},
   "outputs": [],
   "source": [
    "results_2 = aux_functions.compile_results({'lsi_model':lsi_model_2,'lda_model':lda_model_2,'bm25_model':bm25_model_2,'w2v_model':w2v_model_2,\n",
    "                                         'lsi_eval':lsi_eval_2, 'lda_eval':lda_eval_2, 'bm25_eval':bm25_eval_2, 'w2v_eval':w2v_eval_2})\n",
    "results_2.head()"
   ]
  },
  {
   "cell_type": "markdown",
   "metadata": {},
   "source": [
    "### Plots"
   ]
  },
  {
   "cell_type": "code",
   "execution_count": null,
   "metadata": {},
   "outputs": [],
   "source": [
    "aux_functions.plot_results(results_2, title='Exp-Vol Intersec Strategy')"
   ]
  },
  {
   "cell_type": "markdown",
   "metadata": {},
   "source": [
    "### Delete Variables"
   ]
  },
  {
   "cell_type": "code",
   "execution_count": null,
   "metadata": {},
   "outputs": [],
   "source": [
    "del lsi_model_2, lda_model_2, bm25_model_2, w2v_model_2\n",
    "del lsi_eval_2, lda_eval_2, bm25_eval_2, w2v_eval_2\n",
    "del runner_2"
   ]
  },
  {
   "cell_type": "markdown",
   "metadata": {},
   "source": [
    "## Expert Only Strategy"
   ]
  },
  {
   "cell_type": "code",
   "execution_count": null,
   "metadata": {},
   "outputs": [],
   "source": [
    "runner_3 = Feat_BR_Models_Runner(oracle=fd.Feat_BR_Oracles.read_feat_br_expert_df().T)\n",
    "\n",
    "lsi_model_3, lsi_eval_3 = runner_3.run_lsi_model()\n",
    "lda_model_3, lda_eval_3 = runner_3.run_lda_model()\n",
    "bm25_model_3, bm25_eval_3 = runner_3.run_bm25_model()\n",
    "w2v_model_3, w2v_eval_3 = runner_3.run_word2vec_model()"
   ]
  },
  {
   "cell_type": "markdown",
   "metadata": {},
   "source": [
    "### Results"
   ]
  },
  {
   "cell_type": "code",
   "execution_count": null,
   "metadata": {},
   "outputs": [],
   "source": [
    "results_3 = aux_functions.compile_results({'lsi_model':lsi_model_3,'lda_model':lda_model_3,'bm25_model':bm25_model_3,'w2v_model':w2v_model_3,\n",
    "                                         'lsi_eval':lsi_eval_3, 'lda_eval':lda_eval_3, 'bm25_eval':bm25_eval_3, 'w2v_eval':w2v_eval_3})\n",
    "results_3.head()"
   ]
  },
  {
   "cell_type": "markdown",
   "metadata": {},
   "source": [
    "### Plots"
   ]
  },
  {
   "cell_type": "code",
   "execution_count": null,
   "metadata": {},
   "outputs": [],
   "source": [
    "aux_functions.plot_results(results_3, title='Expert Only Strategy')"
   ]
  },
  {
   "cell_type": "markdown",
   "metadata": {},
   "source": [
    "### Delete Variables"
   ]
  },
  {
   "cell_type": "code",
   "execution_count": null,
   "metadata": {},
   "outputs": [],
   "source": [
    "del lsi_model_3, lda_model_3, bm25_model_3, w2v_model_3\n",
    "del lsi_eval_3, lda_eval_3, bm25_eval_3, w2v_eval_3\n",
    "del runner_3"
   ]
  },
  {
   "cell_type": "markdown",
   "metadata": {},
   "source": [
    "## Volunteers Only Strategy"
   ]
  },
  {
   "cell_type": "code",
   "execution_count": null,
   "metadata": {},
   "outputs": [],
   "source": [
    "runner_4 = Feat_BR_Models_Runner(oracle=fd.Feat_BR_Oracles.read_feat_br_volunteers_df().T)\n",
    "\n",
    "lsi_model_4, lsi_eval_4 = runner_4.run_lsi_model()\n",
    "lda_model_4, lda_eval_4 = runner_4.run_lda_model()\n",
    "bm25_model_4, bm25_eval_4 = runner_4.run_bm25_model()\n",
    "w2v_model_4, w2v_eval_4 = runner_4.run_word2vec_model()"
   ]
  },
  {
   "cell_type": "markdown",
   "metadata": {},
   "source": [
    "### Results"
   ]
  },
  {
   "cell_type": "code",
   "execution_count": null,
   "metadata": {},
   "outputs": [],
   "source": [
    "results_4 = aux_functions.compile_results({'lsi_model':lsi_model_4,'lda_model':lda_model_4,'bm25_model':bm25_model_4,'w2v_model':w2v_model_4,\n",
    "                                         'lsi_eval':lsi_eval_4, 'lda_eval':lda_eval_4, 'bm25_eval':bm25_eval_4, 'w2v_eval':w2v_eval_4})\n",
    "results_4.head()"
   ]
  },
  {
   "cell_type": "markdown",
   "metadata": {},
   "source": [
    "### Plots"
   ]
  },
  {
   "cell_type": "code",
   "execution_count": null,
   "metadata": {},
   "outputs": [],
   "source": [
    "aux_functions.plot_results(results_4, title='Volunteers Only Strategy')"
   ]
  },
  {
   "cell_type": "markdown",
   "metadata": {},
   "source": [
    "### Delete Variables"
   ]
  },
  {
   "cell_type": "code",
   "execution_count": null,
   "metadata": {},
   "outputs": [],
   "source": [
    "del lsi_model_4, lda_model_4, bm25_model_4, w2v_model_4\n",
    "del lsi_eval_4, lda_eval_4, bm25_eval_4, w2v_eval_4\n",
    "del runner_4"
   ]
  }
 ],
 "metadata": {
  "kernelspec": {
   "display_name": "Python 3",
   "language": "python",
   "name": "python3"
  },
  "language_info": {
   "codemirror_mode": {
    "name": "ipython",
    "version": 3
   },
   "file_extension": ".py",
   "mimetype": "text/x-python",
   "name": "python",
   "nbconvert_exporter": "python",
   "pygments_lexer": "ipython3",
   "version": "3.6.6"
  }
 },
 "nbformat": 4,
 "nbformat_minor": 2
}

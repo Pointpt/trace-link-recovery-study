{
 "cells": [
  {
   "cell_type": "markdown",
   "metadata": {},
   "source": [
    "# Introduction\n",
    "\n",
    "Notebook to aggregate the running of models in the context of traceability between features and bug reports."
   ]
  },
  {
   "cell_type": "markdown",
   "metadata": {},
   "source": [
    "# Load Libraries and Datasets"
   ]
  },
  {
   "cell_type": "code",
   "execution_count": 1,
   "metadata": {},
   "outputs": [],
   "source": [
    "from mod_finder_util import mod_finder_util\n",
    "mod_finder_util.add_modules_origin_search_path()\n",
    "\n",
    "import pandas as pd\n",
    "import numpy as np\n",
    "\n",
    "from modules.models_runner.feat_br_models_runner import Feat_BR_Models_Runner\n",
    "from modules.models_runner.feat_br_evals_runner import Feat_BR_Evals_Runner\n",
    "from modules.utils import firefox_dataset_p2 as fd\n",
    "from modules.utils import aux_functions\n",
    "\n",
    "import warnings; warnings.simplefilter('ignore')"
   ]
  },
  {
   "cell_type": "markdown",
   "metadata": {},
   "source": [
    "# Run All Models"
   ]
  },
  {
   "cell_type": "markdown",
   "metadata": {},
   "source": [
    "## Union Strategy"
   ]
  },
  {
   "cell_type": "code",
   "execution_count": 2,
   "metadata": {},
   "outputs": [
    {
     "name": "stdout",
     "output_type": "stream",
     "text": [
      "Features.shape: (21, 8)\n",
      "SelectedBugReports.shape: (93, 18)\n",
      "Expert and Volunteers Matrix UNION.shape: (93, 21)\n",
      "\n",
      " LSI_Model_Feat_BR Evaluation - top_1_cos_0.0\n",
      "\n",
      " LSI_Model_Feat_BR Evaluation - top_3_cos_0.0\n",
      "\n",
      " LSI_Model_Feat_BR Evaluation - top_5_cos_0.0\n",
      "\n",
      " LSI_Model_Feat_BR Evaluation - top_10_cos_0.0\n",
      "\n",
      " LDA_Model_Feat_BR Evaluation - top_1_cos_0.0\n",
      "\n",
      " LDA_Model_Feat_BR Evaluation - top_3_cos_0.0\n",
      "\n",
      " LDA_Model_Feat_BR Evaluation - top_5_cos_0.0\n",
      "\n",
      " LDA_Model_Feat_BR Evaluation - top_10_cos_0.0\n",
      "\n",
      " BM25_Model_Feat_BR Evaluation - top_1_cos_0.0\n",
      "\n",
      " BM25_Model_Feat_BR Evaluation - top_3_cos_0.0\n",
      "\n",
      " BM25_Model_Feat_BR Evaluation - top_5_cos_0.0\n",
      "\n",
      " BM25_Model_Feat_BR Evaluation - top_10_cos_0.0\n",
      "\n",
      " WordVec_Model_Feat_BR Evaluation - top_1_cos_0.0\n",
      "\n",
      " WordVec_Model_Feat_BR Evaluation - top_3_cos_0.0\n",
      "\n",
      " WordVec_Model_Feat_BR Evaluation - top_5_cos_0.0\n",
      "\n",
      " WordVec_Model_Feat_BR Evaluation - top_10_cos_0.0\n",
      "\n",
      "[('top_1_cos_0.0', 0.43, 0.31, 0.34), ('top_3_cos_0.0', 0.27, 0.53, 0.33), ('top_5_cos_0.0', 0.18, 0.59, 0.26), ('top_10_cos_0.0', 0.11, 0.71, 0.19)]\n",
      "\n",
      "[('top_1_cos_0.0', 0.42, 0.29, 0.33), ('top_3_cos_0.0', 0.2, 0.41, 0.26), ('top_5_cos_0.0', 0.16, 0.5, 0.23), ('top_10_cos_0.0', 0.11, 0.7, 0.19)]\n",
      "\n",
      "[('top_1_cos_0.0', 0.37, 0.26, 0.29), ('top_3_cos_0.0', 0.24, 0.48, 0.3), ('top_5_cos_0.0', 0.17, 0.56, 0.25), ('top_10_cos_0.0', 0.11, 0.7, 0.19)]\n",
      "\n",
      "[('top_1_cos_0.0', 0.41, 0.29, 0.32), ('top_3_cos_0.0', 0.2, 0.43, 0.26), ('top_5_cos_0.0', 0.14, 0.48, 0.21), ('top_10_cos_0.0', 0.11, 0.65, 0.17)]\n"
     ]
    }
   ],
   "source": [
    "models_runner_1 = Feat_BR_Models_Runner()\n",
    "\n",
    "lsi_model_1 = models_runner_1.run_lsi_model()\n",
    "lda_model_1 = models_runner_1.run_lda_model()\n",
    "bm25_model_1 = models_runner_1.run_bm25_model()\n",
    "w2v_model_1 = models_runner_1.run_word2vec_model()\n",
    "\n",
    "evalutor_runner_1 = Feat_BR_Evals_Runner(oracle=fd.Feat_BR_Oracles.read_feat_br_expert_volunteers_union_df().T)\n",
    "\n",
    "lsi_eval_1 = evalutor_runner_1.run_evaluator(model=lsi_model_1)\n",
    "lda_eval_1 = evalutor_runner_1.run_evaluator(model=lda_model_1)\n",
    "bm25_eval_1 = evalutor_runner_1.run_evaluator(model=bm25_model_1)\n",
    "w2v_eval_1 = evalutor_runner_1.run_evaluator(model=w2v_model_1)\n"
   ]
  },
  {
   "cell_type": "markdown",
   "metadata": {},
   "source": [
    "### Results"
   ]
  },
  {
   "cell_type": "code",
   "execution_count": null,
   "metadata": {},
   "outputs": [],
   "source": [
    "results_1 = aux_functions.compile_results({'lsi_model':lsi_model_1,'lda_model':lda_model_1,'bm25_model':bm25_model_1,'w2v_model':w2v_model_1,\n",
    "                                         'lsi_eval':lsi_eval_1, 'lda_eval':lda_eval_1, 'bm25_eval':bm25_eval_1, 'w2v_eval':w2v_eval_1})\n",
    "results_1.head()"
   ]
  },
  {
   "cell_type": "markdown",
   "metadata": {},
   "source": [
    "### Plots"
   ]
  },
  {
   "cell_type": "code",
   "execution_count": null,
   "metadata": {},
   "outputs": [],
   "source": [
    "aux_functions.plot_results(results_1, title='Exp-Vol Union Strategy')"
   ]
  },
  {
   "cell_type": "markdown",
   "metadata": {},
   "source": [
    "### Delete Variables"
   ]
  },
  {
   "cell_type": "code",
   "execution_count": null,
   "metadata": {},
   "outputs": [],
   "source": [
    "del lsi_model_1, lda_model_1, bm25_model_1, w2v_model_1\n",
    "del lsi_eval_1, lda_eval_1, bm25_eval_1, w2v_eval_1\n",
    "del models_runner_1, evalutor_runner_1"
   ]
  },
  {
   "cell_type": "markdown",
   "metadata": {},
   "source": [
    "## Intersec Strategy"
   ]
  },
  {
   "cell_type": "code",
   "execution_count": null,
   "metadata": {},
   "outputs": [],
   "source": [
    "runner_2 = Feat_BR_Models_Runner(oracle=fd.Feat_BR_Oracles.read_feat_br_expert_volunteers_intersec_df().T)\n",
    "\n",
    "lsi_model_2, lsi_eval_2 = runner_2.run_lsi_model()\n",
    "lda_model_2, lda_eval_2 = runner_2.run_lda_model()\n",
    "bm25_model_2, bm25_eval_2 = runner_2.run_bm25_model()\n",
    "w2v_model_2, w2v_eval_2 = runner_2.run_word2vec_model()"
   ]
  },
  {
   "cell_type": "markdown",
   "metadata": {},
   "source": [
    "### Results"
   ]
  },
  {
   "cell_type": "code",
   "execution_count": null,
   "metadata": {},
   "outputs": [],
   "source": [
    "results_2 = aux_functions.compile_results({'lsi_model':lsi_model_2,'lda_model':lda_model_2,'bm25_model':bm25_model_2,'w2v_model':w2v_model_2,\n",
    "                                         'lsi_eval':lsi_eval_2, 'lda_eval':lda_eval_2, 'bm25_eval':bm25_eval_2, 'w2v_eval':w2v_eval_2})\n",
    "results_2.head()"
   ]
  },
  {
   "cell_type": "markdown",
   "metadata": {},
   "source": [
    "### Plots"
   ]
  },
  {
   "cell_type": "code",
   "execution_count": null,
   "metadata": {},
   "outputs": [],
   "source": [
    "aux_functions.plot_results(results_2, title='Exp-Vol Intersec Strategy')"
   ]
  },
  {
   "cell_type": "markdown",
   "metadata": {},
   "source": [
    "### Delete Variables"
   ]
  },
  {
   "cell_type": "code",
   "execution_count": null,
   "metadata": {},
   "outputs": [],
   "source": [
    "del lsi_model_2, lda_model_2, bm25_model_2, w2v_model_2\n",
    "del lsi_eval_2, lda_eval_2, bm25_eval_2, w2v_eval_2\n",
    "del runner_2"
   ]
  },
  {
   "cell_type": "markdown",
   "metadata": {},
   "source": [
    "## Expert Only Strategy"
   ]
  },
  {
   "cell_type": "code",
   "execution_count": null,
   "metadata": {},
   "outputs": [],
   "source": [
    "runner_3 = Feat_BR_Models_Runner(oracle=fd.Feat_BR_Oracles.read_feat_br_expert_df().T)\n",
    "\n",
    "lsi_model_3, lsi_eval_3 = runner_3.run_lsi_model()\n",
    "lda_model_3, lda_eval_3 = runner_3.run_lda_model()\n",
    "bm25_model_3, bm25_eval_3 = runner_3.run_bm25_model()\n",
    "w2v_model_3, w2v_eval_3 = runner_3.run_word2vec_model()"
   ]
  },
  {
   "cell_type": "markdown",
   "metadata": {},
   "source": [
    "### Results"
   ]
  },
  {
   "cell_type": "code",
   "execution_count": null,
   "metadata": {},
   "outputs": [],
   "source": [
    "results_3 = aux_functions.compile_results({'lsi_model':lsi_model_3,'lda_model':lda_model_3,'bm25_model':bm25_model_3,'w2v_model':w2v_model_3,\n",
    "                                         'lsi_eval':lsi_eval_3, 'lda_eval':lda_eval_3, 'bm25_eval':bm25_eval_3, 'w2v_eval':w2v_eval_3})\n",
    "results_3.head()"
   ]
  },
  {
   "cell_type": "markdown",
   "metadata": {},
   "source": [
    "### Plots"
   ]
  },
  {
   "cell_type": "code",
   "execution_count": null,
   "metadata": {},
   "outputs": [],
   "source": [
    "aux_functions.plot_results(results_3, title='Expert Only Strategy')"
   ]
  },
  {
   "cell_type": "markdown",
   "metadata": {},
   "source": [
    "### Delete Variables"
   ]
  },
  {
   "cell_type": "code",
   "execution_count": null,
   "metadata": {},
   "outputs": [],
   "source": [
    "del lsi_model_3, lda_model_3, bm25_model_3, w2v_model_3\n",
    "del lsi_eval_3, lda_eval_3, bm25_eval_3, w2v_eval_3\n",
    "del runner_3"
   ]
  },
  {
   "cell_type": "markdown",
   "metadata": {},
   "source": [
    "## Volunteers Only Strategy"
   ]
  },
  {
   "cell_type": "code",
   "execution_count": null,
   "metadata": {},
   "outputs": [],
   "source": [
    "runner_4 = Feat_BR_Models_Runner(oracle=fd.Feat_BR_Oracles.read_feat_br_volunteers_df().T)\n",
    "\n",
    "lsi_model_4, lsi_eval_4 = runner_4.run_lsi_model()\n",
    "lda_model_4, lda_eval_4 = runner_4.run_lda_model()\n",
    "bm25_model_4, bm25_eval_4 = runner_4.run_bm25_model()\n",
    "w2v_model_4, w2v_eval_4 = runner_4.run_word2vec_model()"
   ]
  },
  {
   "cell_type": "markdown",
   "metadata": {},
   "source": [
    "### Results"
   ]
  },
  {
   "cell_type": "code",
   "execution_count": null,
   "metadata": {},
   "outputs": [],
   "source": [
    "results_4 = aux_functions.compile_results({'lsi_model':lsi_model_4,'lda_model':lda_model_4,'bm25_model':bm25_model_4,'w2v_model':w2v_model_4,\n",
    "                                         'lsi_eval':lsi_eval_4, 'lda_eval':lda_eval_4, 'bm25_eval':bm25_eval_4, 'w2v_eval':w2v_eval_4})\n",
    "results_4.head()"
   ]
  },
  {
   "cell_type": "markdown",
   "metadata": {},
   "source": [
    "### Plots"
   ]
  },
  {
   "cell_type": "code",
   "execution_count": null,
   "metadata": {},
   "outputs": [],
   "source": [
    "aux_functions.plot_results(results_4, title='Volunteers Only Strategy')"
   ]
  },
  {
   "cell_type": "markdown",
   "metadata": {},
   "source": [
    "### Delete Variables"
   ]
  },
  {
   "cell_type": "code",
   "execution_count": null,
   "metadata": {},
   "outputs": [],
   "source": [
    "del lsi_model_4, lda_model_4, bm25_model_4, w2v_model_4\n",
    "del lsi_eval_4, lda_eval_4, bm25_eval_4, w2v_eval_4\n",
    "del runner_4"
   ]
  }
 ],
 "metadata": {
  "kernelspec": {
   "display_name": "Python 3",
   "language": "python",
   "name": "python3"
  },
  "language_info": {
   "codemirror_mode": {
    "name": "ipython",
    "version": 3
   },
   "file_extension": ".py",
   "mimetype": "text/x-python",
   "name": "python",
   "nbconvert_exporter": "python",
   "pygments_lexer": "ipython3",
   "version": "3.6.6"
  }
 },
 "nbformat": 4,
 "nbformat_minor": 2
}

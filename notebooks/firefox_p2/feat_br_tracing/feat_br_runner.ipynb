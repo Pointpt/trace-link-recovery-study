{
 "cells": [
  {
   "cell_type": "markdown",
   "metadata": {},
   "source": [
    "# Introduction\n",
    "\n",
    "Notebook to aggregate the running of models in the context of traceability between features and bug reports."
   ]
  },
  {
   "cell_type": "markdown",
   "metadata": {
    "toc-hr-collapsed": false
   },
   "source": [
    "# Load Libraries and Datasets"
   ]
  },
  {
   "cell_type": "code",
   "execution_count": 1,
   "metadata": {},
   "outputs": [],
   "source": [
    "from mod_finder_util import mod_finder_util\n",
    "mod_finder_util.add_modules_origin_search_path()\n",
    "\n",
    "import pandas as pd\n",
    "import numpy as np\n",
    "\n",
    "from modules.models_runner.feat_br_models_runner import Feat_BR_Models_Runner\n",
    "from modules.utils import firefox_dataset_p2 as fd\n",
    "from modules.utils import aux_functions\n",
    "from modules.utils import model_evaluator as m_eval\n",
    "from modules.utils import similarity_measures as sm\n",
    "\n",
    "import warnings; warnings.simplefilter('ignore')"
   ]
  },
  {
   "cell_type": "markdown",
   "metadata": {},
   "source": [
    "# Run All Models"
   ]
  },
  {
   "cell_type": "markdown",
   "metadata": {},
   "source": [
    "## Volunteers Only Strategy"
   ]
  },
  {
   "cell_type": "code",
   "execution_count": 2,
   "metadata": {},
   "outputs": [
    {
     "name": "stdout",
     "output_type": "stream",
     "text": [
      "Features.shape: (19, 8)\n",
      "SelectedBugReports.shape: (91, 18)\n",
      "Running LSI model -----\n",
      "Running LDA model -----\n",
      "Running BM25 model -----\n",
      "Running W2V model -----\n",
      "Feat_BR Volunteers Matrix shape: (91, 19)\n",
      "Evaluating LSI Model ----- \n",
      "Evaluating LDA Model ----- \n",
      "Evaluating BM25 Model ----- \n",
      "Evaluating WORDVECTOR Model ----- \n"
     ]
    }
   ],
   "source": [
    "models_runner_4 = Feat_BR_Models_Runner()\n",
    "lsi_model_4 = models_runner_4.run_lsi_model()\n",
    "lda_model_4 = models_runner_4.run_lda_model()\n",
    "bm25_model_4 = models_runner_4.run_bm25_model()\n",
    "w2v_model_4 = models_runner_4.run_word2vec_model()\n",
    "\n",
    "oracle = fd.Feat_BR_Oracles.read_feat_br_volunteers_df().T\n",
    "\n",
    "evaluator_4 = m_eval.ModelEvaluator(oracle)\n",
    "evals_df_4 = evaluator_4.run_evaluator(models=[lsi_model_4,lda_model_4,bm25_model_4,w2v_model_4],\n",
    "                                       top_values=[1,3,5], \n",
    "                                       sim_thresholds=[(sm.SimilarityMeasure.COSINE, x/10) for x in range(0,10)])"
   ]
  },
  {
   "cell_type": "markdown",
   "metadata": {},
   "source": [
    "### Results"
   ]
  },
  {
   "cell_type": "code",
   "execution_count": 3,
   "metadata": {},
   "outputs": [
    {
     "data": {
      "text/html": [
       "<div>\n",
       "<style scoped>\n",
       "    .dataframe tbody tr th:only-of-type {\n",
       "        vertical-align: middle;\n",
       "    }\n",
       "\n",
       "    .dataframe tbody tr th {\n",
       "        vertical-align: top;\n",
       "    }\n",
       "\n",
       "    .dataframe thead th {\n",
       "        text-align: right;\n",
       "    }\n",
       "</style>\n",
       "<table border=\"1\" class=\"dataframe\">\n",
       "  <thead>\n",
       "    <tr style=\"text-align: right;\">\n",
       "      <th></th>\n",
       "      <th>model</th>\n",
       "      <th>ref_name</th>\n",
       "      <th>perc_precision</th>\n",
       "      <th>perc_recall</th>\n",
       "      <th>perc_fscore</th>\n",
       "      <th>eval_df</th>\n",
       "      <th>sim_threshold</th>\n",
       "      <th>top</th>\n",
       "      <th>trace_links_df</th>\n",
       "    </tr>\n",
       "  </thead>\n",
       "  <tbody>\n",
       "    <tr>\n",
       "      <th>0</th>\n",
       "      <td>lsi</td>\n",
       "      <td>top_1_cosine_0.0</td>\n",
       "      <td>28.57</td>\n",
       "      <td>26.18</td>\n",
       "      <td>26.62</td>\n",
       "      <td>precision  recall    fscore\n",
       "Bug_Nu...</td>\n",
       "      <td>0.0</td>\n",
       "      <td>1.0</td>\n",
       "      <td>Bug_Number               1248267  1248268  125...</td>\n",
       "    </tr>\n",
       "    <tr>\n",
       "      <th>1</th>\n",
       "      <td>lsi</td>\n",
       "      <td>top_1_cosine_0.1</td>\n",
       "      <td>28.57</td>\n",
       "      <td>26.18</td>\n",
       "      <td>26.62</td>\n",
       "      <td>precision  recall    fscore\n",
       "Bug_Nu...</td>\n",
       "      <td>0.1</td>\n",
       "      <td>1.0</td>\n",
       "      <td>Bug_Number               1248267  1248268  125...</td>\n",
       "    </tr>\n",
       "    <tr>\n",
       "      <th>2</th>\n",
       "      <td>lsi</td>\n",
       "      <td>top_1_cosine_0.2</td>\n",
       "      <td>28.57</td>\n",
       "      <td>26.18</td>\n",
       "      <td>26.62</td>\n",
       "      <td>precision  recall    fscore\n",
       "Bug_Nu...</td>\n",
       "      <td>0.2</td>\n",
       "      <td>1.0</td>\n",
       "      <td>Bug_Number               1248267  1248268  125...</td>\n",
       "    </tr>\n",
       "    <tr>\n",
       "      <th>3</th>\n",
       "      <td>lsi</td>\n",
       "      <td>top_1_cosine_0.3</td>\n",
       "      <td>28.57</td>\n",
       "      <td>26.18</td>\n",
       "      <td>26.62</td>\n",
       "      <td>precision  recall    fscore\n",
       "Bug_Nu...</td>\n",
       "      <td>0.3</td>\n",
       "      <td>1.0</td>\n",
       "      <td>Bug_Number               1248267  1248268  125...</td>\n",
       "    </tr>\n",
       "    <tr>\n",
       "      <th>4</th>\n",
       "      <td>lsi</td>\n",
       "      <td>top_1_cosine_0.4</td>\n",
       "      <td>28.57</td>\n",
       "      <td>26.18</td>\n",
       "      <td>26.62</td>\n",
       "      <td>precision  recall    fscore\n",
       "Bug_Nu...</td>\n",
       "      <td>0.4</td>\n",
       "      <td>1.0</td>\n",
       "      <td>Bug_Number               1248267  1248268  125...</td>\n",
       "    </tr>\n",
       "  </tbody>\n",
       "</table>\n",
       "</div>"
      ],
      "text/plain": [
       "  model          ref_name  perc_precision  perc_recall  perc_fscore  \\\n",
       "0   lsi  top_1_cosine_0.0           28.57        26.18        26.62   \n",
       "1   lsi  top_1_cosine_0.1           28.57        26.18        26.62   \n",
       "2   lsi  top_1_cosine_0.2           28.57        26.18        26.62   \n",
       "3   lsi  top_1_cosine_0.3           28.57        26.18        26.62   \n",
       "4   lsi  top_1_cosine_0.4           28.57        26.18        26.62   \n",
       "\n",
       "                                             eval_df  sim_threshold  top  \\\n",
       "0              precision  recall    fscore\n",
       "Bug_Nu...            0.0  1.0   \n",
       "1              precision  recall    fscore\n",
       "Bug_Nu...            0.1  1.0   \n",
       "2              precision  recall    fscore\n",
       "Bug_Nu...            0.2  1.0   \n",
       "3              precision  recall    fscore\n",
       "Bug_Nu...            0.3  1.0   \n",
       "4              precision  recall    fscore\n",
       "Bug_Nu...            0.4  1.0   \n",
       "\n",
       "                                      trace_links_df  \n",
       "0  Bug_Number               1248267  1248268  125...  \n",
       "1  Bug_Number               1248267  1248268  125...  \n",
       "2  Bug_Number               1248267  1248268  125...  \n",
       "3  Bug_Number               1248267  1248268  125...  \n",
       "4  Bug_Number               1248267  1248268  125...  "
      ]
     },
     "execution_count": 3,
     "metadata": {},
     "output_type": "execute_result"
    }
   ],
   "source": [
    "evals_df_4.head()"
   ]
  },
  {
   "cell_type": "markdown",
   "metadata": {},
   "source": [
    "### Analysis of Precision"
   ]
  },
  {
   "cell_type": "code",
   "execution_count": 4,
   "metadata": {},
   "outputs": [
    {
     "data": {
      "text/plain": [
       "model\n",
       "bm25          25.27\n",
       "lda           14.29\n",
       "lsi           31.32\n",
       "wordvector    28.57\n",
       "Name: perc_precision, dtype: float64"
      ]
     },
     "execution_count": 4,
     "metadata": {},
     "output_type": "execute_result"
    }
   ],
   "source": [
    "evals_df_4.groupby('model').perc_precision.max()"
   ]
  },
  {
   "cell_type": "code",
   "execution_count": 24,
   "metadata": {},
   "outputs": [],
   "source": [
    "#aux_functions.highlight_df(oracle)"
   ]
  },
  {
   "cell_type": "markdown",
   "metadata": {},
   "source": [
    "#### BM25"
   ]
  },
  {
   "cell_type": "code",
   "execution_count": 25,
   "metadata": {},
   "outputs": [],
   "source": [
    "df = evals_df_4[(evals_df_4.model == 'bm25') & (evals_df_4.perc_precision == 25.27) & (evals_df_4.ref_name == 'top_1_cosine_0.9')]\n",
    "df = df.iloc[0,:].trace_links_df\n",
    "#aux_functions.highlight_df(df)"
   ]
  },
  {
   "cell_type": "code",
   "execution_count": 29,
   "metadata": {},
   "outputs": [
    {
     "name": "stdout",
     "output_type": "stream",
     "text": [
      "TP = 23\n",
      "FP = 68\n",
      "FN = 70\n",
      "Precision = TP/(TP+FP) = 23/91 = 25.3%\n"
     ]
    }
   ],
   "source": [
    "tp_list = aux_functions.get_true_positives(oracle, df)\n",
    "fp_list = aux_functions.get_false_positives(oracle, df)\n",
    "fn_list = aux_functions.get_false_negatives(oracle, df)\n",
    "\n",
    "tp = len(tp_list)\n",
    "fp = len(fp_list)\n",
    "fn = len(fn_list)\n",
    "\n",
    "perc_precision = tp/(tp+fp) * 100\n",
    "\n",
    "print(\"TP = {}\".format(tp))\n",
    "print(\"FP = {}\".format(fp))\n",
    "print(\"FN = {}\".format(fn))\n",
    "print(\"Precision = TP/(TP+FP) = {}/{} = {:2.3}%\".format(tp,tp+fp, perc_precision))"
   ]
  },
  {
   "cell_type": "code",
   "execution_count": 43,
   "metadata": {},
   "outputs": [
    {
     "name": "stdout",
     "output_type": "stream",
     "text": [
      "SelectedBugReports.shape: (91, 18)\n"
     ]
    }
   ],
   "source": [
    "bugreports = fd.Datasets.read_selected_bugreports_df()"
   ]
  },
  {
   "cell_type": "code",
   "execution_count": 42,
   "metadata": {},
   "outputs": [
    {
     "name": "stdout",
     "output_type": "stream",
     "text": [
      "Feature: new_awesome_bar          <=> BR:  1257087 :  Middle mouse click on history item would not open\n",
      "Feature: new_awesome_bar          <=> BR:  1277937 : https has an underline instead of a strikethrough when mixed active content is loaded\n",
      "Feature: new_awesome_bar          <=> BR:  1281190 : Keep collecting telemetry for Permissions Notifications until version 55\n",
      "Feature: new_awesome_bar          <=> BR:  1282759 :         Support whole word search for find in page\n",
      "Feature: new_awesome_bar          <=> BR:  1289240 : Services.search.getDefaultEngines() empty, search engine reset triggered when using a language pack\n",
      "Feature: new_awesome_bar          <=> BR:  1290424 : Mouse-over (hover) on a dropdown suggestion (search, URL) causes the hovered-over item to be deleted on 'delete'-press\n",
      "Feature: new_awesome_bar          <=> BR:  1297686 : When multiple desktop files support the same protocol scheme, only one of them is listed\n",
      "Feature: new_awesome_bar          <=> BR:  1301784 :               Pref-off Search Reset UI for 50 beta\n",
      "Feature: new_awesome_bar          <=> BR:  1302468 : Firefox Beta reports channel as 'release' when build is RC due to use of Services.appinfo.defaultUpdateChannel\n",
      "Feature: new_awesome_bar          <=> BR:  1306639 : Searching in locationbar by typing something and pressing enter is not accounted in telemetry.\n",
      "Feature: new_awesome_bar          <=> BR:  1316126 :  `_endRemoveTab` can get stuck in an infinite loop\n",
      "Feature: new_awesome_bar          <=> BR:  1319919 :             Refine Insecure Password Warning style\n",
      "Feature: new_awesome_bar          <=> BR:  1325902 : Increase visibility of container highlight on tabs\n",
      "Feature: new_awesome_bar          <=> BR:  1335538 : Request volume to profile.accounts.firefox.com has doubled starting in Firefox 51\n",
      "Feature: new_awesome_bar          <=> BR:  1336227 : Show a blank window as soon as possible after start-up (pref'd off)\n",
      "Feature: new_awesome_bar          <=> BR:  1344446 : tab bar scroll buttons are too narrow for touchscreen use\n",
      "Feature: windows_child_mode       <=> BR:  1281493 : Identity popup sometimes doesn't display EV/DV site identity above \"Secure connection\" label\n",
      "Feature: windows_child_mode       <=> BR:  1285041 : Investigate Chrome profile migration importing history when chrome is running\n",
      "Feature: windows_child_mode       <=> BR:  1292573 : Broken keyboard interaction with the subview in the Downloads Panel\n",
      "Feature: windows_child_mode       <=> BR:  1320557 : No security information displayed for a specific website, using a specific Firefox profile\n",
      "Feature: windows_child_mode       <=> BR:  1352539 : Move defaultenginename pref setting into list.json\n",
      "Feature: windows_child_mode       <=> BR:  1357085 : Confirm your account pref screen should no longer redirect to Sync prefs\n",
      "Feature: windows_child_mode       <=> BR:  1432915 : Do not write the kMDItemWhereFroms xattr metadata for files downloaded in Private Browsing mode\n",
      "Feature: apz_async_scrolling      <=> BR:  1270274 : Intermittent browser_share.jsuncaught exception - Error: operation not possible on dead CPOW atTest timed outFound a tabSocialUI is not enabled - Got true, expected false\n",
      "Feature: apz_async_scrolling      <=> BR:  1279140 : awesomebar displaying incorrect text UI for containers\n",
      "Feature: apz_async_scrolling      <=> BR:  1305676 : In some circumstances passive mixed content indicator will override active mixed content indicator\n",
      "Feature: browser_customization    <=> BR:  1287748 : Syncing away from lwtheme updates internal state / add-on manager UI, but not the actual browser\n",
      "Feature: context_menu             <=> BR:  1248268 :            Unable to disable \"Recently bookmarked\"\n",
      "Feature: context_menu             <=> BR:  1271607 : The new window's size is modified if the last closed window had pinned tabs\n",
      "Feature: context_menu             <=> BR:  1279143 : color indicator missing when \"File -> New Container Tab\" without any windows opened\n",
      "Feature: context_menu             <=> BR:  1285328 : Hitting Escape or the X on the \"Restart Firefox\" dialog when enabling \"Never remember history\" is treated as a confirmation\n",
      "Feature: context_menu             <=> BR:  1287823 : [Linux] Dragging & dropping a download from the downloads panel on desktop saves a txt file\n",
      "Feature: context_menu             <=> BR:  1289832 : Open Link in New *Current Container* missing from context menu when opening about:newtab thumbnails\n",
      "Feature: context_menu             <=> BR:  1294733 : Awesomebar search buttons show auto completed text not user input\n",
      "Feature: context_menu             <=> BR:  1296322 : X button is vertically misaligned on the permission dropdown\n",
      "Feature: context_menu             <=> BR:  1296366 : Ctrl+Click awesomebar entry with \"Switch to Tab\" doesn't open new tab\n",
      "Feature: context_menu             <=> BR:  1297374 : [One-off searches] When changing the default search engine from Awesomebar, the icon of the new default engine is replaced by the icon of the old default engine\n",
      "Feature: context_menu             <=> BR:  1301056 : [e10s] Link with target=\"_blank\"  to download a file leaves a about:blank window/tab open after the download\n",
      "Feature: context_menu             <=> BR:  1301421 : browser.fixup.dns_first_for_single_words prevents location bar search suggestions even when there's more than one token and/or the first token is not a single word\n",
      "Feature: context_menu             <=> BR:  1305737 : Change notification displayed when an incoming tab can't determine the device name it came from\n",
      "Feature: context_menu             <=> BR:  1312018 :    Keyword search is always performed in lowercase\n",
      "Feature: context_menu             <=> BR:  1313778 : [Intermittent] Install Ecosia, Firebug, Theme Font & Size Changer\n",
      "Feature: context_menu             <=> BR:  1314643 : [One-off searches] Changing the default search engine from Search bar does not work first time\n",
      "Feature: context_menu             <=> BR:  1318903 : [Windows 7 and below] Fullscreen window controls not shown with dark themes, close button has broken \"red square\" hover state\n",
      "Feature: context_menu             <=> BR:  1323211 :  Change Sync datatype label from Tabs to Open tabs\n",
      "Feature: context_menu             <=> BR:  1330745 : When privacy.userContext.longPressBehavior is set to 1, it's impossible to open a default container tab from the + button.\n",
      "Feature: context_menu             <=> BR:  1343256 : Bookmark keywords disappear from one bookmark when adding a keyword to another bookmark\n",
      "Feature: context_menu             <=> BR:  1353831 : OneOff block in search bar doesn't update text if Customize was opened at least once\n",
      "Feature: context_menu             <=> BR:  1430603 : Restrict BROWSER_*_DEFAULT probes to parent-process only\n",
      "Feature: w10_comp                 <=> BR:  1267501 : New Private Browsing start-page overflows off the *left side of the window* (making content unscrollable) for small window sizes\n",
      "Feature: w10_comp                 <=> BR:  1269485 : New Private Browsing start-page has white/gray-text-on-white-background, in overflowed area off the right side of the window\n",
      "Feature: w10_comp                 <=> BR:  1345687 : [Regression] Clicking on audioVideoButton / sharing-icon don't work when typed on urlbar\n",
      "Feature: w10_comp                 <=> BR:  1451475 : Renew scalar browser.engagement.restored_pinned_tabs_count\n",
      "Feature: tts_in_rm                <=> BR:  1305195 : In private browsing mode, zoom level indicator is unreadable when dark developer edition theme is in use\n",
      "Feature: pointer_lock_api         <=> BR:  1449700 :                          refactor addTab/moveTabTo\n",
      "Feature: webm_eme                 <=> BR:  1313290 : Use browser specific message manager in `SocialShare.sharePage`\n",
      "Feature: zoom_indicator           <=> BR:  1295502 : 2.1 - 4.09% tart  / tresize / tsvgx  (linux64, windows7-32, windows8-64) regression on push 6af49d08884d76de44efd9387bbe340921652364 (Fri Aug 12 2016)\n",
      "Feature: indicator_device_perm    <=> BR:  1267480 : Intermittent browser/components/preferences/in-content/tests/browser_security.jsThis test exceeded the timeout threshold. It should be rewritten or split up.\n",
      "Feature: indicator_device_perm    <=> BR:  1269348 : Show last sync date tooltip on Synced Tabs sidebar device names\n",
      "Feature: indicator_device_perm    <=> BR:  1278388 : Permafailing on the change to firefox50: browser_permissions_urlFieldHidden.jsuncaught exception - Error: Expected one argument at showNotificationExceptions@content.js:136:5\n",
      "Feature: indicator_device_perm    <=> BR:  1287687 : Syncs happen every 90 seconds when stale device records exist.\n",
      "Feature: indicator_device_perm    <=> BR:  1297336 : Device permission gone from the permission dropdown after detaching the tab to a new window\n",
      "Feature: indicator_device_perm    <=> BR:  1303339 : The animated sharing icons of the control center panel never go to full opacity\n",
      "Feature: indicator_device_perm    <=> BR:  1319433 : Devices differ in Synced Tab and Send to Device menus\n",
      "Feature: indicator_device_perm    <=> BR:  1408361 : Received tab is truncated prematurely in notification\n",
      "Feature: flash_support            <=> BR:  1283542 :                Automigration from Chrome is broken\n",
      "Feature: flash_support            <=> BR:  1319119 : Turn on Insecure Password Warning in Firefox Release\n",
      "Feature: flash_support            <=> BR:  1328913 :      Pref-off Search Reset UI for beta and release\n"
     ]
    }
   ],
   "source": [
    "for idx,col in fp_list:\n",
    "    print('Feature: {:<24} <=> BR: {:>8} : {:>50}'.format(idx, col, str(bugreports[bugreports.Bug_Number == col].Summary.values[0])))"
   ]
  },
  {
   "cell_type": "markdown",
   "metadata": {},
   "source": [
    "### Plots"
   ]
  },
  {
   "cell_type": "raw",
   "metadata": {},
   "source": [
    "evaluator_4.plot_evaluations_1(evals_df=evals_df_4, title='Volunteers Only Strategy')"
   ]
  },
  {
   "cell_type": "code",
   "execution_count": null,
   "metadata": {},
   "outputs": [],
   "source": [
    "evaluator_4.plot_evaluations_3(evals_df_4, title='BR-Feat Traceability Recovery - Volunteers-Only Strategy')"
   ]
  },
  {
   "cell_type": "code",
   "execution_count": null,
   "metadata": {},
   "outputs": [],
   "source": [
    "evaluator_4.plot_evaluations_4(evals_df_4)"
   ]
  },
  {
   "cell_type": "code",
   "execution_count": null,
   "metadata": {},
   "outputs": [],
   "source": [
    "evaluator_4.plot_evaluations_5(evals_df_4)"
   ]
  },
  {
   "cell_type": "markdown",
   "metadata": {},
   "source": [
    "### Delete Variables"
   ]
  },
  {
   "cell_type": "raw",
   "metadata": {},
   "source": [
    "del lsi_model_4, lda_model_4, bm25_model_4, w2v_model_4\n",
    "del evals_df_4\n",
    "del models_runner_4, evaluator_4"
   ]
  },
  {
   "cell_type": "markdown",
   "metadata": {
    "toc-hr-collapsed": true
   },
   "source": [
    "## Union Strategy"
   ]
  },
  {
   "cell_type": "code",
   "execution_count": null,
   "metadata": {},
   "outputs": [],
   "source": [
    "models_runner_1 = Feat_BR_Models_Runner()\n",
    "lsi_model_1 = models_runner_1.run_lsi_model()\n",
    "lda_model_1 = models_runner_1.run_lda_model()\n",
    "bm25_model_1 = models_runner_1.run_bm25_model()\n",
    "w2v_model_1 = models_runner_1.run_word2vec_model()\n",
    "\n",
    "evaluator_1 = m_eval.ModelEvaluator(oracle=fd.Feat_BR_Oracles.read_feat_br_expert_volunteers_union_df().T)\n",
    "evals_df_1 = evaluator_1.run_evaluator(models=[lsi_model_1,lda_model_1,bm25_model_1,w2v_model_1], \n",
    "                                       top_values=[1,3,5,10], \n",
    "                                       sim_thresholds=[(sm.SimilarityMeasure.COSINE, x/10) for x in range(0,10)])"
   ]
  },
  {
   "cell_type": "markdown",
   "metadata": {},
   "source": [
    "### Results"
   ]
  },
  {
   "cell_type": "code",
   "execution_count": null,
   "metadata": {},
   "outputs": [],
   "source": [
    "evals_df_1.head()"
   ]
  },
  {
   "cell_type": "code",
   "execution_count": null,
   "metadata": {},
   "outputs": [],
   "source": [
    "evaluator_1.plot_evaluations_4(evals_df_1)"
   ]
  },
  {
   "cell_type": "code",
   "execution_count": null,
   "metadata": {},
   "outputs": [],
   "source": [
    "evaluator_1.plot_evaluations_5(evals_df_1)"
   ]
  },
  {
   "cell_type": "markdown",
   "metadata": {},
   "source": [
    "### Plots"
   ]
  },
  {
   "cell_type": "raw",
   "metadata": {},
   "source": [
    "evaluator_1.plot_evaluations_1(evals_df=evals_df_1, title='Exp-Vol Union Strategy')"
   ]
  },
  {
   "cell_type": "code",
   "execution_count": null,
   "metadata": {},
   "outputs": [],
   "source": [
    "evaluator_1.plot_evaluations_3(evals_df_1, title='BR-Feat Traceability Recovery - Exp-Vol Union Strategy')"
   ]
  },
  {
   "cell_type": "markdown",
   "metadata": {},
   "source": [
    "### Delete Variables"
   ]
  },
  {
   "cell_type": "raw",
   "metadata": {},
   "source": [
    "del lsi_model_1, lda_model_1, bm25_model_1, w2v_model_1\n",
    "del evals_df_1\n",
    "del models_runner_1, evaluator_1"
   ]
  },
  {
   "cell_type": "markdown",
   "metadata": {
    "toc-hr-collapsed": true
   },
   "source": [
    "## Intersec Strategy"
   ]
  },
  {
   "cell_type": "code",
   "execution_count": null,
   "metadata": {},
   "outputs": [],
   "source": [
    "models_runner_2 = Feat_BR_Models_Runner()\n",
    "lsi_model_2 = models_runner_2.run_lsi_model()\n",
    "lda_model_2 = models_runner_2.run_lda_model()\n",
    "bm25_model_2 = models_runner_2.run_bm25_model()\n",
    "w2v_model_2 = models_runner_2.run_word2vec_model()\n",
    "\n",
    "evaluator_2 = m_eval.ModelEvaluator(oracle=fd.Feat_BR_Oracles.read_feat_br_expert_volunteers_intersec_df().T)\n",
    "evals_df_2 = evaluator_2.run_evaluator(models=[lsi_model_2,lda_model_2, bm25_model_2, w2v_model_2],\n",
    "                                      top_values=[1,3,5,10], \n",
    "                                      sim_thresholds=[(sm.SimilarityMeasure.COSINE, x/10) for x in range(0,10)])"
   ]
  },
  {
   "cell_type": "markdown",
   "metadata": {},
   "source": [
    "### Results"
   ]
  },
  {
   "cell_type": "code",
   "execution_count": null,
   "metadata": {},
   "outputs": [],
   "source": [
    "evals_df_2.head()"
   ]
  },
  {
   "cell_type": "markdown",
   "metadata": {},
   "source": [
    "### Plots"
   ]
  },
  {
   "cell_type": "raw",
   "metadata": {},
   "source": [
    "evaluator_2.plot_evaluations_1(evals_df=evals_df_2, title='Exp-Vol Intersec Strategy')"
   ]
  },
  {
   "cell_type": "code",
   "execution_count": null,
   "metadata": {},
   "outputs": [],
   "source": [
    "evaluator_2.plot_evaluations_3(evals_df_2, title='BR-Feat Traceability Recovery - Exp-Vol Intersec Strategy')"
   ]
  },
  {
   "cell_type": "code",
   "execution_count": null,
   "metadata": {},
   "outputs": [],
   "source": [
    "evaluator_2.plot_evaluations_4(evals_df_2)"
   ]
  },
  {
   "cell_type": "code",
   "execution_count": null,
   "metadata": {},
   "outputs": [],
   "source": [
    "evaluator_2.plot_evaluations_5(evals_df_2)"
   ]
  },
  {
   "cell_type": "markdown",
   "metadata": {},
   "source": [
    "### Delete Variables"
   ]
  },
  {
   "cell_type": "raw",
   "metadata": {},
   "source": [
    "del lsi_model_2, lda_model_2, bm25_model_2, w2v_model_2\n",
    "del evals_df_2\n",
    "del models_runner_2, evaluator_2"
   ]
  },
  {
   "cell_type": "markdown",
   "metadata": {
    "toc-hr-collapsed": true
   },
   "source": [
    "## Expert Only Strategy"
   ]
  },
  {
   "cell_type": "code",
   "execution_count": null,
   "metadata": {},
   "outputs": [],
   "source": [
    "models_runner_3 = Feat_BR_Models_Runner()\n",
    "lsi_model_3 = models_runner_3.run_lsi_model()\n",
    "lda_model_3 = models_runner_3.run_lda_model()\n",
    "bm25_model_3 = models_runner_3.run_bm25_model()\n",
    "w2v_model_3 = models_runner_3.run_word2vec_model()\n",
    "\n",
    "evaluator_3 = m_eval.ModelEvaluator(oracle=fd.Feat_BR_Oracles.read_feat_br_expert_df().T)\n",
    "evals_df_3 = evaluator_3.run_evaluator(models=[lsi_model_3, lda_model_3, bm25_model_3, w2v_model_3],\n",
    "                                       top_values=[1,3,5,10], \n",
    "                                       sim_thresholds=[(sm.SimilarityMeasure.COSINE, x/10) for x in range(0,10)])"
   ]
  },
  {
   "cell_type": "markdown",
   "metadata": {},
   "source": [
    "### Results"
   ]
  },
  {
   "cell_type": "code",
   "execution_count": null,
   "metadata": {},
   "outputs": [],
   "source": [
    "evals_df_3.head()"
   ]
  },
  {
   "cell_type": "markdown",
   "metadata": {},
   "source": [
    "### Plots"
   ]
  },
  {
   "cell_type": "raw",
   "metadata": {},
   "source": [
    "evaluator_3.plot_evaluations_1(evals_df=evals_df_3, title='Expert Only Strategy')"
   ]
  },
  {
   "cell_type": "code",
   "execution_count": null,
   "metadata": {},
   "outputs": [],
   "source": [
    "evaluator_3.plot_evaluations_3(evals_df_3, title='BR-Feat Traceability Recovery - Expert-Only Strategy')"
   ]
  },
  {
   "cell_type": "code",
   "execution_count": null,
   "metadata": {},
   "outputs": [],
   "source": [
    "evaluator_3.plot_evaluations_4(evals_df_3)"
   ]
  },
  {
   "cell_type": "code",
   "execution_count": null,
   "metadata": {},
   "outputs": [],
   "source": [
    "evaluator_3.plot_evaluations_5(evals_df_3)"
   ]
  },
  {
   "cell_type": "markdown",
   "metadata": {},
   "source": [
    "### Delete Variables"
   ]
  },
  {
   "cell_type": "markdown",
   "metadata": {},
   "source": [
    "del lsi_model_3, lda_model_3, bm25_model_3, w2v_model_3\n",
    "del evals_df_3\n",
    "del models_runner_3, evaluator_3"
   ]
  }
 ],
 "metadata": {
  "kernelspec": {
   "display_name": "Python 3",
   "language": "python",
   "name": "python3"
  },
  "language_info": {
   "codemirror_mode": {
    "name": "ipython",
    "version": 3
   },
   "file_extension": ".py",
   "mimetype": "text/x-python",
   "name": "python",
   "nbconvert_exporter": "python",
   "pygments_lexer": "ipython3",
   "version": "3.7.3"
  },
  "toc-autonumbering": false,
  "toc-showcode": false,
  "toc-showmarkdowntxt": true,
  "toc-showtags": false
 },
 "nbformat": 4,
 "nbformat_minor": 2
}

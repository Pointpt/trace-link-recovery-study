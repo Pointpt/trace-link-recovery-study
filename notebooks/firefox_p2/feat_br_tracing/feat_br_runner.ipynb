{
 "cells": [
  {
   "cell_type": "markdown",
   "metadata": {},
   "source": [
    "# Introduction\n",
    "\n",
    "Notebook to aggregate the running of models in the context of traceability between **features** and **bug reports**."
   ]
  },
  {
   "cell_type": "markdown",
   "metadata": {
    "toc-hr-collapsed": false
   },
   "source": [
    "# Load Libraries and Datasets"
   ]
  },
  {
   "cell_type": "code",
   "execution_count": 1,
   "metadata": {},
   "outputs": [],
   "source": [
    "from mod_finder_util import mod_finder_util\n",
    "mod_finder_util.add_modules_origin_search_path()\n",
    "\n",
    "from modules.models_runner import feat_br_strat_runner\n",
    "\n",
    "import warnings; warnings.simplefilter('ignore')"
   ]
  },
  {
   "cell_type": "markdown",
   "metadata": {},
   "source": [
    "# Run All Models"
   ]
  },
  {
   "cell_type": "markdown",
   "metadata": {
    "toc-hr-collapsed": true
   },
   "source": [
    "## Volunteers Only Strategy"
   ]
  },
  {
   "cell_type": "code",
   "execution_count": 2,
   "metadata": {},
   "outputs": [
    {
     "name": "stdout",
     "output_type": "stream",
     "text": [
      "Feat_BR Volunteers Matrix shape: (91, 19)\n",
      "Features.shape: (19, 8)\n",
      "SelectedBugReports.shape: (91, 18)\n",
      "Running LSI model -----\n",
      "Running LDA model -----\n",
      "Running BM25 model -----\n",
      "Running W2V model -----\n",
      "Evaluating LSI Model ----- \n",
      "Evaluating LDA Model ----- \n",
      "Evaluating BM25 Model ----- \n",
      "Evaluating WORDVECTOR Model ----- \n"
     ]
    }
   ],
   "source": [
    "vol_strat_runner = feat_br_strat_runner.Feat_BR_Vol_Strat_Runner()\n",
    "vol_strat_runner.execute()\n",
    "\n",
    "evaluator_4 = vol_strat_runner.get_evaluator() \n",
    "evals_df_4 = vol_strat_runner.get_evals_df()"
   ]
  },
  {
   "cell_type": "markdown",
   "metadata": {},
   "source": [
    "### Results"
   ]
  },
  {
   "cell_type": "code",
   "execution_count": 3,
   "metadata": {},
   "outputs": [
    {
     "data": {
      "text/html": [
       "<div>\n",
       "<style scoped>\n",
       "    .dataframe tbody tr th:only-of-type {\n",
       "        vertical-align: middle;\n",
       "    }\n",
       "\n",
       "    .dataframe tbody tr th {\n",
       "        vertical-align: top;\n",
       "    }\n",
       "\n",
       "    .dataframe thead th {\n",
       "        text-align: right;\n",
       "    }\n",
       "</style>\n",
       "<table border=\"1\" class=\"dataframe\">\n",
       "  <thead>\n",
       "    <tr style=\"text-align: right;\">\n",
       "      <th></th>\n",
       "      <th>model</th>\n",
       "      <th>ref_name</th>\n",
       "      <th>perc_precision</th>\n",
       "      <th>perc_recall</th>\n",
       "      <th>perc_fscore</th>\n",
       "      <th>eval_df</th>\n",
       "      <th>sim_threshold</th>\n",
       "      <th>top</th>\n",
       "      <th>trace_links_df</th>\n",
       "    </tr>\n",
       "  </thead>\n",
       "  <tbody>\n",
       "    <tr>\n",
       "      <th>0</th>\n",
       "      <td>lsi</td>\n",
       "      <td>top_1_cosine_0.0</td>\n",
       "      <td>28.57</td>\n",
       "      <td>26.18</td>\n",
       "      <td>26.62</td>\n",
       "      <td>precision  recall    fscore\n",
       "Bug_Nu...</td>\n",
       "      <td>0.0</td>\n",
       "      <td>1.0</td>\n",
       "      <td>Bug_Number               1248267  1248268  125...</td>\n",
       "    </tr>\n",
       "    <tr>\n",
       "      <th>1</th>\n",
       "      <td>lsi</td>\n",
       "      <td>top_1_cosine_0.1</td>\n",
       "      <td>28.57</td>\n",
       "      <td>26.18</td>\n",
       "      <td>26.62</td>\n",
       "      <td>precision  recall    fscore\n",
       "Bug_Nu...</td>\n",
       "      <td>0.1</td>\n",
       "      <td>1.0</td>\n",
       "      <td>Bug_Number               1248267  1248268  125...</td>\n",
       "    </tr>\n",
       "    <tr>\n",
       "      <th>2</th>\n",
       "      <td>lsi</td>\n",
       "      <td>top_1_cosine_0.2</td>\n",
       "      <td>28.57</td>\n",
       "      <td>26.18</td>\n",
       "      <td>26.62</td>\n",
       "      <td>precision  recall    fscore\n",
       "Bug_Nu...</td>\n",
       "      <td>0.2</td>\n",
       "      <td>1.0</td>\n",
       "      <td>Bug_Number               1248267  1248268  125...</td>\n",
       "    </tr>\n",
       "    <tr>\n",
       "      <th>3</th>\n",
       "      <td>lsi</td>\n",
       "      <td>top_1_cosine_0.3</td>\n",
       "      <td>28.57</td>\n",
       "      <td>26.18</td>\n",
       "      <td>26.62</td>\n",
       "      <td>precision  recall    fscore\n",
       "Bug_Nu...</td>\n",
       "      <td>0.3</td>\n",
       "      <td>1.0</td>\n",
       "      <td>Bug_Number               1248267  1248268  125...</td>\n",
       "    </tr>\n",
       "    <tr>\n",
       "      <th>4</th>\n",
       "      <td>lsi</td>\n",
       "      <td>top_1_cosine_0.4</td>\n",
       "      <td>28.57</td>\n",
       "      <td>26.18</td>\n",
       "      <td>26.62</td>\n",
       "      <td>precision  recall    fscore\n",
       "Bug_Nu...</td>\n",
       "      <td>0.4</td>\n",
       "      <td>1.0</td>\n",
       "      <td>Bug_Number               1248267  1248268  125...</td>\n",
       "    </tr>\n",
       "  </tbody>\n",
       "</table>\n",
       "</div>"
      ],
      "text/plain": [
       "  model          ref_name  perc_precision  perc_recall  perc_fscore  \\\n",
       "0   lsi  top_1_cosine_0.0           28.57        26.18        26.62   \n",
       "1   lsi  top_1_cosine_0.1           28.57        26.18        26.62   \n",
       "2   lsi  top_1_cosine_0.2           28.57        26.18        26.62   \n",
       "3   lsi  top_1_cosine_0.3           28.57        26.18        26.62   \n",
       "4   lsi  top_1_cosine_0.4           28.57        26.18        26.62   \n",
       "\n",
       "                                             eval_df  sim_threshold  top  \\\n",
       "0              precision  recall    fscore\n",
       "Bug_Nu...            0.0  1.0   \n",
       "1              precision  recall    fscore\n",
       "Bug_Nu...            0.1  1.0   \n",
       "2              precision  recall    fscore\n",
       "Bug_Nu...            0.2  1.0   \n",
       "3              precision  recall    fscore\n",
       "Bug_Nu...            0.3  1.0   \n",
       "4              precision  recall    fscore\n",
       "Bug_Nu...            0.4  1.0   \n",
       "\n",
       "                                      trace_links_df  \n",
       "0  Bug_Number               1248267  1248268  125...  \n",
       "1  Bug_Number               1248267  1248268  125...  \n",
       "2  Bug_Number               1248267  1248268  125...  \n",
       "3  Bug_Number               1248267  1248268  125...  \n",
       "4  Bug_Number               1248267  1248268  125...  "
      ]
     },
     "execution_count": 3,
     "metadata": {},
     "output_type": "execute_result"
    }
   ],
   "source": [
    "evals_df_4.head()"
   ]
  },
  {
   "cell_type": "code",
   "execution_count": 4,
   "metadata": {},
   "outputs": [
    {
     "data": {
      "text/html": [
       "<style  type=\"text/css\" >\n",
       "    #T_5bf63050_6d1b_11e9_ac68_7128a2ba1465row0_col0 {\n",
       "            background-color:  #008000;\n",
       "            color:  #f1f1f1;\n",
       "        }    #T_5bf63050_6d1b_11e9_ac68_7128a2ba1465row0_col1 {\n",
       "            background-color:  #50ac50;\n",
       "            color:  #000000;\n",
       "        }    #T_5bf63050_6d1b_11e9_ac68_7128a2ba1465row0_col2 {\n",
       "            background-color:  #008000;\n",
       "            color:  #f1f1f1;\n",
       "        }    #T_5bf63050_6d1b_11e9_ac68_7128a2ba1465row1_col0 {\n",
       "            background-color:  #3fa33f;\n",
       "            color:  #000000;\n",
       "        }    #T_5bf63050_6d1b_11e9_ac68_7128a2ba1465row1_col1 {\n",
       "            background-color:  #0c860c;\n",
       "            color:  #f1f1f1;\n",
       "        }    #T_5bf63050_6d1b_11e9_ac68_7128a2ba1465row1_col2 {\n",
       "            background-color:  #108910;\n",
       "            color:  #f1f1f1;\n",
       "        }    #T_5bf63050_6d1b_11e9_ac68_7128a2ba1465row2_col0 {\n",
       "            background-color:  #4eab4e;\n",
       "            color:  #000000;\n",
       "        }    #T_5bf63050_6d1b_11e9_ac68_7128a2ba1465row2_col1 {\n",
       "            background-color:  #008000;\n",
       "            color:  #f1f1f1;\n",
       "        }    #T_5bf63050_6d1b_11e9_ac68_7128a2ba1465row2_col2 {\n",
       "            background-color:  #219221;\n",
       "            color:  #000000;\n",
       "        }    #T_5bf63050_6d1b_11e9_ac68_7128a2ba1465row3_col0 {\n",
       "            background-color:  #e5ffe5;\n",
       "            color:  #000000;\n",
       "        }    #T_5bf63050_6d1b_11e9_ac68_7128a2ba1465row3_col1 {\n",
       "            background-color:  #e5ffe5;\n",
       "            color:  #000000;\n",
       "        }    #T_5bf63050_6d1b_11e9_ac68_7128a2ba1465row3_col2 {\n",
       "            background-color:  #e5ffe5;\n",
       "            color:  #000000;\n",
       "        }    #T_5bf63050_6d1b_11e9_ac68_7128a2ba1465row4_col0 {\n",
       "            background-color:  #9cd69c;\n",
       "            color:  #000000;\n",
       "        }    #T_5bf63050_6d1b_11e9_ac68_7128a2ba1465row4_col1 {\n",
       "            background-color:  #4caa4c;\n",
       "            color:  #000000;\n",
       "        }    #T_5bf63050_6d1b_11e9_ac68_7128a2ba1465row4_col2 {\n",
       "            background-color:  #6fbd6f;\n",
       "            color:  #000000;\n",
       "        }    #T_5bf63050_6d1b_11e9_ac68_7128a2ba1465row5_col0 {\n",
       "            background-color:  #a3daa3;\n",
       "            color:  #000000;\n",
       "        }    #T_5bf63050_6d1b_11e9_ac68_7128a2ba1465row5_col1 {\n",
       "            background-color:  #209220;\n",
       "            color:  #000000;\n",
       "        }    #T_5bf63050_6d1b_11e9_ac68_7128a2ba1465row5_col2 {\n",
       "            background-color:  #70be70;\n",
       "            color:  #000000;\n",
       "        }    #T_5bf63050_6d1b_11e9_ac68_7128a2ba1465row6_col0 {\n",
       "            background-color:  #209220;\n",
       "            color:  #000000;\n",
       "        }    #T_5bf63050_6d1b_11e9_ac68_7128a2ba1465row6_col1 {\n",
       "            background-color:  #65b865;\n",
       "            color:  #000000;\n",
       "        }    #T_5bf63050_6d1b_11e9_ac68_7128a2ba1465row6_col2 {\n",
       "            background-color:  #209220;\n",
       "            color:  #000000;\n",
       "        }    #T_5bf63050_6d1b_11e9_ac68_7128a2ba1465row7_col0 {\n",
       "            background-color:  #369e36;\n",
       "            color:  #000000;\n",
       "        }    #T_5bf63050_6d1b_11e9_ac68_7128a2ba1465row7_col1 {\n",
       "            background-color:  #289628;\n",
       "            color:  #000000;\n",
       "        }    #T_5bf63050_6d1b_11e9_ac68_7128a2ba1465row7_col2 {\n",
       "            background-color:  #168c16;\n",
       "            color:  #000000;\n",
       "        }    #T_5bf63050_6d1b_11e9_ac68_7128a2ba1465row8_col0 {\n",
       "            background-color:  #43a543;\n",
       "            color:  #000000;\n",
       "        }    #T_5bf63050_6d1b_11e9_ac68_7128a2ba1465row8_col1 {\n",
       "            background-color:  #1f911f;\n",
       "            color:  #000000;\n",
       "        }    #T_5bf63050_6d1b_11e9_ac68_7128a2ba1465row8_col2 {\n",
       "            background-color:  #229322;\n",
       "            color:  #000000;\n",
       "        }    #T_5bf63050_6d1b_11e9_ac68_7128a2ba1465row9_col0 {\n",
       "            background-color:  #6dbc6d;\n",
       "            color:  #000000;\n",
       "        }    #T_5bf63050_6d1b_11e9_ac68_7128a2ba1465row9_col1 {\n",
       "            background-color:  #96d396;\n",
       "            color:  #000000;\n",
       "        }    #T_5bf63050_6d1b_11e9_ac68_7128a2ba1465row9_col2 {\n",
       "            background-color:  #6cbc6c;\n",
       "            color:  #000000;\n",
       "        }    #T_5bf63050_6d1b_11e9_ac68_7128a2ba1465row10_col0 {\n",
       "            background-color:  #8fcf8f;\n",
       "            color:  #000000;\n",
       "        }    #T_5bf63050_6d1b_11e9_ac68_7128a2ba1465row10_col1 {\n",
       "            background-color:  #349d34;\n",
       "            color:  #000000;\n",
       "        }    #T_5bf63050_6d1b_11e9_ac68_7128a2ba1465row10_col2 {\n",
       "            background-color:  #5db35d;\n",
       "            color:  #000000;\n",
       "        }    #T_5bf63050_6d1b_11e9_ac68_7128a2ba1465row11_col0 {\n",
       "            background-color:  #a8dda8;\n",
       "            color:  #000000;\n",
       "        }    #T_5bf63050_6d1b_11e9_ac68_7128a2ba1465row11_col1 {\n",
       "            background-color:  #0e880e;\n",
       "            color:  #f1f1f1;\n",
       "        }    #T_5bf63050_6d1b_11e9_ac68_7128a2ba1465row11_col2 {\n",
       "            background-color:  #72bf72;\n",
       "            color:  #000000;\n",
       "        }</style><table id=\"T_5bf63050_6d1b_11e9_ac68_7128a2ba1465\" ><thead>    <tr>        <th class=\"blank\" ></th>        <th class=\"blank level0\" ></th>        <th class=\"col_heading level0 col0\" >perc_precision</th>        <th class=\"col_heading level0 col1\" >perc_recall</th>        <th class=\"col_heading level0 col2\" >perc_fscore</th>    </tr>    <tr>        <th class=\"index_name level0\" >model</th>        <th class=\"index_name level1\" >top</th>        <th class=\"blank\" ></th>        <th class=\"blank\" ></th>        <th class=\"blank\" ></th>    </tr></thead><tbody>\n",
       "                <tr>\n",
       "                        <th id=\"T_5bf63050_6d1b_11e9_ac68_7128a2ba1465level0_row0\" class=\"row_heading level0 row0\" rowspan=3>bm25</th>\n",
       "                        <th id=\"T_5bf63050_6d1b_11e9_ac68_7128a2ba1465level1_row0\" class=\"row_heading level1 row0\" >1.0</th>\n",
       "                        <td id=\"T_5bf63050_6d1b_11e9_ac68_7128a2ba1465row0_col0\" class=\"data row0 col0\" >30.77</td>\n",
       "                        <td id=\"T_5bf63050_6d1b_11e9_ac68_7128a2ba1465row0_col1\" class=\"data row0 col1\" >28.38</td>\n",
       "                        <td id=\"T_5bf63050_6d1b_11e9_ac68_7128a2ba1465row0_col2\" class=\"data row0 col2\" >28.82</td>\n",
       "            </tr>\n",
       "            <tr>\n",
       "                                <th id=\"T_5bf63050_6d1b_11e9_ac68_7128a2ba1465level1_row1\" class=\"row_heading level1 row1\" >3.0</th>\n",
       "                        <td id=\"T_5bf63050_6d1b_11e9_ac68_7128a2ba1465row1_col0\" class=\"data row1 col0\" >22.896</td>\n",
       "                        <td id=\"T_5bf63050_6d1b_11e9_ac68_7128a2ba1465row1_col1\" class=\"data row1 col1\" >40.625</td>\n",
       "                        <td id=\"T_5bf63050_6d1b_11e9_ac68_7128a2ba1465row1_col2\" class=\"data row1 col2\" >26.79</td>\n",
       "            </tr>\n",
       "            <tr>\n",
       "                                <th id=\"T_5bf63050_6d1b_11e9_ac68_7128a2ba1465level1_row2\" class=\"row_heading level1 row2\" >5.0</th>\n",
       "                        <td id=\"T_5bf63050_6d1b_11e9_ac68_7128a2ba1465row2_col0\" class=\"data row2 col0\" >20.99</td>\n",
       "                        <td id=\"T_5bf63050_6d1b_11e9_ac68_7128a2ba1465row2_col1\" class=\"data row2 col1\" >42.888</td>\n",
       "                        <td id=\"T_5bf63050_6d1b_11e9_ac68_7128a2ba1465row2_col2\" class=\"data row2 col2\" >24.822</td>\n",
       "            </tr>\n",
       "            <tr>\n",
       "                        <th id=\"T_5bf63050_6d1b_11e9_ac68_7128a2ba1465level0_row3\" class=\"row_heading level0 row3\" rowspan=3>lda</th>\n",
       "                        <th id=\"T_5bf63050_6d1b_11e9_ac68_7128a2ba1465level1_row3\" class=\"row_heading level1 row3\" >1.0</th>\n",
       "                        <td id=\"T_5bf63050_6d1b_11e9_ac68_7128a2ba1465row3_col0\" class=\"data row3 col0\" >2.09</td>\n",
       "                        <td id=\"T_5bf63050_6d1b_11e9_ac68_7128a2ba1465row3_col1\" class=\"data row3 col1\" >1.226</td>\n",
       "                        <td id=\"T_5bf63050_6d1b_11e9_ac68_7128a2ba1465row3_col2\" class=\"data row3 col2\" >1.316</td>\n",
       "            </tr>\n",
       "            <tr>\n",
       "                                <th id=\"T_5bf63050_6d1b_11e9_ac68_7128a2ba1465level1_row4\" class=\"row_heading level1 row4\" >3.0</th>\n",
       "                        <td id=\"T_5bf63050_6d1b_11e9_ac68_7128a2ba1465row4_col0\" class=\"data row4 col0\" >11.319</td>\n",
       "                        <td id=\"T_5bf63050_6d1b_11e9_ac68_7128a2ba1465row4_col1\" class=\"data row4 col1\" >29.102</td>\n",
       "                        <td id=\"T_5bf63050_6d1b_11e9_ac68_7128a2ba1465row4_col2\" class=\"data row4 col2\" >15.549</td>\n",
       "            </tr>\n",
       "            <tr>\n",
       "                                <th id=\"T_5bf63050_6d1b_11e9_ac68_7128a2ba1465level1_row5\" class=\"row_heading level1 row5\" >5.0</th>\n",
       "                        <td id=\"T_5bf63050_6d1b_11e9_ac68_7128a2ba1465row5_col0\" class=\"data row5 col0\" >10.454</td>\n",
       "                        <td id=\"T_5bf63050_6d1b_11e9_ac68_7128a2ba1465row5_col1\" class=\"data row5 col1\" >36.875</td>\n",
       "                        <td id=\"T_5bf63050_6d1b_11e9_ac68_7128a2ba1465row5_col2\" class=\"data row5 col2\" >15.476</td>\n",
       "            </tr>\n",
       "            <tr>\n",
       "                        <th id=\"T_5bf63050_6d1b_11e9_ac68_7128a2ba1465level0_row6\" class=\"row_heading level0 row6\" rowspan=3>lsi</th>\n",
       "                        <th id=\"T_5bf63050_6d1b_11e9_ac68_7128a2ba1465level1_row6\" class=\"row_heading level1 row6\" >1.0</th>\n",
       "                        <td id=\"T_5bf63050_6d1b_11e9_ac68_7128a2ba1465row6_col0\" class=\"data row6 col0\" >26.703</td>\n",
       "                        <td id=\"T_5bf63050_6d1b_11e9_ac68_7128a2ba1465row6_col1\" class=\"data row6 col1\" >24.51</td>\n",
       "                        <td id=\"T_5bf63050_6d1b_11e9_ac68_7128a2ba1465row6_col2\" class=\"data row6 col2\" >24.898</td>\n",
       "            </tr>\n",
       "            <tr>\n",
       "                                <th id=\"T_5bf63050_6d1b_11e9_ac68_7128a2ba1465level1_row7\" class=\"row_heading level1 row7\" >3.0</th>\n",
       "                        <td id=\"T_5bf63050_6d1b_11e9_ac68_7128a2ba1465row7_col0\" class=\"data row7 col0\" >24.013</td>\n",
       "                        <td id=\"T_5bf63050_6d1b_11e9_ac68_7128a2ba1465row7_col1\" class=\"data row7 col1\" >35.465</td>\n",
       "                        <td id=\"T_5bf63050_6d1b_11e9_ac68_7128a2ba1465row7_col2\" class=\"data row7 col2\" >26.174</td>\n",
       "            </tr>\n",
       "            <tr>\n",
       "                                <th id=\"T_5bf63050_6d1b_11e9_ac68_7128a2ba1465level1_row8\" class=\"row_heading level1 row8\" >5.0</th>\n",
       "                        <td id=\"T_5bf63050_6d1b_11e9_ac68_7128a2ba1465row8_col0\" class=\"data row8 col0\" >22.449</td>\n",
       "                        <td id=\"T_5bf63050_6d1b_11e9_ac68_7128a2ba1465row8_col1\" class=\"data row8 col1\" >37.041</td>\n",
       "                        <td id=\"T_5bf63050_6d1b_11e9_ac68_7128a2ba1465row8_col2\" class=\"data row8 col2\" >24.634</td>\n",
       "            </tr>\n",
       "            <tr>\n",
       "                        <th id=\"T_5bf63050_6d1b_11e9_ac68_7128a2ba1465level0_row9\" class=\"row_heading level0 row9\" rowspan=3>wordvector</th>\n",
       "                        <th id=\"T_5bf63050_6d1b_11e9_ac68_7128a2ba1465level1_row9\" class=\"row_heading level1 row9\" >1.0</th>\n",
       "                        <td id=\"T_5bf63050_6d1b_11e9_ac68_7128a2ba1465row9_col0\" class=\"data row9 col0\" >17.141</td>\n",
       "                        <td id=\"T_5bf63050_6d1b_11e9_ac68_7128a2ba1465row9_col1\" class=\"data row9 col1\" >15.63</td>\n",
       "                        <td id=\"T_5bf63050_6d1b_11e9_ac68_7128a2ba1465row9_col2\" class=\"data row9 col2\" >15.92</td>\n",
       "            </tr>\n",
       "            <tr>\n",
       "                                <th id=\"T_5bf63050_6d1b_11e9_ac68_7128a2ba1465level1_row10\" class=\"row_heading level1 row10\" >3.0</th>\n",
       "                        <td id=\"T_5bf63050_6d1b_11e9_ac68_7128a2ba1465row10_col0\" class=\"data row10 col0\" >12.86</td>\n",
       "                        <td id=\"T_5bf63050_6d1b_11e9_ac68_7128a2ba1465row10_col1\" class=\"data row10 col1\" >33.307</td>\n",
       "                        <td id=\"T_5bf63050_6d1b_11e9_ac68_7128a2ba1465row10_col2\" class=\"data row10 col2\" >17.735</td>\n",
       "            </tr>\n",
       "            <tr>\n",
       "                                <th id=\"T_5bf63050_6d1b_11e9_ac68_7128a2ba1465level1_row11\" class=\"row_heading level1 row11\" >5.0</th>\n",
       "                        <td id=\"T_5bf63050_6d1b_11e9_ac68_7128a2ba1465row11_col0\" class=\"data row11 col0\" >9.819</td>\n",
       "                        <td id=\"T_5bf63050_6d1b_11e9_ac68_7128a2ba1465row11_col1\" class=\"data row11 col1\" >40.24</td>\n",
       "                        <td id=\"T_5bf63050_6d1b_11e9_ac68_7128a2ba1465row11_col2\" class=\"data row11 col2\" >15.074</td>\n",
       "            </tr>\n",
       "    </tbody></table>"
      ],
      "text/plain": [
       "<pandas.io.formats.style.Styler at 0x7fb351af0320>"
      ]
     },
     "execution_count": 4,
     "metadata": {},
     "output_type": "execute_result"
    }
   ],
   "source": [
    "from modules.utils import aux_functions\n",
    "\n",
    "aux_functions.highlight_df( evals_df_4[['model','perc_precision','perc_recall','perc_fscore','top']].groupby(['model','top']).mean())"
   ]
  },
  {
   "cell_type": "markdown",
   "metadata": {},
   "source": [
    "### Plots"
   ]
  },
  {
   "cell_type": "raw",
   "metadata": {},
   "source": [
    "evaluator_4.plot_evaluations_1(evals_df=evals_df_4, title='Volunteers Only Strategy')"
   ]
  },
  {
   "cell_type": "code",
   "execution_count": 5,
   "metadata": {},
   "outputs": [
    {
     "data": {
      "image/png": "[encoded data removed]",
      "text/plain": [
       "<Figure size 720x360 with 1 Axes>"
      ]
     },
     "metadata": {
      "needs_background": "light"
     },
     "output_type": "display_data"
    }
   ],
   "source": [
    "evaluator_4.plot_evaluations_3(evals_df_4, title='BR-Feat Traceability Recovery - Volunteers-Only Strategy')"
   ]
  },
  {
   "cell_type": "code",
   "execution_count": 6,
   "metadata": {},
   "outputs": [
    {
     "data": {
      "image/png": "[encoded data removed]",
      "text/plain": [
       "<Figure size 1440x360 with 4 Axes>"
      ]
     },
     "metadata": {
      "needs_background": "light"
     },
     "output_type": "display_data"
    }
   ],
   "source": [
    "evaluator_4.plot_evaluations_4(evals_df_4)"
   ]
  },
  {
   "cell_type": "code",
   "execution_count": 7,
   "metadata": {},
   "outputs": [
    {
     "data": {
      "image/png": "[encoded data removed]",
      "text/plain": [
       "<Figure size 720x360 with 1 Axes>"
      ]
     },
     "metadata": {
      "needs_background": "light"
     },
     "output_type": "display_data"
    }
   ],
   "source": [
    "evaluator_4.plot_evaluations_5(evals_df_4)"
   ]
  },
  {
   "cell_type": "code",
   "execution_count": 33,
   "metadata": {},
   "outputs": [
    {
     "data": {
      "text/html": [
       "<div>\n",
       "<style scoped>\n",
       "    .dataframe tbody tr th:only-of-type {\n",
       "        vertical-align: middle;\n",
       "    }\n",
       "\n",
       "    .dataframe tbody tr th {\n",
       "        vertical-align: top;\n",
       "    }\n",
       "\n",
       "    .dataframe thead th {\n",
       "        text-align: right;\n",
       "    }\n",
       "</style>\n",
       "<table border=\"1\" class=\"dataframe\">\n",
       "  <thead>\n",
       "    <tr style=\"text-align: right;\">\n",
       "      <th></th>\n",
       "      <th>model</th>\n",
       "      <th>ref_name</th>\n",
       "      <th>perc_precision</th>\n",
       "      <th>perc_recall</th>\n",
       "      <th>perc_fscore</th>\n",
       "      <th>eval_df</th>\n",
       "      <th>sim_threshold</th>\n",
       "      <th>top</th>\n",
       "      <th>trace_links_df</th>\n",
       "    </tr>\n",
       "  </thead>\n",
       "  <tbody>\n",
       "    <tr>\n",
       "      <th>119</th>\n",
       "      <td>wordvector</td>\n",
       "      <td>top_5_cosine_0.9</td>\n",
       "      <td>7.64</td>\n",
       "      <td>28.3</td>\n",
       "      <td>11.44</td>\n",
       "      <td>precision  recall    fscore\n",
       "Bug_Nu...</td>\n",
       "      <td>0.9</td>\n",
       "      <td>5.0</td>\n",
       "      <td>Bug_Number               1248267  1248268  125...</td>\n",
       "    </tr>\n",
       "  </tbody>\n",
       "</table>\n",
       "</div>"
      ],
      "text/plain": [
       "          model          ref_name  perc_precision  perc_recall  perc_fscore  \\\n",
       "119  wordvector  top_5_cosine_0.9            7.64         28.3        11.44   \n",
       "\n",
       "                                               eval_df  sim_threshold  top  \\\n",
       "119              precision  recall    fscore\n",
       "Bug_Nu...            0.9  5.0   \n",
       "\n",
       "                                        trace_links_df  \n",
       "119  Bug_Number               1248267  1248268  125...  "
      ]
     },
     "execution_count": 33,
     "metadata": {},
     "output_type": "execute_result"
    }
   ],
   "source": [
    "evals_df_4[(evals_df_4.ref_name == 'top_{}_cosine_{}'.format(top,cos)) & (evals_df_4.model == m)]"
   ]
  },
  {
   "cell_type": "markdown",
   "metadata": {},
   "source": [
    "### Retrieved Traces"
   ]
  },
  {
   "cell_type": "code",
   "execution_count": 26,
   "metadata": {},
   "outputs": [
    {
     "name": "stdout",
     "output_type": "stream",
     "text": [
      "Retrieved (m=lsi, t=1, c=0.0): 91\n",
      "Retrieved (m=lsi, t=1, c=0.9): 24\n",
      "Retrieved (m=lsi, t=3, c=0.0): 273\n",
      "Retrieved (m=lsi, t=3, c=0.9): 24\n",
      "Retrieved (m=lsi, t=5, c=0.0): 455\n",
      "Retrieved (m=lsi, t=5, c=0.9): 24\n",
      "Retrieved (m=lda, t=1, c=0.0): 91\n",
      "Retrieved (m=lda, t=1, c=0.9): 32\n",
      "Retrieved (m=lda, t=3, c=0.0): 273\n",
      "Retrieved (m=lda, t=3, c=0.9): 90\n",
      "Retrieved (m=lda, t=5, c=0.0): 455\n",
      "Retrieved (m=lda, t=5, c=0.9): 90\n",
      "Retrieved (m=bm25, t=1, c=0.0): 91\n",
      "Retrieved (m=bm25, t=1, c=0.9): 91\n",
      "Retrieved (m=bm25, t=3, c=0.0): 273\n",
      "Retrieved (m=bm25, t=3, c=0.9): 118\n",
      "Retrieved (m=bm25, t=5, c=0.0): 455\n",
      "Retrieved (m=bm25, t=5, c=0.9): 119\n",
      "Retrieved (m=wordvector, t=1, c=0.0): 91\n",
      "Retrieved (m=wordvector, t=1, c=0.9): 72\n",
      "Retrieved (m=wordvector, t=3, c=0.0): 273\n",
      "Retrieved (m=wordvector, t=3, c=0.9): 205\n",
      "Retrieved (m=wordvector, t=5, c=0.0): 455\n",
      "Retrieved (m=wordvector, t=5, c=0.9): 315\n"
     ]
    }
   ],
   "source": [
    "models = ['lsi','lda','bm25','wordvector']\n",
    "tops = [1,3,5]\n",
    "cosines = [0.0, 0.9]\n",
    "\n",
    "for m in models:\n",
    "    for top in tops:\n",
    "        for cos in cosines:\n",
    "            trace_links = evals_df_4[(evals_df_4.ref_name == 'top_{}_cosine_{}'.format(top,cos)) & (evals_df_4.model == m)].iloc[0,:].trace_links_df\n",
    "            s = 0\n",
    "            for col in trace_links.columns:\n",
    "                s = s + trace_links[col].sum()\n",
    "            print('Retrieved (m={}, t={}, c={}): {}'.format(m,top,cos,s))"
   ]
  },
  {
   "cell_type": "markdown",
   "metadata": {},
   "source": [
    "### Relevant Traces"
   ]
  },
  {
   "cell_type": "code",
   "execution_count": 31,
   "metadata": {},
   "outputs": [
    {
     "name": "stdout",
     "output_type": "stream",
     "text": [
      "Relevant (m=lsi, t=1, c=0.0): 26\n",
      "Relevant (m=lsi, t=1, c=0.9): 13\n",
      "Relevant (m=lsi, t=3, c=0.0): 50\n",
      "Relevant (m=lsi, t=3, c=0.9): 13\n",
      "Relevant (m=lsi, t=5, c=0.0): 57\n",
      "Relevant (m=lsi, t=5, c=0.9): 13\n",
      "Relevant (m=lda, t=1, c=0.0): 2\n",
      "Relevant (m=lda, t=1, c=0.9): 1\n",
      "Relevant (m=lda, t=3, c=0.0): 33\n",
      "Relevant (m=lda, t=3, c=0.9): 18\n",
      "Relevant (m=lda, t=5, c=0.0): 45\n",
      "Relevant (m=lda, t=5, c=0.9): 18\n",
      "Relevant (m=bm25, t=1, c=0.0): 28\n",
      "Relevant (m=bm25, t=1, c=0.9): 28\n",
      "Relevant (m=bm25, t=3, c=0.0): 47\n",
      "Relevant (m=bm25, t=3, c=0.9): 32\n",
      "Relevant (m=bm25, t=5, c=0.0): 54\n",
      "Relevant (m=bm25, t=5, c=0.9): 32\n",
      "Relevant (m=wordvector, t=1, c=0.0): 16\n",
      "Relevant (m=wordvector, t=1, c=0.9): 13\n",
      "Relevant (m=wordvector, t=3, c=0.0): 36\n",
      "Relevant (m=wordvector, t=3, c=0.9): 27\n",
      "Relevant (m=wordvector, t=5, c=0.0): 46\n",
      "Relevant (m=wordvector, t=5, c=0.9): 29\n"
     ]
    }
   ],
   "source": [
    "from modules.utils import aux_functions\n",
    "\n",
    "models = ['lsi','lda','bm25','wordvector']\n",
    "tops = [1,3,5]\n",
    "cosines = [0.0, 0.9]\n",
    "\n",
    "for m in models:\n",
    "    for top in tops:\n",
    "        for cos in cosines:\n",
    "            trace_links = evals_df_4[(evals_df_4.ref_name == 'top_{}_cosine_{}'.format(top,cos)) & (evals_df_4.model == m)].iloc[0,:].trace_links_df\n",
    "            tp_amount = len(aux_functions.get_true_positives(oracle_df=vol_strat_runner.get_oracle(), output_df = trace_links))\n",
    "            print('Relevant (m={}, t={}, c={}): {}'.format(m,top,cos,tp_amount))"
   ]
  },
  {
   "cell_type": "markdown",
   "metadata": {},
   "source": [
    "### Delete Variables"
   ]
  },
  {
   "cell_type": "raw",
   "metadata": {},
   "source": [
    "del lsi_model_4, lda_model_4, bm25_model_4, w2v_model_4\n",
    "del evals_df_4\n",
    "del models_runner_4, evaluator_4"
   ]
  },
  {
   "cell_type": "markdown",
   "metadata": {
    "toc-hr-collapsed": true
   },
   "source": [
    "## Union Strategy"
   ]
  },
  {
   "cell_type": "code",
   "execution_count": null,
   "metadata": {},
   "outputs": [],
   "source": [
    "exp_vol_union_strat_runner = feat_br_strat_runner.Feat_BR_Exp_Vol_Union_Strat_Runner()\n",
    "exp_vol_union_strat_runner.execute()\n",
    "\n",
    "evaluator_1 = exp_vol_union_strat_runner.get_evaluator() \n",
    "evals_df_1 = exp_vol_union_strat_runner.get_evals_df()"
   ]
  },
  {
   "cell_type": "markdown",
   "metadata": {},
   "source": [
    "### Results"
   ]
  },
  {
   "cell_type": "code",
   "execution_count": null,
   "metadata": {},
   "outputs": [],
   "source": [
    "evals_df_1.head()"
   ]
  },
  {
   "cell_type": "code",
   "execution_count": null,
   "metadata": {},
   "outputs": [],
   "source": [
    "evaluator_1.plot_evaluations_4(evals_df_1)"
   ]
  },
  {
   "cell_type": "code",
   "execution_count": null,
   "metadata": {},
   "outputs": [],
   "source": [
    "evaluator_1.plot_evaluations_5(evals_df_1)"
   ]
  },
  {
   "cell_type": "markdown",
   "metadata": {},
   "source": [
    "### Plots"
   ]
  },
  {
   "cell_type": "raw",
   "metadata": {},
   "source": [
    "evaluator_1.plot_evaluations_1(evals_df=evals_df_1, title='Exp-Vol Union Strategy')"
   ]
  },
  {
   "cell_type": "code",
   "execution_count": null,
   "metadata": {},
   "outputs": [],
   "source": [
    "evaluator_1.plot_evaluations_3(evals_df_1, title='BR-Feat Traceability Recovery - Exp-Vol Union Strategy')"
   ]
  },
  {
   "cell_type": "markdown",
   "metadata": {},
   "source": [
    "### Delete Variables"
   ]
  },
  {
   "cell_type": "raw",
   "metadata": {},
   "source": [
    "del lsi_model_1, lda_model_1, bm25_model_1, w2v_model_1\n",
    "del evals_df_1\n",
    "del models_runner_1, evaluator_1"
   ]
  },
  {
   "cell_type": "markdown",
   "metadata": {
    "toc-hr-collapsed": true
   },
   "source": [
    "## Intersec Strategy"
   ]
  },
  {
   "cell_type": "code",
   "execution_count": null,
   "metadata": {},
   "outputs": [],
   "source": [
    "exp_vol_intersec_strat_runner = feat_br_strat_runner.Feat_BR_Exp_Vol_Intersec_Strat_Runner()\n",
    "exp_vol_intersec_strat_runner.execute()\n",
    "\n",
    "evaluator_2 = exp_vol_intersec_strat_runner.get_evaluator() \n",
    "evals_df_2 = exp_vol_intersec_strat_runner.get_evals_df()"
   ]
  },
  {
   "cell_type": "markdown",
   "metadata": {},
   "source": [
    "### Results"
   ]
  },
  {
   "cell_type": "code",
   "execution_count": null,
   "metadata": {},
   "outputs": [],
   "source": [
    "evals_df_2.head()"
   ]
  },
  {
   "cell_type": "markdown",
   "metadata": {},
   "source": [
    "### Plots"
   ]
  },
  {
   "cell_type": "raw",
   "metadata": {},
   "source": [
    "evaluator_2.plot_evaluations_1(evals_df=evals_df_2, title='Exp-Vol Intersec Strategy')"
   ]
  },
  {
   "cell_type": "code",
   "execution_count": null,
   "metadata": {},
   "outputs": [],
   "source": [
    "evaluator_2.plot_evaluations_3(evals_df_2, title='BR-Feat Traceability Recovery - Exp-Vol Intersec Strategy')"
   ]
  },
  {
   "cell_type": "code",
   "execution_count": null,
   "metadata": {},
   "outputs": [],
   "source": [
    "evaluator_2.plot_evaluations_4(evals_df_2)"
   ]
  },
  {
   "cell_type": "code",
   "execution_count": null,
   "metadata": {},
   "outputs": [],
   "source": [
    "evaluator_2.plot_evaluations_5(evals_df_2)"
   ]
  },
  {
   "cell_type": "markdown",
   "metadata": {},
   "source": [
    "### Delete Variables"
   ]
  },
  {
   "cell_type": "raw",
   "metadata": {},
   "source": [
    "del lsi_model_2, lda_model_2, bm25_model_2, w2v_model_2\n",
    "del evals_df_2\n",
    "del models_runner_2, evaluator_2"
   ]
  },
  {
   "cell_type": "markdown",
   "metadata": {
    "toc-hr-collapsed": true
   },
   "source": [
    "## Expert Only Strategy"
   ]
  },
  {
   "cell_type": "code",
   "execution_count": null,
   "metadata": {},
   "outputs": [],
   "source": [
    "exp_strat_runner = feat_br_strat_runner.Feat_BR_Exp_Strat_Runner()\n",
    "exp_strat_runner.execute()\n",
    "\n",
    "evaluator_3 = exp_strat_runner.get_evaluator() \n",
    "evals_df_3 = exp_strat_runner.get_evals_df()"
   ]
  },
  {
   "cell_type": "markdown",
   "metadata": {},
   "source": [
    "### Results"
   ]
  },
  {
   "cell_type": "code",
   "execution_count": null,
   "metadata": {},
   "outputs": [],
   "source": [
    "evals_df_3.head()"
   ]
  },
  {
   "cell_type": "markdown",
   "metadata": {},
   "source": [
    "### Plots"
   ]
  },
  {
   "cell_type": "raw",
   "metadata": {},
   "source": [
    "evaluator_3.plot_evaluations_1(evals_df=evals_df_3, title='Expert Only Strategy')"
   ]
  },
  {
   "cell_type": "code",
   "execution_count": null,
   "metadata": {},
   "outputs": [],
   "source": [
    "evaluator_3.plot_evaluations_3(evals_df_3, title='BR-Feat Traceability Recovery - Expert-Only Strategy')"
   ]
  },
  {
   "cell_type": "code",
   "execution_count": null,
   "metadata": {},
   "outputs": [],
   "source": [
    "evaluator_3.plot_evaluations_4(evals_df_3)"
   ]
  },
  {
   "cell_type": "code",
   "execution_count": null,
   "metadata": {},
   "outputs": [],
   "source": [
    "evaluator_3.plot_evaluations_5(evals_df_3)"
   ]
  },
  {
   "cell_type": "markdown",
   "metadata": {},
   "source": [
    "### Delete Variables"
   ]
  },
  {
   "cell_type": "raw",
   "metadata": {},
   "source": [
    "del lsi_model_3, lda_model_3, bm25_model_3, w2v_model_3\n",
    "del evals_df_3\n",
    "del models_runner_3, evaluator_3"
   ]
  }
 ],
 "metadata": {
  "kernelspec": {
   "display_name": "Python 3",
   "language": "python",
   "name": "python3"
  },
  "language_info": {
   "codemirror_mode": {
    "name": "ipython",
    "version": 3
   },
   "file_extension": ".py",
   "mimetype": "text/x-python",
   "name": "python",
   "nbconvert_exporter": "python",
   "pygments_lexer": "ipython3",
   "version": "3.7.3"
  },
  "toc-autonumbering": true,
  "toc-showcode": false,
  "toc-showmarkdowntxt": true,
  "toc-showtags": false
 },
 "nbformat": 4,
 "nbformat_minor": 2
}

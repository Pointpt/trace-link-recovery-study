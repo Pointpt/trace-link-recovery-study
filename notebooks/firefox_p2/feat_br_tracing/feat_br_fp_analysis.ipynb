{
 "cells": [
  {
   "cell_type": "markdown",
   "metadata": {},
   "source": [
    "# Introduction\n",
    "\n",
    "Notebook to analyze the **False Positive** Results for each model in the context of traceability between features and bug reports."
   ]
  },
  {
   "cell_type": "markdown",
   "metadata": {
    "toc-hr-collapsed": false
   },
   "source": [
    "# Load Libraries and Datasets"
   ]
  },
  {
   "cell_type": "code",
   "execution_count": 1,
   "metadata": {},
   "outputs": [],
   "source": [
    "from mod_finder_util import mod_finder_util\n",
    "mod_finder_util.add_modules_origin_search_path()\n",
    "\n",
    "import pandas as pd\n",
    "import numpy as np\n",
    "import matplotlib.pyplot as plt\n",
    "from matplotlib_venn import venn3\n",
    "\n",
    "from modules.models_runner.feat_br_models_runner import Feat_BR_Models_Runner\n",
    "from modules.utils import firefox_dataset_p2 as fd\n",
    "from modules.utils import aux_functions\n",
    "from modules.utils import model_evaluator as m_eval\n",
    "from modules.utils import similarity_measures as sm\n",
    "\n",
    "import warnings; warnings.simplefilter('ignore')"
   ]
  },
  {
   "cell_type": "markdown",
   "metadata": {},
   "source": [
    "# Run All Models"
   ]
  },
  {
   "cell_type": "markdown",
   "metadata": {},
   "source": [
    "## Volunteers Only Strategy"
   ]
  },
  {
   "cell_type": "code",
   "execution_count": 2,
   "metadata": {},
   "outputs": [
    {
     "name": "stdout",
     "output_type": "stream",
     "text": [
      "Features.shape: (19, 8)\n",
      "SelectedBugReports.shape: (91, 18)\n",
      "Running LSI model -----\n",
      "Running LDA model -----\n",
      "Running BM25 model -----\n",
      "Running W2V model -----\n",
      "Feat_BR Volunteers Matrix shape: (91, 19)\n",
      "Evaluating LSI Model ----- \n",
      "Evaluating LDA Model ----- \n",
      "Evaluating BM25 Model ----- \n",
      "Evaluating WORDVECTOR Model ----- \n"
     ]
    }
   ],
   "source": [
    "models_runner_4 = Feat_BR_Models_Runner()\n",
    "lsi_model_4 = models_runner_4.run_lsi_model()\n",
    "lda_model_4 = models_runner_4.run_lda_model()\n",
    "bm25_model_4 = models_runner_4.run_bm25_model()\n",
    "w2v_model_4 = models_runner_4.run_word2vec_model()\n",
    "\n",
    "oracle = fd.Feat_BR_Oracles.read_feat_br_volunteers_df().T\n",
    "\n",
    "evaluator_4 = m_eval.ModelEvaluator(oracle)\n",
    "evals_df_4 = evaluator_4.run_evaluator(models=[lsi_model_4,lda_model_4,bm25_model_4,w2v_model_4],\n",
    "                                       top_values=[1,3,5], \n",
    "                                       sim_thresholds=[(sm.SimilarityMeasure.COSINE, x/10) for x in range(0,10)])"
   ]
  },
  {
   "cell_type": "markdown",
   "metadata": {},
   "source": [
    "### Load Datasets"
   ]
  },
  {
   "cell_type": "code",
   "execution_count": 3,
   "metadata": {},
   "outputs": [
    {
     "name": "stdout",
     "output_type": "stream",
     "text": [
      "SelectedBugReports.shape: (91, 18)\n",
      "Features.shape: (19, 8)\n"
     ]
    }
   ],
   "source": [
    "bugreports = fd.Datasets.read_selected_bugreports_df()\n",
    "features = fd.Datasets.read_features_df()"
   ]
  },
  {
   "cell_type": "markdown",
   "metadata": {},
   "source": [
    "### Results"
   ]
  },
  {
   "cell_type": "code",
   "execution_count": 4,
   "metadata": {},
   "outputs": [
    {
     "data": {
      "text/html": [
       "<div>\n",
       "<style scoped>\n",
       "    .dataframe tbody tr th:only-of-type {\n",
       "        vertical-align: middle;\n",
       "    }\n",
       "\n",
       "    .dataframe tbody tr th {\n",
       "        vertical-align: top;\n",
       "    }\n",
       "\n",
       "    .dataframe thead th {\n",
       "        text-align: right;\n",
       "    }\n",
       "</style>\n",
       "<table border=\"1\" class=\"dataframe\">\n",
       "  <thead>\n",
       "    <tr style=\"text-align: right;\">\n",
       "      <th></th>\n",
       "      <th>model</th>\n",
       "      <th>ref_name</th>\n",
       "      <th>perc_precision</th>\n",
       "      <th>perc_recall</th>\n",
       "      <th>perc_fscore</th>\n",
       "      <th>eval_df</th>\n",
       "      <th>sim_threshold</th>\n",
       "      <th>top</th>\n",
       "      <th>trace_links_df</th>\n",
       "    </tr>\n",
       "  </thead>\n",
       "  <tbody>\n",
       "    <tr>\n",
       "      <th>0</th>\n",
       "      <td>lsi</td>\n",
       "      <td>top_1_cosine_0.0</td>\n",
       "      <td>28.57</td>\n",
       "      <td>26.18</td>\n",
       "      <td>26.62</td>\n",
       "      <td>precision  recall    fscore\n",
       "Bug_Nu...</td>\n",
       "      <td>0.0</td>\n",
       "      <td>1.0</td>\n",
       "      <td>Bug_Number               1248267  1248268  125...</td>\n",
       "    </tr>\n",
       "    <tr>\n",
       "      <th>1</th>\n",
       "      <td>lsi</td>\n",
       "      <td>top_1_cosine_0.1</td>\n",
       "      <td>28.57</td>\n",
       "      <td>26.18</td>\n",
       "      <td>26.62</td>\n",
       "      <td>precision  recall    fscore\n",
       "Bug_Nu...</td>\n",
       "      <td>0.1</td>\n",
       "      <td>1.0</td>\n",
       "      <td>Bug_Number               1248267  1248268  125...</td>\n",
       "    </tr>\n",
       "    <tr>\n",
       "      <th>2</th>\n",
       "      <td>lsi</td>\n",
       "      <td>top_1_cosine_0.2</td>\n",
       "      <td>28.57</td>\n",
       "      <td>26.18</td>\n",
       "      <td>26.62</td>\n",
       "      <td>precision  recall    fscore\n",
       "Bug_Nu...</td>\n",
       "      <td>0.2</td>\n",
       "      <td>1.0</td>\n",
       "      <td>Bug_Number               1248267  1248268  125...</td>\n",
       "    </tr>\n",
       "    <tr>\n",
       "      <th>3</th>\n",
       "      <td>lsi</td>\n",
       "      <td>top_1_cosine_0.3</td>\n",
       "      <td>28.57</td>\n",
       "      <td>26.18</td>\n",
       "      <td>26.62</td>\n",
       "      <td>precision  recall    fscore\n",
       "Bug_Nu...</td>\n",
       "      <td>0.3</td>\n",
       "      <td>1.0</td>\n",
       "      <td>Bug_Number               1248267  1248268  125...</td>\n",
       "    </tr>\n",
       "    <tr>\n",
       "      <th>4</th>\n",
       "      <td>lsi</td>\n",
       "      <td>top_1_cosine_0.4</td>\n",
       "      <td>28.57</td>\n",
       "      <td>26.18</td>\n",
       "      <td>26.62</td>\n",
       "      <td>precision  recall    fscore\n",
       "Bug_Nu...</td>\n",
       "      <td>0.4</td>\n",
       "      <td>1.0</td>\n",
       "      <td>Bug_Number               1248267  1248268  125...</td>\n",
       "    </tr>\n",
       "  </tbody>\n",
       "</table>\n",
       "</div>"
      ],
      "text/plain": [
       "  model          ref_name  perc_precision  perc_recall  perc_fscore  \\\n",
       "0   lsi  top_1_cosine_0.0           28.57        26.18        26.62   \n",
       "1   lsi  top_1_cosine_0.1           28.57        26.18        26.62   \n",
       "2   lsi  top_1_cosine_0.2           28.57        26.18        26.62   \n",
       "3   lsi  top_1_cosine_0.3           28.57        26.18        26.62   \n",
       "4   lsi  top_1_cosine_0.4           28.57        26.18        26.62   \n",
       "\n",
       "                                             eval_df  sim_threshold  top  \\\n",
       "0              precision  recall    fscore\n",
       "Bug_Nu...            0.0  1.0   \n",
       "1              precision  recall    fscore\n",
       "Bug_Nu...            0.1  1.0   \n",
       "2              precision  recall    fscore\n",
       "Bug_Nu...            0.2  1.0   \n",
       "3              precision  recall    fscore\n",
       "Bug_Nu...            0.3  1.0   \n",
       "4              precision  recall    fscore\n",
       "Bug_Nu...            0.4  1.0   \n",
       "\n",
       "                                      trace_links_df  \n",
       "0  Bug_Number               1248267  1248268  125...  \n",
       "1  Bug_Number               1248267  1248268  125...  \n",
       "2  Bug_Number               1248267  1248268  125...  \n",
       "3  Bug_Number               1248267  1248268  125...  \n",
       "4  Bug_Number               1248267  1248268  125...  "
      ]
     },
     "execution_count": 4,
     "metadata": {},
     "output_type": "execute_result"
    }
   ],
   "source": [
    "evals_df_4.head()"
   ]
  },
  {
   "cell_type": "markdown",
   "metadata": {},
   "source": [
    "### Grouping Results by Model"
   ]
  },
  {
   "cell_type": "markdown",
   "metadata": {
    "toc-hr-collapsed": true
   },
   "source": [
    "### Min Precision"
   ]
  },
  {
   "cell_type": "code",
   "execution_count": 5,
   "metadata": {},
   "outputs": [
    {
     "name": "stdout",
     "output_type": "stream",
     "text": [
      "model\n",
      "bm25          11.65\n",
      "lda            3.66\n",
      "lsi           12.53\n",
      "wordvector     9.67\n",
      "Name: perc_precision, dtype: float64\n",
      "\n"
     ]
    },
    {
     "data": {
      "image/png": "[encoded data removed]",
      "text/plain": [
       "<Figure size 432x288 with 1 Axes>"
      ]
     },
     "metadata": {},
     "output_type": "display_data"
    },
    {
     "data": {
      "image/png": "[encoded data removed]",
      "text/plain": [
       "<Figure size 432x288 with 1 Axes>"
      ]
     },
     "metadata": {},
     "output_type": "display_data"
    },
    {
     "data": {
      "image/png": "[encoded data removed]",
      "text/plain": [
       "<Figure size 432x288 with 1 Axes>"
      ]
     },
     "metadata": {},
     "output_type": "display_data"
    },
    {
     "data": {
      "image/png": "[encoded data removed]",
      "text/plain": [
       "<Figure size 432x288 with 1 Axes>"
      ]
     },
     "metadata": {},
     "output_type": "display_data"
    }
   ],
   "source": [
    "group = evals_df_4.groupby('model').perc_precision.min()\n",
    "print(group)\n",
    "print()\n",
    "\n",
    "bm25_min_prec = group[group.index == 'bm25'].values[0]\n",
    "lsi_min_prec = group[group.index == 'lsi'].values[0]\n",
    "lda_min_prec = group[group.index == 'lda'].values[0]\n",
    "wv_min_prec = group[group.index == 'wordvector'].values[0]\n",
    "\n",
    "bm25_fp_set = aux_functions.get_false_positives(oracle, aux_functions.get_trace_links_df(evaluations_df=evals_df_4, model='bm25', perc_precision=bm25_min_prec))\n",
    "lsi_fp_set = aux_functions.get_false_positives(oracle, aux_functions.get_trace_links_df(evaluations_df=evals_df_4, model='lsi', perc_precision=lsi_min_prec))\n",
    "lda_fp_set = aux_functions.get_false_positives(oracle, aux_functions.get_trace_links_df(evaluations_df=evals_df_4, model='lda', perc_precision=lda_min_prec))\n",
    "wv_fp_set = aux_functions.get_false_positives(oracle, aux_functions.get_trace_links_df(evaluations_df=evals_df_4, model='wordvector', perc_precision=wv_min_prec))\n",
    "\n",
    "venn3([bm25_fp_set, lsi_fp_set, lda_fp_set], ['BM25','LSI','LDA'])\n",
    "plt.title('Comparison False Positives by Model (BM25, LSI, LDA) - Min Precision')\n",
    "plt.show()\n",
    "\n",
    "venn3([bm25_fp_set, wv_fp_set, lda_fp_set], ['BM25','WV','LDA'])\n",
    "plt.title('Comparison False Positives by Model (BM25, WV, LDA) - Min Precision')\n",
    "plt.show()\n",
    "\n",
    "venn3([lsi_fp_set, wv_fp_set, lda_fp_set], ['LSI','WV','LDA'])\n",
    "plt.title('Comparison False Positives by Model (LSI, WV, LDA) - Min Precision')\n",
    "plt.show()\n",
    "\n",
    "venn3([lsi_fp_set, wv_fp_set, bm25_fp_set], ['LSI','WV','BM25'])\n",
    "plt.title('Comparison False Positives by Model (LSI, WV, BM25) - Min Precision')\n",
    "plt.show()"
   ]
  },
  {
   "cell_type": "markdown",
   "metadata": {},
   "source": [
    "##### Exclusive Cases"
   ]
  },
  {
   "cell_type": "code",
   "execution_count": 6,
   "metadata": {},
   "outputs": [
    {
     "name": "stdout",
     "output_type": "stream",
     "text": [
      "BM25 Exclusive TP:\n"
     ]
    },
    {
     "data": {
      "text/plain": [
       "{('apz_async_scrolling', 1248268),\n",
       " ('apz_async_scrolling', 1257087),\n",
       " ('apz_async_scrolling', 1270274),\n",
       " ('apz_async_scrolling', 1271607),\n",
       " ('apz_async_scrolling', 1276120),\n",
       " ('apz_async_scrolling', 1279143),\n",
       " ('apz_async_scrolling', 1285328),\n",
       " ('apz_async_scrolling', 1287823),\n",
       " ('apz_async_scrolling', 1292566),\n",
       " ('apz_async_scrolling', 1294733),\n",
       " ('apz_async_scrolling', 1296322),\n",
       " ('apz_async_scrolling', 1296861),\n",
       " ('apz_async_scrolling', 1297336),\n",
       " ('apz_async_scrolling', 1297374),\n",
       " ('apz_async_scrolling', 1305676),\n",
       " ('apz_async_scrolling', 1305737),\n",
       " ('apz_async_scrolling', 1309856),\n",
       " ('apz_async_scrolling', 1312018),\n",
       " ('apz_async_scrolling', 1353831),\n",
       " ('apz_async_scrolling', 1357458),\n",
       " ('apz_async_scrolling', 1365887),\n",
       " ('context_menu', 1264988),\n",
       " ('context_menu', 1267480),\n",
       " ('context_menu', 1279140),\n",
       " ('context_menu', 1281190),\n",
       " ('context_menu', 1283542),\n",
       " ('context_menu', 1287384),\n",
       " ('context_menu', 1287687),\n",
       " ('context_menu', 1287748),\n",
       " ('context_menu', 1291770),\n",
       " ('context_menu', 1292573),\n",
       " ('context_menu', 1297686),\n",
       " ('context_menu', 1297976),\n",
       " ('context_menu', 1301784),\n",
       " ('context_menu', 1305195),\n",
       " ('context_menu', 1305676),\n",
       " ('context_menu', 1305737),\n",
       " ('context_menu', 1328913),\n",
       " ('context_menu', 1339497),\n",
       " ('context_menu', 1344446),\n",
       " ('context_menu', 1352539),\n",
       " ('context_menu', 1357085),\n",
       " ('downloads_dropmaker', 1302468),\n",
       " ('flac_support', 1270274),\n",
       " ('flac_support', 1278388),\n",
       " ('flac_support', 1282759),\n",
       " ('flac_support', 1285041),\n",
       " ('flac_support', 1297686),\n",
       " ('flac_support', 1313290),\n",
       " ('flac_support', 1325902),\n",
       " ('flash_support', 1264988),\n",
       " ('flash_support', 1276120),\n",
       " ('flash_support', 1279140),\n",
       " ('flash_support', 1279143),\n",
       " ('flash_support', 1281493),\n",
       " ('flash_support', 1296366),\n",
       " ('flash_support', 1299458),\n",
       " ('flash_support', 1305676),\n",
       " ('flash_support', 1312018),\n",
       " ('flash_support', 1318903),\n",
       " ('flash_support', 1319919),\n",
       " ('flash_support', 1330745),\n",
       " ('flash_support', 1339497),\n",
       " ('flash_support', 1430603),\n",
       " ('flash_support', 1451475),\n",
       " ('new_awesome_bar', 1267480),\n",
       " ('new_awesome_bar', 1281190),\n",
       " ('pointer_lock_api', 1279864),\n",
       " ('pointer_lock_api', 1283542),\n",
       " ('pointer_lock_api', 1296861),\n",
       " ('pointer_lock_api', 1301421),\n",
       " ('pointer_lock_api', 1301784),\n",
       " ('pointer_lock_api', 1309856),\n",
       " ('pointer_lock_api', 1319119),\n",
       " ('pointer_lock_api', 1320557),\n",
       " ('pointer_lock_api', 1323211),\n",
       " ('pointer_lock_api', 1334844),\n",
       " ('pointer_lock_api', 1337682),\n",
       " ('pointer_lock_api', 1343256),\n",
       " ('pointer_lock_api', 1357085),\n",
       " ('w10_comp', 1281190),\n",
       " ('w10_comp', 1451475),\n",
       " ('webm_eme', 1267480),\n",
       " ('webm_eme', 1270274),\n",
       " ('webm_eme', 1270983),\n",
       " ('webm_eme', 1277937),\n",
       " ('webm_eme', 1278388),\n",
       " ('webm_eme', 1282759),\n",
       " ('webm_eme', 1291770),\n",
       " ('webm_eme', 1301784),\n",
       " ('webm_eme', 1408361),\n",
       " ('windows_child_mode', 1264988),\n",
       " ('windows_child_mode', 1267480),\n",
       " ('windows_child_mode', 1270274),\n",
       " ('windows_child_mode', 1277937),\n",
       " ('windows_child_mode', 1281190),\n",
       " ('windows_child_mode', 1287384),\n",
       " ('windows_child_mode', 1295502),\n",
       " ('windows_child_mode', 1297976),\n",
       " ('windows_child_mode', 1305676),\n",
       " ('windows_child_mode', 1311998),\n",
       " ('windows_child_mode', 1328913),\n",
       " ('zoom_indicator', 1295502),\n",
       " ('zoom_indicator', 1303339),\n",
       " ('zoom_indicator', 1325902)}"
      ]
     },
     "metadata": {},
     "output_type": "display_data"
    },
    {
     "name": "stdout",
     "output_type": "stream",
     "text": [
      "\n",
      "\n",
      "LSI Exclusive TP:\n"
     ]
    },
    {
     "data": {
      "text/plain": [
       "{('apz_async_scrolling', 1287384),\n",
       " ('apz_async_scrolling', 1294887),\n",
       " ('browser_customization', 1264988),\n",
       " ('browser_customization', 1282759),\n",
       " ('browser_customization', 1285328),\n",
       " ('browser_customization', 1291770),\n",
       " ('browser_customization', 1305195),\n",
       " ('browser_customization', 1335538),\n",
       " ('browser_customization', 1352539),\n",
       " ('browser_customization', 1365887),\n",
       " ('browser_customization', 1430603),\n",
       " ('context_menu', 1285041),\n",
       " ('context_menu', 1319119),\n",
       " ('downloads_dropmaker', 1301056),\n",
       " ('downloads_dropmaker', 1305737),\n",
       " ('flac_support', 1279864),\n",
       " ('flash_support', 1287748),\n",
       " ('flash_support', 1292573),\n",
       " ('flash_support', 1335992),\n",
       " ('flash_support', 1337682),\n",
       " ('indicator_device_perm', 1292566),\n",
       " ('pdf_viewer', 1282759),\n",
       " ('pdf_viewer', 1305195),\n",
       " ('pdf_viewer', 1432915),\n",
       " ('pointer_lock_api', 1297976),\n",
       " ('pointer_lock_api', 1299458),\n",
       " ('pointer_lock_api', 1344446),\n",
       " ('tts_in_desktop', 1267501),\n",
       " ('tts_in_desktop', 1285041),\n",
       " ('tts_in_desktop', 1289240),\n",
       " ('tts_in_desktop', 1294733),\n",
       " ('tts_in_desktop', 1312018),\n",
       " ('tts_in_desktop', 1313290),\n",
       " ('tts_in_desktop', 1319919),\n",
       " ('tts_in_desktop', 1320557),\n",
       " ('tts_in_desktop', 1334844),\n",
       " ('tts_in_desktop', 1336227),\n",
       " ('tts_in_desktop', 1337682),\n",
       " ('tts_in_desktop', 1353831),\n",
       " ('tts_in_rm', 1264988),\n",
       " ('tts_in_rm', 1267501),\n",
       " ('tts_in_rm', 1269485),\n",
       " ('tts_in_rm', 1270274),\n",
       " ('tts_in_rm', 1276120),\n",
       " ('tts_in_rm', 1281190),\n",
       " ('tts_in_rm', 1282759),\n",
       " ('tts_in_rm', 1283542),\n",
       " ('tts_in_rm', 1287384),\n",
       " ('tts_in_rm', 1287687),\n",
       " ('tts_in_rm', 1294733),\n",
       " ('tts_in_rm', 1296861),\n",
       " ('tts_in_rm', 1312018),\n",
       " ('tts_in_rm', 1313290),\n",
       " ('tts_in_rm', 1318903),\n",
       " ('tts_in_rm', 1319919),\n",
       " ('tts_in_rm', 1353831),\n",
       " ('tts_in_rm', 1357085),\n",
       " ('tts_in_rm', 1430603),\n",
       " ('tts_in_rm', 1451475),\n",
       " ('video_and_canvas_render', 1328913),\n",
       " ('video_and_canvas_render', 1451475),\n",
       " ('w10_comp', 1267480),\n",
       " ('w10_comp', 1270274),\n",
       " ('w10_comp', 1278388),\n",
       " ('w10_comp', 1287687),\n",
       " ('w10_comp', 1290424),\n",
       " ('w10_comp', 1292566),\n",
       " ('w10_comp', 1301421),\n",
       " ('w10_comp', 1302468),\n",
       " ('w10_comp', 1319119),\n",
       " ('w10_comp', 1335538),\n",
       " ('w10_comp', 1449700),\n",
       " ('webgl2', 1248268),\n",
       " ('webgl2', 1267480),\n",
       " ('webgl2', 1277937),\n",
       " ('webgl2', 1283542),\n",
       " ('webgl2', 1291770),\n",
       " ('webgl2', 1296366),\n",
       " ('webgl2', 1301784),\n",
       " ('webgl2', 1303339),\n",
       " ('webgl2', 1313290),\n",
       " ('webgl2', 1325902),\n",
       " ('webgl2', 1335538),\n",
       " ('webgl2', 1339497),\n",
       " ('webgl2', 1449700),\n",
       " ('webgl_comp', 1328913),\n",
       " ('webm_eme', 1305676),\n",
       " ('webm_eme', 1336227),\n",
       " ('windows_child_mode', 1276120),\n",
       " ('windows_child_mode', 1297336),\n",
       " ('zoom_indicator', 1279143),\n",
       " ('zoom_indicator', 1301784),\n",
       " ('zoom_indicator', 1306639),\n",
       " ('zoom_indicator', 1313778),\n",
       " ('zoom_indicator', 1352539)}"
      ]
     },
     "metadata": {},
     "output_type": "display_data"
    },
    {
     "name": "stdout",
     "output_type": "stream",
     "text": [
      "\n",
      "\n",
      "LDA Exclusive TP:\n"
     ]
    },
    {
     "data": {
      "text/plain": [
       "{('browser_customization', 1269348),\n",
       " ('browser_customization', 1279864),\n",
       " ('browser_customization', 1294733),\n",
       " ('browser_customization', 1294887),\n",
       " ('browser_customization', 1296366),\n",
       " ('browser_customization', 1297336),\n",
       " ('browser_customization', 1297976),\n",
       " ('browser_customization', 1306639),\n",
       " ('browser_customization', 1312018),\n",
       " ('browser_customization', 1316126),\n",
       " ('browser_customization', 1334844),\n",
       " ('browser_customization', 1337682),\n",
       " ('browser_customization', 1343256),\n",
       " ('browser_customization', 1345687),\n",
       " ('downloads_dropmaker', 1319119),\n",
       " ('indicator_device_perm', 1271607),\n",
       " ('indicator_device_perm', 1279864),\n",
       " ('indicator_device_perm', 1289240),\n",
       " ('indicator_device_perm', 1293308),\n",
       " ('indicator_device_perm', 1294733),\n",
       " ('indicator_device_perm', 1296366),\n",
       " ('indicator_device_perm', 1297374),\n",
       " ('indicator_device_perm', 1297686),\n",
       " ('indicator_device_perm', 1300738),\n",
       " ('indicator_device_perm', 1306639),\n",
       " ('indicator_device_perm', 1309856),\n",
       " ('indicator_device_perm', 1311998),\n",
       " ('indicator_device_perm', 1314643),\n",
       " ('indicator_device_perm', 1316126),\n",
       " ('indicator_device_perm', 1334844),\n",
       " ('indicator_device_perm', 1337682),\n",
       " ('indicator_device_perm', 1343256),\n",
       " ('indicator_device_perm', 1344446),\n",
       " ('indicator_device_perm', 1353831),\n",
       " ('indicator_device_perm', 1449700),\n",
       " ('webgl_comp', 1257087),\n",
       " ('webgl_comp', 1267480),\n",
       " ('webgl_comp', 1269348),\n",
       " ('webgl_comp', 1270274),\n",
       " ('webgl_comp', 1270983),\n",
       " ('webgl_comp', 1271607),\n",
       " ('webgl_comp', 1276120),\n",
       " ('webgl_comp', 1278388),\n",
       " ('webgl_comp', 1279864),\n",
       " ('webgl_comp', 1281190),\n",
       " ('webgl_comp', 1289240),\n",
       " ('webgl_comp', 1294733),\n",
       " ('webgl_comp', 1294887),\n",
       " ('webgl_comp', 1296366),\n",
       " ('webgl_comp', 1297336),\n",
       " ('webgl_comp', 1297374),\n",
       " ('webgl_comp', 1297686),\n",
       " ('webgl_comp', 1297976),\n",
       " ('webgl_comp', 1300738),\n",
       " ('webgl_comp', 1301784),\n",
       " ('webgl_comp', 1306639),\n",
       " ('webgl_comp', 1309856),\n",
       " ('webgl_comp', 1311998),\n",
       " ('webgl_comp', 1314643),\n",
       " ('webgl_comp', 1316126),\n",
       " ('webgl_comp', 1319433),\n",
       " ('webgl_comp', 1330745),\n",
       " ('webgl_comp', 1334844),\n",
       " ('webgl_comp', 1335992),\n",
       " ('webgl_comp', 1337682),\n",
       " ('webgl_comp', 1339497),\n",
       " ('webgl_comp', 1343256),\n",
       " ('webgl_comp', 1344446),\n",
       " ('webgl_comp', 1345687),\n",
       " ('webgl_comp', 1353831),\n",
       " ('webgl_comp', 1408361),\n",
       " ('webgl_comp', 1449700)}"
      ]
     },
     "metadata": {},
     "output_type": "display_data"
    },
    {
     "name": "stdout",
     "output_type": "stream",
     "text": [
      "\n",
      "\n",
      "WV Exclusive TP:\n"
     ]
    },
    {
     "data": {
      "text/plain": [
       "{('apz_async_scrolling', 1282759),\n",
       " ('apz_async_scrolling', 1305195),\n",
       " ('apz_async_scrolling', 1345687),\n",
       " ('apz_async_scrolling', 1352539),\n",
       " ('browser_customization', 1277937),\n",
       " ('browser_customization', 1279143),\n",
       " ('browser_customization', 1287384),\n",
       " ('browser_customization', 1295502),\n",
       " ('browser_customization', 1299458),\n",
       " ('browser_customization', 1305676),\n",
       " ('downloads_dropmaker', 1270274),\n",
       " ('downloads_dropmaker', 1270983),\n",
       " ('downloads_dropmaker', 1278388),\n",
       " ('downloads_dropmaker', 1283542),\n",
       " ('downloads_dropmaker', 1291770),\n",
       " ('downloads_dropmaker', 1294887),\n",
       " ('downloads_dropmaker', 1296861),\n",
       " ('downloads_dropmaker', 1297336),\n",
       " ('downloads_dropmaker', 1328913),\n",
       " ('downloads_dropmaker', 1330745),\n",
       " ('flash_support', 1279864),\n",
       " ('flash_support', 1301784),\n",
       " ('flash_support', 1305195),\n",
       " ('flash_support', 1309856),\n",
       " ('flash_support', 1313778),\n",
       " ('flash_support', 1319433),\n",
       " ('flash_support', 1334844),\n",
       " ('flash_support', 1336227),\n",
       " ('flash_support', 1345687),\n",
       " ('indicator_device_perm', 1264988),\n",
       " ('indicator_device_perm', 1277937),\n",
       " ('indicator_device_perm', 1279140),\n",
       " ('indicator_device_perm', 1281493),\n",
       " ('indicator_device_perm', 1282759),\n",
       " ('indicator_device_perm', 1287384),\n",
       " ('indicator_device_perm', 1287823),\n",
       " ('indicator_device_perm', 1289832),\n",
       " ('indicator_device_perm', 1291770),\n",
       " ('indicator_device_perm', 1295502),\n",
       " ('indicator_device_perm', 1302468),\n",
       " ('indicator_device_perm', 1313969),\n",
       " ('indicator_device_perm', 1319119),\n",
       " ('indicator_device_perm', 1323211),\n",
       " ('indicator_device_perm', 1325902),\n",
       " ('indicator_device_perm', 1328913),\n",
       " ('indicator_device_perm', 1365887),\n",
       " ('indicator_device_perm', 1432915),\n",
       " ('new_awesome_bar', 1287748),\n",
       " ('new_awesome_bar', 1296861),\n",
       " ('new_awesome_bar', 1313290),\n",
       " ('new_awesome_bar', 1430603),\n",
       " ('pdf_viewer', 1287823),\n",
       " ('pdf_viewer', 1295502),\n",
       " ('pointer_lock_api', 1287687),\n",
       " ('pointer_lock_api', 1292566),\n",
       " ('pointer_lock_api', 1296366),\n",
       " ('pointer_lock_api', 1313290),\n",
       " ('pointer_lock_api', 1319919),\n",
       " ('pointer_lock_api', 1335538),\n",
       " ('pointer_lock_api', 1336227),\n",
       " ('tts_in_desktop', 1264988),\n",
       " ('tts_in_desktop', 1270983),\n",
       " ('tts_in_desktop', 1276120),\n",
       " ('tts_in_desktop', 1277937),\n",
       " ('tts_in_desktop', 1279143),\n",
       " ('tts_in_desktop', 1281190),\n",
       " ('tts_in_desktop', 1296322),\n",
       " ('tts_in_desktop', 1299458),\n",
       " ('tts_in_desktop', 1302468),\n",
       " ('tts_in_desktop', 1303339),\n",
       " ('tts_in_desktop', 1311998),\n",
       " ('tts_in_desktop', 1313969),\n",
       " ('tts_in_desktop', 1318903),\n",
       " ('tts_in_desktop', 1339497),\n",
       " ('tts_in_rm', 1287823),\n",
       " ('tts_in_rm', 1303339),\n",
       " ('tts_in_rm', 1305737),\n",
       " ('tts_in_rm', 1408361),\n",
       " ('video_and_canvas_render', 1267480),\n",
       " ('w10_comp', 1294733),\n",
       " ('w10_comp', 1296861),\n",
       " ('w10_comp', 1305195),\n",
       " ('w10_comp', 1306639),\n",
       " ('w10_comp', 1353831),\n",
       " ('w10_comp', 1432915),\n",
       " ('webgl2', 1271607),\n",
       " ('webgl2', 1296322),\n",
       " ('webgl2', 1297336),\n",
       " ('webgl2', 1311998),\n",
       " ('webgl2', 1335992),\n",
       " ('webm_eme', 1297686),\n",
       " ('webm_eme', 1432915),\n",
       " ('windows_child_mode', 1290424),\n",
       " ('windows_child_mode', 1292566),\n",
       " ('windows_child_mode', 1294733),\n",
       " ('windows_child_mode', 1296366),\n",
       " ('windows_child_mode', 1297374),\n",
       " ('windows_child_mode', 1312018),\n",
       " ('windows_child_mode', 1313969),\n",
       " ('windows_child_mode', 1319433),\n",
       " ('windows_child_mode', 1325902),\n",
       " ('windows_child_mode', 1337682),\n",
       " ('windows_child_mode', 1344446),\n",
       " ('windows_child_mode', 1353831),\n",
       " ('windows_child_mode', 1365887),\n",
       " ('windows_child_mode', 1451475)}"
      ]
     },
     "metadata": {},
     "output_type": "display_data"
    }
   ],
   "source": [
    "print(\"BM25 Exclusive FP:\")\n",
    "display(bm25_fp_set - lsi_fp_set - lda_fp_set - wv_fp_set)\n",
    "\n",
    "print(\"\\n\\nLSI Exclusive FP:\")\n",
    "display(lsi_fp_set - bm25_fp_set - lda_fp_set - wv_fp_set)\n",
    "\n",
    "print(\"\\n\\nLDA Exclusive FP:\")\n",
    "display(lda_fp_set - lsi_fp_set - bm25_fp_set - wv_fp_set)\n",
    "\n",
    "print(\"\\n\\nWV Exclusive FP:\")\n",
    "display(wv_fp_set - lda_fp_set - lsi_fp_set - bm25_fp_set)"
   ]
  },
  {
   "cell_type": "code",
   "execution_count": 7,
   "metadata": {},
   "outputs": [
    {
     "name": "stdout",
     "output_type": "stream",
     "text": [
      "LSI FP Amount: 398\n",
      "LDA FP Amount: 124\n",
      "BM25 FP Amount: 402\n",
      "WV FP Amount: 407\n"
     ]
    }
   ],
   "source": [
    "print(\"LSI FP Amount: {}\".format(len(lsi_fp_set)))\n",
    "print(\"LDA FP Amount: {}\".format(len(lda_fp_set)))\n",
    "print(\"BM25 FP Amount: {}\".format(len(bm25_fp_set)))\n",
    "print(\"WV FP Amount: {}\".format(len(wv_fp_set)))"
   ]
  },
  {
   "cell_type": "markdown",
   "metadata": {
    "toc-hr-collapsed": true
   },
   "source": [
    "#### Min Recall"
   ]
  },
  {
   "cell_type": "code",
   "execution_count": 8,
   "metadata": {},
   "outputs": [
    {
     "name": "stdout",
     "output_type": "stream",
     "text": [
      "model\n",
      "bm25          23.43\n",
      "lda            5.49\n",
      "lsi           13.32\n",
      "wordvector    10.44\n",
      "Name: perc_recall, dtype: float64\n",
      "\n"
     ]
    },
    {
     "data": {
      "image/png": "[encoded data removed]",
      "text/plain": [
       "<Figure size 432x288 with 1 Axes>"
      ]
     },
     "metadata": {},
     "output_type": "display_data"
    },
    {
     "data": {
      "image/png": "[encoded data removed]",
      "text/plain": [
       "<Figure size 432x288 with 1 Axes>"
      ]
     },
     "metadata": {},
     "output_type": "display_data"
    },
    {
     "data": {
      "image/png": "[encoded data removed]",
      "text/plain": [
       "<Figure size 432x288 with 1 Axes>"
      ]
     },
     "metadata": {},
     "output_type": "display_data"
    },
    {
     "data": {
      "image/png": "[encoded data removed]",
      "text/plain": [
       "<Figure size 432x288 with 1 Axes>"
      ]
     },
     "metadata": {},
     "output_type": "display_data"
    }
   ],
   "source": [
    "group = evals_df_4.groupby('model').perc_recall.min()\n",
    "print(group)\n",
    "print()\n",
    "\n",
    "bm25_min_recall = group[group.index == 'bm25'].values[0]\n",
    "lsi_min_recall = group[group.index == 'lsi'].values[0]\n",
    "lda_min_recall = group[group.index == 'lda'].values[0]\n",
    "wv_min_recall = group[group.index == 'wordvector'].values[0]\n",
    "\n",
    "bm25_fp_set = aux_functions.get_false_positives(oracle, aux_functions.get_trace_links_df(evaluations_df=evals_df_4, model='bm25', perc_recall=bm25_min_recall))\n",
    "lsi_fp_set = aux_functions.get_false_positives(oracle, aux_functions.get_trace_links_df(evaluations_df=evals_df_4, model='lsi', perc_recall=lsi_min_recall))\n",
    "lda_fp_set = aux_functions.get_false_positives(oracle, aux_functions.get_trace_links_df(evaluations_df=evals_df_4, model='lda', perc_recall=lda_min_recall))\n",
    "wv_fp_set = aux_functions.get_false_positives(oracle, aux_functions.get_trace_links_df(evaluations_df=evals_df_4, model='wordvector', perc_recall=wv_min_recall))\n",
    "\n",
    "venn3([bm25_fp_set, lsi_fp_set, lda_fp_set], ['BM25','LSI','LDA'])\n",
    "plt.title('Comparison False Positives by Model (BM25, LSI, LDA) - Min Recall')\n",
    "plt.show()\n",
    "\n",
    "venn3([bm25_fp_set, wv_fp_set, lda_fp_set], ['BM25','WV','LDA'])\n",
    "plt.title('Comparison False Positives by Model (BM25, WV, LDA) - Min Recall')\n",
    "plt.show()\n",
    "\n",
    "venn3([lsi_fp_set, wv_fp_set, lda_fp_set], ['LSI','WV','LDA'])\n",
    "plt.title('Comparison False Positives by Model (LSI, WV, LDA) - Min Recall')\n",
    "plt.show()\n",
    "\n",
    "venn3([lsi_fp_set, wv_fp_set, bm25_fp_set], ['LSI','WV','BM25'])\n",
    "plt.title('Comparison False Positives by Model (LSI, WV, BM25) - Min Precision')\n",
    "plt.show()"
   ]
  },
  {
   "cell_type": "markdown",
   "metadata": {},
   "source": [
    "##### Exclusive Cases"
   ]
  },
  {
   "cell_type": "code",
   "execution_count": 9,
   "metadata": {},
   "outputs": [
    {
     "name": "stdout",
     "output_type": "stream",
     "text": [
      "BM25 Exclusive FP:\n"
     ]
    },
    {
     "data": {
      "text/plain": [
       "{('apz_async_scrolling', 1270274),\n",
       " ('apz_async_scrolling', 1279140),\n",
       " ('apz_async_scrolling', 1305676),\n",
       " ('context_menu', 1248268),\n",
       " ('context_menu', 1271607),\n",
       " ('context_menu', 1279143),\n",
       " ('context_menu', 1285328),\n",
       " ('context_menu', 1287823),\n",
       " ('context_menu', 1294733),\n",
       " ('context_menu', 1296322),\n",
       " ('context_menu', 1296366),\n",
       " ('context_menu', 1297374),\n",
       " ('context_menu', 1301056),\n",
       " ('context_menu', 1301421),\n",
       " ('context_menu', 1305737),\n",
       " ('context_menu', 1312018),\n",
       " ('context_menu', 1313778),\n",
       " ('context_menu', 1314643),\n",
       " ('context_menu', 1318903),\n",
       " ('context_menu', 1323211),\n",
       " ('context_menu', 1343256),\n",
       " ('context_menu', 1353831),\n",
       " ('context_menu', 1430603),\n",
       " ('flash_support', 1283542),\n",
       " ('flash_support', 1319119),\n",
       " ('flash_support', 1328913),\n",
       " ('indicator_device_perm', 1267480),\n",
       " ('indicator_device_perm', 1278388),\n",
       " ('indicator_device_perm', 1303339),\n",
       " ('indicator_device_perm', 1408361),\n",
       " ('new_awesome_bar', 1257087),\n",
       " ('new_awesome_bar', 1277937),\n",
       " ('new_awesome_bar', 1281190),\n",
       " ('new_awesome_bar', 1289240),\n",
       " ('new_awesome_bar', 1297686),\n",
       " ('new_awesome_bar', 1301784),\n",
       " ('new_awesome_bar', 1302468),\n",
       " ('new_awesome_bar', 1316126),\n",
       " ('new_awesome_bar', 1319919),\n",
       " ('new_awesome_bar', 1335538),\n",
       " ('new_awesome_bar', 1336227),\n",
       " ('pointer_lock_api', 1449700),\n",
       " ('tts_in_rm', 1305195),\n",
       " ('w10_comp', 1267501),\n",
       " ('w10_comp', 1269485),\n",
       " ('w10_comp', 1345687),\n",
       " ('w10_comp', 1451475),\n",
       " ('webm_eme', 1313290),\n",
       " ('windows_child_mode', 1281493),\n",
       " ('windows_child_mode', 1285041),\n",
       " ('windows_child_mode', 1292573),\n",
       " ('windows_child_mode', 1320557),\n",
       " ('windows_child_mode', 1352539),\n",
       " ('windows_child_mode', 1357085),\n",
       " ('zoom_indicator', 1295502)}"
      ]
     },
     "metadata": {},
     "output_type": "display_data"
    },
    {
     "name": "stdout",
     "output_type": "stream",
     "text": [
      "\n",
      "\n",
      "LSI Exclusive FP:\n"
     ]
    },
    {
     "data": {
      "text/plain": [
       "{('indicator_device_perm', 1281190), ('new_awesome_bar', 1312018)}"
      ]
     },
     "metadata": {},
     "output_type": "display_data"
    },
    {
     "name": "stdout",
     "output_type": "stream",
     "text": [
      "\n",
      "\n",
      "LDA Exclusive FP:\n"
     ]
    },
    {
     "data": {
      "text/plain": [
       "{('browser_customization', 1257087),\n",
       " ('browser_customization', 1267480),\n",
       " ('browser_customization', 1269348),\n",
       " ('browser_customization', 1270274),\n",
       " ('browser_customization', 1270983),\n",
       " ('browser_customization', 1271607),\n",
       " ('browser_customization', 1276120),\n",
       " ('browser_customization', 1278388),\n",
       " ('browser_customization', 1279864),\n",
       " ('browser_customization', 1281190),\n",
       " ('browser_customization', 1283542),\n",
       " ('browser_customization', 1289240),\n",
       " ('browser_customization', 1293308),\n",
       " ('browser_customization', 1294733),\n",
       " ('browser_customization', 1294887),\n",
       " ('browser_customization', 1296366),\n",
       " ('browser_customization', 1297336),\n",
       " ('browser_customization', 1297374),\n",
       " ('browser_customization', 1297686),\n",
       " ('browser_customization', 1297976),\n",
       " ('browser_customization', 1300738),\n",
       " ('browser_customization', 1303339),\n",
       " ('browser_customization', 1306639),\n",
       " ('browser_customization', 1309856),\n",
       " ('browser_customization', 1311998),\n",
       " ('browser_customization', 1312018),\n",
       " ('browser_customization', 1314643),\n",
       " ('browser_customization', 1316126),\n",
       " ('browser_customization', 1319433),\n",
       " ('browser_customization', 1330745),\n",
       " ('browser_customization', 1334844),\n",
       " ('browser_customization', 1335992),\n",
       " ('browser_customization', 1337682),\n",
       " ('browser_customization', 1339497),\n",
       " ('browser_customization', 1343256),\n",
       " ('browser_customization', 1345687),\n",
       " ('browser_customization', 1408361),\n",
       " ('windows_child_mode', 1319119)}"
      ]
     },
     "metadata": {},
     "output_type": "display_data"
    },
    {
     "name": "stdout",
     "output_type": "stream",
     "text": [
      "\n",
      "\n",
      "WV Exclusive FP:\n"
     ]
    },
    {
     "data": {
      "text/plain": [
       "{('context_menu', 1292566),\n",
       " ('indicator_device_perm', 1279143),\n",
       " ('new_awesome_bar', 1248267),\n",
       " ('new_awesome_bar', 1248268),\n",
       " ('new_awesome_bar', 1267501),\n",
       " ('new_awesome_bar', 1269485),\n",
       " ('new_awesome_bar', 1289832),\n",
       " ('new_awesome_bar', 1314643),\n",
       " ('new_awesome_bar', 1319433),\n",
       " ('new_awesome_bar', 1320557),\n",
       " ('new_awesome_bar', 1330745),\n",
       " ('new_awesome_bar', 1343256),\n",
       " ('new_awesome_bar', 1345687),\n",
       " ('new_awesome_bar', 1449700),\n",
       " ('pointer_lock_api', 1292573),\n",
       " ('w10_comp', 1271607),\n",
       " ('w10_comp', 1301056),\n",
       " ('w10_comp', 1318903),\n",
       " ('windows_child_mode', 1297686),\n",
       " ('windows_child_mode', 1336227)}"
      ]
     },
     "metadata": {},
     "output_type": "display_data"
    }
   ],
   "source": [
    "print(\"BM25 Exclusive FP:\")\n",
    "display(bm25_fp_set - lsi_fp_set - lda_fp_set - wv_fp_set)\n",
    "\n",
    "print(\"\\n\\nLSI Exclusive FP:\")\n",
    "display(lsi_fp_set - bm25_fp_set - lda_fp_set - wv_fp_set)\n",
    "\n",
    "print(\"\\n\\nLDA Exclusive FP:\")\n",
    "display(lda_fp_set - lsi_fp_set - bm25_fp_set - wv_fp_set)\n",
    "\n",
    "print(\"\\n\\nWV Exclusive FP:\")\n",
    "display(wv_fp_set - lda_fp_set - lsi_fp_set - bm25_fp_set)"
   ]
  },
  {
   "cell_type": "markdown",
   "metadata": {
    "toc-hr-collapsed": true
   },
   "source": [
    "#### Max Precision"
   ]
  },
  {
   "cell_type": "code",
   "execution_count": 10,
   "metadata": {},
   "outputs": [
    {
     "name": "stdout",
     "output_type": "stream",
     "text": [
      "model\n",
      "bm25          25.27\n",
      "lda           14.29\n",
      "lsi           31.32\n",
      "wordvector    28.57\n",
      "Name: perc_precision, dtype: float64\n",
      "\n"
     ]
    },
    {
     "data": {
      "image/png": "[encoded data removed]",
      "text/plain": [
       "<Figure size 432x288 with 1 Axes>"
      ]
     },
     "metadata": {},
     "output_type": "display_data"
    },
    {
     "data": {
      "image/png": "[encoded data removed]",
      "text/plain": [
       "<Figure size 432x288 with 1 Axes>"
      ]
     },
     "metadata": {},
     "output_type": "display_data"
    },
    {
     "data": {
      "image/png": "[encoded data removed]",
      "text/plain": [
       "<Figure size 432x288 with 1 Axes>"
      ]
     },
     "metadata": {},
     "output_type": "display_data"
    },
    {
     "data": {
      "image/png": "[encoded data removed]",
      "text/plain": [
       "<Figure size 432x288 with 1 Axes>"
      ]
     },
     "metadata": {},
     "output_type": "display_data"
    }
   ],
   "source": [
    "group = evals_df_4.groupby('model').perc_precision.max()\n",
    "print(group)\n",
    "print()\n",
    "\n",
    "bm25_max_prec = group[group.index == 'bm25'].values[0]\n",
    "lsi_max_prec = group[group.index == 'lsi'].values[0]\n",
    "lda_max_prec = group[group.index == 'lda'].values[0]\n",
    "wv_max_prec = group[group.index == 'wordvector'].values[0]\n",
    "\n",
    "bm25_fp_set = aux_functions.get_false_positives(oracle, aux_functions.get_trace_links_df(evaluations_df=evals_df_4, model='bm25', perc_precision=bm25_max_prec))\n",
    "lsi_fp_set = aux_functions.get_false_positives(oracle, aux_functions.get_trace_links_df(evaluations_df=evals_df_4, model='lsi', perc_precision=lsi_max_prec))\n",
    "lda_fp_set = aux_functions.get_false_positives(oracle, aux_functions.get_trace_links_df(evaluations_df=evals_df_4, model='lda', perc_precision=lda_max_prec))\n",
    "wv_fp_set = aux_functions.get_false_positives(oracle, aux_functions.get_trace_links_df(evaluations_df=evals_df_4, model='wordvector', perc_precision=wv_max_prec))\n",
    "\n",
    "venn3([bm25_fp_set, lsi_fp_set, lda_fp_set], ['BM25','LSI','LDA'])\n",
    "plt.title('Comparison False Positives by Model (BM25, LSI, LDA) - Max Precision')\n",
    "plt.show()\n",
    "\n",
    "venn3([bm25_fp_set, wv_fp_set, lda_fp_set], ['BM25','WV','LDA'])\n",
    "plt.title('Comparison False Positives by Model (BM25, WV, LDA) - Max Precision')\n",
    "plt.show()\n",
    "\n",
    "venn3([lsi_fp_set, wv_fp_set, lda_fp_set], ['LSI','WV','LDA'])\n",
    "plt.title('Comparison False Positives by Model (LSI,WV,LDA) - Max Precision')\n",
    "plt.show()\n",
    "\n",
    "venn3([lsi_fp_set, wv_fp_set, bm25_fp_set], ['LSI','WV','BM25'])\n",
    "plt.title('Comparison False Positives by Model (LSI, WV, BM25) - Max Precision')\n",
    "plt.show()"
   ]
  },
  {
   "cell_type": "markdown",
   "metadata": {},
   "source": [
    "##### Exclusive Cases"
   ]
  },
  {
   "cell_type": "code",
   "execution_count": 11,
   "metadata": {},
   "outputs": [
    {
     "ename": "SyntaxError",
     "evalue": "invalid syntax (<ipython-input-11-23fcd41bd5a1>, line 11)",
     "output_type": "error",
     "traceback": [
      "\u001b[0;36m  File \u001b[0;32m\"<ipython-input-11-23fcd41bd5a1>\"\u001b[0;36m, line \u001b[0;32m11\u001b[0m\n\u001b[0;31m    display(wv_fp_set - lda_fp_set - lsi_fp_set - bm25_f p_set)\u001b[0m\n\u001b[0m                                                             ^\u001b[0m\n\u001b[0;31mSyntaxError\u001b[0m\u001b[0;31m:\u001b[0m invalid syntax\n"
     ]
    }
   ],
   "source": [
    "print(\"BM25 Exclusive FP:\")\n",
    "display(bm25_fp_set - lsi_fp_set - lda_fp_set - wv_fp_set)\n",
    "\n",
    "print(\"\\n\\nLSI Exclusive FP:\")\n",
    "display(lsi_fp_set - bm25_fp_set - lda_fp_set - wv_fp_set)\n",
    "\n",
    "print(\"\\n\\nLDA Exclusive FP:\")\n",
    "display(lda_fp_set - lsi_fp_set - bm25_fp_set - wv_fp_set)\n",
    "\n",
    "print(\"\\n\\nWV Exclusive FP:\")\n",
    "display(wv_fp_set - lda_fp_set - lsi_fp_set - bm25_f p_set)"
   ]
  },
  {
   "cell_type": "code",
   "execution_count": null,
   "metadata": {},
   "outputs": [],
   "source": [
    "print(\"LSI FP Amount: {}\".format(len(lsi_fp_set)))\n",
    "print(\"LDA FP Amount: {}\".format(len(lda_fp_set)))\n",
    "print(\"BM25 FP Amount: {}\".format(len(bm25_fp_set)))\n",
    "print(\"WV FP Amount: {}\".format(len(wv_fp_set)))"
   ]
  },
  {
   "cell_type": "markdown",
   "metadata": {
    "toc-hr-collapsed": true
   },
   "source": [
    "#### Max Recall"
   ]
  },
  {
   "cell_type": "code",
   "execution_count": null,
   "metadata": {},
   "outputs": [],
   "source": [
    "group = evals_df_4.groupby('model').perc_recall.max()\n",
    "print(group)\n",
    "print()\n",
    "\n",
    "bm25_max_recall = group[group.index == 'bm25'].values[0]\n",
    "lsi_max_recall = group[group.index == 'lsi'].values[0]\n",
    "lda_max_recall = group[group.index == 'lda'].values[0]\n",
    "wv_max_recall = group[group.index == 'wordvector'].values[0]\n",
    "\n",
    "bm25_fp_set = aux_functions.get_false_positives(oracle, aux_functions.get_trace_links_df(evaluations_df=evals_df_4, model='bm25', perc_recall=bm25_max_recall))\n",
    "lsi_fp_set = aux_functions.get_false_positives(oracle, aux_functions.get_trace_links_df(evaluations_df=evals_df_4, model='lsi', perc_recall=lsi_max_recall))\n",
    "lda_fp_set = aux_functions.get_false_positives(oracle, aux_functions.get_trace_links_df(evaluations_df=evals_df_4, model='lda', perc_recall=lda_max_recall))\n",
    "wv_fp_set = aux_functions.get_false_positives(oracle, aux_functions.get_trace_links_df(evaluations_df=evals_df_4, model='wordvector', perc_recall=wv_max_recall))\n",
    "\n",
    "venn3([bm25_fp_set, lsi_fp_set, lda_fp_set], ['BM25','LSI','LDA'])\n",
    "plt.title('Comparison False Positives by Model (BM25, LSI, LDA) - Max Recall')\n",
    "plt.show()\n",
    "\n",
    "venn3([bm25_fp_set, wv_fp_set, lda_fp_set], ['BM25','WV','LDA'])\n",
    "plt.title('Comparison False Positives by Model (Bm25, WV, LDA) - Max Recall')\n",
    "plt.show()\n",
    "\n",
    "venn3([lsi_fp_set, wv_fp_set, lda_fp_set], ['LSI','WV','LDA'])\n",
    "plt.title('Comparison False Positives by Model (LSI, WV, LDA) - Max Recall')\n",
    "plt.show()\n",
    "\n",
    "venn3([lsi_fp_set, wv_fp_set, bm25_fp_set], ['LSI','WV','BM25'])\n",
    "plt.title('Comparison False Positives by Model (LSI, WV, BM25) - Max Recall')\n",
    "plt.show()"
   ]
  },
  {
   "cell_type": "markdown",
   "metadata": {},
   "source": [
    "##### Exclusive Cases"
   ]
  },
  {
   "cell_type": "code",
   "execution_count": null,
   "metadata": {},
   "outputs": [],
   "source": [
    "print(\"BM25 Exclusive FP:\")\n",
    "display(bm25_fp_set - lsi_fp_set - lda_fp_set - wv_fp_set)\n",
    "\n",
    "print(\"\\n\\nLSI Exclusive FP:\")\n",
    "display(lsi_fp_set - bm25_fp_set - lda_fp_set - wv_fp_set)\n",
    "\n",
    "print(\"\\n\\nLDA Exclusive FP:\")\n",
    "display(lda_fp_set - lsi_fp_set - bm25_fp_set - wv_fp_set)\n",
    "\n",
    "print(\"\\n\\nWV Exclusive FP:\")\n",
    "display(wv_fp_set - lda_fp_set - lsi_fp_set - bm25_fp_set)"
   ]
  },
  {
   "cell_type": "code",
   "execution_count": null,
   "metadata": {},
   "outputs": [],
   "source": [
    "print(\"LSI FP Amount: {}\".format(len(lsi_fp_set)))\n",
    "print(\"LDA FP Amount: {}\".format(len(lda_fp_set)))\n",
    "print(\"BM25 FP Amount: {}\".format(len(bm25_fp_set)))\n",
    "print(\"WV FP Amount: {}\".format(len(wv_fp_set)))"
   ]
  }
 ],
 "metadata": {
  "kernelspec": {
   "display_name": "Python 3",
   "language": "python",
   "name": "python3"
  },
  "language_info": {
   "codemirror_mode": {
    "name": "ipython",
    "version": 3
   },
   "file_extension": ".py",
   "mimetype": "text/x-python",
   "name": "python",
   "nbconvert_exporter": "python",
   "pygments_lexer": "ipython3",
   "version": "3.7.3"
  }
 },
 "nbformat": 4,
 "nbformat_minor": 2
}

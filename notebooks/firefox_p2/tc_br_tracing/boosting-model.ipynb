{
 "cells": [
  {
   "cell_type": "markdown",
   "metadata": {},
   "source": [
    "# Introduction\n",
    "\n",
    "Notebook to test a **boosting** model in the context of traceability between test cases and bug reports."
   ]
  },
  {
   "cell_type": "markdown",
   "metadata": {},
   "source": [
    "# Load Libraries and Datasets"
   ]
  },
  {
   "cell_type": "code",
   "execution_count": 6,
   "metadata": {},
   "outputs": [],
   "source": [
    "from mod_finder_util import mod_finder_util\n",
    "mod_finder_util.add_modules_origin_search_path()\n",
    "\n",
    "import pandas as pd\n",
    "import numpy as np\n",
    "\n",
    "from modules.models_runner.tc_br_models_runner import TC_BR_Runner\n",
    "from modules.utils import firefox_dataset_p2 as fd\n",
    "from modules.utils import aux_functions\n",
    "from modules.utils import model_evaluator as m_eval\n",
    "from modules.utils import similarity_measures as sm\n",
    "\n",
    "from sklearn.model_selection import train_test_split\n",
    "from sklearn.metrics import recall_score, precision_score, f1_score\n",
    "from sklearn.linear_model import LogisticRegressionCV\n",
    "\n",
    "from imblearn.over_sampling import SMOTE, ADASYN\n",
    "\n",
    "from enum import Enum\n",
    "from collections import Counter\n",
    "\n",
    "import warnings; warnings.simplefilter('ignore')"
   ]
  },
  {
   "cell_type": "markdown",
   "metadata": {},
   "source": [
    "# Run All Models"
   ]
  },
  {
   "cell_type": "markdown",
   "metadata": {},
   "source": [
    "## Volunteers Only Strategy"
   ]
  },
  {
   "cell_type": "code",
   "execution_count": 8,
   "metadata": {},
   "outputs": [
    {
     "name": "stdout",
     "output_type": "stream",
     "text": [
      "TestCases.shape: (195, 12)\n",
      "SelectedBugReports.shape: (91, 18)\n",
      "Running LSI Model ------\n",
      "Running LDA Model -----\n",
      "Running BM25 Model -----\n",
      "Running W2V Model ------\n"
     ]
    }
   ],
   "source": [
    "models_runner_4 = TC_BR_Runner()\n",
    "lsi_model_4 = models_runner_4.run_lsi_model()\n",
    "lda_model_4 = models_runner_4.run_lda_model()\n",
    "bm25_model_4 = models_runner_4.run_bm25_model()\n",
    "w2v_model_4 = models_runner_4.run_word2vec_model()"
   ]
  },
  {
   "cell_type": "markdown",
   "metadata": {},
   "source": [
    "# Ensemble Model"
   ]
  },
  {
   "cell_type": "markdown",
   "metadata": {},
   "source": [
    "## Tranform Results Matrices to Vectors"
   ]
  },
  {
   "cell_type": "code",
   "execution_count": 9,
   "metadata": {},
   "outputs": [],
   "source": [
    "def transform_sim_matrix_to_sim_vec(sim_matrix_df, model_name):\n",
    "    sim_vec_df = pd.DataFrame(columns=[model_name])\n",
    "    for col in sim_matrix_df.columns:\n",
    "        for idx, row in sim_matrix_df.iterrows():\n",
    "            artfs_names = '{}_{}'.format(idx, col)\n",
    "            sim_vec_df.at[artfs_names, model_name] = row[col]\n",
    "    return sim_vec_df\n",
    "\n",
    "sim_vec_lsi = transform_sim_matrix_to_sim_vec(lsi_model_4.get_sim_matrix(), 'lsi')\n",
    "sim_vec_lda = transform_sim_matrix_to_sim_vec(lda_model_4.get_sim_matrix(), 'lda')\n",
    "sim_vec_bm25 = transform_sim_matrix_to_sim_vec(bm25_model_4.get_sim_matrix(), 'bm25')\n",
    "sim_vec_wv = transform_sim_matrix_to_sim_vec(w2v_model_4.get_sim_matrix(), 'wv')"
   ]
  },
  {
   "cell_type": "markdown",
   "metadata": {},
   "source": [
    "## Transform Vectors to DataFrame"
   ]
  },
  {
   "cell_type": "code",
   "execution_count": 10,
   "metadata": {},
   "outputs": [
    {
     "data": {
      "text/html": [
       "<div>\n",
       "<style scoped>\n",
       "    .dataframe tbody tr th:only-of-type {\n",
       "        vertical-align: middle;\n",
       "    }\n",
       "\n",
       "    .dataframe tbody tr th {\n",
       "        vertical-align: top;\n",
       "    }\n",
       "\n",
       "    .dataframe thead th {\n",
       "        text-align: right;\n",
       "    }\n",
       "</style>\n",
       "<table border=\"1\" class=\"dataframe\">\n",
       "  <thead>\n",
       "    <tr style=\"text-align: right;\">\n",
       "      <th></th>\n",
       "      <th>lsi</th>\n",
       "      <th>lda</th>\n",
       "      <th>bm25</th>\n",
       "      <th>wv</th>\n",
       "      <th>pred</th>\n",
       "    </tr>\n",
       "  </thead>\n",
       "  <tbody>\n",
       "    <tr>\n",
       "      <th>TC_13_TRG_BR_1248267_SRC</th>\n",
       "      <td>0.0572857</td>\n",
       "      <td>0.859508</td>\n",
       "      <td>20.4839</td>\n",
       "      <td>0.891912</td>\n",
       "      <td>NaN</td>\n",
       "    </tr>\n",
       "    <tr>\n",
       "      <th>TC_14_TRG_BR_1248267_SRC</th>\n",
       "      <td>0.0586889</td>\n",
       "      <td>0.654907</td>\n",
       "      <td>32.6923</td>\n",
       "      <td>0.921482</td>\n",
       "      <td>NaN</td>\n",
       "    </tr>\n",
       "    <tr>\n",
       "      <th>TC_15_TRG_BR_1248267_SRC</th>\n",
       "      <td>0.0237049</td>\n",
       "      <td>0.749372</td>\n",
       "      <td>15.4464</td>\n",
       "      <td>0.809223</td>\n",
       "      <td>NaN</td>\n",
       "    </tr>\n",
       "    <tr>\n",
       "      <th>TC_16_TRG_BR_1248267_SRC</th>\n",
       "      <td>0.160639</td>\n",
       "      <td>0.546288</td>\n",
       "      <td>41.1061</td>\n",
       "      <td>0.889683</td>\n",
       "      <td>NaN</td>\n",
       "    </tr>\n",
       "    <tr>\n",
       "      <th>TC_17_TRG_BR_1248267_SRC</th>\n",
       "      <td>0.113961</td>\n",
       "      <td>0.729185</td>\n",
       "      <td>38.2526</td>\n",
       "      <td>0.903198</td>\n",
       "      <td>NaN</td>\n",
       "    </tr>\n",
       "  </tbody>\n",
       "</table>\n",
       "</div>"
      ],
      "text/plain": [
       "                                lsi       lda     bm25        wv pred\n",
       "TC_13_TRG_BR_1248267_SRC  0.0572857  0.859508  20.4839  0.891912  NaN\n",
       "TC_14_TRG_BR_1248267_SRC  0.0586889  0.654907  32.6923  0.921482  NaN\n",
       "TC_15_TRG_BR_1248267_SRC  0.0237049  0.749372  15.4464  0.809223  NaN\n",
       "TC_16_TRG_BR_1248267_SRC   0.160639  0.546288  41.1061  0.889683  NaN\n",
       "TC_17_TRG_BR_1248267_SRC   0.113961  0.729185  38.2526  0.903198  NaN"
      ]
     },
     "execution_count": 10,
     "metadata": {},
     "output_type": "execute_result"
    }
   ],
   "source": [
    "ensemble_input_df = pd.DataFrame(columns=['pred'], index=sim_vec_lsi.index)\n",
    "\n",
    "out_df = pd.merge(ensemble_input_df, sim_vec_lsi, left_index=True, right_index=True)\n",
    "out_df = pd.merge(out_df, sim_vec_lda, left_index=True, right_index=True)\n",
    "out_df = pd.merge(out_df, sim_vec_bm25, left_index=True, right_index=True)\n",
    "out_df = pd.merge(out_df, sim_vec_wv, left_index=True, right_index=True)\n",
    "\n",
    "new_order = [1,2,3,4,0]\n",
    "out_df = out_df[out_df.columns[new_order]]\n",
    "\n",
    "ensemble_input_df = out_df.copy()\n",
    "ensemble_input_df.head()"
   ]
  },
  {
   "cell_type": "markdown",
   "metadata": {},
   "source": [
    "## Insert Oracle Data"
   ]
  },
  {
   "cell_type": "code",
   "execution_count": 12,
   "metadata": {},
   "outputs": [
    {
     "name": "stdout",
     "output_type": "stream",
     "text": [
      "OracleVolunteers.shape: (195, 91)\n"
     ]
    },
    {
     "data": {
      "text/html": [
       "<div>\n",
       "<style scoped>\n",
       "    .dataframe tbody tr th:only-of-type {\n",
       "        vertical-align: middle;\n",
       "    }\n",
       "\n",
       "    .dataframe tbody tr th {\n",
       "        vertical-align: top;\n",
       "    }\n",
       "\n",
       "    .dataframe thead th {\n",
       "        text-align: right;\n",
       "    }\n",
       "</style>\n",
       "<table border=\"1\" class=\"dataframe\">\n",
       "  <thead>\n",
       "    <tr style=\"text-align: right;\">\n",
       "      <th></th>\n",
       "      <th>lsi</th>\n",
       "      <th>lda</th>\n",
       "      <th>bm25</th>\n",
       "      <th>wv</th>\n",
       "      <th>oracle</th>\n",
       "      <th>pred</th>\n",
       "    </tr>\n",
       "  </thead>\n",
       "  <tbody>\n",
       "    <tr>\n",
       "      <th>TC_13_TRG_BR_1248267_SRC</th>\n",
       "      <td>0.0572857</td>\n",
       "      <td>0.859508</td>\n",
       "      <td>20.4839</td>\n",
       "      <td>0.891912</td>\n",
       "      <td>0.0</td>\n",
       "      <td>NaN</td>\n",
       "    </tr>\n",
       "    <tr>\n",
       "      <th>TC_14_TRG_BR_1248267_SRC</th>\n",
       "      <td>0.0586889</td>\n",
       "      <td>0.654907</td>\n",
       "      <td>32.6923</td>\n",
       "      <td>0.921482</td>\n",
       "      <td>0.0</td>\n",
       "      <td>NaN</td>\n",
       "    </tr>\n",
       "    <tr>\n",
       "      <th>TC_15_TRG_BR_1248267_SRC</th>\n",
       "      <td>0.0237049</td>\n",
       "      <td>0.749372</td>\n",
       "      <td>15.4464</td>\n",
       "      <td>0.809223</td>\n",
       "      <td>0.0</td>\n",
       "      <td>NaN</td>\n",
       "    </tr>\n",
       "    <tr>\n",
       "      <th>TC_16_TRG_BR_1248267_SRC</th>\n",
       "      <td>0.160639</td>\n",
       "      <td>0.546288</td>\n",
       "      <td>41.1061</td>\n",
       "      <td>0.889683</td>\n",
       "      <td>0.0</td>\n",
       "      <td>NaN</td>\n",
       "    </tr>\n",
       "    <tr>\n",
       "      <th>TC_17_TRG_BR_1248267_SRC</th>\n",
       "      <td>0.113961</td>\n",
       "      <td>0.729185</td>\n",
       "      <td>38.2526</td>\n",
       "      <td>0.903198</td>\n",
       "      <td>0.0</td>\n",
       "      <td>NaN</td>\n",
       "    </tr>\n",
       "    <tr>\n",
       "      <th>TC_18_TRG_BR_1248267_SRC</th>\n",
       "      <td>0.0276158</td>\n",
       "      <td>0.822241</td>\n",
       "      <td>15.1044</td>\n",
       "      <td>0.86637</td>\n",
       "      <td>0.0</td>\n",
       "      <td>NaN</td>\n",
       "    </tr>\n",
       "    <tr>\n",
       "      <th>TC_19_TRG_BR_1248267_SRC</th>\n",
       "      <td>0.0280664</td>\n",
       "      <td>0.87262</td>\n",
       "      <td>29.8445</td>\n",
       "      <td>0.871488</td>\n",
       "      <td>0.0</td>\n",
       "      <td>NaN</td>\n",
       "    </tr>\n",
       "    <tr>\n",
       "      <th>TC_20_TRG_BR_1248267_SRC</th>\n",
       "      <td>0.0249423</td>\n",
       "      <td>0.918118</td>\n",
       "      <td>29.7718</td>\n",
       "      <td>0.88673</td>\n",
       "      <td>0.0</td>\n",
       "      <td>NaN</td>\n",
       "    </tr>\n",
       "    <tr>\n",
       "      <th>TC_21_TRG_BR_1248267_SRC</th>\n",
       "      <td>0.0283293</td>\n",
       "      <td>0.922962</td>\n",
       "      <td>29.7718</td>\n",
       "      <td>0.888665</td>\n",
       "      <td>0.0</td>\n",
       "      <td>NaN</td>\n",
       "    </tr>\n",
       "    <tr>\n",
       "      <th>TC_22_TRG_BR_1248267_SRC</th>\n",
       "      <td>0.0314005</td>\n",
       "      <td>0.758897</td>\n",
       "      <td>20.7144</td>\n",
       "      <td>0.891587</td>\n",
       "      <td>0.0</td>\n",
       "      <td>NaN</td>\n",
       "    </tr>\n",
       "    <tr>\n",
       "      <th>TC_23_TRG_BR_1248267_SRC</th>\n",
       "      <td>0.16046</td>\n",
       "      <td>0.857559</td>\n",
       "      <td>44.6784</td>\n",
       "      <td>0.903463</td>\n",
       "      <td>0.0</td>\n",
       "      <td>NaN</td>\n",
       "    </tr>\n",
       "    <tr>\n",
       "      <th>TC_24_TRG_BR_1248267_SRC</th>\n",
       "      <td>0.0558517</td>\n",
       "      <td>0.874773</td>\n",
       "      <td>41.4224</td>\n",
       "      <td>0.902308</td>\n",
       "      <td>0.0</td>\n",
       "      <td>NaN</td>\n",
       "    </tr>\n",
       "    <tr>\n",
       "      <th>TC_25_TRG_BR_1248267_SRC</th>\n",
       "      <td>0.0912799</td>\n",
       "      <td>0.923631</td>\n",
       "      <td>27.9046</td>\n",
       "      <td>0.867156</td>\n",
       "      <td>0.0</td>\n",
       "      <td>NaN</td>\n",
       "    </tr>\n",
       "    <tr>\n",
       "      <th>TC_26_TRG_BR_1248267_SRC</th>\n",
       "      <td>0.0523309</td>\n",
       "      <td>0.890073</td>\n",
       "      <td>32.278</td>\n",
       "      <td>0.889525</td>\n",
       "      <td>0.0</td>\n",
       "      <td>NaN</td>\n",
       "    </tr>\n",
       "    <tr>\n",
       "      <th>TC_27_TRG_BR_1248267_SRC</th>\n",
       "      <td>0.0598313</td>\n",
       "      <td>0.703755</td>\n",
       "      <td>33.591</td>\n",
       "      <td>0.906268</td>\n",
       "      <td>0.0</td>\n",
       "      <td>NaN</td>\n",
       "    </tr>\n",
       "  </tbody>\n",
       "</table>\n",
       "</div>"
      ],
      "text/plain": [
       "                                lsi       lda     bm25        wv  oracle pred\n",
       "TC_13_TRG_BR_1248267_SRC  0.0572857  0.859508  20.4839  0.891912     0.0  NaN\n",
       "TC_14_TRG_BR_1248267_SRC  0.0586889  0.654907  32.6923  0.921482     0.0  NaN\n",
       "TC_15_TRG_BR_1248267_SRC  0.0237049  0.749372  15.4464  0.809223     0.0  NaN\n",
       "TC_16_TRG_BR_1248267_SRC   0.160639  0.546288  41.1061  0.889683     0.0  NaN\n",
       "TC_17_TRG_BR_1248267_SRC   0.113961  0.729185  38.2526  0.903198     0.0  NaN\n",
       "TC_18_TRG_BR_1248267_SRC  0.0276158  0.822241  15.1044   0.86637     0.0  NaN\n",
       "TC_19_TRG_BR_1248267_SRC  0.0280664   0.87262  29.8445  0.871488     0.0  NaN\n",
       "TC_20_TRG_BR_1248267_SRC  0.0249423  0.918118  29.7718   0.88673     0.0  NaN\n",
       "TC_21_TRG_BR_1248267_SRC  0.0283293  0.922962  29.7718  0.888665     0.0  NaN\n",
       "TC_22_TRG_BR_1248267_SRC  0.0314005  0.758897  20.7144  0.891587     0.0  NaN\n",
       "TC_23_TRG_BR_1248267_SRC    0.16046  0.857559  44.6784  0.903463     0.0  NaN\n",
       "TC_24_TRG_BR_1248267_SRC  0.0558517  0.874773  41.4224  0.902308     0.0  NaN\n",
       "TC_25_TRG_BR_1248267_SRC  0.0912799  0.923631  27.9046  0.867156     0.0  NaN\n",
       "TC_26_TRG_BR_1248267_SRC  0.0523309  0.890073   32.278  0.889525     0.0  NaN\n",
       "TC_27_TRG_BR_1248267_SRC  0.0598313  0.703755   33.591  0.906268     0.0  NaN"
      ]
     },
     "execution_count": 12,
     "metadata": {},
     "output_type": "execute_result"
    }
   ],
   "source": [
    "orc_vec_df = transform_sim_matrix_to_sim_vec(fd.Tc_BR_Oracles.read_oracle_volunteers_df(), 'oracle')\n",
    "\n",
    "ensemble_input_df = pd.merge(ensemble_input_df, orc_vec_df, left_index=True, right_index=True)\n",
    "\n",
    "new_order = [0,1,2,3,5,4]\n",
    "ensemble_input_df = ensemble_input_df[ensemble_input_df.columns[new_order]]\n",
    "\n",
    "ensemble_input_df.head(15)"
   ]
  },
  {
   "cell_type": "markdown",
   "metadata": {},
   "source": [
    "## Balancing Dataset and Split Data on Train and Test"
   ]
  },
  {
   "cell_type": "code",
   "execution_count": 13,
   "metadata": {},
   "outputs": [
    {
     "name": "stdout",
     "output_type": "stream",
     "text": [
      "(14196, 4) (14196,) (3549, 4) (3549,)\n",
      "Train SMOTE: [(0.0, 13247), (1.0, 13247)]\n"
     ]
    }
   ],
   "source": [
    "ensemble_input_df = ensemble_input_df.infer_objects()\n",
    "\n",
    "X = ensemble_input_df[['lsi','lda','bm25','wv']]\n",
    "y = ensemble_input_df['oracle']\n",
    "\n",
    "X_train, X_test, y_train, y_test = train_test_split(X, y, test_size=0.20, random_state=42, shuffle=True)\n",
    "print(X_train.shape, y_train.shape, X_test.shape, y_test.shape)\n",
    "\n",
    "X_train, y_train = SMOTE().fit_resample(X_train, y_train)\n",
    "print(\"Train SMOTE: {}\".format(sorted(Counter(y_train).items())))\n",
    "\n",
    "X_train = pd.DataFrame(X_train, columns=['lsi','lda','bm25','wv'])\n",
    "y_train = pd.DataFrame(y_train)"
   ]
  },
  {
   "cell_type": "markdown",
   "metadata": {},
   "source": [
    "## Discretizer Function"
   ]
  },
  {
   "cell_type": "code",
   "execution_count": 14,
   "metadata": {},
   "outputs": [],
   "source": [
    "def discretizer(x):\n",
    "    return 0 if x < 0.5 else 1"
   ]
  },
  {
   "cell_type": "markdown",
   "metadata": {},
   "source": [
    "## Logistic Regressor"
   ]
  },
  {
   "cell_type": "code",
   "execution_count": 15,
   "metadata": {},
   "outputs": [
    {
     "name": "stdout",
     "output_type": "stream",
     "text": [
      "Recall - Test Data: 56.641%\n",
      "Precision - Test Data: 10.147%\n",
      "F-Score  - Test Data: 17.211%\n",
      "[[ 1.713023    1.35066602  0.00245523 -0.30618117]]\n"
     ]
    }
   ],
   "source": [
    "ensemb_model = LogisticRegressionCV(cv=3, scoring='recall').fit(X_train, y_train)\n",
    "\n",
    "preds = ensemb_model.predict_proba(X_test)[:,1]\n",
    "preds = list(map(discretizer, preds))\n",
    "    \n",
    "precision = precision_score(y_true=y_test, y_pred=preds)\n",
    "recall = recall_score(y_true=y_test, y_pred=preds)\n",
    "fscore = f1_score(y_true=y_test, y_pred=preds)\n",
    "\n",
    "print('Recall - Test Data: {:2.3%}'.format(recall))\n",
    "print('Precision - Test Data: {:2.3%}'.format(precision))\n",
    "print('F-Score  - Test Data: {:2.3%}'.format(fscore))\n",
    "\n",
    "print(ensemb_model.coef_)"
   ]
  },
  {
   "cell_type": "markdown",
   "metadata": {},
   "source": [
    "# Test with Other Model Types"
   ]
  },
  {
   "cell_type": "markdown",
   "metadata": {},
   "source": [
    "## XGBoost"
   ]
  },
  {
   "cell_type": "code",
   "execution_count": 21,
   "metadata": {},
   "outputs": [
    {
     "name": "stdout",
     "output_type": "stream",
     "text": [
      "Recall - Test Data: 60.938%\n",
      "Precision - Test Data: 14.338%\n",
      "F-Score - Test Data: 23.214%\n",
      "[0.14354838 0.27580646 0.3935484  0.18709677]\n"
     ]
    }
   ],
   "source": [
    "from xgboost import XGBClassifier\n",
    "\n",
    "xgb = XGBClassifier(seed=42).fit(X_train, y_train)\n",
    "\n",
    "preds = xgb.predict_proba(X_test)[:,1]\n",
    "preds = list(map(discretizer, preds))\n",
    "\n",
    "precision = precision_score(y_true=y_test, y_pred=preds)\n",
    "recall = recall_score(y_true=y_test, y_pred=preds)\n",
    "fscore = f1_score(y_true=y_test, y_pred=preds)\n",
    "\n",
    "print('Recall - Test Data: {:2.3%}'.format(recall))\n",
    "print('Precision - Test Data: {:2.3%}'.format(precision))\n",
    "print('F-Score - Test Data: {:2.3%}'.format(fscore))\n",
    "\n",
    "print(xgb.feature_importances_)"
   ]
  },
  {
   "cell_type": "markdown",
   "metadata": {},
   "source": [
    "## Extra Trees Classifier"
   ]
  },
  {
   "cell_type": "code",
   "execution_count": 23,
   "metadata": {},
   "outputs": [
    {
     "name": "stdout",
     "output_type": "stream",
     "text": [
      "Recall - Test Data 56.641%\n",
      "Precision - Test Data: 16.763%\n",
      "F-Score - Test Data: 25.870%\n",
      "[0.26435072 0.25915275 0.27043427 0.20606226]\n"
     ]
    }
   ],
   "source": [
    "from sklearn.ensemble import ExtraTreesClassifier\n",
    "\n",
    "et = ExtraTreesClassifier(random_state=42).fit(X_train, y_train)\n",
    "\n",
    "preds = et.predict_proba(X_test)[:,1]\n",
    "preds = list(map(discretizer, preds))\n",
    "\n",
    "precision = precision_score(y_true=y_test, y_pred=preds)\n",
    "recall = recall_score(y_true=y_test, y_pred=preds)\n",
    "fscore = f1_score(y_true=y_test, y_pred=preds)\n",
    "\n",
    "print('Recall - Test Data {:2.3%}'.format(recall))\n",
    "print('Precision - Test Data: {:2.3%}'.format(precision))\n",
    "print('F-Score - Test Data: {:2.3%}'.format(fscore))\n",
    "\n",
    "print(et.feature_importances_)"
   ]
  }
 ],
 "metadata": {
  "kernelspec": {
   "display_name": "Python 3",
   "language": "python",
   "name": "python3"
  },
  "language_info": {
   "codemirror_mode": {
    "name": "ipython",
    "version": 3
   },
   "file_extension": ".py",
   "mimetype": "text/x-python",
   "name": "python",
   "nbconvert_exporter": "python",
   "pygments_lexer": "ipython3",
   "version": "3.6.6"
  }
 },
 "nbformat": 4,
 "nbformat_minor": 2
}

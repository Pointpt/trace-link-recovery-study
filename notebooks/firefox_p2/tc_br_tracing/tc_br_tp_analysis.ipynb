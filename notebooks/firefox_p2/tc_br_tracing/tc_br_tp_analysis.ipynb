{
 "cells": [
  {
   "cell_type": "markdown",
   "metadata": {},
   "source": [
    "# Introduction\n",
    "\n",
    "Notebook to analyze the **True Positive** Results for each model in the context of traceability between **test cases** and **bug reports**."
   ]
  },
  {
   "cell_type": "markdown",
   "metadata": {
    "toc-hr-collapsed": false
   },
   "source": [
    "# Load Libraries and Datasets"
   ]
  },
  {
   "cell_type": "code",
   "execution_count": 1,
   "metadata": {},
   "outputs": [],
   "source": [
    "from mod_finder_util import mod_finder_util\n",
    "mod_finder_util.add_modules_origin_search_path()\n",
    "\n",
    "import pandas as pd\n",
    "import seaborn as sns\n",
    "import matplotlib.pyplot as plt\n",
    "from matplotlib_venn import venn3\n",
    "\n",
    "from modules.models_runner.tc_br_models_runner import TC_BR_Runner\n",
    "from modules.utils import model_evaluator as m_eval\n",
    "from modules.utils import aux_functions\n",
    "from modules.utils import firefox_dataset_p2 as fd\n",
    "from modules.utils import similarity_measures as sm\n",
    "\n",
    "import warnings; warnings.simplefilter('ignore')"
   ]
  },
  {
   "cell_type": "markdown",
   "metadata": {},
   "source": [
    "# Run All Models"
   ]
  },
  {
   "cell_type": "markdown",
   "metadata": {},
   "source": [
    "## Volunteers Only Strategy"
   ]
  },
  {
   "cell_type": "code",
   "execution_count": 2,
   "metadata": {},
   "outputs": [
    {
     "name": "stdout",
     "output_type": "stream",
     "text": [
      "TestCases.shape: (195, 12)\n",
      "SelectedBugReports.shape: (91, 18)\n",
      "Running LSI Model ------\n",
      "Running LDA Model -----\n",
      "Running BM25 Model -----\n",
      "Running W2V Model ------\n",
      "OracleVolunteers.shape: (195, 91)\n",
      "Evaluating LSI Model ----- \n",
      "Evaluating LDA Model ----- \n",
      "Evaluating BM25 Model ----- \n",
      "Evaluating WORDVECTOR Model ----- \n"
     ]
    }
   ],
   "source": [
    "models_runner_4 = TC_BR_Runner()\n",
    "\n",
    "lsi_model_4 = models_runner_4.run_lsi_model()\n",
    "lda_model_4 = models_runner_4.run_lda_model()\n",
    "bm25_model_4 = models_runner_4.run_bm25_model()\n",
    "w2v_model_4 = models_runner_4.run_word2vec_model()\n",
    "\n",
    "oracle=fd.Tc_BR_Oracles.read_oracle_volunteers_df()\n",
    "\n",
    "evaluator_4 = m_eval.ModelEvaluator(oracle)\n",
    "evals_df_4 = evaluator_4.run_evaluator(models=[lsi_model_4,lda_model_4,bm25_model_4,w2v_model_4],\n",
    "                                       top_values=[1,3,5,10], \n",
    "                                       sim_thresholds=[(sm.SimilarityMeasure.COSINE, x/10) for x in range(0,10)])"
   ]
  },
  {
   "cell_type": "markdown",
   "metadata": {},
   "source": [
    "### Results"
   ]
  },
  {
   "cell_type": "code",
   "execution_count": 3,
   "metadata": {},
   "outputs": [
    {
     "data": {
      "text/html": [
       "<div>\n",
       "<style scoped>\n",
       "    .dataframe tbody tr th:only-of-type {\n",
       "        vertical-align: middle;\n",
       "    }\n",
       "\n",
       "    .dataframe tbody tr th {\n",
       "        vertical-align: top;\n",
       "    }\n",
       "\n",
       "    .dataframe thead th {\n",
       "        text-align: right;\n",
       "    }\n",
       "</style>\n",
       "<table border=\"1\" class=\"dataframe\">\n",
       "  <thead>\n",
       "    <tr style=\"text-align: right;\">\n",
       "      <th></th>\n",
       "      <th>model</th>\n",
       "      <th>ref_name</th>\n",
       "      <th>perc_precision</th>\n",
       "      <th>perc_recall</th>\n",
       "      <th>perc_fscore</th>\n",
       "      <th>eval_df</th>\n",
       "      <th>sim_threshold</th>\n",
       "      <th>top</th>\n",
       "      <th>trace_links_df</th>\n",
       "    </tr>\n",
       "  </thead>\n",
       "  <tbody>\n",
       "    <tr>\n",
       "      <th>0</th>\n",
       "      <td>lsi</td>\n",
       "      <td>top_1_cosine_0.0</td>\n",
       "      <td>30.77</td>\n",
       "      <td>1.93</td>\n",
       "      <td>3.57</td>\n",
       "      <td>precision    recall    fscore\n",
       "...</td>\n",
       "      <td>0.0</td>\n",
       "      <td>1.0</td>\n",
       "      <td>br_name     BR_1248267_SRC  BR_1248268_SRC  BR...</td>\n",
       "    </tr>\n",
       "    <tr>\n",
       "      <th>1</th>\n",
       "      <td>lsi</td>\n",
       "      <td>top_1_cosine_0.1</td>\n",
       "      <td>30.77</td>\n",
       "      <td>1.93</td>\n",
       "      <td>3.57</td>\n",
       "      <td>precision    recall    fscore\n",
       "...</td>\n",
       "      <td>0.1</td>\n",
       "      <td>1.0</td>\n",
       "      <td>br_name     BR_1248267_SRC  BR_1248268_SRC  BR...</td>\n",
       "    </tr>\n",
       "    <tr>\n",
       "      <th>2</th>\n",
       "      <td>lsi</td>\n",
       "      <td>top_1_cosine_0.2</td>\n",
       "      <td>30.77</td>\n",
       "      <td>1.93</td>\n",
       "      <td>3.57</td>\n",
       "      <td>precision    recall    fscore\n",
       "...</td>\n",
       "      <td>0.2</td>\n",
       "      <td>1.0</td>\n",
       "      <td>br_name     BR_1248267_SRC  BR_1248268_SRC  BR...</td>\n",
       "    </tr>\n",
       "    <tr>\n",
       "      <th>3</th>\n",
       "      <td>lsi</td>\n",
       "      <td>top_1_cosine_0.3</td>\n",
       "      <td>30.77</td>\n",
       "      <td>1.93</td>\n",
       "      <td>3.57</td>\n",
       "      <td>precision    recall    fscore\n",
       "...</td>\n",
       "      <td>0.3</td>\n",
       "      <td>1.0</td>\n",
       "      <td>br_name     BR_1248267_SRC  BR_1248268_SRC  BR...</td>\n",
       "    </tr>\n",
       "    <tr>\n",
       "      <th>4</th>\n",
       "      <td>lsi</td>\n",
       "      <td>top_1_cosine_0.4</td>\n",
       "      <td>28.57</td>\n",
       "      <td>1.86</td>\n",
       "      <td>3.44</td>\n",
       "      <td>precision    recall    fscore\n",
       "...</td>\n",
       "      <td>0.4</td>\n",
       "      <td>1.0</td>\n",
       "      <td>br_name     BR_1248267_SRC  BR_1248268_SRC  BR...</td>\n",
       "    </tr>\n",
       "  </tbody>\n",
       "</table>\n",
       "</div>"
      ],
      "text/plain": [
       "  model          ref_name  perc_precision  perc_recall  perc_fscore  \\\n",
       "0   lsi  top_1_cosine_0.0           30.77         1.93         3.57   \n",
       "1   lsi  top_1_cosine_0.1           30.77         1.93         3.57   \n",
       "2   lsi  top_1_cosine_0.2           30.77         1.93         3.57   \n",
       "3   lsi  top_1_cosine_0.3           30.77         1.93         3.57   \n",
       "4   lsi  top_1_cosine_0.4           28.57         1.86         3.44   \n",
       "\n",
       "                                             eval_df  sim_threshold  top  \\\n",
       "0                  precision    recall    fscore\n",
       "...            0.0  1.0   \n",
       "1                  precision    recall    fscore\n",
       "...            0.1  1.0   \n",
       "2                  precision    recall    fscore\n",
       "...            0.2  1.0   \n",
       "3                  precision    recall    fscore\n",
       "...            0.3  1.0   \n",
       "4                  precision    recall    fscore\n",
       "...            0.4  1.0   \n",
       "\n",
       "                                      trace_links_df  \n",
       "0  br_name     BR_1248267_SRC  BR_1248268_SRC  BR...  \n",
       "1  br_name     BR_1248267_SRC  BR_1248268_SRC  BR...  \n",
       "2  br_name     BR_1248267_SRC  BR_1248268_SRC  BR...  \n",
       "3  br_name     BR_1248267_SRC  BR_1248268_SRC  BR...  \n",
       "4  br_name     BR_1248267_SRC  BR_1248268_SRC  BR...  "
      ]
     },
     "execution_count": 3,
     "metadata": {},
     "output_type": "execute_result"
    }
   ],
   "source": [
    "evals_df_4.head()"
   ]
  },
  {
   "cell_type": "markdown",
   "metadata": {},
   "source": [
    "### Grouping Results by Model"
   ]
  },
  {
   "cell_type": "markdown",
   "metadata": {
    "toc-hr-collapsed": true
   },
   "source": [
    "#### Min Precision"
   ]
  },
  {
   "cell_type": "code",
   "execution_count": 4,
   "metadata": {},
   "outputs": [
    {
     "name": "stdout",
     "output_type": "stream",
     "text": [
      "model\n",
      "bm25          21.21\n",
      "lda            3.30\n",
      "lsi            0.00\n",
      "wordvector     4.98\n",
      "Name: perc_precision, dtype: float64\n",
      "\n"
     ]
    },
    {
     "data": {
      "image/png": "[encoded data removed]",
      "text/plain": [
       "<Figure size 432x288 with 1 Axes>"
      ]
     },
     "metadata": {},
     "output_type": "display_data"
    },
    {
     "data": {
      "image/png": "[encoded data removed]",
      "text/plain": [
       "<Figure size 432x288 with 1 Axes>"
      ]
     },
     "metadata": {},
     "output_type": "display_data"
    },
    {
     "data": {
      "image/png": "[encoded data removed]",
      "text/plain": [
       "<Figure size 432x288 with 1 Axes>"
      ]
     },
     "metadata": {},
     "output_type": "display_data"
    },
    {
     "data": {
      "image/png": "[encoded data removed]",
      "text/plain": [
       "<Figure size 432x288 with 1 Axes>"
      ]
     },
     "metadata": {},
     "output_type": "display_data"
    }
   ],
   "source": [
    "group = evals_df_4.groupby('model').perc_precision.min()\n",
    "print(group)\n",
    "print()\n",
    "\n",
    "bm25_min_prec = group[group.index == 'bm25'].values[0]\n",
    "lsi_min_prec = group[group.index == 'lsi'].values[0]\n",
    "lda_min_prec = group[group.index == 'lda'].values[0]\n",
    "wv_min_prec = group[group.index == 'wordvector'].values[0]\n",
    "\n",
    "bm25_tp_set = aux_functions.get_true_positives( oracle, aux_functions.get_trace_links_df(evaluations_df=evals_df_4, model='bm25', perc_precision=bm25_min_prec))\n",
    "lsi_tp_set = aux_functions.get_true_positives( oracle, aux_functions.get_trace_links_df(evaluations_df=evals_df_4, model='lsi', perc_precision=lsi_min_prec))\n",
    "lda_tp_set = aux_functions.get_true_positives( oracle, aux_functions.get_trace_links_df(evaluations_df=evals_df_4, model='lda', perc_precision=lda_min_prec))\n",
    "wv_tp_set = aux_functions.get_true_positives( oracle, aux_functions.get_trace_links_df(evaluations_df=evals_df_4, model='wordvector', perc_precision=wv_min_prec))\n",
    "\n",
    "venn3([bm25_tp_set, lsi_tp_set, lda_tp_set], ['BM25','LSI','LDA'])\n",
    "plt.title('Comparison True Positives by Model (BM25, LSI, LDA) - Min Precision')\n",
    "plt.show()\n",
    "\n",
    "venn3([bm25_tp_set, wv_tp_set, lda_tp_set], ['BM25','WV','LDA'])\n",
    "plt.title('Comparison True Positives by Model (BM25, WV, LDA) - Min Precision')\n",
    "plt.show()\n",
    "\n",
    "venn3([lsi_tp_set, wv_tp_set, lda_tp_set], ['LSI','WV','LDA'])\n",
    "plt.title('Comparison True Positives by Model (LSI, WV, LDA) - Min Precision')\n",
    "plt.show()\n",
    "\n",
    "venn3([lsi_tp_set, wv_tp_set, bm25_tp_set], ['LSI','WV','BM25'])\n",
    "plt.title('Comparison True Positives by Model (LSI, WV, BM25) - Min Precision')\n",
    "plt.show()"
   ]
  },
  {
   "cell_type": "markdown",
   "metadata": {},
   "source": [
    "##### Exclusive Cases"
   ]
  },
  {
   "cell_type": "code",
   "execution_count": 5,
   "metadata": {},
   "outputs": [
    {
     "name": "stdout",
     "output_type": "stream",
     "text": [
      "BM25 Exclusive TP:\n"
     ]
    },
    {
     "data": {
      "text/plain": [
       "{('TC_100_TRG', 'BR_1299458_SRC'),\n",
       " ('TC_104_TRG', 'BR_1300738_SRC'),\n",
       " ('TC_106_TRG', 'BR_1300738_SRC'),\n",
       " ('TC_107_TRG', 'BR_1300738_SRC'),\n",
       " ('TC_108_TRG', 'BR_1300738_SRC'),\n",
       " ('TC_109_TRG', 'BR_1300738_SRC'),\n",
       " ('TC_130_TRG', 'BR_1314643_SRC'),\n",
       " ('TC_13_TRG', 'BR_1294733_SRC'),\n",
       " ('TC_13_TRG', 'BR_1294887_SRC'),\n",
       " ('TC_13_TRG', 'BR_1296366_SRC'),\n",
       " ('TC_13_TRG', 'BR_1297374_SRC'),\n",
       " ('TC_13_TRG', 'BR_1335992_SRC'),\n",
       " ('TC_13_TRG', 'BR_1339497_SRC'),\n",
       " ('TC_13_TRG', 'BR_1352539_SRC'),\n",
       " ('TC_144_TRG', 'BR_1365887_SRC'),\n",
       " ('TC_145_TRG', 'BR_1365887_SRC'),\n",
       " ('TC_148_TRG', 'BR_1365887_SRC'),\n",
       " ('TC_14_TRG', 'BR_1264988_SRC'),\n",
       " ('TC_14_TRG', 'BR_1279864_SRC'),\n",
       " ('TC_14_TRG', 'BR_1293308_SRC'),\n",
       " ('TC_14_TRG', 'BR_1297374_SRC'),\n",
       " ('TC_14_TRG', 'BR_1297976_SRC'),\n",
       " ('TC_14_TRG', 'BR_1301421_SRC'),\n",
       " ('TC_14_TRG', 'BR_1328913_SRC'),\n",
       " ('TC_14_TRG', 'BR_1335992_SRC'),\n",
       " ('TC_14_TRG', 'BR_1337682_SRC'),\n",
       " ('TC_14_TRG', 'BR_1339497_SRC'),\n",
       " ('TC_14_TRG', 'BR_1352539_SRC'),\n",
       " ('TC_14_TRG', 'BR_1365887_SRC'),\n",
       " ('TC_14_TRG', 'BR_1408361_SRC'),\n",
       " ('TC_153_TRG', 'BR_1297686_SRC'),\n",
       " ('TC_154_TRG', 'BR_1287384_SRC'),\n",
       " ('TC_154_TRG', 'BR_1292566_SRC'),\n",
       " ('TC_154_TRG', 'BR_1292573_SRC'),\n",
       " ('TC_155_TRG', 'BR_1287748_SRC'),\n",
       " ('TC_156_TRG', 'BR_1287384_SRC'),\n",
       " ('TC_156_TRG', 'BR_1292573_SRC'),\n",
       " ('TC_156_TRG', 'BR_1297686_SRC'),\n",
       " ('TC_157_TRG', 'BR_1287384_SRC'),\n",
       " ('TC_157_TRG', 'BR_1292573_SRC'),\n",
       " ('TC_157_TRG', 'BR_1432915_SRC'),\n",
       " ('TC_158_TRG', 'BR_1287384_SRC'),\n",
       " ('TC_158_TRG', 'BR_1292573_SRC'),\n",
       " ('TC_159_TRG', 'BR_1292566_SRC'),\n",
       " ('TC_159_TRG', 'BR_1297686_SRC'),\n",
       " ('TC_159_TRG', 'BR_1432915_SRC'),\n",
       " ('TC_15_TRG', 'BR_1294733_SRC'),\n",
       " ('TC_15_TRG', 'BR_1294887_SRC'),\n",
       " ('TC_15_TRG', 'BR_1297374_SRC'),\n",
       " ('TC_15_TRG', 'BR_1335992_SRC'),\n",
       " ('TC_15_TRG', 'BR_1352539_SRC'),\n",
       " ('TC_15_TRG', 'BR_1353831_SRC'),\n",
       " ('TC_160_TRG', 'BR_1292566_SRC'),\n",
       " ('TC_160_TRG', 'BR_1297686_SRC'),\n",
       " ('TC_160_TRG', 'BR_1432915_SRC'),\n",
       " ('TC_161_TRG', 'BR_1292566_SRC'),\n",
       " ('TC_161_TRG', 'BR_1292573_SRC'),\n",
       " ('TC_161_TRG', 'BR_1297686_SRC'),\n",
       " ('TC_161_TRG', 'BR_1432915_SRC'),\n",
       " ('TC_162_TRG', 'BR_1292566_SRC'),\n",
       " ('TC_163_TRG', 'BR_1287384_SRC'),\n",
       " ('TC_163_TRG', 'BR_1292566_SRC'),\n",
       " ('TC_163_TRG', 'BR_1292573_SRC'),\n",
       " ('TC_163_TRG', 'BR_1357458_SRC'),\n",
       " ('TC_163_TRG', 'BR_1432915_SRC'),\n",
       " ('TC_164_TRG', 'BR_1287384_SRC'),\n",
       " ('TC_164_TRG', 'BR_1292566_SRC'),\n",
       " ('TC_164_TRG', 'BR_1292573_SRC'),\n",
       " ('TC_164_TRG', 'BR_1432915_SRC'),\n",
       " ('TC_165_TRG', 'BR_1287384_SRC'),\n",
       " ('TC_166_TRG', 'BR_1292566_SRC'),\n",
       " ('TC_167_TRG', 'BR_1287384_SRC'),\n",
       " ('TC_167_TRG', 'BR_1292566_SRC'),\n",
       " ('TC_168_TRG', 'BR_1297686_SRC'),\n",
       " ('TC_169_TRG', 'BR_1287384_SRC'),\n",
       " ('TC_16_TRG', 'BR_1264988_SRC'),\n",
       " ('TC_16_TRG', 'BR_1291770_SRC'),\n",
       " ('TC_16_TRG', 'BR_1294733_SRC'),\n",
       " ('TC_16_TRG', 'BR_1294887_SRC'),\n",
       " ('TC_16_TRG', 'BR_1297374_SRC'),\n",
       " ('TC_16_TRG', 'BR_1297976_SRC'),\n",
       " ('TC_16_TRG', 'BR_1301421_SRC'),\n",
       " ('TC_16_TRG', 'BR_1311998_SRC'),\n",
       " ('TC_16_TRG', 'BR_1335992_SRC'),\n",
       " ('TC_16_TRG', 'BR_1352539_SRC'),\n",
       " ('TC_16_TRG', 'BR_1353831_SRC'),\n",
       " ('TC_16_TRG', 'BR_1357458_SRC'),\n",
       " ('TC_16_TRG', 'BR_1408361_SRC'),\n",
       " ('TC_170_TRG', 'BR_1287384_SRC'),\n",
       " ('TC_170_TRG', 'BR_1292566_SRC'),\n",
       " ('TC_17_TRG', 'BR_1291770_SRC'),\n",
       " ('TC_17_TRG', 'BR_1294733_SRC'),\n",
       " ('TC_17_TRG', 'BR_1294887_SRC'),\n",
       " ('TC_17_TRG', 'BR_1296366_SRC'),\n",
       " ('TC_17_TRG', 'BR_1297374_SRC'),\n",
       " ('TC_17_TRG', 'BR_1305737_SRC'),\n",
       " ('TC_17_TRG', 'BR_1311998_SRC'),\n",
       " ('TC_17_TRG', 'BR_1335992_SRC'),\n",
       " ('TC_17_TRG', 'BR_1408361_SRC'),\n",
       " ('TC_180_TRG', 'BR_1296322_SRC'),\n",
       " ('TC_180_TRG', 'BR_1296861_SRC'),\n",
       " ('TC_180_TRG', 'BR_1345687_SRC'),\n",
       " ('TC_181_TRG', 'BR_1296322_SRC'),\n",
       " ('TC_181_TRG', 'BR_1296861_SRC'),\n",
       " ('TC_181_TRG', 'BR_1345687_SRC'),\n",
       " ('TC_183_TRG', 'BR_1296322_SRC'),\n",
       " ('TC_183_TRG', 'BR_1345687_SRC'),\n",
       " ('TC_183_TRG', 'BR_1430603_SRC'),\n",
       " ('TC_184_TRG', 'BR_1296322_SRC'),\n",
       " ('TC_184_TRG', 'BR_1296861_SRC'),\n",
       " ('TC_185_TRG', 'BR_1290424_SRC'),\n",
       " ('TC_185_TRG', 'BR_1345687_SRC'),\n",
       " ('TC_186_TRG', 'BR_1290424_SRC'),\n",
       " ('TC_186_TRG', 'BR_1296322_SRC'),\n",
       " ('TC_187_TRG', 'BR_1290424_SRC'),\n",
       " ('TC_187_TRG', 'BR_1345687_SRC'),\n",
       " ('TC_188_TRG', 'BR_1290424_SRC'),\n",
       " ('TC_189_TRG', 'BR_1345687_SRC'),\n",
       " ('TC_18_TRG', 'BR_1294733_SRC'),\n",
       " ('TC_18_TRG', 'BR_1294887_SRC'),\n",
       " ('TC_18_TRG', 'BR_1311998_SRC'),\n",
       " ('TC_18_TRG', 'BR_1335992_SRC'),\n",
       " ('TC_18_TRG', 'BR_1357458_SRC'),\n",
       " ('TC_18_TRG', 'BR_1408361_SRC'),\n",
       " ('TC_190_TRG', 'BR_1296322_SRC'),\n",
       " ('TC_190_TRG', 'BR_1296861_SRC'),\n",
       " ('TC_190_TRG', 'BR_1345687_SRC'),\n",
       " ('TC_191_TRG', 'BR_1296861_SRC'),\n",
       " ('TC_191_TRG', 'BR_1345687_SRC'),\n",
       " ('TC_192_TRG', 'BR_1296861_SRC'),\n",
       " ('TC_193_TRG', 'BR_1296322_SRC'),\n",
       " ('TC_193_TRG', 'BR_1296861_SRC'),\n",
       " ('TC_195_TRG', 'BR_1296322_SRC'),\n",
       " ('TC_195_TRG', 'BR_1345687_SRC'),\n",
       " ('TC_195_TRG', 'BR_1430603_SRC'),\n",
       " ('TC_198_TRG', 'BR_1365887_SRC'),\n",
       " ('TC_19_TRG', 'BR_1291770_SRC'),\n",
       " ('TC_200_TRG', 'BR_1305195_SRC'),\n",
       " ('TC_201_TRG', 'BR_1365887_SRC'),\n",
       " ('TC_203_TRG', 'BR_1305195_SRC'),\n",
       " ('TC_203_TRG', 'BR_1365887_SRC'),\n",
       " ('TC_204_TRG', 'BR_1305195_SRC'),\n",
       " ('TC_205_TRG', 'BR_1305195_SRC'),\n",
       " ('TC_206_TRG', 'BR_1305195_SRC'),\n",
       " ('TC_207_TRG', 'BR_1305195_SRC'),\n",
       " ('TC_22_TRG', 'BR_1451475_SRC'),\n",
       " ('TC_24_TRG', 'BR_1291770_SRC'),\n",
       " ('TC_24_TRG', 'BR_1297976_SRC'),\n",
       " ('TC_25_TRG', 'BR_1291770_SRC'),\n",
       " ('TC_49_TRG', 'BR_1287687_SRC'),\n",
       " ('TC_59_TRG', 'BR_1313290_SRC'),\n",
       " ('TC_59_TRG', 'BR_1318903_SRC'),\n",
       " ('TC_59_TRG', 'BR_1336227_SRC'),\n",
       " ('TC_59_TRG', 'BR_1344446_SRC'),\n",
       " ('TC_59_TRG', 'BR_1353831_SRC'),\n",
       " ('TC_60_TRG', 'BR_1313290_SRC'),\n",
       " ('TC_60_TRG', 'BR_1318903_SRC'),\n",
       " ('TC_61_TRG', 'BR_1248268_SRC'),\n",
       " ('TC_61_TRG', 'BR_1313290_SRC'),\n",
       " ('TC_61_TRG', 'BR_1318903_SRC'),\n",
       " ('TC_62_TRG', 'BR_1353831_SRC'),\n",
       " ('TC_62_TRG', 'BR_1357458_SRC'),\n",
       " ('TC_62_TRG', 'BR_1449700_SRC'),\n",
       " ('TC_62_TRG', 'BR_1451475_SRC'),\n",
       " ('TC_63_TRG', 'BR_1248268_SRC'),\n",
       " ('TC_63_TRG', 'BR_1353831_SRC'),\n",
       " ('TC_63_TRG', 'BR_1451475_SRC'),\n",
       " ('TC_64_TRG', 'BR_1353831_SRC'),\n",
       " ('TC_64_TRG', 'BR_1357458_SRC'),\n",
       " ('TC_70_TRG', 'BR_1301056_SRC'),\n",
       " ('TC_73_TRG', 'BR_1248267_SRC'),\n",
       " ('TC_87_TRG', 'BR_1289240_SRC'),\n",
       " ('TC_88_TRG', 'BR_1289240_SRC'),\n",
       " ('TC_88_TRG', 'BR_1306639_SRC'),\n",
       " ('TC_90_TRG', 'BR_1270983_SRC'),\n",
       " ('TC_98_TRG', 'BR_1299458_SRC'),\n",
       " ('TC_98_TRG', 'BR_1306639_SRC'),\n",
       " ('TC_98_TRG', 'BR_1365887_SRC'),\n",
       " ('TC_99_TRG', 'BR_1299458_SRC'),\n",
       " ('TC_99_TRG', 'BR_1306639_SRC')}"
      ]
     },
     "metadata": {},
     "output_type": "display_data"
    },
    {
     "name": "stdout",
     "output_type": "stream",
     "text": [
      "len(bm25_exc_set): 180\n",
      "\n",
      "\n",
      "LSI Exclusive TP:\n"
     ]
    },
    {
     "data": {
      "text/plain": [
       "set()"
      ]
     },
     "metadata": {},
     "output_type": "display_data"
    },
    {
     "name": "stdout",
     "output_type": "stream",
     "text": [
      "len(lsi_exc_set): set()\n",
      "\n",
      "\n",
      "LDA Exclusive TP:\n"
     ]
    },
    {
     "data": {
      "text/plain": [
       "{('TC_118_TRG', 'BR_1357458_SRC'),\n",
       " ('TC_157_TRG', 'BR_1292566_SRC'),\n",
       " ('TC_157_TRG', 'BR_1297686_SRC')}"
      ]
     },
     "metadata": {},
     "output_type": "display_data"
    },
    {
     "name": "stdout",
     "output_type": "stream",
     "text": [
      "len(lda_exc_set): {('TC_157_TRG', 'BR_1297686_SRC'), ('TC_118_TRG', 'BR_1357458_SRC'), ('TC_157_TRG', 'BR_1292566_SRC')}\n",
      "\n",
      "\n",
      "WV Exclusive TP:\n"
     ]
    },
    {
     "data": {
      "text/plain": [
       "{('TC_193_TRG', 'BR_1290424_SRC'),\n",
       " ('TC_79_TRG', 'BR_1248267_SRC'),\n",
       " ('TC_79_TRG', 'BR_1299458_SRC'),\n",
       " ('TC_94_TRG', 'BR_1299458_SRC')}"
      ]
     },
     "metadata": {},
     "output_type": "display_data"
    },
    {
     "name": "stdout",
     "output_type": "stream",
     "text": [
      "len(wv_exc_set): {('TC_94_TRG', 'BR_1299458_SRC'), ('TC_79_TRG', 'BR_1248267_SRC'), ('TC_79_TRG', 'BR_1299458_SRC'), ('TC_193_TRG', 'BR_1290424_SRC')}\n"
     ]
    }
   ],
   "source": [
    "print(\"BM25 Exclusive TP:\")\n",
    "bm25_exc_set = bm25_tp_set - lsi_tp_set - lda_tp_set - wv_tp_set\n",
    "display(bm25_exc_set)\n",
    "print(\"len(bm25_exc_set): {}\".format(len(bm25_exc_set)))\n",
    "\n",
    "print(\"\\n\\nLSI Exclusive TP:\")\n",
    "lsi_exc_set = lsi_tp_set - bm25_tp_set - lda_tp_set - wv_tp_set\n",
    "display(lsi_exc_set)\n",
    "print(\"len(lsi_exc_set): {}\".format(lsi_exc_set))\n",
    "\n",
    "print(\"\\n\\nLDA Exclusive TP:\")\n",
    "lda_exc_set = lda_tp_set - lsi_tp_set - bm25_tp_set - wv_tp_set\n",
    "display(lda_exc_set)\n",
    "print(\"len(lda_exc_set): {}\".format(lda_exc_set))\n",
    "\n",
    "print(\"\\n\\nWV Exclusive TP:\")\n",
    "wv_exc_set = wv_tp_set - lda_tp_set - lsi_tp_set - bm25_tp_set\n",
    "display(wv_exc_set)\n",
    "print(\"len(wv_exc_set): {}\".format(wv_exc_set))"
   ]
  },
  {
   "cell_type": "markdown",
   "metadata": {},
   "source": [
    "##### True Positives Amount by Model"
   ]
  },
  {
   "cell_type": "code",
   "execution_count": 6,
   "metadata": {},
   "outputs": [
    {
     "name": "stdout",
     "output_type": "stream",
     "text": [
      "LSI TP Amount: 0\n",
      "LDA TP Amount: 3\n",
      "BM25 TP Amount: 193\n",
      "WV TP Amount: 17\n"
     ]
    }
   ],
   "source": [
    "print(\"LSI TP Amount: {}\".format(len(lsi_tp_set)))\n",
    "print(\"LDA TP Amount: {}\".format(len(lda_tp_set)))\n",
    "print(\"BM25 TP Amount: {}\".format(len(bm25_tp_set)))\n",
    "print(\"WV TP Amount: {}\".format(len(wv_tp_set)))"
   ]
  },
  {
   "cell_type": "markdown",
   "metadata": {
    "toc-hr-collapsed": true
   },
   "source": [
    "#### Min Recall"
   ]
  },
  {
   "cell_type": "code",
   "execution_count": 7,
   "metadata": {},
   "outputs": [
    {
     "name": "stdout",
     "output_type": "stream",
     "text": [
      "model\n",
      "bm25          1.86\n",
      "lda           0.14\n",
      "lsi           0.00\n",
      "wordvector    0.63\n",
      "Name: perc_recall, dtype: float64\n",
      "\n"
     ]
    },
    {
     "data": {
      "image/png": "[encoded data removed]",
      "text/plain": [
       "<Figure size 432x288 with 1 Axes>"
      ]
     },
     "metadata": {},
     "output_type": "display_data"
    },
    {
     "data": {
      "image/png": "[encoded data removed]",
      "text/plain": [
       "<Figure size 432x288 with 1 Axes>"
      ]
     },
     "metadata": {},
     "output_type": "display_data"
    },
    {
     "data": {
      "image/png": "[encoded data removed]",
      "text/plain": [
       "<Figure size 432x288 with 1 Axes>"
      ]
     },
     "metadata": {},
     "output_type": "display_data"
    },
    {
     "data": {
      "image/png": "[encoded data removed]",
      "text/plain": [
       "<Figure size 432x288 with 1 Axes>"
      ]
     },
     "metadata": {},
     "output_type": "display_data"
    }
   ],
   "source": [
    "group = evals_df_4.groupby('model').perc_recall.min()\n",
    "print(group)\n",
    "print()\n",
    "\n",
    "bm25_min_recall = group[group.index == 'bm25'].values[0]\n",
    "lsi_min_recall = group[group.index == 'lsi'].values[0]\n",
    "lda_min_recall = group[group.index == 'lda'].values[0]\n",
    "wv_min_recall = group[group.index == 'wordvector'].values[0]\n",
    "\n",
    "bm25_tp_set = aux_functions.get_true_positives( oracle, aux_functions.get_trace_links_df(evaluations_df=evals_df_4, model='bm25', perc_recall=bm25_min_recall))\n",
    "lsi_tp_set = aux_functions.get_true_positives( oracle, aux_functions.get_trace_links_df(evaluations_df=evals_df_4, model='lsi', perc_recall=lsi_min_recall))\n",
    "lda_tp_set = aux_functions.get_true_positives( oracle, aux_functions.get_trace_links_df(evaluations_df=evals_df_4, model='lda', perc_recall=lda_min_recall))\n",
    "wv_tp_set = aux_functions.get_true_positives( oracle, aux_functions.get_trace_links_df(evaluations_df=evals_df_4, model='wordvector', perc_recall=wv_min_recall))\n",
    "\n",
    "venn3([bm25_tp_set, lsi_tp_set, lda_tp_set], ['BM25','LSI','LDA'])\n",
    "plt.title('Comparison True Positives by Model (BM25, LSI, LDA) - Min Recall')\n",
    "plt.show()\n",
    "\n",
    "venn3([bm25_tp_set, wv_tp_set, lda_tp_set], ['BM25','WV','LDA'])\n",
    "plt.title('Comparison True Positives by Model (BM25, WV, LDA) - Min Recall')\n",
    "plt.show()\n",
    "\n",
    "venn3([lsi_tp_set, wv_tp_set, lda_tp_set], ['LSI','WV','LDA'])\n",
    "plt.title('Comparison True Positives by Model (LSI, WV, LDA) - Min Recall')\n",
    "plt.show()\n",
    "\n",
    "venn3([lsi_tp_set, wv_tp_set, bm25_tp_set], ['LSI','WV','BM25'])\n",
    "plt.title('Comparison True Positives by Model (LSI, WV, BM25) - Min Precision')\n",
    "plt.show()"
   ]
  },
  {
   "cell_type": "markdown",
   "metadata": {},
   "source": [
    "##### Exclusive Cases"
   ]
  },
  {
   "cell_type": "code",
   "execution_count": 8,
   "metadata": {},
   "outputs": [
    {
     "name": "stdout",
     "output_type": "stream",
     "text": [
      "BM25 Exclusive TP:\n"
     ]
    },
    {
     "data": {
      "text/plain": [
       "{('TC_14_TRG', 'BR_1301421_SRC'),\n",
       " ('TC_14_TRG', 'BR_1339497_SRC'),\n",
       " ('TC_14_TRG', 'BR_1365887_SRC'),\n",
       " ('TC_159_TRG', 'BR_1432915_SRC'),\n",
       " ('TC_160_TRG', 'BR_1297686_SRC'),\n",
       " ('TC_161_TRG', 'BR_1292566_SRC'),\n",
       " ('TC_163_TRG', 'BR_1292573_SRC'),\n",
       " ('TC_164_TRG', 'BR_1287384_SRC'),\n",
       " ('TC_16_TRG', 'BR_1294887_SRC'),\n",
       " ('TC_16_TRG', 'BR_1311998_SRC'),\n",
       " ('TC_17_TRG', 'BR_1305737_SRC'),\n",
       " ('TC_17_TRG', 'BR_1408361_SRC'),\n",
       " ('TC_193_TRG', 'BR_1296322_SRC'),\n",
       " ('TC_193_TRG', 'BR_1296861_SRC'),\n",
       " ('TC_193_TRG', 'BR_1345687_SRC'),\n",
       " ('TC_19_TRG', 'BR_1291770_SRC'),\n",
       " ('TC_206_TRG', 'BR_1305195_SRC'),\n",
       " ('TC_61_TRG', 'BR_1318903_SRC'),\n",
       " ('TC_88_TRG', 'BR_1289240_SRC'),\n",
       " ('TC_88_TRG', 'BR_1299458_SRC')}"
      ]
     },
     "metadata": {},
     "output_type": "display_data"
    },
    {
     "name": "stdout",
     "output_type": "stream",
     "text": [
      "len(bm25_exc_set): 20\n",
      "\n",
      "\n",
      "LSI Exclusive TP:\n"
     ]
    },
    {
     "data": {
      "text/plain": [
       "set()"
      ]
     },
     "metadata": {},
     "output_type": "display_data"
    },
    {
     "name": "stdout",
     "output_type": "stream",
     "text": [
      "len(lsi_exc_set): set()\n",
      "\n",
      "\n",
      "LDA Exclusive TP:\n"
     ]
    },
    {
     "data": {
      "text/plain": [
       "{('TC_118_TRG', 'BR_1357458_SRC'),\n",
       " ('TC_157_TRG', 'BR_1292566_SRC'),\n",
       " ('TC_157_TRG', 'BR_1297686_SRC')}"
      ]
     },
     "metadata": {},
     "output_type": "display_data"
    },
    {
     "name": "stdout",
     "output_type": "stream",
     "text": [
      "len(lda_exc_set): {('TC_157_TRG', 'BR_1297686_SRC'), ('TC_118_TRG', 'BR_1357458_SRC'), ('TC_157_TRG', 'BR_1292566_SRC')}\n",
      "\n",
      "\n",
      "WV Exclusive TP:\n"
     ]
    },
    {
     "data": {
      "text/plain": [
       "{('TC_14_TRG', 'BR_1294887_SRC'), ('TC_14_TRG', 'BR_1311998_SRC')}"
      ]
     },
     "metadata": {},
     "output_type": "display_data"
    },
    {
     "name": "stdout",
     "output_type": "stream",
     "text": [
      "len(wv_exc_set): {('TC_14_TRG', 'BR_1311998_SRC'), ('TC_14_TRG', 'BR_1294887_SRC')}\n"
     ]
    }
   ],
   "source": [
    "print(\"BM25 Exclusive TP:\")\n",
    "bm25_exc_set = bm25_tp_set - lsi_tp_set - lda_tp_set - wv_tp_set\n",
    "display(bm25_exc_set)\n",
    "print(\"len(bm25_exc_set): {}\".format(len(bm25_exc_set)))\n",
    "\n",
    "print(\"\\n\\nLSI Exclusive TP:\")\n",
    "lsi_exc_set = lsi_tp_set - bm25_tp_set - lda_tp_set - wv_tp_set\n",
    "display(lsi_exc_set)\n",
    "print(\"len(lsi_exc_set): {}\".format(lsi_exc_set))\n",
    "\n",
    "print(\"\\n\\nLDA Exclusive TP:\")\n",
    "lda_exc_set = lda_tp_set - lsi_tp_set - bm25_tp_set - wv_tp_set\n",
    "display(lda_exc_set)\n",
    "print(\"len(lda_exc_set): {}\".format(lda_exc_set))\n",
    "\n",
    "print(\"\\n\\nWV Exclusive TP:\")\n",
    "wv_exc_set = wv_tp_set - lda_tp_set - lsi_tp_set - bm25_tp_set\n",
    "display(wv_exc_set)\n",
    "print(\"len(wv_exc_set): {}\".format(wv_exc_set))"
   ]
  },
  {
   "cell_type": "markdown",
   "metadata": {},
   "source": [
    "##### True Positives Amount by Model"
   ]
  },
  {
   "cell_type": "code",
   "execution_count": 9,
   "metadata": {},
   "outputs": [
    {
     "name": "stdout",
     "output_type": "stream",
     "text": [
      "LSI TP Amount: 0\n",
      "LDA TP Amount: 3\n",
      "BM25 TP Amount: 26\n",
      "WV TP Amount: 8\n"
     ]
    }
   ],
   "source": [
    "print(\"LSI TP Amount: {}\".format(len(lsi_tp_set)))\n",
    "print(\"LDA TP Amount: {}\".format(len(lda_tp_set)))\n",
    "print(\"BM25 TP Amount: {}\".format(len(bm25_tp_set)))\n",
    "print(\"WV TP Amount: {}\".format(len(wv_tp_set)))"
   ]
  },
  {
   "cell_type": "markdown",
   "metadata": {
    "toc-hr-collapsed": true
   },
   "source": [
    "#### Max Precision"
   ]
  },
  {
   "cell_type": "code",
   "execution_count": 10,
   "metadata": {},
   "outputs": [
    {
     "name": "stdout",
     "output_type": "stream",
     "text": [
      "model\n",
      "bm25          28.57\n",
      "lda           14.62\n",
      "lsi           30.77\n",
      "wordvector    15.38\n",
      "Name: perc_precision, dtype: float64\n",
      "\n"
     ]
    },
    {
     "data": {
      "image/png": "[encoded data removed]",
      "text/plain": [
       "<Figure size 432x288 with 1 Axes>"
      ]
     },
     "metadata": {},
     "output_type": "display_data"
    },
    {
     "data": {
      "image/png": "[encoded data removed]",
      "text/plain": [
       "<Figure size 432x288 with 1 Axes>"
      ]
     },
     "metadata": {},
     "output_type": "display_data"
    },
    {
     "data": {
      "image/png": "[encoded data removed]",
      "text/plain": [
       "<Figure size 432x288 with 1 Axes>"
      ]
     },
     "metadata": {},
     "output_type": "display_data"
    },
    {
     "data": {
      "image/png": "[encoded data removed]",
      "text/plain": [
       "<Figure size 432x288 with 1 Axes>"
      ]
     },
     "metadata": {},
     "output_type": "display_data"
    }
   ],
   "source": [
    "group = evals_df_4.groupby('model').perc_precision.max()\n",
    "print(group)\n",
    "print()\n",
    "\n",
    "bm25_max_prec = group[group.index == 'bm25'].values[0]\n",
    "lsi_max_prec = group[group.index == 'lsi'].values[0]\n",
    "lda_max_prec = group[group.index == 'lda'].values[0]\n",
    "wv_max_prec = group[group.index == 'wordvector'].values[0]\n",
    "\n",
    "bm25_tp_set = aux_functions.get_true_positives( oracle, aux_functions.get_trace_links_df(evaluations_df=evals_df_4, model='bm25', perc_precision=bm25_max_prec))\n",
    "lsi_tp_set = aux_functions.get_true_positives( oracle, aux_functions.get_trace_links_df(evaluations_df=evals_df_4, model='lsi', perc_precision=lsi_max_prec))\n",
    "lda_tp_set = aux_functions.get_true_positives( oracle, aux_functions.get_trace_links_df(evaluations_df=evals_df_4, model='lda', perc_precision=lda_max_prec))\n",
    "wv_tp_set = aux_functions.get_true_positives( oracle, aux_functions.get_trace_links_df(evaluations_df=evals_df_4, model='wordvector', perc_precision=wv_max_prec))\n",
    "\n",
    "venn3([bm25_tp_set, lsi_tp_set, lda_tp_set], ['BM25','LSI','LDA'])\n",
    "plt.title('Comparison True Positives by Model (BM25, LSI, LDA) - Max Precision')\n",
    "plt.show()\n",
    "\n",
    "venn3([bm25_tp_set, wv_tp_set, lda_tp_set], ['BM25','WV','LDA'])\n",
    "plt.title('Comparison True Positives by Model (BM25, WV, LDA) - Max Precision')\n",
    "plt.show()\n",
    "\n",
    "venn3([lsi_tp_set, wv_tp_set, lda_tp_set], ['LSI','WV','LDA'])\n",
    "plt.title('Comparison True Positives by Model (LSI,WV,LDA) - Max Precision')\n",
    "plt.show()\n",
    "\n",
    "venn3([lsi_tp_set, wv_tp_set, bm25_tp_set], ['LSI','WV','BM25'])\n",
    "plt.title('Comparison True Positives by Model (LSI, WV, BM25) - Max Precision')\n",
    "plt.show()"
   ]
  },
  {
   "cell_type": "markdown",
   "metadata": {},
   "source": [
    "##### Exclusive Cases"
   ]
  },
  {
   "cell_type": "code",
   "execution_count": 11,
   "metadata": {},
   "outputs": [
    {
     "name": "stdout",
     "output_type": "stream",
     "text": [
      "BM25 Exclusive TP:\n"
     ]
    },
    {
     "data": {
      "text/plain": [
       "{('TC_14_TRG', 'BR_1339497_SRC'),\n",
       " ('TC_159_TRG', 'BR_1432915_SRC'),\n",
       " ('TC_17_TRG', 'BR_1305737_SRC'),\n",
       " ('TC_193_TRG', 'BR_1296322_SRC'),\n",
       " ('TC_193_TRG', 'BR_1296861_SRC'),\n",
       " ('TC_193_TRG', 'BR_1345687_SRC'),\n",
       " ('TC_206_TRG', 'BR_1305195_SRC'),\n",
       " ('TC_61_TRG', 'BR_1318903_SRC')}"
      ]
     },
     "metadata": {},
     "output_type": "display_data"
    },
    {
     "name": "stdout",
     "output_type": "stream",
     "text": [
      "len(bm25_exc_set): 8\n",
      "\n",
      "\n",
      "LSI Exclusive TP:\n"
     ]
    },
    {
     "data": {
      "text/plain": [
       "{('TC_13_TRG', 'BR_1339497_SRC'),\n",
       " ('TC_154_TRG', 'BR_1287384_SRC'),\n",
       " ('TC_15_TRG', 'BR_1301421_SRC'),\n",
       " ('TC_15_TRG', 'BR_1328913_SRC'),\n",
       " ('TC_161_TRG', 'BR_1432915_SRC'),\n",
       " ('TC_169_TRG', 'BR_1292573_SRC'),\n",
       " ('TC_16_TRG', 'BR_1264988_SRC'),\n",
       " ('TC_180_TRG', 'BR_1296322_SRC'),\n",
       " ('TC_180_TRG', 'BR_1345687_SRC'),\n",
       " ('TC_184_TRG', 'BR_1296861_SRC'),\n",
       " ('TC_205_TRG', 'BR_1305195_SRC'),\n",
       " ('TC_22_TRG', 'BR_1451475_SRC'),\n",
       " ('TC_60_TRG', 'BR_1318903_SRC')}"
      ]
     },
     "metadata": {},
     "output_type": "display_data"
    },
    {
     "name": "stdout",
     "output_type": "stream",
     "text": [
      "len(lsi_exc_set): {('TC_15_TRG', 'BR_1328913_SRC'), ('TC_180_TRG', 'BR_1296322_SRC'), ('TC_184_TRG', 'BR_1296861_SRC'), ('TC_205_TRG', 'BR_1305195_SRC'), ('TC_60_TRG', 'BR_1318903_SRC'), ('TC_22_TRG', 'BR_1451475_SRC'), ('TC_16_TRG', 'BR_1264988_SRC'), ('TC_169_TRG', 'BR_1292573_SRC'), ('TC_15_TRG', 'BR_1301421_SRC'), ('TC_180_TRG', 'BR_1345687_SRC'), ('TC_13_TRG', 'BR_1339497_SRC'), ('TC_161_TRG', 'BR_1432915_SRC'), ('TC_154_TRG', 'BR_1287384_SRC')}\n",
      "\n",
      "\n",
      "LDA Exclusive TP:\n"
     ]
    },
    {
     "data": {
      "text/plain": [
       "{('TC_100_TRG', 'BR_1299458_SRC'),\n",
       " ('TC_100_TRG', 'BR_1306639_SRC'),\n",
       " ('TC_102_TRG', 'BR_1248267_SRC'),\n",
       " ('TC_102_TRG', 'BR_1270983_SRC'),\n",
       " ('TC_106_TRG', 'BR_1300738_SRC'),\n",
       " ('TC_109_TRG', 'BR_1300738_SRC'),\n",
       " ('TC_112_TRG', 'BR_1314643_SRC'),\n",
       " ('TC_113_TRG', 'BR_1314643_SRC'),\n",
       " ('TC_113_TRG', 'BR_1357458_SRC'),\n",
       " ('TC_114_TRG', 'BR_1357458_SRC'),\n",
       " ('TC_115_TRG', 'BR_1314643_SRC'),\n",
       " ('TC_115_TRG', 'BR_1357458_SRC'),\n",
       " ('TC_116_TRG', 'BR_1314643_SRC'),\n",
       " ('TC_117_TRG', 'BR_1357458_SRC'),\n",
       " ('TC_118_TRG', 'BR_1314643_SRC'),\n",
       " ('TC_118_TRG', 'BR_1357458_SRC'),\n",
       " ('TC_13_TRG', 'BR_1297374_SRC'),\n",
       " ('TC_13_TRG', 'BR_1335992_SRC'),\n",
       " ('TC_13_TRG', 'BR_1352539_SRC'),\n",
       " ('TC_143_TRG', 'BR_1305195_SRC'),\n",
       " ('TC_146_TRG', 'BR_1305195_SRC'),\n",
       " ('TC_147_TRG', 'BR_1365887_SRC'),\n",
       " ('TC_148_TRG', 'BR_1365887_SRC'),\n",
       " ('TC_14_TRG', 'BR_1264988_SRC'),\n",
       " ('TC_14_TRG', 'BR_1279864_SRC'),\n",
       " ('TC_14_TRG', 'BR_1293308_SRC'),\n",
       " ('TC_14_TRG', 'BR_1297976_SRC'),\n",
       " ('TC_14_TRG', 'BR_1408361_SRC'),\n",
       " ('TC_154_TRG', 'BR_1292566_SRC'),\n",
       " ('TC_154_TRG', 'BR_1297686_SRC'),\n",
       " ('TC_156_TRG', 'BR_1287384_SRC'),\n",
       " ('TC_156_TRG', 'BR_1292566_SRC'),\n",
       " ('TC_156_TRG', 'BR_1292573_SRC'),\n",
       " ('TC_156_TRG', 'BR_1297686_SRC'),\n",
       " ('TC_157_TRG', 'BR_1287384_SRC'),\n",
       " ('TC_157_TRG', 'BR_1292566_SRC'),\n",
       " ('TC_157_TRG', 'BR_1292573_SRC'),\n",
       " ('TC_157_TRG', 'BR_1297686_SRC'),\n",
       " ('TC_160_TRG', 'BR_1292566_SRC'),\n",
       " ('TC_160_TRG', 'BR_1292573_SRC'),\n",
       " ('TC_162_TRG', 'BR_1287384_SRC'),\n",
       " ('TC_162_TRG', 'BR_1292566_SRC'),\n",
       " ('TC_162_TRG', 'BR_1297686_SRC'),\n",
       " ('TC_163_TRG', 'BR_1287384_SRC'),\n",
       " ('TC_163_TRG', 'BR_1314643_SRC'),\n",
       " ('TC_163_TRG', 'BR_1357458_SRC'),\n",
       " ('TC_164_TRG', 'BR_1292566_SRC'),\n",
       " ('TC_164_TRG', 'BR_1292573_SRC'),\n",
       " ('TC_164_TRG', 'BR_1297686_SRC'),\n",
       " ('TC_165_TRG', 'BR_1287384_SRC'),\n",
       " ('TC_165_TRG', 'BR_1292566_SRC'),\n",
       " ('TC_165_TRG', 'BR_1297686_SRC'),\n",
       " ('TC_166_TRG', 'BR_1292566_SRC'),\n",
       " ('TC_166_TRG', 'BR_1297686_SRC'),\n",
       " ('TC_169_TRG', 'BR_1287384_SRC'),\n",
       " ('TC_169_TRG', 'BR_1297686_SRC'),\n",
       " ('TC_16_TRG', 'BR_1294733_SRC'),\n",
       " ('TC_16_TRG', 'BR_1297976_SRC'),\n",
       " ('TC_16_TRG', 'BR_1353831_SRC'),\n",
       " ('TC_16_TRG', 'BR_1357458_SRC'),\n",
       " ('TC_16_TRG', 'BR_1408361_SRC'),\n",
       " ('TC_174_TRG', 'BR_1316126_SRC'),\n",
       " ('TC_177_TRG', 'BR_1295502_SRC'),\n",
       " ('TC_178_TRG', 'BR_1295502_SRC'),\n",
       " ('TC_181_TRG', 'BR_1296322_SRC'),\n",
       " ('TC_182_TRG', 'BR_1296322_SRC'),\n",
       " ('TC_18_TRG', 'BR_1294733_SRC'),\n",
       " ('TC_18_TRG', 'BR_1294887_SRC'),\n",
       " ('TC_18_TRG', 'BR_1297976_SRC'),\n",
       " ('TC_18_TRG', 'BR_1311998_SRC'),\n",
       " ('TC_18_TRG', 'BR_1353831_SRC'),\n",
       " ('TC_18_TRG', 'BR_1408361_SRC'),\n",
       " ('TC_194_TRG', 'BR_1296322_SRC'),\n",
       " ('TC_199_TRG', 'BR_1305195_SRC'),\n",
       " ('TC_201_TRG', 'BR_1365887_SRC'),\n",
       " ('TC_204_TRG', 'BR_1365887_SRC'),\n",
       " ('TC_207_TRG', 'BR_1365887_SRC'),\n",
       " ('TC_20_TRG', 'BR_1297336_SRC'),\n",
       " ('TC_21_TRG', 'BR_1297336_SRC'),\n",
       " ('TC_22_TRG', 'BR_1301421_SRC'),\n",
       " ('TC_22_TRG', 'BR_1311998_SRC'),\n",
       " ('TC_22_TRG', 'BR_1353831_SRC'),\n",
       " ('TC_24_TRG', 'BR_1294733_SRC'),\n",
       " ('TC_24_TRG', 'BR_1294887_SRC'),\n",
       " ('TC_24_TRG', 'BR_1301421_SRC'),\n",
       " ('TC_24_TRG', 'BR_1311998_SRC'),\n",
       " ('TC_24_TRG', 'BR_1353831_SRC'),\n",
       " ('TC_24_TRG', 'BR_1357458_SRC'),\n",
       " ('TC_24_TRG', 'BR_1408361_SRC'),\n",
       " ('TC_25_TRG', 'BR_1294887_SRC'),\n",
       " ('TC_25_TRG', 'BR_1297976_SRC'),\n",
       " ('TC_25_TRG', 'BR_1311998_SRC'),\n",
       " ('TC_25_TRG', 'BR_1335992_SRC'),\n",
       " ('TC_25_TRG', 'BR_1353831_SRC'),\n",
       " ('TC_25_TRG', 'BR_1357458_SRC'),\n",
       " ('TC_25_TRG', 'BR_1408361_SRC'),\n",
       " ('TC_62_TRG', 'BR_1313290_SRC'),\n",
       " ('TC_63_TRG', 'BR_1248268_SRC'),\n",
       " ('TC_63_TRG', 'BR_1279140_SRC'),\n",
       " ('TC_63_TRG', 'BR_1336227_SRC'),\n",
       " ('TC_63_TRG', 'BR_1344446_SRC'),\n",
       " ('TC_63_TRG', 'BR_1451475_SRC'),\n",
       " ('TC_66_TRG', 'BR_1365887_SRC'),\n",
       " ('TC_75_TRG', 'BR_1248267_SRC'),\n",
       " ('TC_77_TRG', 'BR_1270983_SRC'),\n",
       " ('TC_80_TRG', 'BR_1270983_SRC'),\n",
       " ('TC_87_TRG', 'BR_1270983_SRC'),\n",
       " ('TC_87_TRG', 'BR_1313969_SRC'),\n",
       " ('TC_88_TRG', 'BR_1313969_SRC'),\n",
       " ('TC_89_TRG', 'BR_1313969_SRC'),\n",
       " ('TC_90_TRG', 'BR_1248267_SRC')}"
      ]
     },
     "metadata": {},
     "output_type": "display_data"
    },
    {
     "name": "stdout",
     "output_type": "stream",
     "text": [
      "len(lda_exc_set): {('TC_16_TRG', 'BR_1297976_SRC'), ('TC_182_TRG', 'BR_1296322_SRC'), ('TC_24_TRG', 'BR_1301421_SRC'), ('TC_13_TRG', 'BR_1297374_SRC'), ('TC_22_TRG', 'BR_1301421_SRC'), ('TC_169_TRG', 'BR_1287384_SRC'), ('TC_113_TRG', 'BR_1357458_SRC'), ('TC_157_TRG', 'BR_1297686_SRC'), ('TC_14_TRG', 'BR_1297976_SRC'), ('TC_16_TRG', 'BR_1408361_SRC'), ('TC_87_TRG', 'BR_1270983_SRC'), ('TC_165_TRG', 'BR_1287384_SRC'), ('TC_77_TRG', 'BR_1270983_SRC'), ('TC_163_TRG', 'BR_1357458_SRC'), ('TC_143_TRG', 'BR_1305195_SRC'), ('TC_13_TRG', 'BR_1335992_SRC'), ('TC_18_TRG', 'BR_1294887_SRC'), ('TC_63_TRG', 'BR_1248268_SRC'), ('TC_18_TRG', 'BR_1311998_SRC'), ('TC_162_TRG', 'BR_1292566_SRC'), ('TC_146_TRG', 'BR_1305195_SRC'), ('TC_163_TRG', 'BR_1287384_SRC'), ('TC_63_TRG', 'BR_1336227_SRC'), ('TC_178_TRG', 'BR_1295502_SRC'), ('TC_118_TRG', 'BR_1357458_SRC'), ('TC_25_TRG', 'BR_1353831_SRC'), ('TC_162_TRG', 'BR_1297686_SRC'), ('TC_199_TRG', 'BR_1305195_SRC'), ('TC_16_TRG', 'BR_1357458_SRC'), ('TC_16_TRG', 'BR_1294733_SRC'), ('TC_88_TRG', 'BR_1313969_SRC'), ('TC_22_TRG', 'BR_1311998_SRC'), ('TC_89_TRG', 'BR_1313969_SRC'), ('TC_24_TRG', 'BR_1353831_SRC'), ('TC_147_TRG', 'BR_1365887_SRC'), ('TC_14_TRG', 'BR_1293308_SRC'), ('TC_109_TRG', 'BR_1300738_SRC'), ('TC_156_TRG', 'BR_1297686_SRC'), ('TC_164_TRG', 'BR_1292573_SRC'), ('TC_115_TRG', 'BR_1314643_SRC'), ('TC_164_TRG', 'BR_1297686_SRC'), ('TC_25_TRG', 'BR_1357458_SRC'), ('TC_177_TRG', 'BR_1295502_SRC'), ('TC_63_TRG', 'BR_1279140_SRC'), ('TC_66_TRG', 'BR_1365887_SRC'), ('TC_24_TRG', 'BR_1408361_SRC'), ('TC_21_TRG', 'BR_1297336_SRC'), ('TC_63_TRG', 'BR_1451475_SRC'), ('TC_62_TRG', 'BR_1313290_SRC'), ('TC_156_TRG', 'BR_1292573_SRC'), ('TC_24_TRG', 'BR_1357458_SRC'), ('TC_116_TRG', 'BR_1314643_SRC'), ('TC_157_TRG', 'BR_1287384_SRC'), ('TC_154_TRG', 'BR_1297686_SRC'), ('TC_156_TRG', 'BR_1292566_SRC'), ('TC_169_TRG', 'BR_1297686_SRC'), ('TC_165_TRG', 'BR_1292566_SRC'), ('TC_162_TRG', 'BR_1287384_SRC'), ('TC_117_TRG', 'BR_1357458_SRC'), ('TC_75_TRG', 'BR_1248267_SRC'), ('TC_18_TRG', 'BR_1408361_SRC'), ('TC_160_TRG', 'BR_1292566_SRC'), ('TC_14_TRG', 'BR_1408361_SRC'), ('TC_20_TRG', 'BR_1297336_SRC'), ('TC_90_TRG', 'BR_1248267_SRC'), ('TC_100_TRG', 'BR_1306639_SRC'), ('TC_24_TRG', 'BR_1294887_SRC'), ('TC_181_TRG', 'BR_1296322_SRC'), ('TC_118_TRG', 'BR_1314643_SRC'), ('TC_16_TRG', 'BR_1353831_SRC'), ('TC_18_TRG', 'BR_1297976_SRC'), ('TC_80_TRG', 'BR_1270983_SRC'), ('TC_165_TRG', 'BR_1297686_SRC'), ('TC_25_TRG', 'BR_1294887_SRC'), ('TC_115_TRG', 'BR_1357458_SRC'), ('TC_100_TRG', 'BR_1299458_SRC'), ('TC_25_TRG', 'BR_1335992_SRC'), ('TC_194_TRG', 'BR_1296322_SRC'), ('TC_18_TRG', 'BR_1294733_SRC'), ('TC_114_TRG', 'BR_1357458_SRC'), ('TC_156_TRG', 'BR_1287384_SRC'), ('TC_164_TRG', 'BR_1292566_SRC'), ('TC_157_TRG', 'BR_1292573_SRC'), ('TC_14_TRG', 'BR_1264988_SRC'), ('TC_113_TRG', 'BR_1314643_SRC'), ('TC_25_TRG', 'BR_1408361_SRC'), ('TC_102_TRG', 'BR_1248267_SRC'), ('TC_207_TRG', 'BR_1365887_SRC'), ('TC_63_TRG', 'BR_1344446_SRC'), ('TC_106_TRG', 'BR_1300738_SRC'), ('TC_204_TRG', 'BR_1365887_SRC'), ('TC_102_TRG', 'BR_1270983_SRC'), ('TC_157_TRG', 'BR_1292566_SRC'), ('TC_148_TRG', 'BR_1365887_SRC'), ('TC_24_TRG', 'BR_1311998_SRC'), ('TC_24_TRG', 'BR_1294733_SRC'), ('TC_201_TRG', 'BR_1365887_SRC'), ('TC_22_TRG', 'BR_1353831_SRC'), ('TC_166_TRG', 'BR_1297686_SRC'), ('TC_174_TRG', 'BR_1316126_SRC'), ('TC_13_TRG', 'BR_1352539_SRC'), ('TC_87_TRG', 'BR_1313969_SRC'), ('TC_112_TRG', 'BR_1314643_SRC'), ('TC_25_TRG', 'BR_1311998_SRC'), ('TC_163_TRG', 'BR_1314643_SRC'), ('TC_14_TRG', 'BR_1279864_SRC'), ('TC_25_TRG', 'BR_1297976_SRC'), ('TC_160_TRG', 'BR_1292573_SRC'), ('TC_18_TRG', 'BR_1353831_SRC'), ('TC_154_TRG', 'BR_1292566_SRC'), ('TC_166_TRG', 'BR_1292566_SRC')}\n",
      "\n",
      "\n",
      "WV Exclusive TP:\n"
     ]
    },
    {
     "data": {
      "text/plain": [
       "{('TC_130_TRG', 'BR_1314643_SRC'),\n",
       " ('TC_14_TRG', 'BR_1311998_SRC'),\n",
       " ('TC_14_TRG', 'BR_1335992_SRC'),\n",
       " ('TC_160_TRG', 'BR_1287384_SRC')}"
      ]
     },
     "metadata": {},
     "output_type": "display_data"
    },
    {
     "name": "stdout",
     "output_type": "stream",
     "text": [
      "len(wv_exc_set): {('TC_130_TRG', 'BR_1314643_SRC'), ('TC_14_TRG', 'BR_1335992_SRC'), ('TC_14_TRG', 'BR_1311998_SRC'), ('TC_160_TRG', 'BR_1287384_SRC')}\n"
     ]
    }
   ],
   "source": [
    "print(\"BM25 Exclusive TP:\")\n",
    "bm25_exc_set = bm25_tp_set - lsi_tp_set - lda_tp_set - wv_tp_set\n",
    "display(bm25_exc_set)\n",
    "print(\"len(bm25_exc_set): {}\".format(len(bm25_exc_set)))\n",
    "\n",
    "print(\"\\n\\nLSI Exclusive TP:\")\n",
    "lsi_exc_set = lsi_tp_set - bm25_tp_set - lda_tp_set - wv_tp_set\n",
    "display(lsi_exc_set)\n",
    "print(\"len(lsi_exc_set): {}\".format(lsi_exc_set))\n",
    "\n",
    "print(\"\\n\\nLDA Exclusive TP:\")\n",
    "lda_exc_set = lda_tp_set - lsi_tp_set - bm25_tp_set - wv_tp_set\n",
    "display(lda_exc_set)\n",
    "print(\"len(lda_exc_set): {}\".format(lda_exc_set))\n",
    "\n",
    "print(\"\\n\\nWV Exclusive TP:\")\n",
    "wv_exc_set = wv_tp_set - lda_tp_set - lsi_tp_set - bm25_tp_set\n",
    "display(wv_exc_set)\n",
    "print(\"len(wv_exc_set): {}\".format(wv_exc_set))"
   ]
  },
  {
   "cell_type": "markdown",
   "metadata": {},
   "source": [
    "##### True Positives Amount by Model"
   ]
  },
  {
   "cell_type": "code",
   "execution_count": 12,
   "metadata": {},
   "outputs": [
    {
     "name": "stdout",
     "output_type": "stream",
     "text": [
      "LSI TP Amount: 28\n",
      "LDA TP Amount: 133\n",
      "BM25 TP Amount: 26\n",
      "WV TP Amount: 14\n"
     ]
    }
   ],
   "source": [
    "print(\"LSI TP Amount: {}\".format(len(lsi_tp_set)))\n",
    "print(\"LDA TP Amount: {}\".format(len(lda_tp_set)))\n",
    "print(\"BM25 TP Amount: {}\".format(len(bm25_tp_set)))\n",
    "print(\"WV TP Amount: {}\".format(len(wv_tp_set)))"
   ]
  },
  {
   "cell_type": "markdown",
   "metadata": {
    "toc-hr-collapsed": true
   },
   "source": [
    "#### Max Recall"
   ]
  },
  {
   "cell_type": "code",
   "execution_count": 13,
   "metadata": {},
   "outputs": [
    {
     "name": "stdout",
     "output_type": "stream",
     "text": [
      "model\n",
      "bm25          14.20\n",
      "lda            8.35\n",
      "lsi           14.42\n",
      "wordvector     5.05\n",
      "Name: perc_recall, dtype: float64\n",
      "\n"
     ]
    },
    {
     "data": {
      "image/png": "[encoded data removed]",
      "text/plain": [
       "<Figure size 432x288 with 1 Axes>"
      ]
     },
     "metadata": {},
     "output_type": "display_data"
    },
    {
     "data": {
      "image/png": "[encoded data removed]",
      "text/plain": [
       "<Figure size 432x288 with 1 Axes>"
      ]
     },
     "metadata": {},
     "output_type": "display_data"
    },
    {
     "data": {
      "image/png": "[encoded data removed]",
      "text/plain": [
       "<Figure size 432x288 with 1 Axes>"
      ]
     },
     "metadata": {},
     "output_type": "display_data"
    },
    {
     "data": {
      "image/png": "[encoded data removed]",
      "text/plain": [
       "<Figure size 432x288 with 1 Axes>"
      ]
     },
     "metadata": {},
     "output_type": "display_data"
    }
   ],
   "source": [
    "group = evals_df_4.groupby('model').perc_recall.max()\n",
    "print(group)\n",
    "print()\n",
    "\n",
    "bm25_max_recall = group[group.index == 'bm25'].values[0]\n",
    "lsi_max_recall = group[group.index == 'lsi'].values[0]\n",
    "lda_max_recall = group[group.index == 'lda'].values[0]\n",
    "wv_max_recall = group[group.index == 'wordvector'].values[0]\n",
    "\n",
    "bm25_tp_set = aux_functions.get_true_positives( oracle, aux_functions.get_trace_links_df(evaluations_df=evals_df_4, model='bm25', perc_recall=bm25_max_recall))\n",
    "lsi_tp_set = aux_functions.get_true_positives( oracle, aux_functions.get_trace_links_df(evaluations_df=evals_df_4, model='lsi', perc_recall=lsi_max_recall))\n",
    "lda_tp_set = aux_functions.get_true_positives( oracle, aux_functions.get_trace_links_df(evaluations_df=evals_df_4, model='lda', perc_recall=lda_max_recall))\n",
    "wv_tp_set = aux_functions.get_true_positives( oracle, aux_functions.get_trace_links_df(evaluations_df=evals_df_4, model='wordvector', perc_recall=wv_max_recall))\n",
    "\n",
    "venn3([bm25_tp_set, lsi_tp_set, lda_tp_set], ['BM25','LSI','LDA'])\n",
    "plt.title('Comparison True Positives by Model (BM25, LSI, LDA) - Max Recall')\n",
    "plt.show()\n",
    "\n",
    "venn3([bm25_tp_set, wv_tp_set, lda_tp_set], ['BM25','WV','LDA'])\n",
    "plt.title('Comparison True Positives by Model (Bm25, WV, LDA) - Max Recall')\n",
    "plt.show()\n",
    "\n",
    "venn3([lsi_tp_set, wv_tp_set, lda_tp_set], ['LSI','WV','LDA'])\n",
    "plt.title('Comparison True Positives by Model (LSI, WV, LDA) - Max Recall')\n",
    "plt.show()\n",
    "\n",
    "venn3([lsi_tp_set, wv_tp_set, bm25_tp_set], ['LSI','WV','BM25'])\n",
    "plt.title('Comparison True Positives by Model (LSI, WV, BM25) - Max Recall')\n",
    "plt.show()"
   ]
  },
  {
   "cell_type": "markdown",
   "metadata": {},
   "source": [
    "##### Exclusive Cases"
   ]
  },
  {
   "cell_type": "code",
   "execution_count": 14,
   "metadata": {},
   "outputs": [
    {
     "name": "stdout",
     "output_type": "stream",
     "text": [
      "BM25 Exclusive TP:\n"
     ]
    },
    {
     "data": {
      "text/plain": [
       "{('TC_14_TRG', 'BR_1337682_SRC'),\n",
       " ('TC_157_TRG', 'BR_1432915_SRC'),\n",
       " ('TC_161_TRG', 'BR_1292573_SRC'),\n",
       " ('TC_163_TRG', 'BR_1432915_SRC'),\n",
       " ('TC_164_TRG', 'BR_1432915_SRC'),\n",
       " ('TC_167_TRG', 'BR_1287384_SRC'),\n",
       " ('TC_167_TRG', 'BR_1292566_SRC'),\n",
       " ('TC_16_TRG', 'BR_1291770_SRC'),\n",
       " ('TC_17_TRG', 'BR_1291770_SRC'),\n",
       " ('TC_17_TRG', 'BR_1296366_SRC'),\n",
       " ('TC_17_TRG', 'BR_1297374_SRC'),\n",
       " ('TC_17_TRG', 'BR_1311998_SRC'),\n",
       " ('TC_183_TRG', 'BR_1430603_SRC'),\n",
       " ('TC_185_TRG', 'BR_1290424_SRC'),\n",
       " ('TC_186_TRG', 'BR_1290424_SRC'),\n",
       " ('TC_186_TRG', 'BR_1296322_SRC'),\n",
       " ('TC_187_TRG', 'BR_1290424_SRC'),\n",
       " ('TC_188_TRG', 'BR_1290424_SRC'),\n",
       " ('TC_189_TRG', 'BR_1345687_SRC'),\n",
       " ('TC_190_TRG', 'BR_1345687_SRC'),\n",
       " ('TC_191_TRG', 'BR_1296861_SRC'),\n",
       " ('TC_195_TRG', 'BR_1430603_SRC'),\n",
       " ('TC_203_TRG', 'BR_1365887_SRC'),\n",
       " ('TC_24_TRG', 'BR_1291770_SRC'),\n",
       " ('TC_25_TRG', 'BR_1291770_SRC'),\n",
       " ('TC_49_TRG', 'BR_1287687_SRC'),\n",
       " ('TC_59_TRG', 'BR_1336227_SRC'),\n",
       " ('TC_59_TRG', 'BR_1344446_SRC'),\n",
       " ('TC_59_TRG', 'BR_1353831_SRC'),\n",
       " ('TC_60_TRG', 'BR_1313290_SRC'),\n",
       " ('TC_61_TRG', 'BR_1248268_SRC'),\n",
       " ('TC_61_TRG', 'BR_1313290_SRC'),\n",
       " ('TC_62_TRG', 'BR_1449700_SRC'),\n",
       " ('TC_62_TRG', 'BR_1451475_SRC'),\n",
       " ('TC_63_TRG', 'BR_1353831_SRC'),\n",
       " ('TC_98_TRG', 'BR_1299458_SRC'),\n",
       " ('TC_98_TRG', 'BR_1306639_SRC'),\n",
       " ('TC_98_TRG', 'BR_1365887_SRC'),\n",
       " ('TC_99_TRG', 'BR_1299458_SRC'),\n",
       " ('TC_99_TRG', 'BR_1306639_SRC')}"
      ]
     },
     "metadata": {},
     "output_type": "display_data"
    },
    {
     "name": "stdout",
     "output_type": "stream",
     "text": [
      "len(bm25_exc_set): 40\n",
      "\n",
      "\n",
      "LSI Exclusive TP:\n"
     ]
    },
    {
     "data": {
      "text/plain": [
       "{('TC_122_TRG', 'BR_1295502_SRC'),\n",
       " ('TC_13_TRG', 'BR_1264988_SRC'),\n",
       " ('TC_13_TRG', 'BR_1301421_SRC'),\n",
       " ('TC_13_TRG', 'BR_1311998_SRC'),\n",
       " ('TC_13_TRG', 'BR_1353831_SRC'),\n",
       " ('TC_13_TRG', 'BR_1357458_SRC'),\n",
       " ('TC_13_TRG', 'BR_1451475_SRC'),\n",
       " ('TC_149_TRG', 'BR_1305195_SRC'),\n",
       " ('TC_150_TRG', 'BR_1365887_SRC'),\n",
       " ('TC_151_TRG', 'BR_1365887_SRC'),\n",
       " ('TC_152_TRG', 'BR_1305195_SRC'),\n",
       " ('TC_155_TRG', 'BR_1287384_SRC'),\n",
       " ('TC_155_TRG', 'BR_1292566_SRC'),\n",
       " ('TC_155_TRG', 'BR_1292573_SRC'),\n",
       " ('TC_15_TRG', 'BR_1297976_SRC'),\n",
       " ('TC_15_TRG', 'BR_1301421_SRC'),\n",
       " ('TC_15_TRG', 'BR_1311998_SRC'),\n",
       " ('TC_15_TRG', 'BR_1328913_SRC'),\n",
       " ('TC_165_TRG', 'BR_1292573_SRC'),\n",
       " ('TC_168_TRG', 'BR_1287384_SRC'),\n",
       " ('TC_168_TRG', 'BR_1292566_SRC'),\n",
       " ('TC_168_TRG', 'BR_1292573_SRC'),\n",
       " ('TC_169_TRG', 'BR_1292573_SRC'),\n",
       " ('TC_16_TRG', 'BR_1328913_SRC'),\n",
       " ('TC_170_TRG', 'BR_1292573_SRC'),\n",
       " ('TC_178_TRG', 'BR_1316126_SRC'),\n",
       " ('TC_188_TRG', 'BR_1296322_SRC'),\n",
       " ('TC_18_TRG', 'BR_1334844_SRC'),\n",
       " ('TC_18_TRG', 'BR_1337682_SRC'),\n",
       " ('TC_18_TRG', 'BR_1339497_SRC'),\n",
       " ('TC_192_TRG', 'BR_1345687_SRC'),\n",
       " ('TC_20_TRG', 'BR_1278388_SRC'),\n",
       " ('TC_20_TRG', 'BR_1291770_SRC'),\n",
       " ('TC_20_TRG', 'BR_1297374_SRC'),\n",
       " ('TC_20_TRG', 'BR_1451475_SRC'),\n",
       " ('TC_21_TRG', 'BR_1297374_SRC'),\n",
       " ('TC_22_TRG', 'BR_1334844_SRC'),\n",
       " ('TC_23_TRG', 'BR_1264988_SRC'),\n",
       " ('TC_23_TRG', 'BR_1279864_SRC'),\n",
       " ('TC_23_TRG', 'BR_1339497_SRC'),\n",
       " ('TC_24_TRG', 'BR_1451475_SRC'),\n",
       " ('TC_38_TRG', 'BR_1295502_SRC'),\n",
       " ('TC_48_TRG', 'BR_1287687_SRC'),\n",
       " ('TC_52_TRG', 'BR_1287687_SRC'),\n",
       " ('TC_61_TRG', 'BR_1344446_SRC'),\n",
       " ('TC_64_TRG', 'BR_1451475_SRC'),\n",
       " ('TC_66_TRG', 'BR_1301056_SRC'),\n",
       " ('TC_71_TRG', 'BR_1301056_SRC'),\n",
       " ('TC_87_TRG', 'BR_1299458_SRC'),\n",
       " ('TC_87_TRG', 'BR_1306639_SRC'),\n",
       " ('TC_96_TRG', 'BR_1270983_SRC'),\n",
       " ('TC_96_TRG', 'BR_1299458_SRC')}"
      ]
     },
     "metadata": {},
     "output_type": "display_data"
    },
    {
     "name": "stdout",
     "output_type": "stream",
     "text": [
      "len(lsi_exc_set): {('TC_52_TRG', 'BR_1287687_SRC'), ('TC_122_TRG', 'BR_1295502_SRC'), ('TC_15_TRG', 'BR_1311998_SRC'), ('TC_18_TRG', 'BR_1339497_SRC'), ('TC_168_TRG', 'BR_1287384_SRC'), ('TC_13_TRG', 'BR_1311998_SRC'), ('TC_61_TRG', 'BR_1344446_SRC'), ('TC_170_TRG', 'BR_1292573_SRC'), ('TC_87_TRG', 'BR_1299458_SRC'), ('TC_169_TRG', 'BR_1292573_SRC'), ('TC_18_TRG', 'BR_1337682_SRC'), ('TC_165_TRG', 'BR_1292573_SRC'), ('TC_13_TRG', 'BR_1353831_SRC'), ('TC_20_TRG', 'BR_1278388_SRC'), ('TC_13_TRG', 'BR_1301421_SRC'), ('TC_168_TRG', 'BR_1292573_SRC'), ('TC_168_TRG', 'BR_1292566_SRC'), ('TC_15_TRG', 'BR_1301421_SRC'), ('TC_188_TRG', 'BR_1296322_SRC'), ('TC_16_TRG', 'BR_1328913_SRC'), ('TC_150_TRG', 'BR_1365887_SRC'), ('TC_23_TRG', 'BR_1264988_SRC'), ('TC_48_TRG', 'BR_1287687_SRC'), ('TC_71_TRG', 'BR_1301056_SRC'), ('TC_152_TRG', 'BR_1305195_SRC'), ('TC_64_TRG', 'BR_1451475_SRC'), ('TC_155_TRG', 'BR_1292566_SRC'), ('TC_18_TRG', 'BR_1334844_SRC'), ('TC_87_TRG', 'BR_1306639_SRC'), ('TC_96_TRG', 'BR_1299458_SRC'), ('TC_96_TRG', 'BR_1270983_SRC'), ('TC_38_TRG', 'BR_1295502_SRC'), ('TC_13_TRG', 'BR_1264988_SRC'), ('TC_149_TRG', 'BR_1305195_SRC'), ('TC_20_TRG', 'BR_1291770_SRC'), ('TC_24_TRG', 'BR_1451475_SRC'), ('TC_15_TRG', 'BR_1328913_SRC'), ('TC_15_TRG', 'BR_1297976_SRC'), ('TC_155_TRG', 'BR_1292573_SRC'), ('TC_20_TRG', 'BR_1451475_SRC'), ('TC_22_TRG', 'BR_1334844_SRC'), ('TC_155_TRG', 'BR_1287384_SRC'), ('TC_23_TRG', 'BR_1339497_SRC'), ('TC_13_TRG', 'BR_1357458_SRC'), ('TC_192_TRG', 'BR_1345687_SRC'), ('TC_178_TRG', 'BR_1316126_SRC'), ('TC_13_TRG', 'BR_1451475_SRC'), ('TC_66_TRG', 'BR_1301056_SRC'), ('TC_21_TRG', 'BR_1297374_SRC'), ('TC_151_TRG', 'BR_1365887_SRC'), ('TC_20_TRG', 'BR_1297374_SRC'), ('TC_23_TRG', 'BR_1279864_SRC')}\n",
      "\n",
      "\n",
      "LDA Exclusive TP:\n"
     ]
    },
    {
     "data": {
      "text/plain": [
       "{('TC_100_TRG', 'BR_1306639_SRC'),\n",
       " ('TC_102_TRG', 'BR_1248267_SRC'),\n",
       " ('TC_102_TRG', 'BR_1270983_SRC'),\n",
       " ('TC_112_TRG', 'BR_1314643_SRC'),\n",
       " ('TC_113_TRG', 'BR_1314643_SRC'),\n",
       " ('TC_113_TRG', 'BR_1357458_SRC'),\n",
       " ('TC_114_TRG', 'BR_1357458_SRC'),\n",
       " ('TC_115_TRG', 'BR_1314643_SRC'),\n",
       " ('TC_115_TRG', 'BR_1357458_SRC'),\n",
       " ('TC_116_TRG', 'BR_1314643_SRC'),\n",
       " ('TC_117_TRG', 'BR_1357458_SRC'),\n",
       " ('TC_118_TRG', 'BR_1314643_SRC'),\n",
       " ('TC_118_TRG', 'BR_1357458_SRC'),\n",
       " ('TC_143_TRG', 'BR_1305195_SRC'),\n",
       " ('TC_146_TRG', 'BR_1305195_SRC'),\n",
       " ('TC_154_TRG', 'BR_1297686_SRC'),\n",
       " ('TC_157_TRG', 'BR_1297686_SRC'),\n",
       " ('TC_160_TRG', 'BR_1292573_SRC'),\n",
       " ('TC_162_TRG', 'BR_1297686_SRC'),\n",
       " ('TC_163_TRG', 'BR_1314643_SRC'),\n",
       " ('TC_164_TRG', 'BR_1297686_SRC'),\n",
       " ('TC_165_TRG', 'BR_1297686_SRC'),\n",
       " ('TC_166_TRG', 'BR_1297686_SRC'),\n",
       " ('TC_169_TRG', 'BR_1297686_SRC'),\n",
       " ('TC_174_TRG', 'BR_1316126_SRC'),\n",
       " ('TC_177_TRG', 'BR_1295502_SRC'),\n",
       " ('TC_178_TRG', 'BR_1295502_SRC'),\n",
       " ('TC_182_TRG', 'BR_1296322_SRC'),\n",
       " ('TC_18_TRG', 'BR_1297976_SRC'),\n",
       " ('TC_194_TRG', 'BR_1296322_SRC'),\n",
       " ('TC_199_TRG', 'BR_1305195_SRC'),\n",
       " ('TC_20_TRG', 'BR_1297336_SRC'),\n",
       " ('TC_21_TRG', 'BR_1297336_SRC'),\n",
       " ('TC_22_TRG', 'BR_1301421_SRC'),\n",
       " ('TC_22_TRG', 'BR_1311998_SRC'),\n",
       " ('TC_22_TRG', 'BR_1353831_SRC'),\n",
       " ('TC_24_TRG', 'BR_1294733_SRC'),\n",
       " ('TC_24_TRG', 'BR_1294887_SRC'),\n",
       " ('TC_24_TRG', 'BR_1301421_SRC'),\n",
       " ('TC_24_TRG', 'BR_1311998_SRC'),\n",
       " ('TC_24_TRG', 'BR_1353831_SRC'),\n",
       " ('TC_24_TRG', 'BR_1357458_SRC'),\n",
       " ('TC_24_TRG', 'BR_1408361_SRC'),\n",
       " ('TC_25_TRG', 'BR_1294887_SRC'),\n",
       " ('TC_25_TRG', 'BR_1297976_SRC'),\n",
       " ('TC_25_TRG', 'BR_1311998_SRC'),\n",
       " ('TC_25_TRG', 'BR_1335992_SRC'),\n",
       " ('TC_25_TRG', 'BR_1353831_SRC'),\n",
       " ('TC_25_TRG', 'BR_1408361_SRC'),\n",
       " ('TC_62_TRG', 'BR_1313290_SRC'),\n",
       " ('TC_63_TRG', 'BR_1279140_SRC'),\n",
       " ('TC_63_TRG', 'BR_1336227_SRC'),\n",
       " ('TC_63_TRG', 'BR_1344446_SRC'),\n",
       " ('TC_66_TRG', 'BR_1365887_SRC'),\n",
       " ('TC_77_TRG', 'BR_1270983_SRC'),\n",
       " ('TC_87_TRG', 'BR_1270983_SRC'),\n",
       " ('TC_87_TRG', 'BR_1313969_SRC'),\n",
       " ('TC_89_TRG', 'BR_1313969_SRC')}"
      ]
     },
     "metadata": {},
     "output_type": "display_data"
    },
    {
     "name": "stdout",
     "output_type": "stream",
     "text": [
      "len(lda_exc_set): {('TC_117_TRG', 'BR_1357458_SRC'), ('TC_182_TRG', 'BR_1296322_SRC'), ('TC_100_TRG', 'BR_1306639_SRC'), ('TC_24_TRG', 'BR_1301421_SRC'), ('TC_20_TRG', 'BR_1297336_SRC'), ('TC_24_TRG', 'BR_1294887_SRC'), ('TC_22_TRG', 'BR_1301421_SRC'), ('TC_113_TRG', 'BR_1357458_SRC'), ('TC_118_TRG', 'BR_1314643_SRC'), ('TC_157_TRG', 'BR_1297686_SRC'), ('TC_18_TRG', 'BR_1297976_SRC'), ('TC_87_TRG', 'BR_1270983_SRC'), ('TC_165_TRG', 'BR_1297686_SRC'), ('TC_25_TRG', 'BR_1294887_SRC'), ('TC_77_TRG', 'BR_1270983_SRC'), ('TC_115_TRG', 'BR_1357458_SRC'), ('TC_143_TRG', 'BR_1305195_SRC'), ('TC_25_TRG', 'BR_1335992_SRC'), ('TC_194_TRG', 'BR_1296322_SRC'), ('TC_146_TRG', 'BR_1305195_SRC'), ('TC_114_TRG', 'BR_1357458_SRC'), ('TC_63_TRG', 'BR_1336227_SRC'), ('TC_113_TRG', 'BR_1314643_SRC'), ('TC_25_TRG', 'BR_1408361_SRC'), ('TC_178_TRG', 'BR_1295502_SRC'), ('TC_118_TRG', 'BR_1357458_SRC'), ('TC_102_TRG', 'BR_1248267_SRC'), ('TC_25_TRG', 'BR_1353831_SRC'), ('TC_162_TRG', 'BR_1297686_SRC'), ('TC_199_TRG', 'BR_1305195_SRC'), ('TC_63_TRG', 'BR_1344446_SRC'), ('TC_102_TRG', 'BR_1270983_SRC'), ('TC_22_TRG', 'BR_1311998_SRC'), ('TC_89_TRG', 'BR_1313969_SRC'), ('TC_24_TRG', 'BR_1353831_SRC'), ('TC_24_TRG', 'BR_1311998_SRC'), ('TC_24_TRG', 'BR_1294733_SRC'), ('TC_22_TRG', 'BR_1353831_SRC'), ('TC_166_TRG', 'BR_1297686_SRC'), ('TC_174_TRG', 'BR_1316126_SRC'), ('TC_112_TRG', 'BR_1314643_SRC'), ('TC_87_TRG', 'BR_1313969_SRC'), ('TC_115_TRG', 'BR_1314643_SRC'), ('TC_164_TRG', 'BR_1297686_SRC'), ('TC_25_TRG', 'BR_1311998_SRC'), ('TC_163_TRG', 'BR_1314643_SRC'), ('TC_177_TRG', 'BR_1295502_SRC'), ('TC_63_TRG', 'BR_1279140_SRC'), ('TC_66_TRG', 'BR_1365887_SRC'), ('TC_24_TRG', 'BR_1408361_SRC'), ('TC_25_TRG', 'BR_1297976_SRC'), ('TC_160_TRG', 'BR_1292573_SRC'), ('TC_21_TRG', 'BR_1297336_SRC'), ('TC_62_TRG', 'BR_1313290_SRC'), ('TC_24_TRG', 'BR_1357458_SRC'), ('TC_116_TRG', 'BR_1314643_SRC'), ('TC_154_TRG', 'BR_1297686_SRC'), ('TC_169_TRG', 'BR_1297686_SRC')}\n",
      "\n",
      "\n",
      "WV Exclusive TP:\n"
     ]
    },
    {
     "data": {
      "text/plain": [
       "{('TC_131_TRG', 'BR_1314643_SRC'),\n",
       " ('TC_135_TRG', 'BR_1314643_SRC'),\n",
       " ('TC_13_TRG', 'BR_1305737_SRC'),\n",
       " ('TC_13_TRG', 'BR_1309856_SRC'),\n",
       " ('TC_13_TRG', 'BR_1408361_SRC'),\n",
       " ('TC_14_TRG', 'BR_1278388_SRC'),\n",
       " ('TC_14_TRG', 'BR_1291770_SRC'),\n",
       " ('TC_14_TRG', 'BR_1309856_SRC'),\n",
       " ('TC_14_TRG', 'BR_1319119_SRC'),\n",
       " ('TC_14_TRG', 'BR_1451475_SRC'),\n",
       " ('TC_159_TRG', 'BR_1287384_SRC'),\n",
       " ('TC_160_TRG', 'BR_1287384_SRC'),\n",
       " ('TC_161_TRG', 'BR_1287384_SRC'),\n",
       " ('TC_180_TRG', 'BR_1290424_SRC'),\n",
       " ('TC_181_TRG', 'BR_1290424_SRC'),\n",
       " ('TC_193_TRG', 'BR_1290424_SRC'),\n",
       " ('TC_193_TRG', 'BR_1357458_SRC'),\n",
       " ('TC_65_TRG', 'BR_1301056_SRC'),\n",
       " ('TC_77_TRG', 'BR_1306639_SRC'),\n",
       " ('TC_79_TRG', 'BR_1306639_SRC'),\n",
       " ('TC_79_TRG', 'BR_1365887_SRC'),\n",
       " ('TC_80_TRG', 'BR_1248267_SRC'),\n",
       " ('TC_80_TRG', 'BR_1306639_SRC'),\n",
       " ('TC_81_TRG', 'BR_1248267_SRC'),\n",
       " ('TC_81_TRG', 'BR_1270983_SRC'),\n",
       " ('TC_81_TRG', 'BR_1299458_SRC'),\n",
       " ('TC_82_TRG', 'BR_1248267_SRC'),\n",
       " ('TC_83_TRG', 'BR_1248267_SRC'),\n",
       " ('TC_91_TRG', 'BR_1270983_SRC'),\n",
       " ('TC_92_TRG', 'BR_1299458_SRC'),\n",
       " ('TC_93_TRG', 'BR_1306639_SRC'),\n",
       " ('TC_94_TRG', 'BR_1270983_SRC'),\n",
       " ('TC_94_TRG', 'BR_1299458_SRC'),\n",
       " ('TC_94_TRG', 'BR_1306639_SRC')}"
      ]
     },
     "metadata": {},
     "output_type": "display_data"
    },
    {
     "name": "stdout",
     "output_type": "stream",
     "text": [
      "len(wv_exc_set): {('TC_135_TRG', 'BR_1314643_SRC'), ('TC_14_TRG', 'BR_1451475_SRC'), ('TC_181_TRG', 'BR_1290424_SRC'), ('TC_79_TRG', 'BR_1365887_SRC'), ('TC_180_TRG', 'BR_1290424_SRC'), ('TC_94_TRG', 'BR_1299458_SRC'), ('TC_81_TRG', 'BR_1299458_SRC'), ('TC_161_TRG', 'BR_1287384_SRC'), ('TC_13_TRG', 'BR_1305737_SRC'), ('TC_159_TRG', 'BR_1287384_SRC'), ('TC_160_TRG', 'BR_1287384_SRC'), ('TC_13_TRG', 'BR_1309856_SRC'), ('TC_13_TRG', 'BR_1408361_SRC'), ('TC_79_TRG', 'BR_1306639_SRC'), ('TC_94_TRG', 'BR_1270983_SRC'), ('TC_77_TRG', 'BR_1306639_SRC'), ('TC_14_TRG', 'BR_1291770_SRC'), ('TC_14_TRG', 'BR_1309856_SRC'), ('TC_83_TRG', 'BR_1248267_SRC'), ('TC_80_TRG', 'BR_1248267_SRC'), ('TC_82_TRG', 'BR_1248267_SRC'), ('TC_131_TRG', 'BR_1314643_SRC'), ('TC_94_TRG', 'BR_1306639_SRC'), ('TC_92_TRG', 'BR_1299458_SRC'), ('TC_65_TRG', 'BR_1301056_SRC'), ('TC_81_TRG', 'BR_1248267_SRC'), ('TC_193_TRG', 'BR_1357458_SRC'), ('TC_91_TRG', 'BR_1270983_SRC'), ('TC_14_TRG', 'BR_1319119_SRC'), ('TC_80_TRG', 'BR_1306639_SRC'), ('TC_81_TRG', 'BR_1270983_SRC'), ('TC_193_TRG', 'BR_1290424_SRC'), ('TC_14_TRG', 'BR_1278388_SRC'), ('TC_93_TRG', 'BR_1306639_SRC')}\n"
     ]
    }
   ],
   "source": [
    "print(\"BM25 Exclusive TP:\")\n",
    "bm25_exc_set = bm25_tp_set - lsi_tp_set - lda_tp_set - wv_tp_set\n",
    "display(bm25_exc_set)\n",
    "print(\"len(bm25_exc_set): {}\".format(len(bm25_exc_set)))\n",
    "\n",
    "print(\"\\n\\nLSI Exclusive TP:\")\n",
    "lsi_exc_set = lsi_tp_set - bm25_tp_set - lda_tp_set - wv_tp_set\n",
    "display(lsi_exc_set)\n",
    "print(\"len(lsi_exc_set): {}\".format(lsi_exc_set))\n",
    "\n",
    "print(\"\\n\\nLDA Exclusive TP:\")\n",
    "lda_exc_set = lda_tp_set - lsi_tp_set - bm25_tp_set - wv_tp_set\n",
    "display(lda_exc_set)\n",
    "print(\"len(lda_exc_set): {}\".format(lda_exc_set))\n",
    "\n",
    "print(\"\\n\\nWV Exclusive TP:\")\n",
    "wv_exc_set = wv_tp_set - lda_tp_set - lsi_tp_set - bm25_tp_set\n",
    "display(wv_exc_set)\n",
    "print(\"len(wv_exc_set): {}\".format(wv_exc_set))"
   ]
  },
  {
   "cell_type": "markdown",
   "metadata": {},
   "source": [
    "##### True Positives Amount by Model"
   ]
  },
  {
   "cell_type": "code",
   "execution_count": 15,
   "metadata": {},
   "outputs": [
    {
     "name": "stdout",
     "output_type": "stream",
     "text": [
      "LSI TP Amount: 207\n",
      "LDA TP Amount: 133\n",
      "BM25 TP Amount: 193\n",
      "WV TP Amount: 84\n"
     ]
    }
   ],
   "source": [
    "print(\"LSI TP Amount: {}\".format(len(lsi_tp_set)))\n",
    "print(\"LDA TP Amount: {}\".format(len(lda_tp_set)))\n",
    "print(\"BM25 TP Amount: {}\".format(len(bm25_tp_set)))\n",
    "print(\"WV TP Amount: {}\".format(len(wv_tp_set)))"
   ]
  }
 ],
 "metadata": {
  "kernelspec": {
   "display_name": "Python 3",
   "language": "python",
   "name": "python3"
  },
  "language_info": {
   "codemirror_mode": {
    "name": "ipython",
    "version": 3
   },
   "file_extension": ".py",
   "mimetype": "text/x-python",
   "name": "python",
   "nbconvert_exporter": "python",
   "pygments_lexer": "ipython3",
   "version": "3.7.3"
  }
 },
 "nbformat": 4,
 "nbformat_minor": 2
}

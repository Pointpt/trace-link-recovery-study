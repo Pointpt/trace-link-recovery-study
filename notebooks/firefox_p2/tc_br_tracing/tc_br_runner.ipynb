{
 "cells": [
  {
   "cell_type": "markdown",
   "metadata": {},
   "source": [
    "# Introduction\n",
    "\n",
    "Notebook to aggregate the running of models in the context of traceability between features and bug reports."
   ]
  },
  {
   "cell_type": "markdown",
   "metadata": {},
   "source": [
    "# Load Libraries and Datasets"
   ]
  },
  {
   "cell_type": "code",
   "execution_count": 1,
   "metadata": {},
   "outputs": [],
   "source": [
    "from mod_finder_util import mod_finder_util\n",
    "mod_finder_util.add_modules_origin_search_path()\n",
    "\n",
    "import pandas as pd\n",
    "import seaborn as sns\n",
    "from matplotlib import pyplot as plt\n",
    "\n",
    "from modules.models_runner.tc_br_models_runner import TC_BR_Runner\n",
    "from modules.utils import model_evaluator as m_eval\n",
    "from modules.utils import aux_functions\n",
    "from modules.utils import firefox_dataset_p2 as fd\n",
    "\n",
    "import warnings; warnings.simplefilter('ignore')"
   ]
  },
  {
   "cell_type": "markdown",
   "metadata": {},
   "source": [
    "# Run All Models"
   ]
  },
  {
   "cell_type": "markdown",
   "metadata": {},
   "source": [
    "## Union Strategy"
   ]
  },
  {
   "cell_type": "code",
   "execution_count": 2,
   "metadata": {},
   "outputs": [
    {
     "name": "stdout",
     "output_type": "stream",
     "text": [
      "TestCases.shape: (207, 12)\n",
      "SelectedBugReports.shape: (93, 18)\n",
      "Running LSI Model ------\n",
      "Running LDA Model -----\n",
      "Running BM25 Model -----\n",
      "Running W2V Model ------\n",
      "OracleExpertVolunteers_UNION.shape: (207, 93)\n",
      "Evaluating LSI Model ----- \n",
      "Evaluating LDA Model ----- \n",
      "Evaluating BM25 Model ----- \n",
      "Evaluating WORDVECTOR Model ----- \n"
     ]
    }
   ],
   "source": [
    "models_runner_1 = TC_BR_Runner()\n",
    "lsi_model_1 = models_runner_1.run_lsi_model()\n",
    "lda_model_1 = models_runner_1.run_lda_model()\n",
    "bm25_model_1 = models_runner_1.run_bm25_model()\n",
    "w2v_model_1 = models_runner_1.run_word2vec_model()\n",
    "\n",
    "evaluator_1 = m_eval.ModelEvaluator(oracle=fd.Tc_BR_Oracles.read_oracle_expert_volunteers_union_df())\n",
    "lsi_eval_1 = evaluator_1.run_evaluator(model=lsi_model_1)\n",
    "lda_eval_1 = evaluator_1.run_evaluator(model=lda_model_1)\n",
    "bm25_eval_1 = evaluator_1.run_evaluator(model=bm25_model_1)\n",
    "w2v_eval_1 = evaluator_1.run_evaluator(model=w2v_model_1)"
   ]
  },
  {
   "cell_type": "markdown",
   "metadata": {},
   "source": [
    "### Results"
   ]
  },
  {
   "cell_type": "code",
   "execution_count": 3,
   "metadata": {},
   "outputs": [
    {
     "data": {
      "text/html": [
       "<div>\n",
       "<style scoped>\n",
       "    .dataframe tbody tr th:only-of-type {\n",
       "        vertical-align: middle;\n",
       "    }\n",
       "\n",
       "    .dataframe tbody tr th {\n",
       "        vertical-align: top;\n",
       "    }\n",
       "\n",
       "    .dataframe thead th {\n",
       "        text-align: right;\n",
       "    }\n",
       "</style>\n",
       "<table border=\"1\" class=\"dataframe\">\n",
       "  <thead>\n",
       "    <tr style=\"text-align: right;\">\n",
       "      <th></th>\n",
       "      <th>model</th>\n",
       "      <th>ref_name</th>\n",
       "      <th>perc_precision</th>\n",
       "      <th>perc_recall</th>\n",
       "      <th>perc_fscore</th>\n",
       "    </tr>\n",
       "  </thead>\n",
       "  <tbody>\n",
       "    <tr>\n",
       "      <th>0</th>\n",
       "      <td>lsi</td>\n",
       "      <td>top_1_cosine_0.0</td>\n",
       "      <td>41.94</td>\n",
       "      <td>2.28</td>\n",
       "      <td>4.25</td>\n",
       "    </tr>\n",
       "    <tr>\n",
       "      <th>1</th>\n",
       "      <td>lsi</td>\n",
       "      <td>top_3_cosine_0.0</td>\n",
       "      <td>42.65</td>\n",
       "      <td>7.12</td>\n",
       "      <td>11.60</td>\n",
       "    </tr>\n",
       "    <tr>\n",
       "      <th>2</th>\n",
       "      <td>lsi</td>\n",
       "      <td>top_5_cosine_0.0</td>\n",
       "      <td>42.58</td>\n",
       "      <td>11.71</td>\n",
       "      <td>17.26</td>\n",
       "    </tr>\n",
       "    <tr>\n",
       "      <th>3</th>\n",
       "      <td>lsi</td>\n",
       "      <td>top_10_cosine_0.0</td>\n",
       "      <td>36.13</td>\n",
       "      <td>18.63</td>\n",
       "      <td>22.98</td>\n",
       "    </tr>\n",
       "    <tr>\n",
       "      <th>4</th>\n",
       "      <td>lda</td>\n",
       "      <td>top_1_cosine_0.0</td>\n",
       "      <td>9.68</td>\n",
       "      <td>0.38</td>\n",
       "      <td>0.72</td>\n",
       "    </tr>\n",
       "    <tr>\n",
       "      <th>5</th>\n",
       "      <td>lda</td>\n",
       "      <td>top_3_cosine_0.0</td>\n",
       "      <td>6.45</td>\n",
       "      <td>0.81</td>\n",
       "      <td>1.35</td>\n",
       "    </tr>\n",
       "    <tr>\n",
       "      <th>6</th>\n",
       "      <td>lda</td>\n",
       "      <td>top_5_cosine_0.0</td>\n",
       "      <td>7.74</td>\n",
       "      <td>1.77</td>\n",
       "      <td>2.68</td>\n",
       "    </tr>\n",
       "    <tr>\n",
       "      <th>7</th>\n",
       "      <td>lda</td>\n",
       "      <td>top_10_cosine_0.0</td>\n",
       "      <td>8.71</td>\n",
       "      <td>4.11</td>\n",
       "      <td>5.04</td>\n",
       "    </tr>\n",
       "    <tr>\n",
       "      <th>8</th>\n",
       "      <td>bm25</td>\n",
       "      <td>top_1_cosine_0.0</td>\n",
       "      <td>27.96</td>\n",
       "      <td>1.57</td>\n",
       "      <td>2.89</td>\n",
       "    </tr>\n",
       "    <tr>\n",
       "      <th>9</th>\n",
       "      <td>bm25</td>\n",
       "      <td>top_3_cosine_0.0</td>\n",
       "      <td>27.60</td>\n",
       "      <td>4.19</td>\n",
       "      <td>6.99</td>\n",
       "    </tr>\n",
       "    <tr>\n",
       "      <th>10</th>\n",
       "      <td>bm25</td>\n",
       "      <td>top_5_cosine_0.0</td>\n",
       "      <td>26.02</td>\n",
       "      <td>6.78</td>\n",
       "      <td>10.12</td>\n",
       "    </tr>\n",
       "    <tr>\n",
       "      <th>11</th>\n",
       "      <td>bm25</td>\n",
       "      <td>top_10_cosine_0.0</td>\n",
       "      <td>23.12</td>\n",
       "      <td>12.48</td>\n",
       "      <td>14.93</td>\n",
       "    </tr>\n",
       "    <tr>\n",
       "      <th>12</th>\n",
       "      <td>wordvector</td>\n",
       "      <td>top_1_cosine_0.0</td>\n",
       "      <td>10.75</td>\n",
       "      <td>0.42</td>\n",
       "      <td>0.81</td>\n",
       "    </tr>\n",
       "    <tr>\n",
       "      <th>13</th>\n",
       "      <td>wordvector</td>\n",
       "      <td>top_3_cosine_0.0</td>\n",
       "      <td>13.26</td>\n",
       "      <td>1.84</td>\n",
       "      <td>3.18</td>\n",
       "    </tr>\n",
       "    <tr>\n",
       "      <th>14</th>\n",
       "      <td>wordvector</td>\n",
       "      <td>top_5_cosine_0.0</td>\n",
       "      <td>13.76</td>\n",
       "      <td>3.17</td>\n",
       "      <td>5.03</td>\n",
       "    </tr>\n",
       "    <tr>\n",
       "      <th>15</th>\n",
       "      <td>wordvector</td>\n",
       "      <td>top_10_cosine_0.0</td>\n",
       "      <td>12.47</td>\n",
       "      <td>5.55</td>\n",
       "      <td>7.31</td>\n",
       "    </tr>\n",
       "  </tbody>\n",
       "</table>\n",
       "</div>"
      ],
      "text/plain": [
       "         model           ref_name  perc_precision  perc_recall  perc_fscore\n",
       "0          lsi   top_1_cosine_0.0           41.94         2.28         4.25\n",
       "1          lsi   top_3_cosine_0.0           42.65         7.12        11.60\n",
       "2          lsi   top_5_cosine_0.0           42.58        11.71        17.26\n",
       "3          lsi  top_10_cosine_0.0           36.13        18.63        22.98\n",
       "4          lda   top_1_cosine_0.0            9.68         0.38         0.72\n",
       "5          lda   top_3_cosine_0.0            6.45         0.81         1.35\n",
       "6          lda   top_5_cosine_0.0            7.74         1.77         2.68\n",
       "7          lda  top_10_cosine_0.0            8.71         4.11         5.04\n",
       "8         bm25   top_1_cosine_0.0           27.96         1.57         2.89\n",
       "9         bm25   top_3_cosine_0.0           27.60         4.19         6.99\n",
       "10        bm25   top_5_cosine_0.0           26.02         6.78        10.12\n",
       "11        bm25  top_10_cosine_0.0           23.12        12.48        14.93\n",
       "12  wordvector   top_1_cosine_0.0           10.75         0.42         0.81\n",
       "13  wordvector   top_3_cosine_0.0           13.26         1.84         3.18\n",
       "14  wordvector   top_5_cosine_0.0           13.76         3.17         5.03\n",
       "15  wordvector  top_10_cosine_0.0           12.47         5.55         7.31"
      ]
     },
     "execution_count": 3,
     "metadata": {},
     "output_type": "execute_result"
    }
   ],
   "source": [
    "evaluator_1.get_evaluations_df()"
   ]
  },
  {
   "cell_type": "markdown",
   "metadata": {},
   "source": [
    "### Plots"
   ]
  },
  {
   "cell_type": "code",
   "execution_count": 4,
   "metadata": {},
   "outputs": [
    {
     "data": {
      "image/png": "[encoded data removed]",
      "text/plain": [
       "<Figure size 1440x1080 with 3 Axes>"
      ]
     },
     "metadata": {
      "needs_background": "light"
     },
     "output_type": "display_data"
    }
   ],
   "source": [
    "evaluator_1.plot_evaluations(title='Exp-Vol Union Strategy')"
   ]
  },
  {
   "cell_type": "markdown",
   "metadata": {},
   "source": [
    "### Delete Variables"
   ]
  },
  {
   "cell_type": "code",
   "execution_count": 6,
   "metadata": {},
   "outputs": [
    {
     "ename": "NameError",
     "evalue": "name 'lsi_model_1' is not defined",
     "output_type": "error",
     "traceback": [
      "\u001b[0;31m---------------------------------------------------------------------------\u001b[0m",
      "\u001b[0;31mNameError\u001b[0m                                 Traceback (most recent call last)",
      "\u001b[0;32m<ipython-input-6-7556ed597ab2>\u001b[0m in \u001b[0;36m<module>\u001b[0;34m()\u001b[0m\n\u001b[0;32m----> 1\u001b[0;31m \u001b[0;32mdel\u001b[0m \u001b[0mlsi_model_1\u001b[0m\u001b[0;34m,\u001b[0m \u001b[0mlda_model_1\u001b[0m\u001b[0;34m,\u001b[0m \u001b[0mbm25_model_1\u001b[0m\u001b[0;34m,\u001b[0m \u001b[0mw2v_model_1\u001b[0m\u001b[0;34m\u001b[0m\u001b[0m\n\u001b[0m\u001b[1;32m      2\u001b[0m \u001b[0;32mdel\u001b[0m \u001b[0mlsi_eval_1\u001b[0m\u001b[0;34m,\u001b[0m \u001b[0mlda_eval_1\u001b[0m\u001b[0;34m,\u001b[0m \u001b[0mbm25_eval_1\u001b[0m\u001b[0;34m,\u001b[0m \u001b[0mw2v_eval_1\u001b[0m\u001b[0;34m\u001b[0m\u001b[0m\n\u001b[1;32m      3\u001b[0m \u001b[0;32mdel\u001b[0m \u001b[0mmodels_runner_1\u001b[0m\u001b[0;34m,\u001b[0m \u001b[0mevaluator_1\u001b[0m\u001b[0;34m\u001b[0m\u001b[0m\n",
      "\u001b[0;31mNameError\u001b[0m: name 'lsi_model_1' is not defined"
     ]
    }
   ],
   "source": [
    "del lsi_model_1, lda_model_1, bm25_model_1, w2v_model_1\n",
    "del lsi_eval_1, lda_eval_1, bm25_eval_1, w2v_eval_1\n",
    "del models_runner_1, evaluator_1"
   ]
  },
  {
   "cell_type": "markdown",
   "metadata": {},
   "source": [
    "## Intersec Strategy"
   ]
  },
  {
   "cell_type": "code",
   "execution_count": null,
   "metadata": {},
   "outputs": [
    {
     "name": "stdout",
     "output_type": "stream",
     "text": [
      "TestCases.shape: (207, 12)\n",
      "SelectedBugReports.shape: (93, 18)\n",
      "Running LSI Model ------\n",
      "Running LDA Model -----\n",
      "Running BM25 Model -----\n",
      "Running W2V Model ------\n"
     ]
    }
   ],
   "source": [
    "models_runner_2 = TC_BR_Runner()\n",
    "lsi_model_2 = models_runner_2.run_lsi_model()\n",
    "lda_model_2 = models_runner_2.run_lda_model()\n",
    "bm25_model_2 = models_runner_2.run_bm25_model()\n",
    "w2v_model_2 = models_runner_2.run_word2vec_model()\n",
    "\n",
    "evaluator_2 = m_eval.ModelEvaluator(oracle=fd.Tc_BR_Oracles.read_oracle_expert_volunteers_intersec_df())\n",
    "lsi_eval_2 = evaluator_2.run_evaluator(model=lsi_model_2)\n",
    "lda_eval_2 = evaluator_2.run_evaluator(model=lda_model_2)\n",
    "bm25_eval_2 = evaluator_2.run_evaluator(model=bm25_model_2)\n",
    "w2v_eval_2 = evaluator_2.run_evaluator(model=w2v_model_2)"
   ]
  },
  {
   "cell_type": "markdown",
   "metadata": {},
   "source": [
    "### Results"
   ]
  },
  {
   "cell_type": "code",
   "execution_count": null,
   "metadata": {},
   "outputs": [],
   "source": [
    "evaluator_2.get_evaluations_df()"
   ]
  },
  {
   "cell_type": "markdown",
   "metadata": {},
   "source": [
    "### Plots"
   ]
  },
  {
   "cell_type": "code",
   "execution_count": null,
   "metadata": {},
   "outputs": [],
   "source": [
    "evaluator_2.plot_evaluations(title='Exp-Vol Intersec Strategy')"
   ]
  },
  {
   "cell_type": "markdown",
   "metadata": {},
   "source": [
    "### Delete Variables"
   ]
  },
  {
   "cell_type": "code",
   "execution_count": null,
   "metadata": {},
   "outputs": [],
   "source": [
    "del lsi_model_2, lda_model_2, bm25_model_2, w2v_model_2\n",
    "del lsi_eval_2, lda_eval_2, bm25_eval_2, w2v_eval_2\n",
    "del models_runner_2, evaluator_2"
   ]
  },
  {
   "cell_type": "markdown",
   "metadata": {},
   "source": [
    "## Expert Only Strategy"
   ]
  },
  {
   "cell_type": "code",
   "execution_count": null,
   "metadata": {},
   "outputs": [],
   "source": [
    "models_runner_3 = TC_BR_Runner()\n",
    "lsi_model_3 = models_runner_3.run_lsi_model()\n",
    "lda_model_3 = models_runner_3.run_lda_model()\n",
    "bm25_model_3 = models_runner_3.run_bm25_model()\n",
    "w2v_model_3 = models_runner_3.run_word2vec_model()\n",
    "\n",
    "evaluator_3 = m_eval.ModelEvaluator(oracle=fd.Tc_BR_Oracles.read_oracle_expert_df())\n",
    "lsi_eval_3 = evaluator_3.run_evaluator(model=lsi_model_3)\n",
    "lda_eval_3 = evaluator_3.run_evaluator(model=lda_model_3)\n",
    "bm25_eval_3 = evaluator_3.run_evaluator(model=bm25_model_3)\n",
    "w2v_eval_3 = evaluator_3.run_evaluator(model=w2v_model_3)"
   ]
  },
  {
   "cell_type": "markdown",
   "metadata": {},
   "source": [
    "### Results"
   ]
  },
  {
   "cell_type": "code",
   "execution_count": null,
   "metadata": {},
   "outputs": [],
   "source": [
    "evaluator_3.get_evaluations_df()"
   ]
  },
  {
   "cell_type": "markdown",
   "metadata": {},
   "source": [
    "### Plots"
   ]
  },
  {
   "cell_type": "code",
   "execution_count": null,
   "metadata": {},
   "outputs": [],
   "source": [
    "evaluator_3.plot_evaluations(title='Expert Only Strategy')"
   ]
  },
  {
   "cell_type": "markdown",
   "metadata": {},
   "source": [
    "### Delete Variables"
   ]
  },
  {
   "cell_type": "code",
   "execution_count": null,
   "metadata": {},
   "outputs": [],
   "source": [
    "del lsi_model_3, lda_model_3, bm25_model_3, w2v_model_3\n",
    "del lsi_eval_3, lda_eval_3, bm25_eval_3, w2v_eval_3\n",
    "del models_runner_3, evaluator_3"
   ]
  },
  {
   "cell_type": "markdown",
   "metadata": {},
   "source": [
    "## Volunteers Only Strategy"
   ]
  },
  {
   "cell_type": "code",
   "execution_count": null,
   "metadata": {},
   "outputs": [],
   "source": [
    "models_runner_4 = TC_BR_Runner()\n",
    "lsi_model_4 = models_runner_4.run_lsi_model()\n",
    "lda_model_4 = models_runner_4.run_lda_model()\n",
    "bm25_model_4 = models_runner_4.run_bm25_model()\n",
    "w2v_model_4 = models_runner_4.run_word2vec_model()\n",
    "\n",
    "evaluator_4 = m_eval.ModelEvaluator(oracle=fd.Tc_BR_Oracles.read_oracle_volunteers_df())\n",
    "lsi_eval_4 = evaluator_4.run_evaluator(model=lsi_model_4)\n",
    "lda_eval_4 = evaluator_4.run_evaluator(model=lda_model_4)\n",
    "bm25_eval_4 = evaluator_4.run_evaluator(model=bm25_model_4)\n",
    "w2v_eval_4 = evaluator_4.run_evaluator(model=w2v_model_4)"
   ]
  },
  {
   "cell_type": "markdown",
   "metadata": {},
   "source": [
    "### Results"
   ]
  },
  {
   "cell_type": "code",
   "execution_count": null,
   "metadata": {},
   "outputs": [],
   "source": [
    "evaluator_4.get_evaluations_df()"
   ]
  },
  {
   "cell_type": "markdown",
   "metadata": {},
   "source": [
    "### Plots"
   ]
  },
  {
   "cell_type": "code",
   "execution_count": null,
   "metadata": {},
   "outputs": [],
   "source": [
    "evaluator_4.plot_evaluations(title='Volunteers Only Strategy')"
   ]
  },
  {
   "cell_type": "markdown",
   "metadata": {},
   "source": [
    "### Delete Variables"
   ]
  },
  {
   "cell_type": "code",
   "execution_count": null,
   "metadata": {},
   "outputs": [],
   "source": [
    "del lsi_model_4, lda_model_4, bm25_model_4, w2v_model_4\n",
    "del lsi_eval_4, lda_eval_4, bm25_eval_4, w2v_eval_4\n",
    "del models_runner_4, evaluator_4"
   ]
  }
 ],
 "metadata": {
  "kernelspec": {
   "display_name": "Python 3",
   "language": "python",
   "name": "python3"
  },
  "language_info": {
   "codemirror_mode": {
    "name": "ipython",
    "version": 3
   },
   "file_extension": ".py",
   "mimetype": "text/x-python",
   "name": "python",
   "nbconvert_exporter": "python",
   "pygments_lexer": "ipython3",
   "version": "3.6.6"
  }
 },
 "nbformat": 4,
 "nbformat_minor": 2
}

{
 "cells": [
  {
   "cell_type": "markdown",
   "metadata": {},
   "source": [
    "# Introduction\n",
    "\n",
    "Notebook to aggregate the running of models in the context of traceability between **test cases** and **bug reports**."
   ]
  },
  {
   "cell_type": "markdown",
   "metadata": {},
   "source": [
    "# Load Libraries and Datasets"
   ]
  },
  {
   "cell_type": "code",
   "execution_count": 1,
   "metadata": {},
   "outputs": [
    {
     "name": "stdout",
     "output_type": "stream",
     "text": [
      "TestCases.shape: (195, 12)\n",
      "SelectedBugReports.shape: (91, 18)\n",
      "Features.shape: (19, 8)\n"
     ]
    }
   ],
   "source": [
    "from mod_finder_util import mod_finder_util\n",
    "mod_finder_util.add_modules_origin_search_path()\n",
    "\n",
    "from modules.models_runner import tc_br_strat_runner\n",
    "from modules.utils import aux_functions\n",
    "from modules.utils import firefox_dataset_p2 as fd\n",
    "\n",
    "import warnings; warnings.simplefilter('ignore')\n",
    "\n",
    "testcases = fd.Datasets.read_testcases_df()\n",
    "bugreports = fd.Datasets.read_selected_bugreports_df()\n",
    "features = fd.Datasets.read_features_df()"
   ]
  },
  {
   "cell_type": "markdown",
   "metadata": {},
   "source": [
    "# Run All Models"
   ]
  },
  {
   "cell_type": "markdown",
   "metadata": {},
   "source": [
    "## Intersec Strategy"
   ]
  },
  {
   "cell_type": "code",
   "execution_count": 2,
   "metadata": {},
   "outputs": [
    {
     "name": "stdout",
     "output_type": "stream",
     "text": [
      "OracleExpertVolunteers_INTERSEC.shape: (195, 91)\n",
      "TestCases.shape: (195, 12)\n",
      "SelectedBugReports.shape: (91, 18)\n",
      "Running LSI Model ------\n",
      "Running LDA Model -----\n",
      "Running BM25 Model -----\n",
      "Running W2V Model ------\n",
      "Running ZeroR model -----\n",
      "OracleExpertVolunteers_INTERSEC.shape: (195, 91)\n",
      "major_target_artifact: [13, 20, 14, 25, 24, 22, 21, 23, 19, 18, 17, 16, 15]\n",
      "Evaluating LSI Model ----- \n",
      "Evaluating LDA Model ----- \n",
      "Evaluating BM25 Model ----- \n",
      "Evaluating WORDVECTOR Model ----- \n",
      "Evaluating ZERO_R Model ----- \n"
     ]
    }
   ],
   "source": [
    "exp_vol_intersec_strat_runner = tc_br_strat_runner.TC_BR_Exp_Vol_Intersec_Strat_Runner()\n",
    "exp_vol_intersec_strat_runner.execute()\n",
    "\n",
    "evaluator_2 = exp_vol_intersec_strat_runner.get_evaluator() \n",
    "evals_df_2 = exp_vol_intersec_strat_runner.get_evals_df()"
   ]
  },
  {
   "cell_type": "markdown",
   "metadata": {},
   "source": [
    "### Results"
   ]
  },
  {
   "cell_type": "code",
   "execution_count": 3,
   "metadata": {},
   "outputs": [
    {
     "data": {
      "text/html": [
       "<div>\n",
       "<style scoped>\n",
       "    .dataframe tbody tr th:only-of-type {\n",
       "        vertical-align: middle;\n",
       "    }\n",
       "\n",
       "    .dataframe tbody tr th {\n",
       "        vertical-align: top;\n",
       "    }\n",
       "\n",
       "    .dataframe thead th {\n",
       "        text-align: right;\n",
       "    }\n",
       "</style>\n",
       "<table border=\"1\" class=\"dataframe\">\n",
       "  <thead>\n",
       "    <tr style=\"text-align: right;\">\n",
       "      <th></th>\n",
       "      <th>model</th>\n",
       "      <th>ref_name</th>\n",
       "      <th>perc_precision</th>\n",
       "      <th>perc_recall</th>\n",
       "      <th>perc_fscore</th>\n",
       "      <th>sim_threshold</th>\n",
       "      <th>top</th>\n",
       "      <th>trace_links_df</th>\n",
       "    </tr>\n",
       "  </thead>\n",
       "  <tbody>\n",
       "    <tr>\n",
       "      <th>0</th>\n",
       "      <td>lsi</td>\n",
       "      <td>top_10_cosine_0.0</td>\n",
       "      <td>24.29</td>\n",
       "      <td>43.0</td>\n",
       "      <td>31.04</td>\n",
       "      <td>0.0</td>\n",
       "      <td>10.0</td>\n",
       "      <td>Bug_Number  1248267  1248268  1257087  1264988...</td>\n",
       "    </tr>\n",
       "    <tr>\n",
       "      <th>1</th>\n",
       "      <td>lsi</td>\n",
       "      <td>top_10_cosine_0.1</td>\n",
       "      <td>24.29</td>\n",
       "      <td>43.0</td>\n",
       "      <td>31.04</td>\n",
       "      <td>0.1</td>\n",
       "      <td>10.0</td>\n",
       "      <td>Bug_Number  1248267  1248268  1257087  1264988...</td>\n",
       "    </tr>\n",
       "    <tr>\n",
       "      <th>2</th>\n",
       "      <td>lsi</td>\n",
       "      <td>top_10_cosine_0.2</td>\n",
       "      <td>24.37</td>\n",
       "      <td>43.0</td>\n",
       "      <td>31.10</td>\n",
       "      <td>0.2</td>\n",
       "      <td>10.0</td>\n",
       "      <td>Bug_Number  1248267  1248268  1257087  1264988...</td>\n",
       "    </tr>\n",
       "    <tr>\n",
       "      <th>3</th>\n",
       "      <td>lsi</td>\n",
       "      <td>top_10_cosine_0.3</td>\n",
       "      <td>24.39</td>\n",
       "      <td>43.0</td>\n",
       "      <td>31.13</td>\n",
       "      <td>0.3</td>\n",
       "      <td>10.0</td>\n",
       "      <td>Bug_Number  1248267  1248268  1257087  1264988...</td>\n",
       "    </tr>\n",
       "    <tr>\n",
       "      <th>4</th>\n",
       "      <td>lsi</td>\n",
       "      <td>top_10_cosine_0.4</td>\n",
       "      <td>24.45</td>\n",
       "      <td>43.0</td>\n",
       "      <td>31.17</td>\n",
       "      <td>0.4</td>\n",
       "      <td>10.0</td>\n",
       "      <td>Bug_Number  1248267  1248268  1257087  1264988...</td>\n",
       "    </tr>\n",
       "  </tbody>\n",
       "</table>\n",
       "</div>"
      ],
      "text/plain": [
       "  model           ref_name  perc_precision  perc_recall  perc_fscore  \\\n",
       "0   lsi  top_10_cosine_0.0           24.29         43.0        31.04   \n",
       "1   lsi  top_10_cosine_0.1           24.29         43.0        31.04   \n",
       "2   lsi  top_10_cosine_0.2           24.37         43.0        31.10   \n",
       "3   lsi  top_10_cosine_0.3           24.39         43.0        31.13   \n",
       "4   lsi  top_10_cosine_0.4           24.45         43.0        31.17   \n",
       "\n",
       "   sim_threshold   top                                     trace_links_df  \n",
       "0            0.0  10.0  Bug_Number  1248267  1248268  1257087  1264988...  \n",
       "1            0.1  10.0  Bug_Number  1248267  1248268  1257087  1264988...  \n",
       "2            0.2  10.0  Bug_Number  1248267  1248268  1257087  1264988...  \n",
       "3            0.3  10.0  Bug_Number  1248267  1248268  1257087  1264988...  \n",
       "4            0.4  10.0  Bug_Number  1248267  1248268  1257087  1264988...  "
      ]
     },
     "execution_count": 3,
     "metadata": {},
     "output_type": "execute_result"
    }
   ],
   "source": [
    "evals_df_2.head()"
   ]
  },
  {
   "cell_type": "code",
   "execution_count": 4,
   "metadata": {},
   "outputs": [
    {
     "data": {
      "text/html": [
       "<style  type=\"text/css\" >\n",
       "    #T_ca0569ce_8708_11e9_9300_c10e96e4a639row0_col0 {\n",
       "            background-color:  #7ec67e;\n",
       "            color:  #000000;\n",
       "        }    #T_ca0569ce_8708_11e9_9300_c10e96e4a639row0_col1 {\n",
       "            background-color:  #abdfab;\n",
       "            color:  #000000;\n",
       "        }    #T_ca0569ce_8708_11e9_9300_c10e96e4a639row0_col2 {\n",
       "            background-color:  #7bc47b;\n",
       "            color:  #000000;\n",
       "        }    #T_ca0569ce_8708_11e9_9300_c10e96e4a639row1_col0 {\n",
       "            background-color:  #8ecf8e;\n",
       "            color:  #000000;\n",
       "        }    #T_ca0569ce_8708_11e9_9300_c10e96e4a639row1_col1 {\n",
       "            background-color:  #83c983;\n",
       "            color:  #000000;\n",
       "        }    #T_ca0569ce_8708_11e9_9300_c10e96e4a639row1_col2 {\n",
       "            background-color:  #7bc47b;\n",
       "            color:  #000000;\n",
       "        }    #T_ca0569ce_8708_11e9_9300_c10e96e4a639row2_col0 {\n",
       "            background-color:  #9ed89e;\n",
       "            color:  #000000;\n",
       "        }    #T_ca0569ce_8708_11e9_9300_c10e96e4a639row2_col1 {\n",
       "            background-color:  #60b560;\n",
       "            color:  #000000;\n",
       "        }    #T_ca0569ce_8708_11e9_9300_c10e96e4a639row2_col2 {\n",
       "            background-color:  #8dce8d;\n",
       "            color:  #000000;\n",
       "        }    #T_ca0569ce_8708_11e9_9300_c10e96e4a639row3_col0 {\n",
       "            background-color:  #8acc8a;\n",
       "            color:  #000000;\n",
       "        }    #T_ca0569ce_8708_11e9_9300_c10e96e4a639row3_col1 {\n",
       "            background-color:  #acdfac;\n",
       "            color:  #000000;\n",
       "        }    #T_ca0569ce_8708_11e9_9300_c10e96e4a639row3_col2 {\n",
       "            background-color:  #84c984;\n",
       "            color:  #000000;\n",
       "        }    #T_ca0569ce_8708_11e9_9300_c10e96e4a639row4_col0 {\n",
       "            background-color:  #8bcd8b;\n",
       "            color:  #000000;\n",
       "        }    #T_ca0569ce_8708_11e9_9300_c10e96e4a639row4_col1 {\n",
       "            background-color:  #63b763;\n",
       "            color:  #000000;\n",
       "        }    #T_ca0569ce_8708_11e9_9300_c10e96e4a639row4_col2 {\n",
       "            background-color:  #67b967;\n",
       "            color:  #000000;\n",
       "        }    #T_ca0569ce_8708_11e9_9300_c10e96e4a639row5_col0 {\n",
       "            background-color:  #9ed89e;\n",
       "            color:  #000000;\n",
       "        }    #T_ca0569ce_8708_11e9_9300_c10e96e4a639row5_col1 {\n",
       "            background-color:  #3aa03a;\n",
       "            color:  #000000;\n",
       "        }    #T_ca0569ce_8708_11e9_9300_c10e96e4a639row5_col2 {\n",
       "            background-color:  #7ec67e;\n",
       "            color:  #000000;\n",
       "        }    #T_ca0569ce_8708_11e9_9300_c10e96e4a639row6_col0 {\n",
       "            background-color:  #008000;\n",
       "            color:  #f1f1f1;\n",
       "        }    #T_ca0569ce_8708_11e9_9300_c10e96e4a639row6_col1 {\n",
       "            background-color:  #70be70;\n",
       "            color:  #000000;\n",
       "        }    #T_ca0569ce_8708_11e9_9300_c10e96e4a639row6_col2 {\n",
       "            background-color:  #138a13;\n",
       "            color:  #000000;\n",
       "        }    #T_ca0569ce_8708_11e9_9300_c10e96e4a639row7_col0 {\n",
       "            background-color:  #128a12;\n",
       "            color:  #f1f1f1;\n",
       "        }    #T_ca0569ce_8708_11e9_9300_c10e96e4a639row7_col1 {\n",
       "            background-color:  #2a972a;\n",
       "            color:  #000000;\n",
       "        }    #T_ca0569ce_8708_11e9_9300_c10e96e4a639row7_col2 {\n",
       "            background-color:  #0b860b;\n",
       "            color:  #f1f1f1;\n",
       "        }    #T_ca0569ce_8708_11e9_9300_c10e96e4a639row8_col0 {\n",
       "            background-color:  #2a972a;\n",
       "            color:  #000000;\n",
       "        }    #T_ca0569ce_8708_11e9_9300_c10e96e4a639row8_col1 {\n",
       "            background-color:  #008000;\n",
       "            color:  #f1f1f1;\n",
       "        }    #T_ca0569ce_8708_11e9_9300_c10e96e4a639row8_col2 {\n",
       "            background-color:  #289628;\n",
       "            color:  #000000;\n",
       "        }    #T_ca0569ce_8708_11e9_9300_c10e96e4a639row9_col0 {\n",
       "            background-color:  #e0fce0;\n",
       "            color:  #000000;\n",
       "        }    #T_ca0569ce_8708_11e9_9300_c10e96e4a639row9_col1 {\n",
       "            background-color:  #e5ffe5;\n",
       "            color:  #000000;\n",
       "        }    #T_ca0569ce_8708_11e9_9300_c10e96e4a639row9_col2 {\n",
       "            background-color:  #e5ffe5;\n",
       "            color:  #000000;\n",
       "        }    #T_ca0569ce_8708_11e9_9300_c10e96e4a639row10_col0 {\n",
       "            background-color:  #e2fde2;\n",
       "            color:  #000000;\n",
       "        }    #T_ca0569ce_8708_11e9_9300_c10e96e4a639row10_col1 {\n",
       "            background-color:  #cdf2cd;\n",
       "            color:  #000000;\n",
       "        }    #T_ca0569ce_8708_11e9_9300_c10e96e4a639row10_col2 {\n",
       "            background-color:  #dffcdf;\n",
       "            color:  #000000;\n",
       "        }    #T_ca0569ce_8708_11e9_9300_c10e96e4a639row11_col0 {\n",
       "            background-color:  #e5ffe5;\n",
       "            color:  #000000;\n",
       "        }    #T_ca0569ce_8708_11e9_9300_c10e96e4a639row11_col1 {\n",
       "            background-color:  #a7dda7;\n",
       "            color:  #000000;\n",
       "        }    #T_ca0569ce_8708_11e9_9300_c10e96e4a639row11_col2 {\n",
       "            background-color:  #e1fde1;\n",
       "            color:  #000000;\n",
       "        }    #T_ca0569ce_8708_11e9_9300_c10e96e4a639row12_col0 {\n",
       "            background-color:  #49a849;\n",
       "            color:  #000000;\n",
       "        }    #T_ca0569ce_8708_11e9_9300_c10e96e4a639row12_col1 {\n",
       "            background-color:  #2a972a;\n",
       "            color:  #000000;\n",
       "        }    #T_ca0569ce_8708_11e9_9300_c10e96e4a639row12_col2 {\n",
       "            background-color:  #008000;\n",
       "            color:  #f1f1f1;\n",
       "        }    #T_ca0569ce_8708_11e9_9300_c10e96e4a639row13_col0 {\n",
       "            background-color:  #49a849;\n",
       "            color:  #000000;\n",
       "        }    #T_ca0569ce_8708_11e9_9300_c10e96e4a639row13_col1 {\n",
       "            background-color:  #2a972a;\n",
       "            color:  #000000;\n",
       "        }    #T_ca0569ce_8708_11e9_9300_c10e96e4a639row13_col2 {\n",
       "            background-color:  #008000;\n",
       "            color:  #f1f1f1;\n",
       "        }    #T_ca0569ce_8708_11e9_9300_c10e96e4a639row14_col0 {\n",
       "            background-color:  #49a849;\n",
       "            color:  #000000;\n",
       "        }    #T_ca0569ce_8708_11e9_9300_c10e96e4a639row14_col1 {\n",
       "            background-color:  #2a972a;\n",
       "            color:  #000000;\n",
       "        }    #T_ca0569ce_8708_11e9_9300_c10e96e4a639row14_col2 {\n",
       "            background-color:  #008000;\n",
       "            color:  #f1f1f1;\n",
       "        }</style><table id=\"T_ca0569ce_8708_11e9_9300_c10e96e4a639\" ><thead>    <tr>        <th class=\"blank\" ></th>        <th class=\"blank level0\" ></th>        <th class=\"col_heading level0 col0\" >perc_precision</th>        <th class=\"col_heading level0 col1\" >perc_recall</th>        <th class=\"col_heading level0 col2\" >perc_fscore</th>    </tr>    <tr>        <th class=\"index_name level0\" >model</th>        <th class=\"index_name level1\" >top</th>        <th class=\"blank\" ></th>        <th class=\"blank\" ></th>        <th class=\"blank\" ></th>    </tr></thead><tbody>\n",
       "                <tr>\n",
       "                        <th id=\"T_ca0569ce_8708_11e9_9300_c10e96e4a639level0_row0\" class=\"row_heading level0 row0\" rowspan=3>bm25</th>\n",
       "                        <th id=\"T_ca0569ce_8708_11e9_9300_c10e96e4a639level1_row0\" class=\"row_heading level1 row0\" >10.0</th>\n",
       "                        <td id=\"T_ca0569ce_8708_11e9_9300_c10e96e4a639row0_col0\" class=\"data row0 col0\" >15.587</td>\n",
       "                        <td id=\"T_ca0569ce_8708_11e9_9300_c10e96e4a639row0_col1\" class=\"data row0 col1\" >20.411</td>\n",
       "                        <td id=\"T_ca0569ce_8708_11e9_9300_c10e96e4a639row0_col2\" class=\"data row0 col2\" >16.784</td>\n",
       "            </tr>\n",
       "            <tr>\n",
       "                                <th id=\"T_ca0569ce_8708_11e9_9300_c10e96e4a639level1_row1\" class=\"row_heading level1 row1\" >20.0</th>\n",
       "                        <td id=\"T_ca0569ce_8708_11e9_9300_c10e96e4a639row1_col0\" class=\"data row1 col0\" >13.69</td>\n",
       "                        <td id=\"T_ca0569ce_8708_11e9_9300_c10e96e4a639row1_col1\" class=\"data row1 col1\" >29.768</td>\n",
       "                        <td id=\"T_ca0569ce_8708_11e9_9300_c10e96e4a639row1_col2\" class=\"data row1 col2\" >16.792</td>\n",
       "            </tr>\n",
       "            <tr>\n",
       "                                <th id=\"T_ca0569ce_8708_11e9_9300_c10e96e4a639level1_row2\" class=\"row_heading level1 row2\" >40.0</th>\n",
       "                        <td id=\"T_ca0569ce_8708_11e9_9300_c10e96e4a639row2_col0\" class=\"data row2 col0\" >11.673</td>\n",
       "                        <td id=\"T_ca0569ce_8708_11e9_9300_c10e96e4a639row2_col1\" class=\"data row2 col1\" >38.036</td>\n",
       "                        <td id=\"T_ca0569ce_8708_11e9_9300_c10e96e4a639row2_col2\" class=\"data row2 col2\" >14.779</td>\n",
       "            </tr>\n",
       "            <tr>\n",
       "                        <th id=\"T_ca0569ce_8708_11e9_9300_c10e96e4a639level0_row3\" class=\"row_heading level0 row3\" rowspan=3>lda</th>\n",
       "                        <th id=\"T_ca0569ce_8708_11e9_9300_c10e96e4a639level1_row3\" class=\"row_heading level1 row3\" >10.0</th>\n",
       "                        <td id=\"T_ca0569ce_8708_11e9_9300_c10e96e4a639row3_col0\" class=\"data row3 col0\" >14.178</td>\n",
       "                        <td id=\"T_ca0569ce_8708_11e9_9300_c10e96e4a639row3_col1\" class=\"data row3 col1\" >20.157</td>\n",
       "                        <td id=\"T_ca0569ce_8708_11e9_9300_c10e96e4a639row3_col2\" class=\"data row3 col2\" >15.782</td>\n",
       "            </tr>\n",
       "            <tr>\n",
       "                                <th id=\"T_ca0569ce_8708_11e9_9300_c10e96e4a639level1_row4\" class=\"row_heading level1 row4\" >20.0</th>\n",
       "                        <td id=\"T_ca0569ce_8708_11e9_9300_c10e96e4a639row4_col0\" class=\"data row4 col0\" >14.044</td>\n",
       "                        <td id=\"T_ca0569ce_8708_11e9_9300_c10e96e4a639row4_col1\" class=\"data row4 col1\" >37.315</td>\n",
       "                        <td id=\"T_ca0569ce_8708_11e9_9300_c10e96e4a639row4_col2\" class=\"data row4 col2\" >18.947</td>\n",
       "            </tr>\n",
       "            <tr>\n",
       "                                <th id=\"T_ca0569ce_8708_11e9_9300_c10e96e4a639level1_row5\" class=\"row_heading level1 row5\" >40.0</th>\n",
       "                        <td id=\"T_ca0569ce_8708_11e9_9300_c10e96e4a639row5_col0\" class=\"data row5 col0\" >11.655</td>\n",
       "                        <td id=\"T_ca0569ce_8708_11e9_9300_c10e96e4a639row5_col1\" class=\"data row5 col1\" >47.1</td>\n",
       "                        <td id=\"T_ca0569ce_8708_11e9_9300_c10e96e4a639row5_col2\" class=\"data row5 col2\" >16.493</td>\n",
       "            </tr>\n",
       "            <tr>\n",
       "                        <th id=\"T_ca0569ce_8708_11e9_9300_c10e96e4a639level0_row6\" class=\"row_heading level0 row6\" rowspan=3>lsi</th>\n",
       "                        <th id=\"T_ca0569ce_8708_11e9_9300_c10e96e4a639level1_row6\" class=\"row_heading level1 row6\" >10.0</th>\n",
       "                        <td id=\"T_ca0569ce_8708_11e9_9300_c10e96e4a639row6_col0\" class=\"data row6 col0\" >30.899</td>\n",
       "                        <td id=\"T_ca0569ce_8708_11e9_9300_c10e96e4a639row6_col1\" class=\"data row6 col1\" >34.399</td>\n",
       "                        <td id=\"T_ca0569ce_8708_11e9_9300_c10e96e4a639row6_col2\" class=\"data row6 col2\" >28.466</td>\n",
       "            </tr>\n",
       "            <tr>\n",
       "                                <th id=\"T_ca0569ce_8708_11e9_9300_c10e96e4a639level1_row7\" class=\"row_heading level1 row7\" >20.0</th>\n",
       "                        <td id=\"T_ca0569ce_8708_11e9_9300_c10e96e4a639row7_col0\" class=\"data row7 col0\" >28.67</td>\n",
       "                        <td id=\"T_ca0569ce_8708_11e9_9300_c10e96e4a639row7_col1\" class=\"data row7 col1\" >50.778</td>\n",
       "                        <td id=\"T_ca0569ce_8708_11e9_9300_c10e96e4a639row7_col2\" class=\"data row7 col2\" >29.4</td>\n",
       "            </tr>\n",
       "            <tr>\n",
       "                                <th id=\"T_ca0569ce_8708_11e9_9300_c10e96e4a639level1_row8\" class=\"row_heading level1 row8\" >40.0</th>\n",
       "                        <td id=\"T_ca0569ce_8708_11e9_9300_c10e96e4a639row8_col0\" class=\"data row8 col0\" >25.725</td>\n",
       "                        <td id=\"T_ca0569ce_8708_11e9_9300_c10e96e4a639row8_col1\" class=\"data row8 col1\" >60.72</td>\n",
       "                        <td id=\"T_ca0569ce_8708_11e9_9300_c10e96e4a639row8_col2\" class=\"data row8 col2\" >26.141</td>\n",
       "            </tr>\n",
       "            <tr>\n",
       "                        <th id=\"T_ca0569ce_8708_11e9_9300_c10e96e4a639level0_row9\" class=\"row_heading level0 row9\" rowspan=3>wordvector</th>\n",
       "                        <th id=\"T_ca0569ce_8708_11e9_9300_c10e96e4a639level1_row9\" class=\"row_heading level1 row9\" >10.0</th>\n",
       "                        <td id=\"T_ca0569ce_8708_11e9_9300_c10e96e4a639row9_col0\" class=\"data row9 col0\" >3.773</td>\n",
       "                        <td id=\"T_ca0569ce_8708_11e9_9300_c10e96e4a639row9_col1\" class=\"data row9 col1\" >6.61</td>\n",
       "                        <td id=\"T_ca0569ce_8708_11e9_9300_c10e96e4a639row9_col2\" class=\"data row9 col2\" >4.806</td>\n",
       "            </tr>\n",
       "            <tr>\n",
       "                                <th id=\"T_ca0569ce_8708_11e9_9300_c10e96e4a639level1_row10\" class=\"row_heading level1 row10\" >20.0</th>\n",
       "                        <td id=\"T_ca0569ce_8708_11e9_9300_c10e96e4a639row10_col0\" class=\"data row10 col0\" >3.553</td>\n",
       "                        <td id=\"T_ca0569ce_8708_11e9_9300_c10e96e4a639row10_col1\" class=\"data row10 col1\" >12.45</td>\n",
       "                        <td id=\"T_ca0569ce_8708_11e9_9300_c10e96e4a639row10_col2\" class=\"data row10 col2\" >5.521</td>\n",
       "            </tr>\n",
       "            <tr>\n",
       "                                <th id=\"T_ca0569ce_8708_11e9_9300_c10e96e4a639level1_row11\" class=\"row_heading level1 row11\" >40.0</th>\n",
       "                        <td id=\"T_ca0569ce_8708_11e9_9300_c10e96e4a639row11_col0\" class=\"data row11 col0\" >3.047</td>\n",
       "                        <td id=\"T_ca0569ce_8708_11e9_9300_c10e96e4a639row11_col1\" class=\"data row11 col1\" >21.362</td>\n",
       "                        <td id=\"T_ca0569ce_8708_11e9_9300_c10e96e4a639row11_col2\" class=\"data row11 col2\" >5.338</td>\n",
       "            </tr>\n",
       "            <tr>\n",
       "                        <th id=\"T_ca0569ce_8708_11e9_9300_c10e96e4a639level0_row12\" class=\"row_heading level0 row12\" rowspan=3>zero_r</th>\n",
       "                        <th id=\"T_ca0569ce_8708_11e9_9300_c10e96e4a639level1_row12\" class=\"row_heading level1 row12\" >10.0</th>\n",
       "                        <td id=\"T_ca0569ce_8708_11e9_9300_c10e96e4a639row12_col0\" class=\"data row12 col0\" >21.98</td>\n",
       "                        <td id=\"T_ca0569ce_8708_11e9_9300_c10e96e4a639row12_col1\" class=\"data row12 col1\" >50.58</td>\n",
       "                        <td id=\"T_ca0569ce_8708_11e9_9300_c10e96e4a639row12_col2\" class=\"data row12 col2\" >30.64</td>\n",
       "            </tr>\n",
       "            <tr>\n",
       "                                <th id=\"T_ca0569ce_8708_11e9_9300_c10e96e4a639level1_row13\" class=\"row_heading level1 row13\" >20.0</th>\n",
       "                        <td id=\"T_ca0569ce_8708_11e9_9300_c10e96e4a639row13_col0\" class=\"data row13 col0\" >21.98</td>\n",
       "                        <td id=\"T_ca0569ce_8708_11e9_9300_c10e96e4a639row13_col1\" class=\"data row13 col1\" >50.58</td>\n",
       "                        <td id=\"T_ca0569ce_8708_11e9_9300_c10e96e4a639row13_col2\" class=\"data row13 col2\" >30.64</td>\n",
       "            </tr>\n",
       "            <tr>\n",
       "                                <th id=\"T_ca0569ce_8708_11e9_9300_c10e96e4a639level1_row14\" class=\"row_heading level1 row14\" >40.0</th>\n",
       "                        <td id=\"T_ca0569ce_8708_11e9_9300_c10e96e4a639row14_col0\" class=\"data row14 col0\" >21.98</td>\n",
       "                        <td id=\"T_ca0569ce_8708_11e9_9300_c10e96e4a639row14_col1\" class=\"data row14 col1\" >50.58</td>\n",
       "                        <td id=\"T_ca0569ce_8708_11e9_9300_c10e96e4a639row14_col2\" class=\"data row14 col2\" >30.64</td>\n",
       "            </tr>\n",
       "    </tbody></table>"
      ],
      "text/plain": [
       "<pandas.io.formats.style.Styler at 0x7f01a85cbb00>"
      ]
     },
     "execution_count": 4,
     "metadata": {},
     "output_type": "execute_result"
    }
   ],
   "source": [
    "evals_df_2_1 = evals_df_2[evals_df_2.top != 19.0]\n",
    "aux_functions.highlight_df( evals_df_2_1[['model','perc_precision','perc_recall','perc_fscore','top']].groupby(['model','top']).mean())"
   ]
  },
  {
   "cell_type": "markdown",
   "metadata": {},
   "source": [
    "### Plots"
   ]
  },
  {
   "cell_type": "raw",
   "metadata": {},
   "source": [
    "evaluator_2.plot_evaluations_1(evals_df=evals_df_2, title='Exp-Vol Intersec Strategy')"
   ]
  },
  {
   "cell_type": "code",
   "execution_count": 5,
   "metadata": {},
   "outputs": [
    {
     "data": {
      "image/png": "[encoded data removed]",
      "text/plain": [
       "<Figure size 720x360 with 1 Axes>"
      ]
     },
     "metadata": {
      "needs_background": "light"
     },
     "output_type": "display_data"
    }
   ],
   "source": [
    "evaluator_2.plot_evaluations_3(evals_df_2, title='BR-TC Traceability Recovery - Exp-Vol Intersec Strategy')"
   ]
  },
  {
   "cell_type": "code",
   "execution_count": 6,
   "metadata": {},
   "outputs": [
    {
     "data": {
      "image/png": "[encoded data removed]",
      "text/plain": [
       "<Figure size 1440x360 with 4 Axes>"
      ]
     },
     "metadata": {
      "needs_background": "light"
     },
     "output_type": "display_data"
    }
   ],
   "source": [
    "evaluator_2.plot_evaluations_4(evals_df_2)"
   ]
  },
  {
   "cell_type": "code",
   "execution_count": 7,
   "metadata": {},
   "outputs": [
    {
     "data": {
      "image/png": "[encoded data removed]",
      "text/plain": [
       "<Figure size 720x360 with 1 Axes>"
      ]
     },
     "metadata": {
      "needs_background": "light"
     },
     "output_type": "display_data"
    }
   ],
   "source": [
    "evaluator_2.plot_evaluations_5(evals_df_2)"
   ]
  },
  {
   "cell_type": "markdown",
   "metadata": {},
   "source": [
    "### Oracle True Traces"
   ]
  },
  {
   "cell_type": "code",
   "execution_count": null,
   "metadata": {
    "jupyter": {
     "source_hidden": true
    }
   },
   "outputs": [],
   "source": [
    "oracle_true_traces_inter = aux_functions.get_oracle_true_positives(exp_vol_intersec_strat_runner)\n",
    "print('len(oracle_true_traces_inter): {}'.format(len(oracle_true_traces_inter)))"
   ]
  },
  {
   "cell_type": "markdown",
   "metadata": {},
   "source": [
    "#### Oracle"
   ]
  },
  {
   "cell_type": "code",
   "execution_count": null,
   "metadata": {},
   "outputs": [],
   "source": [
    "aux_functions.highlight_df(exp_vol_intersec_strat_runner.get_evaluator().get_oracle_df().iloc[0:13,0:12])"
   ]
  },
  {
   "cell_type": "markdown",
   "metadata": {
    "toc-hr-collapsed": true
   },
   "source": [
    "#### Similarity Matrices Analysis"
   ]
  },
  {
   "cell_type": "markdown",
   "metadata": {},
   "source": [
    "##### **LDA**"
   ]
  },
  {
   "cell_type": "code",
   "execution_count": null,
   "metadata": {},
   "outputs": [],
   "source": [
    "aux_functions.highlight_df(exp_vol_intersec_strat_runner.get_lda_model().get_sim_matrix().iloc[0:13,0:12])"
   ]
  },
  {
   "cell_type": "markdown",
   "metadata": {},
   "source": [
    "##### **LSI**"
   ]
  },
  {
   "cell_type": "code",
   "execution_count": null,
   "metadata": {},
   "outputs": [],
   "source": [
    "aux_functions.highlight_df(exp_vol_intersec_strat_runner.get_lsi_model().get_sim_matrix().iloc[0:13,0:12])"
   ]
  },
  {
   "cell_type": "markdown",
   "metadata": {},
   "source": [
    "##### **BM25**"
   ]
  },
  {
   "cell_type": "code",
   "execution_count": null,
   "metadata": {},
   "outputs": [],
   "source": [
    "#aux_functions.highlight_df(exp_vol_intersec_strat_runner.get_bm25_model().get_sim_matrix())"
   ]
  },
  {
   "cell_type": "markdown",
   "metadata": {},
   "source": [
    "##### **Word Vector**"
   ]
  },
  {
   "cell_type": "code",
   "execution_count": null,
   "metadata": {},
   "outputs": [],
   "source": [
    "import numpy as np\n",
    "\n",
    "wv_sim_matrix = exp_vol_intersec_strat_runner.get_word2vec_model().get_sim_matrix()\n",
    "\n",
    "wv_sim_values = []\n",
    "for idx,row in wv_sim_matrix.iterrows():\n",
    "    for col in wv_sim_matrix.columns:\n",
    "        wv_sim_values.append(wv_sim_matrix.at[idx,col])\n",
    "\n",
    "print(\"Mean Similarity Value: {}\".format(np.mean(wv_sim_values)))\n",
    "print(\"Std Similarity Value: {}\".format(np.std(wv_sim_values)))\n",
    "\n",
    "#aux_functions.highlight_df(wv_sim_matrix)"
   ]
  },
  {
   "cell_type": "markdown",
   "metadata": {},
   "source": [
    "#### LDA Topics"
   ]
  },
  {
   "cell_type": "code",
   "execution_count": null,
   "metadata": {},
   "outputs": [],
   "source": [
    "exp_vol_intersec_strat_runner.get_lda_model().print_topics()"
   ]
  },
  {
   "cell_type": "markdown",
   "metadata": {
    "toc-hr-collapsed": false
   },
   "source": [
    "### Retrieved Traces - Similarity Threshold 0.0"
   ]
  },
  {
   "cell_type": "code",
   "execution_count": null,
   "metadata": {},
   "outputs": [],
   "source": [
    "retrieved_traces_df = aux_functions.get_retrieved_traces_df(oracle=exp_vol_intersec_strat_runner.get_oracle(), evals_df=evals_df_2, top_values=[10,20,40], sim_threshs=[0.0])\n",
    "retrieved_traces_df[['top','sim_thresh','model','TP_amount','FP_amount','FN_amount','precision','recall','fscore']].head(50)"
   ]
  },
  {
   "cell_type": "markdown",
   "metadata": {},
   "source": [
    "#### Traces Not Captured by Any Technique"
   ]
  },
  {
   "cell_type": "code",
   "execution_count": null,
   "metadata": {
    "jupyter": {
     "source_hidden": true
    }
   },
   "outputs": [],
   "source": [
    "print('TOP 10 --------------------------')\n",
    "all_captured_traces_t10_inter = aux_functions.get_captured_traces_union(top_value=10, retrieved_traces_df=retrieved_traces_df)\n",
    "not_captured_traces_t10_inter = oracle_true_traces_inter - all_captured_traces_t10_inter\n",
    "print('len(not_captured_traces): {}'.format(len(not_captured_traces_t10_inter)))\n",
    "print('percent not_captured_traces: {}/{} * 100 : {:2.4}%'.format(len(not_captured_traces_t10_inter), len(oracle_true_traces_inter), len(not_captured_traces_t10_inter)/len(oracle_true_traces_inter)*100))\n",
    "\n",
    "details_df_t10 = aux_functions.detail_features_tc_br(not_captured_traces_t10_inter, testcases, bugreports)\n",
    "display(details_df_t10.groupby('tc_feat').count())\n",
    "\n",
    "print('\\n\\nTOP 20 --------------------------')\n",
    "all_captured_traces_t20_inter = aux_functions.get_captured_traces_union(top_value=20, retrieved_traces_df=retrieved_traces_df)\n",
    "not_captured_traces_t20_inter = oracle_true_traces_inter - all_captured_traces_t20_inter\n",
    "print('len(not_captured_traces): {}'.format(len(not_captured_traces_t20_inter)))\n",
    "print('percent not_captured_traces: {}/{} * 100 : {:2.4}%'.format(len(not_captured_traces_t20_inter), len(oracle_true_traces_inter), len(not_captured_traces_t20_inter)/len(oracle_true_traces_inter)*100))\n",
    "\n",
    "details_df_t20 = aux_functions.detail_features_tc_br(not_captured_traces_t20_inter, testcases, bugreports)\n",
    "display(details_df_t20.groupby('tc_feat').count())\n",
    "\n",
    "print('\\n\\nTOP 40 --------------------------')\n",
    "all_captured_traces_t40_inter = aux_functions.get_captured_traces_union(top_value=40, retrieved_traces_df=retrieved_traces_df)\n",
    "not_captured_traces_t40_inter = oracle_true_traces_inter - all_captured_traces_t40_inter\n",
    "print('len(not_captured_traces): {}'.format(len(not_captured_traces_t40_inter)))\n",
    "print('percent not_captured_traces: {}/{} * 100 : {:2.4}%'.format(len(not_captured_traces_t40_inter), len(oracle_true_traces_inter), len(not_captured_traces_t40_inter)/len(oracle_true_traces_inter)*100))\n",
    "\n",
    "details_df_t40 = aux_functions.detail_features_tc_br(not_captured_traces_t40_inter, testcases, bugreports)\n",
    "display(details_df_t40.groupby('tc_feat').count())"
   ]
  },
  {
   "cell_type": "markdown",
   "metadata": {},
   "source": [
    "##### Missed Traces Detailed"
   ]
  },
  {
   "cell_type": "code",
   "execution_count": null,
   "metadata": {},
   "outputs": [],
   "source": [
    "import pandas as pd\n",
    "\n",
    "lda_model = exp_vol_intersec_strat_runner.get_lda_model()\n",
    "lsi_model = exp_vol_intersec_strat_runner.get_lsi_model()\n",
    "bm25_model = exp_vol_intersec_strat_runner.get_bm25_model()\n",
    "\n",
    "df = pd.DataFrame(columns=['mrw_tcs','mrw_brs'], index=['lda_t10','lsi_t10','bm25_t10',\n",
    "                                                        'lda_t20','lsi_t20','bm25_t20',\n",
    "                                                        'lda_t40','lsi_t40','bm25_t40'])\n",
    "\n",
    "lda_mrw_tc_t10, lda_mrw_br_t10 = aux_functions.get_mrw_traces_set(not_captured_traces_t10_inter, lda_model)\n",
    "lda_mrw_tc_t20, lda_mrw_br_t20 = aux_functions.get_mrw_traces_set(not_captured_traces_t20_inter, lda_model)\n",
    "lda_mrw_tc_t40, lda_mrw_br_t40 = aux_functions.get_mrw_traces_set(not_captured_traces_t40_inter, lda_model)\n",
    "\n",
    "lsi_mrw_tc_t10, lsi_mrw_br_t10 = aux_functions.get_mrw_traces_set(not_captured_traces_t10_inter, lsi_model)\n",
    "lsi_mrw_tc_t20, lsi_mrw_br_t20 = aux_functions.get_mrw_traces_set(not_captured_traces_t20_inter, lsi_model)\n",
    "lsi_mrw_tc_t40, lsi_mrw_br_t40 = aux_functions.get_mrw_traces_set(not_captured_traces_t40_inter, lsi_model)\n",
    "\n",
    "bm25_mrw_tc_t10, bm25_mrw_br_t10 = aux_functions.get_mrw_traces_set(not_captured_traces_t10_inter, bm25_model)\n",
    "bm25_mrw_tc_t20, bm25_mrw_br_t20 = aux_functions.get_mrw_traces_set(not_captured_traces_t20_inter, bm25_model)\n",
    "bm25_mrw_tc_t40, bm25_mrw_br_t40 = aux_functions.get_mrw_traces_set(not_captured_traces_t40_inter, bm25_model)\n",
    "\n",
    "df.at['lda_t10','mrw_tcs'] = lda_mrw_tc_t10\n",
    "df.at['lda_t10','mrw_brs'] = lda_mrw_br_t10\n",
    "df.at['lda_t20','mrw_tcs'] = lda_mrw_tc_t20\n",
    "df.at['lda_t20','mrw_brs'] = lda_mrw_br_t20\n",
    "df.at['lda_t40','mrw_tcs'] = lda_mrw_tc_t40\n",
    "df.at['lda_t40','mrw_brs'] = lda_mrw_br_t40\n",
    "\n",
    "\n",
    "df.at['lsi_t10','mrw_tcs'] = lsi_mrw_tc_t10\n",
    "df.at['lsi_t10','mrw_brs'] = lsi_mrw_br_t10\n",
    "df.at['lsi_t20','mrw_tcs'] = lsi_mrw_tc_t20\n",
    "df.at['lsi_t20','mrw_brs'] = lsi_mrw_br_t20\n",
    "df.at['lsi_t40','mrw_tcs'] = lsi_mrw_tc_t40\n",
    "df.at['lsi_t40','mrw_brs'] = lsi_mrw_br_t40\n",
    "\n",
    "df.at['bm25_t10','mrw_tcs'] = bm25_mrw_tc_t10\n",
    "df.at['bm25_t10','mrw_brs'] = bm25_mrw_br_t10\n",
    "df.at['bm25_t20','mrw_tcs'] = bm25_mrw_tc_t20\n",
    "df.at['bm25_t20','mrw_brs'] = bm25_mrw_br_t20\n",
    "df.at['bm25_t40','mrw_tcs'] = bm25_mrw_tc_t40\n",
    "df.at['bm25_t40','mrw_brs'] = bm25_mrw_br_t40\n",
    "\n",
    "display(df[df.index.str.contains('lda')])\n",
    "display(df[df.index.str.contains('lsi')])\n",
    "display(df[df.index.str.contains('bm25')])"
   ]
  },
  {
   "cell_type": "code",
   "execution_count": null,
   "metadata": {},
   "outputs": [],
   "source": [
    "nab_feat_num = features[features.feat_name == 'new_awesome_bar'].Feature_Number.values[0]\n",
    "nab_tcs_nums = testcases[testcases.Feature_ID == nab_feat_num].TC_Number.values\n",
    "print(nab_tcs_nums)\n",
    "nab_brs_list = [br for tc,br in not_captured_traces_t10_inter if tc in nab_tcs_nums]\n",
    "print(nab_brs_list)\n",
    "print(len(nab_brs_list))"
   ]
  },
  {
   "cell_type": "markdown",
   "metadata": {},
   "source": [
    "**LDA Model**"
   ]
  },
  {
   "cell_type": "code",
   "execution_count": null,
   "metadata": {},
   "outputs": [],
   "source": [
    "aux_functions.rank_tc_br_matrix([nab_brs_list[0]], exp_vol_intersec_strat_runner.get_lda_model().get_sim_matrix(), 10)"
   ]
  },
  {
   "cell_type": "code",
   "execution_count": null,
   "metadata": {},
   "outputs": [],
   "source": [
    "aux_functions.rank_tc_br_matrix([nab_brs_list[-1]], exp_vol_intersec_strat_runner.get_lda_model().get_sim_matrix(), 10)"
   ]
  },
  {
   "cell_type": "code",
   "execution_count": null,
   "metadata": {},
   "outputs": [],
   "source": [
    "docs_feats = exp_vol_intersec_strat_runner.get_lda_model().docs_feats_df\n",
    "docs_feats[docs_feats.index.isin(list(range(13,26)) + [nab_brs_list[0]] + [nab_brs_list[-1]])]"
   ]
  },
  {
   "cell_type": "markdown",
   "metadata": {},
   "source": [
    "**LSI**"
   ]
  },
  {
   "cell_type": "code",
   "execution_count": null,
   "metadata": {},
   "outputs": [],
   "source": [
    "aux_functions.rank_tc_br_matrix([nab_brs_list[0]], exp_vol_intersec_strat_runner.get_lsi_model().get_sim_matrix(), 10)"
   ]
  },
  {
   "cell_type": "code",
   "execution_count": null,
   "metadata": {},
   "outputs": [],
   "source": [
    "aux_functions.rank_tc_br_matrix([nab_brs_list[-1]], exp_vol_intersec_strat_runner.get_lsi_model().get_sim_matrix(), 10)"
   ]
  },
  {
   "cell_type": "markdown",
   "metadata": {},
   "source": [
    "**BM25**"
   ]
  },
  {
   "cell_type": "code",
   "execution_count": null,
   "metadata": {},
   "outputs": [],
   "source": [
    "aux_functions.rank_tc_br_matrix([nab_brs_list[0]], exp_vol_intersec_strat_runner.get_bm25_model().get_sim_matrix(), 10)"
   ]
  },
  {
   "cell_type": "code",
   "execution_count": null,
   "metadata": {},
   "outputs": [],
   "source": [
    "aux_functions.rank_tc_br_matrix([nab_brs_list[-1]], exp_vol_intersec_strat_runner.get_bm25_model().get_sim_matrix(), 10)"
   ]
  },
  {
   "cell_type": "markdown",
   "metadata": {},
   "source": [
    "**Word Vector**"
   ]
  },
  {
   "cell_type": "code",
   "execution_count": null,
   "metadata": {},
   "outputs": [],
   "source": [
    "aux_functions.rank_tc_br_matrix([nab_brs_list[0]], exp_vol_intersec_strat_runner.get_word2vec_model().get_sim_matrix(), 10)"
   ]
  },
  {
   "cell_type": "code",
   "execution_count": null,
   "metadata": {},
   "outputs": [],
   "source": [
    "aux_functions.rank_tc_br_matrix([nab_brs_list[-1]], exp_vol_intersec_strat_runner.get_word2vec_model().get_sim_matrix(), 10)"
   ]
  },
  {
   "cell_type": "markdown",
   "metadata": {},
   "source": [
    "#### Traces Captured by Every Technique"
   ]
  },
  {
   "cell_type": "code",
   "execution_count": null,
   "metadata": {
    "jupyter": {
     "source_hidden": true
    }
   },
   "outputs": [],
   "source": [
    "print('TOP 10 -----------------------')\n",
    "traces_captured_by_all_t10_inter = aux_functions.get_captured_traces_intersec(10, retrieved_traces_df)\n",
    "print('len(traces_captured_by_all): {}'.format(len(traces_captured_by_all_t10_inter)))\n",
    "print('percent traces_captured_by_all: {}/{} * 100 : {:2.4}%'.format(len(traces_captured_by_all_t10_inter), len(oracle_true_traces_inter), len(traces_captured_by_all_t10_inter)/len(oracle_true_traces_inter) *100))\n",
    "\n",
    "details_df_t10 = aux_functions.detail_features_tc_br(traces_captured_by_all_t10_inter, testcases, bugreports)\n",
    "display(details_df_t10.groupby('tc_feat').count())\n",
    "\n",
    "print('\\n\\nTOP 20 -----------------------')\n",
    "traces_captured_by_all_t20_inter = aux_functions.get_captured_traces_intersec(20, retrieved_traces_df)\n",
    "print('len(traces_captured_by_all): {}'.format(len(traces_captured_by_all_t20_inter)))\n",
    "print('percent traces_captured_by_all: {}/{} * 100 : {:2.4}%'.format(len(traces_captured_by_all_t20_inter), len(oracle_true_traces_inter), len(traces_captured_by_all_t20_inter)/len(oracle_true_traces_inter) *100))\n",
    "\n",
    "details_df_t20 = aux_functions.detail_features_tc_br(traces_captured_by_all_t20_inter, testcases, bugreports)\n",
    "display(details_df_t20.groupby('tc_feat').count())\n",
    "\n",
    "print('\\n\\nTOP 40 -----------------------')\n",
    "traces_captured_by_all_t40_inter = aux_functions.get_captured_traces_intersec(40, retrieved_traces_df)\n",
    "print('len(traces_captured_by_all): {}'.format(len(traces_captured_by_all_t40_inter)))\n",
    "print('percent traces_captured_by_all: {}/{} * 100 : {:2.4}%'.format(len(traces_captured_by_all_t40_inter), len(oracle_true_traces_inter), len(traces_captured_by_all_t40_inter)/len(oracle_true_traces_inter) *100))\n",
    "\n",
    "details_df_t40 = aux_functions.detail_features_tc_br(traces_captured_by_all_t40_inter, testcases, bugreports)\n",
    "display(details_df_t40.groupby('tc_feat').count())"
   ]
  },
  {
   "cell_type": "markdown",
   "metadata": {
    "toc-hr-collapsed": true
   },
   "source": [
    "#### True Positives Analysis"
   ]
  },
  {
   "cell_type": "code",
   "execution_count": null,
   "metadata": {},
   "outputs": [],
   "source": [
    "bm25_tp_set_t10, lsi_tp_set_t10, lda_tp_set_t10, wv_tp_set_t10 = aux_functions.get_traces_set(retrieved_traces_df, 10, 'TP')\n",
    "bm25_tp_set_t20, lsi_tp_set_t20, lda_tp_set_t20, wv_tp_set_t20 = aux_functions.get_traces_set(retrieved_traces_df, 20, 'TP')\n",
    "bm25_tp_set_t40, lsi_tp_set_t40, lda_tp_set_t40, wv_tp_set_t40 = aux_functions.get_traces_set(retrieved_traces_df, 40, 'TP')\n",
    "#aux_functions.plot_venn_diagrams(TOP, bm25_tp_set_t5, lsi_tp_set_t5, lda_tp_set_t5, wv_tp_set_t5, 'True Positives')"
   ]
  },
  {
   "cell_type": "markdown",
   "metadata": {},
   "source": [
    "##### Exclusive Traces"
   ]
  },
  {
   "cell_type": "code",
   "execution_count": null,
   "metadata": {},
   "outputs": [],
   "source": [
    "import pandas as pd\n",
    "\n",
    "print(\"TOP 10 ------------------------------\")\n",
    "bm25_tp_exc_set_t10, lsi_tp_exc_set_t10, lda_tp_exc_set_t10, wv_tp_exc_set_t10 =  aux_functions.get_exclusive_traces(bm25_tp_set_t10, lsi_tp_set_t10, lda_tp_set_t10, wv_tp_set_t10, traces_type='TP')\n",
    "\n",
    "print(\"\\n\\nTOP 20 ------------------------------\")\n",
    "bm25_tp_exc_set_t20, lsi_tp_exc_set_t20, lda_tp_exc_set_t20, wv_tp_exc_set_t20 =  aux_functions.get_exclusive_traces(bm25_tp_set_t20, lsi_tp_set_t20, lda_tp_set_t20, wv_tp_set_t20, traces_type='TP')\n",
    "\n",
    "print(\"\\n\\nTOP 40 -------------------------------\")\n",
    "bm25_tp_exc_set_t40, lsi_tp_exc_set_t40, lda_tp_exc_set_t40, wv_tp_exc_set_t40 =  aux_functions.get_exclusive_traces(bm25_tp_set_t40, lsi_tp_set_t40, lda_tp_set_t40, wv_tp_set_t40, traces_type='TP')\n",
    "\n",
    "df = pd.DataFrame(index=['TOP 10', 'TOP 20', 'TOP 40'], columns=['BM25','LSI','LDA','WordVector'])\n",
    "\n",
    "df.at['TOP 10','BM25'] = len(bm25_tp_exc_set_t10)\n",
    "df.at['TOP 20','BM25'] = len(bm25_tp_exc_set_t20)\n",
    "df.at['TOP 40','BM25'] = len(bm25_tp_exc_set_t40)\n",
    "\n",
    "df.at['TOP 10','LSI'] = len(lsi_tp_exc_set_t10)\n",
    "df.at['TOP 20','LSI'] = len(lsi_tp_exc_set_t20)\n",
    "df.at['TOP 40','LSI'] = len(lsi_tp_exc_set_t40)\n",
    "\n",
    "df.at['TOP 10','LDA'] = len(lda_tp_exc_set_t10)\n",
    "df.at['TOP 20','LDA'] = len(lda_tp_exc_set_t20)\n",
    "df.at['TOP 40','LDA'] = len(lda_tp_exc_set_t40)\n",
    "\n",
    "df.at['TOP 10','WordVector'] = len(wv_tp_exc_set_t10)\n",
    "df.at['TOP 20','WordVector'] = len(wv_tp_exc_set_t20)\n",
    "df.at['TOP 40','WordVector'] = len(wv_tp_exc_set_t40)\n",
    "\n",
    "print()\n",
    "\n",
    "df"
   ]
  },
  {
   "cell_type": "code",
   "execution_count": null,
   "metadata": {},
   "outputs": [],
   "source": [
    "details_df_t10 = aux_functions.detail_features_tc_br(lsi_tp_exc_set_t10, testcases, bugreports)\n",
    "display(details_df_t10.groupby('tc_feat').count())\n",
    "\n",
    "details_df_t20 = aux_functions.detail_features_tc_br(lsi_tp_exc_set_t20, testcases, bugreports)\n",
    "display(details_df_t20.groupby('tc_feat').count())\n",
    "\n",
    "details_df_t40 = aux_functions.detail_features_tc_br(lsi_tp_exc_set_t40, testcases, bugreports)\n",
    "display(details_df_t40.groupby('tc_feat').count())"
   ]
  },
  {
   "cell_type": "code",
   "execution_count": null,
   "metadata": {},
   "outputs": [],
   "source": [
    "aux_functions."
   ]
  },
  {
   "cell_type": "markdown",
   "metadata": {
    "toc-hr-collapsed": true
   },
   "source": [
    "#### False Positives Analysis"
   ]
  },
  {
   "cell_type": "code",
   "execution_count": null,
   "metadata": {},
   "outputs": [],
   "source": [
    "bm25_fp_set_t10, lsi_fp_set_t10, lda_fp_set_t10, wv_fp_set_t10 = aux_functions.get_traces_set(retrieved_traces_df, 10, 'FP')\n",
    "bm25_fp_set_t20, lsi_fp_set_t20, lda_fp_set_t20, wv_fp_set_t20 = aux_functions.get_traces_set(retrieved_traces_df, 20, 'FP')\n",
    "bm25_fp_set_t40, lsi_fp_set_t40, lda_fp_set_t40, wv_fp_set_t40 = aux_functions.get_traces_set(retrieved_traces_df, 40, 'FP')\n",
    "\n",
    "#aux_functions.plot_venn_diagrams(10, bm25_fp_set_t10, lsi_fp_set_t10, lda_fp_set_t10, wv_fp_set_t10, 'FP')\n",
    "#print('====================')\n",
    "#aux_functions.plot_venn_diagrams(40, bm25_fp_set_t40, lsi_fp_set_t40, lda_fp_set_t40, wv_fp_set_t40, 'FP')"
   ]
  },
  {
   "cell_type": "markdown",
   "metadata": {},
   "source": [
    "##### Exclusive Traces"
   ]
  },
  {
   "cell_type": "code",
   "execution_count": null,
   "metadata": {},
   "outputs": [],
   "source": [
    "print(\"TOP 10 ------------------------------\")\n",
    "bm25_fp_exc_set_t10, lsi_fp_exc_set_t10, lda_fp_exc_set_t10, wv_fp_exc_set_t10 =  aux_functions.get_exclusive_traces(bm25_fp_set_t10, lsi_fp_set_t10, lda_fp_set_t10, wv_fp_set_t10, traces_type='FP', verbose=False)\n",
    "\n",
    "print(\"\\n\\nTOP 20 ------------------------------\")\n",
    "bm25_fp_exc_set_t20, lsi_fp_exc_set_t20, lda_fp_exc_set_t20, wv_fp_exc_set_t20 =  aux_functions.get_exclusive_traces(bm25_fp_set_t20, lsi_fp_set_t20, lda_fp_set_t20, wv_fp_set_t20, traces_type='FP', verbose=False)\n",
    "\n",
    "print(\"\\n\\nTOP 40 -------------------------------\")\n",
    "bm25_fp_exc_set_t40, lsi_fp_exc_set_t40, lda_fp_exc_set_t40, wv_fp_exc_set_t40 =  aux_functions.get_exclusive_traces(bm25_fp_set_t40, lsi_fp_set_t40, lda_fp_set_t40, wv_fp_set_t40, traces_type='FP', verbose=False)"
   ]
  },
  {
   "cell_type": "code",
   "execution_count": null,
   "metadata": {},
   "outputs": [],
   "source": [
    "df = pd.DataFrame(columns=['top','model','exc_fp_amount','retrieved_traces_amount','percentage'])\n",
    "df.top = [10,10,10,10,\n",
    "          20,20,20,20,\n",
    "          40,40,40,40]\n",
    "df.model = ['bm25','lsi','lda','wordvector',\n",
    "            'bm25','lsi','lda','wordvector',\n",
    "            'bm25','lsi','lda','wordvector']\n",
    "df.exc_fp_amount = [len(bm25_fp_exc_set_t10),len(lsi_fp_exc_set_t10),len(lda_fp_exc_set_t10),len(wv_fp_exc_set_t10),\n",
    "                    len(bm25_fp_exc_set_t20),len(lsi_fp_exc_set_t20),len(lda_fp_exc_set_t20),len(wv_fp_exc_set_t20),\n",
    "                    len(bm25_fp_exc_set_t40),len(lsi_fp_exc_set_t40),len(lda_fp_exc_set_t40),len(wv_fp_exc_set_t40)]\n",
    "df.retrieved_traces_amount = [910,910,910,910,\n",
    "                              1820,1820,1820,1820,\n",
    "                              3640,3640,3640,3640]\n",
    "df.percentage = df.apply(lambda row : round(row['exc_fp_amount']/row['retrieved_traces_amount'] * 100,2), axis=1)\n",
    "\n",
    "df"
   ]
  },
  {
   "cell_type": "code",
   "execution_count": null,
   "metadata": {},
   "outputs": [],
   "source": [
    "from matplotlib import pyplot as plt\n",
    "import seaborn as sns\n",
    "\n",
    "sns.pointplot(y='FP_amount', x='top', \n",
    "              hue='model', \n",
    "              col='retrieved', \n",
    "              markers=['o','x','^','v'], \n",
    "              linestyles=[\"-\",\"--\",\":\",\"-.\"], \n",
    "              data=retrieved_traces_df)"
   ]
  },
  {
   "cell_type": "markdown",
   "metadata": {},
   "source": [
    "##### FP Details"
   ]
  },
  {
   "cell_type": "code",
   "execution_count": null,
   "metadata": {},
   "outputs": [],
   "source": [
    "df_bm25_t10 = aux_functions.detail_features_tc_br(bm25_fp_exc_set_t10, testcases, bugreports)\n",
    "df_bm25_t40 = aux_functions.detail_features_tc_br(bm25_fp_exc_set_t40, testcases, bugreports)\n",
    "\n",
    "bm25_t10_fp_amount_by_feat = df_bm25_t10.groupby('tc_feat').count()\n",
    "bm25_t40_fp_amount_by_feat = df_bm25_t40.groupby('tc_feat').count()\n",
    "bm25_t10_fp_amount_by_feat['model'] = 'bm25'\n",
    "bm25_t40_fp_amount_by_feat['model'] = 'bm25'\n",
    "\n",
    "\n",
    "df_lda_t10 = aux_functions.detail_features_tc_br(lda_fp_exc_set_t10, testcases, bugreports)\n",
    "df_lda_t40 = aux_functions.detail_features_tc_br(lda_fp_exc_set_t40, testcases, bugreports)\n",
    "\n",
    "lda_t10_fp_amount_by_feat = df_lda_t10.groupby('tc_feat').count()\n",
    "lda_t40_fp_amount_by_feat = df_lda_t40.groupby('tc_feat').count()\n",
    "lda_t10_fp_amount_by_feat['model'] = 'lda'\n",
    "lda_t40_fp_amount_by_feat['model'] = 'lda'\n",
    "\n",
    "\n",
    "df_lsi_t10 = aux_functions.detail_features_tc_br(lsi_fp_exc_set_t10, testcases, bugreports)\n",
    "df_lsi_t40 = aux_functions.detail_features_tc_br(lsi_fp_exc_set_t40, testcases, bugreports)\n",
    "\n",
    "lsi_t10_fp_amount_by_feat = df_lsi_t10.groupby('tc_feat').count()\n",
    "lsi_t40_fp_amount_by_feat = df_lsi_t40.groupby('tc_feat').count()\n",
    "lsi_t10_fp_amount_by_feat['model'] = 'lsi'\n",
    "lsi_t40_fp_amount_by_feat['model'] = 'lsi'\n",
    "\n",
    "\n",
    "df_wv_t10 = aux_functions.detail_features_tc_br(wv_fp_exc_set_t10, testcases, bugreports)\n",
    "df_wv_t40 = aux_functions.detail_features_tc_br(wv_fp_exc_set_t40, testcases, bugreports)\n",
    "\n",
    "wv_t10_fp_amount_by_feat = df_wv_t10.groupby('tc_feat').count()\n",
    "wv_t40_fp_amount_by_feat = df_wv_t40.groupby('tc_feat').count()\n",
    "wv_t10_fp_amount_by_feat['model'] = 'wordvector'\n",
    "wv_t40_fp_amount_by_feat['model'] = 'wordvector'"
   ]
  },
  {
   "cell_type": "code",
   "execution_count": null,
   "metadata": {},
   "outputs": [],
   "source": [
    "df_t10 = pd.concat([bm25_t10_fp_amount_by_feat, lsi_t10_fp_amount_by_feat,\n",
    "                   lda_t10_fp_amount_by_feat, wv_t10_fp_amount_by_feat])\n",
    "\n",
    "df_t10 = df_t10[['tc','model']]\n",
    "df_t10.reset_index(inplace=True)\n",
    "df_t10.rename(columns={'tc':'FP_amount','tc_feat':'feature'}, inplace=True)\n",
    "df_t10 = df_t10.pivot('feature','model','FP_amount')\n",
    "df_t10.head(20)"
   ]
  },
  {
   "cell_type": "code",
   "execution_count": null,
   "metadata": {},
   "outputs": [],
   "source": [
    "import seaborn as sns\n",
    "from matplotlib import pyplot as plt\n",
    "\n",
    "a4_dims = (11.7, 8.27)\n",
    "fig, ax = plt.subplots(figsize=a4_dims)\n",
    "sns.heatmap(ax=ax, data=df_t10, linewidths=.3, annot=True, cmap='GnBu')"
   ]
  },
  {
   "cell_type": "code",
   "execution_count": null,
   "metadata": {},
   "outputs": [],
   "source": [
    "df_t40 = pd.concat([bm25_t40_fp_amount_by_feat, lsi_t40_fp_amount_by_feat,\n",
    "                     lda_t40_fp_amount_by_feat,  wv_t40_fp_amount_by_feat])\n",
    "\n",
    "df_t40 = df_t40[['tc','model']]\n",
    "df_t40.reset_index(inplace=True)\n",
    "df_t40.rename(columns={'tc':'FP_amount','tc_feat':'feature'}, inplace=True)\n",
    "df_t40 = df_t40.pivot('feature','model','FP_amount')\n",
    "df_t40.head(20)"
   ]
  },
  {
   "cell_type": "code",
   "execution_count": null,
   "metadata": {},
   "outputs": [],
   "source": [
    "import seaborn as sns\n",
    "from matplotlib import pyplot as plt\n",
    "\n",
    "a4_dims = (11.7, 8.27)\n",
    "fig, ax = plt.subplots(figsize=a4_dims)\n",
    "sns.heatmap(ax=ax, data=df_t40, linewidths=.3, annot=True, cmap='GnBu')"
   ]
  },
  {
   "cell_type": "markdown",
   "metadata": {
    "toc-hr-collapsed": true
   },
   "source": [
    "#### False Negatives Analysis"
   ]
  },
  {
   "cell_type": "code",
   "execution_count": null,
   "metadata": {},
   "outputs": [],
   "source": [
    "bm25_fn_set_t10, lsi_fn_set_t10, lda_fn_set_t10, wv_fn_set_t10 = aux_functions.get_traces_set(retrieved_traces_df, 10, 'FN')\n",
    "bm25_fn_set_t20, lsi_fn_set_t20, lda_fn_set_t20, wv_fn_set_t20 = aux_functions.get_traces_set(retrieved_traces_df, 20, 'FN')\n",
    "bm25_fn_set_t40, lsi_fn_set_t40, lda_fn_set_t40, wv_fn_set_t40 = aux_functions.get_traces_set(retrieved_traces_df, 40, 'FN')\n",
    "\n",
    "#aux_functions.plot_venn_diagrams(10, bm25_fn_set_t10, lsi_fn_set_t10, lda_fn_set_t10, wv_fn_set_t10, 'FN')\n",
    "#aux_functions.plot_venn_diagrams(40, bm25_fn_set_t40, lsi_fn_set_t40, lda_fn_set_t40, wv_fn_set_t40, 'FN')"
   ]
  },
  {
   "cell_type": "code",
   "execution_count": null,
   "metadata": {},
   "outputs": [],
   "source": [
    "df = pd.DataFrame(index=['TOP 10', 'TOP 20', 'TOP 40'], columns=['BM25','LSI','LDA','WordVector'])\n",
    "\n",
    "df.at['TOP 10','BM25'] = len(bm25_fn_set_t10)\n",
    "df.at['TOP 20','BM25'] = len(bm25_fn_set_t20)\n",
    "df.at['TOP 40','BM25'] = len(bm25_fn_set_t40)\n",
    "\n",
    "df.at['TOP 10','LSI'] = len(lsi_fn_set_t10)\n",
    "df.at['TOP 20','LSI'] = len(lsi_fn_set_t20)\n",
    "df.at['TOP 40','LSI'] = len(lsi_fn_set_t40)\n",
    "\n",
    "df.at['TOP 10','LDA'] = len(lda_fn_set_t10)\n",
    "df.at['TOP 20','LDA'] = len(lda_fn_set_t20)\n",
    "df.at['TOP 40','LDA'] = len(lda_fn_set_t40)\n",
    "\n",
    "df.at['TOP 10','WordVector'] = len(wv_fn_set_t10)\n",
    "df.at['TOP 20','WordVector'] = len(wv_fn_set_t20)\n",
    "df.at['TOP 40','WordVector'] = len(wv_fn_set_t40)\n",
    "\n",
    "print()\n",
    "\n",
    "df"
   ]
  },
  {
   "cell_type": "markdown",
   "metadata": {},
   "source": [
    "##### Exclusive Traces"
   ]
  },
  {
   "cell_type": "code",
   "execution_count": null,
   "metadata": {},
   "outputs": [],
   "source": [
    "print(\"TOP 10 ------------------------------\")\n",
    "bm25_fn_exc_set_t10, lsi_fn_exc_set_t10, lda_fn_exc_set_t10, wv_fn_exc_set_t10 =  aux_functions.get_exclusive_traces(bm25_fn_set_t10, lsi_fn_set_t10, lda_fn_set_t10, wv_fn_set_t10, traces_type='FN')\n",
    "\n",
    "print(\"\\n\\nTOP 20 -------------------------------\")\n",
    "bm25_fn_exc_set_t20, lsi_fn_exc_set_t20, lda_fn_exc_set_t20, wv_fn_exc_set_t20 =  aux_functions.get_exclusive_traces(bm25_fn_set_t20, lsi_fn_set_t20, lda_fn_set_t20, wv_fn_set_t20, traces_type='FN')\n",
    "\n",
    "print(\"\\n\\nTOP 40 -------------------------------\")\n",
    "bm25_fn_exc_set_t40, lsi_fn_exc_set_t40, lda_fn_exc_set_t40, wv_fn_exc_set_t40 =  aux_functions.get_exclusive_traces(bm25_fn_set_t40, lsi_fn_set_t40, lda_fn_set_t40, wv_fn_set_t40, traces_type='FN')"
   ]
  },
  {
   "cell_type": "markdown",
   "metadata": {},
   "source": [
    "##### FN Details"
   ]
  },
  {
   "cell_type": "code",
   "execution_count": null,
   "metadata": {},
   "outputs": [],
   "source": [
    "df_bm25_t10 = aux_functions.detail_features_tc_br(bm25_fn_exc_set_t10, testcases, bugreports)\n",
    "df_bm25_t40 = aux_functions.detail_features_tc_br(bm25_fn_exc_set_t40, testcases, bugreports)\n",
    "\n",
    "bm25_t10_fn_amount_by_feat = df_bm25_t10.groupby('tc_feat').count()\n",
    "bm25_t40_fn_amount_by_feat = df_bm25_t40.groupby('tc_feat').count()\n",
    "bm25_t10_fn_amount_by_feat['model'] = 'bm25'\n",
    "bm25_t40_fn_amount_by_feat['model'] = 'bm25'\n",
    "\n",
    "\n",
    "df_lda_t10 = aux_functions.detail_features_tc_br(lda_fn_exc_set_t10, testcases, bugreports)\n",
    "df_lda_t40 = aux_functions.detail_features_tc_br(lda_fn_exc_set_t40, testcases, bugreports)\n",
    "\n",
    "lda_t10_fn_amount_by_feat = df_lda_t10.groupby('tc_feat').count()\n",
    "lda_t40_fn_amount_by_feat = df_lda_t40.groupby('tc_feat').count()\n",
    "lda_t10_fn_amount_by_feat['model'] = 'lda'\n",
    "lda_t40_fn_amount_by_feat['model'] = 'lda'\n",
    "\n",
    "\n",
    "df_lsi_t10 = aux_functions.detail_features_tc_br(lsi_fn_exc_set_t10, testcases, bugreports)\n",
    "df_lsi_t40 = aux_functions.detail_features_tc_br(lsi_fn_exc_set_t40, testcases, bugreports)\n",
    "\n",
    "lsi_t10_fn_amount_by_feat = df_lsi_t10.groupby('tc_feat').count()\n",
    "lsi_t40_fn_amount_by_feat = df_lsi_t40.groupby('tc_feat').count()\n",
    "lsi_t10_fn_amount_by_feat['model'] = 'lsi'\n",
    "lsi_t40_fn_amount_by_feat['model'] = 'lsi'\n",
    "\n",
    "\n",
    "df_wv_t10 = aux_functions.detail_features_tc_br(wv_fn_exc_set_t10, testcases, bugreports)\n",
    "df_wv_t40 = aux_functions.detail_features_tc_br(wv_fn_exc_set_t40, testcases, bugreports)\n",
    "\n",
    "wv_t10_fn_amount_by_feat = df_wv_t10.groupby('tc_feat').count()\n",
    "wv_t40_fn_amount_by_feat = df_wv_t40.groupby('tc_feat').count()\n",
    "wv_t10_fn_amount_by_feat['model'] = 'wordvector'\n",
    "wv_t40_fn_amount_by_feat['model'] = 'wordvector'"
   ]
  },
  {
   "cell_type": "markdown",
   "metadata": {},
   "source": [
    "###### TOP 10"
   ]
  },
  {
   "cell_type": "code",
   "execution_count": null,
   "metadata": {},
   "outputs": [],
   "source": [
    "df_t10 = pd.concat([bm25_t10_fn_amount_by_feat,  lsi_t10_fn_amount_by_feat,\n",
    "                     lda_t10_fn_amount_by_feat, wv_t10_fn_amount_by_feat])\n",
    "\n",
    "df_t10 = df_t10[['tc','model']]\n",
    "df_t10.reset_index(inplace=True)\n",
    "df_t10.rename(columns={'tc':'FN_amount','tc_feat':'feature'}, inplace=True)\n",
    "df_t10 = df_t10.pivot('feature','model','FN_amount')\n",
    "df_t10.head(20)"
   ]
  },
  {
   "cell_type": "code",
   "execution_count": null,
   "metadata": {},
   "outputs": [],
   "source": [
    "import seaborn as sns\n",
    "from matplotlib import pyplot as plt\n",
    "\n",
    "a4_dims = (3, 4)\n",
    "fig, ax = plt.subplots(figsize=a4_dims)\n",
    "sns.heatmap(ax=ax, data=df_t10, linewidths=.3, annot=True, cmap='GnBu')"
   ]
  },
  {
   "cell_type": "markdown",
   "metadata": {},
   "source": [
    "###### TOP 40"
   ]
  },
  {
   "cell_type": "code",
   "execution_count": null,
   "metadata": {},
   "outputs": [],
   "source": [
    "df_t40 = pd.concat([bm25_t40_fn_amount_by_feat, lsi_t40_fn_amount_by_feat,\n",
    "                     lda_t40_fn_amount_by_feat,  wv_t40_fn_amount_by_feat])\n",
    "\n",
    "df_t40 = df_t40[['tc','model']]\n",
    "df_t40.reset_index(inplace=True)\n",
    "df_t40.rename(columns={'tc':'FN_amount','tc_feat':'feature'}, inplace=True)\n",
    "df_t40 = df_t40.pivot('feature','model','FN_amount')\n",
    "df_t40.head(20)"
   ]
  },
  {
   "cell_type": "code",
   "execution_count": null,
   "metadata": {},
   "outputs": [],
   "source": [
    "import seaborn as sns\n",
    "from matplotlib import pyplot as plt\n",
    "\n",
    "a4_dims = (6, 4)\n",
    "fig, ax = plt.subplots(figsize=a4_dims)\n",
    "ax = sns.heatmap(ax=ax, data=df_t40, linewidths=.3, annot=True, cmap='GnBu')"
   ]
  },
  {
   "cell_type": "markdown",
   "metadata": {
    "toc-hr-collapsed": true
   },
   "source": [
    "### Retrieved Traces - Similarity Threshold 0.9"
   ]
  },
  {
   "cell_type": "code",
   "execution_count": null,
   "metadata": {},
   "outputs": [],
   "source": [
    "retrieved_traces_df = aux_functions.get_retrieved_traces_df(oracle=exp_vol_intersec_strat_runner.get_oracle(), evals_df=evals_df_2, top_values=[10,20,40], sim_threshs=[0.9])\n",
    "retrieved_traces_df[['top','sim_thresh','model','TP_amount','FP_amount','FN_amount','precision','recall','fscore']].head(50)"
   ]
  },
  {
   "cell_type": "markdown",
   "metadata": {},
   "source": [
    "#### Traces Not Captured by Any Technique"
   ]
  },
  {
   "cell_type": "code",
   "execution_count": null,
   "metadata": {
    "jupyter": {
     "source_hidden": true
    }
   },
   "outputs": [],
   "source": [
    "print('TOP 10 --------------------------')\n",
    "all_captured_traces_t10_inter = aux_functions.get_captured_traces_union(top_value=10, retrieved_traces_df=retrieved_traces_df)\n",
    "not_captured_traces_t10_inter = oracle_true_traces_inter - all_captured_traces_t10_inter\n",
    "print('len(not_captured_traces): {}'.format(len(not_captured_traces_t10_inter)))\n",
    "print('percent not_captured_traces: {}/{} * 100 : {:2.4}%'.format(len(not_captured_traces_t10_inter), len(oracle_true_traces_inter), len(not_captured_traces_t10_inter)/len(oracle_true_traces_inter)*100))\n",
    "\n",
    "print('\\n\\nTOP 20 --------------------------')\n",
    "all_captured_traces_t20_inter = aux_functions.get_captured_traces_union(top_value=20, retrieved_traces_df=retrieved_traces_df)\n",
    "not_captured_traces_t20_inter = oracle_true_traces_inter - all_captured_traces_t20_inter\n",
    "print('len(not_captured_traces): {}'.format(len(not_captured_traces_t20_inter)))\n",
    "print('percent not_captured_traces: {}/{} * 100 : {:2.4}%'.format(len(not_captured_traces_t20_inter), len(oracle_true_traces_inter), len(not_captured_traces_t20_inter)/len(oracle_true_traces_inter)*100))\n",
    "\n",
    "print('\\n\\nTOP 40 --------------------------')\n",
    "all_captured_traces_t40_inter = aux_functions.get_captured_traces_union(top_value=40, retrieved_traces_df=retrieved_traces_df)\n",
    "not_captured_traces_t40_inter = oracle_true_traces_inter - all_captured_traces_t40_inter\n",
    "print('len(not_captured_traces): {}'.format(len(not_captured_traces_t40_inter)))\n",
    "print('percent not_captured_traces: {}/{} * 100 : {:2.4}%'.format(len(not_captured_traces_t40_inter), len(oracle_true_traces_inter), len(not_captured_traces_t40_inter)/len(oracle_true_traces_inter)*100))"
   ]
  },
  {
   "cell_type": "markdown",
   "metadata": {},
   "source": [
    "#### Traces Captured by Every Technique"
   ]
  },
  {
   "cell_type": "code",
   "execution_count": null,
   "metadata": {
    "jupyter": {
     "source_hidden": true
    }
   },
   "outputs": [],
   "source": [
    "import pprint\n",
    "\n",
    "print('TOP 10 -----------------------')\n",
    "traces_captured_by_all_t10_inter = aux_functions.get_captured_traces_intersec(10, retrieved_traces_df)\n",
    "print('len(traces_captured_by_all): {}'.format(len(traces_captured_by_all_t10_inter)))\n",
    "print('percent traces_captured_by_all: {}/{} * 100 : {:2.4}%'.format(len(traces_captured_by_all_t10_inter), len(oracle_true_traces_inter), len(traces_captured_by_all_t10_inter)/len(oracle_true_traces_inter) *100))\n",
    "pprint.pprint(traces_captured_by_all_t10_inter)\n",
    "\n",
    "print('\\n\\nTOP 20 -----------------------')\n",
    "traces_captured_by_all_t20_inter = aux_functions.get_captured_traces_intersec(20, retrieved_traces_df)\n",
    "print('len(traces_captured_by_all): {}'.format(len(traces_captured_by_all_t20_inter)))\n",
    "print('percent traces_captured_by_all: {}/{} * 100 : {:2.4}%'.format(len(traces_captured_by_all_t20_inter), len(oracle_true_traces_inter), len(traces_captured_by_all_t20_inter)/len(oracle_true_traces_inter) *100))\n",
    "pprint.pprint(traces_captured_by_all_t20_inter)\n",
    "\n",
    "print('\\n\\nTOP 40 -----------------------')\n",
    "traces_captured_by_all_t40_inter = aux_functions.get_captured_traces_intersec(40, retrieved_traces_df)\n",
    "print('len(traces_captured_by_all): {}'.format(len(traces_captured_by_all_t40_inter)))\n",
    "print('percent traces_captured_by_all: {}/{} * 100 : {:2.4}%'.format(len(traces_captured_by_all_t40_inter), len(oracle_true_traces_inter), len(traces_captured_by_all_t40_inter)/len(oracle_true_traces_inter) *100))\n",
    "pprint.pprint(traces_captured_by_all_t40_inter)"
   ]
  },
  {
   "cell_type": "markdown",
   "metadata": {
    "toc-hr-collapsed": false
   },
   "source": [
    "#### True Positives Analysis"
   ]
  },
  {
   "cell_type": "code",
   "execution_count": null,
   "metadata": {},
   "outputs": [],
   "source": [
    "bm25_tp_set_t10, lsi_tp_set_t10, lda_tp_set_t10, wv_tp_set_t10 = aux_functions.get_traces_set(retrieved_traces_df, 10, 'TP')\n",
    "bm25_tp_set_t20, lsi_tp_set_t20, lda_tp_set_t20, wv_tp_set_t20 = aux_functions.get_traces_set(retrieved_traces_df, 20, 'TP')\n",
    "bm25_tp_set_t40, lsi_tp_set_t40, lda_tp_set_t40, wv_tp_set_t40 = aux_functions.get_traces_set(retrieved_traces_df, 40, 'TP')\n",
    "\n",
    "#aux_functions.plot_venn_diagrams(TOP, bm25_tp_set_t5, lsi_tp_set_t5, lda_tp_set_t5, wv_tp_set_t5, 'True Positives')\n",
    "\n",
    "df = pd.DataFrame(index=['TOP 10', 'TOP 20', 'TOP 40'], columns=['BM25','LSI','LDA','WordVector'])\n",
    "\n",
    "df.at['TOP 10','BM25'] = len(bm25_tp_set_t10)\n",
    "df.at['TOP 20','BM25'] = len(bm25_tp_set_t20)\n",
    "df.at['TOP 40','BM25'] = len(bm25_tp_set_t40)\n",
    "\n",
    "df.at['TOP 10','LSI'] = len(lsi_tp_set_t10)\n",
    "df.at['TOP 20','LSI'] = len(lsi_tp_set_t20)\n",
    "df.at['TOP 40','LSI'] = len(lsi_tp_set_t40)\n",
    "\n",
    "df.at['TOP 10','LDA'] = len(lda_tp_set_t10)\n",
    "df.at['TOP 20','LDA'] = len(lda_tp_set_t20)\n",
    "df.at['TOP 40','LDA'] = len(lda_tp_set_t40)\n",
    "\n",
    "df.at['TOP 10','WordVector'] = len(wv_tp_set_t10)\n",
    "df.at['TOP 20','WordVector'] = len(wv_tp_set_t20)\n",
    "df.at['TOP 40','WordVector'] = len(wv_tp_set_t40)\n",
    "\n",
    "print()\n",
    "\n",
    "df"
   ]
  },
  {
   "cell_type": "markdown",
   "metadata": {},
   "source": [
    "##### Exclusive Traces"
   ]
  },
  {
   "cell_type": "code",
   "execution_count": null,
   "metadata": {},
   "outputs": [],
   "source": [
    "import pandas as pd\n",
    "\n",
    "print(\"TOP 10 ------------------------------\")\n",
    "bm25_tp_exc_set_t10, lsi_tp_exc_set_t10, lda_tp_exc_set_t10, wv_tp_exc_set_t10 =  aux_functions.get_exclusive_traces(bm25_tp_set_t10, lsi_tp_set_t10, lda_tp_set_t10, wv_tp_set_t10, traces_type='TP')\n",
    "\n",
    "print(\"\\n\\nTOP 20 ------------------------------\")\n",
    "bm25_tp_exc_set_t20, lsi_tp_exc_set_t20, lda_tp_exc_set_t20, wv_tp_exc_set_t20 =  aux_functions.get_exclusive_traces(bm25_tp_set_t20, lsi_tp_set_t20, lda_tp_set_t20, wv_tp_set_t20, traces_type='TP')\n",
    "\n",
    "print(\"\\n\\nTOP 40 -------------------------------\")\n",
    "bm25_tp_exc_set_t40, lsi_tp_exc_set_t40, lda_tp_exc_set_t40, wv_tp_exc_set_t40 =  aux_functions.get_exclusive_traces(bm25_tp_set_t40, lsi_tp_set_t40, lda_tp_set_t40, wv_tp_set_t40, traces_type='TP')\n",
    "\n",
    "df = pd.DataFrame(index=['TOP 10', 'TOP 20', 'TOP 40'], columns=['BM25','LSI','LDA','WordVector'])\n",
    "\n",
    "df.at['TOP 10','BM25'] = len(bm25_tp_exc_set_t10)\n",
    "df.at['TOP 20','BM25'] = len(bm25_tp_exc_set_t20)\n",
    "df.at['TOP 40','BM25'] = len(bm25_tp_exc_set_t40)\n",
    "\n",
    "df.at['TOP 10','LSI'] = len(lsi_tp_exc_set_t10)\n",
    "df.at['TOP 20','LSI'] = len(lsi_tp_exc_set_t20)\n",
    "df.at['TOP 40','LSI'] = len(lsi_tp_exc_set_t40)\n",
    "\n",
    "df.at['TOP 10','LDA'] = len(lda_tp_exc_set_t10)\n",
    "df.at['TOP 20','LDA'] = len(lda_tp_exc_set_t20)\n",
    "df.at['TOP 40','LDA'] = len(lda_tp_exc_set_t40)\n",
    "\n",
    "df.at['TOP 10','WordVector'] = len(wv_tp_exc_set_t10)\n",
    "df.at['TOP 20','WordVector'] = len(wv_tp_exc_set_t20)\n",
    "df.at['TOP 40','WordVector'] = len(wv_tp_exc_set_t40)\n",
    "\n",
    "print()\n",
    "\n",
    "df"
   ]
  },
  {
   "cell_type": "markdown",
   "metadata": {},
   "source": [
    "##### TP Details"
   ]
  },
  {
   "cell_type": "code",
   "execution_count": null,
   "metadata": {},
   "outputs": [],
   "source": [
    "df_bm25_t10 = aux_functions.detail_features_tc_br(bm25_tp_exc_set_t10, testcases, bugreports)\n",
    "df_bm25_t40 = aux_functions.detail_features_tc_br(bm25_tp_exc_set_t40, testcases, bugreports)\n",
    "\n",
    "bm25_t10_tp_amount_by_feat = df_bm25_t10.groupby('tc_feat').count()\n",
    "bm25_t40_tp_amount_by_feat = df_bm25_t40.groupby('tc_feat').count()\n",
    "bm25_t10_tp_amount_by_feat['model'] = 'bm25'\n",
    "bm25_t40_tp_amount_by_feat['model'] = 'bm25'\n",
    "\n",
    "\n",
    "df_lda_t10 = aux_functions.detail_features_tc_br(lda_tp_exc_set_t10, testcases, bugreports)\n",
    "df_lda_t40 = aux_functions.detail_features_tc_br(lda_tp_exc_set_t40, testcases, bugreports)\n",
    "\n",
    "lda_t10_tp_amount_by_feat = df_lda_t10.groupby('tc_feat').count()\n",
    "lda_t40_tp_amount_by_feat = df_lda_t40.groupby('tc_feat').count()\n",
    "lda_t10_tp_amount_by_feat['model'] = 'lda'\n",
    "lda_t40_tp_amount_by_feat['model'] = 'lda'\n",
    "\n",
    "\n",
    "df_lsi_t10 = aux_functions.detail_features_tc_br(lsi_tp_exc_set_t10, testcases, bugreports)\n",
    "df_lsi_t40 = aux_functions.detail_features_tc_br(lsi_tp_exc_set_t40, testcases, bugreports)\n",
    "\n",
    "lsi_t10_tp_amount_by_feat = df_lsi_t10.groupby('tc_feat').count()\n",
    "lsi_t40_tp_amount_by_feat = df_lsi_t40.groupby('tc_feat').count()\n",
    "lsi_t10_tp_amount_by_feat['model'] = 'lsi'\n",
    "lsi_t40_tp_amount_by_feat['model'] = 'lsi'\n",
    "\n",
    "\n",
    "df_wv_t10 = aux_functions.detail_features_tc_br(wv_tp_exc_set_t10, testcases, bugreports)\n",
    "df_wv_t40 = aux_functions.detail_features_tc_br(wv_tp_exc_set_t40, testcases, bugreports)\n",
    "\n",
    "wv_t10_tp_amount_by_feat = df_wv_t10.groupby('tc_feat').count()\n",
    "wv_t40_tp_amount_by_feat = df_wv_t40.groupby('tc_feat').count()\n",
    "wv_t10_tp_amount_by_feat['model'] = 'wordvector'\n",
    "wv_t40_tp_amount_by_feat['model'] = 'wordvector'"
   ]
  },
  {
   "cell_type": "markdown",
   "metadata": {},
   "source": [
    "###### TOP 10"
   ]
  },
  {
   "cell_type": "code",
   "execution_count": null,
   "metadata": {},
   "outputs": [],
   "source": [
    "df_t10 = pd.concat([bm25_t10_tp_amount_by_feat,  lsi_t10_tp_amount_by_feat,\n",
    "                     lda_t10_tp_amount_by_feat,   wv_t10_tp_amount_by_feat])\n",
    "\n",
    "df_t10 = df_t10[['tc','model']]\n",
    "df_t10.reset_index(inplace=True)\n",
    "df_t10.rename(columns={'tc':'TP_amount','tc_feat':'feature'}, inplace=True)\n",
    "df_t10 = df_t10.pivot('feature','model','TP_amount')\n",
    "df_t10.head(20)"
   ]
  },
  {
   "cell_type": "code",
   "execution_count": null,
   "metadata": {},
   "outputs": [],
   "source": [
    "import seaborn as sns\n",
    "from matplotlib import pyplot as plt\n",
    "\n",
    "a4_dims = (6, 4)\n",
    "fig, ax = plt.subplots(figsize=a4_dims)\n",
    "sns.heatmap(ax=ax, data=df_t10, linewidths=.3, annot=True, cmap='GnBu')"
   ]
  },
  {
   "cell_type": "markdown",
   "metadata": {},
   "source": [
    "###### TOP 40"
   ]
  },
  {
   "cell_type": "code",
   "execution_count": null,
   "metadata": {},
   "outputs": [],
   "source": [
    "df_t40 = pd.concat([bm25_t40_tp_amount_by_feat, lsi_t40_tp_amount_by_feat,\n",
    "                     lda_t40_tp_amount_by_feat,  wv_t40_tp_amount_by_feat])\n",
    "\n",
    "df_t40 = df_t40[['tc','model']]\n",
    "df_t40.reset_index(inplace=True)\n",
    "df_t40.rename(columns={'tc':'TP_amount','tc_feat':'feature'}, inplace=True)\n",
    "df_t40 = df_t40.pivot('feature','model','TP_amount')\n",
    "df_t40.head(20)"
   ]
  },
  {
   "cell_type": "code",
   "execution_count": null,
   "metadata": {},
   "outputs": [],
   "source": [
    "import seaborn as sns\n",
    "from matplotlib import pyplot as plt\n",
    "\n",
    "a4_dims = (6, 4)\n",
    "fig, ax = plt.subplots(figsize=a4_dims)\n",
    "ax = sns.heatmap(ax=ax, data=df_t40, linewidths=.3, annot=True, cmap='GnBu')"
   ]
  },
  {
   "cell_type": "markdown",
   "metadata": {
    "toc-hr-collapsed": false
   },
   "source": [
    "#### False Positives Analysis"
   ]
  },
  {
   "cell_type": "code",
   "execution_count": null,
   "metadata": {},
   "outputs": [],
   "source": [
    "bm25_fp_set_t10, lsi_fp_set_t10, lda_fp_set_t10, wv_fp_set_t10 = aux_functions.get_traces_set(retrieved_traces_df, 10, 'FP')\n",
    "bm25_fp_set_t20, lsi_fp_set_t20, lda_fp_set_t20, wv_fp_set_t20 = aux_functions.get_traces_set(retrieved_traces_df, 20, 'FP')\n",
    "bm25_fp_set_t40, lsi_fp_set_t40, lda_fp_set_t40, wv_fp_set_t40 = aux_functions.get_traces_set(retrieved_traces_df, 40, 'FP')\n",
    "\n",
    "#aux_functions.plot_venn_diagrams(10, bm25_fp_set_t10, lsi_fp_set_t10, lda_fp_set_t10, wv_fp_set_t10, 'FP')\n",
    "#print('====================')\n",
    "#aux_functions.plot_venn_diagrams(20, bm25_fp_set_t20, lsi_fp_set_t20, lda_fp_set_t20, wv_fp_set_t20, 'FP')\n",
    "#print('====================')\n",
    "#aux_functions.plot_venn_diagrams(40, bm25_fp_set_t40, lsi_fp_set_t40, lda_fp_set_t40, wv_fp_set_t40, 'FP')"
   ]
  },
  {
   "cell_type": "markdown",
   "metadata": {},
   "source": [
    "##### Exclusive Traces"
   ]
  },
  {
   "cell_type": "code",
   "execution_count": null,
   "metadata": {},
   "outputs": [],
   "source": [
    "print(\"TOP 10 ------------------------------\")\n",
    "bm25_fp_exc_set_t10, lsi_fp_exc_set_t10, lda_fp_exc_set_t10, wv_fp_exc_set_t10 =  aux_functions.get_exclusive_traces(bm25_fp_set_t10, lsi_fp_set_t10, lda_fp_set_t10, wv_fp_set_t10, traces_type='FP')\n",
    "\n",
    "print(\"\\n\\nTOP 20 ------------------------------\")\n",
    "bm25_fp_exc_set_t20, lsi_fp_exc_set_t20, lda_fp_exc_set_t20, wv_fp_exc_set_t20 =  aux_functions.get_exclusive_traces(bm25_fp_set_t20, lsi_fp_set_t20, lda_fp_set_t20, wv_fp_set_t20, traces_type='FP')\n",
    "\n",
    "print(\"\\n\\nTOP 40 -------------------------------\")\n",
    "bm25_fp_exc_set_t40, lsi_fp_exc_set_t40, lda_fp_exc_set_t40, wv_fp_exc_set_t40 =  aux_functions.get_exclusive_traces(bm25_fp_set_t40, lsi_fp_set_t40, lda_fp_set_t40, wv_fp_set_t40, traces_type='FP')"
   ]
  },
  {
   "cell_type": "markdown",
   "metadata": {},
   "source": [
    "##### FP Details"
   ]
  },
  {
   "cell_type": "code",
   "execution_count": null,
   "metadata": {},
   "outputs": [],
   "source": [
    "df_bm25_t10 = aux_functions.detail_features_tc_br(bm25_fp_exc_set_t10, testcases, bugreports)\n",
    "df_bm25_t40 = aux_functions.detail_features_tc_br(bm25_fp_exc_set_t40, testcases, bugreports)\n",
    "\n",
    "bm25_t10_fp_amount_by_feat = df_bm25_t10.groupby('tc_feat').count()\n",
    "bm25_t40_fp_amount_by_feat = df_bm25_t40.groupby('tc_feat').count()\n",
    "bm25_t10_fp_amount_by_feat['model'] = 'bm25'\n",
    "bm25_t40_fp_amount_by_feat['model'] = 'bm25'\n",
    "\n",
    "\n",
    "df_lda_t10 = aux_functions.detail_features_tc_br(lda_fp_exc_set_t10, testcases, bugreports)\n",
    "df_lda_t40 = aux_functions.detail_features_tc_br(lda_fp_exc_set_t40, testcases, bugreports)\n",
    "\n",
    "lda_t10_fp_amount_by_feat = df_lda_t10.groupby('tc_feat').count()\n",
    "lda_t40_fp_amount_by_feat = df_lda_t40.groupby('tc_feat').count()\n",
    "lda_t10_fp_amount_by_feat['model'] = 'lda'\n",
    "lda_t40_fp_amount_by_feat['model'] = 'lda'\n",
    "\n",
    "\n",
    "df_lsi_t10 = aux_functions.detail_features_tc_br(lsi_fp_exc_set_t10, testcases, bugreports)\n",
    "df_lsi_t40 = aux_functions.detail_features_tc_br(lsi_fp_exc_set_t40, testcases, bugreports)\n",
    "\n",
    "lsi_t10_fp_amount_by_feat = df_lsi_t10.groupby('tc_feat').count()\n",
    "lsi_t40_fp_amount_by_feat = df_lsi_t40.groupby('tc_feat').count()\n",
    "lsi_t10_fp_amount_by_feat['model'] = 'lsi'\n",
    "lsi_t40_fp_amount_by_feat['model'] = 'lsi'\n",
    "\n",
    "\n",
    "df_wv_t10 = aux_functions.detail_features_tc_br(wv_fp_exc_set_t10, testcases, bugreports)\n",
    "df_wv_t40 = aux_functions.detail_features_tc_br(wv_fp_exc_set_t40, testcases, bugreports)\n",
    "\n",
    "wv_t10_fp_amount_by_feat = df_wv_t10.groupby('tc_feat').count()\n",
    "wv_t40_fp_amount_by_feat = df_wv_t40.groupby('tc_feat').count()\n",
    "wv_t10_fp_amount_by_feat['model'] = 'wordvector'\n",
    "wv_t40_fp_amount_by_feat['model'] = 'wordvector'"
   ]
  },
  {
   "cell_type": "markdown",
   "metadata": {},
   "source": [
    "###### TOP 10"
   ]
  },
  {
   "cell_type": "code",
   "execution_count": null,
   "metadata": {},
   "outputs": [],
   "source": [
    "df_t10 = pd.concat([bm25_t10_fp_amount_by_feat,  lsi_t10_fp_amount_by_feat,\n",
    "                     lda_t10_fp_amount_by_feat,   wv_t10_fp_amount_by_feat])\n",
    "\n",
    "df_t10 = df_t10[['tc','model']]\n",
    "df_t10.reset_index(inplace=True)\n",
    "df_t10.rename(columns={'tc':'FP_amount','tc_feat':'feature'}, inplace=True)\n",
    "df_t10 = df_t10.pivot('feature','model','FP_amount')\n",
    "df_t10.head(20)"
   ]
  },
  {
   "cell_type": "code",
   "execution_count": null,
   "metadata": {},
   "outputs": [],
   "source": [
    "import seaborn as sns\n",
    "from matplotlib import pyplot as plt\n",
    "\n",
    "a4_dims = (10, 8)\n",
    "fig, ax = plt.subplots(figsize=a4_dims)\n",
    "sns.heatmap(ax=ax, data=df_t10, linewidths=.3, annot=True, cmap='GnBu')"
   ]
  },
  {
   "cell_type": "markdown",
   "metadata": {},
   "source": [
    "###### TOP 40"
   ]
  },
  {
   "cell_type": "code",
   "execution_count": null,
   "metadata": {},
   "outputs": [],
   "source": [
    "df_t40 = pd.concat([bm25_t40_fp_amount_by_feat, lsi_t40_fp_amount_by_feat,\n",
    "                     lda_t40_fp_amount_by_feat,  wv_t40_fp_amount_by_feat])\n",
    "\n",
    "df_t40 = df_t40[['tc','model']]\n",
    "df_t40.reset_index(inplace=True)\n",
    "df_t40.rename(columns={'tc':'FP_amount','tc_feat':'feature'}, inplace=True)\n",
    "df_t40 = df_t40.pivot('feature','model','FP_amount')\n",
    "df_t40.head(20)"
   ]
  },
  {
   "cell_type": "code",
   "execution_count": null,
   "metadata": {},
   "outputs": [],
   "source": [
    "import seaborn as sns\n",
    "from matplotlib import pyplot as plt\n",
    "\n",
    "a4_dims = (10, 8)\n",
    "fig, ax = plt.subplots(figsize=a4_dims)\n",
    "ax = sns.heatmap(ax=ax, data=df_t40, linewidths=.3, annot=True, cmap='GnBu')"
   ]
  },
  {
   "cell_type": "markdown",
   "metadata": {
    "toc-hr-collapsed": true
   },
   "source": [
    "#### False Negatives Analysis"
   ]
  },
  {
   "cell_type": "code",
   "execution_count": null,
   "metadata": {},
   "outputs": [],
   "source": [
    "bm25_fn_set_t10, lsi_fn_set_t10, lda_fn_set_t10, wv_fn_set_t10 = aux_functions.get_traces_set(retrieved_traces_df, 10, 'FN')\n",
    "bm25_fn_set_t20, lsi_fn_set_t20, lda_fn_set_t20, wv_fn_set_t20 = aux_functions.get_traces_set(retrieved_traces_df, 20, 'FN')\n",
    "bm25_fn_set_t40, lsi_fn_set_t40, lda_fn_set_t40, wv_fn_set_t40 = aux_functions.get_traces_set(retrieved_traces_df, 40, 'FN')\n",
    "\n",
    "#print(\"TOP 10 -----------------------------------\")\n",
    "#aux_functions.plot_venn_diagrams(10, bm25_fn_set_t10, lsi_fn_set_t10, lda_fn_set_t10, wv_fn_set_t10, 'FN')\n",
    "\n",
    "#print(\"\\n\\nTOP 40 -----------------------------------\")\n",
    "#aux_functions.plot_venn_diagrams(40, bm25_fn_set_t40, lsi_fn_set_t40, lda_fn_set_t40, wv_fn_set_t40, 'FN')"
   ]
  },
  {
   "cell_type": "markdown",
   "metadata": {},
   "source": [
    "##### Exclusive Traces"
   ]
  },
  {
   "cell_type": "code",
   "execution_count": null,
   "metadata": {},
   "outputs": [],
   "source": [
    "print(\"TOP 10 ------------------------------\")\n",
    "bm25_fn_exc_set_t10, lsi_fn_exc_set_t10, lda_fn_exc_set_t10, wv_fn_exc_set_t10 =  aux_functions.get_exclusive_traces(bm25_fn_set_t10, lsi_fn_set_t10, lda_fn_set_t10, wv_fn_set_t10, traces_type='FN', verbose=True)\n",
    "\n",
    "print(\"\\n\\nTOP 20 -------------------------------\")\n",
    "bm25_fn_exc_set_t20, lsi_fn_exc_set_t20, lda_fn_exc_set_t20, wv_fn_exc_set_t20 =  aux_functions.get_exclusive_traces(bm25_fn_set_t20, lsi_fn_set_t20, lda_fn_set_t20, wv_fn_set_t20, traces_type='FN', verbose=True)\n",
    "\n",
    "print(\"\\n\\nTOP 40 -------------------------------\")\n",
    "bm25_fn_exc_set_t40, lsi_fn_exc_set_t40, lda_fn_exc_set_t40, wv_fn_exc_set_t40 =  aux_functions.get_exclusive_traces(bm25_fn_set_t40, lsi_fn_set_t40, lda_fn_set_t40, wv_fn_set_t40, traces_type='FN', verbose=True)"
   ]
  },
  {
   "cell_type": "markdown",
   "metadata": {},
   "source": [
    "##### FN Details"
   ]
  },
  {
   "cell_type": "code",
   "execution_count": null,
   "metadata": {},
   "outputs": [],
   "source": [
    "df_bm25_t10 = aux_functions.detail_features_tc_br(bm25_fn_exc_set_t10, testcases, bugreports)\n",
    "df_bm25_t40 = aux_functions.detail_features_tc_br(bm25_fn_exc_set_t40, testcases, bugreports)\n",
    "\n",
    "bm25_t10_fn_amount_by_feat = df_bm25_t10.groupby('tc_feat').count()\n",
    "bm25_t40_fn_amount_by_feat = df_bm25_t40.groupby('tc_feat').count()\n",
    "bm25_t10_fn_amount_by_feat['model'] = 'bm25'\n",
    "bm25_t40_fn_amount_by_feat['model'] = 'bm25'\n",
    "\n",
    "\n",
    "df_lda_t10 = aux_functions.detail_features_tc_br(lda_fn_exc_set_t10, testcases, bugreports)\n",
    "df_lda_t40 = aux_functions.detail_features_tc_br(lda_fn_exc_set_t40, testcases, bugreports)\n",
    "\n",
    "lda_t10_fn_amount_by_feat = df_lda_t10.groupby('tc_feat').count()\n",
    "lda_t40_fn_amount_by_feat = df_lda_t40.groupby('tc_feat').count()\n",
    "lda_t10_fn_amount_by_feat['model'] = 'lda'\n",
    "lda_t40_fn_amount_by_feat['model'] = 'lda'\n",
    "\n",
    "\n",
    "df_lsi_t10 = aux_functions.detail_features_tc_br(lsi_fn_exc_set_t10, testcases, bugreports)\n",
    "df_lsi_t40 = aux_functions.detail_features_tc_br(lsi_fn_exc_set_t40, testcases, bugreports)\n",
    "\n",
    "lsi_t10_fn_amount_by_feat = df_lsi_t10.groupby('tc_feat').count()\n",
    "lsi_t40_fn_amount_by_feat = df_lsi_t40.groupby('tc_feat').count()\n",
    "lsi_t10_fn_amount_by_feat['model'] = 'lsi'\n",
    "lsi_t40_fn_amount_by_feat['model'] = 'lsi'\n",
    "\n",
    "\n",
    "df_wv_t10 = aux_functions.detail_features_tc_br(wv_fn_exc_set_t10, testcases, bugreports)\n",
    "df_wv_t40 = aux_functions.detail_features_tc_br(wv_fn_exc_set_t40, testcases, bugreports)\n",
    "\n",
    "wv_t10_fn_amount_by_feat = df_wv_t10.groupby('tc_feat').count()\n",
    "wv_t40_fn_amount_by_feat = df_wv_t40.groupby('tc_feat').count()\n",
    "wv_t10_fn_amount_by_feat['model'] = 'wordvector'\n",
    "wv_t40_fn_amount_by_feat['model'] = 'wordvector'"
   ]
  },
  {
   "cell_type": "markdown",
   "metadata": {},
   "source": [
    "###### TOP 40"
   ]
  },
  {
   "cell_type": "code",
   "execution_count": null,
   "metadata": {},
   "outputs": [],
   "source": [
    "df_t40 = pd.concat([bm25_t40_fn_amount_by_feat, lsi_t40_fn_amount_by_feat,\n",
    "                     lda_t40_fn_amount_by_feat,  wv_t40_fn_amount_by_feat])\n",
    "\n",
    "df_t40 = df_t40[['tc','model']]\n",
    "df_t40.reset_index(inplace=True)\n",
    "df_t40.rename(columns={'tc':'FN_amount','tc_feat':'feature'}, inplace=True)\n",
    "df_t40 = df_t40.pivot('feature','model','FN_amount')\n",
    "df_t40.head(20)"
   ]
  },
  {
   "cell_type": "code",
   "execution_count": null,
   "metadata": {},
   "outputs": [],
   "source": [
    "import seaborn as sns\n",
    "from matplotlib import pyplot as plt\n",
    "\n",
    "a4_dims = (2,2)\n",
    "fig, ax = plt.subplots(figsize=a4_dims)\n",
    "ax = sns.heatmap(ax=ax, data=df_t40, linewidths=.3, annot=True, cmap='GnBu')"
   ]
  },
  {
   "cell_type": "markdown",
   "metadata": {},
   "source": [
    "### Recovery Effort Index (REI)"
   ]
  },
  {
   "cell_type": "code",
   "execution_count": null,
   "metadata": {},
   "outputs": [],
   "source": [
    "orc_vol_only_precision = 42.66\n",
    "def calculate_rei(row):\n",
    "    if row['precision'] > 0:\n",
    "        return orc_vol_only_precision/row['precision']\n",
    "    return 0"
   ]
  },
  {
   "cell_type": "code",
   "execution_count": null,
   "metadata": {},
   "outputs": [],
   "source": [
    "retrieved_traces_df['rei'] = retrieved_traces_df.apply(lambda row : calculate_rei(row), axis=1)\n",
    "retrieved_traces_df[['top','model','precision','recall','rei']].groupby('model').rei.mean()"
   ]
  },
  {
   "cell_type": "markdown",
   "metadata": {},
   "source": [
    "### Goodness Scale"
   ]
  },
  {
   "cell_type": "code",
   "execution_count": null,
   "metadata": {},
   "outputs": [],
   "source": [
    "aux_functions.calculate_goodness(evals_df_2_1)"
   ]
  },
  {
   "cell_type": "markdown",
   "metadata": {},
   "source": [
    "### Delete Variables"
   ]
  },
  {
   "cell_type": "raw",
   "metadata": {},
   "source": [
    "del lsi_model_2, lda_model_2, bm25_model_2, w2v_model_2\n",
    "del evals_df_2\n",
    "del models_runner_2, evaluator_2"
   ]
  },
  {
   "cell_type": "markdown",
   "metadata": {
    "toc-hr-collapsed": false
   },
   "source": [
    "## Volunteers Only Strategy"
   ]
  },
  {
   "cell_type": "code",
   "execution_count": null,
   "metadata": {},
   "outputs": [],
   "source": [
    "vol_strat_runner = tc_br_strat_runner.TC_BR_Vol_Strat_Runner()\n",
    "vol_strat_runner.execute()\n",
    "\n",
    "evaluator_4 = vol_strat_runner.get_evaluator() \n",
    "evals_df_4 = vol_strat_runner.get_evals_df()"
   ]
  },
  {
   "cell_type": "markdown",
   "metadata": {},
   "source": [
    "### Results"
   ]
  },
  {
   "cell_type": "code",
   "execution_count": null,
   "metadata": {},
   "outputs": [],
   "source": [
    "evals_df_4.head()"
   ]
  },
  {
   "cell_type": "code",
   "execution_count": null,
   "metadata": {},
   "outputs": [],
   "source": [
    "aux_functions.highlight_df(evals_df_4[['model','perc_precision','perc_recall','perc_fscore','top']].groupby(['model','top']).mean())"
   ]
  },
  {
   "cell_type": "markdown",
   "metadata": {},
   "source": [
    "### Plots"
   ]
  },
  {
   "cell_type": "raw",
   "metadata": {},
   "source": [
    "evaluator_4.plot_evaluations_1(evals_df=evals_df_4, title='Volunteers Only Strategy')"
   ]
  },
  {
   "cell_type": "code",
   "execution_count": null,
   "metadata": {},
   "outputs": [],
   "source": [
    "evaluator_4.plot_evaluations_3(evals_df_4, title='BR-TC Traceability Recovery - Volunteers-Only Strategy')"
   ]
  },
  {
   "cell_type": "code",
   "execution_count": null,
   "metadata": {},
   "outputs": [],
   "source": [
    "evaluator_4.plot_evaluations_4(evals_df_4)"
   ]
  },
  {
   "cell_type": "code",
   "execution_count": null,
   "metadata": {},
   "outputs": [],
   "source": [
    "evaluator_4.plot_evaluations_5(evals_df_4)"
   ]
  },
  {
   "cell_type": "markdown",
   "metadata": {},
   "source": [
    "### Oracle True Traces"
   ]
  },
  {
   "cell_type": "code",
   "execution_count": null,
   "metadata": {
    "jupyter": {
     "source_hidden": true
    }
   },
   "outputs": [],
   "source": [
    "oracle_true_traces_vol = aux_functions.get_oracle_true_positives(vol_strat_runner)\n",
    "print('len(oracle_true_traces_inter): {}'.format(len(oracle_true_traces_vol)))"
   ]
  },
  {
   "cell_type": "markdown",
   "metadata": {},
   "source": [
    "#### Wrong Traces Exploration"
   ]
  },
  {
   "cell_type": "code",
   "execution_count": null,
   "metadata": {},
   "outputs": [],
   "source": [
    "sample_wrong_traces = set(list(oracle_true_traces_vol - oracle_true_traces_inter)[0:5])\n",
    "sample_wrong_traces"
   ]
  },
  {
   "cell_type": "code",
   "execution_count": null,
   "metadata": {},
   "outputs": [],
   "source": [
    "aux_functions.detail_features_tc_br(sample_wrong_traces, testcases, bugreports)"
   ]
  },
  {
   "cell_type": "code",
   "execution_count": null,
   "metadata": {},
   "outputs": [],
   "source": [
    "#aux_functions.highlight_ranking_tc_br([br for tc,br in sample_wrong_traces], exp_vol_intersec_strat_runner.get_lsi_model().get_sim_matrix(), top_value=40)\n",
    "aux_functions.highlight_ranking_tc_br([1306639], exp_vol_intersec_strat_runner.get_lsi_model().get_sim_matrix(), top_value=40)"
   ]
  },
  {
   "cell_type": "markdown",
   "metadata": {},
   "source": [
    "### Delete Variables"
   ]
  },
  {
   "cell_type": "raw",
   "metadata": {},
   "source": [
    "del lsi_model_4, lda_model_4, bm25_model_4, w2v_model_4\n",
    "del evals_df_4\n",
    "del models_runner_4, evaluator_4"
   ]
  },
  {
   "cell_type": "markdown",
   "metadata": {
    "toc-hr-collapsed": true
   },
   "source": [
    "## Union Strategy"
   ]
  },
  {
   "cell_type": "code",
   "execution_count": null,
   "metadata": {},
   "outputs": [],
   "source": [
    "exp_vol_union_strat_runner = tc_br_strat_runner.TC_BR_Exp_Vol_Union_Strat_Runner()\n",
    "exp_vol_union_strat_runner.execute()\n",
    "\n",
    "evaluator_1 = exp_vol_union_strat_runner.get_evaluator() \n",
    "evals_df_1 = exp_vol_union_strat_runner.get_evals_df()"
   ]
  },
  {
   "cell_type": "markdown",
   "metadata": {},
   "source": [
    "### Results"
   ]
  },
  {
   "cell_type": "code",
   "execution_count": null,
   "metadata": {},
   "outputs": [],
   "source": [
    "evals_df_1.head()"
   ]
  },
  {
   "cell_type": "markdown",
   "metadata": {},
   "source": [
    "### Plots"
   ]
  },
  {
   "cell_type": "raw",
   "metadata": {},
   "source": [
    "evaluator_1.plot_evaluations_1(evals_df=evals_df_1, title='Exp-Vol Union Strategy')"
   ]
  },
  {
   "cell_type": "code",
   "execution_count": null,
   "metadata": {},
   "outputs": [],
   "source": [
    "evaluator_1.plot_evaluations_3(evals_df_1, title='BR-TC Traceability Recovery - Exp-Vol Union Strategy')"
   ]
  },
  {
   "cell_type": "code",
   "execution_count": null,
   "metadata": {},
   "outputs": [],
   "source": [
    "evaluator_1.plot_evaluations_4(evals_df_1)"
   ]
  },
  {
   "cell_type": "code",
   "execution_count": null,
   "metadata": {},
   "outputs": [],
   "source": [
    "evaluator_1.plot_evaluations_5(evals_df_1)"
   ]
  },
  {
   "cell_type": "markdown",
   "metadata": {},
   "source": [
    "### Delete Variables"
   ]
  },
  {
   "cell_type": "raw",
   "metadata": {},
   "source": [
    "del lsi_model_1, lda_model_1, bm25_model_1, w2v_model_1\n",
    "del evals_df_1\n",
    "del models_runner_1, evaluator_1"
   ]
  },
  {
   "cell_type": "markdown",
   "metadata": {
    "toc-hr-collapsed": true
   },
   "source": [
    "## Expert Only Strategy"
   ]
  },
  {
   "cell_type": "code",
   "execution_count": null,
   "metadata": {},
   "outputs": [],
   "source": [
    "exp_strat_runner = tc_br_strat_runner.TC_BR_Exp_Strat_Runner()\n",
    "exp_strat_runner.execute()\n",
    "\n",
    "evaluator_3 = exp_strat_runner.get_evaluator() \n",
    "evals_df_3 = exp_strat_runner.get_evals_df()"
   ]
  },
  {
   "cell_type": "markdown",
   "metadata": {},
   "source": [
    "### Results"
   ]
  },
  {
   "cell_type": "code",
   "execution_count": null,
   "metadata": {},
   "outputs": [],
   "source": [
    "evals_df_3.head()"
   ]
  },
  {
   "cell_type": "markdown",
   "metadata": {},
   "source": [
    "### Plots"
   ]
  },
  {
   "cell_type": "raw",
   "metadata": {},
   "source": [
    "evaluator_3.plot_evaluations_1(evals_df=evals_df_3, title='Expert Only Strategy')"
   ]
  },
  {
   "cell_type": "code",
   "execution_count": null,
   "metadata": {},
   "outputs": [],
   "source": [
    "evaluator_3.plot_evaluations_3(evals_df_3, title='BR-TC Traceability Recovery - Expert-Only Strategy')"
   ]
  },
  {
   "cell_type": "code",
   "execution_count": null,
   "metadata": {},
   "outputs": [],
   "source": [
    "evaluator_3.plot_evaluations_4(evals_df_3)"
   ]
  },
  {
   "cell_type": "code",
   "execution_count": null,
   "metadata": {},
   "outputs": [],
   "source": [
    "evaluator_3.plot_evaluations_5(evals_df_3)"
   ]
  },
  {
   "cell_type": "markdown",
   "metadata": {},
   "source": [
    "### Delete Variables"
   ]
  },
  {
   "cell_type": "raw",
   "metadata": {},
   "source": [
    "del lsi_model_3, lda_model_3, bm25_model_3, w2v_model_3\n",
    "del evals_df_3\n",
    "del models_runner_3, evaluator_3"
   ]
  }
 ],
 "metadata": {
  "kernelspec": {
   "display_name": "Python 3",
   "language": "python",
   "name": "python3"
  },
  "language_info": {
   "codemirror_mode": {
    "name": "ipython",
    "version": 3
   },
   "file_extension": ".py",
   "mimetype": "text/x-python",
   "name": "python",
   "nbconvert_exporter": "python",
   "pygments_lexer": "ipython3",
   "version": "3.7.3"
  }
 },
 "nbformat": 4,
 "nbformat_minor": 2
}

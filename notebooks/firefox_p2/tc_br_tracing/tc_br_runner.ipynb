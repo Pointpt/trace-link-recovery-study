{
 "cells": [
  {
   "cell_type": "markdown",
   "metadata": {},
   "source": [
    "# Introduction\n",
    "\n",
    "Notebook to aggregate the running of models in the context of traceability between **test cases** and **bug reports**."
   ]
  },
  {
   "cell_type": "markdown",
   "metadata": {},
   "source": [
    "# Load Libraries and Datasets"
   ]
  },
  {
   "cell_type": "code",
   "execution_count": 1,
   "metadata": {},
   "outputs": [],
   "source": [
    "from mod_finder_util import mod_finder_util\n",
    "mod_finder_util.add_modules_origin_search_path()\n",
    "\n",
    "from modules.models_runner import tc_br_strat_runner\n",
    "\n",
    "import warnings; warnings.simplefilter('ignore')"
   ]
  },
  {
   "cell_type": "markdown",
   "metadata": {},
   "source": [
    "# Run All Models"
   ]
  },
  {
   "cell_type": "markdown",
   "metadata": {},
   "source": [
    "## Volunteers Only Strategy"
   ]
  },
  {
   "cell_type": "code",
   "execution_count": 2,
   "metadata": {},
   "outputs": [
    {
     "name": "stdout",
     "output_type": "stream",
     "text": [
      "OracleVolunteers.shape: (195, 91)\n",
      "TestCases.shape: (195, 12)\n",
      "SelectedBugReports.shape: (91, 18)\n",
      "Running LSI Model ------\n",
      "Running LDA Model -----\n",
      "Running BM25 Model -----\n",
      "Running W2V Model ------\n",
      "Evaluating LSI Model ----- \n",
      "Evaluating LDA Model ----- \n",
      "Evaluating BM25 Model ----- \n",
      "Evaluating WORDVECTOR Model ----- \n"
     ]
    }
   ],
   "source": [
    "vol_strat_runner = tc_br_strat_runner.TC_BR_Vol_Strat_Runner()\n",
    "vol_strat_runner.execute()\n",
    "\n",
    "evaluator_4 = vol_strat_runner.get_evaluator() \n",
    "evals_df_4 = vol_strat_runner.get_evals_df()"
   ]
  },
  {
   "cell_type": "markdown",
   "metadata": {},
   "source": [
    "### Results"
   ]
  },
  {
   "cell_type": "code",
   "execution_count": 3,
   "metadata": {},
   "outputs": [
    {
     "data": {
      "text/html": [
       "<div>\n",
       "<style scoped>\n",
       "    .dataframe tbody tr th:only-of-type {\n",
       "        vertical-align: middle;\n",
       "    }\n",
       "\n",
       "    .dataframe tbody tr th {\n",
       "        vertical-align: top;\n",
       "    }\n",
       "\n",
       "    .dataframe thead th {\n",
       "        text-align: right;\n",
       "    }\n",
       "</style>\n",
       "<table border=\"1\" class=\"dataframe\">\n",
       "  <thead>\n",
       "    <tr style=\"text-align: right;\">\n",
       "      <th></th>\n",
       "      <th>model</th>\n",
       "      <th>ref_name</th>\n",
       "      <th>perc_precision</th>\n",
       "      <th>perc_recall</th>\n",
       "      <th>perc_fscore</th>\n",
       "      <th>eval_df</th>\n",
       "      <th>sim_threshold</th>\n",
       "      <th>top</th>\n",
       "      <th>trace_links_df</th>\n",
       "    </tr>\n",
       "  </thead>\n",
       "  <tbody>\n",
       "    <tr>\n",
       "      <th>0</th>\n",
       "      <td>lsi</td>\n",
       "      <td>top_10_cosine_0.0</td>\n",
       "      <td>33.08</td>\n",
       "      <td>23.46</td>\n",
       "      <td>26.09</td>\n",
       "      <td>precision    recall    fscore\n",
       "...</td>\n",
       "      <td>0.0</td>\n",
       "      <td>10.0</td>\n",
       "      <td>br_name     BR_1248267_SRC  BR_1248268_SRC  BR...</td>\n",
       "    </tr>\n",
       "    <tr>\n",
       "      <th>1</th>\n",
       "      <td>lsi</td>\n",
       "      <td>top_10_cosine_0.1</td>\n",
       "      <td>33.08</td>\n",
       "      <td>23.46</td>\n",
       "      <td>26.09</td>\n",
       "      <td>precision    recall    fscore\n",
       "...</td>\n",
       "      <td>0.1</td>\n",
       "      <td>10.0</td>\n",
       "      <td>br_name     BR_1248267_SRC  BR_1248268_SRC  BR...</td>\n",
       "    </tr>\n",
       "    <tr>\n",
       "      <th>2</th>\n",
       "      <td>lsi</td>\n",
       "      <td>top_10_cosine_0.2</td>\n",
       "      <td>33.08</td>\n",
       "      <td>23.46</td>\n",
       "      <td>26.09</td>\n",
       "      <td>precision    recall    fscore\n",
       "...</td>\n",
       "      <td>0.2</td>\n",
       "      <td>10.0</td>\n",
       "      <td>br_name     BR_1248267_SRC  BR_1248268_SRC  BR...</td>\n",
       "    </tr>\n",
       "    <tr>\n",
       "      <th>3</th>\n",
       "      <td>lsi</td>\n",
       "      <td>top_10_cosine_0.3</td>\n",
       "      <td>33.08</td>\n",
       "      <td>23.46</td>\n",
       "      <td>26.09</td>\n",
       "      <td>precision    recall    fscore\n",
       "...</td>\n",
       "      <td>0.3</td>\n",
       "      <td>10.0</td>\n",
       "      <td>br_name     BR_1248267_SRC  BR_1248268_SRC  BR...</td>\n",
       "    </tr>\n",
       "    <tr>\n",
       "      <th>4</th>\n",
       "      <td>lsi</td>\n",
       "      <td>top_10_cosine_0.4</td>\n",
       "      <td>32.99</td>\n",
       "      <td>23.28</td>\n",
       "      <td>25.97</td>\n",
       "      <td>precision    recall    fscore\n",
       "...</td>\n",
       "      <td>0.4</td>\n",
       "      <td>10.0</td>\n",
       "      <td>br_name     BR_1248267_SRC  BR_1248268_SRC  BR...</td>\n",
       "    </tr>\n",
       "  </tbody>\n",
       "</table>\n",
       "</div>"
      ],
      "text/plain": [
       "  model           ref_name  perc_precision  perc_recall  perc_fscore  \\\n",
       "0   lsi  top_10_cosine_0.0           33.08        23.46        26.09   \n",
       "1   lsi  top_10_cosine_0.1           33.08        23.46        26.09   \n",
       "2   lsi  top_10_cosine_0.2           33.08        23.46        26.09   \n",
       "3   lsi  top_10_cosine_0.3           33.08        23.46        26.09   \n",
       "4   lsi  top_10_cosine_0.4           32.99        23.28        25.97   \n",
       "\n",
       "                                             eval_df  sim_threshold   top  \\\n",
       "0                  precision    recall    fscore\n",
       "...            0.0  10.0   \n",
       "1                  precision    recall    fscore\n",
       "...            0.1  10.0   \n",
       "2                  precision    recall    fscore\n",
       "...            0.2  10.0   \n",
       "3                  precision    recall    fscore\n",
       "...            0.3  10.0   \n",
       "4                  precision    recall    fscore\n",
       "...            0.4  10.0   \n",
       "\n",
       "                                      trace_links_df  \n",
       "0  br_name     BR_1248267_SRC  BR_1248268_SRC  BR...  \n",
       "1  br_name     BR_1248267_SRC  BR_1248268_SRC  BR...  \n",
       "2  br_name     BR_1248267_SRC  BR_1248268_SRC  BR...  \n",
       "3  br_name     BR_1248267_SRC  BR_1248268_SRC  BR...  \n",
       "4  br_name     BR_1248267_SRC  BR_1248268_SRC  BR...  "
      ]
     },
     "execution_count": 3,
     "metadata": {},
     "output_type": "execute_result"
    }
   ],
   "source": [
    "evals_df_4.head()"
   ]
  },
  {
   "cell_type": "code",
   "execution_count": 4,
   "metadata": {},
   "outputs": [
    {
     "data": {
      "text/html": [
       "<style  type=\"text/css\" >\n",
       "    #T_8572e75c_6d1b_11e9_a468_b137202c5ee8row0_col0 {\n",
       "            background-color:  #3aa03a;\n",
       "            color:  #000000;\n",
       "        }    #T_8572e75c_6d1b_11e9_a468_b137202c5ee8row0_col1 {\n",
       "            background-color:  #a6dca6;\n",
       "            color:  #000000;\n",
       "        }    #T_8572e75c_6d1b_11e9_a468_b137202c5ee8row0_col2 {\n",
       "            background-color:  #7ac47a;\n",
       "            color:  #000000;\n",
       "        }    #T_8572e75c_6d1b_11e9_a468_b137202c5ee8row1_col0 {\n",
       "            background-color:  #4caa4c;\n",
       "            color:  #000000;\n",
       "        }    #T_8572e75c_6d1b_11e9_a468_b137202c5ee8row1_col1 {\n",
       "            background-color:  #7fc67f;\n",
       "            color:  #000000;\n",
       "        }    #T_8572e75c_6d1b_11e9_a468_b137202c5ee8row1_col2 {\n",
       "            background-color:  #67b967;\n",
       "            color:  #000000;\n",
       "        }    #T_8572e75c_6d1b_11e9_a468_b137202c5ee8row2_col0 {\n",
       "            background-color:  #5db35d;\n",
       "            color:  #000000;\n",
       "        }    #T_8572e75c_6d1b_11e9_a468_b137202c5ee8row2_col1 {\n",
       "            background-color:  #56b056;\n",
       "            color:  #000000;\n",
       "        }    #T_8572e75c_6d1b_11e9_a468_b137202c5ee8row2_col2 {\n",
       "            background-color:  #67b967;\n",
       "            color:  #000000;\n",
       "        }    #T_8572e75c_6d1b_11e9_a468_b137202c5ee8row3_col0 {\n",
       "            background-color:  #69ba69;\n",
       "            color:  #000000;\n",
       "        }    #T_8572e75c_6d1b_11e9_a468_b137202c5ee8row3_col1 {\n",
       "            background-color:  #a3daa3;\n",
       "            color:  #000000;\n",
       "        }    #T_8572e75c_6d1b_11e9_a468_b137202c5ee8row3_col2 {\n",
       "            background-color:  #7dc57d;\n",
       "            color:  #000000;\n",
       "        }    #T_8572e75c_6d1b_11e9_a468_b137202c5ee8row4_col0 {\n",
       "            background-color:  #6fbd6f;\n",
       "            color:  #000000;\n",
       "        }    #T_8572e75c_6d1b_11e9_a468_b137202c5ee8row4_col1 {\n",
       "            background-color:  #5db35d;\n",
       "            color:  #000000;\n",
       "        }    #T_8572e75c_6d1b_11e9_a468_b137202c5ee8row4_col2 {\n",
       "            background-color:  #4daa4d;\n",
       "            color:  #000000;\n",
       "        }    #T_8572e75c_6d1b_11e9_a468_b137202c5ee8row5_col0 {\n",
       "            background-color:  #8bcd8b;\n",
       "            color:  #000000;\n",
       "        }    #T_8572e75c_6d1b_11e9_a468_b137202c5ee8row5_col1 {\n",
       "            background-color:  #2a972a;\n",
       "            color:  #000000;\n",
       "        }    #T_8572e75c_6d1b_11e9_a468_b137202c5ee8row5_col2 {\n",
       "            background-color:  #51ad51;\n",
       "            color:  #000000;\n",
       "        }    #T_8572e75c_6d1b_11e9_a468_b137202c5ee8row6_col0 {\n",
       "            background-color:  #008000;\n",
       "            color:  #f1f1f1;\n",
       "        }    #T_8572e75c_6d1b_11e9_a468_b137202c5ee8row6_col1 {\n",
       "            background-color:  #6bbb6b;\n",
       "            color:  #000000;\n",
       "        }    #T_8572e75c_6d1b_11e9_a468_b137202c5ee8row6_col2 {\n",
       "            background-color:  #1f911f;\n",
       "            color:  #000000;\n",
       "        }    #T_8572e75c_6d1b_11e9_a468_b137202c5ee8row7_col0 {\n",
       "            background-color:  #1d901d;\n",
       "            color:  #000000;\n",
       "        }    #T_8572e75c_6d1b_11e9_a468_b137202c5ee8row7_col1 {\n",
       "            background-color:  #299729;\n",
       "            color:  #000000;\n",
       "        }    #T_8572e75c_6d1b_11e9_a468_b137202c5ee8row7_col2 {\n",
       "            background-color:  #008000;\n",
       "            color:  #f1f1f1;\n",
       "        }    #T_8572e75c_6d1b_11e9_a468_b137202c5ee8row8_col0 {\n",
       "            background-color:  #3da23d;\n",
       "            color:  #000000;\n",
       "        }    #T_8572e75c_6d1b_11e9_a468_b137202c5ee8row8_col1 {\n",
       "            background-color:  #008000;\n",
       "            color:  #f1f1f1;\n",
       "        }    #T_8572e75c_6d1b_11e9_a468_b137202c5ee8row8_col2 {\n",
       "            background-color:  #0e870e;\n",
       "            color:  #f1f1f1;\n",
       "        }    #T_8572e75c_6d1b_11e9_a468_b137202c5ee8row9_col0 {\n",
       "            background-color:  #e1fde1;\n",
       "            color:  #000000;\n",
       "        }    #T_8572e75c_6d1b_11e9_a468_b137202c5ee8row9_col1 {\n",
       "            background-color:  #e5ffe5;\n",
       "            color:  #000000;\n",
       "        }    #T_8572e75c_6d1b_11e9_a468_b137202c5ee8row9_col2 {\n",
       "            background-color:  #e5ffe5;\n",
       "            color:  #000000;\n",
       "        }    #T_8572e75c_6d1b_11e9_a468_b137202c5ee8row10_col0 {\n",
       "            background-color:  #e5ffe5;\n",
       "            color:  #000000;\n",
       "        }    #T_8572e75c_6d1b_11e9_a468_b137202c5ee8row10_col1 {\n",
       "            background-color:  #cff3cf;\n",
       "            color:  #000000;\n",
       "        }    #T_8572e75c_6d1b_11e9_a468_b137202c5ee8row10_col2 {\n",
       "            background-color:  #d5f6d5;\n",
       "            color:  #000000;\n",
       "        }    #T_8572e75c_6d1b_11e9_a468_b137202c5ee8row11_col0 {\n",
       "            background-color:  #e5ffe5;\n",
       "            color:  #000000;\n",
       "        }    #T_8572e75c_6d1b_11e9_a468_b137202c5ee8row11_col1 {\n",
       "            background-color:  #9ad59a;\n",
       "            color:  #000000;\n",
       "        }    #T_8572e75c_6d1b_11e9_a468_b137202c5ee8row11_col2 {\n",
       "            background-color:  #bde9bd;\n",
       "            color:  #000000;\n",
       "        }</style><table id=\"T_8572e75c_6d1b_11e9_a468_b137202c5ee8\" ><thead>    <tr>        <th class=\"blank\" ></th>        <th class=\"blank level0\" ></th>        <th class=\"col_heading level0 col0\" >perc_precision</th>        <th class=\"col_heading level0 col1\" >perc_recall</th>        <th class=\"col_heading level0 col2\" >perc_fscore</th>    </tr>    <tr>        <th class=\"index_name level0\" >model</th>        <th class=\"index_name level1\" >top</th>        <th class=\"blank\" ></th>        <th class=\"blank\" ></th>        <th class=\"blank\" ></th>    </tr></thead><tbody>\n",
       "                <tr>\n",
       "                        <th id=\"T_8572e75c_6d1b_11e9_a468_b137202c5ee8level0_row0\" class=\"row_heading level0 row0\" rowspan=3>bm25</th>\n",
       "                        <th id=\"T_8572e75c_6d1b_11e9_a468_b137202c5ee8level1_row0\" class=\"row_heading level1 row0\" >10.0</th>\n",
       "                        <td id=\"T_8572e75c_6d1b_11e9_a468_b137202c5ee8row0_col0\" class=\"data row0 col0\" >23.04</td>\n",
       "                        <td id=\"T_8572e75c_6d1b_11e9_a468_b137202c5ee8row0_col1\" class=\"data row0 col1\" >11.177</td>\n",
       "                        <td id=\"T_8572e75c_6d1b_11e9_a468_b137202c5ee8row0_col2\" class=\"data row0 col2\" >13.253</td>\n",
       "            </tr>\n",
       "            <tr>\n",
       "                                <th id=\"T_8572e75c_6d1b_11e9_a468_b137202c5ee8level1_row1\" class=\"row_heading level1 row1\" >20.0</th>\n",
       "                        <td id=\"T_8572e75c_6d1b_11e9_a468_b137202c5ee8row1_col0\" class=\"data row1 col0\" >21.306</td>\n",
       "                        <td id=\"T_8572e75c_6d1b_11e9_a468_b137202c5ee8row1_col1\" class=\"data row1 col1\" >15.685</td>\n",
       "                        <td id=\"T_8572e75c_6d1b_11e9_a468_b137202c5ee8row1_col2\" class=\"data row1 col2\" >14.772</td>\n",
       "            </tr>\n",
       "            <tr>\n",
       "                                <th id=\"T_8572e75c_6d1b_11e9_a468_b137202c5ee8level1_row2\" class=\"row_heading level1 row2\" >40.0</th>\n",
       "                        <td id=\"T_8572e75c_6d1b_11e9_a468_b137202c5ee8row2_col0\" class=\"data row2 col0\" >19.602</td>\n",
       "                        <td id=\"T_8572e75c_6d1b_11e9_a468_b137202c5ee8row2_col1\" class=\"data row2 col1\" >20.444</td>\n",
       "                        <td id=\"T_8572e75c_6d1b_11e9_a468_b137202c5ee8row2_col2\" class=\"data row2 col2\" >14.812</td>\n",
       "            </tr>\n",
       "            <tr>\n",
       "                        <th id=\"T_8572e75c_6d1b_11e9_a468_b137202c5ee8level0_row3\" class=\"row_heading level0 row3\" rowspan=3>lda</th>\n",
       "                        <th id=\"T_8572e75c_6d1b_11e9_a468_b137202c5ee8level1_row3\" class=\"row_heading level1 row3\" >10.0</th>\n",
       "                        <td id=\"T_8572e75c_6d1b_11e9_a468_b137202c5ee8row3_col0\" class=\"data row3 col0\" >18.369</td>\n",
       "                        <td id=\"T_8572e75c_6d1b_11e9_a468_b137202c5ee8row3_col1\" class=\"data row3 col1\" >11.526</td>\n",
       "                        <td id=\"T_8572e75c_6d1b_11e9_a468_b137202c5ee8row3_col2\" class=\"data row3 col2\" >13.013</td>\n",
       "            </tr>\n",
       "            <tr>\n",
       "                                <th id=\"T_8572e75c_6d1b_11e9_a468_b137202c5ee8level1_row4\" class=\"row_heading level1 row4\" >20.0</th>\n",
       "                        <td id=\"T_8572e75c_6d1b_11e9_a468_b137202c5ee8row4_col0\" class=\"data row4 col0\" >17.87</td>\n",
       "                        <td id=\"T_8572e75c_6d1b_11e9_a468_b137202c5ee8row4_col1\" class=\"data row4 col1\" >19.672</td>\n",
       "                        <td id=\"T_8572e75c_6d1b_11e9_a468_b137202c5ee8row4_col2\" class=\"data row4 col2\" >17.023</td>\n",
       "            </tr>\n",
       "            <tr>\n",
       "                                <th id=\"T_8572e75c_6d1b_11e9_a468_b137202c5ee8level1_row5\" class=\"row_heading level1 row5\" >40.0</th>\n",
       "                        <td id=\"T_8572e75c_6d1b_11e9_a468_b137202c5ee8row5_col0\" class=\"data row5 col0\" >15.079</td>\n",
       "                        <td id=\"T_8572e75c_6d1b_11e9_a468_b137202c5ee8row5_col1\" class=\"data row5 col1\" >25.576</td>\n",
       "                        <td id=\"T_8572e75c_6d1b_11e9_a468_b137202c5ee8row5_col2\" class=\"data row5 col2\" >16.666</td>\n",
       "            </tr>\n",
       "            <tr>\n",
       "                        <th id=\"T_8572e75c_6d1b_11e9_a468_b137202c5ee8level0_row6\" class=\"row_heading level0 row6\" rowspan=3>lsi</th>\n",
       "                        <th id=\"T_8572e75c_6d1b_11e9_a468_b137202c5ee8level1_row6\" class=\"row_heading level1 row6\" >10.0</th>\n",
       "                        <td id=\"T_8572e75c_6d1b_11e9_a468_b137202c5ee8row6_col0\" class=\"data row6 col0\" >28.732</td>\n",
       "                        <td id=\"T_8572e75c_6d1b_11e9_a468_b137202c5ee8row6_col1\" class=\"data row6 col1\" >18.065</td>\n",
       "                        <td id=\"T_8572e75c_6d1b_11e9_a468_b137202c5ee8row6_col2\" class=\"data row6 col2\" >20.807</td>\n",
       "            </tr>\n",
       "            <tr>\n",
       "                                <th id=\"T_8572e75c_6d1b_11e9_a468_b137202c5ee8level1_row7\" class=\"row_heading level1 row7\" >20.0</th>\n",
       "                        <td id=\"T_8572e75c_6d1b_11e9_a468_b137202c5ee8row7_col0\" class=\"data row7 col0\" >25.919</td>\n",
       "                        <td id=\"T_8572e75c_6d1b_11e9_a468_b137202c5ee8row7_col1\" class=\"data row7 col1\" >25.669</td>\n",
       "                        <td id=\"T_8572e75c_6d1b_11e9_a468_b137202c5ee8row7_col2\" class=\"data row7 col2\" >23.365</td>\n",
       "            </tr>\n",
       "            <tr>\n",
       "                                <th id=\"T_8572e75c_6d1b_11e9_a468_b137202c5ee8level1_row8\" class=\"row_heading level1 row8\" >40.0</th>\n",
       "                        <td id=\"T_8572e75c_6d1b_11e9_a468_b137202c5ee8row8_col0\" class=\"data row8 col0\" >22.745</td>\n",
       "                        <td id=\"T_8572e75c_6d1b_11e9_a468_b137202c5ee8row8_col1\" class=\"data row8 col1\" >30.609</td>\n",
       "                        <td id=\"T_8572e75c_6d1b_11e9_a468_b137202c5ee8row8_col2\" class=\"data row8 col2\" >22.189</td>\n",
       "            </tr>\n",
       "            <tr>\n",
       "                        <th id=\"T_8572e75c_6d1b_11e9_a468_b137202c5ee8level0_row9\" class=\"row_heading level0 row9\" rowspan=3>wordvector</th>\n",
       "                        <th id=\"T_8572e75c_6d1b_11e9_a468_b137202c5ee8level1_row9\" class=\"row_heading level1 row9\" >10.0</th>\n",
       "                        <td id=\"T_8572e75c_6d1b_11e9_a468_b137202c5ee8row9_col0\" class=\"data row9 col0\" >6.715</td>\n",
       "                        <td id=\"T_8572e75c_6d1b_11e9_a468_b137202c5ee8row9_col1\" class=\"data row9 col1\" >3.655</td>\n",
       "                        <td id=\"T_8572e75c_6d1b_11e9_a468_b137202c5ee8row9_col2\" class=\"data row9 col2\" >4.375</td>\n",
       "            </tr>\n",
       "            <tr>\n",
       "                                <th id=\"T_8572e75c_6d1b_11e9_a468_b137202c5ee8level1_row10\" class=\"row_heading level1 row10\" >20.0</th>\n",
       "                        <td id=\"T_8572e75c_6d1b_11e9_a468_b137202c5ee8row10_col0\" class=\"data row10 col0\" >6.236</td>\n",
       "                        <td id=\"T_8572e75c_6d1b_11e9_a468_b137202c5ee8row10_col1\" class=\"data row10 col1\" >6.376</td>\n",
       "                        <td id=\"T_8572e75c_6d1b_11e9_a468_b137202c5ee8row10_col2\" class=\"data row10 col2\" >5.778</td>\n",
       "            </tr>\n",
       "            <tr>\n",
       "                                <th id=\"T_8572e75c_6d1b_11e9_a468_b137202c5ee8level1_row11\" class=\"row_heading level1 row11\" >40.0</th>\n",
       "                        <td id=\"T_8572e75c_6d1b_11e9_a468_b137202c5ee8row11_col0\" class=\"data row11 col0\" >6.367</td>\n",
       "                        <td id=\"T_8572e75c_6d1b_11e9_a468_b137202c5ee8row11_col1\" class=\"data row11 col1\" >12.589</td>\n",
       "                        <td id=\"T_8572e75c_6d1b_11e9_a468_b137202c5ee8row11_col2\" class=\"data row11 col2\" >7.783</td>\n",
       "            </tr>\n",
       "    </tbody></table>"
      ],
      "text/plain": [
       "<pandas.io.formats.style.Styler at 0x7efcc9de24e0>"
      ]
     },
     "execution_count": 4,
     "metadata": {},
     "output_type": "execute_result"
    }
   ],
   "source": [
    "from modules.utils import aux_functions\n",
    "\n",
    "aux_functions.highlight_df( evals_df_4[['model','perc_precision','perc_recall','perc_fscore','top']].groupby(['model','top']).mean())"
   ]
  },
  {
   "cell_type": "markdown",
   "metadata": {},
   "source": [
    "### Plots"
   ]
  },
  {
   "cell_type": "raw",
   "metadata": {},
   "source": [
    "evaluator_4.plot_evaluations_1(evals_df=evals_df_4, title='Volunteers Only Strategy')"
   ]
  },
  {
   "cell_type": "code",
   "execution_count": 5,
   "metadata": {},
   "outputs": [
    {
     "data": {
      "image/png": "[encoded data removed]",
      "text/plain": [
       "<Figure size 720x360 with 1 Axes>"
      ]
     },
     "metadata": {
      "needs_background": "light"
     },
     "output_type": "display_data"
    }
   ],
   "source": [
    "evaluator_4.plot_evaluations_3(evals_df_4, title='BR-TC Traceability Recovery - Volunteers-Only Strategy')"
   ]
  },
  {
   "cell_type": "code",
   "execution_count": 6,
   "metadata": {},
   "outputs": [
    {
     "data": {
      "image/png": "[encoded data removed]",
      "text/plain": [
       "<Figure size 1440x360 with 4 Axes>"
      ]
     },
     "metadata": {
      "needs_background": "light"
     },
     "output_type": "display_data"
    }
   ],
   "source": [
    "evaluator_4.plot_evaluations_4(evals_df_4)"
   ]
  },
  {
   "cell_type": "code",
   "execution_count": 7,
   "metadata": {},
   "outputs": [
    {
     "data": {
      "image/png": "[encoded data removed]",
      "text/plain": [
       "<Figure size 720x360 with 1 Axes>"
      ]
     },
     "metadata": {
      "needs_background": "light"
     },
     "output_type": "display_data"
    }
   ],
   "source": [
    "evaluator_4.plot_evaluations_5(evals_df_4)"
   ]
  },
  {
   "cell_type": "markdown",
   "metadata": {},
   "source": [
    "### Delete Variables"
   ]
  },
  {
   "cell_type": "raw",
   "metadata": {},
   "source": [
    "del lsi_model_4, lda_model_4, bm25_model_4, w2v_model_4\n",
    "del evals_df_4\n",
    "del models_runner_4, evaluator_4"
   ]
  },
  {
   "cell_type": "markdown",
   "metadata": {},
   "source": [
    "## Union Strategy"
   ]
  },
  {
   "cell_type": "code",
   "execution_count": null,
   "metadata": {},
   "outputs": [],
   "source": [
    "exp_vol_union_strat_runner = tc_br_strat_runner.TC_BR_Exp_Vol_Union_Strat_Runner()\n",
    "exp_vol_union_strat_runner.execute()\n",
    "\n",
    "evaluator_1 = exp_vol_union_strat_runner.get_evaluator() \n",
    "evals_df_1 = exp_vol_union_strat_runner.get_evals_df()"
   ]
  },
  {
   "cell_type": "markdown",
   "metadata": {},
   "source": [
    "### Results"
   ]
  },
  {
   "cell_type": "code",
   "execution_count": null,
   "metadata": {},
   "outputs": [],
   "source": [
    "evals_df_1.head()"
   ]
  },
  {
   "cell_type": "markdown",
   "metadata": {},
   "source": [
    "### Plots"
   ]
  },
  {
   "cell_type": "raw",
   "metadata": {},
   "source": [
    "evaluator_1.plot_evaluations_1(evals_df=evals_df_1, title='Exp-Vol Union Strategy')"
   ]
  },
  {
   "cell_type": "code",
   "execution_count": null,
   "metadata": {},
   "outputs": [],
   "source": [
    "evaluator_1.plot_evaluations_3(evals_df_1, title='BR-TC Traceability Recovery - Exp-Vol Union Strategy')"
   ]
  },
  {
   "cell_type": "code",
   "execution_count": null,
   "metadata": {},
   "outputs": [],
   "source": [
    "evaluator_1.plot_evaluations_4(evals_df_1)"
   ]
  },
  {
   "cell_type": "code",
   "execution_count": null,
   "metadata": {},
   "outputs": [],
   "source": [
    "evaluator_1.plot_evaluations_5(evals_df_1)"
   ]
  },
  {
   "cell_type": "markdown",
   "metadata": {},
   "source": [
    "### Delete Variables"
   ]
  },
  {
   "cell_type": "raw",
   "metadata": {},
   "source": [
    "del lsi_model_1, lda_model_1, bm25_model_1, w2v_model_1\n",
    "del evals_df_1\n",
    "del models_runner_1, evaluator_1"
   ]
  },
  {
   "cell_type": "markdown",
   "metadata": {},
   "source": [
    "## Intersec Strategy"
   ]
  },
  {
   "cell_type": "code",
   "execution_count": null,
   "metadata": {},
   "outputs": [],
   "source": [
    "exp_vol_intersec_strat_runner = tc_br_strat_runner.TC_BR_Exp_Vol_Intersec_Strat_Runner()\n",
    "exp_vol_intersec_strat_runner.execute()\n",
    "\n",
    "evaluator_2 = exp_vol_intersec_strat_runner.get_evaluator() \n",
    "evals_df_2 = exp_vol_intersec_strat_runner.get_evals_df()"
   ]
  },
  {
   "cell_type": "markdown",
   "metadata": {},
   "source": [
    "### Results"
   ]
  },
  {
   "cell_type": "code",
   "execution_count": null,
   "metadata": {},
   "outputs": [],
   "source": [
    "evals_df_2.head()"
   ]
  },
  {
   "cell_type": "markdown",
   "metadata": {},
   "source": [
    "### Plots"
   ]
  },
  {
   "cell_type": "raw",
   "metadata": {},
   "source": [
    "evaluator_2.plot_evaluations_1(evals_df=evals_df_2, title='Exp-Vol Intersec Strategy')"
   ]
  },
  {
   "cell_type": "code",
   "execution_count": null,
   "metadata": {},
   "outputs": [],
   "source": [
    "evaluator_2.plot_evaluations_3(evals_df_2, title='BR-TC Traceability Recovery - Exp-Vol Intersec Strategy')"
   ]
  },
  {
   "cell_type": "code",
   "execution_count": null,
   "metadata": {},
   "outputs": [],
   "source": [
    "evaluator_2.plot_evaluations_4(evals_df_2)"
   ]
  },
  {
   "cell_type": "code",
   "execution_count": null,
   "metadata": {},
   "outputs": [],
   "source": [
    "evaluator_2.plot_evaluations_5(evals_df_2)"
   ]
  },
  {
   "cell_type": "markdown",
   "metadata": {},
   "source": [
    "### Delete Variables"
   ]
  },
  {
   "cell_type": "raw",
   "metadata": {},
   "source": [
    "del lsi_model_2, lda_model_2, bm25_model_2, w2v_model_2\n",
    "del evals_df_2\n",
    "del models_runner_2, evaluator_2"
   ]
  },
  {
   "cell_type": "markdown",
   "metadata": {},
   "source": [
    "## Expert Only Strategy"
   ]
  },
  {
   "cell_type": "code",
   "execution_count": null,
   "metadata": {},
   "outputs": [],
   "source": [
    "exp_strat_runner = tc_br_strat_runner.TC_BR_Exp_Strat_Runner()\n",
    "exp_strat_runner.execute()\n",
    "\n",
    "evaluator_3 = exp_strat_runner.get_evaluator() \n",
    "evals_df_3 = exp_strat_runner.get_evals_df()"
   ]
  },
  {
   "cell_type": "markdown",
   "metadata": {},
   "source": [
    "### Results"
   ]
  },
  {
   "cell_type": "code",
   "execution_count": null,
   "metadata": {},
   "outputs": [],
   "source": [
    "evals_df_3.head()"
   ]
  },
  {
   "cell_type": "markdown",
   "metadata": {},
   "source": [
    "### Plots"
   ]
  },
  {
   "cell_type": "raw",
   "metadata": {},
   "source": [
    "evaluator_3.plot_evaluations_1(evals_df=evals_df_3, title='Expert Only Strategy')"
   ]
  },
  {
   "cell_type": "code",
   "execution_count": null,
   "metadata": {},
   "outputs": [],
   "source": [
    "evaluator_3.plot_evaluations_3(evals_df_3, title='BR-TC Traceability Recovery - Expert-Only Strategy')"
   ]
  },
  {
   "cell_type": "code",
   "execution_count": null,
   "metadata": {},
   "outputs": [],
   "source": [
    "evaluator_3.plot_evaluations_4(evals_df_3)"
   ]
  },
  {
   "cell_type": "code",
   "execution_count": null,
   "metadata": {},
   "outputs": [],
   "source": [
    "evaluator_3.plot_evaluations_5(evals_df_3)"
   ]
  },
  {
   "cell_type": "markdown",
   "metadata": {},
   "source": [
    "### Delete Variables"
   ]
  },
  {
   "cell_type": "raw",
   "metadata": {},
   "source": [
    "del lsi_model_3, lda_model_3, bm25_model_3, w2v_model_3\n",
    "del evals_df_3\n",
    "del models_runner_3, evaluator_3"
   ]
  }
 ],
 "metadata": {
  "kernelspec": {
   "display_name": "Python 3",
   "language": "python",
   "name": "python3"
  },
  "language_info": {
   "codemirror_mode": {
    "name": "ipython",
    "version": 3
   },
   "file_extension": ".py",
   "mimetype": "text/x-python",
   "name": "python",
   "nbconvert_exporter": "python",
   "pygments_lexer": "ipython3",
   "version": "3.7.3"
  }
 },
 "nbformat": 4,
 "nbformat_minor": 2
}

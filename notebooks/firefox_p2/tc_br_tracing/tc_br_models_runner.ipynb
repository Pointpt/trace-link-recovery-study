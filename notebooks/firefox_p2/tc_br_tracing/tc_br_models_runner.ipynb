{
 "cells": [
  {
   "cell_type": "markdown",
   "metadata": {},
   "source": [
    "# Introduction\n",
    "\n",
    "Notebook to aggregate the running of models in the context of traceability between features and bug reports."
   ]
  },
  {
   "cell_type": "markdown",
   "metadata": {},
   "source": [
    "# Load Libraries and Datasets"
   ]
  },
  {
   "cell_type": "code",
   "execution_count": 1,
   "metadata": {},
   "outputs": [],
   "source": [
    "from mod_finder_util import mod_finder_util\n",
    "mod_finder_util.add_modules_origin_search_path()\n",
    "\n",
    "import pandas as pd\n",
    "import seaborn as sns\n",
    "from matplotlib import pyplot as plt\n",
    "\n",
    "from modules.models_runner.tc_br_runner import TC_BR_Runner\n",
    "from modules.utils import aux_functions\n",
    "from modules.utils import firefox_dataset_p2 as fd\n",
    "\n",
    "import warnings; warnings.simplefilter('ignore')"
   ]
  },
  {
   "cell_type": "markdown",
   "metadata": {},
   "source": [
    "# Run All Models"
   ]
  },
  {
   "cell_type": "markdown",
   "metadata": {},
   "source": [
    "## Union Strategy"
   ]
  },
  {
   "cell_type": "code",
   "execution_count": 2,
   "metadata": {},
   "outputs": [
    {
     "name": "stdout",
     "output_type": "stream",
     "text": [
      "OracleExpertVolunteers_UNION.shape: (207, 93)\n",
      "TestCases.shape: (207, 12)\n",
      "SelectedBugReports.shape: (93, 18)\n",
      "\n",
      "Model Evaluation -------------------------------------------\n",
      "\n",
      "Model Evaluation -------------------------------------------\n",
      "\n",
      "Model Evaluation -------------------------------------------\n",
      "\n",
      "Model Evaluation -------------------------------------------\n"
     ]
    }
   ],
   "source": [
    "runner_1 = TC_BR_Runner(oracle=fd.Tc_BR_Oracles.read_oracle_expert_volunteers_union_df())\n",
    "\n",
    "lsi_model_1, lsi_eval_1 = runner_1.run_lsi_model()\n",
    "lda_model_1, lda_eval_1 = runner_1.run_lda_model()\n",
    "bm25_model_1, bm25_eval_1 = runner_1.run_bm25_model()\n",
    "w2v_model_1, w2v_eval_1 = runner_1.run_word2vec_model()"
   ]
  },
  {
   "cell_type": "markdown",
   "metadata": {},
   "source": [
    "### Results"
   ]
  },
  {
   "cell_type": "code",
   "execution_count": 3,
   "metadata": {},
   "outputs": [
    {
     "data": {
      "text/html": [
       "<div>\n",
       "<style scoped>\n",
       "    .dataframe tbody tr th:only-of-type {\n",
       "        vertical-align: middle;\n",
       "    }\n",
       "\n",
       "    .dataframe tbody tr th {\n",
       "        vertical-align: top;\n",
       "    }\n",
       "\n",
       "    .dataframe thead th {\n",
       "        text-align: right;\n",
       "    }\n",
       "</style>\n",
       "<table border=\"1\" class=\"dataframe\">\n",
       "  <thead>\n",
       "    <tr style=\"text-align: right;\">\n",
       "      <th></th>\n",
       "      <th>model</th>\n",
       "      <th>precision</th>\n",
       "      <th>recall</th>\n",
       "      <th>fscore</th>\n",
       "      <th>precision_perc</th>\n",
       "      <th>recall_perc</th>\n",
       "      <th>fscore_perc</th>\n",
       "    </tr>\n",
       "  </thead>\n",
       "  <tbody>\n",
       "    <tr>\n",
       "      <th>0</th>\n",
       "      <td>LSI_Model_TC_BR</td>\n",
       "      <td>0.053763</td>\n",
       "      <td>0.004409</td>\n",
       "      <td>0.008066</td>\n",
       "      <td>5.376344</td>\n",
       "      <td>0.440907</td>\n",
       "      <td>0.806556</td>\n",
       "    </tr>\n",
       "    <tr>\n",
       "      <th>1</th>\n",
       "      <td>LDA_Model_TC_BR</td>\n",
       "      <td>0.102671</td>\n",
       "      <td>0.145356</td>\n",
       "      <td>0.109485</td>\n",
       "      <td>10.267083</td>\n",
       "      <td>14.535633</td>\n",
       "      <td>10.948502</td>\n",
       "    </tr>\n",
       "    <tr>\n",
       "      <th>2</th>\n",
       "      <td>BM25_Model_TC_BR</td>\n",
       "      <td>0.167534</td>\n",
       "      <td>0.267211</td>\n",
       "      <td>0.187076</td>\n",
       "      <td>16.753382</td>\n",
       "      <td>26.721098</td>\n",
       "      <td>18.707579</td>\n",
       "    </tr>\n",
       "    <tr>\n",
       "      <th>3</th>\n",
       "      <td>WordVec_Model_TC_BR</td>\n",
       "      <td>0.108221</td>\n",
       "      <td>0.141491</td>\n",
       "      <td>0.111514</td>\n",
       "      <td>10.822060</td>\n",
       "      <td>14.149135</td>\n",
       "      <td>11.151425</td>\n",
       "    </tr>\n",
       "  </tbody>\n",
       "</table>\n",
       "</div>"
      ],
      "text/plain": [
       "                 model  precision    recall    fscore  precision_perc  \\\n",
       "0      LSI_Model_TC_BR   0.053763  0.004409  0.008066        5.376344   \n",
       "1      LDA_Model_TC_BR   0.102671  0.145356  0.109485       10.267083   \n",
       "2     BM25_Model_TC_BR   0.167534  0.267211  0.187076       16.753382   \n",
       "3  WordVec_Model_TC_BR   0.108221  0.141491  0.111514       10.822060   \n",
       "\n",
       "   recall_perc  fscore_perc  \n",
       "0     0.440907     0.806556  \n",
       "1    14.535633    10.948502  \n",
       "2    26.721098    18.707579  \n",
       "3    14.149135    11.151425  "
      ]
     },
     "execution_count": 3,
     "metadata": {},
     "output_type": "execute_result"
    }
   ],
   "source": [
    "results_1 = aux_functions.compile_results({'lsi_model':lsi_model_1,'lda_model':lda_model_1,'bm25_model':bm25_model_1,'w2v_model':w2v_model_1,\n",
    "                                         'lsi_eval':lsi_eval_1, 'lda_eval':lda_eval_1, 'bm25_eval':bm25_eval_1, 'w2v_eval':w2v_eval_1})\n",
    "results_1.head()"
   ]
  },
  {
   "cell_type": "markdown",
   "metadata": {},
   "source": [
    "### Plots"
   ]
  },
  {
   "cell_type": "code",
   "execution_count": 4,
   "metadata": {},
   "outputs": [
    {
     "data": {
      "image/png": "[encoded data removed]",
      "text/plain": [
       "<Figure size 1440x360 with 3 Axes>"
      ]
     },
     "metadata": {
      "needs_background": "light"
     },
     "output_type": "display_data"
    }
   ],
   "source": [
    "aux_functions.plot_results(results_1, title='Exp-Vol Union Strategy')"
   ]
  },
  {
   "cell_type": "markdown",
   "metadata": {},
   "source": [
    "## Intersec Strategy"
   ]
  },
  {
   "cell_type": "code",
   "execution_count": 5,
   "metadata": {},
   "outputs": [
    {
     "name": "stdout",
     "output_type": "stream",
     "text": [
      "OracleExpertVolunteers_INTERSEC.shape: (207, 93)\n",
      "TestCases.shape: (207, 12)\n",
      "SelectedBugReports.shape: (93, 18)\n",
      "\n",
      "Model Evaluation -------------------------------------------\n",
      "\n",
      "Model Evaluation -------------------------------------------\n",
      "\n",
      "Model Evaluation -------------------------------------------\n",
      "\n",
      "Model Evaluation -------------------------------------------\n"
     ]
    }
   ],
   "source": [
    "runner_2 = TC_BR_Runner(oracle=fd.Tc_BR_Oracles.read_oracle_expert_volunteers_intersec_df())\n",
    "\n",
    "lsi_model_2, lsi_eval_2 = runner_2.run_lsi_model()\n",
    "lda_model_2, lda_eval_2 = runner_2.run_lda_model()\n",
    "bm25_model_2, bm25_eval_2 = runner_2.run_bm25_model()\n",
    "w2v_model_2, w2v_eval_2 = runner_2.run_word2vec_model()"
   ]
  },
  {
   "cell_type": "markdown",
   "metadata": {},
   "source": [
    "### Results"
   ]
  },
  {
   "cell_type": "code",
   "execution_count": 6,
   "metadata": {},
   "outputs": [
    {
     "data": {
      "text/html": [
       "<div>\n",
       "<style scoped>\n",
       "    .dataframe tbody tr th:only-of-type {\n",
       "        vertical-align: middle;\n",
       "    }\n",
       "\n",
       "    .dataframe tbody tr th {\n",
       "        vertical-align: top;\n",
       "    }\n",
       "\n",
       "    .dataframe thead th {\n",
       "        text-align: right;\n",
       "    }\n",
       "</style>\n",
       "<table border=\"1\" class=\"dataframe\">\n",
       "  <thead>\n",
       "    <tr style=\"text-align: right;\">\n",
       "      <th></th>\n",
       "      <th>model</th>\n",
       "      <th>precision</th>\n",
       "      <th>recall</th>\n",
       "      <th>fscore</th>\n",
       "      <th>precision_perc</th>\n",
       "      <th>recall_perc</th>\n",
       "      <th>fscore_perc</th>\n",
       "    </tr>\n",
       "  </thead>\n",
       "  <tbody>\n",
       "    <tr>\n",
       "      <th>0</th>\n",
       "      <td>LSI_Model_TC_BR</td>\n",
       "      <td>0.010753</td>\n",
       "      <td>0.001792</td>\n",
       "      <td>0.003072</td>\n",
       "      <td>1.075269</td>\n",
       "      <td>0.179211</td>\n",
       "      <td>0.307220</td>\n",
       "    </tr>\n",
       "    <tr>\n",
       "      <th>1</th>\n",
       "      <td>LDA_Model_TC_BR</td>\n",
       "      <td>0.031564</td>\n",
       "      <td>0.071843</td>\n",
       "      <td>0.042363</td>\n",
       "      <td>3.156434</td>\n",
       "      <td>7.184297</td>\n",
       "      <td>4.236334</td>\n",
       "    </tr>\n",
       "    <tr>\n",
       "      <th>2</th>\n",
       "      <td>BM25_Model_TC_BR</td>\n",
       "      <td>0.065904</td>\n",
       "      <td>0.137572</td>\n",
       "      <td>0.085108</td>\n",
       "      <td>6.590357</td>\n",
       "      <td>13.757243</td>\n",
       "      <td>8.510779</td>\n",
       "    </tr>\n",
       "    <tr>\n",
       "      <th>3</th>\n",
       "      <td>WordVec_Model_TC_BR</td>\n",
       "      <td>0.033646</td>\n",
       "      <td>0.059999</td>\n",
       "      <td>0.040473</td>\n",
       "      <td>3.364551</td>\n",
       "      <td>5.999888</td>\n",
       "      <td>4.047306</td>\n",
       "    </tr>\n",
       "  </tbody>\n",
       "</table>\n",
       "</div>"
      ],
      "text/plain": [
       "                 model  precision    recall    fscore  precision_perc  \\\n",
       "0      LSI_Model_TC_BR   0.010753  0.001792  0.003072        1.075269   \n",
       "1      LDA_Model_TC_BR   0.031564  0.071843  0.042363        3.156434   \n",
       "2     BM25_Model_TC_BR   0.065904  0.137572  0.085108        6.590357   \n",
       "3  WordVec_Model_TC_BR   0.033646  0.059999  0.040473        3.364551   \n",
       "\n",
       "   recall_perc  fscore_perc  \n",
       "0     0.179211     0.307220  \n",
       "1     7.184297     4.236334  \n",
       "2    13.757243     8.510779  \n",
       "3     5.999888     4.047306  "
      ]
     },
     "execution_count": 6,
     "metadata": {},
     "output_type": "execute_result"
    }
   ],
   "source": [
    "results_2 = aux_functions.compile_results({'lsi_model':lsi_model_2,'lda_model':lda_model_2,'bm25_model':bm25_model_2,'w2v_model':w2v_model_2,\n",
    "                                         'lsi_eval':lsi_eval_2, 'lda_eval':lda_eval_2, 'bm25_eval':bm25_eval_2, 'w2v_eval':w2v_eval_2})\n",
    "results_2.head()"
   ]
  },
  {
   "cell_type": "markdown",
   "metadata": {},
   "source": [
    "### Plots"
   ]
  },
  {
   "cell_type": "code",
   "execution_count": 7,
   "metadata": {},
   "outputs": [
    {
     "data": {
      "image/png": "[encoded data removed]",
      "text/plain": [
       "<Figure size 1440x360 with 3 Axes>"
      ]
     },
     "metadata": {
      "needs_background": "light"
     },
     "output_type": "display_data"
    }
   ],
   "source": [
    "aux_functions.plot_results(results_2, title='Exp-Vol Intersec Strategy')"
   ]
  },
  {
   "cell_type": "markdown",
   "metadata": {},
   "source": [
    "## Expert Only Strategy"
   ]
  },
  {
   "cell_type": "code",
   "execution_count": 8,
   "metadata": {},
   "outputs": [
    {
     "name": "stdout",
     "output_type": "stream",
     "text": [
      "OracleExpert.shape: (207, 93)\n",
      "TestCases.shape: (207, 12)\n",
      "SelectedBugReports.shape: (93, 18)\n",
      "\n",
      "Model Evaluation -------------------------------------------\n",
      "\n",
      "Model Evaluation -------------------------------------------\n",
      "\n",
      "Model Evaluation -------------------------------------------\n",
      "\n",
      "Model Evaluation -------------------------------------------\n"
     ]
    }
   ],
   "source": [
    "runner_3 = TC_BR_Runner(oracle=fd.Tc_BR_Oracles.read_oracle_expert_df())\n",
    "\n",
    "lsi_model_3, lsi_eval_3 = runner_3.run_lsi_model()\n",
    "lda_model_3, lda_eval_3 = runner_3.run_lda_model()\n",
    "bm25_model_3, bm25_eval_3 = runner_3.run_bm25_model()\n",
    "w2v_model_3, w2v_eval_3 = runner_3.run_word2vec_model()"
   ]
  },
  {
   "cell_type": "markdown",
   "metadata": {},
   "source": [
    "### Results"
   ]
  },
  {
   "cell_type": "code",
   "execution_count": 9,
   "metadata": {},
   "outputs": [
    {
     "data": {
      "text/html": [
       "<div>\n",
       "<style scoped>\n",
       "    .dataframe tbody tr th:only-of-type {\n",
       "        vertical-align: middle;\n",
       "    }\n",
       "\n",
       "    .dataframe tbody tr th {\n",
       "        vertical-align: top;\n",
       "    }\n",
       "\n",
       "    .dataframe thead th {\n",
       "        text-align: right;\n",
       "    }\n",
       "</style>\n",
       "<table border=\"1\" class=\"dataframe\">\n",
       "  <thead>\n",
       "    <tr style=\"text-align: right;\">\n",
       "      <th></th>\n",
       "      <th>model</th>\n",
       "      <th>precision</th>\n",
       "      <th>recall</th>\n",
       "      <th>fscore</th>\n",
       "      <th>precision_perc</th>\n",
       "      <th>recall_perc</th>\n",
       "      <th>fscore_perc</th>\n",
       "    </tr>\n",
       "  </thead>\n",
       "  <tbody>\n",
       "    <tr>\n",
       "      <th>0</th>\n",
       "      <td>LSI_Model_TC_BR</td>\n",
       "      <td>0.043011</td>\n",
       "      <td>0.007089</td>\n",
       "      <td>0.011611</td>\n",
       "      <td>4.301075</td>\n",
       "      <td>0.708897</td>\n",
       "      <td>1.161110</td>\n",
       "    </tr>\n",
       "    <tr>\n",
       "      <th>1</th>\n",
       "      <td>LDA_Model_TC_BR</td>\n",
       "      <td>0.057926</td>\n",
       "      <td>0.100981</td>\n",
       "      <td>0.069625</td>\n",
       "      <td>5.792577</td>\n",
       "      <td>10.098141</td>\n",
       "      <td>6.962543</td>\n",
       "    </tr>\n",
       "    <tr>\n",
       "      <th>2</th>\n",
       "      <td>BM25_Model_TC_BR</td>\n",
       "      <td>0.122095</td>\n",
       "      <td>0.210159</td>\n",
       "      <td>0.145135</td>\n",
       "      <td>12.209504</td>\n",
       "      <td>21.015922</td>\n",
       "      <td>14.513515</td>\n",
       "    </tr>\n",
       "    <tr>\n",
       "      <th>3</th>\n",
       "      <td>WordVec_Model_TC_BR</td>\n",
       "      <td>0.074922</td>\n",
       "      <td>0.108141</td>\n",
       "      <td>0.082098</td>\n",
       "      <td>7.492196</td>\n",
       "      <td>10.814148</td>\n",
       "      <td>8.209770</td>\n",
       "    </tr>\n",
       "  </tbody>\n",
       "</table>\n",
       "</div>"
      ],
      "text/plain": [
       "                 model  precision    recall    fscore  precision_perc  \\\n",
       "0      LSI_Model_TC_BR   0.043011  0.007089  0.011611        4.301075   \n",
       "1      LDA_Model_TC_BR   0.057926  0.100981  0.069625        5.792577   \n",
       "2     BM25_Model_TC_BR   0.122095  0.210159  0.145135       12.209504   \n",
       "3  WordVec_Model_TC_BR   0.074922  0.108141  0.082098        7.492196   \n",
       "\n",
       "   recall_perc  fscore_perc  \n",
       "0     0.708897     1.161110  \n",
       "1    10.098141     6.962543  \n",
       "2    21.015922    14.513515  \n",
       "3    10.814148     8.209770  "
      ]
     },
     "execution_count": 9,
     "metadata": {},
     "output_type": "execute_result"
    }
   ],
   "source": [
    "results_3 = aux_functions.compile_results({'lsi_model':lsi_model_3,'lda_model':lda_model_3,'bm25_model':bm25_model_3,'w2v_model':w2v_model_3,\n",
    "                                         'lsi_eval':lsi_eval_3, 'lda_eval':lda_eval_3, 'bm25_eval':bm25_eval_3, 'w2v_eval':w2v_eval_3})\n",
    "results_3.head()"
   ]
  },
  {
   "cell_type": "markdown",
   "metadata": {},
   "source": [
    "### Plots"
   ]
  },
  {
   "cell_type": "code",
   "execution_count": 10,
   "metadata": {},
   "outputs": [
    {
     "data": {
      "image/png": "[encoded data removed]",
      "text/plain": [
       "<Figure size 1440x360 with 3 Axes>"
      ]
     },
     "metadata": {
      "needs_background": "light"
     },
     "output_type": "display_data"
    }
   ],
   "source": [
    "aux_functions.plot_results(results_3, title='Expert Only Strategy')"
   ]
  },
  {
   "cell_type": "markdown",
   "metadata": {},
   "source": [
    "## Volunteers Only Strategy"
   ]
  },
  {
   "cell_type": "code",
   "execution_count": 11,
   "metadata": {},
   "outputs": [
    {
     "name": "stdout",
     "output_type": "stream",
     "text": [
      "OracleVolunteers.shape: (207, 93)\n",
      "TestCases.shape: (207, 12)\n",
      "SelectedBugReports.shape: (93, 18)\n",
      "\n",
      "Model Evaluation -------------------------------------------\n",
      "\n",
      "Model Evaluation -------------------------------------------\n",
      "\n",
      "Model Evaluation -------------------------------------------\n",
      "\n",
      "Model Evaluation -------------------------------------------\n"
     ]
    }
   ],
   "source": [
    "runner_4 = TC_BR_Runner(oracle=fd.Tc_BR_Oracles.read_oracle_volunteers_df())\n",
    "\n",
    "lsi_model_4, lsi_eval_4 = runner_4.run_lsi_model()\n",
    "lda_model_4, lda_eval_4 = runner_4.run_lda_model()\n",
    "bm25_model_4, bm25_eval_4 = runner_4.run_bm25_model()\n",
    "w2v_model_4, w2v_eval_4 = runner_4.run_word2vec_model()"
   ]
  },
  {
   "cell_type": "markdown",
   "metadata": {},
   "source": [
    "### Results"
   ]
  },
  {
   "cell_type": "code",
   "execution_count": 12,
   "metadata": {},
   "outputs": [
    {
     "data": {
      "text/html": [
       "<div>\n",
       "<style scoped>\n",
       "    .dataframe tbody tr th:only-of-type {\n",
       "        vertical-align: middle;\n",
       "    }\n",
       "\n",
       "    .dataframe tbody tr th {\n",
       "        vertical-align: top;\n",
       "    }\n",
       "\n",
       "    .dataframe thead th {\n",
       "        text-align: right;\n",
       "    }\n",
       "</style>\n",
       "<table border=\"1\" class=\"dataframe\">\n",
       "  <thead>\n",
       "    <tr style=\"text-align: right;\">\n",
       "      <th></th>\n",
       "      <th>model</th>\n",
       "      <th>precision</th>\n",
       "      <th>recall</th>\n",
       "      <th>fscore</th>\n",
       "      <th>precision_perc</th>\n",
       "      <th>recall_perc</th>\n",
       "      <th>fscore_perc</th>\n",
       "    </tr>\n",
       "  </thead>\n",
       "  <tbody>\n",
       "    <tr>\n",
       "      <th>0</th>\n",
       "      <td>LSI_Model_TC_BR</td>\n",
       "      <td>0.021505</td>\n",
       "      <td>0.002230</td>\n",
       "      <td>0.004017</td>\n",
       "      <td>2.150538</td>\n",
       "      <td>0.222965</td>\n",
       "      <td>0.401749</td>\n",
       "    </tr>\n",
       "    <tr>\n",
       "      <th>1</th>\n",
       "      <td>LDA_Model_TC_BR</td>\n",
       "      <td>0.068332</td>\n",
       "      <td>0.123814</td>\n",
       "      <td>0.080151</td>\n",
       "      <td>6.833160</td>\n",
       "      <td>12.381416</td>\n",
       "      <td>8.015097</td>\n",
       "    </tr>\n",
       "    <tr>\n",
       "      <th>2</th>\n",
       "      <td>BM25_Model_TC_BR</td>\n",
       "      <td>0.111342</td>\n",
       "      <td>0.221944</td>\n",
       "      <td>0.135566</td>\n",
       "      <td>11.134235</td>\n",
       "      <td>22.194412</td>\n",
       "      <td>13.556611</td>\n",
       "    </tr>\n",
       "    <tr>\n",
       "      <th>3</th>\n",
       "      <td>WordVec_Model_TC_BR</td>\n",
       "      <td>0.066944</td>\n",
       "      <td>0.110223</td>\n",
       "      <td>0.076164</td>\n",
       "      <td>6.694416</td>\n",
       "      <td>11.022280</td>\n",
       "      <td>7.616369</td>\n",
       "    </tr>\n",
       "  </tbody>\n",
       "</table>\n",
       "</div>"
      ],
      "text/plain": [
       "                 model  precision    recall    fscore  precision_perc  \\\n",
       "0      LSI_Model_TC_BR   0.021505  0.002230  0.004017        2.150538   \n",
       "1      LDA_Model_TC_BR   0.068332  0.123814  0.080151        6.833160   \n",
       "2     BM25_Model_TC_BR   0.111342  0.221944  0.135566       11.134235   \n",
       "3  WordVec_Model_TC_BR   0.066944  0.110223  0.076164        6.694416   \n",
       "\n",
       "   recall_perc  fscore_perc  \n",
       "0     0.222965     0.401749  \n",
       "1    12.381416     8.015097  \n",
       "2    22.194412    13.556611  \n",
       "3    11.022280     7.616369  "
      ]
     },
     "execution_count": 12,
     "metadata": {},
     "output_type": "execute_result"
    }
   ],
   "source": [
    "results_4 = aux_functions.compile_results({'lsi_model':lsi_model_4,'lda_model':lda_model_4,'bm25_model':bm25_model_4,'w2v_model':w2v_model_4,\n",
    "                                         'lsi_eval':lsi_eval_4, 'lda_eval':lda_eval_4, 'bm25_eval':bm25_eval_4, 'w2v_eval':w2v_eval_4})\n",
    "results_4.head()"
   ]
  },
  {
   "cell_type": "markdown",
   "metadata": {},
   "source": [
    "### Plots"
   ]
  },
  {
   "cell_type": "code",
   "execution_count": 13,
   "metadata": {},
   "outputs": [
    {
     "data": {
      "image/png": "[encoded data removed]",
      "text/plain": [
       "<Figure size 1440x360 with 3 Axes>"
      ]
     },
     "metadata": {
      "needs_background": "light"
     },
     "output_type": "display_data"
    }
   ],
   "source": [
    "aux_functions.plot_results(results_4, title='Volunteers Only Strategy')"
   ]
  }
 ],
 "metadata": {
  "kernelspec": {
   "display_name": "Python 3",
   "language": "python",
   "name": "python3"
  },
  "language_info": {
   "codemirror_mode": {
    "name": "ipython",
    "version": 3
   },
   "file_extension": ".py",
   "mimetype": "text/x-python",
   "name": "python",
   "nbconvert_exporter": "python",
   "pygments_lexer": "ipython3",
   "version": "3.6.6"
  }
 },
 "nbformat": 4,
 "nbformat_minor": 2
}

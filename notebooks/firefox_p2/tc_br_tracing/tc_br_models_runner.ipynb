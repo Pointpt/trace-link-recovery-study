{
 "cells": [
  {
   "cell_type": "markdown",
   "metadata": {},
   "source": [
    "# Introduction\n",
    "\n",
    "Notebook to aggregate the running of models in the context of traceability between features and bug reports."
   ]
  },
  {
   "cell_type": "markdown",
   "metadata": {},
   "source": [
    "# Load Libraries and Datasets"
   ]
  },
  {
   "cell_type": "code",
   "execution_count": 1,
   "metadata": {},
   "outputs": [],
   "source": [
    "from mod_finder_util import mod_finder_util\n",
    "mod_finder_util.add_modules_origin_search_path()\n",
    "\n",
    "import pandas as pd\n",
    "import seaborn as sns\n",
    "from matplotlib import pyplot as plt\n",
    "\n",
    "from modules.models_runner.tc_br_runner import TC_BR_Runner\n",
    "from modules.utils import aux_functions\n",
    "from modules.utils import firefox_dataset_p2 as fd\n",
    "\n",
    "import warnings; warnings.simplefilter('ignore')"
   ]
  },
  {
   "cell_type": "markdown",
   "metadata": {},
   "source": [
    "# Run All Models"
   ]
  },
  {
   "cell_type": "markdown",
   "metadata": {},
   "source": [
    "## Union Strategy"
   ]
  },
  {
   "cell_type": "code",
   "execution_count": 2,
   "metadata": {},
   "outputs": [
    {
     "name": "stdout",
     "output_type": "stream",
     "text": [
      "OracleExpertVolunteers_UNION.shape: (207, 93)\n",
      "TestCases.shape: (207, 12)\n",
      "SelectedBugReports.shape: (93, 18)\n",
      "\n",
      "Model Evaluation -------------------------------------------\n",
      "\n",
      "Model Evaluation -------------------------------------------\n",
      "\n",
      "Model Evaluation -------------------------------------------\n",
      "\n",
      "Model Evaluation -------------------------------------------\n"
     ]
    }
   ],
   "source": [
    "runner_1 = TC_BR_Runner(oracle=fd.Tc_BR_Oracles.read_oracle_expert_volunteers_union_df())\n",
    "\n",
    "lsi_model_1, lsi_eval_1 = runner_1.run_lsi_model()\n",
    "lda_model_1, lda_eval_1 = runner_1.run_lda_model()\n",
    "bm25_model_1, bm25_eval_1 = runner_1.run_bm25_model()\n",
    "w2v_model_1, w2v_eval_1 = runner_1.run_word2vec_model()"
   ]
  },
  {
   "cell_type": "markdown",
   "metadata": {},
   "source": [
    "### Results"
   ]
  },
  {
   "cell_type": "code",
   "execution_count": 3,
   "metadata": {},
   "outputs": [
    {
     "data": {
      "text/html": [
       "<div>\n",
       "<style scoped>\n",
       "    .dataframe tbody tr th:only-of-type {\n",
       "        vertical-align: middle;\n",
       "    }\n",
       "\n",
       "    .dataframe tbody tr th {\n",
       "        vertical-align: top;\n",
       "    }\n",
       "\n",
       "    .dataframe thead th {\n",
       "        text-align: right;\n",
       "    }\n",
       "</style>\n",
       "<table border=\"1\" class=\"dataframe\">\n",
       "  <thead>\n",
       "    <tr style=\"text-align: right;\">\n",
       "      <th></th>\n",
       "      <th>model</th>\n",
       "      <th>precision</th>\n",
       "      <th>recall</th>\n",
       "      <th>fscore</th>\n",
       "      <th>precision_perc</th>\n",
       "      <th>recall_perc</th>\n",
       "      <th>fscore_perc</th>\n",
       "    </tr>\n",
       "  </thead>\n",
       "  <tbody>\n",
       "    <tr>\n",
       "      <th>0</th>\n",
       "      <td>LSI_Model_TC_BR</td>\n",
       "      <td>0.016129</td>\n",
       "      <td>0.003584</td>\n",
       "      <td>0.005760</td>\n",
       "      <td>1.612903</td>\n",
       "      <td>0.358423</td>\n",
       "      <td>0.576037</td>\n",
       "    </tr>\n",
       "    <tr>\n",
       "      <th>1</th>\n",
       "      <td>LDA_Model_TC_BR</td>\n",
       "      <td>0.091535</td>\n",
       "      <td>0.143114</td>\n",
       "      <td>0.103691</td>\n",
       "      <td>9.153477</td>\n",
       "      <td>14.311358</td>\n",
       "      <td>10.369075</td>\n",
       "    </tr>\n",
       "    <tr>\n",
       "      <th>2</th>\n",
       "      <td>BM25_Model_TC_BR</td>\n",
       "      <td>0.089490</td>\n",
       "      <td>0.140536</td>\n",
       "      <td>0.098259</td>\n",
       "      <td>8.949011</td>\n",
       "      <td>14.053631</td>\n",
       "      <td>9.825926</td>\n",
       "    </tr>\n",
       "    <tr>\n",
       "      <th>3</th>\n",
       "      <td>WordVec_Model_TC_BR</td>\n",
       "      <td>0.055401</td>\n",
       "      <td>0.071364</td>\n",
       "      <td>0.057917</td>\n",
       "      <td>5.540140</td>\n",
       "      <td>7.136447</td>\n",
       "      <td>5.791705</td>\n",
       "    </tr>\n",
       "  </tbody>\n",
       "</table>\n",
       "</div>"
      ],
      "text/plain": [
       "                 model  precision    recall    fscore  precision_perc  \\\n",
       "0      LSI_Model_TC_BR   0.016129  0.003584  0.005760        1.612903   \n",
       "1      LDA_Model_TC_BR   0.091535  0.143114  0.103691        9.153477   \n",
       "2     BM25_Model_TC_BR   0.089490  0.140536  0.098259        8.949011   \n",
       "3  WordVec_Model_TC_BR   0.055401  0.071364  0.057917        5.540140   \n",
       "\n",
       "   recall_perc  fscore_perc  \n",
       "0     0.358423     0.576037  \n",
       "1    14.311358    10.369075  \n",
       "2    14.053631     9.825926  \n",
       "3     7.136447     5.791705  "
      ]
     },
     "execution_count": 3,
     "metadata": {},
     "output_type": "execute_result"
    }
   ],
   "source": [
    "results_1 = aux_functions.compile_results({'lsi_model':lsi_model_1,'lda_model':lda_model_1,'bm25_model':bm25_model_1,'w2v_model':w2v_model_1,\n",
    "                                         'lsi_eval':lsi_eval_1, 'lda_eval':lda_eval_1, 'bm25_eval':bm25_eval_1, 'w2v_eval':w2v_eval_1})\n",
    "results_1.head()"
   ]
  },
  {
   "cell_type": "markdown",
   "metadata": {},
   "source": [
    "### Plots"
   ]
  },
  {
   "cell_type": "code",
   "execution_count": 4,
   "metadata": {},
   "outputs": [
    {
     "data": {
      "image/png": "[encoded data removed]",
      "text/plain": [
       "<Figure size 1440x360 with 3 Axes>"
      ]
     },
     "metadata": {
      "needs_background": "light"
     },
     "output_type": "display_data"
    }
   ],
   "source": [
    "aux_functions.plot_results(results_1, title='Exp-Vol Union Strategy')"
   ]
  },
  {
   "cell_type": "markdown",
   "metadata": {},
   "source": [
    "## Intersec Strategy"
   ]
  },
  {
   "cell_type": "code",
   "execution_count": 6,
   "metadata": {},
   "outputs": [
    {
     "name": "stdout",
     "output_type": "stream",
     "text": [
      "OracleExpertVolunteers_INTERSEC.shape: (207, 93)\n",
      "TestCases.shape: (207, 12)\n",
      "SelectedBugReports.shape: (93, 18)\n",
      "\n",
      "Model Evaluation -------------------------------------------\n",
      "\n",
      "Model Evaluation -------------------------------------------\n",
      "\n",
      "Model Evaluation -------------------------------------------\n",
      "\n",
      "Model Evaluation -------------------------------------------\n"
     ]
    }
   ],
   "source": [
    "runner_2 = TC_BR_Runner(oracle=fd.Tc_BR_Oracles.read_oracle_expert_volunteers_intersec_df())\n",
    "\n",
    "lsi_model_2, lsi_eval_2 = runner_2.run_lsi_model()\n",
    "lda_model_2, lda_eval_2 = runner_2.run_lda_model()\n",
    "bm25_model_2, bm25_eval_2 = runner_2.run_bm25_model()\n",
    "w2v_model_2, w2v_eval_2 = runner_2.run_word2vec_model()"
   ]
  },
  {
   "cell_type": "markdown",
   "metadata": {},
   "source": [
    "### Results"
   ]
  },
  {
   "cell_type": "code",
   "execution_count": 7,
   "metadata": {},
   "outputs": [
    {
     "data": {
      "text/html": [
       "<div>\n",
       "<style scoped>\n",
       "    .dataframe tbody tr th:only-of-type {\n",
       "        vertical-align: middle;\n",
       "    }\n",
       "\n",
       "    .dataframe tbody tr th {\n",
       "        vertical-align: top;\n",
       "    }\n",
       "\n",
       "    .dataframe thead th {\n",
       "        text-align: right;\n",
       "    }\n",
       "</style>\n",
       "<table border=\"1\" class=\"dataframe\">\n",
       "  <thead>\n",
       "    <tr style=\"text-align: right;\">\n",
       "      <th></th>\n",
       "      <th>model</th>\n",
       "      <th>precision</th>\n",
       "      <th>recall</th>\n",
       "      <th>fscore</th>\n",
       "      <th>precision_perc</th>\n",
       "      <th>recall_perc</th>\n",
       "      <th>fscore_perc</th>\n",
       "    </tr>\n",
       "  </thead>\n",
       "  <tbody>\n",
       "    <tr>\n",
       "      <th>0</th>\n",
       "      <td>LSI_Model_TC_BR</td>\n",
       "      <td>0.010753</td>\n",
       "      <td>0.001792</td>\n",
       "      <td>0.003072</td>\n",
       "      <td>1.075269</td>\n",
       "      <td>0.179211</td>\n",
       "      <td>0.307220</td>\n",
       "    </tr>\n",
       "    <tr>\n",
       "      <th>1</th>\n",
       "      <td>LDA_Model_TC_BR</td>\n",
       "      <td>0.039542</td>\n",
       "      <td>0.081586</td>\n",
       "      <td>0.051976</td>\n",
       "      <td>3.954214</td>\n",
       "      <td>8.158569</td>\n",
       "      <td>5.197611</td>\n",
       "    </tr>\n",
       "    <tr>\n",
       "      <th>2</th>\n",
       "      <td>BM25_Model_TC_BR</td>\n",
       "      <td>0.029830</td>\n",
       "      <td>0.065064</td>\n",
       "      <td>0.039153</td>\n",
       "      <td>2.983004</td>\n",
       "      <td>6.506369</td>\n",
       "      <td>3.915288</td>\n",
       "    </tr>\n",
       "    <tr>\n",
       "      <th>3</th>\n",
       "      <td>WordVec_Model_TC_BR</td>\n",
       "      <td>0.014221</td>\n",
       "      <td>0.025823</td>\n",
       "      <td>0.017645</td>\n",
       "      <td>1.422130</td>\n",
       "      <td>2.582263</td>\n",
       "      <td>1.764522</td>\n",
       "    </tr>\n",
       "  </tbody>\n",
       "</table>\n",
       "</div>"
      ],
      "text/plain": [
       "                 model  precision    recall    fscore  precision_perc  \\\n",
       "0      LSI_Model_TC_BR   0.010753  0.001792  0.003072        1.075269   \n",
       "1      LDA_Model_TC_BR   0.039542  0.081586  0.051976        3.954214   \n",
       "2     BM25_Model_TC_BR   0.029830  0.065064  0.039153        2.983004   \n",
       "3  WordVec_Model_TC_BR   0.014221  0.025823  0.017645        1.422130   \n",
       "\n",
       "   recall_perc  fscore_perc  \n",
       "0     0.179211     0.307220  \n",
       "1     8.158569     5.197611  \n",
       "2     6.506369     3.915288  \n",
       "3     2.582263     1.764522  "
      ]
     },
     "execution_count": 7,
     "metadata": {},
     "output_type": "execute_result"
    }
   ],
   "source": [
    "results_2 = aux_functions.compile_results({'lsi_model':lsi_model_2,'lda_model':lda_model_2,'bm25_model':bm25_model_2,'w2v_model':w2v_model_2,\n",
    "                                         'lsi_eval':lsi_eval_2, 'lda_eval':lda_eval_2, 'bm25_eval':bm25_eval_2, 'w2v_eval':w2v_eval_2})\n",
    "results_2.head()"
   ]
  },
  {
   "cell_type": "markdown",
   "metadata": {},
   "source": [
    "### Plots"
   ]
  },
  {
   "cell_type": "code",
   "execution_count": 15,
   "metadata": {},
   "outputs": [
    {
     "data": {
      "image/png": "[encoded data removed]",
      "text/plain": [
       "<Figure size 1440x360 with 3 Axes>"
      ]
     },
     "metadata": {
      "needs_background": "light"
     },
     "output_type": "display_data"
    }
   ],
   "source": [
    "aux_functions.plot_results(results_2, title='Exp-Vol Intersec Strategy')"
   ]
  },
  {
   "cell_type": "markdown",
   "metadata": {},
   "source": [
    "## Expert Only Strategy"
   ]
  },
  {
   "cell_type": "code",
   "execution_count": 9,
   "metadata": {},
   "outputs": [
    {
     "name": "stdout",
     "output_type": "stream",
     "text": [
      "OracleExpert.shape: (207, 93)\n",
      "TestCases.shape: (207, 12)\n",
      "SelectedBugReports.shape: (93, 18)\n",
      "\n",
      "Model Evaluation -------------------------------------------\n",
      "\n",
      "Model Evaluation -------------------------------------------\n",
      "\n",
      "Model Evaluation -------------------------------------------\n",
      "\n",
      "Model Evaluation -------------------------------------------\n"
     ]
    }
   ],
   "source": [
    "runner_3 = TC_BR_Runner(oracle=fd.Tc_BR_Oracles.read_oracle_expert_df())\n",
    "\n",
    "lsi_model_3, lsi_eval_3 = runner_3.run_lsi_model()\n",
    "lda_model_3, lda_eval_3 = runner_3.run_lda_model()\n",
    "bm25_model_3, bm25_eval_3 = runner_3.run_bm25_model()\n",
    "w2v_model_3, w2v_eval_3 = runner_3.run_word2vec_model()"
   ]
  },
  {
   "cell_type": "markdown",
   "metadata": {},
   "source": [
    "### Results"
   ]
  },
  {
   "cell_type": "code",
   "execution_count": 10,
   "metadata": {},
   "outputs": [
    {
     "data": {
      "text/html": [
       "<div>\n",
       "<style scoped>\n",
       "    .dataframe tbody tr th:only-of-type {\n",
       "        vertical-align: middle;\n",
       "    }\n",
       "\n",
       "    .dataframe tbody tr th {\n",
       "        vertical-align: top;\n",
       "    }\n",
       "\n",
       "    .dataframe thead th {\n",
       "        text-align: right;\n",
       "    }\n",
       "</style>\n",
       "<table border=\"1\" class=\"dataframe\">\n",
       "  <thead>\n",
       "    <tr style=\"text-align: right;\">\n",
       "      <th></th>\n",
       "      <th>model</th>\n",
       "      <th>precision</th>\n",
       "      <th>recall</th>\n",
       "      <th>fscore</th>\n",
       "      <th>precision_perc</th>\n",
       "      <th>recall_perc</th>\n",
       "      <th>fscore_perc</th>\n",
       "    </tr>\n",
       "  </thead>\n",
       "  <tbody>\n",
       "    <tr>\n",
       "      <th>0</th>\n",
       "      <td>LSI_Model_TC_BR</td>\n",
       "      <td>0.010753</td>\n",
       "      <td>0.001792</td>\n",
       "      <td>0.003072</td>\n",
       "      <td>1.075269</td>\n",
       "      <td>0.179211</td>\n",
       "      <td>0.307220</td>\n",
       "    </tr>\n",
       "    <tr>\n",
       "      <th>1</th>\n",
       "      <td>LDA_Model_TC_BR</td>\n",
       "      <td>0.054202</td>\n",
       "      <td>0.104288</td>\n",
       "      <td>0.068547</td>\n",
       "      <td>5.420158</td>\n",
       "      <td>10.428821</td>\n",
       "      <td>6.854741</td>\n",
       "    </tr>\n",
       "    <tr>\n",
       "      <th>2</th>\n",
       "      <td>BM25_Model_TC_BR</td>\n",
       "      <td>0.044745</td>\n",
       "      <td>0.094684</td>\n",
       "      <td>0.056193</td>\n",
       "      <td>4.474506</td>\n",
       "      <td>9.468389</td>\n",
       "      <td>5.619280</td>\n",
       "    </tr>\n",
       "    <tr>\n",
       "      <th>3</th>\n",
       "      <td>WordVec_Model_TC_BR</td>\n",
       "      <td>0.024974</td>\n",
       "      <td>0.045904</td>\n",
       "      <td>0.029579</td>\n",
       "      <td>2.497399</td>\n",
       "      <td>4.590391</td>\n",
       "      <td>2.957907</td>\n",
       "    </tr>\n",
       "  </tbody>\n",
       "</table>\n",
       "</div>"
      ],
      "text/plain": [
       "                 model  precision    recall    fscore  precision_perc  \\\n",
       "0      LSI_Model_TC_BR   0.010753  0.001792  0.003072        1.075269   \n",
       "1      LDA_Model_TC_BR   0.054202  0.104288  0.068547        5.420158   \n",
       "2     BM25_Model_TC_BR   0.044745  0.094684  0.056193        4.474506   \n",
       "3  WordVec_Model_TC_BR   0.024974  0.045904  0.029579        2.497399   \n",
       "\n",
       "   recall_perc  fscore_perc  \n",
       "0     0.179211     0.307220  \n",
       "1    10.428821     6.854741  \n",
       "2     9.468389     5.619280  \n",
       "3     4.590391     2.957907  "
      ]
     },
     "execution_count": 10,
     "metadata": {},
     "output_type": "execute_result"
    }
   ],
   "source": [
    "results_3 = aux_functions.compile_results({'lsi_model':lsi_model_3,'lda_model':lda_model_3,'bm25_model':bm25_model_3,'w2v_model':w2v_model_3,\n",
    "                                         'lsi_eval':lsi_eval_3, 'lda_eval':lda_eval_3, 'bm25_eval':bm25_eval_3, 'w2v_eval':w2v_eval_3})\n",
    "results_3.head()"
   ]
  },
  {
   "cell_type": "markdown",
   "metadata": {},
   "source": [
    "### Plots"
   ]
  },
  {
   "cell_type": "code",
   "execution_count": 11,
   "metadata": {},
   "outputs": [
    {
     "data": {
      "image/png": "[encoded data removed]",
      "text/plain": [
       "<Figure size 1440x360 with 3 Axes>"
      ]
     },
     "metadata": {
      "needs_background": "light"
     },
     "output_type": "display_data"
    }
   ],
   "source": [
    "aux_functions.plot_results(results_3, title='Expert Only Strategy')"
   ]
  },
  {
   "cell_type": "markdown",
   "metadata": {},
   "source": [
    "## Volunteers Only Strategy"
   ]
  },
  {
   "cell_type": "code",
   "execution_count": 12,
   "metadata": {},
   "outputs": [
    {
     "name": "stdout",
     "output_type": "stream",
     "text": [
      "OracleVolunteers.shape: (207, 93)\n",
      "TestCases.shape: (207, 12)\n",
      "SelectedBugReports.shape: (93, 18)\n",
      "\n",
      "Model Evaluation -------------------------------------------\n",
      "\n",
      "Model Evaluation -------------------------------------------\n",
      "\n",
      "Model Evaluation -------------------------------------------\n",
      "\n",
      "Model Evaluation -------------------------------------------\n"
     ]
    }
   ],
   "source": [
    "runner_4 = TC_BR_Runner(oracle=fd.Tc_BR_Oracles.read_oracle_volunteers_df())\n",
    "\n",
    "lsi_model_4, lsi_eval_4 = runner_4.run_lsi_model()\n",
    "lda_model_4, lda_eval_4 = runner_4.run_lda_model()\n",
    "bm25_model_4, bm25_eval_4 = runner_4.run_bm25_model()\n",
    "w2v_model_4, w2v_eval_4 = runner_4.run_word2vec_model()"
   ]
  },
  {
   "cell_type": "markdown",
   "metadata": {},
   "source": [
    "### Results"
   ]
  },
  {
   "cell_type": "code",
   "execution_count": 13,
   "metadata": {},
   "outputs": [
    {
     "data": {
      "text/html": [
       "<div>\n",
       "<style scoped>\n",
       "    .dataframe tbody tr th:only-of-type {\n",
       "        vertical-align: middle;\n",
       "    }\n",
       "\n",
       "    .dataframe tbody tr th {\n",
       "        vertical-align: top;\n",
       "    }\n",
       "\n",
       "    .dataframe thead th {\n",
       "        text-align: right;\n",
       "    }\n",
       "</style>\n",
       "<table border=\"1\" class=\"dataframe\">\n",
       "  <thead>\n",
       "    <tr style=\"text-align: right;\">\n",
       "      <th></th>\n",
       "      <th>model</th>\n",
       "      <th>precision</th>\n",
       "      <th>recall</th>\n",
       "      <th>fscore</th>\n",
       "      <th>precision_perc</th>\n",
       "      <th>recall_perc</th>\n",
       "      <th>fscore_perc</th>\n",
       "    </tr>\n",
       "  </thead>\n",
       "  <tbody>\n",
       "    <tr>\n",
       "      <th>0</th>\n",
       "      <td>LSI_Model_TC_BR</td>\n",
       "      <td>0.016129</td>\n",
       "      <td>0.003584</td>\n",
       "      <td>0.005760</td>\n",
       "      <td>1.612903</td>\n",
       "      <td>0.358423</td>\n",
       "      <td>0.576037</td>\n",
       "    </tr>\n",
       "    <tr>\n",
       "      <th>1</th>\n",
       "      <td>LDA_Model_TC_BR</td>\n",
       "      <td>0.073754</td>\n",
       "      <td>0.139103</td>\n",
       "      <td>0.088420</td>\n",
       "      <td>7.375358</td>\n",
       "      <td>13.910267</td>\n",
       "      <td>8.841966</td>\n",
       "    </tr>\n",
       "    <tr>\n",
       "      <th>2</th>\n",
       "      <td>BM25_Model_TC_BR</td>\n",
       "      <td>0.074575</td>\n",
       "      <td>0.129381</td>\n",
       "      <td>0.084590</td>\n",
       "      <td>7.457510</td>\n",
       "      <td>12.938093</td>\n",
       "      <td>8.459039</td>\n",
       "    </tr>\n",
       "    <tr>\n",
       "      <th>3</th>\n",
       "      <td>WordVec_Model_TC_BR</td>\n",
       "      <td>0.044649</td>\n",
       "      <td>0.062753</td>\n",
       "      <td>0.048113</td>\n",
       "      <td>4.464871</td>\n",
       "      <td>6.275312</td>\n",
       "      <td>4.811338</td>\n",
       "    </tr>\n",
       "  </tbody>\n",
       "</table>\n",
       "</div>"
      ],
      "text/plain": [
       "                 model  precision    recall    fscore  precision_perc  \\\n",
       "0      LSI_Model_TC_BR   0.016129  0.003584  0.005760        1.612903   \n",
       "1      LDA_Model_TC_BR   0.073754  0.139103  0.088420        7.375358   \n",
       "2     BM25_Model_TC_BR   0.074575  0.129381  0.084590        7.457510   \n",
       "3  WordVec_Model_TC_BR   0.044649  0.062753  0.048113        4.464871   \n",
       "\n",
       "   recall_perc  fscore_perc  \n",
       "0     0.358423     0.576037  \n",
       "1    13.910267     8.841966  \n",
       "2    12.938093     8.459039  \n",
       "3     6.275312     4.811338  "
      ]
     },
     "execution_count": 13,
     "metadata": {},
     "output_type": "execute_result"
    }
   ],
   "source": [
    "results_4 = aux_functions.compile_results({'lsi_model':lsi_model_4,'lda_model':lda_model_4,'bm25_model':bm25_model_4,'w2v_model':w2v_model_4,\n",
    "                                         'lsi_eval':lsi_eval_4, 'lda_eval':lda_eval_4, 'bm25_eval':bm25_eval_4, 'w2v_eval':w2v_eval_4})\n",
    "results_4.head()"
   ]
  },
  {
   "cell_type": "markdown",
   "metadata": {},
   "source": [
    "### Plots"
   ]
  },
  {
   "cell_type": "code",
   "execution_count": 14,
   "metadata": {},
   "outputs": [
    {
     "data": {
      "image/png": "[encoded data removed]",
      "text/plain": [
       "<Figure size 1440x360 with 3 Axes>"
      ]
     },
     "metadata": {
      "needs_background": "light"
     },
     "output_type": "display_data"
    }
   ],
   "source": [
    "aux_functions.plot_results(results_4, title='Volunteers Only Strategy')"
   ]
  }
 ],
 "metadata": {
  "kernelspec": {
   "display_name": "Python 3",
   "language": "python",
   "name": "python3"
  },
  "language_info": {
   "codemirror_mode": {
    "name": "ipython",
    "version": 3
   },
   "file_extension": ".py",
   "mimetype": "text/x-python",
   "name": "python",
   "nbconvert_exporter": "python",
   "pygments_lexer": "ipython3",
   "version": "3.6.6"
  }
 },
 "nbformat": 4,
 "nbformat_minor": 2
}

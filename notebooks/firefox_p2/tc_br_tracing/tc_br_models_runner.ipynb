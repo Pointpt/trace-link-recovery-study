{
 "cells": [
  {
   "cell_type": "markdown",
   "metadata": {},
   "source": [
    "# Introduction\n",
    "\n",
    "Notebook to aggregate the running of models in the context of traceability between features and bug reports."
   ]
  },
  {
   "cell_type": "markdown",
   "metadata": {},
   "source": [
    "# Load Libraries and Datasets"
   ]
  },
  {
   "cell_type": "code",
   "execution_count": 1,
   "metadata": {},
   "outputs": [],
   "source": [
    "from mod_finder_util import mod_finder_util\n",
    "mod_finder_util.add_modules_origin_search_path()\n",
    "\n",
    "import pandas as pd\n",
    "import seaborn as sns\n",
    "from matplotlib import pyplot as plt\n",
    "\n",
    "from modules.models_runner.tc_br_runner import TC_BR_Runner\n",
    "from modules.utils import aux_functions\n",
    "from modules.utils import firefox_dataset_p2 as fd\n",
    "\n",
    "import warnings; warnings.simplefilter('ignore')"
   ]
  },
  {
   "cell_type": "markdown",
   "metadata": {},
   "source": [
    "# Run All Models"
   ]
  },
  {
   "cell_type": "markdown",
   "metadata": {},
   "source": [
    "## Union Strategy"
   ]
  },
  {
   "cell_type": "code",
   "execution_count": 2,
   "metadata": {},
   "outputs": [
    {
     "name": "stdout",
     "output_type": "stream",
     "text": [
      "OracleExpertVolunteers_UNION.shape: (207, 93)\n",
      "TestCases.shape: (207, 12)\n",
      "SelectedBugReports.shape: (93, 18)\n",
      "\n",
      "Model Evaluation -------------------------------------------\n",
      "\n",
      "Model Evaluation -------------------------------------------\n",
      "\n",
      "Model Evaluation -------------------------------------------\n",
      "\n",
      "Model Evaluation -------------------------------------------\n"
     ]
    }
   ],
   "source": [
    "runner_1 = TC_BR_Runner(oracle=fd.Tc_BR_Oracles.read_oracle_expert_volunteers_union_df())\n",
    "\n",
    "lsi_model_1, lsi_eval_1 = runner_1.run_lsi_model()\n",
    "lda_model_1, lda_eval_1 = runner_1.run_lda_model()\n",
    "bm25_model_1, bm25_eval_1 = runner_1.run_bm25_model()\n",
    "w2v_model_1, w2v_eval_1 = runner_1.run_word2vec_model()"
   ]
  },
  {
   "cell_type": "markdown",
   "metadata": {},
   "source": [
    "### Results"
   ]
  },
  {
   "cell_type": "code",
   "execution_count": 3,
   "metadata": {},
   "outputs": [
    {
     "data": {
      "text/html": [
       "<div>\n",
       "<style scoped>\n",
       "    .dataframe tbody tr th:only-of-type {\n",
       "        vertical-align: middle;\n",
       "    }\n",
       "\n",
       "    .dataframe tbody tr th {\n",
       "        vertical-align: top;\n",
       "    }\n",
       "\n",
       "    .dataframe thead th {\n",
       "        text-align: right;\n",
       "    }\n",
       "</style>\n",
       "<table border=\"1\" class=\"dataframe\">\n",
       "  <thead>\n",
       "    <tr style=\"text-align: right;\">\n",
       "      <th></th>\n",
       "      <th>model</th>\n",
       "      <th>precision</th>\n",
       "      <th>recall</th>\n",
       "      <th>fscore</th>\n",
       "      <th>precision_perc</th>\n",
       "      <th>recall_perc</th>\n",
       "      <th>fscore_perc</th>\n",
       "    </tr>\n",
       "  </thead>\n",
       "  <tbody>\n",
       "    <tr>\n",
       "      <th>0</th>\n",
       "      <td>LSI_Model_TC_BR</td>\n",
       "      <td>0.053763</td>\n",
       "      <td>0.004537</td>\n",
       "      <td>0.008286</td>\n",
       "      <td>5.376344</td>\n",
       "      <td>0.453708</td>\n",
       "      <td>0.828613</td>\n",
       "    </tr>\n",
       "    <tr>\n",
       "      <th>1</th>\n",
       "      <td>LDA_Model_TC_BR</td>\n",
       "      <td>0.104752</td>\n",
       "      <td>0.145643</td>\n",
       "      <td>0.111071</td>\n",
       "      <td>10.475199</td>\n",
       "      <td>14.564323</td>\n",
       "      <td>11.107107</td>\n",
       "    </tr>\n",
       "    <tr>\n",
       "      <th>2</th>\n",
       "      <td>BM25_Model_TC_BR</td>\n",
       "      <td>0.170309</td>\n",
       "      <td>0.262590</td>\n",
       "      <td>0.189342</td>\n",
       "      <td>17.030871</td>\n",
       "      <td>26.258985</td>\n",
       "      <td>18.934236</td>\n",
       "    </tr>\n",
       "    <tr>\n",
       "      <th>3</th>\n",
       "      <td>WordVec_Model_TC_BR</td>\n",
       "      <td>0.105099</td>\n",
       "      <td>0.130004</td>\n",
       "      <td>0.107441</td>\n",
       "      <td>10.509886</td>\n",
       "      <td>13.000431</td>\n",
       "      <td>10.744065</td>\n",
       "    </tr>\n",
       "  </tbody>\n",
       "</table>\n",
       "</div>"
      ],
      "text/plain": [
       "                 model  precision    recall    fscore  precision_perc  \\\n",
       "0      LSI_Model_TC_BR   0.053763  0.004537  0.008286        5.376344   \n",
       "1      LDA_Model_TC_BR   0.104752  0.145643  0.111071       10.475199   \n",
       "2     BM25_Model_TC_BR   0.170309  0.262590  0.189342       17.030871   \n",
       "3  WordVec_Model_TC_BR   0.105099  0.130004  0.107441       10.509886   \n",
       "\n",
       "   recall_perc  fscore_perc  \n",
       "0     0.453708     0.828613  \n",
       "1    14.564323    11.107107  \n",
       "2    26.258985    18.934236  \n",
       "3    13.000431    10.744065  "
      ]
     },
     "execution_count": 3,
     "metadata": {},
     "output_type": "execute_result"
    }
   ],
   "source": [
    "results_1 = aux_functions.compile_results({'lsi_model':lsi_model_1,'lda_model':lda_model_1,'bm25_model':bm25_model_1,'w2v_model':w2v_model_1,\n",
    "                                         'lsi_eval':lsi_eval_1, 'lda_eval':lda_eval_1, 'bm25_eval':bm25_eval_1, 'w2v_eval':w2v_eval_1})\n",
    "results_1.head()"
   ]
  },
  {
   "cell_type": "markdown",
   "metadata": {},
   "source": [
    "### Plots"
   ]
  },
  {
   "cell_type": "code",
   "execution_count": 4,
   "metadata": {},
   "outputs": [
    {
     "data": {
      "image/png": "[encoded data removed]",
      "text/plain": [
       "<Figure size 1440x360 with 3 Axes>"
      ]
     },
     "metadata": {
      "needs_background": "light"
     },
     "output_type": "display_data"
    }
   ],
   "source": [
    "aux_functions.plot_results(results_1, title='Exp-Vol Union Strategy')"
   ]
  },
  {
   "cell_type": "markdown",
   "metadata": {},
   "source": [
    "## Intersec Strategy"
   ]
  },
  {
   "cell_type": "code",
   "execution_count": 5,
   "metadata": {},
   "outputs": [
    {
     "name": "stdout",
     "output_type": "stream",
     "text": [
      "OracleExpertVolunteers_INTERSEC.shape: (207, 93)\n",
      "TestCases.shape: (207, 12)\n",
      "SelectedBugReports.shape: (93, 18)\n",
      "\n",
      "Model Evaluation -------------------------------------------\n",
      "\n",
      "Model Evaluation -------------------------------------------\n",
      "\n",
      "Model Evaluation -------------------------------------------\n",
      "\n",
      "Model Evaluation -------------------------------------------\n"
     ]
    }
   ],
   "source": [
    "runner_2 = TC_BR_Runner(oracle=fd.Tc_BR_Oracles.read_oracle_expert_volunteers_intersec_df())\n",
    "\n",
    "lsi_model_2, lsi_eval_2 = runner_2.run_lsi_model()\n",
    "lda_model_2, lda_eval_2 = runner_2.run_lda_model()\n",
    "bm25_model_2, bm25_eval_2 = runner_2.run_bm25_model()\n",
    "w2v_model_2, w2v_eval_2 = runner_2.run_word2vec_model()"
   ]
  },
  {
   "cell_type": "markdown",
   "metadata": {},
   "source": [
    "### Results"
   ]
  },
  {
   "cell_type": "code",
   "execution_count": 6,
   "metadata": {},
   "outputs": [
    {
     "data": {
      "text/html": [
       "<div>\n",
       "<style scoped>\n",
       "    .dataframe tbody tr th:only-of-type {\n",
       "        vertical-align: middle;\n",
       "    }\n",
       "\n",
       "    .dataframe tbody tr th {\n",
       "        vertical-align: top;\n",
       "    }\n",
       "\n",
       "    .dataframe thead th {\n",
       "        text-align: right;\n",
       "    }\n",
       "</style>\n",
       "<table border=\"1\" class=\"dataframe\">\n",
       "  <thead>\n",
       "    <tr style=\"text-align: right;\">\n",
       "      <th></th>\n",
       "      <th>model</th>\n",
       "      <th>precision</th>\n",
       "      <th>recall</th>\n",
       "      <th>fscore</th>\n",
       "      <th>precision_perc</th>\n",
       "      <th>recall_perc</th>\n",
       "      <th>fscore_perc</th>\n",
       "    </tr>\n",
       "  </thead>\n",
       "  <tbody>\n",
       "    <tr>\n",
       "      <th>0</th>\n",
       "      <td>LSI_Model_TC_BR</td>\n",
       "      <td>0.010753</td>\n",
       "      <td>0.001792</td>\n",
       "      <td>0.003072</td>\n",
       "      <td>1.075269</td>\n",
       "      <td>0.179211</td>\n",
       "      <td>0.307220</td>\n",
       "    </tr>\n",
       "    <tr>\n",
       "      <th>1</th>\n",
       "      <td>LDA_Model_TC_BR</td>\n",
       "      <td>0.031564</td>\n",
       "      <td>0.069913</td>\n",
       "      <td>0.042178</td>\n",
       "      <td>3.156434</td>\n",
       "      <td>6.991300</td>\n",
       "      <td>4.217841</td>\n",
       "    </tr>\n",
       "    <tr>\n",
       "      <th>2</th>\n",
       "      <td>BM25_Model_TC_BR</td>\n",
       "      <td>0.067638</td>\n",
       "      <td>0.145430</td>\n",
       "      <td>0.087817</td>\n",
       "      <td>6.763788</td>\n",
       "      <td>14.543017</td>\n",
       "      <td>8.781724</td>\n",
       "    </tr>\n",
       "    <tr>\n",
       "      <th>3</th>\n",
       "      <td>WordVec_Model_TC_BR</td>\n",
       "      <td>0.035033</td>\n",
       "      <td>0.068959</td>\n",
       "      <td>0.042879</td>\n",
       "      <td>3.503295</td>\n",
       "      <td>6.895945</td>\n",
       "      <td>4.287869</td>\n",
       "    </tr>\n",
       "  </tbody>\n",
       "</table>\n",
       "</div>"
      ],
      "text/plain": [
       "                 model  precision    recall    fscore  precision_perc  \\\n",
       "0      LSI_Model_TC_BR   0.010753  0.001792  0.003072        1.075269   \n",
       "1      LDA_Model_TC_BR   0.031564  0.069913  0.042178        3.156434   \n",
       "2     BM25_Model_TC_BR   0.067638  0.145430  0.087817        6.763788   \n",
       "3  WordVec_Model_TC_BR   0.035033  0.068959  0.042879        3.503295   \n",
       "\n",
       "   recall_perc  fscore_perc  \n",
       "0     0.179211     0.307220  \n",
       "1     6.991300     4.217841  \n",
       "2    14.543017     8.781724  \n",
       "3     6.895945     4.287869  "
      ]
     },
     "execution_count": 6,
     "metadata": {},
     "output_type": "execute_result"
    }
   ],
   "source": [
    "results_2 = aux_functions.compile_results({'lsi_model':lsi_model_2,'lda_model':lda_model_2,'bm25_model':bm25_model_2,'w2v_model':w2v_model_2,\n",
    "                                         'lsi_eval':lsi_eval_2, 'lda_eval':lda_eval_2, 'bm25_eval':bm25_eval_2, 'w2v_eval':w2v_eval_2})\n",
    "results_2.head()"
   ]
  },
  {
   "cell_type": "markdown",
   "metadata": {},
   "source": [
    "### Plots"
   ]
  },
  {
   "cell_type": "code",
   "execution_count": 7,
   "metadata": {},
   "outputs": [
    {
     "data": {
      "image/png": "[encoded data removed]",
      "text/plain": [
       "<Figure size 1440x360 with 3 Axes>"
      ]
     },
     "metadata": {
      "needs_background": "light"
     },
     "output_type": "display_data"
    }
   ],
   "source": [
    "aux_functions.plot_results(results_2, title='Exp-Vol Intersec Strategy')"
   ]
  },
  {
   "cell_type": "markdown",
   "metadata": {},
   "source": [
    "## Expert Only Strategy"
   ]
  },
  {
   "cell_type": "code",
   "execution_count": 8,
   "metadata": {},
   "outputs": [
    {
     "name": "stdout",
     "output_type": "stream",
     "text": [
      "OracleExpert.shape: (207, 93)\n",
      "TestCases.shape: (207, 12)\n",
      "SelectedBugReports.shape: (93, 18)\n",
      "\n",
      "Model Evaluation -------------------------------------------\n",
      "\n",
      "Model Evaluation -------------------------------------------\n",
      "\n",
      "Model Evaluation -------------------------------------------\n",
      "\n",
      "Model Evaluation -------------------------------------------\n"
     ]
    }
   ],
   "source": [
    "runner_3 = TC_BR_Runner(oracle=fd.Tc_BR_Oracles.read_oracle_expert_df())\n",
    "\n",
    "lsi_model_3, lsi_eval_3 = runner_3.run_lsi_model()\n",
    "lda_model_3, lda_eval_3 = runner_3.run_lda_model()\n",
    "bm25_model_3, bm25_eval_3 = runner_3.run_bm25_model()\n",
    "w2v_model_3, w2v_eval_3 = runner_3.run_word2vec_model()"
   ]
  },
  {
   "cell_type": "markdown",
   "metadata": {},
   "source": [
    "### Results"
   ]
  },
  {
   "cell_type": "code",
   "execution_count": 9,
   "metadata": {},
   "outputs": [
    {
     "data": {
      "text/html": [
       "<div>\n",
       "<style scoped>\n",
       "    .dataframe tbody tr th:only-of-type {\n",
       "        vertical-align: middle;\n",
       "    }\n",
       "\n",
       "    .dataframe tbody tr th {\n",
       "        vertical-align: top;\n",
       "    }\n",
       "\n",
       "    .dataframe thead th {\n",
       "        text-align: right;\n",
       "    }\n",
       "</style>\n",
       "<table border=\"1\" class=\"dataframe\">\n",
       "  <thead>\n",
       "    <tr style=\"text-align: right;\">\n",
       "      <th></th>\n",
       "      <th>model</th>\n",
       "      <th>precision</th>\n",
       "      <th>recall</th>\n",
       "      <th>fscore</th>\n",
       "      <th>precision_perc</th>\n",
       "      <th>recall_perc</th>\n",
       "      <th>fscore_perc</th>\n",
       "    </tr>\n",
       "  </thead>\n",
       "  <tbody>\n",
       "    <tr>\n",
       "      <th>0</th>\n",
       "      <td>LSI_Model_TC_BR</td>\n",
       "      <td>0.043011</td>\n",
       "      <td>0.007089</td>\n",
       "      <td>0.011611</td>\n",
       "      <td>4.301075</td>\n",
       "      <td>0.708897</td>\n",
       "      <td>1.161110</td>\n",
       "    </tr>\n",
       "    <tr>\n",
       "      <th>1</th>\n",
       "      <td>LDA_Model_TC_BR</td>\n",
       "      <td>0.057926</td>\n",
       "      <td>0.100981</td>\n",
       "      <td>0.069625</td>\n",
       "      <td>5.792577</td>\n",
       "      <td>10.098141</td>\n",
       "      <td>6.962543</td>\n",
       "    </tr>\n",
       "    <tr>\n",
       "      <th>2</th>\n",
       "      <td>BM25_Model_TC_BR</td>\n",
       "      <td>0.122095</td>\n",
       "      <td>0.210159</td>\n",
       "      <td>0.145135</td>\n",
       "      <td>12.209504</td>\n",
       "      <td>21.015922</td>\n",
       "      <td>14.513515</td>\n",
       "    </tr>\n",
       "    <tr>\n",
       "      <th>3</th>\n",
       "      <td>WordVec_Model_TC_BR</td>\n",
       "      <td>0.074922</td>\n",
       "      <td>0.108141</td>\n",
       "      <td>0.082098</td>\n",
       "      <td>7.492196</td>\n",
       "      <td>10.814148</td>\n",
       "      <td>8.209770</td>\n",
       "    </tr>\n",
       "  </tbody>\n",
       "</table>\n",
       "</div>"
      ],
      "text/plain": [
       "                 model  precision    recall    fscore  precision_perc  \\\n",
       "0      LSI_Model_TC_BR   0.043011  0.007089  0.011611        4.301075   \n",
       "1      LDA_Model_TC_BR   0.057926  0.100981  0.069625        5.792577   \n",
       "2     BM25_Model_TC_BR   0.122095  0.210159  0.145135       12.209504   \n",
       "3  WordVec_Model_TC_BR   0.074922  0.108141  0.082098        7.492196   \n",
       "\n",
       "   recall_perc  fscore_perc  \n",
       "0     0.708897     1.161110  \n",
       "1    10.098141     6.962543  \n",
       "2    21.015922    14.513515  \n",
       "3    10.814148     8.209770  "
      ]
     },
     "execution_count": 9,
     "metadata": {},
     "output_type": "execute_result"
    }
   ],
   "source": [
    "results_3 = aux_functions.compile_results({'lsi_model':lsi_model_3,'lda_model':lda_model_3,'bm25_model':bm25_model_3,'w2v_model':w2v_model_3,\n",
    "                                         'lsi_eval':lsi_eval_3, 'lda_eval':lda_eval_3, 'bm25_eval':bm25_eval_3, 'w2v_eval':w2v_eval_3})\n",
    "results_3.head()"
   ]
  },
  {
   "cell_type": "markdown",
   "metadata": {},
   "source": [
    "### Plots"
   ]
  },
  {
   "cell_type": "code",
   "execution_count": 10,
   "metadata": {},
   "outputs": [
    {
     "data": {
      "image/png": "[encoded data removed]",
      "text/plain": [
       "<Figure size 1440x360 with 3 Axes>"
      ]
     },
     "metadata": {
      "needs_background": "light"
     },
     "output_type": "display_data"
    }
   ],
   "source": [
    "aux_functions.plot_results(results_3, title='Expert Only Strategy')"
   ]
  },
  {
   "cell_type": "markdown",
   "metadata": {},
   "source": [
    "## Volunteers Only Strategy"
   ]
  },
  {
   "cell_type": "code",
   "execution_count": 12,
   "metadata": {},
   "outputs": [
    {
     "name": "stdout",
     "output_type": "stream",
     "text": [
      "OracleVolunteers.shape: (207, 93)\n",
      "TestCases.shape: (207, 12)\n",
      "SelectedBugReports.shape: (93, 18)\n",
      "\n",
      "Model Evaluation -------------------------------------------\n",
      "\n",
      "Model Evaluation -------------------------------------------\n",
      "\n",
      "Model Evaluation -------------------------------------------\n",
      "\n",
      "Model Evaluation -------------------------------------------\n"
     ]
    }
   ],
   "source": [
    "runner_4 = TC_BR_Runner(oracle=fd.Tc_BR_Oracles.read_oracle_volunteers_df())\n",
    "\n",
    "lsi_model_4, lsi_eval_4 = runner_4.run_lsi_model()\n",
    "lda_model_4, lda_eval_4 = runner_4.run_lda_model()\n",
    "bm25_model_4, bm25_eval_4 = runner_4.run_bm25_model()\n",
    "w2v_model_4, w2v_eval_4 = runner_4.run_word2vec_model()"
   ]
  },
  {
   "cell_type": "markdown",
   "metadata": {},
   "source": [
    "### Results"
   ]
  },
  {
   "cell_type": "code",
   "execution_count": 13,
   "metadata": {},
   "outputs": [
    {
     "data": {
      "text/html": [
       "<div>\n",
       "<style scoped>\n",
       "    .dataframe tbody tr th:only-of-type {\n",
       "        vertical-align: middle;\n",
       "    }\n",
       "\n",
       "    .dataframe tbody tr th {\n",
       "        vertical-align: top;\n",
       "    }\n",
       "\n",
       "    .dataframe thead th {\n",
       "        text-align: right;\n",
       "    }\n",
       "</style>\n",
       "<table border=\"1\" class=\"dataframe\">\n",
       "  <thead>\n",
       "    <tr style=\"text-align: right;\">\n",
       "      <th></th>\n",
       "      <th>model</th>\n",
       "      <th>precision</th>\n",
       "      <th>recall</th>\n",
       "      <th>fscore</th>\n",
       "      <th>precision_perc</th>\n",
       "      <th>recall_perc</th>\n",
       "      <th>fscore_perc</th>\n",
       "    </tr>\n",
       "  </thead>\n",
       "  <tbody>\n",
       "    <tr>\n",
       "      <th>0</th>\n",
       "      <td>LSI_Model_TC_BR</td>\n",
       "      <td>0.021505</td>\n",
       "      <td>0.002230</td>\n",
       "      <td>0.004017</td>\n",
       "      <td>2.150538</td>\n",
       "      <td>0.222965</td>\n",
       "      <td>0.401749</td>\n",
       "    </tr>\n",
       "    <tr>\n",
       "      <th>1</th>\n",
       "      <td>LDA_Model_TC_BR</td>\n",
       "      <td>0.073535</td>\n",
       "      <td>0.130890</td>\n",
       "      <td>0.085961</td>\n",
       "      <td>7.353451</td>\n",
       "      <td>13.089005</td>\n",
       "      <td>8.596070</td>\n",
       "    </tr>\n",
       "    <tr>\n",
       "      <th>2</th>\n",
       "      <td>BM25_Model_TC_BR</td>\n",
       "      <td>0.115852</td>\n",
       "      <td>0.232884</td>\n",
       "      <td>0.141283</td>\n",
       "      <td>11.585154</td>\n",
       "      <td>23.288448</td>\n",
       "      <td>14.128302</td>\n",
       "    </tr>\n",
       "    <tr>\n",
       "      <th>3</th>\n",
       "      <td>WordVec_Model_TC_BR</td>\n",
       "      <td>0.065210</td>\n",
       "      <td>0.114371</td>\n",
       "      <td>0.074816</td>\n",
       "      <td>6.520985</td>\n",
       "      <td>11.437110</td>\n",
       "      <td>7.481635</td>\n",
       "    </tr>\n",
       "  </tbody>\n",
       "</table>\n",
       "</div>"
      ],
      "text/plain": [
       "                 model  precision    recall    fscore  precision_perc  \\\n",
       "0      LSI_Model_TC_BR   0.021505  0.002230  0.004017        2.150538   \n",
       "1      LDA_Model_TC_BR   0.073535  0.130890  0.085961        7.353451   \n",
       "2     BM25_Model_TC_BR   0.115852  0.232884  0.141283       11.585154   \n",
       "3  WordVec_Model_TC_BR   0.065210  0.114371  0.074816        6.520985   \n",
       "\n",
       "   recall_perc  fscore_perc  \n",
       "0     0.222965     0.401749  \n",
       "1    13.089005     8.596070  \n",
       "2    23.288448    14.128302  \n",
       "3    11.437110     7.481635  "
      ]
     },
     "execution_count": 13,
     "metadata": {},
     "output_type": "execute_result"
    }
   ],
   "source": [
    "results_4 = aux_functions.compile_results({'lsi_model':lsi_model_4,'lda_model':lda_model_4,'bm25_model':bm25_model_4,'w2v_model':w2v_model_4,\n",
    "                                         'lsi_eval':lsi_eval_4, 'lda_eval':lda_eval_4, 'bm25_eval':bm25_eval_4, 'w2v_eval':w2v_eval_4})\n",
    "results_4.head()"
   ]
  },
  {
   "cell_type": "markdown",
   "metadata": {},
   "source": [
    "### Plots"
   ]
  },
  {
   "cell_type": "code",
   "execution_count": 14,
   "metadata": {},
   "outputs": [
    {
     "data": {
      "image/png": "[encoded data removed]",
      "text/plain": [
       "<Figure size 1440x360 with 3 Axes>"
      ]
     },
     "metadata": {
      "needs_background": "light"
     },
     "output_type": "display_data"
    }
   ],
   "source": [
    "aux_functions.plot_results(results_4, title='Volunteers Only Strategy')"
   ]
  }
 ],
 "metadata": {
  "kernelspec": {
   "display_name": "Python 3",
   "language": "python",
   "name": "python3"
  },
  "language_info": {
   "codemirror_mode": {
    "name": "ipython",
    "version": 3
   },
   "file_extension": ".py",
   "mimetype": "text/x-python",
   "name": "python",
   "nbconvert_exporter": "python",
   "pygments_lexer": "ipython3",
   "version": "3.6.6"
  }
 },
 "nbformat": 4,
 "nbformat_minor": 2
}

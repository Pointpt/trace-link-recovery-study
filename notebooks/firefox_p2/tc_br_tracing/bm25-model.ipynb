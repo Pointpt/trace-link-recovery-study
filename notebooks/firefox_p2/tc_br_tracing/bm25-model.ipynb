{
 "cells": [
  {
   "cell_type": "markdown",
   "metadata": {},
   "source": [
    "# Introduction\n",
    "\n",
    "In this notebook we demonstrate the use of **BM25 (Best Matching 25)** Information Retrieval technique to make trace link recovery between Test Cases and Bug Reports.\n",
    "\n",
    "We model our study as follows:\n",
    "\n",
    "* Each bug report title, summary and description compose a single query.\n",
    "* We use each test case content as an entire document that must be returned to the query made\n"
   ]
  },
  {
   "cell_type": "markdown",
   "metadata": {},
   "source": [
    "# Import Libraries"
   ]
  },
  {
   "cell_type": "code",
   "execution_count": 1,
   "metadata": {},
   "outputs": [],
   "source": [
    "from mod_finder_util import mod_finder_util\n",
    "mod_finder_util.add_modules_origin_search_path()\n",
    "\n",
    "import pandas as pd\n",
    "\n",
    "from modules.models_runner.tc_br_models_runner import TC_BR_Runner\n",
    "from modules.models_runner.tc_br_models_runner import TC_BR_Models_Hyperp\n",
    "from modules.utils import aux_functions\n",
    "from modules.utils import firefox_dataset_p2 as fd\n",
    "from modules.utils import tokenizers as tok\n",
    "\n",
    "from modules.models.bm25 import BM_25\n",
    "\n",
    "from IPython.display import display\n",
    "\n",
    "import warnings; warnings.simplefilter('ignore')"
   ]
  },
  {
   "cell_type": "markdown",
   "metadata": {},
   "source": [
    "# Load Datasets"
   ]
  },
  {
   "cell_type": "code",
   "execution_count": 2,
   "metadata": {},
   "outputs": [
    {
     "name": "stdout",
     "output_type": "stream",
     "text": [
      "OracleExpert.shape: (195, 91)\n"
     ]
    }
   ],
   "source": [
    "tcs = [x for x in range(37,59)]\n",
    "orc = fd.Tc_BR_Oracles.read_oracle_expert_df()\n",
    "orc_subset = orc[orc.index.isin(tcs)]\n",
    "#aux_functions.highlight_df(orc_subset)"
   ]
  },
  {
   "cell_type": "code",
   "execution_count": 3,
   "metadata": {},
   "outputs": [
    {
     "name": "stdout",
     "output_type": "stream",
     "text": [
      "TestCases.shape: (195, 12)\n",
      "SelectedBugReports.shape: (91, 18)\n",
      "tc.shape: (3, 12)\n",
      "br.shape: (1, 18)\n"
     ]
    }
   ],
   "source": [
    "tcs = [13,37,60]\n",
    "brs = [1267501]\n",
    "\n",
    "testcases = fd.Datasets.read_testcases_df()\n",
    "testcases = testcases[testcases.TC_Number.isin(tcs)]\n",
    "bugreports = fd.Datasets.read_selected_bugreports_df()\n",
    "bugreports = bugreports[bugreports.Bug_Number.isin(brs)]\n",
    "\n",
    "print('tc.shape: {}'.format(testcases.shape))\n",
    "print('br.shape: {}'.format(bugreports.shape))"
   ]
  },
  {
   "cell_type": "markdown",
   "metadata": {},
   "source": [
    "# Running BM25 Model"
   ]
  },
  {
   "cell_type": "code",
   "execution_count": 4,
   "metadata": {},
   "outputs": [
    {
     "name": "stdout",
     "output_type": "stream",
     "text": [
      "['new', 'awesom', 'bar', 'awesom', 'bar', 'search', 'default', 'state', 'nan', 'launch', 'firefox', 'no', 'awesomebar', 'entri', 'firefox', 'launch', 'without', 'ani', 'issu', 'url', 'display', 'set', 'home', 'page']\n",
      "['apz', 'async', 'scroll', 'apz', 'async', 'scroll', 'scroll', 'long', 'web', 'page', 'make', 'sure', 'true', 'config', 'make', 'sure', 'true', 'config', 'launch', 'firefox', 'open', 'http', 'scroll', 'use', 'mous', 'wheel', 'scroll', 'bar', 'arrow', 'key', 'page', 'key', 'space', 'bar', 'ctrl', 'key', 'scroll', 'smooth', 'without', 'ani', 'jerki', 'render', 'issu']\n",
      "['browser', 'custom', 'browser', 'custom', 'instal', 'use', 'complet', 'theme', 'nan', 'instal', 'complet', 'theme', 'restart', 'browser', 'complet', 'theme', 'instal', 'user', 'abl', 'initi', 'instal', 'process', 'complet', 'theme', 'onc', 'browser', 'restart', 'new', 'theme', 'enabl', 'default', 'latest', 'instal', 'theme', 'replac', 'ani', 'previous', 'activ', 'instal', 'complet', 'theme', 'lightweight', 'theme', 'previou', 'theme', 'disabl', 'appear', 'appear', 'section', 'manag']\n",
      "['new', 'privat', 'brows', 'overflow', 'side', 'make', 'content', 'unscrol', 'small', 'window', 'size', 'unspecifi', 'privat', 'brows', 'branch', 'fxprivaci', 'nan', 'str', 'open', 'new', 'privat', 'brows', 'window', 'resiz', 'window', 'skinni', 'say', 'wide', 'tri', 'scroll', 'around', 'horizont', 'read', 'page', 'content', 'use', 'scrollbar', 'actual', 'result', 'if', 'scroll', 'way', 'left', 'see', 'page', 'content', 'overflow', 'left', 'side', 'viewport', 'extent', 'unscrol', 'henc', 'unread', 'if', 'scroll', 'way', 'right', 'see', 'page', 'end', 'abruptli', 'text', 'protrud', 'past', 'expect', 'result', 'content', 'no', 'awkward', 'region', 'viewport', 'scrollabl', 'resolv', 'firefox', 'fix', 'normal', 'true']\n"
     ]
    }
   ],
   "source": [
    "corpus = testcases.tc_desc\n",
    "query = bugreports.br_desc\n",
    "test_cases_names = testcases.tc_name\n",
    "bug_reports_names = bugreports.br_name\n",
    "\n",
    "bm25_hyperp = TC_BR_Models_Hyperp.get_bm25_model_hyperp()\n",
    "bm25_model = BM_25(**bm25_hyperp)\n",
    "bm25_model.set_name('BM25_Model_TC_BR')\n",
    "bm25_model.recover_links(corpus, query, test_cases_names, bug_reports_names)"
   ]
  },
  {
   "cell_type": "code",
   "execution_count": 5,
   "metadata": {},
   "outputs": [
    {
     "data": {
      "text/plain": [
       "(3, 1)"
      ]
     },
     "execution_count": 5,
     "metadata": {},
     "output_type": "execute_result"
    }
   ],
   "source": [
    "bm25_model.get_sim_matrix().shape"
   ]
  },
  {
   "cell_type": "code",
   "execution_count": 6,
   "metadata": {},
   "outputs": [
    {
     "data": {
      "text/html": [
       "<style  type=\"text/css\" >\n",
       "    #T_d6e8568a_7dba_11e9_908c_fd57cb3cd32drow0_col0 {\n",
       "            background-color:  #b8e6b8;\n",
       "            color:  #000000;\n",
       "        }    #T_d6e8568a_7dba_11e9_908c_fd57cb3cd32drow1_col0 {\n",
       "            background-color:  #008000;\n",
       "            color:  #f1f1f1;\n",
       "        }    #T_d6e8568a_7dba_11e9_908c_fd57cb3cd32drow2_col0 {\n",
       "            background-color:  #e5ffe5;\n",
       "            color:  #000000;\n",
       "        }</style><table id=\"T_d6e8568a_7dba_11e9_908c_fd57cb3cd32d\" ><thead>    <tr>        <th class=\"index_name level0\" >br_name</th>        <th class=\"col_heading level0 col0\" >BR_1267501_SRC</th>    </tr>    <tr>        <th class=\"index_name level0\" >tc_name</th>        <th class=\"blank\" ></th>    </tr></thead><tbody>\n",
       "                <tr>\n",
       "                        <th id=\"T_d6e8568a_7dba_11e9_908c_fd57cb3cd32dlevel0_row0\" class=\"row_heading level0 row0\" >TC_13_TRG</th>\n",
       "                        <td id=\"T_d6e8568a_7dba_11e9_908c_fd57cb3cd32drow0_col0\" class=\"data row0 col0\" >0.201572</td>\n",
       "            </tr>\n",
       "            <tr>\n",
       "                        <th id=\"T_d6e8568a_7dba_11e9_908c_fd57cb3cd32dlevel0_row1\" class=\"row_heading level0 row1\" >TC_37_TRG</th>\n",
       "                        <td id=\"T_d6e8568a_7dba_11e9_908c_fd57cb3cd32drow1_col0\" class=\"data row1 col0\" >1</td>\n",
       "            </tr>\n",
       "            <tr>\n",
       "                        <th id=\"T_d6e8568a_7dba_11e9_908c_fd57cb3cd32dlevel0_row2\" class=\"row_heading level0 row2\" >TC_60_TRG</th>\n",
       "                        <td id=\"T_d6e8568a_7dba_11e9_908c_fd57cb3cd32drow2_col0\" class=\"data row2 col0\" >0</td>\n",
       "            </tr>\n",
       "    </tbody></table>"
      ],
      "text/plain": [
       "<pandas.io.formats.style.Styler at 0x7f65e16e9358>"
      ]
     },
     "execution_count": 6,
     "metadata": {},
     "output_type": "execute_result"
    }
   ],
   "source": [
    "sim_matrix_normalized = bm25_model.get_sim_matrix()\n",
    "aux_functions.highlight_df(sim_matrix_normalized)"
   ]
  },
  {
   "cell_type": "code",
   "execution_count": 7,
   "metadata": {},
   "outputs": [
    {
     "data": {
      "text/html": [
       "<style  type=\"text/css\" >\n",
       "    #T_d6eaaf7a_7dba_11e9_908c_fd57cb3cd32drow0_col0 {\n",
       "            background-color:  #b8e6b8;\n",
       "            color:  #000000;\n",
       "        }    #T_d6eaaf7a_7dba_11e9_908c_fd57cb3cd32drow1_col0 {\n",
       "            background-color:  #008000;\n",
       "            color:  #f1f1f1;\n",
       "        }    #T_d6eaaf7a_7dba_11e9_908c_fd57cb3cd32drow2_col0 {\n",
       "            background-color:  #e5ffe5;\n",
       "            color:  #000000;\n",
       "        }</style><table id=\"T_d6eaaf7a_7dba_11e9_908c_fd57cb3cd32d\" ><thead>    <tr>        <th class=\"index_name level0\" >br_name</th>        <th class=\"col_heading level0 col0\" >BR_1267501_SRC</th>    </tr>    <tr>        <th class=\"index_name level0\" >tc_name</th>        <th class=\"blank\" ></th>    </tr></thead><tbody>\n",
       "                <tr>\n",
       "                        <th id=\"T_d6eaaf7a_7dba_11e9_908c_fd57cb3cd32dlevel0_row0\" class=\"row_heading level0 row0\" >TC_13_TRG</th>\n",
       "                        <td id=\"T_d6eaaf7a_7dba_11e9_908c_fd57cb3cd32drow0_col0\" class=\"data row0 col0\" >1.30565</td>\n",
       "            </tr>\n",
       "            <tr>\n",
       "                        <th id=\"T_d6eaaf7a_7dba_11e9_908c_fd57cb3cd32dlevel0_row1\" class=\"row_heading level0 row1\" >TC_37_TRG</th>\n",
       "                        <td id=\"T_d6eaaf7a_7dba_11e9_908c_fd57cb3cd32drow1_col0\" class=\"data row1 col0\" >5.38892</td>\n",
       "            </tr>\n",
       "            <tr>\n",
       "                        <th id=\"T_d6eaaf7a_7dba_11e9_908c_fd57cb3cd32dlevel0_row2\" class=\"row_heading level0 row2\" >TC_60_TRG</th>\n",
       "                        <td id=\"T_d6eaaf7a_7dba_11e9_908c_fd57cb3cd32drow2_col0\" class=\"data row2 col0\" >0.274786</td>\n",
       "            </tr>\n",
       "    </tbody></table>"
      ],
      "text/plain": [
       "<pandas.io.formats.style.Styler at 0x7f65e16ed9e8>"
      ]
     },
     "execution_count": 7,
     "metadata": {},
     "output_type": "execute_result"
    }
   ],
   "source": [
    "sim_matrix_origin = bm25_model._sim_matrix_origin\n",
    "aux_functions.highlight_df(sim_matrix_origin)"
   ]
  },
  {
   "cell_type": "code",
   "execution_count": 8,
   "metadata": {},
   "outputs": [
    {
     "data": {
      "text/html": [
       "<div>\n",
       "<style scoped>\n",
       "    .dataframe tbody tr th:only-of-type {\n",
       "        vertical-align: middle;\n",
       "    }\n",
       "\n",
       "    .dataframe tbody tr th {\n",
       "        vertical-align: top;\n",
       "    }\n",
       "\n",
       "    .dataframe thead th {\n",
       "        text-align: right;\n",
       "    }\n",
       "</style>\n",
       "<table border=\"1\" class=\"dataframe\">\n",
       "  <thead>\n",
       "    <tr style=\"text-align: right;\">\n",
       "      <th></th>\n",
       "      <th>tc</th>\n",
       "    </tr>\n",
       "    <tr>\n",
       "      <th></th>\n",
       "      <th></th>\n",
       "    </tr>\n",
       "  </thead>\n",
       "  <tbody>\n",
       "    <tr>\n",
       "      <th>TC_13_TRG</th>\n",
       "      <td>13 20160603 + 20160624 + 20161014 1 New Awesom...</td>\n",
       "    </tr>\n",
       "    <tr>\n",
       "      <th>TC_37_TRG</th>\n",
       "      <td>37 20160603 + 20160708 3 APZ - Async Scrolling...</td>\n",
       "    </tr>\n",
       "    <tr>\n",
       "      <th>TC_60_TRG</th>\n",
       "      <td>60 20160722 4 Browser Customization browser cu...</td>\n",
       "    </tr>\n",
       "  </tbody>\n",
       "</table>\n",
       "</div>"
      ],
      "text/plain": [
       "                                                          tc\n",
       "                                                            \n",
       "TC_13_TRG  13 20160603 + 20160624 + 20161014 1 New Awesom...\n",
       "TC_37_TRG  37 20160603 + 20160708 3 APZ - Async Scrolling...\n",
       "TC_60_TRG  60 20160722 4 Browser Customization browser cu..."
      ]
     },
     "execution_count": 8,
     "metadata": {},
     "output_type": "execute_result"
    }
   ],
   "source": [
    "df = pd.DataFrame()\n",
    "df['tc'] = corpus\n",
    "df.index = test_cases_names\n",
    "df.index.name = ''\n",
    "#df = df.T\n",
    "df.head(10)"
   ]
  },
  {
   "cell_type": "markdown",
   "metadata": {},
   "source": [
    "Query Vector"
   ]
  },
  {
   "cell_type": "code",
   "execution_count": 9,
   "metadata": {},
   "outputs": [
    {
     "data": {
      "text/html": [
       "<div>\n",
       "<style scoped>\n",
       "    .dataframe tbody tr th:only-of-type {\n",
       "        vertical-align: middle;\n",
       "    }\n",
       "\n",
       "    .dataframe tbody tr th {\n",
       "        vertical-align: top;\n",
       "    }\n",
       "\n",
       "    .dataframe thead th {\n",
       "        text-align: right;\n",
       "    }\n",
       "</style>\n",
       "<table border=\"1\" class=\"dataframe\">\n",
       "  <thead>\n",
       "    <tr style=\"text-align: right;\">\n",
       "      <th></th>\n",
       "      <th>BR_1267501_SRC</th>\n",
       "    </tr>\n",
       "  </thead>\n",
       "  <tbody>\n",
       "    <tr>\n",
       "      <th>0</th>\n",
       "      <td>new</td>\n",
       "    </tr>\n",
       "    <tr>\n",
       "      <th>1</th>\n",
       "      <td>privat</td>\n",
       "    </tr>\n",
       "    <tr>\n",
       "      <th>2</th>\n",
       "      <td>brows</td>\n",
       "    </tr>\n",
       "    <tr>\n",
       "      <th>3</th>\n",
       "      <td>overflow</td>\n",
       "    </tr>\n",
       "    <tr>\n",
       "      <th>4</th>\n",
       "      <td>side</td>\n",
       "    </tr>\n",
       "    <tr>\n",
       "      <th>5</th>\n",
       "      <td>make</td>\n",
       "    </tr>\n",
       "    <tr>\n",
       "      <th>6</th>\n",
       "      <td>content</td>\n",
       "    </tr>\n",
       "    <tr>\n",
       "      <th>7</th>\n",
       "      <td>unscrol</td>\n",
       "    </tr>\n",
       "    <tr>\n",
       "      <th>8</th>\n",
       "      <td>small</td>\n",
       "    </tr>\n",
       "    <tr>\n",
       "      <th>9</th>\n",
       "      <td>window</td>\n",
       "    </tr>\n",
       "  </tbody>\n",
       "</table>\n",
       "</div>"
      ],
      "text/plain": [
       "  BR_1267501_SRC\n",
       "0            new\n",
       "1         privat\n",
       "2          brows\n",
       "3       overflow\n",
       "4           side\n",
       "5           make\n",
       "6        content\n",
       "7        unscrol\n",
       "8          small\n",
       "9         window"
      ]
     },
     "execution_count": 9,
     "metadata": {},
     "output_type": "execute_result"
    }
   ],
   "source": [
    "tokenizer = tok.PorterStemmerBased_Tokenizer()\n",
    "query_vec = [tokenizer.__call__(doc) for doc in query]\n",
    "df_q = pd.DataFrame(query_vec)\n",
    "df_q.index = bug_reports_names\n",
    "df_q.index.name = ''\n",
    "df_q = df_q.T\n",
    "df_q.head(10)"
   ]
  },
  {
   "cell_type": "markdown",
   "metadata": {},
   "source": [
    "Average Document Length"
   ]
  },
  {
   "cell_type": "code",
   "execution_count": 10,
   "metadata": {},
   "outputs": [
    {
     "data": {
      "text/plain": [
       "39.0"
      ]
     },
     "execution_count": 10,
     "metadata": {},
     "output_type": "execute_result"
    }
   ],
   "source": [
    "bm25_model.bm25.avgdl"
   ]
  },
  {
   "cell_type": "markdown",
   "metadata": {},
   "source": [
    "Number of documents"
   ]
  },
  {
   "cell_type": "code",
   "execution_count": 11,
   "metadata": {},
   "outputs": [
    {
     "data": {
      "text/plain": [
       "3"
      ]
     },
     "execution_count": 11,
     "metadata": {},
     "output_type": "execute_result"
    }
   ],
   "source": [
    "bm25_model.bm25.corpus_size"
   ]
  },
  {
   "cell_type": "markdown",
   "metadata": {},
   "source": [
    "Term frequency by document"
   ]
  },
  {
   "cell_type": "code",
   "execution_count": 12,
   "metadata": {},
   "outputs": [
    {
     "data": {
      "text/plain": [
       "2"
      ]
     },
     "execution_count": 12,
     "metadata": {},
     "output_type": "execute_result"
    }
   ],
   "source": [
    "bm25_model.bm25.doc_freqs[1]['apz']"
   ]
  },
  {
   "cell_type": "markdown",
   "metadata": {},
   "source": [
    "Most Relevant Words"
   ]
  },
  {
   "cell_type": "code",
   "execution_count": 13,
   "metadata": {},
   "outputs": [
    {
     "data": {
      "text/plain": [
       "[('TC_13_TRG', ['ani', 'bar', 'firefox', 'launch', 'default', 'issu']),\n",
       " ('TC_37_TRG', ['scroll', 'ani', 'bar', 'page', 'key', 'issu']),\n",
       " ('TC_60_TRG', ['theme', 'instal', 'ani', 'complet', 'browser', 'default'])]"
      ]
     },
     "execution_count": 13,
     "metadata": {},
     "output_type": "execute_result"
    }
   ],
   "source": [
    "bm25_model.mrw_tcs"
   ]
  },
  {
   "cell_type": "code",
   "execution_count": 14,
   "metadata": {},
   "outputs": [
    {
     "data": {
      "text/html": [
       "<div>\n",
       "<style scoped>\n",
       "    .dataframe tbody tr th:only-of-type {\n",
       "        vertical-align: middle;\n",
       "    }\n",
       "\n",
       "    .dataframe tbody tr th {\n",
       "        vertical-align: top;\n",
       "    }\n",
       "\n",
       "    .dataframe thead th {\n",
       "        text-align: right;\n",
       "    }\n",
       "</style>\n",
       "<table border=\"1\" class=\"dataframe\">\n",
       "  <thead>\n",
       "    <tr style=\"text-align: right;\">\n",
       "      <th></th>\n",
       "      <th>mrw</th>\n",
       "      <th>dl</th>\n",
       "    </tr>\n",
       "  </thead>\n",
       "  <tbody>\n",
       "    <tr>\n",
       "      <th>TC_13_TRG</th>\n",
       "      <td>[ani, bar, firefox, launch, default, issu]</td>\n",
       "      <td>24</td>\n",
       "    </tr>\n",
       "    <tr>\n",
       "      <th>TC_37_TRG</th>\n",
       "      <td>[scroll, ani, bar, page, key, issu]</td>\n",
       "      <td>43</td>\n",
       "    </tr>\n",
       "    <tr>\n",
       "      <th>TC_60_TRG</th>\n",
       "      <td>[theme, instal, ani, complet, browser, default]</td>\n",
       "      <td>50</td>\n",
       "    </tr>\n",
       "    <tr>\n",
       "      <th>BR_1267501_SRC</th>\n",
       "      <td>[page, new, scroll, use, firefox, nan]</td>\n",
       "      <td>78</td>\n",
       "    </tr>\n",
       "  </tbody>\n",
       "</table>\n",
       "</div>"
      ],
      "text/plain": [
       "                                                            mrw  dl\n",
       "TC_13_TRG            [ani, bar, firefox, launch, default, issu]  24\n",
       "TC_37_TRG                   [scroll, ani, bar, page, key, issu]  43\n",
       "TC_60_TRG       [theme, instal, ani, complet, browser, default]  50\n",
       "BR_1267501_SRC           [page, new, scroll, use, firefox, nan]  78"
      ]
     },
     "execution_count": 14,
     "metadata": {},
     "output_type": "execute_result"
    }
   ],
   "source": [
    "bm25_model.docs_feats_df"
   ]
  }
 ],
 "metadata": {
  "kernelspec": {
   "display_name": "Python 3",
   "language": "python",
   "name": "python3"
  },
  "language_info": {
   "codemirror_mode": {
    "name": "ipython",
    "version": 3
   },
   "file_extension": ".py",
   "mimetype": "text/x-python",
   "name": "python",
   "nbconvert_exporter": "python",
   "pygments_lexer": "ipython3",
   "version": "3.7.3"
  }
 },
 "nbformat": 4,
 "nbformat_minor": 2
}

{
 "cells": [
  {
   "cell_type": "markdown",
   "metadata": {},
   "source": [
    "# Introduction\n",
    "\n",
    "In this notebook we demonstrate the use of **BM25 (Best Matching 25)** Information Retrieval technique to make trace link recovery between Test Cases and Bug Reports.\n",
    "\n",
    "We model our study as follows:\n",
    "\n",
    "* Each bug report title, summary and description compose a single query.\n",
    "* We use each test case content as an entire document that must be returned to the query made\n"
   ]
  },
  {
   "cell_type": "markdown",
   "metadata": {},
   "source": [
    "# Import Libraries"
   ]
  },
  {
   "cell_type": "code",
   "execution_count": 1,
   "metadata": {},
   "outputs": [],
   "source": [
    "from mod_finder_util import mod_finder_util\n",
    "mod_finder_util.add_modules_origin_search_path()\n",
    "\n",
    "import pandas as pd\n",
    "\n",
    "from modules.models_runner.tc_br_models_runner import TC_BR_Runner\n",
    "from modules.models_runner.tc_br_models_runner import TC_BR_Models_Hyperp\n",
    "from modules.utils import aux_functions\n",
    "from modules.utils import firefox_dataset_p2 as fd\n",
    "from modules.utils import tokenizers as tok\n",
    "\n",
    "from modules.models.bm25 import BM_25\n",
    "\n",
    "from IPython.display import display\n",
    "\n",
    "import warnings; warnings.simplefilter('ignore')"
   ]
  },
  {
   "cell_type": "markdown",
   "metadata": {},
   "source": [
    "# Load Datasets"
   ]
  },
  {
   "cell_type": "code",
   "execution_count": 2,
   "metadata": {},
   "outputs": [
    {
     "name": "stdout",
     "output_type": "stream",
     "text": [
      "OracleExpert.shape: (195, 91)\n"
     ]
    }
   ],
   "source": [
    "tcs = [x for x in range(37,59)]\n",
    "orc = fd.Tc_BR_Oracles.read_oracle_expert_df()\n",
    "orc_subset = orc[orc.index.isin(tcs)]\n",
    "#aux_functions.highlight_df(orc_subset)"
   ]
  },
  {
   "cell_type": "code",
   "execution_count": 3,
   "metadata": {},
   "outputs": [
    {
     "name": "stdout",
     "output_type": "stream",
     "text": [
      "TestCases.shape: (195, 12)\n",
      "SelectedBugReports.shape: (91, 18)\n",
      "tc.shape: (3, 12)\n",
      "br.shape: (1, 18)\n"
     ]
    }
   ],
   "source": [
    "tcs = [13,37,60]\n",
    "brs = [1267501]\n",
    "\n",
    "testcases = fd.Datasets.read_testcases_df()\n",
    "testcases = testcases[testcases.TC_Number.isin(tcs)]\n",
    "bugreports = fd.Datasets.read_selected_bugreports_df()\n",
    "bugreports = bugreports[bugreports.Bug_Number.isin(brs)]\n",
    "\n",
    "print('tc.shape: {}'.format(testcases.shape))\n",
    "print('br.shape: {}'.format(bugreports.shape))"
   ]
  },
  {
   "cell_type": "markdown",
   "metadata": {},
   "source": [
    "# Running BM25 Model"
   ]
  },
  {
   "cell_type": "code",
   "execution_count": 4,
   "metadata": {},
   "outputs": [],
   "source": [
    "corpus = testcases.tc_desc\n",
    "query = bugreports.br_desc\n",
    "test_cases_names = testcases.tc_name\n",
    "bug_reports_names = bugreports.br_name\n",
    "\n",
    "bm25_hyperp = TC_BR_Models_Hyperp.get_bm25_model_hyperp()\n",
    "bm25_model = BM_25(**bm25_hyperp)\n",
    "bm25_model.set_name('BM25_Model_TC_BR')\n",
    "bm25_model.recover_links(corpus, query, test_cases_names, bug_reports_names)"
   ]
  },
  {
   "cell_type": "code",
   "execution_count": 5,
   "metadata": {},
   "outputs": [
    {
     "data": {
      "text/plain": [
       "(3, 1)"
      ]
     },
     "execution_count": 5,
     "metadata": {},
     "output_type": "execute_result"
    }
   ],
   "source": [
    "bm25_model.get_sim_matrix().shape"
   ]
  },
  {
   "cell_type": "code",
   "execution_count": 6,
   "metadata": {},
   "outputs": [
    {
     "data": {
      "text/plain": [
       "[[-128.77117095193657, -130.26269002636698, -122.68583131109345],\n",
       " [-259.9423883752548, -264.3162057441713, -260.7948517401321],\n",
       " [-320.87500732839, -335.5246115726129, -326.88298971228454]]"
      ]
     },
     "execution_count": 6,
     "metadata": {},
     "output_type": "execute_result"
    }
   ],
   "source": [
    "bm25_model.get_bm25_weights(corpus)"
   ]
  },
  {
   "cell_type": "code",
   "execution_count": 7,
   "metadata": {},
   "outputs": [
    {
     "data": {
      "text/plain": [
       "[0, 0, 0]"
      ]
     },
     "execution_count": 7,
     "metadata": {},
     "output_type": "execute_result"
    }
   ],
   "source": [
    "bm25_model.bm25.get_scores(corpus, bm25_model.average_idf)"
   ]
  },
  {
   "cell_type": "code",
   "execution_count": 8,
   "metadata": {},
   "outputs": [
    {
     "data": {
      "text/html": [
       "<style  type=\"text/css\" >\n",
       "    #T_1b964a24_7d6d_11e9_bc29_eb886b0b548drow0_col0 {\n",
       "            background-color:  #b8e6b8;\n",
       "            color:  #000000;\n",
       "        }    #T_1b964a24_7d6d_11e9_bc29_eb886b0b548drow1_col0 {\n",
       "            background-color:  #008000;\n",
       "            color:  #f1f1f1;\n",
       "        }    #T_1b964a24_7d6d_11e9_bc29_eb886b0b548drow2_col0 {\n",
       "            background-color:  #e5ffe5;\n",
       "            color:  #000000;\n",
       "        }</style><table id=\"T_1b964a24_7d6d_11e9_bc29_eb886b0b548d\" ><thead>    <tr>        <th class=\"index_name level0\" >br_name</th>        <th class=\"col_heading level0 col0\" >BR_1267501_SRC</th>    </tr>    <tr>        <th class=\"index_name level0\" >tc_name</th>        <th class=\"blank\" ></th>    </tr></thead><tbody>\n",
       "                <tr>\n",
       "                        <th id=\"T_1b964a24_7d6d_11e9_bc29_eb886b0b548dlevel0_row0\" class=\"row_heading level0 row0\" >TC_13_TRG</th>\n",
       "                        <td id=\"T_1b964a24_7d6d_11e9_bc29_eb886b0b548drow0_col0\" class=\"data row0 col0\" >0.201572</td>\n",
       "            </tr>\n",
       "            <tr>\n",
       "                        <th id=\"T_1b964a24_7d6d_11e9_bc29_eb886b0b548dlevel0_row1\" class=\"row_heading level0 row1\" >TC_37_TRG</th>\n",
       "                        <td id=\"T_1b964a24_7d6d_11e9_bc29_eb886b0b548drow1_col0\" class=\"data row1 col0\" >1</td>\n",
       "            </tr>\n",
       "            <tr>\n",
       "                        <th id=\"T_1b964a24_7d6d_11e9_bc29_eb886b0b548dlevel0_row2\" class=\"row_heading level0 row2\" >TC_60_TRG</th>\n",
       "                        <td id=\"T_1b964a24_7d6d_11e9_bc29_eb886b0b548drow2_col0\" class=\"data row2 col0\" >0</td>\n",
       "            </tr>\n",
       "    </tbody></table>"
      ],
      "text/plain": [
       "<pandas.io.formats.style.Styler at 0x7f528b2e59e8>"
      ]
     },
     "execution_count": 8,
     "metadata": {},
     "output_type": "execute_result"
    }
   ],
   "source": [
    "sim_matrix_normalized = bm25_model.get_sim_matrix()\n",
    "aux_functions.highlight_df(sim_matrix_normalized)"
   ]
  },
  {
   "cell_type": "code",
   "execution_count": 9,
   "metadata": {},
   "outputs": [
    {
     "data": {
      "text/html": [
       "<style  type=\"text/css\" >\n",
       "    #T_1b98f54e_7d6d_11e9_bc29_eb886b0b548drow0_col0 {\n",
       "            background-color:  #b8e6b8;\n",
       "            color:  #000000;\n",
       "        }    #T_1b98f54e_7d6d_11e9_bc29_eb886b0b548drow1_col0 {\n",
       "            background-color:  #008000;\n",
       "            color:  #f1f1f1;\n",
       "        }    #T_1b98f54e_7d6d_11e9_bc29_eb886b0b548drow2_col0 {\n",
       "            background-color:  #e5ffe5;\n",
       "            color:  #000000;\n",
       "        }</style><table id=\"T_1b98f54e_7d6d_11e9_bc29_eb886b0b548d\" ><thead>    <tr>        <th class=\"index_name level0\" >br_name</th>        <th class=\"col_heading level0 col0\" >BR_1267501_SRC</th>    </tr>    <tr>        <th class=\"index_name level0\" >tc_name</th>        <th class=\"blank\" ></th>    </tr></thead><tbody>\n",
       "                <tr>\n",
       "                        <th id=\"T_1b98f54e_7d6d_11e9_bc29_eb886b0b548dlevel0_row0\" class=\"row_heading level0 row0\" >TC_13_TRG</th>\n",
       "                        <td id=\"T_1b98f54e_7d6d_11e9_bc29_eb886b0b548drow0_col0\" class=\"data row0 col0\" >1.30565</td>\n",
       "            </tr>\n",
       "            <tr>\n",
       "                        <th id=\"T_1b98f54e_7d6d_11e9_bc29_eb886b0b548dlevel0_row1\" class=\"row_heading level0 row1\" >TC_37_TRG</th>\n",
       "                        <td id=\"T_1b98f54e_7d6d_11e9_bc29_eb886b0b548drow1_col0\" class=\"data row1 col0\" >5.38892</td>\n",
       "            </tr>\n",
       "            <tr>\n",
       "                        <th id=\"T_1b98f54e_7d6d_11e9_bc29_eb886b0b548dlevel0_row2\" class=\"row_heading level0 row2\" >TC_60_TRG</th>\n",
       "                        <td id=\"T_1b98f54e_7d6d_11e9_bc29_eb886b0b548drow2_col0\" class=\"data row2 col0\" >0.274786</td>\n",
       "            </tr>\n",
       "    </tbody></table>"
      ],
      "text/plain": [
       "<pandas.io.formats.style.Styler at 0x7f528b08de10>"
      ]
     },
     "execution_count": 9,
     "metadata": {},
     "output_type": "execute_result"
    }
   ],
   "source": [
    "sim_matrix_origin = bm25_model._sim_matrix_origin\n",
    "aux_functions.highlight_df(sim_matrix_origin)"
   ]
  },
  {
   "cell_type": "code",
   "execution_count": 10,
   "metadata": {},
   "outputs": [
    {
     "data": {
      "text/html": [
       "<div>\n",
       "<style scoped>\n",
       "    .dataframe tbody tr th:only-of-type {\n",
       "        vertical-align: middle;\n",
       "    }\n",
       "\n",
       "    .dataframe tbody tr th {\n",
       "        vertical-align: top;\n",
       "    }\n",
       "\n",
       "    .dataframe thead th {\n",
       "        text-align: right;\n",
       "    }\n",
       "</style>\n",
       "<table border=\"1\" class=\"dataframe\">\n",
       "  <thead>\n",
       "    <tr style=\"text-align: right;\">\n",
       "      <th></th>\n",
       "      <th>TC_13_TRG</th>\n",
       "      <th>TC_37_TRG</th>\n",
       "      <th>TC_60_TRG</th>\n",
       "    </tr>\n",
       "  </thead>\n",
       "  <tbody>\n",
       "    <tr>\n",
       "      <th>0</th>\n",
       "      <td>new</td>\n",
       "      <td>apz</td>\n",
       "      <td>browser</td>\n",
       "    </tr>\n",
       "    <tr>\n",
       "      <th>1</th>\n",
       "      <td>awesom</td>\n",
       "      <td>async</td>\n",
       "      <td>custom</td>\n",
       "    </tr>\n",
       "    <tr>\n",
       "      <th>2</th>\n",
       "      <td>bar</td>\n",
       "      <td>scroll</td>\n",
       "      <td>browser</td>\n",
       "    </tr>\n",
       "    <tr>\n",
       "      <th>3</th>\n",
       "      <td>awesom</td>\n",
       "      <td>apz</td>\n",
       "      <td>custom</td>\n",
       "    </tr>\n",
       "    <tr>\n",
       "      <th>4</th>\n",
       "      <td>bar</td>\n",
       "      <td>async</td>\n",
       "      <td>instal</td>\n",
       "    </tr>\n",
       "    <tr>\n",
       "      <th>5</th>\n",
       "      <td>search</td>\n",
       "      <td>scroll</td>\n",
       "      <td>use</td>\n",
       "    </tr>\n",
       "    <tr>\n",
       "      <th>6</th>\n",
       "      <td>default</td>\n",
       "      <td>scroll</td>\n",
       "      <td>complet</td>\n",
       "    </tr>\n",
       "    <tr>\n",
       "      <th>7</th>\n",
       "      <td>state</td>\n",
       "      <td>long</td>\n",
       "      <td>theme</td>\n",
       "    </tr>\n",
       "    <tr>\n",
       "      <th>8</th>\n",
       "      <td>nan</td>\n",
       "      <td>web</td>\n",
       "      <td>nan</td>\n",
       "    </tr>\n",
       "    <tr>\n",
       "      <th>9</th>\n",
       "      <td>launch</td>\n",
       "      <td>page</td>\n",
       "      <td>instal</td>\n",
       "    </tr>\n",
       "  </tbody>\n",
       "</table>\n",
       "</div>"
      ],
      "text/plain": [
       "  TC_13_TRG TC_37_TRG TC_60_TRG\n",
       "0       new       apz   browser\n",
       "1    awesom     async    custom\n",
       "2       bar    scroll   browser\n",
       "3    awesom       apz    custom\n",
       "4       bar     async    instal\n",
       "5    search    scroll       use\n",
       "6   default    scroll   complet\n",
       "7     state      long     theme\n",
       "8       nan       web       nan\n",
       "9    launch      page    instal"
      ]
     },
     "execution_count": 10,
     "metadata": {},
     "output_type": "execute_result"
    }
   ],
   "source": [
    "df = pd.DataFrame(bm25_model.bm25.corpus)\n",
    "df.index = test_cases_names\n",
    "df.index.name = ''\n",
    "df = df.T\n",
    "df.head(10)"
   ]
  },
  {
   "cell_type": "markdown",
   "metadata": {},
   "source": [
    "Query Vector"
   ]
  },
  {
   "cell_type": "code",
   "execution_count": 11,
   "metadata": {},
   "outputs": [
    {
     "data": {
      "text/html": [
       "<div>\n",
       "<style scoped>\n",
       "    .dataframe tbody tr th:only-of-type {\n",
       "        vertical-align: middle;\n",
       "    }\n",
       "\n",
       "    .dataframe tbody tr th {\n",
       "        vertical-align: top;\n",
       "    }\n",
       "\n",
       "    .dataframe thead th {\n",
       "        text-align: right;\n",
       "    }\n",
       "</style>\n",
       "<table border=\"1\" class=\"dataframe\">\n",
       "  <thead>\n",
       "    <tr style=\"text-align: right;\">\n",
       "      <th></th>\n",
       "      <th>BR_1267501_SRC</th>\n",
       "    </tr>\n",
       "  </thead>\n",
       "  <tbody>\n",
       "    <tr>\n",
       "      <th>0</th>\n",
       "      <td>new</td>\n",
       "    </tr>\n",
       "    <tr>\n",
       "      <th>1</th>\n",
       "      <td>privat</td>\n",
       "    </tr>\n",
       "    <tr>\n",
       "      <th>2</th>\n",
       "      <td>brows</td>\n",
       "    </tr>\n",
       "    <tr>\n",
       "      <th>3</th>\n",
       "      <td>overflow</td>\n",
       "    </tr>\n",
       "    <tr>\n",
       "      <th>4</th>\n",
       "      <td>side</td>\n",
       "    </tr>\n",
       "    <tr>\n",
       "      <th>5</th>\n",
       "      <td>make</td>\n",
       "    </tr>\n",
       "    <tr>\n",
       "      <th>6</th>\n",
       "      <td>content</td>\n",
       "    </tr>\n",
       "    <tr>\n",
       "      <th>7</th>\n",
       "      <td>unscrol</td>\n",
       "    </tr>\n",
       "    <tr>\n",
       "      <th>8</th>\n",
       "      <td>small</td>\n",
       "    </tr>\n",
       "    <tr>\n",
       "      <th>9</th>\n",
       "      <td>window</td>\n",
       "    </tr>\n",
       "  </tbody>\n",
       "</table>\n",
       "</div>"
      ],
      "text/plain": [
       "  BR_1267501_SRC\n",
       "0            new\n",
       "1         privat\n",
       "2          brows\n",
       "3       overflow\n",
       "4           side\n",
       "5           make\n",
       "6        content\n",
       "7        unscrol\n",
       "8          small\n",
       "9         window"
      ]
     },
     "execution_count": 11,
     "metadata": {},
     "output_type": "execute_result"
    }
   ],
   "source": [
    "tokenizer = tok.PorterStemmerBased_Tokenizer()\n",
    "query_vec = [tokenizer.__call__(doc) for doc in query]\n",
    "df_q = pd.DataFrame(query_vec)\n",
    "df_q.index = bug_reports_names\n",
    "df_q.index.name = ''\n",
    "df_q = df_q.T\n",
    "df_q.head(10)"
   ]
  },
  {
   "cell_type": "markdown",
   "metadata": {},
   "source": [
    "Average Document Length"
   ]
  },
  {
   "cell_type": "code",
   "execution_count": 12,
   "metadata": {},
   "outputs": [
    {
     "data": {
      "text/plain": [
       "39.0"
      ]
     },
     "execution_count": 12,
     "metadata": {},
     "output_type": "execute_result"
    }
   ],
   "source": [
    "bm25_model.bm25.avgdl"
   ]
  },
  {
   "cell_type": "markdown",
   "metadata": {},
   "source": [
    "Number of documents"
   ]
  },
  {
   "cell_type": "code",
   "execution_count": 13,
   "metadata": {},
   "outputs": [
    {
     "data": {
      "text/plain": [
       "3"
      ]
     },
     "execution_count": 13,
     "metadata": {},
     "output_type": "execute_result"
    }
   ],
   "source": [
    "bm25_model.bm25.corpus_size"
   ]
  },
  {
   "cell_type": "markdown",
   "metadata": {},
   "source": [
    "Term frequency by document"
   ]
  },
  {
   "cell_type": "code",
   "execution_count": 14,
   "metadata": {},
   "outputs": [],
   "source": [
    "#bm25_model.bm25.f"
   ]
  },
  {
   "cell_type": "code",
   "execution_count": 15,
   "metadata": {},
   "outputs": [
    {
     "data": {
      "text/plain": [
       "{'new': -0.5108256237659907,\n",
       " 'awesom': 0.5108256237659907,\n",
       " 'bar': -0.5108256237659907,\n",
       " 'search': 0.5108256237659907,\n",
       " 'default': -0.5108256237659907,\n",
       " 'state': 0.5108256237659907,\n",
       " 'nan': -0.5108256237659907,\n",
       " 'launch': -0.5108256237659907,\n",
       " 'firefox': -0.5108256237659907,\n",
       " 'no': 0.5108256237659907,\n",
       " 'awesomebar': 0.5108256237659907,\n",
       " 'entri': 0.5108256237659907,\n",
       " 'without': -0.5108256237659907,\n",
       " 'ani': -1.9459101490553135,\n",
       " 'issu': -0.5108256237659907,\n",
       " 'url': 0.5108256237659907,\n",
       " 'display': 0.5108256237659907,\n",
       " 'set': 0.5108256237659907,\n",
       " 'home': 0.5108256237659907,\n",
       " 'page': -0.5108256237659907,\n",
       " 'apz': 0.5108256237659907,\n",
       " 'async': 0.5108256237659907,\n",
       " 'scroll': 0.5108256237659907,\n",
       " 'long': 0.5108256237659907,\n",
       " 'web': 0.5108256237659907,\n",
       " 'make': 0.5108256237659907,\n",
       " 'sure': 0.5108256237659907,\n",
       " 'true': 0.5108256237659907,\n",
       " 'config': 0.5108256237659907,\n",
       " 'open': 0.5108256237659907,\n",
       " 'http': 0.5108256237659907,\n",
       " 'use': -0.5108256237659907,\n",
       " 'mous': 0.5108256237659907,\n",
       " 'wheel': 0.5108256237659907,\n",
       " 'arrow': 0.5108256237659907,\n",
       " 'key': 0.5108256237659907,\n",
       " 'space': 0.5108256237659907,\n",
       " 'ctrl': 0.5108256237659907,\n",
       " 'smooth': 0.5108256237659907,\n",
       " 'jerki': 0.5108256237659907,\n",
       " 'render': 0.5108256237659907,\n",
       " 'browser': 0.5108256237659907,\n",
       " 'custom': 0.5108256237659907,\n",
       " 'instal': 0.5108256237659907,\n",
       " 'complet': 0.5108256237659907,\n",
       " 'theme': 0.5108256237659907,\n",
       " 'restart': 0.5108256237659907,\n",
       " 'user': 0.5108256237659907,\n",
       " 'abl': 0.5108256237659907,\n",
       " 'initi': 0.5108256237659907,\n",
       " 'process': 0.5108256237659907,\n",
       " 'onc': 0.5108256237659907,\n",
       " 'enabl': 0.5108256237659907,\n",
       " 'latest': 0.5108256237659907,\n",
       " 'replac': 0.5108256237659907,\n",
       " 'previous': 0.5108256237659907,\n",
       " 'activ': 0.5108256237659907,\n",
       " 'lightweight': 0.5108256237659907,\n",
       " 'previou': 0.5108256237659907,\n",
       " 'disabl': 0.5108256237659907,\n",
       " 'appear': 0.5108256237659907,\n",
       " 'section': 0.5108256237659907,\n",
       " 'manag': 0.5108256237659907}"
      ]
     },
     "execution_count": 15,
     "metadata": {},
     "output_type": "execute_result"
    }
   ],
   "source": [
    "bm25_model.bm25.idf"
   ]
  }
 ],
 "metadata": {
  "kernelspec": {
   "display_name": "Python 3",
   "language": "python",
   "name": "python3"
  },
  "language_info": {
   "codemirror_mode": {
    "name": "ipython",
    "version": 3
   },
   "file_extension": ".py",
   "mimetype": "text/x-python",
   "name": "python",
   "nbconvert_exporter": "python",
   "pygments_lexer": "ipython3",
   "version": "3.7.3"
  }
 },
 "nbformat": 4,
 "nbformat_minor": 2
}

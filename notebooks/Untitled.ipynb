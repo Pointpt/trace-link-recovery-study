{
 "cells": [
  {
   "cell_type": "code",
   "execution_count": 1,
   "metadata": {},
   "outputs": [
    {
     "name": "stdout",
     "output_type": "stream",
     "text": [
      "             precision    recall  f1-score   support\n",
      "\n",
      "          a       0.50      0.50      0.50         2\n",
      "          b       1.00      0.50      0.67         2\n",
      "          c       1.00      1.00      1.00         3\n",
      "\n",
      "avg / total       0.86      0.71      0.76         7\n",
      "\n"
     ]
    }
   ],
   "source": [
    "import pandas as pd\n",
    "from sklearn.metrics import classification_report, confusion_matrix, precision_recall_fscore_support\n",
    "\n",
    "df1 = pd.DataFrame({'a': [1, 0, 1], 'b': [1, 1, 0], 'c' : [1, 1, 1]})\n",
    "df2 = pd.DataFrame({'a': [1, 1, 0], 'b': [1, 0, 0], 'c' : [1, 1, 1]})\n",
    "\n",
    "print(classification_report(y_pred=df2, y_true=df1, target_names=df1.columns))"
   ]
  },
  {
   "cell_type": "code",
   "execution_count": 2,
   "metadata": {},
   "outputs": [
    {
     "data": {
      "text/plain": [
       "(array([0.5, 1. , 1. ]),\n",
       " array([0.5, 0.5, 1. ]),\n",
       " array([0.5       , 0.66666667, 1.        ]),\n",
       " array([2, 2, 3]))"
      ]
     },
     "execution_count": 2,
     "metadata": {},
     "output_type": "execute_result"
    }
   ],
   "source": [
    "precision_recall_fscore_support(y_pred=df2, y_true=df1)"
   ]
  },
  {
   "cell_type": "code",
   "execution_count": 8,
   "metadata": {},
   "outputs": [
    {
     "name": "stdout",
     "output_type": "stream",
     "text": [
      "col tn fp fn tp\n",
      "a    0  1  1  1\n",
      "b    1  0  1  1\n"
     ]
    },
    {
     "ename": "ValueError",
     "evalue": "not enough values to unpack (expected 4, got 1)",
     "output_type": "error",
     "traceback": [
      "\u001b[0;31m---------------------------------------------------------------------------\u001b[0m",
      "\u001b[0;31mValueError\u001b[0m                                Traceback (most recent call last)",
      "\u001b[0;32m<ipython-input-8-7f210c790577>\u001b[0m in \u001b[0;36m<module>\u001b[0;34m()\u001b[0m\n\u001b[1;32m      4\u001b[0m     \u001b[0mprint\u001b[0m\u001b[0;34m(\u001b[0m\u001b[0;34m\"{:3} {:2} {:2} {:2} {:2}\"\u001b[0m\u001b[0;34m.\u001b[0m\u001b[0mformat\u001b[0m\u001b[0;34m(\u001b[0m\u001b[0mcol\u001b[0m\u001b[0;34m,\u001b[0m \u001b[0mtn\u001b[0m\u001b[0;34m,\u001b[0m \u001b[0mfp\u001b[0m\u001b[0;34m,\u001b[0m \u001b[0mfn\u001b[0m\u001b[0;34m,\u001b[0m \u001b[0mtp\u001b[0m\u001b[0;34m)\u001b[0m\u001b[0;34m)\u001b[0m\u001b[0;34m\u001b[0m\u001b[0m\n\u001b[1;32m      5\u001b[0m \u001b[0;34m\u001b[0m\u001b[0m\n\u001b[0;32m----> 6\u001b[0;31m \u001b[0mtn_c\u001b[0m\u001b[0;34m,\u001b[0m \u001b[0mfp_c\u001b[0m\u001b[0;34m,\u001b[0m \u001b[0mfn_c\u001b[0m\u001b[0;34m,\u001b[0m \u001b[0mtp_c\u001b[0m \u001b[0;34m=\u001b[0m \u001b[0mconfusion_matrix\u001b[0m\u001b[0;34m(\u001b[0m\u001b[0my_pred\u001b[0m\u001b[0;34m=\u001b[0m\u001b[0mdf2\u001b[0m\u001b[0;34m[\u001b[0m\u001b[0;34m'c'\u001b[0m\u001b[0;34m]\u001b[0m\u001b[0;34m,\u001b[0m \u001b[0my_true\u001b[0m\u001b[0;34m=\u001b[0m\u001b[0mdf1\u001b[0m\u001b[0;34m[\u001b[0m\u001b[0;34m'c'\u001b[0m\u001b[0;34m]\u001b[0m\u001b[0;34m)\u001b[0m\u001b[0;34m.\u001b[0m\u001b[0mravel\u001b[0m\u001b[0;34m(\u001b[0m\u001b[0;34m)\u001b[0m\u001b[0;34m\u001b[0m\u001b[0m\n\u001b[0m\u001b[1;32m      7\u001b[0m \u001b[0mprint\u001b[0m\u001b[0;34m(\u001b[0m\u001b[0;34m\"{:3} {:2} {:2} {:2} {:2}\"\u001b[0m\u001b[0;34m.\u001b[0m\u001b[0mformat\u001b[0m\u001b[0;34m(\u001b[0m\u001b[0mcol\u001b[0m\u001b[0;34m,\u001b[0m \u001b[0mtn_c\u001b[0m\u001b[0;34m,\u001b[0m \u001b[0mfp_c\u001b[0m\u001b[0;34m,\u001b[0m \u001b[0mfn_c\u001b[0m\u001b[0;34m,\u001b[0m \u001b[0mtp_c\u001b[0m\u001b[0;34m)\u001b[0m\u001b[0;34m)\u001b[0m\u001b[0;34m\u001b[0m\u001b[0m\n",
      "\u001b[0;31mValueError\u001b[0m: not enough values to unpack (expected 4, got 1)"
     ]
    }
   ],
   "source": [
    "print('{:3} {:2} {:2} {:2} {:2}'.format('col', 'tn', 'fp', 'fn', 'tp'))\n",
    "for col in df2.columns.delete(-1):\n",
    "    tn, fp, fn, tp = confusion_matrix(y_pred=df2[col], y_true=df1[col]).ravel()\n",
    "    print(\"{:3} {:2} {:2} {:2} {:2}\".format(col, tn, fp, fn, tp))\n",
    "\n",
    "tn_c, fp_c, fn_c, tp_c = confusion_matrix(y_pred=df2['c'], y_true=df1['c']).ravel()\n",
    "print(\"{:3} {:2} {:2} {:2} {:2}\".format(col, tn_c, fp_c, fn_c, tp_c))"
   ]
  }
 ],
 "metadata": {
  "kernelspec": {
   "display_name": "Python 3",
   "language": "python",
   "name": "python3"
  },
  "language_info": {
   "codemirror_mode": {
    "name": "ipython",
    "version": 3
   },
   "file_extension": ".py",
   "mimetype": "text/x-python",
   "name": "python",
   "nbconvert_exporter": "python",
   "pygments_lexer": "ipython3",
   "version": "3.6.6"
  }
 },
 "nbformat": 4,
 "nbformat_minor": 2
}

{
 "cells": [
  {
   "cell_type": "markdown",
   "metadata": {},
   "source": [
    "# Introduction\n",
    "\n",
    "In this notebook we demonstrate the use of LSI (Latent Semantic Indexing) Information Retrieval technique to make trace link recovery between Use Cases and Bug Reports.\n",
    "\n",
    "We model our study as follows:\n",
    "\n",
    "* Each bug report title, summary and description compose a single query.\n",
    "* We use each use case content as an entire document that must be returned to the query made"
   ]
  },
  {
   "cell_type": "markdown",
   "metadata": {},
   "source": [
    "## Import Libraries"
   ]
  },
  {
   "cell_type": "code",
   "execution_count": 1,
   "metadata": {},
   "outputs": [],
   "source": [
    "import pandas as pd\n",
    "import numpy as np\n",
    "import seaborn as sns\n",
    "\n",
    "import matplotlib.pyplot as plt\n",
    "\n",
    "from sklearn.pipeline import Pipeline\n",
    "from sklearn.metrics import precision_recall_fscore_support, pairwise_distances, pairwise\n",
    "from sklearn.externals import joblib\n",
    "from sklearn.decomposition import TruncatedSVD\n",
    "from sklearn.feature_extraction.text import TfidfVectorizer, CountVectorizer\n",
    "from scipy.sparse import csr_matrix\n",
    "\n",
    "from nltk.stem import LancasterStemmer, PorterStemmer, SnowballStemmer\n",
    "from nltk import word_tokenize\n",
    "from nltk.stem import WordNetLemmatizer \n",
    "\n",
    "import datetime\n",
    "import pprint\n",
    "from enum import Enum\n",
    "\n",
    "import warnings; warnings.simplefilter('ignore')"
   ]
  },
  {
   "cell_type": "markdown",
   "metadata": {},
   "source": [
    "## Load Dataset and Preprocessing"
   ]
  },
  {
   "cell_type": "code",
   "execution_count": 2,
   "metadata": {},
   "outputs": [],
   "source": [
    "trace_df = pd.read_csv('../../data/jEdit/jEditDataset/oracle/output/trace_matrix.csv')\n",
    "artfs_desc_df = pd.read_csv('../../data/jEdit/jEditDataset/oracle/output/artifacts_descriptions.csv', sep=\"|\")\n",
    "\n",
    "use_cases_df = artfs_desc_df[artfs_desc_df.artf_description.str.contains('Use Case ID')]\n",
    "bug_reports_df = artfs_desc_df[artfs_desc_df.artf_description.str.contains('Bug Number')]\n",
    "\n",
    "corpus = use_cases_df.artf_description\n",
    "query = bug_reports_df.artf_description\n",
    "\n",
    "use_cases_names = use_cases_df.artf_name\n",
    "bug_reports_names = bug_reports_df.artf_name"
   ]
  },
  {
   "cell_type": "markdown",
   "metadata": {},
   "source": [
    "# LSI Model"
   ]
  },
  {
   "cell_type": "markdown",
   "metadata": {},
   "source": [
    "#### Model Hyperparameters"
   ]
  },
  {
   "cell_type": "code",
   "execution_count": 3,
   "metadata": {},
   "outputs": [],
   "source": [
    "class LSI_Model_Hyperp(Enum):\n",
    "    NAME = 'lsi__name'\n",
    "    MIN_COSINE_SIMILARITY_THRESHOLD = 'lsi__min_cosine_similarity_threshold'\n",
    "    VECTORIZER = 'lsi__vectorizer'\n",
    "    VECTORIZER_STOP_WORDS = 'lsi__vectorizer__stop_words'\n",
    "    VECTORIZER_TOKENIZER = 'lsi__vectorizer__tokenizer'\n",
    "    VECTORIZER_USE_IDF = 'lsi__vectorizer__use_idf'\n",
    "    VECTORIZER_SMOOTH_IDF = 'lsi__vectorizer__smooth_idf'\n",
    "    VECTORIZER_NGRAM_RANGE = 'lsi__vectorizer__ngram_range'\n",
    "    SVD_MODEL = 'lsi__svd_model'\n",
    "    SVD_MODEL_N_COMPONENTS = 'lsi__svd_model__n_components'"
   ]
  },
  {
   "cell_type": "markdown",
   "metadata": {},
   "source": [
    "#### Tokenizers"
   ]
  },
  {
   "cell_type": "code",
   "execution_count": 4,
   "metadata": {},
   "outputs": [],
   "source": [
    "\"\"\"\n",
    "Others stemmers are not relevant for our analysis:\n",
    " . RSLP Stemmer: portuguese language\n",
    " . ISRIS Stemmer: returns Arabic root for the given token \n",
    " . Regexp Stemmer: uses regulax expressions to identify morphological affixes\n",
    " \n",
    "Relevant Stemmers/Lemmatizers are implemented below. \n",
    "\"\"\"\n",
    "\n",
    "class WordNetBased_LemmaTokenizer(object):\n",
    "    def __init__(self):\n",
    "        self.wnl = WordNetLemmatizer()\n",
    "    def __call__(self, doc):\n",
    "        return [self.wnl.lemmatize(token) for token in word_tokenize(doc)]\n",
    "\n",
    "class LancasterStemmerBased_Tokenizer(object):\n",
    "    def __init__(self):\n",
    "        self.stemmer = LancasterStemmer()\n",
    "    def __call__(self, doc):\n",
    "        return [self.stemmer.stem(token) for token in word_tokenize(doc)]\n",
    "\n",
    "class PorterStemmerBased_Tokenizer(object):\n",
    "    def __init__(self):\n",
    "        self.stemmer = PorterStemmer()\n",
    "    def __call__(self, doc):\n",
    "        return [self.stemmer.stem(token) for token in word_tokenize(doc)]\n",
    "    \n",
    "class SnowballStemmerBased_Tokenizer(object):\n",
    "    def __init__(self):\n",
    "        self.stemmer = SnowballStemmer('english')\n",
    "    def __call__(self, doc):\n",
    "        return [self.stemmer.stem(token) for token in word_tokenize(doc)]"
   ]
  },
  {
   "cell_type": "markdown",
   "metadata": {},
   "source": [
    "#### Model Defintion"
   ]
  },
  {
   "cell_type": "code",
   "execution_count": 5,
   "metadata": {},
   "outputs": [],
   "source": [
    "\"\"\"\n",
    "params_dict = {\n",
    "    'lsi__min_cosine_similarity_threshold' : .9,\n",
    "    'lsi__name' : 'LSI',\n",
    "    'lsi__vectorizer' : TfidfVectorizer(),\n",
    "    'lsi__vectorizer__stop_words' : 'english',\n",
    "    'lsi__vectorizer__tokenizer' : Tokenizer(),\n",
    "    'lsi__vectorizer__use_idf' : True,          # optional if type(Vectorizer) == TfidfVectorizer\n",
    "    'lsi__vectorizer__smooth_idf' : True,       # optional if type(Vectorizer) == TfidfVectorizer\n",
    "    'lsi__vectorizer__ngram_range' : (1,2),\n",
    "    'lsi__svd_model' : TruncatedSVD(),\n",
    "    'lsi__svd_model__n_components' : 5\n",
    "}\n",
    "\"\"\"\n",
    "class LSI:\n",
    "    def __init__(self, **kwargs):\n",
    "        self._svd_matrix = None\n",
    "        self._query_vector = None\n",
    "        \n",
    "        self.name = None\n",
    "        self.min_cosine_similarity_threshold = None\n",
    "        self.trace_links_df = None\n",
    "        self.vectorizer = None\n",
    "        self.svd_model = None\n",
    "        \n",
    "        self.set_name(**kwargs)\n",
    "        self.set_min_cosine_similarity_threshold(**kwargs)\n",
    "        self.set_vectorizer(**kwargs)\n",
    "        self.set_svd_model(**kwargs)\n",
    "    \n",
    "    def set_name(self, **kwargs):\n",
    "        self.name = 'LSI' if LSI_Model_Hyperp.NAME.value not in kwargs.keys() else kwargs[LSI_Model_Hyperp.NAME.value]\n",
    "    \n",
    "    def set_min_cosine_similarity_threshold(self, **kwargs):\n",
    "        self.min_cosine_similarity_threshold = .80 if LSI_Model_Hyperp.MIN_COSINE_SIMILARITY_THRESHOLD.value not in kwargs.keys() else kwargs[LSI_Model_Hyperp.MIN_COSINE_SIMILARITY_THRESHOLD.value]\n",
    "    \n",
    "    def set_vectorizer(self, **kwargs):\n",
    "        self.vectorizer = TfidfVectorizer(stop_words='english',\n",
    "                                             use_idf=True, \n",
    "                                             smooth_idf=True) if LSI_Model_Hyperp.VECTORIZER.value not in kwargs.keys() else kwargs[LSI_Model_Hyperp.VECTORIZER.value]\n",
    "        \n",
    "        vec_params = {key.split('__')[2]:kwargs[key] for key,val in kwargs.items() if '__vectorizer__' in key}\n",
    "        self.vectorizer.set_params(**vec_params)\n",
    "    \n",
    "    def set_svd_model(self, **kwargs):\n",
    "        self.svd_model = TruncatedSVD(n_components = 100, \n",
    "                                         algorithm = 'randomized',\n",
    "                                         n_iter = 10, \n",
    "                                         random_state = 42) if LSI_Model_Hyperp.SVD_MODEL.value not in kwargs.keys() else kwargs[LSI_Model_Hyperp.SVD_MODEL.value]\n",
    "        \n",
    "        svd_model_params = {key.split('__')[2]:kwargs[key] for key,val in kwargs.items() if '__svd_model__' in key}\n",
    "        self.svd_model.set_params(**svd_model_params)\n",
    "    \n",
    "    def recover_links(self, corpus, query, use_cases_names, bug_reports_names):\n",
    "        svd_transformer = Pipeline([('vec', self.vectorizer), \n",
    "                            ('svd', self.svd_model)])\n",
    "\n",
    "        self._svd_matrix = svd_transformer.fit_transform(corpus)\n",
    "        self._query_vector = svd_transformer.transform(query)\n",
    "        \n",
    "        # D 14 x 10\n",
    "        self._cosine_sim_matrix = pairwise.cosine_similarity(self._svd_matrix,\n",
    "                                                            self._query_vector)\n",
    "        \n",
    "        self.trace_links_df = pd.DataFrame(index = use_cases_names, \n",
    "                                           columns = bug_reports_names,\n",
    "                                           data = self._cosine_sim_matrix)\n",
    "\n",
    "        for col in self.trace_links_df.columns:\n",
    "            self.trace_links_df[col] = [1 if x >= self.min_cosine_similarity_threshold else 0 for x in self.trace_links_df[col]]\n",
    "\n",
    "    def model_setup(self):\n",
    "        return {\"Setup\" : \n",
    "                  [\n",
    "                      {\"LSI Minimum Cosine Similarity Threshold\" : self.min_cosine_similarity_threshold},\n",
    "                      {\"SVD Model\" : self.svd_model.get_params()},\n",
    "                      {\"Vectorizer\" : self.vectorizer.get_params()},\n",
    "                      {\"Vectorizer Type\" : type(self.vectorizer)}\n",
    "                  ]\n",
    "               }\n",
    "    \n",
    "    def get_name(self):\n",
    "        return self.name\n",
    "    \n",
    "    def get_cosine_sim_matrix(self):\n",
    "        return self._cosine_sim_matrix\n",
    "    \n",
    "    def get_query_vector(self):\n",
    "        return self._query_vector\n",
    "    \n",
    "    def get_svd_matrix(self):\n",
    "        return self._svd_matrix\n",
    "    \n",
    "    def get_min_cosine_similarity_threshold(self):\n",
    "        return self.min_cosine_similarity_threshold"
   ]
  },
  {
   "cell_type": "markdown",
   "metadata": {},
   "source": [
    "### Oracle Loader"
   ]
  },
  {
   "cell_type": "code",
   "execution_count": 6,
   "metadata": {},
   "outputs": [],
   "source": [
    "class OracleLoader:\n",
    "    def __init__(self, rows_names, columns_names):\n",
    "        self.oracle = None\n",
    "        self._columns_names = columns_names\n",
    "        self._rows_names = rows_names\n",
    "    \n",
    "    def load(self):\n",
    "        self.oracle = pd.DataFrame(columns=list(self._columns_names))\n",
    "        self.oracle.insert(0, 'artf_name', list(self._rows_names))\n",
    "        \n",
    "        for index, row in trace_df.iterrows():\n",
    "            idx = self.oracle[self.oracle.artf_name == row['trg_artf']].index\n",
    "            self.oracle.at[idx, row['src_artf']] = row['link']\n",
    "\n",
    "        self.oracle.set_index('artf_name', inplace=True)"
   ]
  },
  {
   "cell_type": "markdown",
   "metadata": {},
   "source": [
    "### Model Evaluator"
   ]
  },
  {
   "cell_type": "code",
   "execution_count": 7,
   "metadata": {},
   "outputs": [],
   "source": [
    "class ModelEvaluator:\n",
    "    def __init__(self, oracle, model):\n",
    "        self.model = model\n",
    "        self.oracle = oracle\n",
    "        self.recovered_links = model.trace_links_df\n",
    "        \n",
    "        self.eval_df = pd.DataFrame(columns=['precision','recall','fscore','support'])\n",
    "        self.mean_precision = -1\n",
    "        self.mean_recall = -1\n",
    "        self.mean_fscore = -1\n",
    "    \n",
    "    def evaluate_model(self, verbose=False, file=None):\n",
    "        y_true = csr_matrix(self.oracle.values, dtype=int)\n",
    "        y_pred = csr_matrix(self.recovered_links.values, dtype=int)\n",
    "        \n",
    "        p, r, f, sp = precision_recall_fscore_support(y_true, y_pred)\n",
    "\n",
    "        i = 0\n",
    "        for idx, row in self.oracle.iteritems():\n",
    "            self.eval_df.at[idx, 'precision'] = p[i]\n",
    "            self.eval_df.at[idx, 'recall'] = r[i]\n",
    "            self.eval_df.at[idx, 'fscore'] = f[i]\n",
    "            self.eval_df.at[idx, 'support'] = sp[i]\n",
    "            i += 1\n",
    "        \n",
    "        self.mean_precision = self.eval_df.precision.mean()\n",
    "        self.mean_recall = self.eval_df.recall.mean()\n",
    "        self.mean_fscore = self.eval_df.fscore.mean()\n",
    "        \n",
    "        if verbose:\n",
    "            self.print_report(file)\n",
    "    \n",
    "    def print_report(self, file=None):\n",
    "        dic = self.model.model_setup()\n",
    "        dic['Measures'] = {}\n",
    "        dic['Measures']['Mean Precision of {}'.format(self.model.get_name())] = self.get_mean_precision()\n",
    "        dic['Measures']['Mean Recall of {}'.format(self.model.get_name())] = self.get_mean_recall()\n",
    "        dic['Measures']['Mean FScore of {}'.format(self.model.get_name())] = self.get_mean_fscore()\n",
    "        \n",
    "        if file is None:    \n",
    "            pprint.pprint(dic)\n",
    "        else:\n",
    "            file.write(pprint.pformat(dic))\n",
    "        \n",
    "    def plot_precision_vs_recall(self):\n",
    "        plt.figure(figsize=(6,6))\n",
    "        plt.plot(self.eval_df.recall, self.eval_df.precision, 'ro', label='Precision vs Recall')\n",
    "\n",
    "        plt.ylabel('Precision')\n",
    "        plt.xlabel('Recall')\n",
    "\n",
    "        plt.axis([0, 1.1, 0, 1.1])\n",
    "        plt.title(\"Precision vs Recall Plot - \" + self.model.get_name())\n",
    "        plt.show()\n",
    "    \n",
    "    def save_log(self):\n",
    "        print(\"\\nSaving model log...\")\n",
    "        with open('../logs/' + str(datetime.datetime.now()) + '.txt', 'a') as f:\n",
    "            evaluator.evaluate_model(verbose=True, file=f)\n",
    "        print(\"Model log saved with success!\")\n",
    "            \n",
    "    def get_mean_precision(self):\n",
    "        return self.mean_precision\n",
    "    \n",
    "    def get_mean_recall(self):\n",
    "        return self.mean_recall\n",
    "    \n",
    "    def get_mean_fscore(self):\n",
    "        return self.mean_fscore"
   ]
  },
  {
   "cell_type": "markdown",
   "metadata": {},
   "source": [
    "## Evaluate Recovering Efficiency\n",
    "\n",
    "In order to evaluate the efficiency of the algorithm tested (LSI), we use common metrics applied in the field of IR:\n",
    "\n",
    "    * Precision\n",
    "    * Recall\n",
    "    * F1-score"
   ]
  },
  {
   "cell_type": "markdown",
   "metadata": {},
   "source": [
    "### Load Oracle"
   ]
  },
  {
   "cell_type": "code",
   "execution_count": 8,
   "metadata": {},
   "outputs": [],
   "source": [
    "orc = OracleLoader(use_cases_names, bug_reports_names)\n",
    "orc.load()"
   ]
  },
  {
   "cell_type": "markdown",
   "metadata": {},
   "source": [
    "### Function to Generate Hyperparameters"
   ]
  },
  {
   "cell_type": "code",
   "execution_count": 9,
   "metadata": {},
   "outputs": [],
   "source": [
    "from itertools import product\n",
    "\n",
    "def generate_params_comb_list(**kwargs):\n",
    "    list_params = []\n",
    "    for key, values in kwargs.items():\n",
    "        aux_list = []\n",
    "        for v in values:\n",
    "            aux_list.append((key, v))\n",
    "        list_params.append(aux_list)\n",
    "    \n",
    "    list_tuples = list(product(*list_params))\n",
    "    \n",
    "    list_dicts = []\n",
    "    for ex_tup in list_tuples:\n",
    "        dic = {}\n",
    "        for in_tup in ex_tup:\n",
    "            dic[in_tup[0]] = in_tup[1]\n",
    "        list_dicts.append(dic)\n",
    "        \n",
    "    return list_dicts"
   ]
  },
  {
   "cell_type": "markdown",
   "metadata": {},
   "source": [
    "#### Plot Results Function"
   ]
  },
  {
   "cell_type": "code",
   "execution_count": 10,
   "metadata": {},
   "outputs": [],
   "source": [
    "def plot_results_2(results_dict):\n",
    "    fig, ax = plt.subplots(figsize=(10,100)) \n",
    "    df = pd.DataFrame(results_dict)\n",
    "    df.set_index('model', inplace=True)       \n",
    "    ax = sns.heatmap(df, vmin=0, vmax=1, linewidths=.5, cmap=\"Greens\", annot=True, cbar=False, ax=ax)\n",
    "    "
   ]
  },
  {
   "cell_type": "markdown",
   "metadata": {},
   "source": [
    "### Find The Best Model"
   ]
  },
  {
   "cell_type": "code",
   "execution_count": 11,
   "metadata": {},
   "outputs": [
    {
     "name": "stdout",
     "output_type": "stream",
     "text": [
      "Performing model optimizations...\n",
      "------------ Report -------------------\n",
      "\n",
      "Total of Analyzed Hyperparameters Combinations: 400\n",
      "\n",
      "Best Model and Hyperparameters Found: LSI_Model_0\n",
      "\n",
      "{'Measures': {'Mean FScore of LSI_Model_0': 0.5916666666666667,\n",
      "              'Mean Precision of LSI_Model_0': 0.4678571428571429,\n",
      "              'Mean Recall of LSI_Model_0': 0.9285714285714286},\n",
      " 'Setup': [{'LSI Minimum Cosine Similarity Threshold': 0.75},\n",
      "           {'SVD Model': {'algorithm': 'randomized',\n",
      "                          'n_components': 5,\n",
      "                          'n_iter': 10,\n",
      "                          'random_state': 42,\n",
      "                          'tol': 0.0}},\n",
      "           {'Vectorizer': {'analyzer': 'word',\n",
      "                           'binary': False,\n",
      "                           'decode_error': 'strict',\n",
      "                           'dtype': <class 'numpy.int64'>,\n",
      "                           'encoding': 'utf-8',\n",
      "                           'input': 'content',\n",
      "                           'lowercase': True,\n",
      "                           'max_df': 1.0,\n",
      "                           'max_features': None,\n",
      "                           'min_df': 1,\n",
      "                           'ngram_range': (1, 2),\n",
      "                           'norm': 'l2',\n",
      "                           'preprocessor': None,\n",
      "                           'smooth_idf': True,\n",
      "                           'stop_words': 'english',\n",
      "                           'strip_accents': None,\n",
      "                           'sublinear_tf': False,\n",
      "                           'token_pattern': '(?u)\\\\b\\\\w\\\\w+\\\\b',\n",
      "                           'tokenizer': <__main__.SnowballStemmerBased_Tokenizer object at 0x7f4c5a225438>,\n",
      "                           'use_idf': True,\n",
      "                           'vocabulary': None}},\n",
      "           {'Vectorizer Type': <class 'sklearn.feature_extraction.text.TfidfVectorizer'>}]}\n",
      "\n",
      "Plot Precision vs Recall - Best Model\n"
     ]
    },
    {
     "data": {
      "image/png": "[encoded data removed]",
      "text/plain": [
       "<Figure size 432x432 with 1 Axes>"
      ]
     },
     "metadata": {
      "needs_background": "light"
     },
     "output_type": "display_data"
    }
   ],
   "source": [
    "all_hyperparams = {\n",
    "    LSI_Model_Hyperp.MIN_COSINE_SIMILARITY_THRESHOLD.value : [.75, .80, .85, .90, .95],\n",
    "    LSI_Model_Hyperp.SVD_MODEL_N_COMPONENTS.value: [5,10,20,50,100],\n",
    "    LSI_Model_Hyperp.VECTORIZER_NGRAM_RANGE.value: [(1,1), (1,2)],\n",
    "    LSI_Model_Hyperp.VECTORIZER.value : [TfidfVectorizer(stop_words='english', use_idf=True, smooth_idf=True), \n",
    "                         CountVectorizer(stop_words='english')],\n",
    "    LSI_Model_Hyperp.VECTORIZER_TOKENIZER.value : [PorterStemmerBased_Tokenizer(), LancasterStemmerBased_Tokenizer(), \n",
    "                                                   WordNetBased_LemmaTokenizer(), SnowballStemmerBased_Tokenizer()]\n",
    "}\n",
    "\n",
    "hyperparams = generate_params_comb_list(**all_hyperparams)\n",
    "\n",
    "print('Performing model optimizations...')\n",
    "best_precision = 0.0\n",
    "best_recall = 0.0\n",
    "best_fscore = 0.0\n",
    "best_model = None\n",
    "\n",
    "results = {'precision': [], 'recall': [], 'fscore': [], 'model': []}\n",
    "\n",
    "i = 0\n",
    "for hyperp in hyperparams:\n",
    "    hyperp[LSI_Model_Hyperp.NAME.value] = 'LSI_Model_{}'.format(i)\n",
    "    current_model = LSI(**hyperp)\n",
    "    current_model.recover_links(corpus, query, use_cases_names, bug_reports_names)\n",
    "    \n",
    "    evaluator = ModelEvaluator(orc.oracle, current_model)\n",
    "    evaluator.evaluate_model()\n",
    "\n",
    "    if best_recall <= evaluator.get_mean_recall():\n",
    "        best_recall = evaluator.get_mean_recall()\n",
    "        best_precision = evaluator.get_mean_precision()\n",
    "        best_fscore = evaluator.get_mean_fscore()\n",
    "        best_model = current_model\n",
    "    \n",
    "    results['precision'].append(evaluator.get_mean_precision())\n",
    "    results['recall'].append(evaluator.get_mean_recall())\n",
    "    results['fscore'].append(evaluator.get_mean_fscore())\n",
    "    results['model'].append(current_model.get_name())\n",
    "    \n",
    "    i += 1\n",
    "\n",
    "print(\"------------ Report -------------------\\n\")\n",
    "print(\"Total of Analyzed Hyperparameters Combinations: {}\".format(len(hyperparams)))\n",
    "\n",
    "print(\"\\nBest Model and Hyperparameters Found: {}\\n\".format(best_model.get_name()))            \n",
    "evaluator = ModelEvaluator(orc.oracle, best_model)\n",
    "evaluator.evaluate_model(verbose=True)\n",
    "\n",
    "print(\"\\nPlot Precision vs Recall - Best Model\")\n",
    "evaluator.plot_precision_vs_recall()\n",
    "\n",
    "#print(\"\\nHeatmap of All Models\")\n",
    "#plot_results_2(results)\n",
    "\n",
    "#evaluator.save_log()"
   ]
  },
  {
   "cell_type": "code",
   "execution_count": 12,
   "metadata": {},
   "outputs": [],
   "source": [
    "all_hyperparams_2 = {\n",
    "    LSI_Model_Hyperp.MIN_COSINE_SIMILARITY_THRESHOLD.value : [i/100 for i in range(1,10000,1)],\n",
    "    LSI_Model_Hyperp.SVD_MODEL_N_COMPONENTS.value: [best_model.svd_model.n_components],\n",
    "    LSI_Model_Hyperp.VECTORIZER_NGRAM_RANGE.value: [best_model.vectorizer.ngram_range],\n",
    "    LSI_Model_Hyperp.VECTORIZER.value : [best_model.vectorizer],\n",
    "    LSI_Model_Hyperp.VECTORIZER_TOKENIZER.value : [best_model.vectorizer.tokenizer]\n",
    "}\n",
    "\n",
    "hyperparams = generate_params_comb_list(**all_hyperparams)\n",
    "\n",
    "dic = {'precision':[], 'recall':[], 'threshold':[]}\n",
    "\n",
    "for hyperp in hyperparams:\n",
    "    current_model = LSI(**hyperp)\n",
    "    current_model.recover_links(corpus, query, use_cases_names, bug_reports_names)\n",
    "    \n",
    "    evaluator = ModelEvaluator(orc.oracle, current_model)\n",
    "    evaluator.evaluate_model()\n",
    "    \n",
    "    dic['precision'].append(evaluator.get_mean_precision())\n",
    "    dic['recall'].append(evaluator.get_mean_recall())\n",
    "    dic['threshold'].append(current_model.get_min_cosine_similarity_threshold())\n"
   ]
  },
  {
   "cell_type": "code",
   "execution_count": 13,
   "metadata": {},
   "outputs": [
    {
     "data": {
      "image/png": "[encoded data removed]",
      "text/plain": [
       "<Figure size 432x288 with 1 Axes>"
      ]
     },
     "metadata": {
      "needs_background": "light"
     },
     "output_type": "display_data"
    }
   ],
   "source": [
    "df = pd.DataFrame(dic)\n",
    "\n",
    "plt.plot(df['threshold'], df['precision'], 'r-')\n",
    "plt.plot(df['threshold'], df['recall'], 'b-')\n",
    "plt.xlabel('threshold')\n",
    "plt.show()"
   ]
  },
  {
   "cell_type": "markdown",
   "metadata": {},
   "source": [
    "### Analysis with Default Values of LSI Model"
   ]
  },
  {
   "cell_type": "code",
   "execution_count": 14,
   "metadata": {},
   "outputs": [
    {
     "name": "stdout",
     "output_type": "stream",
     "text": [
      "{'Measures': {'Mean FScore of LSI': 0.5714285714285714,\n",
      "              'Mean Precision of LSI': 0.6428571428571429,\n",
      "              'Mean Recall of LSI': 0.5357142857142857},\n",
      " 'Setup': [{'LSI Minimum Cosine Similarity Threshold': 0.8},\n",
      "           {'SVD Model': {'algorithm': 'randomized',\n",
      "                          'n_components': 100,\n",
      "                          'n_iter': 10,\n",
      "                          'random_state': 42,\n",
      "                          'tol': 0.0}},\n",
      "           {'Vectorizer': {'analyzer': 'word',\n",
      "                           'binary': False,\n",
      "                           'decode_error': 'strict',\n",
      "                           'dtype': <class 'numpy.int64'>,\n",
      "                           'encoding': 'utf-8',\n",
      "                           'input': 'content',\n",
      "                           'lowercase': True,\n",
      "                           'max_df': 1.0,\n",
      "                           'max_features': None,\n",
      "                           'min_df': 1,\n",
      "                           'ngram_range': (1, 1),\n",
      "                           'norm': 'l2',\n",
      "                           'preprocessor': None,\n",
      "                           'smooth_idf': True,\n",
      "                           'stop_words': 'english',\n",
      "                           'strip_accents': None,\n",
      "                           'sublinear_tf': False,\n",
      "                           'token_pattern': '(?u)\\\\b\\\\w\\\\w+\\\\b',\n",
      "                           'tokenizer': None,\n",
      "                           'use_idf': True,\n",
      "                           'vocabulary': None}},\n",
      "           {'Vectorizer Type': <class 'sklearn.feature_extraction.text.TfidfVectorizer'>}]}\n"
     ]
    },
    {
     "data": {
      "image/png": "[encoded data removed]",
      "text/plain": [
       "<Figure size 432x432 with 1 Axes>"
      ]
     },
     "metadata": {
      "needs_background": "light"
     },
     "output_type": "display_data"
    }
   ],
   "source": [
    "best_model = LSI()\n",
    "best_model.recover_links(corpus, query, use_cases_names, bug_reports_names)\n",
    "evaluator = ModelEvaluator(orc.oracle, best_model)\n",
    "evaluator.evaluate_model(verbose=True)\n",
    "evaluator.plot_precision_vs_recall()"
   ]
  },
  {
   "cell_type": "code",
   "execution_count": 15,
   "metadata": {},
   "outputs": [
    {
     "data": {
      "text/plain": [
       "True"
      ]
     },
     "execution_count": 15,
     "metadata": {},
     "output_type": "execute_result"
    }
   ],
   "source": [
    "sims_1 = pd.DataFrame(np.matrix(best_model.trace_links_df))\n",
    "sims_2 = pd.DataFrame(np.matrix(pairwise.cosine_similarity(best_model.get_svd_matrix(), best_model.get_query_vector()) ))\n",
    "\n",
    "for col in sims_2.columns:\n",
    "    sims_2[col] = [1 if x >= best_model.min_cosine_similarity_threshold else 0 for x in sims_2[col]]\n",
    "\n",
    "sims_1.equals(sims_2)"
   ]
  }
 ],
 "metadata": {
  "kernelspec": {
   "display_name": "Python 3",
   "language": "python",
   "name": "python3"
  },
  "language_info": {
   "codemirror_mode": {
    "name": "ipython",
    "version": 3
   },
   "file_extension": ".py",
   "mimetype": "text/x-python",
   "name": "python",
   "nbconvert_exporter": "python",
   "pygments_lexer": "ipython3",
   "version": "3.6.6"
  }
 },
 "nbformat": 4,
 "nbformat_minor": 2
}

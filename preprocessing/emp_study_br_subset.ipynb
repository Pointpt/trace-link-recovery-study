{
 "cells": [
  {
   "cell_type": "markdown",
   "metadata": {},
   "source": [
    "## Select Subset of Bug Reports for Empirical Study\n",
    "\n",
    "For the empirical study, made for the creation of the oracle matrix by volunteers, we make a selection of bug reports to filter the most relevant for our analysis and improve the power and improve our conclusions about the studied subject."
   ]
  },
  {
   "cell_type": "markdown",
   "metadata": {},
   "source": [
    "### Import Libraries"
   ]
  },
  {
   "cell_type": "code",
   "execution_count": 1,
   "metadata": {},
   "outputs": [],
   "source": [
    "import pandas as pd\n",
    "import seaborn as sns\n",
    "\n",
    "from IPython.display import display\n",
    "import matplotlib.pyplot as plt\n",
    "\n",
    "%matplotlib inline"
   ]
  },
  {
   "cell_type": "markdown",
   "metadata": {},
   "source": [
    "### Load Dataset"
   ]
  },
  {
   "cell_type": "code",
   "execution_count": 2,
   "metadata": {},
   "outputs": [],
   "source": [
    "bugreports_final = pd.read_csv('../data/mozilla_firefox_v2/firefoxDataset/docs_english/BR/bugreports_final.csv')"
   ]
  },
  {
   "cell_type": "code",
   "execution_count": 6,
   "metadata": {},
   "outputs": [
    {
     "data": {
      "text/html": [
       "<div>\n",
       "<style scoped>\n",
       "    .dataframe tbody tr th:only-of-type {\n",
       "        vertical-align: middle;\n",
       "    }\n",
       "\n",
       "    .dataframe tbody tr th {\n",
       "        vertical-align: top;\n",
       "    }\n",
       "\n",
       "    .dataframe thead th {\n",
       "        text-align: right;\n",
       "    }\n",
       "</style>\n",
       "<table border=\"1\" class=\"dataframe\">\n",
       "  <thead>\n",
       "    <tr style=\"text-align: right;\">\n",
       "      <th></th>\n",
       "      <th>Bug_Number</th>\n",
       "      <th>Summary</th>\n",
       "      <th>Platform</th>\n",
       "      <th>Component</th>\n",
       "      <th>Version</th>\n",
       "      <th>Creation_Time</th>\n",
       "      <th>Whiteboard</th>\n",
       "      <th>QA_Whiteboard</th>\n",
       "      <th>First_Comment_Text</th>\n",
       "      <th>First_Comment_Creation_Time</th>\n",
       "      <th>Status</th>\n",
       "      <th>Product</th>\n",
       "      <th>Priority</th>\n",
       "      <th>Resolution</th>\n",
       "      <th>Severity</th>\n",
       "      <th>Is_Confirmed</th>\n",
       "      <th>br_name</th>\n",
       "      <th>br_desc</th>\n",
       "    </tr>\n",
       "  </thead>\n",
       "  <tbody>\n",
       "    <tr>\n",
       "      <th>0</th>\n",
       "      <td>506297</td>\n",
       "      <td>Livemarks with null site/feed uris cause sync ...</td>\n",
       "      <td>All</td>\n",
       "      <td>Sync</td>\n",
       "      <td>unspecified</td>\n",
       "      <td>2009-07-24T17:08:43Z</td>\n",
       "      <td>NaN</td>\n",
       "      <td>NaN</td>\n",
       "      <td>2009-07-24 09:54:28     FaultTolerance       D...</td>\n",
       "      <td>2009-07-24T17:08:43Z</td>\n",
       "      <td>RESOLVED</td>\n",
       "      <td>Firefox</td>\n",
       "      <td>--</td>\n",
       "      <td>FIXED</td>\n",
       "      <td>normal</td>\n",
       "      <td>True</td>\n",
       "      <td>BR_506297_SRC</td>\n",
       "      <td>506297 Livemarks with null site/feed uris caus...</td>\n",
       "    </tr>\n",
       "    <tr>\n",
       "      <th>1</th>\n",
       "      <td>506338</td>\n",
       "      <td>Enhance Crash Recovery to better help the user</td>\n",
       "      <td>All</td>\n",
       "      <td>Session Restore</td>\n",
       "      <td>Trunk</td>\n",
       "      <td>2009-07-24T19:17:21Z</td>\n",
       "      <td>[crashkill][crashkill-metrics]</td>\n",
       "      <td>NaN</td>\n",
       "      <td>When our users crash they are pretty much in t...</td>\n",
       "      <td>2009-07-24T19:17:21Z</td>\n",
       "      <td>NEW</td>\n",
       "      <td>Firefox</td>\n",
       "      <td>--</td>\n",
       "      <td>NaN</td>\n",
       "      <td>enhancement</td>\n",
       "      <td>True</td>\n",
       "      <td>BR_506338_SRC</td>\n",
       "      <td>506338 Enhance Crash Recovery to better help t...</td>\n",
       "    </tr>\n",
       "    <tr>\n",
       "      <th>2</th>\n",
       "      <td>506507</td>\n",
       "      <td>Dragging multiple bookmarks in the bookmarks s...</td>\n",
       "      <td>x86</td>\n",
       "      <td>Bookmarks &amp; History</td>\n",
       "      <td>Trunk</td>\n",
       "      <td>2009-07-26T06:16:02Z</td>\n",
       "      <td>NaN</td>\n",
       "      <td>NaN</td>\n",
       "      <td>User-Agent:       Mozilla/5.0 (Windows; U; Win...</td>\n",
       "      <td>2009-07-26T06:16:02Z</td>\n",
       "      <td>RESOLVED</td>\n",
       "      <td>Firefox</td>\n",
       "      <td>--</td>\n",
       "      <td>WORKSFORME</td>\n",
       "      <td>normal</td>\n",
       "      <td>True</td>\n",
       "      <td>BR_506507_SRC</td>\n",
       "      <td>506507 Dragging multiple bookmarks in the book...</td>\n",
       "    </tr>\n",
       "    <tr>\n",
       "      <th>3</th>\n",
       "      <td>506550</td>\n",
       "      <td>Unreliable Back Button navigating nytimes.com</td>\n",
       "      <td>x86</td>\n",
       "      <td>Extension Compatibility</td>\n",
       "      <td>3.5 Branch</td>\n",
       "      <td>2009-07-26T16:12:10Z</td>\n",
       "      <td>[caused by adblock plus][platform-rel-NYTimes]</td>\n",
       "      <td>NaN</td>\n",
       "      <td>User-Agent:       Mozilla/5.0 (Windows; U; Win...</td>\n",
       "      <td>2009-07-26T16:12:10Z</td>\n",
       "      <td>RESOLVED</td>\n",
       "      <td>Firefox</td>\n",
       "      <td>--</td>\n",
       "      <td>FIXED</td>\n",
       "      <td>normal</td>\n",
       "      <td>False</td>\n",
       "      <td>BR_506550_SRC</td>\n",
       "      <td>506550 Unreliable Back Button navigating nytim...</td>\n",
       "    </tr>\n",
       "    <tr>\n",
       "      <th>4</th>\n",
       "      <td>506575</td>\n",
       "      <td>ALT + F4 when dropdown of autocomplete is open...</td>\n",
       "      <td>x86</td>\n",
       "      <td>Address Bar</td>\n",
       "      <td>3.5 Branch</td>\n",
       "      <td>2009-07-26T20:14:54Z</td>\n",
       "      <td>NaN</td>\n",
       "      <td>NaN</td>\n",
       "      <td>Pressing ALT + F4 when the autocomplete dropdo...</td>\n",
       "      <td>2009-07-26T20:14:54Z</td>\n",
       "      <td>NEW</td>\n",
       "      <td>Firefox</td>\n",
       "      <td>P5</td>\n",
       "      <td>NaN</td>\n",
       "      <td>normal</td>\n",
       "      <td>True</td>\n",
       "      <td>BR_506575_SRC</td>\n",
       "      <td>506575 ALT + F4 when dropdown of autocomplete ...</td>\n",
       "    </tr>\n",
       "  </tbody>\n",
       "</table>\n",
       "</div>"
      ],
      "text/plain": [
       "   Bug_Number                                            Summary Platform  \\\n",
       "0      506297  Livemarks with null site/feed uris cause sync ...      All   \n",
       "1      506338     Enhance Crash Recovery to better help the user      All   \n",
       "2      506507  Dragging multiple bookmarks in the bookmarks s...      x86   \n",
       "3      506550      Unreliable Back Button navigating nytimes.com      x86   \n",
       "4      506575  ALT + F4 when dropdown of autocomplete is open...      x86   \n",
       "\n",
       "                 Component      Version         Creation_Time  \\\n",
       "0                     Sync  unspecified  2009-07-24T17:08:43Z   \n",
       "1          Session Restore        Trunk  2009-07-24T19:17:21Z   \n",
       "2      Bookmarks & History        Trunk  2009-07-26T06:16:02Z   \n",
       "3  Extension Compatibility   3.5 Branch  2009-07-26T16:12:10Z   \n",
       "4              Address Bar   3.5 Branch  2009-07-26T20:14:54Z   \n",
       "\n",
       "                                       Whiteboard QA_Whiteboard  \\\n",
       "0                                             NaN           NaN   \n",
       "1                  [crashkill][crashkill-metrics]           NaN   \n",
       "2                                             NaN           NaN   \n",
       "3  [caused by adblock plus][platform-rel-NYTimes]           NaN   \n",
       "4                                             NaN           NaN   \n",
       "\n",
       "                                  First_Comment_Text  \\\n",
       "0  2009-07-24 09:54:28     FaultTolerance       D...   \n",
       "1  When our users crash they are pretty much in t...   \n",
       "2  User-Agent:       Mozilla/5.0 (Windows; U; Win...   \n",
       "3  User-Agent:       Mozilla/5.0 (Windows; U; Win...   \n",
       "4  Pressing ALT + F4 when the autocomplete dropdo...   \n",
       "\n",
       "  First_Comment_Creation_Time    Status  Product Priority  Resolution  \\\n",
       "0        2009-07-24T17:08:43Z  RESOLVED  Firefox       --       FIXED   \n",
       "1        2009-07-24T19:17:21Z       NEW  Firefox       --         NaN   \n",
       "2        2009-07-26T06:16:02Z  RESOLVED  Firefox       --  WORKSFORME   \n",
       "3        2009-07-26T16:12:10Z  RESOLVED  Firefox       --       FIXED   \n",
       "4        2009-07-26T20:14:54Z       NEW  Firefox       P5         NaN   \n",
       "\n",
       "      Severity Is_Confirmed        br_name  \\\n",
       "0       normal         True  BR_506297_SRC   \n",
       "1  enhancement         True  BR_506338_SRC   \n",
       "2       normal         True  BR_506507_SRC   \n",
       "3       normal        False  BR_506550_SRC   \n",
       "4       normal         True  BR_506575_SRC   \n",
       "\n",
       "                                             br_desc  \n",
       "0  506297 Livemarks with null site/feed uris caus...  \n",
       "1  506338 Enhance Crash Recovery to better help t...  \n",
       "2  506507 Dragging multiple bookmarks in the book...  \n",
       "3  506550 Unreliable Back Button navigating nytim...  \n",
       "4  506575 ALT + F4 when dropdown of autocomplete ...  "
      ]
     },
     "execution_count": 6,
     "metadata": {},
     "output_type": "execute_result"
    }
   ],
   "source": [
    "bugreports_final.head()"
   ]
  },
  {
   "cell_type": "code",
   "execution_count": 7,
   "metadata": {},
   "outputs": [
    {
     "name": "stdout",
     "output_type": "stream",
     "text": [
      "(94, 18)\n"
     ]
    }
   ],
   "source": [
    "brs_versions = ['48 Branch', '49 Branch', '50 Branch', '51 Branch']\n",
    "brs_status = ['NEW','RESOLVED','VERIFIED','REOPENED','ASSIGNED']\n",
    "brs_priority = ['P1', 'P2', 'P3']\n",
    "brs_resolutions = ['FIXED']\n",
    "brs_severities = ['major', 'normal', 'blocker', 'critical','enhancement']\n",
    "brs_isconfirmed = [True]\n",
    "selected_bugs = bugreports_final[(bugreports_final.Version.isin(brs_versions)) &\n",
    "                                 (bugreports_final.Status.isin(brs_status)) &\n",
    "                                 (bugreports_final.Priority.isin(brs_priority)) &\n",
    "                                 (bugreports_final.Resolution.isin(brs_resolutions)) &\n",
    "                                 (bugreports_final.Severity.isin(brs_severities)) &\n",
    "                                 (bugreports_final.Is_Confirmed.isin(brs_isconfirmed))\n",
    "                                ]\n",
    "print(selected_bugs.shape)"
   ]
  },
  {
   "cell_type": "markdown",
   "metadata": {},
   "source": [
    "#### Distribution of Length of First Comment"
   ]
  },
  {
   "cell_type": "code",
   "execution_count": 9,
   "metadata": {},
   "outputs": [
    {
     "data": {
      "text/plain": [
       "(array([26., 26., 21., 13.,  2.,  2.,  2.,  0.,  1.,  1.]),\n",
       " array([  78. ,  344.9,  611.8,  878.7, 1145.6, 1412.5, 1679.4, 1946.3,\n",
       "        2213.2, 2480.1, 2747. ]),\n",
       " <a list of 10 Patch objects>)"
      ]
     },
     "execution_count": 9,
     "metadata": {},
     "output_type": "execute_result"
    },
    {
     "data": {
      "image/png": "[encoded data removed]",
      "text/plain": [
       "<Figure size 432x288 with 1 Axes>"
      ]
     },
     "metadata": {
      "needs_background": "light"
     },
     "output_type": "display_data"
    }
   ],
   "source": [
    "plt.hist(selected_bugs.First_Comment_Text.apply(lambda x : len(x)))"
   ]
  },
  {
   "cell_type": "code",
   "execution_count": 47,
   "metadata": {},
   "outputs": [
    {
     "name": "stdout",
     "output_type": "stream",
     "text": [
      "49 Branch    13\n",
      "51 Branch    10\n",
      "50 Branch     9\n",
      "48 Branch     7\n",
      "Name: Version, dtype: int64\n"
     ]
    },
    {
     "data": {
      "text/plain": [
       "<matplotlib.axes._subplots.AxesSubplot at 0x7f289f4beef0>"
      ]
     },
     "metadata": {},
     "output_type": "display_data"
    },
    {
     "data": {
      "image/png": "[encoded data removed]",
      "text/plain": [
       "<Figure size 432x288 with 1 Axes>"
      ]
     },
     "metadata": {
      "needs_background": "light"
     },
     "output_type": "display_data"
    }
   ],
   "source": [
    "print(selected_bugs.Version.value_counts())\n",
    "display(sns.countplot(selected_bugs.Version))"
   ]
  },
  {
   "cell_type": "code",
   "execution_count": 46,
   "metadata": {},
   "outputs": [
    {
     "name": "stdout",
     "output_type": "stream",
     "text": [
      "RESOLVED    39\n",
      "Name: Status, dtype: int64\n"
     ]
    },
    {
     "data": {
      "text/plain": [
       "<matplotlib.axes._subplots.AxesSubplot at 0x7f289f168940>"
      ]
     },
     "metadata": {},
     "output_type": "display_data"
    },
    {
     "data": {
      "image/png": "[encoded data removed]",
      "text/plain": [
       "<Figure size 432x288 with 1 Axes>"
      ]
     },
     "metadata": {
      "needs_background": "light"
     },
     "output_type": "display_data"
    }
   ],
   "source": [
    "print(selected_bugs.Status.value_counts())\n",
    "display(sns.countplot(selected_bugs.Status))"
   ]
  },
  {
   "cell_type": "code",
   "execution_count": 45,
   "metadata": {},
   "outputs": [
    {
     "name": "stdout",
     "output_type": "stream",
     "text": [
      "P1    14\n",
      "P2    13\n",
      "P3    12\n",
      "Name: Priority, dtype: int64\n"
     ]
    },
    {
     "data": {
      "text/plain": [
       "<matplotlib.axes._subplots.AxesSubplot at 0x7f289f472a20>"
      ]
     },
     "metadata": {},
     "output_type": "display_data"
    },
    {
     "data": {
      "image/png": "[encoded data removed]",
      "text/plain": [
       "<Figure size 432x288 with 1 Axes>"
      ]
     },
     "metadata": {
      "needs_background": "light"
     },
     "output_type": "display_data"
    }
   ],
   "source": [
    "print(selected_bugs.Priority.value_counts())\n",
    "display(sns.countplot(selected_bugs.Priority))"
   ]
  },
  {
   "cell_type": "code",
   "execution_count": 44,
   "metadata": {},
   "outputs": [
    {
     "name": "stdout",
     "output_type": "stream",
     "text": [
      "FIXED    39\n",
      "Name: Resolution, dtype: int64\n"
     ]
    },
    {
     "data": {
      "text/plain": [
       "<matplotlib.axes._subplots.AxesSubplot at 0x7f289f162a90>"
      ]
     },
     "metadata": {},
     "output_type": "display_data"
    },
    {
     "data": {
      "image/png": "[encoded data removed]",
      "text/plain": [
       "<Figure size 432x288 with 1 Axes>"
      ]
     },
     "metadata": {
      "needs_background": "light"
     },
     "output_type": "display_data"
    }
   ],
   "source": [
    "print(selected_bugs.Resolution.value_counts())\n",
    "display(sns.countplot(selected_bugs.Resolution))"
   ]
  },
  {
   "cell_type": "code",
   "execution_count": 43,
   "metadata": {},
   "outputs": [
    {
     "name": "stdout",
     "output_type": "stream",
     "text": [
      "normal    38\n",
      "major      1\n",
      "Name: Severity, dtype: int64\n"
     ]
    },
    {
     "data": {
      "text/plain": [
       "<matplotlib.axes._subplots.AxesSubplot at 0x7f289f49e4a8>"
      ]
     },
     "metadata": {},
     "output_type": "display_data"
    },
    {
     "data": {
      "image/png": "[encoded data removed]",
      "text/plain": [
       "<Figure size 432x288 with 1 Axes>"
      ]
     },
     "metadata": {
      "needs_background": "light"
     },
     "output_type": "display_data"
    }
   ],
   "source": [
    "print(selected_bugs.Severity.value_counts())\n",
    "display(sns.countplot(selected_bugs.Severity))"
   ]
  },
  {
   "cell_type": "code",
   "execution_count": 50,
   "metadata": {},
   "outputs": [
    {
     "name": "stdout",
     "output_type": "stream",
     "text": [
      "True    39\n",
      "Name: Is_Confirmed, dtype: int64\n"
     ]
    },
    {
     "data": {
      "text/plain": [
       "<matplotlib.axes._subplots.AxesSubplot at 0x7f289f2cf668>"
      ]
     },
     "metadata": {},
     "output_type": "display_data"
    },
    {
     "data": {
      "image/png": "[encoded data removed]",
      "text/plain": [
       "<Figure size 432x288 with 1 Axes>"
      ]
     },
     "metadata": {
      "needs_background": "light"
     },
     "output_type": "display_data"
    }
   ],
   "source": [
    "print(selected_bugs.Is_Confirmed.value_counts())\n",
    "display(sns.countplot(selected_bugs.Is_Confirmed))"
   ]
  },
  {
   "cell_type": "code",
   "execution_count": 53,
   "metadata": {},
   "outputs": [
    {
     "data": {
      "text/html": [
       "<div>\n",
       "<style scoped>\n",
       "    .dataframe tbody tr th:only-of-type {\n",
       "        vertical-align: middle;\n",
       "    }\n",
       "\n",
       "    .dataframe tbody tr th {\n",
       "        vertical-align: top;\n",
       "    }\n",
       "\n",
       "    .dataframe thead th {\n",
       "        text-align: right;\n",
       "    }\n",
       "</style>\n",
       "<table border=\"1\" class=\"dataframe\">\n",
       "  <thead>\n",
       "    <tr style=\"text-align: right;\">\n",
       "      <th></th>\n",
       "      <th>Bug_Number</th>\n",
       "      <th>Summary</th>\n",
       "      <th>Version</th>\n",
       "      <th>First_Comment_Text</th>\n",
       "      <th>Priority</th>\n",
       "    </tr>\n",
       "  </thead>\n",
       "  <tbody>\n",
       "    <tr>\n",
       "      <th>9192</th>\n",
       "      <td>1181835</td>\n",
       "      <td>Provide a UI for migrating users' add-ons to w...</td>\n",
       "      <td>49 Branch</td>\n",
       "      <td>We're still not exactly sure how this would wo...</td>\n",
       "      <td>P2</td>\n",
       "    </tr>\n",
       "    <tr>\n",
       "      <th>11229</th>\n",
       "      <td>1267480</td>\n",
       "      <td>Intermittent browser/components/preferences/in...</td>\n",
       "      <td>48 Branch</td>\n",
       "      <td>https://treeherder.mozilla.org/logviewer.html#...</td>\n",
       "      <td>P3</td>\n",
       "    </tr>\n",
       "    <tr>\n",
       "      <th>11232</th>\n",
       "      <td>1267501</td>\n",
       "      <td>New Private Browsing start-page overflows off ...</td>\n",
       "      <td>48 Branch</td>\n",
       "      <td>STR:  1. Open a new private browsing window.  ...</td>\n",
       "      <td>P1</td>\n",
       "    </tr>\n",
       "    <tr>\n",
       "      <th>11375</th>\n",
       "      <td>1270274</td>\n",
       "      <td>Intermittent browser_share.jsuncaught exceptio...</td>\n",
       "      <td>49 Branch</td>\n",
       "      <td>https://treeherder.mozilla.org/logviewer.html#...</td>\n",
       "      <td>P3</td>\n",
       "    </tr>\n",
       "    <tr>\n",
       "      <th>11414</th>\n",
       "      <td>1270983</td>\n",
       "      <td>Intermittent browser_contextmenu.jsTest timed ...</td>\n",
       "      <td>49 Branch</td>\n",
       "      <td>https://treeherder.mozilla.org/logviewer.html#...</td>\n",
       "      <td>P3</td>\n",
       "    </tr>\n",
       "    <tr>\n",
       "      <th>11452</th>\n",
       "      <td>1271607</td>\n",
       "      <td>The new window's size is modified if the last ...</td>\n",
       "      <td>48 Branch</td>\n",
       "      <td>Created attachment 8750748 Recording #1.mp4  M...</td>\n",
       "      <td>P1</td>\n",
       "    </tr>\n",
       "    <tr>\n",
       "      <th>11695</th>\n",
       "      <td>1276120</td>\n",
       "      <td>Autocomplete suggestions just don't go away af...</td>\n",
       "      <td>48 Branch</td>\n",
       "      <td>Created attachment 8757112 screenshot 1 - Auto...</td>\n",
       "      <td>P2</td>\n",
       "    </tr>\n",
       "    <tr>\n",
       "      <th>11824</th>\n",
       "      <td>1278388</td>\n",
       "      <td>Permafailing on the change to firefox50: brows...</td>\n",
       "      <td>49 Branch</td>\n",
       "      <td>https://treeherder.mozilla.org/logviewer.html#...</td>\n",
       "      <td>P1</td>\n",
       "    </tr>\n",
       "    <tr>\n",
       "      <th>12084</th>\n",
       "      <td>1281190</td>\n",
       "      <td>Keep collecting telemetry for Permissions Noti...</td>\n",
       "      <td>49 Branch</td>\n",
       "      <td>POPUP_NOTIFICATION_STATS is expiring soon [1]....</td>\n",
       "      <td>P2</td>\n",
       "    </tr>\n",
       "    <tr>\n",
       "      <th>12250</th>\n",
       "      <td>1283542</td>\n",
       "      <td>Automigration from Chrome is broken</td>\n",
       "      <td>50 Branch</td>\n",
       "      <td>The code and tests expect to deal with profile...</td>\n",
       "      <td>P2</td>\n",
       "    </tr>\n",
       "    <tr>\n",
       "      <th>12355</th>\n",
       "      <td>1285041</td>\n",
       "      <td>Investigate Chrome profile migration importing...</td>\n",
       "      <td>50 Branch</td>\n",
       "      <td>After some feedback from our automigration pro...</td>\n",
       "      <td>P3</td>\n",
       "    </tr>\n",
       "    <tr>\n",
       "      <th>12531</th>\n",
       "      <td>1287687</td>\n",
       "      <td>Syncs happen every 90 seconds when stale devic...</td>\n",
       "      <td>48 Branch</td>\n",
       "      <td>Bug 1264498 (landed in 48) made a change to \"s...</td>\n",
       "      <td>P1</td>\n",
       "    </tr>\n",
       "    <tr>\n",
       "      <th>12534</th>\n",
       "      <td>1287748</td>\n",
       "      <td>Syncing away from lwtheme updates internal sta...</td>\n",
       "      <td>48 Branch</td>\n",
       "      <td>STR:  0. have machines (a) and (b) set up to s...</td>\n",
       "      <td>P1</td>\n",
       "    </tr>\n",
       "    <tr>\n",
       "      <th>12621</th>\n",
       "      <td>1289240</td>\n",
       "      <td>Services.search.getDefaultEngines() empty, sea...</td>\n",
       "      <td>49 Branch</td>\n",
       "      <td>Created attachment 8774524 screenshot reset se...</td>\n",
       "      <td>P1</td>\n",
       "    </tr>\n",
       "    <tr>\n",
       "      <th>12657</th>\n",
       "      <td>1289832</td>\n",
       "      <td>Open Link in New *Current Container* missing f...</td>\n",
       "      <td>50 Branch</td>\n",
       "      <td>Created attachment 8775235 issue.png  \"Open Li...</td>\n",
       "      <td>P2</td>\n",
       "    </tr>\n",
       "    <tr>\n",
       "      <th>13065</th>\n",
       "      <td>1295502</td>\n",
       "      <td>2.1 - 4.09% tart  / tresize / tsvgx  (linux64,...</td>\n",
       "      <td>51 Branch</td>\n",
       "      <td>Talos has detected a Firefox performance regre...</td>\n",
       "      <td>P1</td>\n",
       "    </tr>\n",
       "    <tr>\n",
       "      <th>13255</th>\n",
       "      <td>1297686</td>\n",
       "      <td>When multiple desktop files support the same p...</td>\n",
       "      <td>51 Branch</td>\n",
       "      <td>User Agent: Mozilla/5.0 (X11; Linux x86_64; rv...</td>\n",
       "      <td>P3</td>\n",
       "    </tr>\n",
       "    <tr>\n",
       "      <th>13533</th>\n",
       "      <td>1300738</td>\n",
       "      <td>Firefox post update corrupts Windows 10 user p...</td>\n",
       "      <td>48 Branch</td>\n",
       "      <td>User Agent: Mozilla/5.0 (Windows NT 6.1; WOW64...</td>\n",
       "      <td>P2</td>\n",
       "    </tr>\n",
       "    <tr>\n",
       "      <th>13580</th>\n",
       "      <td>1301421</td>\n",
       "      <td>browser.fixup.dns_first_for_single_words preve...</td>\n",
       "      <td>51 Branch</td>\n",
       "      <td>+++ This bug was initially created as a clone ...</td>\n",
       "      <td>P2</td>\n",
       "    </tr>\n",
       "    <tr>\n",
       "      <th>13672</th>\n",
       "      <td>1302468</td>\n",
       "      <td>Firefox Beta reports channel as 'release' when...</td>\n",
       "      <td>49 Branch</td>\n",
       "      <td>I'm not sure if this is a bug or should be con...</td>\n",
       "      <td>P3</td>\n",
       "    </tr>\n",
       "    <tr>\n",
       "      <th>13895</th>\n",
       "      <td>1305676</td>\n",
       "      <td>In some circumstances passive mixed content in...</td>\n",
       "      <td>51 Branch</td>\n",
       "      <td>http://searchfox.org/mozilla-central/rev/05ed8...</td>\n",
       "      <td>P3</td>\n",
       "    </tr>\n",
       "    <tr>\n",
       "      <th>13899</th>\n",
       "      <td>1305737</td>\n",
       "      <td>Change notification displayed when an incoming...</td>\n",
       "      <td>50 Branch</td>\n",
       "      <td>In beta 50.0b1 pl on OS X 10.11.6 after sendin...</td>\n",
       "      <td>P1</td>\n",
       "    </tr>\n",
       "    <tr>\n",
       "      <th>14325</th>\n",
       "      <td>1312018</td>\n",
       "      <td>Keyword search is always performed in lowercase</td>\n",
       "      <td>51 Branch</td>\n",
       "      <td>[Tracking Requested - why for this release]: U...</td>\n",
       "      <td>P2</td>\n",
       "    </tr>\n",
       "    <tr>\n",
       "      <th>14423</th>\n",
       "      <td>1313290</td>\n",
       "      <td>Use browser specific message manager in `Socia...</td>\n",
       "      <td>49 Branch</td>\n",
       "      <td>I noticed that `SocialShare.sharePage` sends s...</td>\n",
       "      <td>P1</td>\n",
       "    </tr>\n",
       "    <tr>\n",
       "      <th>14461</th>\n",
       "      <td>1313778</td>\n",
       "      <td>[Intermittent] Install Ecosia, Firebug, Theme ...</td>\n",
       "      <td>51 Branch</td>\n",
       "      <td>Created attachment 8805702 AddOnsContextMenu.j...</td>\n",
       "      <td>P3</td>\n",
       "    </tr>\n",
       "    <tr>\n",
       "      <th>14627</th>\n",
       "      <td>1316126</td>\n",
       "      <td>`_endRemoveTab` can get stuck in an infinite loop</td>\n",
       "      <td>49 Branch</td>\n",
       "      <td>A `TabClose` event listener can cause `_endRem...</td>\n",
       "      <td>P3</td>\n",
       "    </tr>\n",
       "    <tr>\n",
       "      <th>14859</th>\n",
       "      <td>1319433</td>\n",
       "      <td>Devices differ in Synced Tab and Send to Devic...</td>\n",
       "      <td>49 Branch</td>\n",
       "      <td>Created attachment 8813243 devices-mismatch.pn...</td>\n",
       "      <td>P1</td>\n",
       "    </tr>\n",
       "    <tr>\n",
       "      <th>15211</th>\n",
       "      <td>1323211</td>\n",
       "      <td>Change Sync datatype label from Tabs to Open tabs</td>\n",
       "      <td>50 Branch</td>\n",
       "      <td>In order to provide more clarity on what tab s...</td>\n",
       "      <td>P2</td>\n",
       "    </tr>\n",
       "    <tr>\n",
       "      <th>15938</th>\n",
       "      <td>1330745</td>\n",
       "      <td>When privacy.userContext.longPressBehavior is ...</td>\n",
       "      <td>50 Branch</td>\n",
       "      <td>We need some UX here. I suggest to add an item...</td>\n",
       "      <td>P3</td>\n",
       "    </tr>\n",
       "    <tr>\n",
       "      <th>16348</th>\n",
       "      <td>1335538</td>\n",
       "      <td>Request volume to profile.accounts.firefox.com...</td>\n",
       "      <td>51 Branch</td>\n",
       "      <td>We've noticed an increased number of requests ...</td>\n",
       "      <td>P1</td>\n",
       "    </tr>\n",
       "    <tr>\n",
       "      <th>16401</th>\n",
       "      <td>1336227</td>\n",
       "      <td>Show a blank window as soon as possible after ...</td>\n",
       "      <td>50 Branch</td>\n",
       "      <td>As part of our efforts to improve perceived pe...</td>\n",
       "      <td>P2</td>\n",
       "    </tr>\n",
       "    <tr>\n",
       "      <th>16504</th>\n",
       "      <td>1337682</td>\n",
       "      <td>using ctrl / shift + enter seems to save the U...</td>\n",
       "      <td>51 Branch</td>\n",
       "      <td>User Agent: Mozilla/5.0 (Windows NT 6.1; WOW64...</td>\n",
       "      <td>P1</td>\n",
       "    </tr>\n",
       "    <tr>\n",
       "      <th>17609</th>\n",
       "      <td>1352539</td>\n",
       "      <td>Move defaultenginename pref setting into list....</td>\n",
       "      <td>51 Branch</td>\n",
       "      <td>The goal of moving everything to list.json is ...</td>\n",
       "      <td>P1</td>\n",
       "    </tr>\n",
       "    <tr>\n",
       "      <th>18121</th>\n",
       "      <td>1357085</td>\n",
       "      <td>Confirm your account pref screen should no lon...</td>\n",
       "      <td>50 Branch</td>\n",
       "      <td>Created attachment 8858805 1080p.mov  Now that...</td>\n",
       "      <td>P2</td>\n",
       "    </tr>\n",
       "    <tr>\n",
       "      <th>18963</th>\n",
       "      <td>1365887</td>\n",
       "      <td>Can't open resource:///modules/ from the locat...</td>\n",
       "      <td>51 Branch</td>\n",
       "      <td>STR:  1. type \"resource:///modules/ in the loc...</td>\n",
       "      <td>P2</td>\n",
       "    </tr>\n",
       "    <tr>\n",
       "      <th>24395</th>\n",
       "      <td>1408361</td>\n",
       "      <td>Received tab is truncated prematurely in notif...</td>\n",
       "      <td>49 Branch</td>\n",
       "      <td>STEPS TO REPRODUCE 1. Be signed in to Sync on ...</td>\n",
       "      <td>P2</td>\n",
       "    </tr>\n",
       "    <tr>\n",
       "      <th>26788</th>\n",
       "      <td>1430603</td>\n",
       "      <td>Restrict BROWSER_*_DEFAULT probes to parent-pr...</td>\n",
       "      <td>49 Branch</td>\n",
       "      <td>Several \"browser is default\" probes are set to...</td>\n",
       "      <td>P3</td>\n",
       "    </tr>\n",
       "    <tr>\n",
       "      <th>29136</th>\n",
       "      <td>1449700</td>\n",
       "      <td>refactor addTab/moveTabTo</td>\n",
       "      <td>50 Branch</td>\n",
       "      <td>After digging into bug 1446913, I see that add...</td>\n",
       "      <td>P3</td>\n",
       "    </tr>\n",
       "    <tr>\n",
       "      <th>29320</th>\n",
       "      <td>1451475</td>\n",
       "      <td>Renew scalar browser.engagement.restored_pinne...</td>\n",
       "      <td>49 Branch</td>\n",
       "      <td>browser.engagement.restored_pinned_tabs_count ...</td>\n",
       "      <td>P1</td>\n",
       "    </tr>\n",
       "  </tbody>\n",
       "</table>\n",
       "</div>"
      ],
      "text/plain": [
       "       Bug_Number                                            Summary  \\\n",
       "9192      1181835  Provide a UI for migrating users' add-ons to w...   \n",
       "11229     1267480  Intermittent browser/components/preferences/in...   \n",
       "11232     1267501  New Private Browsing start-page overflows off ...   \n",
       "11375     1270274  Intermittent browser_share.jsuncaught exceptio...   \n",
       "11414     1270983  Intermittent browser_contextmenu.jsTest timed ...   \n",
       "11452     1271607  The new window's size is modified if the last ...   \n",
       "11695     1276120  Autocomplete suggestions just don't go away af...   \n",
       "11824     1278388  Permafailing on the change to firefox50: brows...   \n",
       "12084     1281190  Keep collecting telemetry for Permissions Noti...   \n",
       "12250     1283542                Automigration from Chrome is broken   \n",
       "12355     1285041  Investigate Chrome profile migration importing...   \n",
       "12531     1287687  Syncs happen every 90 seconds when stale devic...   \n",
       "12534     1287748  Syncing away from lwtheme updates internal sta...   \n",
       "12621     1289240  Services.search.getDefaultEngines() empty, sea...   \n",
       "12657     1289832  Open Link in New *Current Container* missing f...   \n",
       "13065     1295502  2.1 - 4.09% tart  / tresize / tsvgx  (linux64,...   \n",
       "13255     1297686  When multiple desktop files support the same p...   \n",
       "13533     1300738  Firefox post update corrupts Windows 10 user p...   \n",
       "13580     1301421  browser.fixup.dns_first_for_single_words preve...   \n",
       "13672     1302468  Firefox Beta reports channel as 'release' when...   \n",
       "13895     1305676  In some circumstances passive mixed content in...   \n",
       "13899     1305737  Change notification displayed when an incoming...   \n",
       "14325     1312018    Keyword search is always performed in lowercase   \n",
       "14423     1313290  Use browser specific message manager in `Socia...   \n",
       "14461     1313778  [Intermittent] Install Ecosia, Firebug, Theme ...   \n",
       "14627     1316126  `_endRemoveTab` can get stuck in an infinite loop   \n",
       "14859     1319433  Devices differ in Synced Tab and Send to Devic...   \n",
       "15211     1323211  Change Sync datatype label from Tabs to Open tabs   \n",
       "15938     1330745  When privacy.userContext.longPressBehavior is ...   \n",
       "16348     1335538  Request volume to profile.accounts.firefox.com...   \n",
       "16401     1336227  Show a blank window as soon as possible after ...   \n",
       "16504     1337682  using ctrl / shift + enter seems to save the U...   \n",
       "17609     1352539  Move defaultenginename pref setting into list....   \n",
       "18121     1357085  Confirm your account pref screen should no lon...   \n",
       "18963     1365887  Can't open resource:///modules/ from the locat...   \n",
       "24395     1408361  Received tab is truncated prematurely in notif...   \n",
       "26788     1430603  Restrict BROWSER_*_DEFAULT probes to parent-pr...   \n",
       "29136     1449700                          refactor addTab/moveTabTo   \n",
       "29320     1451475  Renew scalar browser.engagement.restored_pinne...   \n",
       "\n",
       "         Version                                 First_Comment_Text Priority  \n",
       "9192   49 Branch  We're still not exactly sure how this would wo...       P2  \n",
       "11229  48 Branch  https://treeherder.mozilla.org/logviewer.html#...       P3  \n",
       "11232  48 Branch  STR:  1. Open a new private browsing window.  ...       P1  \n",
       "11375  49 Branch  https://treeherder.mozilla.org/logviewer.html#...       P3  \n",
       "11414  49 Branch  https://treeherder.mozilla.org/logviewer.html#...       P3  \n",
       "11452  48 Branch  Created attachment 8750748 Recording #1.mp4  M...       P1  \n",
       "11695  48 Branch  Created attachment 8757112 screenshot 1 - Auto...       P2  \n",
       "11824  49 Branch  https://treeherder.mozilla.org/logviewer.html#...       P1  \n",
       "12084  49 Branch  POPUP_NOTIFICATION_STATS is expiring soon [1]....       P2  \n",
       "12250  50 Branch  The code and tests expect to deal with profile...       P2  \n",
       "12355  50 Branch  After some feedback from our automigration pro...       P3  \n",
       "12531  48 Branch  Bug 1264498 (landed in 48) made a change to \"s...       P1  \n",
       "12534  48 Branch  STR:  0. have machines (a) and (b) set up to s...       P1  \n",
       "12621  49 Branch  Created attachment 8774524 screenshot reset se...       P1  \n",
       "12657  50 Branch  Created attachment 8775235 issue.png  \"Open Li...       P2  \n",
       "13065  51 Branch  Talos has detected a Firefox performance regre...       P1  \n",
       "13255  51 Branch  User Agent: Mozilla/5.0 (X11; Linux x86_64; rv...       P3  \n",
       "13533  48 Branch  User Agent: Mozilla/5.0 (Windows NT 6.1; WOW64...       P2  \n",
       "13580  51 Branch  +++ This bug was initially created as a clone ...       P2  \n",
       "13672  49 Branch  I'm not sure if this is a bug or should be con...       P3  \n",
       "13895  51 Branch  http://searchfox.org/mozilla-central/rev/05ed8...       P3  \n",
       "13899  50 Branch  In beta 50.0b1 pl on OS X 10.11.6 after sendin...       P1  \n",
       "14325  51 Branch  [Tracking Requested - why for this release]: U...       P2  \n",
       "14423  49 Branch  I noticed that `SocialShare.sharePage` sends s...       P1  \n",
       "14461  51 Branch  Created attachment 8805702 AddOnsContextMenu.j...       P3  \n",
       "14627  49 Branch  A `TabClose` event listener can cause `_endRem...       P3  \n",
       "14859  49 Branch  Created attachment 8813243 devices-mismatch.pn...       P1  \n",
       "15211  50 Branch  In order to provide more clarity on what tab s...       P2  \n",
       "15938  50 Branch  We need some UX here. I suggest to add an item...       P3  \n",
       "16348  51 Branch  We've noticed an increased number of requests ...       P1  \n",
       "16401  50 Branch  As part of our efforts to improve perceived pe...       P2  \n",
       "16504  51 Branch  User Agent: Mozilla/5.0 (Windows NT 6.1; WOW64...       P1  \n",
       "17609  51 Branch  The goal of moving everything to list.json is ...       P1  \n",
       "18121  50 Branch  Created attachment 8858805 1080p.mov  Now that...       P2  \n",
       "18963  51 Branch  STR:  1. type \"resource:///modules/ in the loc...       P2  \n",
       "24395  49 Branch  STEPS TO REPRODUCE 1. Be signed in to Sync on ...       P2  \n",
       "26788  49 Branch  Several \"browser is default\" probes are set to...       P3  \n",
       "29136  50 Branch  After digging into bug 1446913, I see that add...       P3  \n",
       "29320  49 Branch  browser.engagement.restored_pinned_tabs_count ...       P1  "
      ]
     },
     "execution_count": 53,
     "metadata": {},
     "output_type": "execute_result"
    }
   ],
   "source": [
    "cols = ['Bug_Number','Summary','Version','First_Comment_Text','Priority']\n",
    "selected_bugs[cols].head(40)"
   ]
  }
 ],
 "metadata": {
  "kernelspec": {
   "display_name": "Python 3",
   "language": "python",
   "name": "python3"
  },
  "language_info": {
   "codemirror_mode": {
    "name": "ipython",
    "version": 3
   },
   "file_extension": ".py",
   "mimetype": "text/x-python",
   "name": "python",
   "nbconvert_exporter": "python",
   "pygments_lexer": "ipython3",
   "version": "3.6.6"
  }
 },
 "nbformat": 4,
 "nbformat_minor": 2
}

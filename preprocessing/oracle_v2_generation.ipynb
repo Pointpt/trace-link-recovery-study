{
 "cells": [
  {
   "cell_type": "markdown",
   "metadata": {},
   "source": [
    "# Introduction - Oracle Version 2\n",
    "\n",
    "Notebook to load **bug reports**, **test cases** datasets and the **feature_matrixes** from the expert and volunteers responses given in the PyBossa applications, and create from them the **oracle** dataset. \n",
    "\n",
    "In this notebook we create a version of the oracle based on the results obtained from the empirical study made with volunteers and the PyBossa application. The relationship between bug reports and test cases is established through the firefox features shared between both artifacts.\n",
    "\n",
    "Is expected that this oracle be more precise than the version created on the previous notebook (__oracle_v1__), once the trace links are created based on the existing relationship between the bug report and a given Firefox Feature."
   ]
  },
  {
   "cell_type": "markdown",
   "metadata": {},
   "source": [
    "# Load Libraries and Data"
   ]
  },
  {
   "cell_type": "code",
   "execution_count": 1,
   "metadata": {},
   "outputs": [],
   "source": [
    "from mod_finder_util import mod_finder_util\n",
    "mod_finder_util.add_modules_origin_search_path()\n",
    "\n",
    "import pandas as pd\n",
    "import numpy as np\n",
    "from sklearn.externals.joblib import Parallel, delayed\n",
    "from tqdm import tqdm\n",
    "\n",
    "from modules.utils import aux_functions\n",
    "from modules.utils import firefox_dataset_p2 as fd"
   ]
  },
  {
   "cell_type": "code",
   "execution_count": 3,
   "metadata": {},
   "outputs": [
    {
     "name": "stdout",
     "output_type": "stream",
     "text": [
      "TestCases.shape: (207, 12)\n",
      "BugReports.shape: (93, 18)\n",
      "Features.shape: (21, 8)\n",
      "\n",
      "Expert Matrix shape: (93, 21)\n",
      "Volunteers Matrix shape: (73, 21)\n"
     ]
    }
   ],
   "source": [
    "testcases = fd.read_testcases_df()\n",
    "bugreports = fd.read_bugreports_df()\n",
    "features = fd.read_features_df()\n",
    "\n",
    "print()\n",
    "expert_matrix = fd.read_feat_br_expert_df()\n",
    "volunteers_matrix = fd.read_feat_br_volunteers_df()"
   ]
  },
  {
   "cell_type": "markdown",
   "metadata": {},
   "source": [
    "# Oracles\n",
    "\n",
    "In this section we create both oracles Features x Bug Reports and Test Cases x Bug Reports oracles from the data obtained from the empirical study."
   ]
  },
  {
   "cell_type": "markdown",
   "metadata": {},
   "source": [
    "## Data Origins Enum\n",
    "\n",
    "Enumeration of the many data origins for the creation of the oracles"
   ]
  },
  {
   "cell_type": "code",
   "execution_count": 3,
   "metadata": {},
   "outputs": [],
   "source": [
    "from enum import Enum\n",
    "\n",
    "class DataOrigin(Enum):\n",
    "    VOLUNTEERS = \"VOLUNTEERS\"\n",
    "    EXPERT = \"EXPERT\"\n",
    "    VOLUNTEERS_AND_EXPERT = \"VOLUNTEERS_&_EXPERT\""
   ]
  },
  {
   "cell_type": "markdown",
   "metadata": {
    "toc-hr-collapsed": true
   },
   "source": [
    "## Features x Bug Reports Trace Matrix"
   ]
  },
  {
   "cell_type": "markdown",
   "metadata": {},
   "source": [
    "### Create Features x Bug Reports Trace Matrix"
   ]
  },
  {
   "cell_type": "code",
   "execution_count": 4,
   "metadata": {},
   "outputs": [
    {
     "name": "stdout",
     "output_type": "stream",
     "text": [
      "Features x Bug Reports Trace Matrix shape: (93, 21)\n",
      "(93, 21)\n"
     ]
    }
   ],
   "source": [
    "feat_br_matrix = pd.DataFrame(index=bugreports.br_name, \n",
    "                              columns=features.feat_name, \n",
    "                              data=np.zeros((len(bugreports),len(features)),dtype='int8'))\n",
    "\n",
    "print('Features x Bug Reports Trace Matrix shape: {}'.format(feat_br_matrix.shape))\n",
    "\n",
    "for idx,row in volunteers_matrix.iterrows():\n",
    "    for col in volunteers_matrix.columns:\n",
    "        br_name = 'BR_{}_SRC'.format(idx)\n",
    "        if expert_matrix.at[idx,col] == volunteers_matrix.at[idx,col]:\n",
    "            feat_br_matrix.at[br_name,col] = expert_matrix.at[idx,col]\n",
    "        else:\n",
    "            feat_br_matrix.at[br_name,col] = 0  \n",
    "\n",
    "print(feat_br_matrix.shape)"
   ]
  },
  {
   "cell_type": "markdown",
   "metadata": {},
   "source": [
    "### Save Features x Bug Reports Trace Matrix"
   ]
  },
  {
   "cell_type": "code",
   "execution_count": 5,
   "metadata": {},
   "outputs": [],
   "source": [
    "feat_br_matrix.T.to_csv('../data/mozilla_firefox_v2/firefoxDataset/oracle/output/firefox_v2/feat_br/br_2_feature_matrix_expert_volunteers.csv', index=True)"
   ]
  },
  {
   "cell_type": "markdown",
   "metadata": {
    "toc-hr-collapsed": true
   },
   "source": [
    "## Test Cases x Bug Reports Trace Matrix"
   ]
  },
  {
   "cell_type": "markdown",
   "metadata": {},
   "source": [
    "### Get Features by Bug Report"
   ]
  },
  {
   "cell_type": "code",
   "execution_count": 6,
   "metadata": {},
   "outputs": [
    {
     "data": {
      "text/html": [
       "<div>\n",
       "<style scoped>\n",
       "    .dataframe tbody tr th:only-of-type {\n",
       "        vertical-align: middle;\n",
       "    }\n",
       "\n",
       "    .dataframe tbody tr th {\n",
       "        vertical-align: top;\n",
       "    }\n",
       "\n",
       "    .dataframe thead th {\n",
       "        text-align: right;\n",
       "    }\n",
       "</style>\n",
       "<table border=\"1\" class=\"dataframe\">\n",
       "  <thead>\n",
       "    <tr style=\"text-align: right;\">\n",
       "      <th></th>\n",
       "      <th>Bug_Number</th>\n",
       "      <th>Features_IDs_exp_vol_m</th>\n",
       "      <th>Features_IDs_exp_m</th>\n",
       "      <th>Features_IDs_vol_m</th>\n",
       "    </tr>\n",
       "  </thead>\n",
       "  <tbody>\n",
       "    <tr>\n",
       "      <th>0</th>\n",
       "      <td>1181835</td>\n",
       "      <td>6</td>\n",
       "      <td>6</td>\n",
       "      <td>6</td>\n",
       "    </tr>\n",
       "    <tr>\n",
       "      <th>1</th>\n",
       "      <td>1248267</td>\n",
       "      <td></td>\n",
       "      <td></td>\n",
       "      <td>4</td>\n",
       "    </tr>\n",
       "    <tr>\n",
       "      <th>2</th>\n",
       "      <td>1248268</td>\n",
       "      <td></td>\n",
       "      <td></td>\n",
       "      <td></td>\n",
       "    </tr>\n",
       "    <tr>\n",
       "      <th>3</th>\n",
       "      <td>1257087</td>\n",
       "      <td>1</td>\n",
       "      <td>1</td>\n",
       "      <td>1</td>\n",
       "    </tr>\n",
       "    <tr>\n",
       "      <th>4</th>\n",
       "      <td>1264988</td>\n",
       "      <td></td>\n",
       "      <td></td>\n",
       "      <td></td>\n",
       "    </tr>\n",
       "  </tbody>\n",
       "</table>\n",
       "</div>"
      ],
      "text/plain": [
       "   Bug_Number Features_IDs_exp_vol_m Features_IDs_exp_m Features_IDs_vol_m\n",
       "0     1181835                      6                  6                  6\n",
       "1     1248267                                                            4\n",
       "2     1248268                                                             \n",
       "3     1257087                      1                  1                  1\n",
       "4     1264988                                                             "
      ]
     },
     "execution_count": 6,
     "metadata": {},
     "output_type": "execute_result"
    }
   ],
   "source": [
    "def get_features(br_id, data_origin):\n",
    "    features_ids = \"\"\n",
    "    for col in volunteers_matrix.columns:\n",
    "        if data_origin == DataOrigin.VOLUNTEERS_AND_EXPERT:\n",
    "            if expert_matrix.at[br_id, col] == 1 and volunteers_matrix.at[br_id, col] == 1:\n",
    "                if features_ids == \"\":\n",
    "                    features_ids = str(expert_matrix.columns.get_loc(col) + 1)\n",
    "                else:\n",
    "                    features_ids = features_ids + \" \" + str(expert_matrix.columns.get_loc(col) + 1)\n",
    "        elif data_origin == DataOrigin.EXPERT:\n",
    "            if expert_matrix.at[br_id, col] == 1:\n",
    "                if features_ids == \"\":\n",
    "                    features_ids = str(expert_matrix.columns.get_loc(col) + 1)\n",
    "                else:\n",
    "                    features_ids = features_ids + \" \" + str(expert_matrix.columns.get_loc(col) + 1)\n",
    "        elif data_origin == DataOrigin.VOLUNTEERS:\n",
    "            if volunteers_matrix.at[br_id, col] == 1:\n",
    "                if features_ids == \"\":\n",
    "                    features_ids = str(volunteers_matrix.columns.get_loc(col) + 1)\n",
    "                else:\n",
    "                    features_ids = features_ids + \" \" + str(volunteers_matrix.columns.get_loc(col) + 1)\n",
    "            \n",
    "    return features_ids"
   ]
  },
  {
   "cell_type": "markdown",
   "metadata": {},
   "source": [
    "### Get Trace Links between Bug Reports and Features \n",
    "\n",
    "**Generate AuxDf**"
   ]
  },
  {
   "cell_type": "code",
   "execution_count": null,
   "metadata": {},
   "outputs": [],
   "source": [
    "# TODO"
   ]
  },
  {
   "cell_type": "code",
   "execution_count": null,
   "metadata": {},
   "outputs": [],
   "source": [
    "matrices_names = [('exp_vol_m', DataOrigin.VOLUNTEERS_AND_EXPERT),\n",
    "                  ('exp_m', DataOrigin.EXPERT),\n",
    "                  ('vol_m', DataOrigin.VOLUNTEERS)]\n",
    "\n",
    "aux_df = pd.DataFrame(columns=['Bug_Number','Features_IDs_exp_vol_m',\n",
    "                               'Features_IDs_exp_m','Features_IDs_vol_m'])\n",
    "\n",
    "aux_df['Bug_Number'] = bugreports.Bug_Number\n",
    "\n",
    "for br_id in volunteers_matrix.index:\n",
    "    for idx2, br in bugreports.iterrows():\n",
    "        if br.Bug_Number == br_id:\n",
    "            for mat_code,d_origin in matrices_names:\n",
    "                aux_df.at[idx2, 'Features_IDs_'+mat_code] = get_features(br_id, data_origin=d_origin)\n",
    "\n",
    "aux_df[['Bug_Number','Features_IDs_exp_vol_m','Features_IDs_exp_m','Features_IDs_vol_m']].head()"
   ]
  },
  {
   "cell_type": "markdown",
   "metadata": {},
   "source": [
    "### Save Aux_Df Dataframe"
   ]
  },
  {
   "cell_type": "code",
   "execution_count": null,
   "metadata": {},
   "outputs": [],
   "source": [
    "aux_df.to_csv('../data/mozilla_firefox_v2/firefoxDataset/oracle/output/firefox_v2/aux_data/aux_df.csv')"
   ]
  },
  {
   "cell_type": "markdown",
   "metadata": {},
   "source": [
    "### Checking Link Condition Function\n",
    "\n",
    "Check link condition function to decide if a given cell in the oracle has a positive link (1) or a negative link (0)."
   ]
  },
  {
   "cell_type": "code",
   "execution_count": 7,
   "metadata": {},
   "outputs": [],
   "source": [
    "def check_link_condition(br, tc, data_origin):\n",
    "    col_name = \"\"\n",
    "    if data_origin == DataOrigin.VOLUNTEERS:\n",
    "        col_name = \"Features_IDs_vol_m\"\n",
    "    elif data_origin == DataOrigin.EXPERT:\n",
    "        col_name = \"Features_IDs_exp_m\"\n",
    "    elif data_origin == DataOrigin.VOLUNTEERS_AND_EXPERT:\n",
    "        col_name = \"Features_IDs_exp_vol_m\"\n",
    "    \n",
    "    if str(tc.Feature_ID) in br[col_name].split(\" \"):\n",
    "        return True\n",
    "    return False"
   ]
  },
  {
   "cell_type": "markdown",
   "metadata": {},
   "source": [
    "### Generate Oracles"
   ]
  },
  {
   "cell_type": "code",
   "execution_count": 8,
   "metadata": {},
   "outputs": [
    {
     "name": "stderr",
     "output_type": "stream",
     "text": [
      "93it [00:01, 46.01it/s]\n",
      "93it [00:01, 47.36it/s]\n",
      "93it [00:01, 48.03it/s]"
     ]
    },
    {
     "name": "stdout",
     "output_type": "stream",
     "text": [
      "oracle_volunteers_df.shape: (207, 93)\n",
      "oracle_expert_df.shape: (207, 93)\n",
      "oracle_expert_volunteers_df.shape: (207, 93)\n"
     ]
    },
    {
     "name": "stderr",
     "output_type": "stream",
     "text": [
      "\n"
     ]
    }
   ],
   "source": [
    "def generate_oracle(data_origin):\n",
    "    oracle_df = pd.DataFrame(columns=bugreports.br_name, index=testcases.tc_name, data=np.zeros(shape=(len(testcases),len(bugreports))), dtype='int8')\n",
    "    for idx_1,br in tqdm(bugreports.iterrows()):\n",
    "        for idx_2,tc in testcases.iterrows():\n",
    "            if check_link_condition(br, tc, data_origin):\n",
    "                oracle_df.at[tc.tc_name, br.br_name] = 1\n",
    "            else:\n",
    "                oracle_df.at[tc.tc_name, br.br_name] = 0\n",
    "    \n",
    "    return oracle_df\n",
    "\n",
    "oracle_volunteers_df = generate_oracle(DataOrigin.VOLUNTEERS)\n",
    "oracle_expert_df = generate_oracle(DataOrigin.EXPERT)\n",
    "oracle_expert_volunteers_df = generate_oracle(DataOrigin.VOLUNTEERS_AND_EXPERT)\n",
    "\n",
    "print('oracle_volunteers_df.shape: {}'.format(oracle_volunteers_df.shape))\n",
    "print('oracle_expert_df.shape: {}'.format(oracle_expert_df.shape))\n",
    "print('oracle_expert_volunteers_df.shape: {}'.format(oracle_expert_volunteers_df.shape))"
   ]
  },
  {
   "cell_type": "markdown",
   "metadata": {},
   "source": [
    "### Save Oracles"
   ]
  },
  {
   "cell_type": "code",
   "execution_count": 10,
   "metadata": {},
   "outputs": [],
   "source": [
    "oracle_volunteers_df.to_csv('../data/mozilla_firefox_v2/firefoxDataset/oracle/output/firefox_v2/tc_br/oracle_volunteers.csv')\n",
    "oracle_expert_df.to_csv('../data/mozilla_firefox_v2/firefoxDataset/oracle/output/firefox_v2/tc_br/oracle_expert.csv')\n",
    "oracle_expert_volunteers_df.to_csv('../data/mozilla_firefox_v2/firefoxDataset/oracle/output/firefox_v2/tc_br/oracle_expert_volunteers.csv')"
   ]
  }
 ],
 "metadata": {
  "kernelspec": {
   "display_name": "Python 3",
   "language": "python",
   "name": "python3"
  },
  "language_info": {
   "codemirror_mode": {
    "name": "ipython",
    "version": 3
   },
   "file_extension": ".py",
   "mimetype": "text/x-python",
   "name": "python",
   "nbconvert_exporter": "python",
   "pygments_lexer": "ipython3",
   "version": "3.6.6"
  }
 },
 "nbformat": 4,
 "nbformat_minor": 2
}

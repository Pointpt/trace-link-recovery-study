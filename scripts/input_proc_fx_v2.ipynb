{
 "cells": [
  {
   "cell_type": "code",
   "execution_count": 204,
   "metadata": {},
   "outputs": [
    {
     "name": "stdout",
     "output_type": "stream",
     "text": [
      "Test Cases Shape: (207, 8)\n",
      "Bug Reports shape: (35955, 10)\n"
     ]
    }
   ],
   "source": [
    "import pandas as pd\n",
    "\n",
    "testcases = pd.read_csv('../data/mozilla_firefox/firefoxDataset/docs_english/TC/script/testcases.csv')\n",
    "print('Test Cases Shape: {}'.format(testcases.shape))\n",
    "\n",
    "bugreports_p1 = pd.read_csv('../data/mozilla_firefox/firefoxDataset/docs_english/BR_2/all_bugs_p1.csv', sep=\"|\")\n",
    "bugreports_p2 = pd.read_csv('../data/mozilla_firefox/firefoxDataset/docs_english/BR_2/all_bugs_p2.csv', sep='|')\n",
    "bugreports_p3 = pd.read_csv('../data/mozilla_firefox/firefoxDataset/docs_english/BR_2/all_bugs_p3.csv', sep='|')\n",
    "\n",
    "bugreports = pd.concat([bugreports_p1, bugreports_p2, bugreports_p3])\n",
    "print('Bug Reports shape: {}'.format(br_df.shape))"
   ]
  },
  {
   "cell_type": "code",
   "execution_count": 205,
   "metadata": {},
   "outputs": [
    {
     "data": {
      "text/html": [
       "<div>\n",
       "<style scoped>\n",
       "    .dataframe tbody tr th:only-of-type {\n",
       "        vertical-align: middle;\n",
       "    }\n",
       "\n",
       "    .dataframe tbody tr th {\n",
       "        vertical-align: top;\n",
       "    }\n",
       "\n",
       "    .dataframe thead th {\n",
       "        text-align: right;\n",
       "    }\n",
       "</style>\n",
       "<table border=\"1\" class=\"dataframe\">\n",
       "  <thead>\n",
       "    <tr style=\"text-align: right;\">\n",
       "      <th></th>\n",
       "      <th>TC_Number</th>\n",
       "      <th>TestDay</th>\n",
       "      <th>Gen_Title</th>\n",
       "      <th>Crt_Nr</th>\n",
       "      <th>Title</th>\n",
       "      <th>Preconditions</th>\n",
       "      <th>Steps</th>\n",
       "      <th>Expected_Result</th>\n",
       "    </tr>\n",
       "  </thead>\n",
       "  <tbody>\n",
       "    <tr>\n",
       "      <th>0</th>\n",
       "      <td>1</td>\n",
       "      <td>20181221</td>\n",
       "      <td>&lt;notificationbox&gt; \\nand\\n &lt;notification&gt;\\n cha...</td>\n",
       "      <td>1</td>\n",
       "      <td>Notification - Popup Block</td>\n",
       "      <td>NaN</td>\n",
       "      <td>1. Launch Firefox\\n2. Navigate to http://www.p...</td>\n",
       "      <td>1. Firefox is successfully launched\\n9. The al...</td>\n",
       "    </tr>\n",
       "    <tr>\n",
       "      <th>1</th>\n",
       "      <td>2</td>\n",
       "      <td>20181221</td>\n",
       "      <td>&lt;notificationbox&gt; \\nand\\n &lt;notification&gt;\\n cha...</td>\n",
       "      <td>2</td>\n",
       "      <td>Notification - Process Hang</td>\n",
       "      <td>NaN</td>\n",
       "      <td>1. Launch Firefox\\n2. In the URL bar, navigate...</td>\n",
       "      <td>1. Firefox is successfully launched\\n2. Firefo...</td>\n",
       "    </tr>\n",
       "    <tr>\n",
       "      <th>2</th>\n",
       "      <td>3</td>\n",
       "      <td>20181221</td>\n",
       "      <td>&lt;notificationbox&gt; \\nand\\n &lt;notification&gt;\\n cha...</td>\n",
       "      <td>3</td>\n",
       "      <td>Verify Notifications appear in RTL Mode</td>\n",
       "      <td>NaN</td>\n",
       "      <td>1. Launch Firefox\\n2. In about:config, change ...</td>\n",
       "      <td>1. Firefox is successfully launched\\n2.The for...</td>\n",
       "    </tr>\n",
       "    <tr>\n",
       "      <th>3</th>\n",
       "      <td>4</td>\n",
       "      <td>20181221</td>\n",
       "      <td>&lt;notificationbox&gt; \\nand\\n &lt;notification&gt;\\n cha...</td>\n",
       "      <td>4</td>\n",
       "      <td>Verify Notifications appear in High Contrast M...</td>\n",
       "      <td>NaN</td>\n",
       "      <td>1. While the browser is in High Contrast Mode,...</td>\n",
       "      <td>1. Firefox has been launched.\\n2. Firefox begi...</td>\n",
       "    </tr>\n",
       "    <tr>\n",
       "      <th>4</th>\n",
       "      <td>5</td>\n",
       "      <td>20181221</td>\n",
       "      <td>&lt;notificationbox&gt; \\nand\\n &lt;notification&gt;\\n cha...</td>\n",
       "      <td>5</td>\n",
       "      <td>Verify notifications react to differing Zoom l...</td>\n",
       "      <td>NaN</td>\n",
       "      <td>1. While the browser is in High Contrast Mode,...</td>\n",
       "      <td>1. Firefox has been launched.\\n2. Firefox begi...</td>\n",
       "    </tr>\n",
       "  </tbody>\n",
       "</table>\n",
       "</div>"
      ],
      "text/plain": [
       "   TC_Number   TestDay                                          Gen_Title  \\\n",
       "0          1  20181221  <notificationbox> \\nand\\n <notification>\\n cha...   \n",
       "1          2  20181221  <notificationbox> \\nand\\n <notification>\\n cha...   \n",
       "2          3  20181221  <notificationbox> \\nand\\n <notification>\\n cha...   \n",
       "3          4  20181221  <notificationbox> \\nand\\n <notification>\\n cha...   \n",
       "4          5  20181221  <notificationbox> \\nand\\n <notification>\\n cha...   \n",
       "\n",
       "   Crt_Nr                                              Title Preconditions  \\\n",
       "0       1                         Notification - Popup Block           NaN   \n",
       "1       2                        Notification - Process Hang           NaN   \n",
       "2       3            Verify Notifications appear in RTL Mode           NaN   \n",
       "3       4  Verify Notifications appear in High Contrast M...           NaN   \n",
       "4       5  Verify notifications react to differing Zoom l...           NaN   \n",
       "\n",
       "                                               Steps  \\\n",
       "0  1. Launch Firefox\\n2. Navigate to http://www.p...   \n",
       "1  1. Launch Firefox\\n2. In the URL bar, navigate...   \n",
       "2  1. Launch Firefox\\n2. In about:config, change ...   \n",
       "3  1. While the browser is in High Contrast Mode,...   \n",
       "4  1. While the browser is in High Contrast Mode,...   \n",
       "\n",
       "                                     Expected_Result  \n",
       "0  1. Firefox is successfully launched\\n9. The al...  \n",
       "1  1. Firefox is successfully launched\\n2. Firefo...  \n",
       "2  1. Firefox is successfully launched\\n2.The for...  \n",
       "3  1. Firefox has been launched.\\n2. Firefox begi...  \n",
       "4  1. Firefox has been launched.\\n2. Firefox begi...  "
      ]
     },
     "execution_count": 205,
     "metadata": {},
     "output_type": "execute_result"
    }
   ],
   "source": [
    "testcases.head()"
   ]
  },
  {
   "cell_type": "code",
   "execution_count": 206,
   "metadata": {},
   "outputs": [
    {
     "data": {
      "text/html": [
       "<div>\n",
       "<style scoped>\n",
       "    .dataframe tbody tr th:only-of-type {\n",
       "        vertical-align: middle;\n",
       "    }\n",
       "\n",
       "    .dataframe tbody tr th {\n",
       "        vertical-align: top;\n",
       "    }\n",
       "\n",
       "    .dataframe thead th {\n",
       "        text-align: right;\n",
       "    }\n",
       "</style>\n",
       "<table border=\"1\" class=\"dataframe\">\n",
       "  <thead>\n",
       "    <tr style=\"text-align: right;\">\n",
       "      <th></th>\n",
       "      <th>Bug_Number</th>\n",
       "      <th>Summary</th>\n",
       "      <th>Platform</th>\n",
       "      <th>Component</th>\n",
       "      <th>Version</th>\n",
       "      <th>Creation_Time</th>\n",
       "      <th>Whiteboard</th>\n",
       "      <th>QA_Whiteboard</th>\n",
       "      <th>First_Comment_Text</th>\n",
       "      <th>First_Comment_Creation_Time</th>\n",
       "    </tr>\n",
       "  </thead>\n",
       "  <tbody>\n",
       "    <tr>\n",
       "      <th>0</th>\n",
       "      <td>506297</td>\n",
       "      <td>Livemarks with null site/feed uris cause sync ...</td>\n",
       "      <td>All</td>\n",
       "      <td>Sync</td>\n",
       "      <td>unspecified</td>\n",
       "      <td>2009-07-24T17:08:43Z</td>\n",
       "      <td>NaN</td>\n",
       "      <td>NaN</td>\n",
       "      <td>2009-07-24 09:54:28     FaultTolerance       D...</td>\n",
       "      <td>2009-07-24T17:08:43Z</td>\n",
       "    </tr>\n",
       "    <tr>\n",
       "      <th>1</th>\n",
       "      <td>506338</td>\n",
       "      <td>Enhance Crash Recovery to better help the user</td>\n",
       "      <td>All</td>\n",
       "      <td>Session Restore</td>\n",
       "      <td>Trunk</td>\n",
       "      <td>2009-07-24T19:17:21Z</td>\n",
       "      <td>[crashkill][crashkill-metrics]</td>\n",
       "      <td>NaN</td>\n",
       "      <td>When our users crash they are pretty much in t...</td>\n",
       "      <td>2009-07-24T19:17:21Z</td>\n",
       "    </tr>\n",
       "    <tr>\n",
       "      <th>2</th>\n",
       "      <td>506507</td>\n",
       "      <td>Dragging multiple bookmarks in the bookmarks s...</td>\n",
       "      <td>x86</td>\n",
       "      <td>Bookmarks &amp; History</td>\n",
       "      <td>Trunk</td>\n",
       "      <td>2009-07-26T06:16:02Z</td>\n",
       "      <td>NaN</td>\n",
       "      <td>NaN</td>\n",
       "      <td>User-Agent:       Mozilla/5.0 (Windows; U; Win...</td>\n",
       "      <td>2009-07-26T06:16:02Z</td>\n",
       "    </tr>\n",
       "    <tr>\n",
       "      <th>3</th>\n",
       "      <td>506550</td>\n",
       "      <td>Unreliable Back Button navigating nytimes.com</td>\n",
       "      <td>x86</td>\n",
       "      <td>Extension Compatibility</td>\n",
       "      <td>3.5 Branch</td>\n",
       "      <td>2009-07-26T16:12:10Z</td>\n",
       "      <td>[caused by adblock plus][platform-rel-NYTimes]</td>\n",
       "      <td>NaN</td>\n",
       "      <td>User-Agent:       Mozilla/5.0 (Windows; U; Win...</td>\n",
       "      <td>2009-07-26T16:12:10Z</td>\n",
       "    </tr>\n",
       "    <tr>\n",
       "      <th>4</th>\n",
       "      <td>506575</td>\n",
       "      <td>ALT + F4 when dropdown of autocomplete is open...</td>\n",
       "      <td>x86</td>\n",
       "      <td>Address Bar</td>\n",
       "      <td>3.5 Branch</td>\n",
       "      <td>2009-07-26T20:14:54Z</td>\n",
       "      <td>NaN</td>\n",
       "      <td>NaN</td>\n",
       "      <td>Pressing ALT + F4 when the autocomplete dropdo...</td>\n",
       "      <td>2009-07-26T20:14:54Z</td>\n",
       "    </tr>\n",
       "  </tbody>\n",
       "</table>\n",
       "</div>"
      ],
      "text/plain": [
       "   Bug_Number                                            Summary Platform  \\\n",
       "0      506297  Livemarks with null site/feed uris cause sync ...      All   \n",
       "1      506338     Enhance Crash Recovery to better help the user      All   \n",
       "2      506507  Dragging multiple bookmarks in the bookmarks s...      x86   \n",
       "3      506550      Unreliable Back Button navigating nytimes.com      x86   \n",
       "4      506575  ALT + F4 when dropdown of autocomplete is open...      x86   \n",
       "\n",
       "                 Component      Version         Creation_Time  \\\n",
       "0                     Sync  unspecified  2009-07-24T17:08:43Z   \n",
       "1          Session Restore        Trunk  2009-07-24T19:17:21Z   \n",
       "2      Bookmarks & History        Trunk  2009-07-26T06:16:02Z   \n",
       "3  Extension Compatibility   3.5 Branch  2009-07-26T16:12:10Z   \n",
       "4              Address Bar   3.5 Branch  2009-07-26T20:14:54Z   \n",
       "\n",
       "                                       Whiteboard QA_Whiteboard  \\\n",
       "0                                             NaN           NaN   \n",
       "1                  [crashkill][crashkill-metrics]           NaN   \n",
       "2                                             NaN           NaN   \n",
       "3  [caused by adblock plus][platform-rel-NYTimes]           NaN   \n",
       "4                                             NaN           NaN   \n",
       "\n",
       "                                  First_Comment_Text  \\\n",
       "0  2009-07-24 09:54:28     FaultTolerance       D...   \n",
       "1  When our users crash they are pretty much in t...   \n",
       "2  User-Agent:       Mozilla/5.0 (Windows; U; Win...   \n",
       "3  User-Agent:       Mozilla/5.0 (Windows; U; Win...   \n",
       "4  Pressing ALT + F4 when the autocomplete dropdo...   \n",
       "\n",
       "  First_Comment_Creation_Time  \n",
       "0        2009-07-24T17:08:43Z  \n",
       "1        2009-07-24T19:17:21Z  \n",
       "2        2009-07-26T06:16:02Z  \n",
       "3        2009-07-26T16:12:10Z  \n",
       "4        2009-07-26T20:14:54Z  "
      ]
     },
     "execution_count": 206,
     "metadata": {},
     "output_type": "execute_result"
    }
   ],
   "source": [
    "bugreports.head()"
   ]
  },
  {
   "cell_type": "markdown",
   "metadata": {},
   "source": [
    "#### Bug Reports Names and Descriptions"
   ]
  },
  {
   "cell_type": "code",
   "execution_count": 207,
   "metadata": {},
   "outputs": [],
   "source": [
    "bugreports['br_name'] = bugreports.apply(lambda row : 'BR_' + str(row[0]) + '_SRC', axis=1)\n",
    "bugreports['br_desc'] = bugreports.apply(lambda row : ' '.join([str(el) for el in row]), axis=1) "
   ]
  },
  {
   "cell_type": "markdown",
   "metadata": {},
   "source": [
    "#### Test Cases Names and Descriptions"
   ]
  },
  {
   "cell_type": "code",
   "execution_count": 208,
   "metadata": {},
   "outputs": [],
   "source": [
    "testcases['tc_name'] = testcases.apply(lambda row : 'TC_' + str(row[0]) + '_TRG', axis=1)\n",
    "testcases['tc_desc'] = testcases.apply(lambda row : ' '.join([str(el) for el in row]), axis=1)"
   ]
  },
  {
   "cell_type": "markdown",
   "metadata": {},
   "source": [
    "#### Create Oracle"
   ]
  },
  {
   "cell_type": "code",
   "execution_count": 210,
   "metadata": {},
   "outputs": [
    {
     "data": {
      "text/plain": [
       "array(['unspecified', 'Trunk', '3.5 Branch', '3.6 Branch', '3.0 Branch',\n",
       "       '9 Branch', '45 Branch', '4.0 Branch', '43 Branch', '6 Branch',\n",
       "       '57 Branch', '17 Branch', '5 Branch', '14 Branch', '50 Branch',\n",
       "       '47 Branch', '8 Branch', '7 Branch', '10 Branch', '11 Branch',\n",
       "       '12 Branch', '13 Branch', '16 Branch', '15 Branch', '48 Branch',\n",
       "       '24 Branch', '21 Branch', '18 Branch', '19 Branch', '31 Branch',\n",
       "       '23 Branch', '20 Branch', '1.0 Branch', '22 Branch', '46 Branch',\n",
       "       '54 Branch', '25 Branch', '35 Branch', '55 Branch', '36 Branch',\n",
       "       '26 Branch', '27 Branch', '28 Branch', '29 Branch', '30 Branch',\n",
       "       '32 Branch', '34 Branch', 'other', '33 Branch', '42 Branch',\n",
       "       '39 Branch', '1.5.0.x Branch', '37 Branch', '40 Branch',\n",
       "       '38 Branch', '41 Branch', '49 Branch', '52 Branch', '51 Branch',\n",
       "       '44 Branch', '64 Branch', '65 Branch', '2.0 Branch', '53 Branch',\n",
       "       nan, '61 Branch', '63 Branch', '56 Branch', '59 Branch',\n",
       "       '58 Branch', '60 Branch', '62 Branch', '66 Branch'], dtype=object)"
      ]
     },
     "execution_count": 210,
     "metadata": {},
     "output_type": "execute_result"
    }
   ],
   "source": [
    "bugreports.Version.unique()"
   ]
  },
  {
   "cell_type": "code",
   "execution_count": null,
   "metadata": {},
   "outputs": [],
   "source": [
    "firefox_versions = ['48 Branch', '49 Branch', '50 Branch', '51 Branch']"
   ]
  }
 ],
 "metadata": {
  "kernelspec": {
   "display_name": "Python 3",
   "language": "python",
   "name": "python3"
  },
  "language_info": {
   "codemirror_mode": {
    "name": "ipython",
    "version": 3
   },
   "file_extension": ".py",
   "mimetype": "text/x-python",
   "name": "python",
   "nbconvert_exporter": "python",
   "pygments_lexer": "ipython3",
   "version": "3.6.6"
  }
 },
 "nbformat": 4,
 "nbformat_minor": 2
}
